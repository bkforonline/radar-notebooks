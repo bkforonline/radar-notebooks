{
 "cells": [
  {
   "cell_type": "markdown",
   "metadata": {},
   "source": [
    "# Arbitrary Waveform\n",
    "\n",
    "<a href=\"https://rookiepeng.github.io/radarsimpy/\" target=\"_blank\" rel=\"nofollow\"><img src=\"https://img.shields.io/badge/Documentation-latest-brightgree?style=flat&logo=read-the-docs\" height=\"20\" align=\"left\"></a>\n",
    "\n",
    "<br></br>\n",
    "[`RadarSimPy`](https://github.com/rookiepeng/radarsimpy) supports the simulation of any arbitrary waveforms. You can specify the waveform by defining the frequency versus time curve. One of the example of using the arbitrary waveform feature is simulating the effect on a non-linear chirp in an FMCW radar.\n",
    "\n",
    "## Radar Model\n",
    "\n",
    "### Non-linear chirp\n",
    "\n",
    "The chirp can be defined by frequency versus time."
   ]
  },
  {
   "cell_type": "code",
   "execution_count": 1,
   "metadata": {},
   "outputs": [],
   "source": [
    "import numpy as np\n",
    "\n",
    "freq_nonlinear = np.array([\n",
    "    2.40750000e+10, 2.40760901e+10, 2.40771786e+10, 2.40782654e+10,\n",
    "    2.40793506e+10, 2.40804341e+10, 2.40815161e+10, 2.40825964e+10,\n",
    "    2.40836750e+10, 2.40847521e+10, 2.40858275e+10, 2.40869012e+10,\n",
    "    2.40879734e+10, 2.40890439e+10, 2.40901127e+10, 2.40911800e+10,\n",
    "    2.40922456e+10, 2.40933096e+10, 2.40943719e+10, 2.40954326e+10,\n",
    "    2.40964917e+10, 2.40975491e+10, 2.40986049e+10, 2.40996591e+10,\n",
    "    2.41007117e+10, 2.41017626e+10, 2.41028119e+10, 2.41038595e+10,\n",
    "    2.41049055e+10, 2.41059499e+10, 2.41069927e+10, 2.41080338e+10,\n",
    "    2.41090733e+10, 2.41101111e+10, 2.41111473e+10, 2.41121819e+10,\n",
    "    2.41132149e+10, 2.41142462e+10, 2.41152759e+10, 2.41163039e+10,\n",
    "    2.41173304e+10, 2.41183552e+10, 2.41193783e+10, 2.41203999e+10,\n",
    "    2.41214198e+10, 2.41224380e+10, 2.41234546e+10, 2.41244696e+10,\n",
    "    2.41254830e+10, 2.41264947e+10, 2.41275048e+10, 2.41285133e+10,\n",
    "    2.41295202e+10, 2.41305254e+10, 2.41315289e+10, 2.41325309e+10,\n",
    "    2.41335312e+10, 2.41345298e+10, 2.41355269e+10, 2.41365223e+10,\n",
    "    2.41375161e+10, 2.41385082e+10, 2.41394987e+10, 2.41404876e+10,\n",
    "    2.41414748e+10, 2.41424605e+10, 2.41434444e+10, 2.41444268e+10,\n",
    "    2.41454075e+10, 2.41463866e+10, 2.41473640e+10, 2.41483399e+10,\n",
    "    2.41493140e+10, 2.41502866e+10, 2.41512575e+10, 2.41522268e+10,\n",
    "    2.41531945e+10, 2.41541605e+10, 2.41551249e+10, 2.41560876e+10,\n",
    "    2.41570488e+10, 2.41580083e+10, 2.41589661e+10, 2.41599224e+10,\n",
    "    2.41608770e+10, 2.41618299e+10, 2.41627812e+10, 2.41637309e+10,\n",
    "    2.41646790e+10, 2.41656254e+10, 2.41665702e+10, 2.41675134e+10,\n",
    "    2.41684550e+10, 2.41693949e+10, 2.41703331e+10, 2.41712698e+10,\n",
    "    2.41722048e+10, 2.41731381e+10, 2.41740699e+10, 2.41750000e+10])\n",
    "t_nonlinear = np.linspace(0, 80e-6, 100)"
   ]
  },
  {
   "cell_type": "markdown",
   "metadata": {},
   "source": [
    "Plot the non-linear chirp"
   ]
  },
  {
   "cell_type": "code",
   "execution_count": 2,
   "metadata": {},
   "outputs": [
    {
     "data": {
      "image/svg+xml": [
       "<svg xmlns=\"http://www.w3.org/2000/svg\" xmlns:xlink=\"http://www.w3.org/1999/xlink\" class=\"main-svg\" width=\"700\" height=\"500\" style=\"\" viewBox=\"0 0 700 500\"><rect x=\"0\" y=\"0\" width=\"700\" height=\"500\" style=\"fill: rgb(255, 255, 255); fill-opacity: 1;\"/><defs id=\"defs-6c97d0\"><g class=\"clips\"><clipPath id=\"clip6c97d0xyplot\" class=\"plotclip\"><rect width=\"456\" height=\"320\"/></clipPath><clipPath class=\"axesclip\" id=\"clip6c97d0x\"><rect x=\"80\" y=\"0\" width=\"456\" height=\"500\"/></clipPath><clipPath class=\"axesclip\" id=\"clip6c97d0y\"><rect x=\"0\" y=\"100\" width=\"700\" height=\"320\"/></clipPath><clipPath class=\"axesclip\" id=\"clip6c97d0xy\"><rect x=\"80\" y=\"100\" width=\"456\" height=\"320\"/></clipPath></g><g class=\"gradients\"/><g class=\"patterns\"/></defs><g class=\"bglayer\"><rect class=\"bg\" x=\"80\" y=\"100\" width=\"456\" height=\"320\" style=\"fill: rgb(229, 236, 246); fill-opacity: 1; stroke-width: 0;\"/></g><g class=\"layer-below\"><g class=\"imagelayer\"/><g class=\"shapelayer\"/></g><g class=\"cartesianlayer\"><g class=\"subplot xy\"><g class=\"layer-subplot\"><g class=\"shapelayer\"/><g class=\"imagelayer\"/></g><g class=\"gridlayer\"><g class=\"x\"><path class=\"xgrid crisp\" transform=\"translate(207.28,0)\" d=\"M0,100v320\" style=\"stroke: rgb(255, 255, 255); stroke-opacity: 1; stroke-width: 1px;\"/><path class=\"xgrid crisp\" transform=\"translate(308,0)\" d=\"M0,100v320\" style=\"stroke: rgb(255, 255, 255); stroke-opacity: 1; stroke-width: 1px;\"/><path class=\"xgrid crisp\" transform=\"translate(408.73,0)\" d=\"M0,100v320\" style=\"stroke: rgb(255, 255, 255); stroke-opacity: 1; stroke-width: 1px;\"/><path class=\"xgrid crisp\" transform=\"translate(509.45,0)\" d=\"M0,100v320\" style=\"stroke: rgb(255, 255, 255); stroke-opacity: 1; stroke-width: 1px;\"/></g><g class=\"y\"><path class=\"ygrid crisp\" transform=\"translate(0,386.22)\" d=\"M80,0h456\" style=\"stroke: rgb(255, 255, 255); stroke-opacity: 1; stroke-width: 1px;\"/><path class=\"ygrid crisp\" transform=\"translate(0,330.13)\" d=\"M80,0h456\" style=\"stroke: rgb(255, 255, 255); stroke-opacity: 1; stroke-width: 1px;\"/><path class=\"ygrid crisp\" transform=\"translate(0,274.03)\" d=\"M80,0h456\" style=\"stroke: rgb(255, 255, 255); stroke-opacity: 1; stroke-width: 1px;\"/><path class=\"ygrid crisp\" transform=\"translate(0,217.93)\" d=\"M80,0h456\" style=\"stroke: rgb(255, 255, 255); stroke-opacity: 1; stroke-width: 1px;\"/><path class=\"ygrid crisp\" transform=\"translate(0,161.82999999999998)\" d=\"M80,0h456\" style=\"stroke: rgb(255, 255, 255); stroke-opacity: 1; stroke-width: 1px;\"/><path class=\"ygrid crisp\" transform=\"translate(0,105.73)\" d=\"M80,0h456\" style=\"stroke: rgb(255, 255, 255); stroke-opacity: 1; stroke-width: 1px;\"/></g></g><g class=\"zerolinelayer\"><path class=\"xzl zl crisp\" transform=\"translate(106.55,0)\" d=\"M0,100v320\" style=\"stroke: rgb(255, 255, 255); stroke-opacity: 1; stroke-width: 2px;\"/></g><path class=\"xlines-below\"/><path class=\"ylines-below\"/><g class=\"overlines-below\"/><g class=\"xaxislayer-below\"/><g class=\"yaxislayer-below\"/><g class=\"overaxes-below\"/><g class=\"plot\" transform=\"translate(80,100)\" clip-path=\"url(#clip6c97d0xyplot)\"><g class=\"scatterlayer mlayer\"><g class=\"trace scatter tracef3af49\" style=\"stroke-miterlimit: 2; opacity: 1;\"><g class=\"fills\"/><g class=\"errorbars\"/><g class=\"lines\"><path class=\"js-line\" d=\"M26.55,300.25L107.94,239.97L112.01,237L193.41,178.64L197.48,175.77L274.8,122.11L278.87,119.33L364.33,62.04L368.4,59.37L429.45,19.75\" style=\"vector-effect: non-scaling-stroke; fill: none; stroke: rgb(99, 110, 250); stroke-opacity: 1; stroke-width: 2px; opacity: 1;\"/></g><g class=\"points\"/><g class=\"text\"/></g><g class=\"trace scatter trace0d4078\" style=\"stroke-miterlimit: 2; opacity: 1;\"><g class=\"fills\"/><g class=\"errorbars\"/><g class=\"lines\"><path class=\"js-line\" d=\"M26.55,300.25L429.45,19.75\" style=\"vector-effect: non-scaling-stroke; fill: none; stroke: rgb(239, 85, 59); stroke-opacity: 1; stroke-width: 2px; opacity: 1;\"/></g><g class=\"points\"><path class=\"point\" transform=\"translate(26.55,300.25)\" d=\"M3,0A3,3 0 1,1 0,-3A3,3 0 0,1 3,0Z\" style=\"opacity: 1; stroke-width: 0px; fill: rgb(239, 85, 59); fill-opacity: 1;\"/><path class=\"point\" transform=\"translate(429.45,19.75)\" d=\"M3,0A3,3 0 1,1 0,-3A3,3 0 0,1 3,0Z\" style=\"opacity: 1; stroke-width: 0px; fill: rgb(239, 85, 59); fill-opacity: 1;\"/></g><g class=\"text\"/></g></g></g><g class=\"overplot\"/><path class=\"xlines-above crisp\" d=\"M0,0\" style=\"fill: none;\"/><path class=\"ylines-above crisp\" d=\"M0,0\" style=\"fill: none;\"/><g class=\"overlines-above\"/><g class=\"xaxislayer-above\"><g class=\"xtick\"><text text-anchor=\"middle\" x=\"0\" y=\"433\" transform=\"translate(106.55,0)\" style=\"font-family: 'Open Sans', verdana, arial, sans-serif; font-size: 12px; fill: rgb(42, 63, 95); fill-opacity: 1; white-space: pre; opacity: 1;\">0.00</text></g><g class=\"xtick\"><text text-anchor=\"middle\" x=\"0\" y=\"433\" style=\"font-family: 'Open Sans', verdana, arial, sans-serif; font-size: 12px; fill: rgb(42, 63, 95); fill-opacity: 1; white-space: pre; opacity: 1;\" transform=\"translate(207.28,0)\">20.00</text></g><g class=\"xtick\"><text text-anchor=\"middle\" x=\"0\" y=\"433\" style=\"font-family: 'Open Sans', verdana, arial, sans-serif; font-size: 12px; fill: rgb(42, 63, 95); fill-opacity: 1; white-space: pre; opacity: 1;\" transform=\"translate(308,0)\">40.00</text></g><g class=\"xtick\"><text text-anchor=\"middle\" x=\"0\" y=\"433\" style=\"font-family: 'Open Sans', verdana, arial, sans-serif; font-size: 12px; fill: rgb(42, 63, 95); fill-opacity: 1; white-space: pre; opacity: 1;\" transform=\"translate(408.73,0)\">60.00</text></g><g class=\"xtick\"><text text-anchor=\"middle\" x=\"0\" y=\"433\" style=\"font-family: 'Open Sans', verdana, arial, sans-serif; font-size: 12px; fill: rgb(42, 63, 95); fill-opacity: 1; white-space: pre; opacity: 1;\" transform=\"translate(509.45,0)\">80.00</text></g></g><g class=\"yaxislayer-above\"><g class=\"ytick\"><text text-anchor=\"end\" x=\"79\" y=\"4.199999999999999\" transform=\"translate(0,386.22)\" style=\"font-family: 'Open Sans', verdana, arial, sans-serif; font-size: 12px; fill: rgb(42, 63, 95); fill-opacity: 1; white-space: pre; opacity: 1;\">24.08</text></g><g class=\"ytick\"><text text-anchor=\"end\" x=\"79\" y=\"4.199999999999999\" style=\"font-family: 'Open Sans', verdana, arial, sans-serif; font-size: 12px; fill: rgb(42, 63, 95); fill-opacity: 1; white-space: pre; opacity: 1;\" transform=\"translate(0,330.13)\">24.10</text></g><g class=\"ytick\"><text text-anchor=\"end\" x=\"79\" y=\"4.199999999999999\" style=\"font-family: 'Open Sans', verdana, arial, sans-serif; font-size: 12px; fill: rgb(42, 63, 95); fill-opacity: 1; white-space: pre; opacity: 1;\" transform=\"translate(0,274.03)\">24.12</text></g><g class=\"ytick\"><text text-anchor=\"end\" x=\"79\" y=\"4.199999999999999\" style=\"font-family: 'Open Sans', verdana, arial, sans-serif; font-size: 12px; fill: rgb(42, 63, 95); fill-opacity: 1; white-space: pre; opacity: 1;\" transform=\"translate(0,217.93)\">24.14</text></g><g class=\"ytick\"><text text-anchor=\"end\" x=\"79\" y=\"4.199999999999999\" style=\"font-family: 'Open Sans', verdana, arial, sans-serif; font-size: 12px; fill: rgb(42, 63, 95); fill-opacity: 1; white-space: pre; opacity: 1;\" transform=\"translate(0,161.82999999999998)\">24.16</text></g><g class=\"ytick\"><text text-anchor=\"end\" x=\"79\" y=\"4.199999999999999\" style=\"font-family: 'Open Sans', verdana, arial, sans-serif; font-size: 12px; fill: rgb(42, 63, 95); fill-opacity: 1; white-space: pre; opacity: 1;\" transform=\"translate(0,105.73)\">24.18</text></g></g><g class=\"overaxes-above\"/></g></g><g class=\"polarlayer\"/><g class=\"ternarylayer\"/><g class=\"geolayer\"/><g class=\"funnelarealayer\"/><g class=\"pielayer\"/><g class=\"iciclelayer\"/><g class=\"treemaplayer\"/><g class=\"sunburstlayer\"/><g class=\"glimages\"/><defs id=\"topdefs-6c97d0\"><g class=\"clips\"/><clipPath id=\"legend6c97d0\"><rect width=\"143\" height=\"48\" x=\"0\" y=\"0\"/></clipPath></defs><g class=\"layer-above\"><g class=\"imagelayer\"/><g class=\"shapelayer\"/></g><g class=\"infolayer\"><g class=\"legend\" pointer-events=\"all\" transform=\"translate(545.12,100)\"><rect class=\"bg\" shape-rendering=\"crispEdges\" style=\"stroke: rgb(68, 68, 68); stroke-opacity: 1; fill: rgb(255, 255, 255); fill-opacity: 1; stroke-width: 0px;\" width=\"143\" height=\"48\" x=\"0\" y=\"0\"/><g class=\"scrollbox\" transform=\"\" clip-path=\"url(#legend6c97d0)\"><g class=\"groups\"><g class=\"traces\" transform=\"translate(0,14.5)\" style=\"opacity: 1;\"><text class=\"legendtext\" text-anchor=\"start\" x=\"40\" y=\"4.680000000000001\" style=\"font-family: 'Open Sans', verdana, arial, sans-serif; font-size: 12px; fill: rgb(42, 63, 95); fill-opacity: 1; white-space: pre;\">Non-linear chirp</text><g class=\"layers\" style=\"opacity: 1;\"><g class=\"legendfill\"/><g class=\"legendlines\"><path class=\"js-line\" d=\"M5,0h30\" style=\"fill: none; stroke: rgb(99, 110, 250); stroke-opacity: 1; stroke-width: 2px;\"/></g><g class=\"legendsymbols\"><g class=\"legendpoints\"/></g></g><rect class=\"legendtoggle\" x=\"0\" y=\"-9.5\" width=\"137.4375\" height=\"19\" style=\"fill: rgb(0, 0, 0); fill-opacity: 0;\"/></g><g class=\"traces\" transform=\"translate(0,33.5)\" style=\"opacity: 1;\"><text class=\"legendtext\" text-anchor=\"start\" x=\"40\" y=\"4.680000000000001\" style=\"font-family: 'Open Sans', verdana, arial, sans-serif; font-size: 12px; fill: rgb(42, 63, 95); fill-opacity: 1; white-space: pre;\">Linear chirp</text><g class=\"layers\" style=\"opacity: 1;\"><g class=\"legendfill\"/><g class=\"legendlines\"><path class=\"js-line\" d=\"M5,0h30\" style=\"fill: none; stroke: rgb(239, 85, 59); stroke-opacity: 1; stroke-width: 2px;\"/></g><g class=\"legendsymbols\"><g class=\"legendpoints\"><path class=\"scatterpts\" transform=\"translate(20,0)\" d=\"M3,0A3,3 0 1,1 0,-3A3,3 0 0,1 3,0Z\" style=\"opacity: 1; stroke-width: 0px; fill: rgb(239, 85, 59); fill-opacity: 1;\"/></g></g></g><rect class=\"legendtoggle\" x=\"0\" y=\"-9.5\" width=\"137.4375\" height=\"19\" style=\"fill: rgb(0, 0, 0); fill-opacity: 0;\"/></g></g></g><rect class=\"scrollbar\" rx=\"20\" ry=\"3\" width=\"0\" height=\"0\" style=\"fill: rgb(128, 139, 164); fill-opacity: 1;\" x=\"0\" y=\"0\"/></g><g class=\"g-gtitle\"/><g class=\"g-xtitle\"><text class=\"xtitle\" x=\"308\" y=\"460.8\" text-anchor=\"middle\" style=\"font-family: 'Open Sans', verdana, arial, sans-serif; font-size: 14px; fill: rgb(42, 63, 95); opacity: 1; font-weight: normal; white-space: pre;\">Time (us)</text></g><g class=\"g-ytitle\"><text class=\"ytitle\" transform=\"rotate(-90,19.309375000000003,260)\" x=\"19.309375000000003\" y=\"260\" text-anchor=\"middle\" style=\"font-family: 'Open Sans', verdana, arial, sans-serif; font-size: 14px; fill: rgb(42, 63, 95); opacity: 1; font-weight: normal; white-space: pre;\">Frequency (GHz)</text></g></g></svg>"
      ],
      "text/plain": [
       "<IPython.core.display.SVG object>"
      ]
     },
     "metadata": {},
     "output_type": "display_data"
    }
   ],
   "source": [
    "import plotly.graph_objs as go\n",
    "from IPython.display import SVG, display\n",
    "\n",
    "fig = go.Figure()\n",
    "\n",
    "fig.add_trace(go.Scatter(\n",
    "    x=np.linspace(0, 80e-6, 100)*1e6,\n",
    "    y=freq_nonlinear/1e9,\n",
    "    name='Non-linear chirp',\n",
    "))\n",
    "\n",
    "fig.add_trace(go.Scatter(\n",
    "    x=np.array([0, 80e-6])*1e6,\n",
    "    y=np.array([24.125e9-50e6, 24.125e9+50e6])/1e9,\n",
    "    name='Linear chirp',\n",
    "))\n",
    "\n",
    "fig.update_layout(\n",
    "    yaxis=dict(tickformat='.2f', title='Frequency (GHz)'),\n",
    "    xaxis=dict(tickformat='.2f', title='Time (us)'),\n",
    ")\n",
    "\n",
    "# fig.show()\n",
    "display(SVG(fig.to_image(format='svg', scale=1)))"
   ]
  },
  {
   "cell_type": "markdown",
   "metadata": {},
   "source": [
    "### Transmitter\n",
    "\n",
    "Setup the basic transmitter parameters through `Transmitter` module.\n",
    "\n",
    "For comparison, we created a linear chirp transmitter and a non-linear chirp transmitter."
   ]
  },
  {
   "cell_type": "code",
   "execution_count": 3,
   "metadata": {},
   "outputs": [],
   "source": [
    "from radarsimpy import Radar, Transmitter, Receiver\n",
    "\n",
    "tx_channel = dict(\n",
    "    location=(0, 0, 0),\n",
    ")\n",
    "\n",
    "tx_nonlinear = Transmitter(f=freq_nonlinear,\n",
    "                           t=np.linspace(0, 80e-6, 100),\n",
    "                           tx_power=40,\n",
    "                           prp=100e-6,\n",
    "                           pulses=1,\n",
    "                           channels=[tx_channel])\n",
    "\n",
    "tx_linear = Transmitter(f=[24.125e9-50e6, 24.125e9+50e6],\n",
    "                        t=[0, 80e-6],\n",
    "                        tx_power=40,\n",
    "                        prp=100e-6,\n",
    "                        pulses=1,\n",
    "                        channels=[tx_channel])"
   ]
  },
  {
   "cell_type": "markdown",
   "metadata": {},
   "source": [
    "### Receiver\n",
    "\n",
    "Setup the receiver parameters through `Receiver` module.\n",
    "\n",
    "The parameters of the receiver are listed in the table below.\n",
    "\n",
    " | Parameter                        | Variable in `Receiver`   | Value        |\n",
    " |----------------------------------|--------------------------|--------------|\n",
    " | Sampling rate ($f_s$)            | `fs`                     | 2 Msps       |\n",
    " | Noise figure ($NF$)              | `noise_figure`           | 12 dB        |\n",
    " | RF gain/loss ($G_{rf}$)          | `rf_gain`                | 20 dB        |\n",
    " | Load resistor ($R_L$)            | `load_resistor`          | 500 $\\Omega$ |\n",
    " | Baseband voltage gain ($G_{BB}$) | `baseband_gain`          | 30 dB        |"
   ]
  },
  {
   "cell_type": "code",
   "execution_count": 4,
   "metadata": {},
   "outputs": [],
   "source": [
    "rx_channel = dict(\n",
    "    location=(0, 0, 0),\n",
    ")\n",
    "\n",
    "rx = Receiver(fs=2e6,\n",
    "              noise_figure=12,\n",
    "              rf_gain=20,\n",
    "              load_resistor=500,\n",
    "              baseband_gain=30,\n",
    "              channels=[rx_channel])"
   ]
  },
  {
   "cell_type": "markdown",
   "metadata": {},
   "source": [
    " Create the FMCW radar model based on all the parameters defined above."
   ]
  },
  {
   "cell_type": "code",
   "execution_count": 5,
   "metadata": {},
   "outputs": [],
   "source": [
    "radar_nonlinear = Radar(transmitter=tx_nonlinear, receiver=rx)\n",
    "radar_linear = Radar(transmitter=tx_linear, receiver=rx)"
   ]
  },
  {
   "cell_type": "markdown",
   "metadata": {},
   "source": [
    " ### Targets\n",
    " The propertities of targets are defined here. There are 3 targets in this simulation. The locations of the targets are defined through $(x, y, z)$ coordinates in meters, and the speeds of the targets are defined trough $(v_x, v_y, v_z)$ in $m/s$. The propertites of the targets also includes radar cross-section (RCS (dBsm)) and phase (degree)."
   ]
  },
  {
   "cell_type": "code",
   "execution_count": 6,
   "metadata": {},
   "outputs": [],
   "source": [
    "target_1 = dict(location=(200, 0, 0), speed=(-5, 0, 0), rcs=30, phase=0)\n",
    "target_2 = dict(location=(95, 20, 0), speed=(-50, 0, 0), rcs=25, phase=0)\n",
    "target_3 = dict(location=(30, -5, 0), speed=(-22, 0, 0), rcs=15, phase=0)\n",
    "\n",
    "targets = [target_1, target_2, target_3]"
   ]
  },
  {
   "cell_type": "markdown",
   "metadata": {},
   "source": [
    "## Simulate Baseband Signals\n",
    " \n",
    "Use the `simulator` module to simulate the baseband samples. The user can choose between Python engine `simpy` or C++ engine `simc`.\n",
    "\n",
    "The output baseband data is a 3-D matrix:\n",
    "\n",
    "$[channels, pulses, ADC~samples]$\n",
    " \n",
    "#### Simulate with C++ engine"
   ]
  },
  {
   "cell_type": "code",
   "execution_count": 7,
   "metadata": {},
   "outputs": [],
   "source": [
    "from radarsimpy.simulator import simc\n",
    "\n",
    "data_nonlinear = simc(radar_nonlinear, targets, noise=True)\n",
    "time_matrix_nonlinear = data_nonlinear['timestamp']\n",
    "data_matrix_nonlinear = data_nonlinear['baseband']\n",
    "\n",
    "data_linear = simc(radar_linear, targets, noise=True)\n",
    "time_matrix_linear = data_linear['timestamp']\n",
    "data_matrix_linear = data_linear['baseband']"
   ]
  },
  {
   "cell_type": "markdown",
   "metadata": {},
   "source": [
    "Plot baseband samples"
   ]
  },
  {
   "cell_type": "code",
   "execution_count": 8,
   "metadata": {},
   "outputs": [
    {
     "data": {
      "image/svg+xml": [
       "<svg xmlns=\"http://www.w3.org/2000/svg\" xmlns:xlink=\"http://www.w3.org/1999/xlink\" class=\"main-svg\" width=\"700\" height=\"500\" style=\"\" viewBox=\"0 0 700 500\"><rect x=\"0\" y=\"0\" width=\"700\" height=\"500\" style=\"fill: rgb(255, 255, 255); fill-opacity: 1;\"/><defs id=\"defs-63ba3a\"><g class=\"clips\"><clipPath id=\"clip63ba3axyplot\" class=\"plotclip\"><rect width=\"482\" height=\"320\"/></clipPath><clipPath class=\"axesclip\" id=\"clip63ba3ax\"><rect x=\"80\" y=\"0\" width=\"482\" height=\"500\"/></clipPath><clipPath class=\"axesclip\" id=\"clip63ba3ay\"><rect x=\"0\" y=\"100\" width=\"700\" height=\"320\"/></clipPath><clipPath class=\"axesclip\" id=\"clip63ba3axy\"><rect x=\"80\" y=\"100\" width=\"482\" height=\"320\"/></clipPath></g><g class=\"gradients\"/><g class=\"patterns\"/></defs><g class=\"bglayer\"><rect class=\"bg\" x=\"80\" y=\"100\" width=\"482\" height=\"320\" style=\"fill: rgb(229, 236, 246); fill-opacity: 1; stroke-width: 0;\"/></g><g class=\"layer-below\"><g class=\"imagelayer\"/><g class=\"shapelayer\"/></g><g class=\"cartesianlayer\"><g class=\"subplot xy\"><g class=\"layer-subplot\"><g class=\"shapelayer\"/><g class=\"imagelayer\"/></g><g class=\"gridlayer\"><g class=\"x\"><path class=\"xgrid crisp\" transform=\"translate(201.26,0)\" d=\"M0,100v320\" style=\"stroke: rgb(255, 255, 255); stroke-opacity: 1; stroke-width: 1px;\"/><path class=\"xgrid crisp\" transform=\"translate(322.52,0)\" d=\"M0,100v320\" style=\"stroke: rgb(255, 255, 255); stroke-opacity: 1; stroke-width: 1px;\"/><path class=\"xgrid crisp\" transform=\"translate(443.77,0)\" d=\"M0,100v320\" style=\"stroke: rgb(255, 255, 255); stroke-opacity: 1; stroke-width: 1px;\"/></g><g class=\"y\"><path class=\"ygrid crisp\" transform=\"translate(0,407.62)\" d=\"M80,0h482\" style=\"stroke: rgb(255, 255, 255); stroke-opacity: 1; stroke-width: 1px;\"/><path class=\"ygrid crisp\" transform=\"translate(0,370.64)\" d=\"M80,0h482\" style=\"stroke: rgb(255, 255, 255); stroke-opacity: 1; stroke-width: 1px;\"/><path class=\"ygrid crisp\" transform=\"translate(0,333.65999999999997)\" d=\"M80,0h482\" style=\"stroke: rgb(255, 255, 255); stroke-opacity: 1; stroke-width: 1px;\"/><path class=\"ygrid crisp\" transform=\"translate(0,296.68)\" d=\"M80,0h482\" style=\"stroke: rgb(255, 255, 255); stroke-opacity: 1; stroke-width: 1px;\"/><path class=\"ygrid crisp\" transform=\"translate(0,222.72)\" d=\"M80,0h482\" style=\"stroke: rgb(255, 255, 255); stroke-opacity: 1; stroke-width: 1px;\"/><path class=\"ygrid crisp\" transform=\"translate(0,185.74)\" d=\"M80,0h482\" style=\"stroke: rgb(255, 255, 255); stroke-opacity: 1; stroke-width: 1px;\"/><path class=\"ygrid crisp\" transform=\"translate(0,148.76)\" d=\"M80,0h482\" style=\"stroke: rgb(255, 255, 255); stroke-opacity: 1; stroke-width: 1px;\"/><path class=\"ygrid crisp\" transform=\"translate(0,111.78)\" d=\"M80,0h482\" style=\"stroke: rgb(255, 255, 255); stroke-opacity: 1; stroke-width: 1px;\"/></g></g><g class=\"zerolinelayer\"><path class=\"xzl zl crisp\" transform=\"translate(80,0)\" d=\"M0,100v320\" style=\"stroke: rgb(255, 255, 255); stroke-opacity: 1; stroke-width: 2px;\"/><path class=\"yzl zl crisp\" transform=\"translate(0,259.7)\" d=\"M80,0h482\" style=\"stroke: rgb(255, 255, 255); stroke-opacity: 1; stroke-width: 2px;\"/></g><path class=\"xlines-below\"/><path class=\"ylines-below\"/><g class=\"overlines-below\"/><g class=\"xaxislayer-below\"/><g class=\"yaxislayer-below\"/><g class=\"overaxes-below\"/><g class=\"plot\" transform=\"translate(80,100)\" clip-path=\"url(#clip63ba3axyplot)\"><g class=\"scatterlayer mlayer\"><g class=\"trace scatter trace904431\" style=\"stroke-miterlimit: 2; opacity: 1;\"><g class=\"fills\"/><g class=\"errorbars\"/><g class=\"lines\"><path class=\"js-line\" d=\"M0,135.32L6.06,27.88L9.09,152.07L12.13,170.34L15.16,288.75L21.22,186.8L24.25,104.12L27.28,32.79L30.31,105.56L33.35,125.27L36.38,261.07L39.41,252.12L42.44,234.77L45.47,160.97L48.5,57.1L51.53,91.49L54.57,72.14L57.6,218.59L60.63,224.99L63.66,236.4L66.69,191.83L69.72,93.01L72.75,101.48L75.79,63.29L78.82,172.79L84.88,239.83L87.91,237.6L90.94,124.8L93.97,120.73L97.01,49.52L100.04,130.29L109.13,272.81L112.16,155.88L115.19,158.21L118.23,52.26L121.26,79.16L124.29,146.19L127.32,173.57L130.35,269.85L133.38,208.01L136.42,191.75L139.45,105.83L142.48,51.97L145.51,121.99L148.54,125.71L151.57,238.99L154.6,242.26L160.67,179.9L163.7,66.86L166.73,97.41L169.76,78.81L175.82,237.47L178.86,233L181.89,249.79L184.92,124.44L187.95,94.75L190.98,55.73L194.01,76.09L197.04,207.28L200.08,220.14L203.11,287.2L209.17,115.64L212.2,86.62L215.23,22.26L218.26,144.48L224.33,254.22L227.36,283.82L230.39,164.33L233.42,136.3L236.45,50.37L239.48,64.4L242.52,146.7L245.55,171.8L248.58,266.83L251.61,227.29L257.67,153.39L260.7,60.26L263.74,104.3L266.77,96.86L272.83,272.07L275.86,234.92L278.89,239.91L281.92,122.28L284.96,47.69L287.99,84.9L291.02,81.57L294.05,226.42L297.08,247.76L300.11,235.7L303.14,227.32L306.18,108.41L309.21,98.93L312.24,77.84L315.27,83.27L318.3,188.83L321.33,205.45L324.36,267.34L327.4,255.92L330.43,139.19L333.46,106.72L336.49,31.14L339.52,85.47L342.55,187.33L345.58,205.96L348.62,271.88L354.68,164.65L357.71,149.81L360.74,46.04L363.77,88.41L366.81,126.25L369.84,183.07L372.87,300.4L375.9,227.22L378.93,192.66L381.96,130.29L384.99,43.1L388.03,100.92L391.06,107.45L394.09,158.29L397.12,262.33L400.15,239.55L403.18,255.12L406.21,169.04L409.25,51.43L412.28,72.49L415.31,72.11L418.34,138.8L421.37,235.65L424.4,218.78L427.43,257.95L430.47,213.43L433.5,106.3L436.53,95.15L439.56,43.35L442.59,103.64L445.62,211.82L448.65,210.26L451.69,259.89L454.72,238.28L457.75,142.51L460.78,140.61L463.81,44.2L466.84,50.42L469.87,155.31L472.91,186.97L475.94,259.14L478.97,248.43L482,184.83\" style=\"vector-effect: non-scaling-stroke; fill: none; stroke: rgb(99, 110, 250); stroke-opacity: 1; stroke-width: 2px; opacity: 1;\"/></g><g class=\"points\"/><g class=\"text\"/></g><g class=\"trace scatter tracee32d23\" style=\"stroke-miterlimit: 2; opacity: 1;\"><g class=\"fills\"/><g class=\"errorbars\"/><g class=\"lines\"><path class=\"js-line\" d=\"M0,222.83L3.03,246.8L6.06,129.36L9.09,92.86L12.13,81.96L15.16,112.68L18.19,229.68L21.22,218.63L24.25,258.25L27.28,140.38L30.31,106.34L33.35,77.8L36.38,89.8L39.41,210.06L42.44,215.81L45.47,275.4L48.5,172.03L54.57,65.55L57.6,38.06L60.63,163.9L63.66,187.01L66.69,291.58L69.72,222.84L72.75,174.02L75.79,96.23L78.82,33.38L81.85,121.37L84.88,137.72L87.91,275.12L90.94,261.9L93.97,222.3L97.01,155.75L100.04,36.26L103.07,83.02L106.1,78.41L109.13,215.09L112.16,267.48L118.23,223.33L121.26,75.03L124.29,87.14L127.32,43.63L133.38,248.75L136.42,245.29L139.45,273.18L142.48,139.22L145.51,105.56L148.54,43.74L151.57,66.25L154.6,192.01L157.64,204.44L160.67,293.24L166.73,132.87L169.76,94.99L172.79,29.17L175.82,137.56L178.86,170.13L181.89,250.35L184.92,257.56L187.95,174.68L190.98,155.34L194.01,50.22L200.08,132.32L203.11,172.81L206.14,264.07L209.17,221.92L212.2,215.74L215.23,141.42L218.26,62.29L221.3,98.7L224.33,86.49L227.36,206.3L230.39,235.52L233.42,241.54L236.45,241.46L239.48,103.93L242.52,87.67L245.55,48.65L248.58,100.79L251.61,217.06L254.64,234.26L257.67,276.03L263.74,95.22L266.77,84.71L269.8,43.59L272.83,143.45L275.86,198.59L278.89,228.83L281.92,271.69L284.96,171.07L287.99,157.08L291.02,85.38L294.05,45.68L297.08,131.31L300.11,133.85L303.14,254.24L306.18,276.91L309.21,200.07L312.24,168.4L315.27,43.75L318.3,64.27L321.33,117.18L324.36,143.5L327.4,254.72L330.43,222.98L333.46,217.35L336.49,187.87L339.52,68.14L342.55,89.47L345.58,70.35L348.62,122.93L351.65,251L354.68,246.92L357.71,268.88L363.77,72.64L366.81,99.82L369.84,62.68L372.87,133.58L375.9,204.8L378.93,200.39L381.96,281.9L384.99,217.05L388.03,124.37L391.06,99.15L394.09,16L397.12,117.78L400.15,192.7L403.18,201.4L406.21,280.9L409.25,212.8L412.28,161.65L415.31,136.94L418.34,37.5L421.37,74.12L424.4,145.62L427.43,191.23L430.47,292.94L433.5,231.87L436.53,183.78L439.56,162.11L442.59,52.49L445.62,76.75L448.65,89.69L451.69,133.67L454.72,274.53L457.75,258.57L460.78,216.52L463.81,189.94L466.84,68.36L469.87,88.22L472.91,80.4L475.94,69.82L478.97,208.01L482,241.88\" style=\"vector-effect: non-scaling-stroke; fill: none; stroke: rgb(239, 85, 59); stroke-opacity: 1; stroke-width: 2px; opacity: 1;\"/></g><g class=\"points\"/><g class=\"text\"/></g><g class=\"trace scatter traceba242b\" style=\"stroke-miterlimit: 2; opacity: 1;\"><g class=\"fills\"/><g class=\"errorbars\"/><g class=\"lines\"><path class=\"js-line\" d=\"M0,146.86L6.06,30.28L9.09,145.1L12.13,166.8L15.16,244L18.19,262.59L21.22,181.55L24.25,177.97L27.28,66.41L30.31,84.76L33.35,127.04L36.38,133.54L39.41,254.2L42.44,242.69L45.47,235.76L48.5,168.85L51.53,60.76L54.57,91.97L57.6,71.97L63.66,262.49L66.69,246.45L69.72,258.01L72.75,118.05L75.79,68.84L78.82,74.13L81.85,75.39L84.88,217.77L87.91,216.18L90.94,244.36L93.97,216.85L97.01,113.48L100.04,120.21L103.07,48.7L109.13,180.09L112.16,205.62L115.19,286.04L118.23,207.58L121.26,158.47L124.29,96.78L127.32,19.13L130.35,122.87L133.38,147.91L136.42,259.11L139.45,285.31L142.48,200.72L145.51,161.34L148.54,49.59L151.57,65.98L154.6,121.43L157.64,161.67L160.67,274.08L163.7,226.18L166.73,212.21L169.76,159.07L172.79,65.95L175.82,112.05L178.86,71.5L181.89,176.04L184.92,238.87L187.95,231.81L190.98,263.28L194.01,133.98L197.04,96.49L200.08,55.11L203.11,65.65L206.14,193.91L209.17,218.33L212.2,285.08L215.23,233.34L218.26,115.37L221.3,102.8L224.33,34.66L227.36,123.39L230.39,191.59L233.42,230.96L236.45,280.8L239.48,167.05L242.52,155.69L245.55,88.93L248.58,54.13L251.61,141.05L254.64,136.68L257.67,239.28L260.7,250.93L263.74,203.58L266.77,180.47L269.8,49.85L272.83,62.34L275.86,93.64L278.89,149.51L281.92,275.54L284.96,245.29L287.99,226.88L294.05,46.81L297.08,86.09L300.11,82.99L303.14,206.9L306.18,248.73L309.21,235.6L312.24,236.31L315.27,110.35L318.3,104.47L321.33,80.83L324.36,83.81L327.4,197.04L330.43,200.09L333.46,279.53L336.49,226.37L339.52,138.26L342.55,116.26L345.58,18.07L348.62,112.86L351.65,175.13L357.71,302.39L360.74,197.64L363.77,150.39L366.81,63.63L369.84,55.13L372.87,145.37L375.9,158.13L378.93,272.08L381.96,248.22L384.99,194.78L388.03,167.12L391.06,64.97L394.09,100.26L397.12,98.96L400.15,151.23L403.18,257.65L406.21,229.31L409.25,248.72L415.31,63.02L418.34,76.1L421.37,58.06L424.4,192.69L427.43,250.69L430.47,258.48L433.5,247.24L436.53,102.75L439.56,93.56L442.59,45.78L445.62,92.94L448.65,218.07L451.69,213.13L454.72,270.55L460.78,121.04L463.81,103.39L466.84,41.15L469.87,131.26L472.91,163.15L475.94,217.86L478.97,281.26L482,190.34\" style=\"vector-effect: non-scaling-stroke; fill: none; stroke: rgb(0, 204, 150); stroke-opacity: 1; stroke-width: 2px; opacity: 1;\"/></g><g class=\"points\"/><g class=\"text\"/></g><g class=\"trace scatter trace62abe9\" style=\"stroke-miterlimit: 2; opacity: 1;\"><g class=\"fills\"/><g class=\"errorbars\"/><g class=\"lines\"><path class=\"js-line\" d=\"M0,215.19L3.03,256.58L6.06,150.92L9.09,81.08L12.13,84.13L15.16,52.11L18.19,182.27L24.25,264.76L27.28,250.91L30.31,115.01L33.35,90.56L36.38,42.17L39.41,98.64L42.44,206.48L45.47,217.81L48.5,275.89L51.53,193.87L54.57,136.25L57.6,100.1L60.63,41.89L63.66,136.27L66.69,157.49L69.72,222.86L72.75,272.94L75.79,185.39L78.82,186.63L81.85,77.2L84.88,47.57L87.91,111.25L90.94,133.9L93.97,276.84L100.04,223.37L103.07,162.57L106.1,38.7L109.13,76.79L112.16,88.19L115.19,183.46L118.23,267.15L121.26,225.77L124.29,239.35L127.32,116.51L130.35,84.21L133.38,96.63L136.42,78.54L139.45,201.45L142.48,209.44L145.51,251.63L148.54,241.03L151.57,120.38L154.6,122.51L157.64,33.29L160.67,88.53L163.7,175.1L166.73,213.52L169.76,304L172.79,203.71L175.82,141.37L181.89,25.45L184.92,132.23L187.95,169.2L190.98,255.32L194.01,269.31L197.04,174.53L200.08,168.66L203.11,63.22L206.14,70.46L209.17,119.33L212.2,146.59L215.23,259.28L218.26,227.58L221.3,229.62L224.33,172.64L227.36,57.29L230.39,98.39L233.42,61.24L239.48,265.38L242.52,235.61L245.55,256.68L248.58,105.66L251.61,70.07L254.64,60.57L257.67,71.6L260.7,216.5L263.74,214.58L266.77,260.08L269.8,224.37L272.83,113.59L275.86,116.41L278.89,54.8L284.96,179.88L287.99,196.1L291.02,279.52L294.05,196.29L297.08,167.93L300.11,97.75L303.14,39.01L306.18,113.02L309.21,139.89L312.24,250.62L315.27,281.28L318.3,206.95L321.33,170.72L324.36,35.91L327.4,53.37L330.43,109.67L333.46,162.5L336.49,275.7L339.52,222.56L342.55,223.19L348.62,58.69L351.65,110.82L354.68,88.33L357.71,182.67L360.74,235.7L363.77,219.97L366.81,249.82L369.84,123.43L372.87,101.51L375.9,61.86L378.93,73.31L381.96,201.43L384.99,216.58L388.03,286.19L391.06,241.96L394.09,111.03L397.12,97.38L400.15,31.18L406.21,197.3L409.25,221.25L412.28,285.86L415.31,177.38L418.34,149.35L421.37,88.57L424.4,51.71L427.43,146.67L430.47,142.33L433.5,245.4L436.53,248.51L439.56,200.99L442.59,182.36L445.62,67.7L448.65,67.16L451.69,101.94L454.72,146.9L457.75,280.57L460.78,244.71L463.81,243.07L469.87,39.39L472.91,84.03L475.94,79.47L478.97,213.14L482,253.54\" style=\"vector-effect: non-scaling-stroke; fill: none; stroke: rgb(171, 99, 250); stroke-opacity: 1; stroke-width: 2px; opacity: 1;\"/></g><g class=\"points\"/><g class=\"text\"/></g></g></g><g class=\"overplot\"/><path class=\"xlines-above crisp\" d=\"M0,0\" style=\"fill: none;\"/><path class=\"ylines-above crisp\" d=\"M0,0\" style=\"fill: none;\"/><g class=\"overlines-above\"/><g class=\"xaxislayer-above\"><g class=\"xtick\"><text text-anchor=\"middle\" x=\"0\" y=\"433\" transform=\"translate(80,0)\" style=\"font-family: 'Open Sans', verdana, arial, sans-serif; font-size: 12px; fill: rgb(42, 63, 95); fill-opacity: 1; white-space: pre; opacity: 1;\">0</text></g><g class=\"xtick\"><text text-anchor=\"middle\" x=\"0\" y=\"433\" style=\"font-family: 'Open Sans', verdana, arial, sans-serif; font-size: 12px; fill: rgb(42, 63, 95); fill-opacity: 1; white-space: pre; opacity: 1;\" transform=\"translate(201.26,0)\">20</text></g><g class=\"xtick\"><text text-anchor=\"middle\" x=\"0\" y=\"433\" style=\"font-family: 'Open Sans', verdana, arial, sans-serif; font-size: 12px; fill: rgb(42, 63, 95); fill-opacity: 1; white-space: pre; opacity: 1;\" transform=\"translate(322.52,0)\">40</text></g><g class=\"xtick\"><text text-anchor=\"middle\" x=\"0\" y=\"433\" style=\"font-family: 'Open Sans', verdana, arial, sans-serif; font-size: 12px; fill: rgb(42, 63, 95); fill-opacity: 1; white-space: pre; opacity: 1;\" transform=\"translate(443.77,0)\">60</text></g></g><g class=\"yaxislayer-above\"><g class=\"ytick\"><text text-anchor=\"end\" x=\"79\" y=\"4.199999999999999\" transform=\"translate(0,407.62)\" style=\"font-family: 'Open Sans', verdana, arial, sans-serif; font-size: 12px; fill: rgb(42, 63, 95); fill-opacity: 1; white-space: pre; opacity: 1;\">−0.08</text></g><g class=\"ytick\"><text text-anchor=\"end\" x=\"79\" y=\"4.199999999999999\" style=\"font-family: 'Open Sans', verdana, arial, sans-serif; font-size: 12px; fill: rgb(42, 63, 95); fill-opacity: 1; white-space: pre; opacity: 1;\" transform=\"translate(0,370.64)\">−0.06</text></g><g class=\"ytick\"><text text-anchor=\"end\" x=\"79\" y=\"4.199999999999999\" style=\"font-family: 'Open Sans', verdana, arial, sans-serif; font-size: 12px; fill: rgb(42, 63, 95); fill-opacity: 1; white-space: pre; opacity: 1;\" transform=\"translate(0,333.65999999999997)\">−0.04</text></g><g class=\"ytick\"><text text-anchor=\"end\" x=\"79\" y=\"4.199999999999999\" style=\"font-family: 'Open Sans', verdana, arial, sans-serif; font-size: 12px; fill: rgb(42, 63, 95); fill-opacity: 1; white-space: pre; opacity: 1;\" transform=\"translate(0,296.68)\">−0.02</text></g><g class=\"ytick\"><text text-anchor=\"end\" x=\"79\" y=\"4.199999999999999\" style=\"font-family: 'Open Sans', verdana, arial, sans-serif; font-size: 12px; fill: rgb(42, 63, 95); fill-opacity: 1; white-space: pre; opacity: 1;\" transform=\"translate(0,259.7)\">0</text></g><g class=\"ytick\"><text text-anchor=\"end\" x=\"79\" y=\"4.199999999999999\" style=\"font-family: 'Open Sans', verdana, arial, sans-serif; font-size: 12px; fill: rgb(42, 63, 95); fill-opacity: 1; white-space: pre; opacity: 1;\" transform=\"translate(0,222.72)\">0.02</text></g><g class=\"ytick\"><text text-anchor=\"end\" x=\"79\" y=\"4.199999999999999\" style=\"font-family: 'Open Sans', verdana, arial, sans-serif; font-size: 12px; fill: rgb(42, 63, 95); fill-opacity: 1; white-space: pre; opacity: 1;\" transform=\"translate(0,185.74)\">0.04</text></g><g class=\"ytick\"><text text-anchor=\"end\" x=\"79\" y=\"4.199999999999999\" style=\"font-family: 'Open Sans', verdana, arial, sans-serif; font-size: 12px; fill: rgb(42, 63, 95); fill-opacity: 1; white-space: pre; opacity: 1;\" transform=\"translate(0,148.76)\">0.06</text></g><g class=\"ytick\"><text text-anchor=\"end\" x=\"79\" y=\"4.199999999999999\" style=\"font-family: 'Open Sans', verdana, arial, sans-serif; font-size: 12px; fill: rgb(42, 63, 95); fill-opacity: 1; white-space: pre; opacity: 1;\" transform=\"translate(0,111.78)\">0.08</text></g></g><g class=\"overaxes-above\"/></g></g><g class=\"polarlayer\"/><g class=\"ternarylayer\"/><g class=\"geolayer\"/><g class=\"funnelarealayer\"/><g class=\"pielayer\"/><g class=\"iciclelayer\"/><g class=\"treemaplayer\"/><g class=\"sunburstlayer\"/><g class=\"glimages\"/><defs id=\"topdefs-63ba3a\"><g class=\"clips\"/><clipPath id=\"legend63ba3a\"><rect width=\"116\" height=\"86\" x=\"0\" y=\"0\"/></clipPath></defs><g class=\"layer-above\"><g class=\"imagelayer\"/><g class=\"shapelayer\"/></g><g class=\"infolayer\"><g class=\"legend\" pointer-events=\"all\" transform=\"translate(571.64,100)\"><rect class=\"bg\" shape-rendering=\"crispEdges\" style=\"stroke: rgb(68, 68, 68); stroke-opacity: 1; fill: rgb(255, 255, 255); fill-opacity: 1; stroke-width: 0px;\" width=\"116\" height=\"86\" x=\"0\" y=\"0\"/><g class=\"scrollbox\" transform=\"\" clip-path=\"url(#legend63ba3a)\"><g class=\"groups\"><g class=\"traces\" transform=\"translate(0,14.5)\" style=\"opacity: 1;\"><text class=\"legendtext\" text-anchor=\"start\" x=\"40\" y=\"4.680000000000001\" style=\"font-family: 'Open Sans', verdana, arial, sans-serif; font-size: 12px; fill: rgb(42, 63, 95); fill-opacity: 1; white-space: pre;\">I nonlinear</text><g class=\"layers\" style=\"opacity: 1;\"><g class=\"legendfill\"/><g class=\"legendlines\"><path class=\"js-line\" d=\"M5,0h30\" style=\"fill: none; stroke: rgb(99, 110, 250); stroke-opacity: 1; stroke-width: 2px;\"/></g><g class=\"legendsymbols\"><g class=\"legendpoints\"/></g></g><rect class=\"legendtoggle\" x=\"0\" y=\"-9.5\" width=\"110.671875\" height=\"19\" style=\"fill: rgb(0, 0, 0); fill-opacity: 0;\"/></g><g class=\"traces\" transform=\"translate(0,33.5)\" style=\"opacity: 1;\"><text class=\"legendtext\" text-anchor=\"start\" x=\"40\" y=\"4.680000000000001\" style=\"font-family: 'Open Sans', verdana, arial, sans-serif; font-size: 12px; fill: rgb(42, 63, 95); fill-opacity: 1; white-space: pre;\">Q nonlinear</text><g class=\"layers\" style=\"opacity: 1;\"><g class=\"legendfill\"/><g class=\"legendlines\"><path class=\"js-line\" d=\"M5,0h30\" style=\"fill: none; stroke: rgb(239, 85, 59); stroke-opacity: 1; stroke-width: 2px;\"/></g><g class=\"legendsymbols\"><g class=\"legendpoints\"/></g></g><rect class=\"legendtoggle\" x=\"0\" y=\"-9.5\" width=\"110.671875\" height=\"19\" style=\"fill: rgb(0, 0, 0); fill-opacity: 0;\"/></g><g class=\"traces\" transform=\"translate(0,52.5)\" style=\"opacity: 1;\"><text class=\"legendtext\" text-anchor=\"start\" x=\"40\" y=\"4.680000000000001\" style=\"font-family: 'Open Sans', verdana, arial, sans-serif; font-size: 12px; fill: rgb(42, 63, 95); fill-opacity: 1; white-space: pre;\">I linear</text><g class=\"layers\" style=\"opacity: 1;\"><g class=\"legendfill\"/><g class=\"legendlines\"><path class=\"js-line\" d=\"M5,0h30\" style=\"fill: none; stroke: rgb(0, 204, 150); stroke-opacity: 1; stroke-width: 2px;\"/></g><g class=\"legendsymbols\"><g class=\"legendpoints\"/></g></g><rect class=\"legendtoggle\" x=\"0\" y=\"-9.5\" width=\"110.671875\" height=\"19\" style=\"fill: rgb(0, 0, 0); fill-opacity: 0;\"/></g><g class=\"traces\" transform=\"translate(0,71.5)\" style=\"opacity: 1;\"><text class=\"legendtext\" text-anchor=\"start\" x=\"40\" y=\"4.680000000000001\" style=\"font-family: 'Open Sans', verdana, arial, sans-serif; font-size: 12px; fill: rgb(42, 63, 95); fill-opacity: 1; white-space: pre;\">Q linear</text><g class=\"layers\" style=\"opacity: 1;\"><g class=\"legendfill\"/><g class=\"legendlines\"><path class=\"js-line\" d=\"M5,0h30\" style=\"fill: none; stroke: rgb(171, 99, 250); stroke-opacity: 1; stroke-width: 2px;\"/></g><g class=\"legendsymbols\"><g class=\"legendpoints\"/></g></g><rect class=\"legendtoggle\" x=\"0\" y=\"-9.5\" width=\"110.671875\" height=\"19\" style=\"fill: rgb(0, 0, 0); fill-opacity: 0;\"/></g></g></g><rect class=\"scrollbar\" rx=\"20\" ry=\"3\" width=\"0\" height=\"0\" style=\"fill: rgb(128, 139, 164); fill-opacity: 1;\" x=\"0\" y=\"0\"/></g><g class=\"g-gtitle\"><text class=\"gtitle\" x=\"35\" y=\"50\" text-anchor=\"start\" dy=\"0em\" style=\"font-family: 'Open Sans', verdana, arial, sans-serif; font-size: 17px; fill: rgb(42, 63, 95); opacity: 1; font-weight: normal; white-space: pre;\">I/Q Beat Signals for the First Chirp</text></g><g class=\"g-xtitle\"><text class=\"xtitle\" x=\"321\" y=\"460.8\" text-anchor=\"middle\" style=\"font-family: 'Open Sans', verdana, arial, sans-serif; font-size: 14px; fill: rgb(42, 63, 95); opacity: 1; font-weight: normal; white-space: pre;\">Time (µs)</text></g><g class=\"g-ytitle\"><text class=\"ytitle\" transform=\"rotate(-90,17.121875000000003,260)\" x=\"17.121875000000003\" y=\"260\" text-anchor=\"middle\" style=\"font-family: 'Open Sans', verdana, arial, sans-serif; font-size: 14px; fill: rgb(42, 63, 95); opacity: 1; font-weight: normal; white-space: pre;\">Amplitude (V)</text></g></g></svg>"
      ],
      "text/plain": [
       "<IPython.core.display.SVG object>"
      ]
     },
     "metadata": {},
     "output_type": "display_data"
    }
   ],
   "source": [
    "fig = go.Figure()\n",
    "\n",
    "fig.add_trace(go.Scatter(\n",
    "    x=time_matrix_nonlinear[0, 0, :] * 1e6,\n",
    "    y=np.real(data_matrix_nonlinear[0, 0, :]),\n",
    "    name='I nonlinear',\n",
    "))\n",
    "fig.add_trace(go.Scatter(\n",
    "    x=time_matrix_nonlinear[0, 0, :] * 1e6,\n",
    "    y=np.imag(data_matrix_nonlinear[0, 0, :]),\n",
    "    name='Q nonlinear',\n",
    "))\n",
    "fig.add_trace(go.Scatter(\n",
    "    x=time_matrix_linear[0, 0, :] * 1e6,\n",
    "    y=np.real(data_matrix_linear[0, 0, :]),\n",
    "    name='I linear',\n",
    "))\n",
    "fig.add_trace(go.Scatter(\n",
    "    x=time_matrix_linear[0, 0, :] * 1e6,\n",
    "    y=np.imag(data_matrix_linear[0, 0, :]),\n",
    "    name='Q linear',\n",
    "))\n",
    "\n",
    "fig.update_layout(\n",
    "    title='I/Q Beat Signals for the First Chirp',\n",
    "    yaxis=dict(title='Amplitude (V)'),\n",
    "    xaxis=dict(title='Time (µs)'),\n",
    ")\n",
    "\n",
    "# fig.show()\n",
    "display(SVG(fig.to_image(format='svg', scale=1)))"
   ]
  },
  {
   "cell_type": "markdown",
   "metadata": {},
   "source": [
    " ## Radar Signal Processing\n",
    " ### Range profile"
   ]
  },
  {
   "cell_type": "code",
   "execution_count": 9,
   "metadata": {},
   "outputs": [],
   "source": [
    "from scipy import signal\n",
    "import radarsimpy.processing as proc\n",
    "\n",
    "range_window = signal.chebwin(radar_linear.samples_per_pulse, at=60)\n",
    "\n",
    "range_profile_nonlinear = proc.cal_range_profile(\n",
    "    radar_nonlinear, data_matrix_nonlinear[:, :, :], range_window)\n",
    "range_profile_linear = proc.cal_range_profile(\n",
    "    radar_linear, data_matrix_linear[:, :, :], range_window)"
   ]
  },
  {
   "cell_type": "markdown",
   "metadata": {},
   "source": [
    "Plot the range profile"
   ]
  },
  {
   "cell_type": "code",
   "execution_count": 10,
   "metadata": {},
   "outputs": [
    {
     "data": {
      "image/svg+xml": [
       "<svg xmlns=\"http://www.w3.org/2000/svg\" xmlns:xlink=\"http://www.w3.org/1999/xlink\" class=\"main-svg\" width=\"700\" height=\"500\" style=\"\" viewBox=\"0 0 700 500\"><rect x=\"0\" y=\"0\" width=\"700\" height=\"500\" style=\"fill: rgb(255, 255, 255); fill-opacity: 1;\"/><defs id=\"defs-331f4a\"><g class=\"clips\"><clipPath id=\"clip331f4axyplot\" class=\"plotclip\"><rect width=\"462\" height=\"320\"/></clipPath><clipPath class=\"axesclip\" id=\"clip331f4ax\"><rect x=\"80\" y=\"0\" width=\"462\" height=\"500\"/></clipPath><clipPath class=\"axesclip\" id=\"clip331f4ay\"><rect x=\"0\" y=\"100\" width=\"700\" height=\"320\"/></clipPath><clipPath class=\"axesclip\" id=\"clip331f4axy\"><rect x=\"80\" y=\"100\" width=\"462\" height=\"320\"/></clipPath></g><g class=\"gradients\"/><g class=\"patterns\"/></defs><g class=\"bglayer\"><rect class=\"bg\" x=\"80\" y=\"100\" width=\"462\" height=\"320\" style=\"fill: rgb(229, 236, 246); fill-opacity: 1; stroke-width: 0;\"/></g><g class=\"layer-below\"><g class=\"imagelayer\"/><g class=\"shapelayer\"/></g><g class=\"cartesianlayer\"><g class=\"subplot xy\"><g class=\"layer-subplot\"><g class=\"shapelayer\"/><g class=\"imagelayer\"/></g><g class=\"gridlayer\"><g class=\"x\"><path class=\"xgrid crisp\" transform=\"translate(176.92000000000002,0)\" d=\"M0,100v320\" style=\"stroke: rgb(255, 255, 255); stroke-opacity: 1; stroke-width: 1px;\"/><path class=\"xgrid crisp\" transform=\"translate(273.84000000000003,0)\" d=\"M0,100v320\" style=\"stroke: rgb(255, 255, 255); stroke-opacity: 1; stroke-width: 1px;\"/><path class=\"xgrid crisp\" transform=\"translate(370.77,0)\" d=\"M0,100v320\" style=\"stroke: rgb(255, 255, 255); stroke-opacity: 1; stroke-width: 1px;\"/><path class=\"xgrid crisp\" transform=\"translate(467.69,0)\" d=\"M0,100v320\" style=\"stroke: rgb(255, 255, 255); stroke-opacity: 1; stroke-width: 1px;\"/></g><g class=\"y\"><path class=\"ygrid crisp\" transform=\"translate(0,395.71)\" d=\"M80,0h462\" style=\"stroke: rgb(255, 255, 255); stroke-opacity: 1; stroke-width: 1px;\"/><path class=\"ygrid crisp\" transform=\"translate(0,350.78999999999996)\" d=\"M80,0h462\" style=\"stroke: rgb(255, 255, 255); stroke-opacity: 1; stroke-width: 1px;\"/><path class=\"ygrid crisp\" transform=\"translate(0,305.87)\" d=\"M80,0h462\" style=\"stroke: rgb(255, 255, 255); stroke-opacity: 1; stroke-width: 1px;\"/><path class=\"ygrid crisp\" transform=\"translate(0,260.94)\" d=\"M80,0h462\" style=\"stroke: rgb(255, 255, 255); stroke-opacity: 1; stroke-width: 1px;\"/><path class=\"ygrid crisp\" transform=\"translate(0,216.01999999999998)\" d=\"M80,0h462\" style=\"stroke: rgb(255, 255, 255); stroke-opacity: 1; stroke-width: 1px;\"/><path class=\"ygrid crisp\" transform=\"translate(0,126.18)\" d=\"M80,0h462\" style=\"stroke: rgb(255, 255, 255); stroke-opacity: 1; stroke-width: 1px;\"/></g></g><g class=\"zerolinelayer\"><path class=\"xzl zl crisp\" transform=\"translate(80,0)\" d=\"M0,100v320\" style=\"stroke: rgb(255, 255, 255); stroke-opacity: 1; stroke-width: 2px;\"/><path class=\"yzl zl crisp\" transform=\"translate(0,171.1)\" d=\"M80,0h462\" style=\"stroke: rgb(255, 255, 255); stroke-opacity: 1; stroke-width: 2px;\"/></g><path class=\"xlines-below\"/><path class=\"ylines-below\"/><g class=\"overlines-below\"/><g class=\"xaxislayer-below\"/><g class=\"yaxislayer-below\"/><g class=\"overaxes-below\"/><g class=\"plot\" transform=\"translate(80,100)\" clip-path=\"url(#clip331f4axyplot)\"><g class=\"scatterlayer mlayer\"><g class=\"trace scatter traceb3f462\" style=\"stroke-miterlimit: 2; opacity: 1;\"><g class=\"fills\"/><g class=\"errorbars\"/><g class=\"lines\"><path class=\"js-line\" d=\"M0,241.45L2.91,196.29L5.81,226.82L8.72,247.4L11.62,239.04L14.53,214.01L17.43,211.61L20.34,204.02L23.25,205.53L26.15,229.84L29.06,228.37L31.96,221.85L34.87,208.43L37.77,200.62L40.68,197.11L43.58,200.42L46.49,210.8L49.4,169.76L52.3,89.76L55.21,39.7L58.11,19.56L61.02,38L63.92,87.69L66.83,163.32L69.74,190.36L75.55,233.05L78.45,212.75L81.36,227.44L84.26,228.31L87.17,249.03L90.08,235.62L92.98,268.31L95.89,253.67L98.79,264.19L101.7,208.27L104.6,191.78L107.51,209.07L110.42,248.33L113.32,225.3L116.23,238.65L119.13,226.34L122.04,214.18L124.94,228.45L127.85,234.69L130.75,218.89L133.66,250.24L136.57,245.46L139.47,257.53L142.38,216.95L145.28,214.07L148.19,244.15L151.09,283.74L154,217.17L156.91,228.91L159.81,231.5L162.72,260.95L165.62,190.78L171.43,198.02L174.34,151.38L180.15,100.07L183.06,87.98L185.96,81.31L188.87,83.38L191.77,93.69L194.68,113.25L197.58,135.28L200.49,186.81L203.4,181.88L206.3,215.36L209.21,205.14L212.11,206.12L215.02,201.59L217.92,263.64L220.83,234.41L223.74,234.22L226.64,210.28L229.55,217.87L232.45,227.99L235.36,272.8L238.26,256.02L241.17,245.47L244.08,204.11L246.98,199.73L249.89,240.92L252.79,236.3L255.7,208.97L258.6,201.1L261.51,200.12L264.42,213.05L267.32,206.15L270.23,187.33L273.13,206.24L276.04,243L278.94,208.51L281.85,252.86L284.75,202.85L287.66,189.86L290.57,289.4L293.47,203.1L296.38,202.24L299.28,206.31L302.19,229.41L305.09,238.69L310.91,198.8L313.81,237.08L316.72,227.49L319.62,222.81L322.53,249.33L325.43,216.72L328.34,220.14L331.25,202.99L337.06,249.36L339.96,216.62L342.87,219.06L345.77,235.06L348.68,232.02L351.58,224.53L354.49,272.99L357.4,219.84L360.3,235.6L363.21,205.17L366.11,182.36L369.02,172.42L371.92,161.76L374.83,140.18L377.74,134.95L380.64,139.31L383.55,134.81L386.45,128.49L389.36,127.68L392.26,129.38L395.17,132.73L398.08,139.7L400.98,147.71L403.89,162.03L406.79,186.78L409.7,187.55L412.6,200.26L415.51,207.41L418.42,262.99L421.32,218.48L424.23,191.93L427.13,193.56L430.04,242.9L432.94,207.18L435.85,254.06L438.75,209.65L441.66,216.69L444.57,206.68L450.38,233.95L453.28,208.46L456.19,207.51L459.09,201.42L462,217.11\" style=\"vector-effect: non-scaling-stroke; fill: none; stroke: rgb(99, 110, 250); stroke-opacity: 1; stroke-width: 2px; opacity: 1;\"/></g><g class=\"points\"/><g class=\"text\"/></g><g class=\"trace scatter trace96f027\" style=\"stroke-miterlimit: 2; opacity: 1;\"><g class=\"fills\"/><g class=\"errorbars\"/><g class=\"lines\"><path class=\"js-line\" d=\"M0,209.48L2.91,215.04L5.81,198.34L8.72,197.46L11.62,238.25L14.53,258.5L17.43,255.69L20.34,257.14L23.25,273.76L26.15,208.87L29.06,201.02L31.96,198.17L34.87,184.8L37.77,194.82L40.68,255.14L43.58,265.19L46.49,218.6L49.4,219.58L52.3,151.2L55.21,42.67L58.11,16L61.02,41.81L63.92,142.29L66.83,211.88L69.74,186.64L72.64,190.91L75.55,221.22L78.45,235.67L81.36,219.95L84.26,217.46L87.17,208.54L92.98,216.36L95.89,233.38L98.79,226.29L101.7,230.99L104.6,215.74L107.51,225.77L110.42,230.06L113.32,246.59L116.23,226.58L119.13,226.77L122.04,228.28L124.94,218.81L127.85,221.55L130.75,235.88L133.66,217.19L136.57,224.26L139.47,242.59L142.38,246.78L145.28,231.05L148.19,221.7L151.09,226.81L154,226.75L156.91,257.23L159.81,229.4L162.72,244.24L165.62,213.25L171.43,196.26L174.34,203.36L177.25,196.2L180.15,199.67L183.06,95.35L185.96,61.3L188.87,79.07L191.77,158.5L194.68,226.34L197.58,214.06L200.49,198.2L203.4,199.35L206.3,226.95L209.21,230.54L212.11,209.4L215.02,199.57L217.92,226.99L220.83,209.5L223.74,251.12L226.64,227.2L229.55,244.65L232.45,238.28L235.36,304L238.26,240.92L241.17,265.61L244.08,203.26L246.98,206.63L249.89,225.12L252.79,215.28L255.7,221.04L258.6,216.84L261.51,238.99L267.32,184.49L270.23,187.77L273.13,227.98L276.04,214.53L278.94,194.94L281.85,206.46L284.75,223.55L287.66,231.4L293.47,279.11L296.38,217.47L299.28,207.74L302.19,230.44L305.09,233.41L308,215.69L310.91,226.03L313.81,218.87L316.72,241.06L319.62,198.4L322.53,179.43L325.43,185.63L328.34,197.07L331.25,196.45L334.15,236.19L337.06,229.87L339.96,236.85L342.87,211.73L345.77,231.28L348.68,214.28L351.58,195.74L354.49,227.89L357.4,247.01L360.3,227.12L363.21,248.28L366.11,231.94L369.02,203.69L371.92,210.98L374.83,235.06L377.74,284.16L380.64,227.03L383.55,143.93L386.45,97.37L389.36,105.48L395.17,234.74L398.08,204.22L400.98,210.32L403.89,222.62L406.79,225.48L409.7,201.31L412.6,186.82L415.51,191.73L418.42,206.79L421.32,242.4L424.23,207.32L427.13,227.94L430.04,212.29L432.94,201.23L435.85,218.4L438.75,216.56L441.66,198.04L444.57,191.05L447.47,184.88L450.38,191.57L453.28,219.83L456.19,193.6L459.09,202.58L462,221.47\" style=\"vector-effect: non-scaling-stroke; fill: none; stroke: rgb(239, 85, 59); stroke-opacity: 1; stroke-width: 2px; opacity: 1;\"/></g><g class=\"points\"/><g class=\"text\"/></g></g></g><g class=\"overplot\"/><path class=\"xlines-above crisp\" d=\"M0,0\" style=\"fill: none;\"/><path class=\"ylines-above crisp\" d=\"M0,0\" style=\"fill: none;\"/><g class=\"overlines-above\"/><g class=\"xaxislayer-above\"><g class=\"xtick\"><text text-anchor=\"middle\" x=\"0\" y=\"433\" transform=\"translate(80,0)\" style=\"font-family: 'Open Sans', verdana, arial, sans-serif; font-size: 12px; fill: rgb(42, 63, 95); fill-opacity: 1; white-space: pre; opacity: 1;\">0</text></g><g class=\"xtick\"><text text-anchor=\"middle\" x=\"0\" y=\"433\" style=\"font-family: 'Open Sans', verdana, arial, sans-serif; font-size: 12px; fill: rgb(42, 63, 95); fill-opacity: 1; white-space: pre; opacity: 1;\" transform=\"translate(176.92000000000002,0)\">50</text></g><g class=\"xtick\"><text text-anchor=\"middle\" x=\"0\" y=\"433\" style=\"font-family: 'Open Sans', verdana, arial, sans-serif; font-size: 12px; fill: rgb(42, 63, 95); fill-opacity: 1; white-space: pre; opacity: 1;\" transform=\"translate(273.84000000000003,0)\">100</text></g><g class=\"xtick\"><text text-anchor=\"middle\" x=\"0\" y=\"433\" style=\"font-family: 'Open Sans', verdana, arial, sans-serif; font-size: 12px; fill: rgb(42, 63, 95); fill-opacity: 1; white-space: pre; opacity: 1;\" transform=\"translate(370.77,0)\">150</text></g><g class=\"xtick\"><text text-anchor=\"middle\" x=\"0\" y=\"433\" style=\"font-family: 'Open Sans', verdana, arial, sans-serif; font-size: 12px; fill: rgb(42, 63, 95); fill-opacity: 1; white-space: pre; opacity: 1;\" transform=\"translate(467.69,0)\">200</text></g></g><g class=\"yaxislayer-above\"><g class=\"ytick\"><text text-anchor=\"end\" x=\"79\" y=\"4.199999999999999\" transform=\"translate(0,395.71)\" style=\"font-family: 'Open Sans', verdana, arial, sans-serif; font-size: 12px; fill: rgb(42, 63, 95); fill-opacity: 1; white-space: pre; opacity: 1;\">−50</text></g><g class=\"ytick\"><text text-anchor=\"end\" x=\"79\" y=\"4.199999999999999\" style=\"font-family: 'Open Sans', verdana, arial, sans-serif; font-size: 12px; fill: rgb(42, 63, 95); fill-opacity: 1; white-space: pre; opacity: 1;\" transform=\"translate(0,350.78999999999996)\">−40</text></g><g class=\"ytick\"><text text-anchor=\"end\" x=\"79\" y=\"4.199999999999999\" style=\"font-family: 'Open Sans', verdana, arial, sans-serif; font-size: 12px; fill: rgb(42, 63, 95); fill-opacity: 1; white-space: pre; opacity: 1;\" transform=\"translate(0,305.87)\">−30</text></g><g class=\"ytick\"><text text-anchor=\"end\" x=\"79\" y=\"4.199999999999999\" style=\"font-family: 'Open Sans', verdana, arial, sans-serif; font-size: 12px; fill: rgb(42, 63, 95); fill-opacity: 1; white-space: pre; opacity: 1;\" transform=\"translate(0,260.94)\">−20</text></g><g class=\"ytick\"><text text-anchor=\"end\" x=\"79\" y=\"4.199999999999999\" style=\"font-family: 'Open Sans', verdana, arial, sans-serif; font-size: 12px; fill: rgb(42, 63, 95); fill-opacity: 1; white-space: pre; opacity: 1;\" transform=\"translate(0,216.01999999999998)\">−10</text></g><g class=\"ytick\"><text text-anchor=\"end\" x=\"79\" y=\"4.199999999999999\" style=\"font-family: 'Open Sans', verdana, arial, sans-serif; font-size: 12px; fill: rgb(42, 63, 95); fill-opacity: 1; white-space: pre; opacity: 1;\" transform=\"translate(0,171.1)\">0</text></g><g class=\"ytick\"><text text-anchor=\"end\" x=\"79\" y=\"4.199999999999999\" style=\"font-family: 'Open Sans', verdana, arial, sans-serif; font-size: 12px; fill: rgb(42, 63, 95); fill-opacity: 1; white-space: pre; opacity: 1;\" transform=\"translate(0,126.18)\">10</text></g></g><g class=\"overaxes-above\"/></g></g><g class=\"polarlayer\"/><g class=\"ternarylayer\"/><g class=\"geolayer\"/><g class=\"funnelarealayer\"/><g class=\"pielayer\"/><g class=\"iciclelayer\"/><g class=\"treemaplayer\"/><g class=\"sunburstlayer\"/><g class=\"glimages\"/><defs id=\"topdefs-331f4a\"><g class=\"clips\"/><clipPath id=\"legend331f4a\"><rect width=\"137\" height=\"48\" x=\"0\" y=\"0\"/></clipPath></defs><g class=\"layer-above\"><g class=\"imagelayer\"/><g class=\"shapelayer\"/></g><g class=\"infolayer\"><g class=\"legend\" pointer-events=\"all\" transform=\"translate(551.24,100)\"><rect class=\"bg\" shape-rendering=\"crispEdges\" style=\"stroke: rgb(68, 68, 68); stroke-opacity: 1; fill: rgb(255, 255, 255); fill-opacity: 1; stroke-width: 0px;\" width=\"137\" height=\"48\" x=\"0\" y=\"0\"/><g class=\"scrollbox\" transform=\"\" clip-path=\"url(#legend331f4a)\"><g class=\"groups\"><g class=\"traces\" transform=\"translate(0,14.5)\" style=\"opacity: 1;\"><text class=\"legendtext\" text-anchor=\"start\" x=\"40\" y=\"4.680000000000001\" style=\"font-family: 'Open Sans', verdana, arial, sans-serif; font-size: 12px; fill: rgb(42, 63, 95); fill-opacity: 1; white-space: pre;\">Nonlinear chirp</text><g class=\"layers\" style=\"opacity: 1;\"><g class=\"legendfill\"/><g class=\"legendlines\"><path class=\"js-line\" d=\"M5,0h30\" style=\"fill: none; stroke: rgb(99, 110, 250); stroke-opacity: 1; stroke-width: 2px;\"/></g><g class=\"legendsymbols\"><g class=\"legendpoints\"/></g></g><rect class=\"legendtoggle\" x=\"0\" y=\"-9.5\" width=\"132\" height=\"19\" style=\"fill: rgb(0, 0, 0); fill-opacity: 0;\"/></g><g class=\"traces\" transform=\"translate(0,33.5)\" style=\"opacity: 1;\"><text class=\"legendtext\" text-anchor=\"start\" x=\"40\" y=\"4.680000000000001\" style=\"font-family: 'Open Sans', verdana, arial, sans-serif; font-size: 12px; fill: rgb(42, 63, 95); fill-opacity: 1; white-space: pre;\">Lineaer chirp</text><g class=\"layers\" style=\"opacity: 1;\"><g class=\"legendfill\"/><g class=\"legendlines\"><path class=\"js-line\" d=\"M5,0h30\" style=\"fill: none; stroke: rgb(239, 85, 59); stroke-opacity: 1; stroke-width: 2px;\"/></g><g class=\"legendsymbols\"><g class=\"legendpoints\"/></g></g><rect class=\"legendtoggle\" x=\"0\" y=\"-9.5\" width=\"132\" height=\"19\" style=\"fill: rgb(0, 0, 0); fill-opacity: 0;\"/></g></g></g><rect class=\"scrollbar\" rx=\"20\" ry=\"3\" width=\"0\" height=\"0\" style=\"fill: rgb(128, 139, 164); fill-opacity: 1;\" x=\"0\" y=\"0\"/></g><g class=\"g-gtitle\"/><g class=\"g-xtitle\"><text class=\"xtitle\" x=\"311\" y=\"460.8\" text-anchor=\"middle\" style=\"font-family: 'Open Sans', verdana, arial, sans-serif; font-size: 14px; fill: rgb(42, 63, 95); opacity: 1; font-weight: normal; white-space: pre;\">Range (m)</text></g><g class=\"g-ytitle\"><text class=\"ytitle\" transform=\"rotate(-90,29.121875000000003,260)\" x=\"29.121875000000003\" y=\"260\" text-anchor=\"middle\" style=\"font-family: 'Open Sans', verdana, arial, sans-serif; font-size: 14px; fill: rgb(42, 63, 95); opacity: 1; font-weight: normal; white-space: pre;\">Amplitude (dB)</text></g></g></svg>"
      ],
      "text/plain": [
       "<IPython.core.display.SVG object>"
      ]
     },
     "metadata": {},
     "output_type": "display_data"
    }
   ],
   "source": [
    "range_axis = np.linspace(\n",
    "    0, radar_linear.max_range, radar_linear.samples_per_pulse, endpoint=False)\n",
    "\n",
    "fig = go.Figure()\n",
    "\n",
    "fig.add_trace(go.Scatter(\n",
    "    x=range_axis,\n",
    "    y=20 * np.log10(np.abs(range_profile_nonlinear[0, 0, :])),\n",
    "    name='Nonlinear chirp',\n",
    "))\n",
    "\n",
    "fig.add_trace(go.Scatter(\n",
    "    x=range_axis,\n",
    "    y=20 * np.log10(np.abs(range_profile_linear[0, 0, :])),\n",
    "    name='Lineaer chirp',\n",
    "))\n",
    "\n",
    "fig.update_layout(\n",
    "    yaxis=dict(title='Amplitude (dB)'),\n",
    "    xaxis=dict(title='Range (m)'),\n",
    ")\n",
    "\n",
    "# fig.show()\n",
    "display(SVG(fig.to_image(format='svg', scale=1)))"
   ]
  },
  {
   "cell_type": "code",
   "execution_count": null,
   "metadata": {},
   "outputs": [],
   "source": []
  }
 ],
 "metadata": {
  "file_extension": ".py",
  "kernelspec": {
   "display_name": "Python 3",
   "language": "python",
   "name": "python3"
  },
  "language_info": {
   "codemirror_mode": {
    "name": "ipython",
    "version": 3
   },
   "file_extension": ".py",
   "mimetype": "text/x-python",
   "name": "python",
   "nbconvert_exporter": "python",
   "pygments_lexer": "ipython3",
   "version": "3.9.6"
  },
  "mimetype": "text/x-python",
  "name": "python",
  "npconvert_exporter": "python",
  "pygments_lexer": "ipython3",
  "toc": {
   "base_numbering": 1,
   "nav_menu": {},
   "number_sections": true,
   "sideBar": true,
   "skip_h1_title": false,
   "title_cell": "Table of Contents",
   "title_sidebar": "Contents",
   "toc_cell": false,
   "toc_position": {},
   "toc_section_display": true,
   "toc_window_display": false
  },
  "varInspector": {
   "cols": {
    "lenName": 16,
    "lenType": 16,
    "lenVar": 40
   },
   "kernels_config": {
    "python": {
     "delete_cmd_postfix": "",
     "delete_cmd_prefix": "del ",
     "library": "var_list.py",
     "varRefreshCmd": "print(var_dic_list())"
    },
    "r": {
     "delete_cmd_postfix": ") ",
     "delete_cmd_prefix": "rm(",
     "library": "var_list.r",
     "varRefreshCmd": "cat(var_dic_list()) "
    }
   },
   "types_to_exclude": [
    "module",
    "function",
    "builtin_function_or_method",
    "instance",
    "_Feature"
   ],
   "window_display": false
  },
  "version": 3
 },
 "nbformat": 4,
 "nbformat_minor": 4
}
