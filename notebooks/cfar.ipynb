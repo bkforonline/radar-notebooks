{
 "cells": [
  {
   "cell_type": "markdown",
   "metadata": {},
   "source": [
    "# CFAR\n",
    "\n",
    "<a href=\"https://rookiepeng.github.io/radarsimpy/\" target=\"_blank\" rel=\"nofollow\"><img src=\"https://img.shields.io/badge/Documentation-latest-brightgree?style=flat&logo=read-the-docs\" height=\"20\" align=\"left\"></a>\n",
    "\n",
    "<br></br>\n",
    "This is an example of Constant False Alarm Rate (CFAR) threshold for an FMCW radar.\n",
    "[`RadarSimPy`](https://github.com/rookiepeng/radarsimpy) has two buildin CFAR methods: `CA-CFAR` and `OS-CFAR`.\n",
    "\n",
    "## Radar Model\n",
    "### Transmitter\n",
    "\n",
    "Setup the basic transmitter parameters through `Transmitter` module.\n",
    "\n",
    "The following table lists the parameters in this example.\n",
    "\n",
    " | Parameter                       | Variable in `Transmitter`| Value                |\n",
    " |---------------------------------|--------------------------|----------------------|\n",
    " | Frequency ($f$)                 | `f`                      | [24.075, 24.175] GHz |\n",
    " | Time ($T$)                      | `t`                      | 80e-6 s              |\n",
    " | Transmitted power ($P_t$)       | `tx_power`               | 10 dBm               |\n",
    " | Pulse repetition period ($PRP$) | `prp`                    | 100 us               |\n",
    " | Number of pulses                | `pulses`                 | 1                    |\n",
    "\n",
    "Here, `f` and `t` define the frequency modulation of the transmitter. The frequency changes from `24.075 GHz` to `24.175 GHz` within `80e-6 s`.\n",
    "\n",
    "The radiation pattern os the transmitter antenna is $\\cos{\\theta}$. The gain of the antenna is 6 dB.\n"
   ]
  },
  {
   "cell_type": "code",
   "execution_count": 1,
   "metadata": {},
   "outputs": [],
   "source": [
    "import numpy as np\n",
    "from radarsimpy import Radar, Transmitter, Receiver\n",
    "\n",
    "angle = np.arange(-90, 91, 1)\n",
    "pattern = 20 * np.log10(np.cos(angle / 180 * np.pi) + 0.01) + 6\n",
    "\n",
    "tx_channel = dict(\n",
    "    location=(0, 0, 0),\n",
    "    azimuth_angle=angle,\n",
    "    azimuth_pattern=pattern,\n",
    "    elevation_angle=angle,\n",
    "    elevation_pattern=pattern,\n",
    ")\n",
    "\n",
    "tx = Transmitter(f=[24.075e9, 24.175e9],\n",
    "                 t=80e-6,\n",
    "                 tx_power=20,\n",
    "                 prp=100e-6,\n",
    "                 pulses=1,\n",
    "                 channels=[tx_channel])"
   ]
  },
  {
   "cell_type": "markdown",
   "metadata": {},
   "source": [
    "### Receiver\n",
    "\n",
    "Setup the receiver parameters through `Receiver` module.\n",
    "\n",
    "The parameters of the receiver are listed in the table below.\n",
    "\n",
    " | Parameter                        | Variable in `Receiver`   | Value        |\n",
    " |----------------------------------|--------------------------|--------------|\n",
    " | Sampling rate ($f_s$)            | `fs`                     | 2 Msps       |\n",
    " | Noise figure ($NF$)              | `noise_figure`           | 12 dB        |\n",
    " | RF gain/loss ($G_{rf}$)          | `rf_gain`                | 20 dB        |\n",
    " | Load resistor ($R_L$)            | `load_resistor`          | 500 $\\Omega$ |\n",
    " | Baseband voltage gain ($G_{BB}$) | `baseband_gain`          | 30 dB        |\n",
    "\n",
    " The radiation pattern os the receiver antenna is $\\cos{\\theta}$. The gain of the antenna is 6 dB."
   ]
  },
  {
   "cell_type": "code",
   "execution_count": 2,
   "metadata": {},
   "outputs": [],
   "source": [
    "rx_channel = dict(\n",
    "    location=(0, 0, 0),\n",
    "    azimuth_angle=angle,\n",
    "    azimuth_pattern=pattern,\n",
    "    elevation_angle=angle,\n",
    "    elevation_pattern=pattern,\n",
    ")\n",
    "\n",
    "rx = Receiver(fs=2e6,\n",
    "              noise_figure=12,\n",
    "              rf_gain=20,\n",
    "              load_resistor=500,\n",
    "              baseband_gain=30,\n",
    "              channels=[rx_channel])"
   ]
  },
  {
   "cell_type": "markdown",
   "metadata": {},
   "source": [
    " Create the FMCW radar model based on all the parameters defined above."
   ]
  },
  {
   "cell_type": "code",
   "execution_count": 3,
   "metadata": {},
   "outputs": [],
   "source": [
    "radar = Radar(transmitter=tx, receiver=rx)"
   ]
  },
  {
   "cell_type": "markdown",
   "metadata": {},
   "source": [
    "### Targets\n",
    "\n",
    "The propertities of targets are defined here. The locations of the targets are defined through $(x, y, z)$ coordinates in meters, and the speeds of the targets are defined trough $(v_x, v_y, v_z)$ in $m/s$. The propertites of the targets also includes radar cross-section (RCS (dBsm)) and phase (degree)."
   ]
  },
  {
   "cell_type": "code",
   "execution_count": 4,
   "metadata": {},
   "outputs": [],
   "source": [
    "target_1 = dict(location=(95, 20, 0), speed=(-50, 0, 0), rcs=20, phase=0)\n",
    "target_2 = dict(location=(30, -5, 0), speed=(-22, 0, 0), rcs=10, phase=0)\n",
    "\n",
    "targets = [target_1, target_2]"
   ]
  },
  {
   "cell_type": "markdown",
   "metadata": {},
   "source": [
    "## Simulate Baseband Signals\n",
    " \n",
    "Use the `simulator` module to simulate the baseband samples. The user can choose between Python engine `simpy` or C++ engine `simc`.\n",
    "\n",
    "The output baseband data is a 3-D matrix:\n",
    "\n",
    "$[channels, pulses, ADC~samples]$\n",
    " \n",
    "#### Simulate with C++ engine"
   ]
  },
  {
   "cell_type": "code",
   "execution_count": 5,
   "metadata": {},
   "outputs": [],
   "source": [
    "from radarsimpy.simulator import simc\n",
    "\n",
    "data = simc(radar, targets)\n",
    "time_matrix = data['timestamp']\n",
    "data_matrix = data['baseband']"
   ]
  },
  {
   "cell_type": "code",
   "execution_count": 6,
   "metadata": {},
   "outputs": [
    {
     "data": {
      "image/svg+xml": [
       "<svg xmlns=\"http://www.w3.org/2000/svg\" xmlns:xlink=\"http://www.w3.org/1999/xlink\" class=\"main-svg\" width=\"700\" height=\"500\" style=\"\" viewBox=\"0 0 700 500\"><rect x=\"0\" y=\"0\" width=\"700\" height=\"500\" style=\"fill: rgb(255, 255, 255); fill-opacity: 1;\"/><defs id=\"defs-73a184\"><g class=\"clips\"><clipPath id=\"clip73a184xyplot\" class=\"plotclip\"><rect width=\"537\" height=\"320\"/></clipPath><clipPath class=\"axesclip\" id=\"clip73a184x\"><rect x=\"83\" y=\"0\" width=\"537\" height=\"500\"/></clipPath><clipPath class=\"axesclip\" id=\"clip73a184y\"><rect x=\"0\" y=\"100\" width=\"700\" height=\"320\"/></clipPath><clipPath class=\"axesclip\" id=\"clip73a184xy\"><rect x=\"83\" y=\"100\" width=\"537\" height=\"320\"/></clipPath></g><g class=\"gradients\"/><g class=\"patterns\"/></defs><g class=\"bglayer\"><rect class=\"bg\" x=\"83\" y=\"100\" width=\"537\" height=\"320\" style=\"fill: rgb(229, 236, 246); fill-opacity: 1; stroke-width: 0;\"/></g><g class=\"layer-below\"><g class=\"imagelayer\"/><g class=\"shapelayer\"/></g><g class=\"cartesianlayer\"><g class=\"subplot xy\"><g class=\"layer-subplot\"><g class=\"shapelayer\"/><g class=\"imagelayer\"/></g><g class=\"gridlayer\"><g class=\"x\"><path class=\"xgrid crisp\" transform=\"translate(218.09,0)\" d=\"M0,100v320\" style=\"stroke: rgb(255, 255, 255); stroke-opacity: 1; stroke-width: 1px;\"/><path class=\"xgrid crisp\" transform=\"translate(353.19,0)\" d=\"M0,100v320\" style=\"stroke: rgb(255, 255, 255); stroke-opacity: 1; stroke-width: 1px;\"/><path class=\"xgrid crisp\" transform=\"translate(488.28,0)\" d=\"M0,100v320\" style=\"stroke: rgb(255, 255, 255); stroke-opacity: 1; stroke-width: 1px;\"/></g><g class=\"y\"><path class=\"ygrid crisp\" transform=\"translate(0,417.31)\" d=\"M83,0h537\" style=\"stroke: rgb(255, 255, 255); stroke-opacity: 1; stroke-width: 1px;\"/><path class=\"ygrid crisp\" transform=\"translate(0,380.97)\" d=\"M83,0h537\" style=\"stroke: rgb(255, 255, 255); stroke-opacity: 1; stroke-width: 1px;\"/><path class=\"ygrid crisp\" transform=\"translate(0,344.63)\" d=\"M83,0h537\" style=\"stroke: rgb(255, 255, 255); stroke-opacity: 1; stroke-width: 1px;\"/><path class=\"ygrid crisp\" transform=\"translate(0,308.3)\" d=\"M83,0h537\" style=\"stroke: rgb(255, 255, 255); stroke-opacity: 1; stroke-width: 1px;\"/><path class=\"ygrid crisp\" transform=\"translate(0,235.62)\" d=\"M83,0h537\" style=\"stroke: rgb(255, 255, 255); stroke-opacity: 1; stroke-width: 1px;\"/><path class=\"ygrid crisp\" transform=\"translate(0,199.28)\" d=\"M83,0h537\" style=\"stroke: rgb(255, 255, 255); stroke-opacity: 1; stroke-width: 1px;\"/><path class=\"ygrid crisp\" transform=\"translate(0,162.94)\" d=\"M83,0h537\" style=\"stroke: rgb(255, 255, 255); stroke-opacity: 1; stroke-width: 1px;\"/><path class=\"ygrid crisp\" transform=\"translate(0,126.6)\" d=\"M83,0h537\" style=\"stroke: rgb(255, 255, 255); stroke-opacity: 1; stroke-width: 1px;\"/></g></g><g class=\"zerolinelayer\"><path class=\"xzl zl crisp\" transform=\"translate(83,0)\" d=\"M0,100v320\" style=\"stroke: rgb(255, 255, 255); stroke-opacity: 1; stroke-width: 2px;\"/><path class=\"yzl zl crisp\" transform=\"translate(0,271.96000000000004)\" d=\"M83,0h537\" style=\"stroke: rgb(255, 255, 255); stroke-opacity: 1; stroke-width: 2px;\"/></g><path class=\"xlines-below\"/><path class=\"ylines-below\"/><g class=\"overlines-below\"/><g class=\"xaxislayer-below\"/><g class=\"yaxislayer-below\"/><g class=\"overaxes-below\"/><g class=\"plot\" transform=\"translate(83,100)\" clip-path=\"url(#clip73a184xyplot)\"><g class=\"scatterlayer mlayer\"><g class=\"trace scatter tracee90b18\" style=\"stroke-miterlimit: 2; opacity: 1;\"><g class=\"fills\"/><g class=\"errorbars\"/><g class=\"lines\"><path class=\"js-line\" d=\"M0,144.75L3.38,125.72L6.75,87.69L10.13,119.79L13.51,179.97L16.89,232.69L20.26,268.87L23.64,227.84L27.02,167.23L30.4,95.27L33.77,82.4L37.15,109.2L40.53,160.4L43.91,279.31L47.28,278.25L50.66,207.2L54.04,209.95L57.42,74.34L60.79,137.87L64.17,115.97L67.55,160.56L70.92,257.52L74.3,235L77.68,245.97L81.06,151.4L84.43,91.78L87.81,105.68L91.19,61.25L94.57,195.09L97.94,235.89L101.32,242.2L104.7,208.91L108.08,158.38L111.45,155.53L114.83,64.28L121.58,202.54L124.96,244.25L128.34,304L131.72,200.09L135.09,171.68L138.47,82.81L141.85,60.46L145.23,126.31L148.6,136.46L151.98,235.9L155.36,282.09L158.74,196.4L162.11,174.41L165.49,88.97L168.87,123.72L172.25,128.75L175.62,161.63L179,279.92L182.38,227.43L185.75,251.18L192.51,63.9L195.89,115.9L199.26,93.85L202.64,189.01L206.02,244.73L209.4,240.38L212.77,261.98L216.15,101.35L219.53,130.01L222.91,78.78L226.28,130.4L229.66,225.03L233.04,247.95L236.42,257.54L239.79,217.47L243.17,135.9L246.55,123.4L249.92,66.66L253.3,130.56L256.68,224.86L260.06,212.21L263.43,287.97L266.81,206.01L270.19,148.17L273.57,62.96L276.94,54.87L280.32,161.29L283.7,188.93L287.08,258.43L290.45,279.34L300.58,92.3L303.96,77.47L307.34,140.42L310.72,179.49L314.09,255.52L317.47,241.02L324.23,181.07L327.6,61.1L330.98,114.14L334.36,133.09L337.74,198.23L341.11,245.29L344.49,227.25L347.87,224.63L351.25,124.29L354.62,112.21L358,84.41L361.38,103.16L364.75,211.46L368.13,230.33L371.51,246.88L374.89,241.14L378.26,144.94L381.64,90.03L385.02,57.77L388.4,162.32L391.77,178.28L395.15,236.56L398.53,274.97L401.91,202.49L405.28,127.7L408.66,103.23L412.04,82.47L415.42,157.89L418.79,179.98L422.17,277.58L428.92,195.83L432.3,169.74L435.68,80.91L439.06,116.35L442.43,128.68L445.81,194.99L449.19,270.88L452.57,201.12L455.94,248.3L459.32,121.46L462.7,114.19L466.08,85.6L469.45,92.93L472.83,231.35L476.21,194.33L479.58,221.99L482.96,250.48L486.34,111.86L489.72,145.21L493.09,84.95L496.47,107.62L499.85,222.59L503.23,217.69L506.6,281.42L509.98,239.18L513.36,100.35L516.74,123.93L520.11,52.53L523.49,100.9L526.87,160.62L530.25,289.42L533.62,296.79L537,194.22\" style=\"vector-effect: non-scaling-stroke; fill: none; stroke: rgb(99, 110, 250); stroke-opacity: 1; stroke-width: 2px; opacity: 1;\"/></g><g class=\"points\"/><g class=\"text\"/></g><g class=\"trace scatter trace01edc7\" style=\"stroke-miterlimit: 2; opacity: 1;\"><g class=\"fills\"/><g class=\"errorbars\"/><g class=\"lines\"><path class=\"js-line\" d=\"M0,259.99L3.38,257.22L6.75,149.55L10.13,107.67L13.51,107.09L16.89,86.55L20.26,198.99L23.64,204.45L27.02,234.4L30.4,233.54L33.77,136.15L37.15,115.65L40.53,88.92L43.91,76.9L47.28,195.77L50.66,204.29L54.04,303.69L57.42,192.49L60.79,176.04L64.17,106.78L67.55,16L70.92,153.73L74.3,176.8L77.68,207.99L81.06,228.47L84.43,230.52L87.81,216.66L91.19,74.99L94.57,52.61L97.94,137.78L101.32,140.11L104.7,265.14L108.08,230.88L111.45,217.28L114.83,156.81L118.21,91.98L121.58,118.43L124.96,131.64L128.34,168.95L131.72,223.8L135.09,206.18L138.47,261.65L141.85,161.01L145.23,96.86L148.6,111.92L151.98,77.63L155.36,189.26L158.74,217.82L162.11,285.21L165.49,247.82L168.87,113.39L172.25,121.5L175.62,62.19L182.38,219.85L185.75,239.19L189.13,295.26L192.51,189.44L195.89,167.59L199.26,119.07L202.64,84.62L206.02,152.58L209.4,178.38L212.77,217.26L216.15,272.45L219.53,174.89L222.91,176.73L226.28,70.14L229.66,102.75L233.04,151.66L236.42,160.44L239.79,251.3L243.17,224.05L246.55,190.63L249.92,193.42L253.3,120.45L256.68,124.1L260.06,78.55L263.43,196.44L266.81,224.76L270.19,220.44L273.57,253.35L276.94,158.79L280.32,109.45L283.7,107.62L287.08,126.03L290.45,241.13L293.83,238.96L297.21,278.13L300.58,221.79L303.96,130.82L307.34,157.24L310.72,64.98L314.09,125.9L317.47,197.99L320.85,234.79L324.23,290.08L327.6,192.05L330.98,150.23L334.36,120.11L337.74,67.09L341.11,181.29L344.49,146.42L347.87,275.97L351.25,246.13L354.62,197.5L358,157.84L361.38,86.81L364.75,70.81L368.13,96.11L371.51,162.36L374.89,275.07L378.26,266.5L381.64,229.38L388.4,78.66L391.77,118.73L395.15,123.26L398.53,213.06L405.28,267.26L408.66,288.5L412.04,162.11L415.42,150L418.79,61.33L422.17,83.58L425.55,205.61L428.92,207.5L432.3,251.97L435.68,231.2L439.06,122.07L442.43,135.07L445.81,60.43L449.19,116.18L452.57,167.02L455.94,241.35L459.32,281.03L462.7,232.42L469.45,104.27L472.83,56.12L476.21,154.08L479.58,191.15L482.96,272.04L486.34,260.1L493.09,169.05L496.47,105.72L499.85,112.24L503.23,107.78L509.98,249.63L513.36,219.07L516.74,234.94L520.11,148.55L523.49,81.54L526.87,130.29L530.25,94.11L533.62,199.63L537,236.86\" style=\"vector-effect: non-scaling-stroke; fill: none; stroke: rgb(239, 85, 59); stroke-opacity: 1; stroke-width: 2px; opacity: 1;\"/></g><g class=\"points\"/><g class=\"text\"/></g></g></g><g class=\"overplot\"/><path class=\"xlines-above crisp\" d=\"M0,0\" style=\"fill: none;\"/><path class=\"ylines-above crisp\" d=\"M0,0\" style=\"fill: none;\"/><g class=\"overlines-above\"/><g class=\"xaxislayer-above\"><g class=\"xtick\"><text text-anchor=\"middle\" x=\"0\" y=\"433\" transform=\"translate(83,0)\" style=\"font-family: 'Open Sans', verdana, arial, sans-serif; font-size: 12px; fill: rgb(42, 63, 95); fill-opacity: 1; white-space: pre; opacity: 1;\">0</text></g><g class=\"xtick\"><text text-anchor=\"middle\" x=\"0\" y=\"433\" style=\"font-family: 'Open Sans', verdana, arial, sans-serif; font-size: 12px; fill: rgb(42, 63, 95); fill-opacity: 1; white-space: pre; opacity: 1;\" transform=\"translate(218.09,0)\">20μ</text></g><g class=\"xtick\"><text text-anchor=\"middle\" x=\"0\" y=\"433\" style=\"font-family: 'Open Sans', verdana, arial, sans-serif; font-size: 12px; fill: rgb(42, 63, 95); fill-opacity: 1; white-space: pre; opacity: 1;\" transform=\"translate(353.19,0)\">40μ</text></g><g class=\"xtick\"><text text-anchor=\"middle\" x=\"0\" y=\"433\" style=\"font-family: 'Open Sans', verdana, arial, sans-serif; font-size: 12px; fill: rgb(42, 63, 95); fill-opacity: 1; white-space: pre; opacity: 1;\" transform=\"translate(488.28,0)\">60μ</text></g></g><g class=\"yaxislayer-above\"><g class=\"ytick\"><text text-anchor=\"end\" x=\"82\" y=\"4.199999999999999\" transform=\"translate(0,417.31)\" style=\"font-family: 'Open Sans', verdana, arial, sans-serif; font-size: 12px; fill: rgb(42, 63, 95); fill-opacity: 1; white-space: pre; opacity: 1;\">−0.02</text></g><g class=\"ytick\"><text text-anchor=\"end\" x=\"82\" y=\"4.199999999999999\" style=\"font-family: 'Open Sans', verdana, arial, sans-serif; font-size: 12px; fill: rgb(42, 63, 95); fill-opacity: 1; white-space: pre; opacity: 1;\" transform=\"translate(0,380.97)\">−0.015</text></g><g class=\"ytick\"><text text-anchor=\"end\" x=\"82\" y=\"4.199999999999999\" style=\"font-family: 'Open Sans', verdana, arial, sans-serif; font-size: 12px; fill: rgb(42, 63, 95); fill-opacity: 1; white-space: pre; opacity: 1;\" transform=\"translate(0,344.63)\">−0.01</text></g><g class=\"ytick\"><text text-anchor=\"end\" x=\"82\" y=\"4.199999999999999\" style=\"font-family: 'Open Sans', verdana, arial, sans-serif; font-size: 12px; fill: rgb(42, 63, 95); fill-opacity: 1; white-space: pre; opacity: 1;\" transform=\"translate(0,308.3)\">−0.005</text></g><g class=\"ytick\"><text text-anchor=\"end\" x=\"82\" y=\"4.199999999999999\" style=\"font-family: 'Open Sans', verdana, arial, sans-serif; font-size: 12px; fill: rgb(42, 63, 95); fill-opacity: 1; white-space: pre; opacity: 1;\" transform=\"translate(0,271.96000000000004)\">0</text></g><g class=\"ytick\"><text text-anchor=\"end\" x=\"82\" y=\"4.199999999999999\" style=\"font-family: 'Open Sans', verdana, arial, sans-serif; font-size: 12px; fill: rgb(42, 63, 95); fill-opacity: 1; white-space: pre; opacity: 1;\" transform=\"translate(0,235.62)\">0.005</text></g><g class=\"ytick\"><text text-anchor=\"end\" x=\"82\" y=\"4.199999999999999\" style=\"font-family: 'Open Sans', verdana, arial, sans-serif; font-size: 12px; fill: rgb(42, 63, 95); fill-opacity: 1; white-space: pre; opacity: 1;\" transform=\"translate(0,199.28)\">0.01</text></g><g class=\"ytick\"><text text-anchor=\"end\" x=\"82\" y=\"4.199999999999999\" style=\"font-family: 'Open Sans', verdana, arial, sans-serif; font-size: 12px; fill: rgb(42, 63, 95); fill-opacity: 1; white-space: pre; opacity: 1;\" transform=\"translate(0,162.94)\">0.015</text></g><g class=\"ytick\"><text text-anchor=\"end\" x=\"82\" y=\"4.199999999999999\" style=\"font-family: 'Open Sans', verdana, arial, sans-serif; font-size: 12px; fill: rgb(42, 63, 95); fill-opacity: 1; white-space: pre; opacity: 1;\" transform=\"translate(0,126.6)\">0.02</text></g></g><g class=\"overaxes-above\"/></g></g><g class=\"polarlayer\"/><g class=\"ternarylayer\"/><g class=\"geolayer\"/><g class=\"funnelarealayer\"/><g class=\"pielayer\"/><g class=\"iciclelayer\"/><g class=\"treemaplayer\"/><g class=\"sunburstlayer\"/><g class=\"glimages\"/><defs id=\"topdefs-73a184\"><g class=\"clips\"/><clipPath id=\"legend73a184\"><rect width=\"55\" height=\"48\" x=\"0\" y=\"0\"/></clipPath></defs><g class=\"layer-above\"><g class=\"imagelayer\"/><g class=\"shapelayer\"/></g><g class=\"infolayer\"><g class=\"legend\" pointer-events=\"all\" transform=\"translate(630.74,100)\"><rect class=\"bg\" shape-rendering=\"crispEdges\" style=\"stroke: rgb(68, 68, 68); stroke-opacity: 1; fill: rgb(255, 255, 255); fill-opacity: 1; stroke-width: 0px;\" width=\"55\" height=\"48\" x=\"0\" y=\"0\"/><g class=\"scrollbox\" transform=\"\" clip-path=\"url(#legend73a184)\"><g class=\"groups\"><g class=\"traces\" transform=\"translate(0,14.5)\" style=\"opacity: 1;\"><text class=\"legendtext\" text-anchor=\"start\" x=\"40\" y=\"4.680000000000001\" style=\"font-family: 'Open Sans', verdana, arial, sans-serif; font-size: 12px; fill: rgb(42, 63, 95); fill-opacity: 1; white-space: pre;\">I</text><g class=\"layers\" style=\"opacity: 1;\"><g class=\"legendfill\"/><g class=\"legendlines\"><path class=\"js-line\" d=\"M5,0h30\" style=\"fill: none; stroke: rgb(99, 110, 250); stroke-opacity: 1; stroke-width: 2px;\"/></g><g class=\"legendsymbols\"><g class=\"legendpoints\"/></g></g><rect class=\"legendtoggle\" x=\"0\" y=\"-9.5\" width=\"50\" height=\"19\" style=\"fill: rgb(0, 0, 0); fill-opacity: 0;\"/></g><g class=\"traces\" transform=\"translate(0,33.5)\" style=\"opacity: 1;\"><text class=\"legendtext\" text-anchor=\"start\" x=\"40\" y=\"4.680000000000001\" style=\"font-family: 'Open Sans', verdana, arial, sans-serif; font-size: 12px; fill: rgb(42, 63, 95); fill-opacity: 1; white-space: pre;\">Q</text><g class=\"layers\" style=\"opacity: 1;\"><g class=\"legendfill\"/><g class=\"legendlines\"><path class=\"js-line\" d=\"M5,0h30\" style=\"fill: none; stroke: rgb(239, 85, 59); stroke-opacity: 1; stroke-width: 2px;\"/></g><g class=\"legendsymbols\"><g class=\"legendpoints\"/></g></g><rect class=\"legendtoggle\" x=\"0\" y=\"-9.5\" width=\"50\" height=\"19\" style=\"fill: rgb(0, 0, 0); fill-opacity: 0;\"/></g></g></g><rect class=\"scrollbar\" rx=\"20\" ry=\"3\" width=\"0\" height=\"0\" style=\"fill: rgb(128, 139, 164); fill-opacity: 1;\" x=\"0\" y=\"0\"/></g><g class=\"g-gtitle\"><text class=\"gtitle\" x=\"35\" y=\"50\" text-anchor=\"start\" dy=\"0em\" style=\"font-family: 'Open Sans', verdana, arial, sans-serif; font-size: 17px; fill: rgb(42, 63, 95); opacity: 1; font-weight: normal; white-space: pre;\">I/Q Beat Signals for the First Chirp</text></g><g class=\"g-xtitle\"><text class=\"xtitle\" x=\"351.5\" y=\"460.8\" text-anchor=\"middle\" style=\"font-family: 'Open Sans', verdana, arial, sans-serif; font-size: 14px; fill: rgb(42, 63, 95); opacity: 1; font-weight: normal; white-space: pre;\">Time (s)</text></g><g class=\"g-ytitle\" transform=\"translate(1.5029296875,0)\"><text class=\"ytitle\" transform=\"rotate(-90,12.496875000000003,260)\" x=\"12.496875000000003\" y=\"260\" text-anchor=\"middle\" style=\"font-family: 'Open Sans', verdana, arial, sans-serif; font-size: 14px; fill: rgb(42, 63, 95); opacity: 1; font-weight: normal; white-space: pre;\">Amplitude (V)</text></g></g></svg>"
      ],
      "text/plain": [
       "<IPython.core.display.SVG object>"
      ]
     },
     "metadata": {},
     "output_type": "display_data"
    }
   ],
   "source": [
    "import plotly.graph_objs as go\n",
    "from IPython.display import SVG, display\n",
    "\n",
    "fig = go.Figure()\n",
    "\n",
    "fig.add_trace(go.Scatter(\n",
    "    x=time_matrix[0, 0, :],\n",
    "    y=np.real(data_matrix[0, 0, :]),\n",
    "    name='I',\n",
    "))\n",
    "fig.add_trace(go.Scatter(\n",
    "    x=time_matrix[0, 0, :],\n",
    "    y=np.imag(data_matrix[0, 0, :]),\n",
    "    name='Q',\n",
    "))\n",
    "\n",
    "fig.update_layout(\n",
    "    title='I/Q Beat Signals for the First Chirp',\n",
    "    yaxis=dict(title='Amplitude (V)'),\n",
    "    xaxis=dict(title='Time (s)'),\n",
    ")\n",
    "\n",
    "# fig.show()\n",
    "display(SVG(fig.to_image(format='svg', scale=1)))"
   ]
  },
  {
   "cell_type": "markdown",
   "metadata": {},
   "source": [
    " ## Radar Signal Processing\n",
    " ### Range profile and CFAR"
   ]
  },
  {
   "cell_type": "code",
   "execution_count": 7,
   "metadata": {},
   "outputs": [],
   "source": [
    "from scipy import signal\n",
    "import radarsimpy.processing as proc\n",
    "\n",
    "range_window = signal.chebwin(radar.samples_per_pulse, at=60)\n",
    "range_profile = proc.cal_range_profile(radar, data_matrix, range_window)\n",
    "\n",
    "ca_cfar = proc.cfar_ca(range_profile[0, 0, :], guard=2, trailing=10, pfa=1e-2)\n",
    "os_cfar = proc.cfar_os(range_profile[0, 0, :], n=20, k=14, pfa=1e-2)"
   ]
  },
  {
   "cell_type": "markdown",
   "metadata": {},
   "source": [
    "Plot range profile and CFAR"
   ]
  },
  {
   "cell_type": "code",
   "execution_count": 8,
   "metadata": {},
   "outputs": [
    {
     "data": {
      "image/svg+xml": [
       "<svg xmlns=\"http://www.w3.org/2000/svg\" xmlns:xlink=\"http://www.w3.org/1999/xlink\" class=\"main-svg\" width=\"700\" height=\"500\" style=\"\" viewBox=\"0 0 700 500\"><rect x=\"0\" y=\"0\" width=\"700\" height=\"500\" style=\"fill: rgb(255, 255, 255); fill-opacity: 1;\"/><defs id=\"defs-7d114f\"><g class=\"clips\"><clipPath id=\"clip7d114fxyplot\" class=\"plotclip\"><rect width=\"474\" height=\"320\"/></clipPath><clipPath class=\"axesclip\" id=\"clip7d114fx\"><rect x=\"80\" y=\"0\" width=\"474\" height=\"500\"/></clipPath><clipPath class=\"axesclip\" id=\"clip7d114fy\"><rect x=\"0\" y=\"100\" width=\"700\" height=\"320\"/></clipPath><clipPath class=\"axesclip\" id=\"clip7d114fxy\"><rect x=\"80\" y=\"100\" width=\"474\" height=\"320\"/></clipPath></g><g class=\"gradients\"/><g class=\"patterns\"/></defs><g class=\"bglayer\"><rect class=\"bg\" x=\"80\" y=\"100\" width=\"474\" height=\"320\" style=\"fill: rgb(229, 236, 246); fill-opacity: 1; stroke-width: 0;\"/></g><g class=\"layer-below\"><g class=\"imagelayer\"/><g class=\"shapelayer\"/></g><g class=\"cartesianlayer\"><g class=\"subplot xy\"><g class=\"layer-subplot\"><g class=\"shapelayer\"/><g class=\"imagelayer\"/></g><g class=\"gridlayer\"><g class=\"x\"><path class=\"xgrid crisp\" transform=\"translate(179.44,0)\" d=\"M0,100v320\" style=\"stroke: rgb(255, 255, 255); stroke-opacity: 1; stroke-width: 1px;\"/><path class=\"xgrid crisp\" transform=\"translate(278.88,0)\" d=\"M0,100v320\" style=\"stroke: rgb(255, 255, 255); stroke-opacity: 1; stroke-width: 1px;\"/><path class=\"xgrid crisp\" transform=\"translate(378.32,0)\" d=\"M0,100v320\" style=\"stroke: rgb(255, 255, 255); stroke-opacity: 1; stroke-width: 1px;\"/><path class=\"xgrid crisp\" transform=\"translate(477.76,0)\" d=\"M0,100v320\" style=\"stroke: rgb(255, 255, 255); stroke-opacity: 1; stroke-width: 1px;\"/></g><g class=\"y\"><path class=\"ygrid crisp\" transform=\"translate(0,384.48)\" d=\"M80,0h474\" style=\"stroke: rgb(255, 255, 255); stroke-opacity: 1; stroke-width: 1px;\"/><path class=\"ygrid crisp\" transform=\"translate(0,329.75)\" d=\"M80,0h474\" style=\"stroke: rgb(255, 255, 255); stroke-opacity: 1; stroke-width: 1px;\"/><path class=\"ygrid crisp\" transform=\"translate(0,275.02)\" d=\"M80,0h474\" style=\"stroke: rgb(255, 255, 255); stroke-opacity: 1; stroke-width: 1px;\"/><path class=\"ygrid crisp\" transform=\"translate(0,220.3)\" d=\"M80,0h474\" style=\"stroke: rgb(255, 255, 255); stroke-opacity: 1; stroke-width: 1px;\"/><path class=\"ygrid crisp\" transform=\"translate(0,165.57)\" d=\"M80,0h474\" style=\"stroke: rgb(255, 255, 255); stroke-opacity: 1; stroke-width: 1px;\"/></g></g><g class=\"zerolinelayer\"><path class=\"xzl zl crisp\" transform=\"translate(80,0)\" d=\"M0,100v320\" style=\"stroke: rgb(255, 255, 255); stroke-opacity: 1; stroke-width: 2px;\"/><path class=\"yzl zl crisp\" transform=\"translate(0,110.84)\" d=\"M80,0h474\" style=\"stroke: rgb(255, 255, 255); stroke-opacity: 1; stroke-width: 2px;\"/></g><path class=\"xlines-below\"/><path class=\"ylines-below\"/><g class=\"overlines-below\"/><g class=\"xaxislayer-below\"/><g class=\"yaxislayer-below\"/><g class=\"overaxes-below\"/><g class=\"plot\" transform=\"translate(80,100)\" clip-path=\"url(#clip7d114fxyplot)\"><g class=\"scatterlayer mlayer\"><g class=\"trace scatter trace023339\" style=\"stroke-miterlimit: 2; opacity: 1;\"><g class=\"fills\"/><g class=\"errorbars\"/><g class=\"lines\"><path class=\"js-line\" d=\"M0,209.55L2.98,188.7L5.96,207.13L8.94,208.3L11.92,183.77L14.91,181.58L17.89,223.27L20.87,214.8L23.85,176.34L26.83,202.91L29.81,155.59L32.79,173.68L35.77,232.5L38.75,193.07L41.74,200.06L44.72,201L47.7,250.86L50.68,240.5L53.66,168.43L56.64,50.21L59.62,16L62.6,46.59L65.58,181.73L68.57,204.77L71.55,177.36L74.53,158.21L77.51,172.87L80.49,215.12L83.47,218.12L86.45,169.9L89.43,149.32L92.42,160.39L95.4,185.98L98.38,277.42L101.36,224.89L104.34,247.58L107.32,208.95L110.3,191.69L113.28,271.43L116.26,189.51L119.25,208.98L122.23,203.4L125.21,303.68L128.19,187.8L131.17,220L134.15,220.35L137.13,227.58L140.11,239.82L143.09,257.54L146.08,218.99L149.06,207.14L152.04,175.45L155.02,191.61L158,230.42L160.98,279.18L163.96,234.32L166.94,235.86L169.92,224.49L172.91,239.51L178.87,196.89L181.85,251.28L184.83,163.8L187.81,110.49L190.79,74.47L193.77,98.9L196.75,241.07L199.74,208.76L202.72,211.25L205.7,271.83L208.68,189.38L211.66,179.92L214.64,188.72L217.62,178.55L220.6,179.7L223.58,245.7L226.57,178.31L229.55,157.46L232.53,156L235.51,208.53L238.49,215.18L241.47,175.97L244.45,192.28L247.43,194.92L250.42,267.75L253.4,178.53L259.36,185.83L262.34,186.21L265.32,158.25L268.3,168.75L271.28,261.88L274.26,205.07L277.25,187.48L280.23,158.61L283.21,167.33L286.19,173.11L289.17,172.93L292.15,160.22L295.13,199.96L298.11,197.52L301.09,187.09L304.08,276.82L307.06,239.03L310.04,229.67L313.02,249.6L316,219.47L318.98,238.49L321.96,267.3L324.94,193.03L327.92,180.74L330.91,144.41L333.89,145.98L336.87,186.64L339.85,190.96L342.83,171.46L345.81,193.38L348.79,210.95L351.77,187.53L354.75,187.7L357.74,206.31L360.72,165.15L363.7,169.39L366.68,185.39L369.66,236.39L372.64,202.62L375.62,242.4L378.6,304L381.58,196.25L384.57,198.49L387.55,176.75L390.53,184.6L393.51,180.75L396.49,236.06L399.47,186.01L402.45,194.12L405.43,157.49L408.42,167.01L411.4,167.23L414.38,143.18L417.36,155.89L420.34,200.82L423.32,174.34L426.3,157.75L429.28,170.14L432.26,211.29L435.25,210.58L438.23,176.16L441.21,190.47L447.17,223.61L450.15,177.17L453.13,228.75L456.11,251.01L459.09,180.54L462.08,160.44L465.06,183.97L468.04,267.95L471.02,258.87L474,213.07\" style=\"vector-effect: non-scaling-stroke; fill: none; stroke: rgb(99, 110, 250); stroke-opacity: 1; stroke-width: 2px; opacity: 1;\"/></g><g class=\"points\"/><g class=\"text\"/></g><g class=\"trace scatter trace39bdb5\" style=\"stroke-miterlimit: 2; opacity: 1;\"><g class=\"fills\"/><g class=\"errorbars\"/><g class=\"lines\"><path class=\"js-line\" d=\"M0,144.39L2.98,143.2L5.96,144.74L8.94,143.51L11.92,139.91L14.91,138.02L17.89,134.36L23.85,52.44L26.83,40.71L44.72,36.72L47.7,37.1L50.68,46.77L53.66,76.93L56.64,105.41L59.62,106.15L62.6,106.85L65.58,79.42L68.57,49.18L71.55,38.79L74.53,38.2L77.51,38.49L92.42,39.2L95.4,49.12L101.36,112.46L104.34,114.22L107.32,115.52L110.3,118.96L113.28,123.68L116.26,124.17L119.25,120.46L122.23,123.38L125.21,126.17L128.19,132.4L134.15,140.56L137.13,136.4L140.11,136.09L143.09,134.54L146.08,139.8L149.06,139.15L152.04,121.8L155.02,97.63L158,87.46L160.98,86.67L163.96,85.2L166.94,85.65L169.92,86.72L172.91,86.7L175.89,85.47L178.87,86.26L181.85,92.08L184.83,111.34L187.81,129.17L190.79,129.67L193.77,122.98L196.75,107.03L199.74,86.84L202.72,79.1L211.66,78.99L214.64,80.73L220.6,78.37L223.58,80.28L226.57,86.86L229.55,101.27L232.53,113.13L235.51,113.59L241.47,107.48L244.45,102.86L247.43,103.03L250.42,102.31L256.38,101L259.36,105.33L262.34,104.81L265.32,103.33L271.28,109.97L274.26,110.49L277.25,111.31L280.23,116.29L286.19,124.29L289.17,118.84L292.15,116.95L295.13,112.4L298.11,106.3L301.09,103.22L304.08,104.41L307.06,103.44L310.04,101.04L313.02,101.58L316,101.28L318.98,104L324.94,111.98L327.92,117.15L330.91,121.74L333.89,123.15L336.87,124.22L339.85,121.38L342.83,116.39L345.81,115L348.79,114.16L351.77,109.86L357.74,110.36L360.72,110.05L363.7,108.2L366.68,108.99L375.62,104.62L378.6,102.16L381.58,102.13L384.57,103.95L387.55,104.72L390.53,101.9L396.49,100.85L399.47,104.58L402.45,105.84L405.43,108.75L411.4,115.07L414.38,109.86L417.36,108.55L420.34,110.72L426.3,103.23L429.28,102.9L432.26,104.85L435.25,103.17L438.23,102.52L441.21,104.05L444.19,109.71L447.17,111.39L450.15,113.57L453.13,122.13L456.11,133.47L459.09,135.86L462.08,140.59L465.06,149.83L468.04,154.92L471.02,148.22L474,145.8\" style=\"vector-effect: non-scaling-stroke; fill: none; stroke: rgb(239, 85, 59); stroke-opacity: 1; stroke-width: 2px; opacity: 1;\"/></g><g class=\"points\"/><g class=\"text\"/></g><g class=\"trace scatter trace7de6e7\" style=\"stroke-miterlimit: 2; opacity: 1;\"><g class=\"fills\"/><g class=\"errorbars\"/><g class=\"lines\"><path class=\"js-line\" d=\"M0,106.76L2.98,105.72L5.96,106.76L11.92,106.76L14.91,109.15L17.89,109.15L20.87,113.88L23.85,113.88L26.83,106.76L29.81,106.76L32.79,101.52L35.77,98.86L38.75,98.86L41.74,98.86L44.72,93.61L50.68,93.61L53.66,98.05L56.64,95.08L59.62,93.61L62.6,93.61L65.58,85.57L71.55,85.57L74.53,93.61L77.51,85.57L80.49,85.57L86.45,85.57L89.43,98.05L92.42,102.54L95.4,102.54L101.36,102.54L104.34,111.16L110.3,114.69L113.28,114.69L116.26,116.87L119.25,116.87L125.21,116.87L128.19,132.32L131.17,128.58L134.15,128.58L140.11,128.58L143.09,132.32L146.08,132.32L149.06,134.16L152.04,142L155.02,142L158,122.07L160.98,122.07L163.96,116.79L166.94,116.79L175.89,116.79L178.87,114.56L181.85,105.1L184.83,114.56L187.81,113.9L190.79,105.1L193.77,105.1L196.75,103.73L199.74,103.5L202.72,88.98L214.64,88.98L217.62,101.15L220.6,103.5L223.58,103.71L226.57,104.88L229.55,104.88L232.53,104.88L235.51,103.71L247.43,103.5L250.42,101.15L253.4,93.93L256.38,93.93L262.34,93.93L265.32,98.29L316,98.29L318.98,105.92L321.96,111.82L324.94,112.27L327.92,112.71L330.91,112.27L333.89,111.82L336.87,105.92L339.85,105.92L342.83,110.57L345.81,105.92L348.79,105.92L354.75,105.92L357.74,101.93L360.72,109.78L363.7,109.78L375.62,109.78L378.6,105.93L381.58,101.93L384.57,94.57L387.55,92.41L390.53,92.41L393.51,94.57L396.49,92.41L402.45,92.41L405.43,95.32L417.36,95.32L420.34,92.41L423.32,92.41L426.3,95.32L429.28,92.41L432.26,92.19L438.23,92.41L441.21,95.32L444.19,99.52L447.17,101.34L450.15,105.72L453.13,102.35L459.09,109.15L462.08,109.15L474,108.95\" style=\"vector-effect: non-scaling-stroke; fill: none; stroke: rgb(0, 204, 150); stroke-opacity: 1; stroke-width: 2px; opacity: 1;\"/></g><g class=\"points\"/><g class=\"text\"/></g></g></g><g class=\"overplot\"/><path class=\"xlines-above crisp\" d=\"M0,0\" style=\"fill: none;\"/><path class=\"ylines-above crisp\" d=\"M0,0\" style=\"fill: none;\"/><g class=\"overlines-above\"/><g class=\"xaxislayer-above\"><g class=\"xtick\"><text text-anchor=\"middle\" x=\"0\" y=\"433\" transform=\"translate(80,0)\" style=\"font-family: 'Open Sans', verdana, arial, sans-serif; font-size: 12px; fill: rgb(42, 63, 95); fill-opacity: 1; white-space: pre; opacity: 1;\">0</text></g><g class=\"xtick\"><text text-anchor=\"middle\" x=\"0\" y=\"433\" style=\"font-family: 'Open Sans', verdana, arial, sans-serif; font-size: 12px; fill: rgb(42, 63, 95); fill-opacity: 1; white-space: pre; opacity: 1;\" transform=\"translate(179.44,0)\">50</text></g><g class=\"xtick\"><text text-anchor=\"middle\" x=\"0\" y=\"433\" style=\"font-family: 'Open Sans', verdana, arial, sans-serif; font-size: 12px; fill: rgb(42, 63, 95); fill-opacity: 1; white-space: pre; opacity: 1;\" transform=\"translate(278.88,0)\">100</text></g><g class=\"xtick\"><text text-anchor=\"middle\" x=\"0\" y=\"433\" style=\"font-family: 'Open Sans', verdana, arial, sans-serif; font-size: 12px; fill: rgb(42, 63, 95); fill-opacity: 1; white-space: pre; opacity: 1;\" transform=\"translate(378.32,0)\">150</text></g><g class=\"xtick\"><text text-anchor=\"middle\" x=\"0\" y=\"433\" style=\"font-family: 'Open Sans', verdana, arial, sans-serif; font-size: 12px; fill: rgb(42, 63, 95); fill-opacity: 1; white-space: pre; opacity: 1;\" transform=\"translate(477.76,0)\">200</text></g></g><g class=\"yaxislayer-above\"><g class=\"ytick\"><text text-anchor=\"end\" x=\"79\" y=\"4.199999999999999\" transform=\"translate(0,384.48)\" style=\"font-family: 'Open Sans', verdana, arial, sans-serif; font-size: 12px; fill: rgb(42, 63, 95); fill-opacity: 1; white-space: pre; opacity: 1;\">−50</text></g><g class=\"ytick\"><text text-anchor=\"end\" x=\"79\" y=\"4.199999999999999\" style=\"font-family: 'Open Sans', verdana, arial, sans-serif; font-size: 12px; fill: rgb(42, 63, 95); fill-opacity: 1; white-space: pre; opacity: 1;\" transform=\"translate(0,329.75)\">−40</text></g><g class=\"ytick\"><text text-anchor=\"end\" x=\"79\" y=\"4.199999999999999\" style=\"font-family: 'Open Sans', verdana, arial, sans-serif; font-size: 12px; fill: rgb(42, 63, 95); fill-opacity: 1; white-space: pre; opacity: 1;\" transform=\"translate(0,275.02)\">−30</text></g><g class=\"ytick\"><text text-anchor=\"end\" x=\"79\" y=\"4.199999999999999\" style=\"font-family: 'Open Sans', verdana, arial, sans-serif; font-size: 12px; fill: rgb(42, 63, 95); fill-opacity: 1; white-space: pre; opacity: 1;\" transform=\"translate(0,220.3)\">−20</text></g><g class=\"ytick\"><text text-anchor=\"end\" x=\"79\" y=\"4.199999999999999\" style=\"font-family: 'Open Sans', verdana, arial, sans-serif; font-size: 12px; fill: rgb(42, 63, 95); fill-opacity: 1; white-space: pre; opacity: 1;\" transform=\"translate(0,165.57)\">−10</text></g><g class=\"ytick\"><text text-anchor=\"end\" x=\"79\" y=\"4.199999999999999\" style=\"font-family: 'Open Sans', verdana, arial, sans-serif; font-size: 12px; fill: rgb(42, 63, 95); fill-opacity: 1; white-space: pre; opacity: 1;\" transform=\"translate(0,110.84)\">0</text></g></g><g class=\"overaxes-above\"/></g></g><g class=\"polarlayer\"/><g class=\"ternarylayer\"/><g class=\"geolayer\"/><g class=\"funnelarealayer\"/><g class=\"pielayer\"/><g class=\"iciclelayer\"/><g class=\"treemaplayer\"/><g class=\"sunburstlayer\"/><g class=\"glimages\"/><defs id=\"topdefs-7d114f\"><g class=\"clips\"/><clipPath id=\"legend7d114f\"><rect width=\"125\" height=\"67\" x=\"0\" y=\"0\"/></clipPath></defs><g class=\"layer-above\"><g class=\"imagelayer\"/><g class=\"shapelayer\"/></g><g class=\"infolayer\"><g class=\"legend\" pointer-events=\"all\" transform=\"translate(563.48,100)\"><rect class=\"bg\" shape-rendering=\"crispEdges\" style=\"stroke: rgb(68, 68, 68); stroke-opacity: 1; fill: rgb(255, 255, 255); fill-opacity: 1; stroke-width: 0px;\" width=\"125\" height=\"67\" x=\"0\" y=\"0\"/><g class=\"scrollbox\" transform=\"\" clip-path=\"url(#legend7d114f)\"><g class=\"groups\"><g class=\"traces\" transform=\"translate(0,14.5)\" style=\"opacity: 1;\"><text class=\"legendtext\" text-anchor=\"start\" x=\"40\" y=\"4.680000000000001\" style=\"font-family: 'Open Sans', verdana, arial, sans-serif; font-size: 12px; fill: rgb(42, 63, 95); fill-opacity: 1; white-space: pre;\">Range profile</text><g class=\"layers\" style=\"opacity: 1;\"><g class=\"legendfill\"/><g class=\"legendlines\"><path class=\"js-line\" d=\"M5,0h30\" style=\"fill: none; stroke: rgb(99, 110, 250); stroke-opacity: 1; stroke-width: 2px;\"/></g><g class=\"legendsymbols\"><g class=\"legendpoints\"/></g></g><rect class=\"legendtoggle\" x=\"0\" y=\"-9.5\" width=\"119.59375\" height=\"19\" style=\"fill: rgb(0, 0, 0); fill-opacity: 0;\"/></g><g class=\"traces\" transform=\"translate(0,33.5)\" style=\"opacity: 1;\"><text class=\"legendtext\" text-anchor=\"start\" x=\"40\" y=\"4.680000000000001\" style=\"font-family: 'Open Sans', verdana, arial, sans-serif; font-size: 12px; fill: rgb(42, 63, 95); fill-opacity: 1; white-space: pre;\">CA-CFAR</text><g class=\"layers\" style=\"opacity: 1;\"><g class=\"legendfill\"/><g class=\"legendlines\"><path class=\"js-line\" d=\"M5,0h30\" style=\"fill: none; stroke: rgb(239, 85, 59); stroke-opacity: 1; stroke-width: 2px;\"/></g><g class=\"legendsymbols\"><g class=\"legendpoints\"/></g></g><rect class=\"legendtoggle\" x=\"0\" y=\"-9.5\" width=\"119.59375\" height=\"19\" style=\"fill: rgb(0, 0, 0); fill-opacity: 0;\"/></g><g class=\"traces\" transform=\"translate(0,52.5)\" style=\"opacity: 1;\"><text class=\"legendtext\" text-anchor=\"start\" x=\"40\" y=\"4.680000000000001\" style=\"font-family: 'Open Sans', verdana, arial, sans-serif; font-size: 12px; fill: rgb(42, 63, 95); fill-opacity: 1; white-space: pre;\">OS-CFAR</text><g class=\"layers\" style=\"opacity: 1;\"><g class=\"legendfill\"/><g class=\"legendlines\"><path class=\"js-line\" d=\"M5,0h30\" style=\"fill: none; stroke: rgb(0, 204, 150); stroke-opacity: 1; stroke-width: 2px;\"/></g><g class=\"legendsymbols\"><g class=\"legendpoints\"/></g></g><rect class=\"legendtoggle\" x=\"0\" y=\"-9.5\" width=\"119.59375\" height=\"19\" style=\"fill: rgb(0, 0, 0); fill-opacity: 0;\"/></g></g></g><rect class=\"scrollbar\" rx=\"20\" ry=\"3\" width=\"0\" height=\"0\" style=\"fill: rgb(128, 139, 164); fill-opacity: 1;\" x=\"0\" y=\"0\"/></g><g class=\"g-gtitle\"><text class=\"gtitle\" x=\"35\" y=\"50\" text-anchor=\"start\" dy=\"0em\" style=\"font-family: 'Open Sans', verdana, arial, sans-serif; font-size: 17px; fill: rgb(42, 63, 95); opacity: 1; font-weight: normal; white-space: pre;\">Range Profile</text></g><g class=\"g-xtitle\"><text class=\"xtitle\" x=\"317\" y=\"460.8\" text-anchor=\"middle\" style=\"font-family: 'Open Sans', verdana, arial, sans-serif; font-size: 14px; fill: rgb(42, 63, 95); opacity: 1; font-weight: normal; white-space: pre;\">Range (m)</text></g><g class=\"g-ytitle\"><text class=\"ytitle\" transform=\"rotate(-90,29.121875000000003,260)\" x=\"29.121875000000003\" y=\"260\" text-anchor=\"middle\" style=\"font-family: 'Open Sans', verdana, arial, sans-serif; font-size: 14px; fill: rgb(42, 63, 95); opacity: 1; font-weight: normal; white-space: pre;\">Amplitude (dB)</text></g></g></svg>"
      ],
      "text/plain": [
       "<IPython.core.display.SVG object>"
      ]
     },
     "metadata": {},
     "output_type": "display_data"
    }
   ],
   "source": [
    "range_axis = np.linspace(\n",
    "    0, radar.max_range, radar.samples_per_pulse, endpoint=False)\n",
    "\n",
    "fig = go.Figure()\n",
    "\n",
    "fig.add_trace(go.Scatter(\n",
    "    x=range_axis,\n",
    "    y=20*np.log10(np.abs(range_profile[0, 0, :])),\n",
    "    name='Range profile',\n",
    "))\n",
    "\n",
    "fig.add_trace(go.Scatter(\n",
    "    x=range_axis,\n",
    "    y=20*np.log10(ca_cfar),\n",
    "    name='CA-CFAR'\n",
    "))\n",
    "\n",
    "fig.add_trace(go.Scatter(\n",
    "    x=range_axis,\n",
    "    y=20*np.log10(os_cfar),\n",
    "    name='OS-CFAR'\n",
    "))\n",
    "\n",
    "fig.update_layout(\n",
    "    title='Range Profile',\n",
    "    yaxis=dict(title='Amplitude (dB)'),\n",
    "    xaxis=dict(title='Range (m)'),\n",
    ")\n",
    "\n",
    "# fig.show()\n",
    "display(SVG(fig.to_image(format='svg', scale=1)))"
   ]
  },
  {
   "cell_type": "code",
   "execution_count": null,
   "metadata": {},
   "outputs": [],
   "source": []
  }
 ],
 "metadata": {
  "file_extension": ".py",
  "kernelspec": {
   "display_name": "Python 3",
   "language": "python",
   "name": "python3"
  },
  "language_info": {
   "codemirror_mode": {
    "name": "ipython",
    "version": 3
   },
   "file_extension": ".py",
   "mimetype": "text/x-python",
   "name": "python",
   "nbconvert_exporter": "python",
   "pygments_lexer": "ipython3",
   "version": "3.9.6"
  },
  "mimetype": "text/x-python",
  "name": "python",
  "npconvert_exporter": "python",
  "pygments_lexer": "ipython3",
  "toc": {
   "base_numbering": 1,
   "nav_menu": {},
   "number_sections": true,
   "sideBar": true,
   "skip_h1_title": false,
   "title_cell": "Table of Contents",
   "title_sidebar": "Contents",
   "toc_cell": false,
   "toc_position": {},
   "toc_section_display": true,
   "toc_window_display": false
  },
  "varInspector": {
   "cols": {
    "lenName": 16,
    "lenType": 16,
    "lenVar": 40
   },
   "kernels_config": {
    "python": {
     "delete_cmd_postfix": "",
     "delete_cmd_prefix": "del ",
     "library": "var_list.py",
     "varRefreshCmd": "print(var_dic_list())"
    },
    "r": {
     "delete_cmd_postfix": ") ",
     "delete_cmd_prefix": "rm(",
     "library": "var_list.r",
     "varRefreshCmd": "cat(var_dic_list()) "
    }
   },
   "types_to_exclude": [
    "module",
    "function",
    "builtin_function_or_method",
    "instance",
    "_Feature"
   ],
   "window_display": false
  },
  "version": 3
 },
 "nbformat": 4,
 "nbformat_minor": 4
}
