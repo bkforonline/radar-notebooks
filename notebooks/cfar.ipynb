{
 "cells": [
  {
   "cell_type": "markdown",
   "metadata": {},
   "source": [
    "# CFAR\n",
    "\n",
    "This is an example of Constant False Alarm Rate (CFAR) threshold for an FMCW radar.\n",
    "`RadarSimPy` has two buildin CFAR methods: `CA-CFAR` and `OS-CFAR`.\n",
    "\n",
    ">`RadarSimPy` is a radar simulation package built with python. **<a href=\"https://zpeng.me/#contact\" target=\"_blank\">Contact me</a> if you are interested in this module.**\n",
    "\n",
    "\n",
    "## Radar Model\n",
    "### Transmitter\n",
    "\n",
    "The following table lists the basic parameters of the radar transmitter.\n",
    "\n",
    " | Parameter                       | Variable in `RadarSimPy` | Value      |\n",
    " |---------------------------------|--------------------------|------------|\n",
    " | Center frequency ($f_c$)        | fc                       | 24.125 GHz |\n",
    " | Bandwidth ($B$)                 | bandwidth                | 100 MHz    |\n",
    " | Transmitted power ($P_t$)       | tx_power                 | 10 dBm     |\n",
    " | Rising or falling chirp         | slop_type                | rising     |\n",
    " | Chirp repetition period ($CRP$) | repetition_period        | 100 us     |\n",
    " | Chirp length ($T$)              | pulse_length             | 80 us      |\n",
    " | Number of chirps                | pulses                   | 1        |\n",
    " | Chirp start delay               | delay                    | 0 s        |\n",
    "\n",
    "The radiation pattern os the transmitter antenna is $\\cos{\\theta}$. The gain of the antenna is 6 dB.\n"
   ]
  },
  {
   "cell_type": "code",
   "execution_count": 1,
   "metadata": {},
   "outputs": [],
   "source": [
    "import numpy as np\n",
    "from radarsimpy import Radar, Transmitter, Receiver\n",
    "\n",
    "angle = np.arange(-90, 91, 1)\n",
    "pattern = 20 * np.log10(np.cos(angle / 180 * np.pi) + 0.01) + 6\n",
    "\n",
    "tx_channel = dict(\n",
    "    location=(0, 0, 0),\n",
    "    azimuth_angle=angle,\n",
    "    azimuth_pattern=pattern,\n",
    "    elevation_angle=angle,\n",
    "    elevation_pattern=pattern,\n",
    ")\n",
    "\n",
    "tx = Transmitter(f=[24.075e9, 24.175e9],\n",
    "                 t=80e-6,\n",
    "                 tx_power=20,\n",
    "                 prp=100e-6,\n",
    "                 pulses=1,\n",
    "                 channels=[tx_channel])"
   ]
  },
  {
   "cell_type": "markdown",
   "metadata": {},
   "source": [
    " ### Receiver\n",
    " The parameters of the receiver are listed in the table below.\n",
    "\n",
    " | Parameter                        | Variable in `RadarSimPy` | Value        |\n",
    " |----------------------------------|--------------------------|--------------|\n",
    " | Sampling rate ($f_s$)            | fs                       | 2 Msps       |\n",
    " | Noise figure ($NF$)              | noise_figure             | 12 dB        |\n",
    " | RF gain/loss ($G_{rf}$)          | rf_gain                  | 20 dB        |\n",
    " | Load resistor ($R_L$)            | load_resistor            | 500 $\\Omega$ |\n",
    " | Baseband voltage gain ($G_{BB}$) | baseband_gain            | 30 dB        |\n",
    "\n",
    " The radiation pattern os the receiver antenna is $\\cos{\\theta}$. The gain of the antenna is 6 dB."
   ]
  },
  {
   "cell_type": "code",
   "execution_count": 2,
   "metadata": {},
   "outputs": [],
   "source": [
    "rx_channel = dict(\n",
    "    location=(0, 0, 0),\n",
    "    azimuth_angle=angle,\n",
    "    azimuth_pattern=pattern,\n",
    "    elevation_angle=angle,\n",
    "    elevation_pattern=pattern,\n",
    ")\n",
    "\n",
    "rx = Receiver(fs=2e6,\n",
    "              noise_figure=12,\n",
    "              rf_gain=20,\n",
    "              load_resistor=500,\n",
    "              baseband_gain=30,\n",
    "              channels=[rx_channel])"
   ]
  },
  {
   "cell_type": "markdown",
   "metadata": {},
   "source": [
    " Create the FMCW radar model based on all the parameters defined above."
   ]
  },
  {
   "cell_type": "code",
   "execution_count": 3,
   "metadata": {},
   "outputs": [],
   "source": [
    "radar = Radar(transmitter=tx, receiver=rx)"
   ]
  },
  {
   "cell_type": "markdown",
   "metadata": {},
   "source": [
    " Calculate the characteristics of the FMCW radar:\n",
    "\n",
    " - Maximum range (*with I/Q baseband*): $$R_{max}=\\frac{c f_s T}{2B}$$\n",
    "\n",
    " - Maximum range (*without I/Q baseband*): $$R_{max}=\\frac{c f_s T}{4B}$$\n",
    "\n",
    " - Unambiguous velocity: $$v_{ua}=\\frac{c}{2 CRP \\times f_c}$$ or $$v_{ua}=\\pm \\frac{c}{4 CRP \\times f_c}$$\n",
    "\n",
    " - Range resolution: $$\\delta_r=\\frac{c}{2B}$$\n"
   ]
  },
  {
   "cell_type": "code",
   "execution_count": 4,
   "metadata": {},
   "outputs": [
    {
     "name": "stdout",
     "output_type": "stream",
     "text": [
      "Maximum range:  239.83396640000004  m\n",
      "Maximum unambiguous speed:  62.133151917098445  m/s\n",
      "Range_resolution:  1.49896229  m\n"
     ]
    }
   ],
   "source": [
    "print('Maximum range: ', radar.max_range, ' m')\n",
    "print('Maximum unambiguous speed: ', radar.unambiguous_speed, ' m/s')\n",
    "print('Range_resolution: ', radar.range_resolution, ' m')"
   ]
  },
  {
   "cell_type": "markdown",
   "metadata": {},
   "source": [
    " ### Targets\n",
    " The propertities of targets are defined here. There are 3 targets in this simulation. The locations of the targets are defined through $(x, y, z)$ coordinates in meters, and the speeds of the targets are defined trough $(v_x, v_y, v_z)$ in $m/s$. The propertites of the targets also includes radar cross-section (RCS (dBsm)) and phase (radian)."
   ]
  },
  {
   "cell_type": "code",
   "execution_count": 5,
   "metadata": {},
   "outputs": [],
   "source": [
    "target_1 = dict(location=(95, 20, 0), speed=(-50, 0, 0), rcs=20, phase=0)\n",
    "target_2 = dict(location=(30, -5, 0), speed=(-22, 0, 0), rcs=10, phase=0)\n",
    "\n",
    "targets = [target_1, target_2]"
   ]
  },
  {
   "cell_type": "markdown",
   "metadata": {},
   "source": [
    "## Simulate Baseband Signals\n",
    " \n",
    "Calculate baseband signal matrix:\n",
    "$$[channel, slow~time, fast~time]$$\n",
    " \n",
    "#### Simulate with C++ engine"
   ]
  },
  {
   "cell_type": "code",
   "execution_count": 6,
   "metadata": {},
   "outputs": [],
   "source": [
    "from radarsimpy import simulatorcpp as simcpp\n",
    "\n",
    "data_cpp = simcpp(radar, targets)\n",
    "time_matrix_cpp = data_cpp['timestamp']\n",
    "data_matrix_cpp = data_cpp['baseband']"
   ]
  },
  {
   "cell_type": "code",
   "execution_count": 7,
   "metadata": {},
   "outputs": [
    {
     "data": {
      "image/svg+xml": [
       "<svg xmlns=\"http://www.w3.org/2000/svg\" xmlns:xlink=\"http://www.w3.org/1999/xlink\" class=\"main-svg\" width=\"700\" height=\"500\" style=\"\" viewBox=\"0 0 700 500\"><rect x=\"0\" y=\"0\" width=\"700\" height=\"500\" style=\"fill: rgb(255, 255, 255); fill-opacity: 1;\"/><defs id=\"defs-980a73\"><g class=\"clips\"><clipPath id=\"clip980a73xyplot\" class=\"plotclip\"><rect width=\"540\" height=\"320\"/></clipPath><clipPath class=\"axesclip\" id=\"clip980a73x\"><rect x=\"80\" y=\"0\" width=\"540\" height=\"500\"/></clipPath><clipPath class=\"axesclip\" id=\"clip980a73y\"><rect x=\"0\" y=\"100\" width=\"700\" height=\"320\"/></clipPath><clipPath class=\"axesclip\" id=\"clip980a73xy\"><rect x=\"80\" y=\"100\" width=\"540\" height=\"320\"/></clipPath></g><g class=\"gradients\"/></defs><g class=\"bglayer\"><rect class=\"bg\" x=\"80\" y=\"100\" width=\"540\" height=\"320\" style=\"fill: rgb(229, 236, 246); fill-opacity: 1; stroke-width: 0;\"/></g><g class=\"layer-below\"><g class=\"imagelayer\"/><g class=\"shapelayer\"/></g><g class=\"cartesianlayer\"><g class=\"subplot xy\"><g class=\"layer-subplot\"><g class=\"shapelayer\"/><g class=\"imagelayer\"/></g><g class=\"gridlayer\"><g class=\"x\"><path class=\"xgrid crisp\" transform=\"translate(215.85,0)\" d=\"M0,100v320\" style=\"stroke: rgb(255, 255, 255); stroke-opacity: 1; stroke-width: 1px;\"/><path class=\"xgrid crisp\" transform=\"translate(351.7,0)\" d=\"M0,100v320\" style=\"stroke: rgb(255, 255, 255); stroke-opacity: 1; stroke-width: 1px;\"/><path class=\"xgrid crisp\" transform=\"translate(487.55,0)\" d=\"M0,100v320\" style=\"stroke: rgb(255, 255, 255); stroke-opacity: 1; stroke-width: 1px;\"/></g><g class=\"y\"><path class=\"ygrid crisp\" transform=\"translate(0,392.09)\" d=\"M80,0h540\" style=\"stroke: rgb(255, 255, 255); stroke-opacity: 1; stroke-width: 1px;\"/><path class=\"ygrid crisp\" transform=\"translate(0,355.35)\" d=\"M80,0h540\" style=\"stroke: rgb(255, 255, 255); stroke-opacity: 1; stroke-width: 1px;\"/><path class=\"ygrid crisp\" transform=\"translate(0,318.61)\" d=\"M80,0h540\" style=\"stroke: rgb(255, 255, 255); stroke-opacity: 1; stroke-width: 1px;\"/><path class=\"ygrid crisp\" transform=\"translate(0,281.87)\" d=\"M80,0h540\" style=\"stroke: rgb(255, 255, 255); stroke-opacity: 1; stroke-width: 1px;\"/><path class=\"ygrid crisp\" transform=\"translate(0,208.39)\" d=\"M80,0h540\" style=\"stroke: rgb(255, 255, 255); stroke-opacity: 1; stroke-width: 1px;\"/><path class=\"ygrid crisp\" transform=\"translate(0,171.64)\" d=\"M80,0h540\" style=\"stroke: rgb(255, 255, 255); stroke-opacity: 1; stroke-width: 1px;\"/><path class=\"ygrid crisp\" transform=\"translate(0,134.9)\" d=\"M80,0h540\" style=\"stroke: rgb(255, 255, 255); stroke-opacity: 1; stroke-width: 1px;\"/></g></g><g class=\"zerolinelayer\"><path class=\"xzl zl crisp\" transform=\"translate(80,0)\" d=\"M0,100v320\" style=\"stroke: rgb(255, 255, 255); stroke-opacity: 1; stroke-width: 2px;\"/><path class=\"yzl zl crisp\" transform=\"translate(0,245.13)\" d=\"M80,0h540\" style=\"stroke: rgb(255, 255, 255); stroke-opacity: 1; stroke-width: 2px;\"/></g><path class=\"xlines-below\"/><path class=\"ylines-below\"/><g class=\"overlines-below\"/><g class=\"xaxislayer-below\"/><g class=\"yaxislayer-below\"/><g class=\"overaxes-below\"/><g class=\"plot\" transform=\"translate(80,100)\" clip-path=\"url('#clip980a73xyplot')\"><g class=\"scatterlayer mlayer\"><g class=\"trace scatter tracec035c4\" style=\"stroke-miterlimit: 2; opacity: 1;\"><g class=\"fills\"/><g class=\"errorbars\"/><g class=\"lines\"><path class=\"js-line\" d=\"M0,110.69L3.4,76.98L6.79,61.53L10.19,109.41L13.58,134.28L16.98,243.65L20.38,257.33L23.77,188.2L27.17,184.2L30.57,62.14L33.96,61.48L37.36,134.07L40.75,126.35L44.15,253.88L47.55,253.19L50.94,179.99L54.34,151.07L57.74,47.5L61.13,92.07L64.53,100.9L67.92,157.82L71.32,211L74.72,187.54L78.11,223.92L81.51,115.97L84.91,82.14L88.3,71.39L91.7,56.69L95.09,216.72L98.49,176.8L101.89,261.75L108.68,89.12L112.08,93.2L115.47,68.84L118.87,97.55L122.26,166.11L125.66,199.05L129.06,240.43L132.45,179.16L135.85,119.03L139.25,100.14L142.64,49.8L146.04,125.81L149.43,129.62L152.83,241.37L156.23,241.7L159.62,177.35L163.02,147.54L166.42,61.61L169.81,109.26L173.21,80.32L176.6,164.84L180,219.34L183.4,241.48L186.79,208.45L193.58,68L196.98,63.69L200.38,83.36L203.77,189.23L207.17,234.01L210.57,208.07L213.96,215.38L217.36,82.65L220.75,51.78L224.15,73.38L227.55,60.11L230.94,186.3L234.34,215.41L237.74,223.95L241.13,194.65L244.53,118.1L247.92,95.31L251.32,34.07L254.72,136.08L258.11,145.46L261.51,168.17L264.91,265.97L268.3,162.27L271.7,153.45L275.09,38.96L278.49,16.42L281.89,135.35L285.28,132.12L288.68,236.9L292.08,261.6L298.87,169.11L302.26,45.41L305.66,84.48L309.06,104.12L312.45,147.79L315.85,285.77L319.25,191.5L322.64,205.63L326.04,116.55L329.43,61.93L332.83,66.49L336.23,63.96L339.62,161.76L343.02,236.05L346.42,237.43L349.81,212.94L353.21,123.85L356.6,102.08L360,77.83L363.4,108.46L366.79,192.16L370.19,212.13L373.58,242.12L376.98,186.31L380.38,160.62L383.77,116.92L387.17,18.45L390.57,124.81L397.36,205.3L400.75,304L404.15,144.72L407.55,186.3L410.94,91.43L414.34,25.2L417.74,136.12L421.13,149.34L424.53,246.12L427.92,273.24L431.32,170.5L434.72,149L438.11,74.04L441.51,60.27L444.91,104.62L448.3,167.87L451.7,272.48L455.09,213.93L458.49,201.73L461.89,125.97L465.28,67.62L468.68,100.8L472.08,98.06L475.47,168.54L478.87,224.63L482.26,249.79L485.66,234.94L489.06,115.12L492.45,98.18L495.85,68.72L499.25,89.22L502.64,176.09L506.04,184.37L509.43,242L512.83,166.87L516.23,114.27L519.62,105.98L523.02,41.55L526.42,132.49L529.81,191.88L533.21,216.59L536.6,230.17L540,106.71\" style=\"vector-effect: non-scaling-stroke; fill: none; stroke: rgb(99, 110, 250); stroke-opacity: 1; stroke-width: 2px; opacity: 1;\"/></g><g class=\"points\"/><g class=\"text\"/></g><g class=\"trace scatter trace2d62e9\" style=\"stroke-miterlimit: 2; opacity: 1;\"><g class=\"fills\"/><g class=\"errorbars\"/><g class=\"lines\"><path class=\"js-line\" d=\"M0,217.78L3.4,218.1L6.79,140.73L10.19,63.15L13.58,84.96L16.98,42.09L20.38,196.35L23.77,201.94L27.17,231.04L30.57,219.13L33.96,88.08L37.36,116.12L40.75,72.23L44.15,86.06L47.55,218.22L50.94,219.27L54.34,268.41L57.74,161.62L61.13,123.77L64.53,101.96L67.92,37.38L71.32,107.56L74.72,132.14L78.11,151.21L81.51,269.8L84.91,176.37L88.3,137.3L91.7,31.46L95.09,72.48L98.49,93.23L101.89,158.12L105.28,231.05L108.68,256.44L112.08,184.42L115.47,150.33L118.87,41.93L122.26,114.51L125.66,77.25L129.06,150.05L132.45,234.35L135.85,213.49L139.25,221.06L142.64,95.73L146.04,93.77L149.43,79.39L152.83,52.09L156.23,183.52L163.02,235.27L166.42,229.23L169.81,96.02L173.21,116.72L176.6,33.8L180,111.52L183.4,170.15L186.79,206.94L190.19,229.68L193.58,193.69L196.98,126.04L200.38,106.29L203.77,16L207.17,76.1L210.57,150.27L213.96,199.15L217.36,215.27L220.75,176.97L224.15,159.09L227.55,42.37L230.94,72.05L234.34,90.33L241.13,227.52L244.53,181.11L247.92,190.05L251.32,139.39L254.72,31.84L258.11,81.5L261.51,76.06L264.91,172.68L268.3,241.87L271.7,251.35L275.09,213.37L278.49,114.88L281.89,91.5L285.28,91.83L288.68,77.64L292.08,187.42L295.47,212.97L298.87,224.04L302.26,227.68L305.66,108.56L309.06,113.27L312.45,47.26L315.85,99.08L319.25,203.28L322.64,189.42L326.04,247.19L329.43,189.59L332.83,157.31L339.62,16.87L343.02,93.56L349.81,226.95L353.21,263.29L356.6,194.76L360,180.51L363.4,61.98L366.79,66.72L370.19,127.68L373.58,174.85L376.98,244.12L380.38,208.5L383.77,184.65L387.17,132.93L390.57,102.29L393.96,116.45L397.36,70.23L400.75,192.19L404.15,248.78L407.55,216.61L410.94,210.08L414.34,91.62L417.74,90.22L421.13,67.64L424.53,80.24L427.92,179.57L434.72,239.02L438.11,187.43L441.51,113.22L444.91,79.99L448.3,17.81L451.7,79.1L455.09,160.91L458.49,168.82L461.89,241.38L465.28,172.59L468.68,155.43L472.08,105.12L475.47,55.65L478.87,140.23L482.26,136.84L485.66,249.25L489.06,245.86L492.45,183.66L495.85,144.64L499.25,44.41L502.64,96.68L506.04,92.19L509.43,176.84L512.83,209.49L516.23,203.7L519.62,195.33L523.02,111.02L526.42,82.03L529.81,100.88L533.21,84.74L536.6,168.01L540,209.93\" style=\"vector-effect: non-scaling-stroke; fill: none; stroke: rgb(239, 85, 59); stroke-opacity: 1; stroke-width: 2px; opacity: 1;\"/></g><g class=\"points\"/><g class=\"text\"/></g></g></g><g class=\"overplot\"/><path class=\"xlines-above crisp\" d=\"M0,0\" style=\"fill: none;\"/><path class=\"ylines-above crisp\" d=\"M0,0\" style=\"fill: none;\"/><g class=\"overlines-above\"/><g class=\"xaxislayer-above\"><g class=\"xtick\"><text text-anchor=\"middle\" x=\"0\" y=\"433\" transform=\"translate(80,0)\" style=\"font-family: 'Open Sans', verdana, arial, sans-serif; font-size: 12px; fill: rgb(42, 63, 95); fill-opacity: 1; white-space: pre;\">0</text></g><g class=\"xtick\"><text text-anchor=\"middle\" x=\"0\" y=\"433\" transform=\"translate(215.85,0)\" style=\"font-family: 'Open Sans', verdana, arial, sans-serif; font-size: 12px; fill: rgb(42, 63, 95); fill-opacity: 1; white-space: pre;\">20</text></g><g class=\"xtick\"><text text-anchor=\"middle\" x=\"0\" y=\"433\" transform=\"translate(351.7,0)\" style=\"font-family: 'Open Sans', verdana, arial, sans-serif; font-size: 12px; fill: rgb(42, 63, 95); fill-opacity: 1; white-space: pre;\">40</text></g><g class=\"xtick\"><text text-anchor=\"middle\" x=\"0\" y=\"433\" transform=\"translate(487.55,0)\" style=\"font-family: 'Open Sans', verdana, arial, sans-serif; font-size: 12px; fill: rgb(42, 63, 95); fill-opacity: 1; white-space: pre;\">60</text></g></g><g class=\"yaxislayer-above\"><g class=\"ytick\"><text text-anchor=\"end\" x=\"79\" y=\"4.199999999999999\" transform=\"translate(0,392.09)\" style=\"font-family: 'Open Sans', verdana, arial, sans-serif; font-size: 12px; fill: rgb(42, 63, 95); fill-opacity: 1; white-space: pre;\">−0.02</text></g><g class=\"ytick\"><text text-anchor=\"end\" x=\"79\" y=\"4.199999999999999\" transform=\"translate(0,355.35)\" style=\"font-family: 'Open Sans', verdana, arial, sans-serif; font-size: 12px; fill: rgb(42, 63, 95); fill-opacity: 1; white-space: pre;\">−0.01</text></g><g class=\"ytick\"><text text-anchor=\"end\" x=\"79\" y=\"4.199999999999999\" transform=\"translate(0,318.61)\" style=\"font-family: 'Open Sans', verdana, arial, sans-serif; font-size: 12px; fill: rgb(42, 63, 95); fill-opacity: 1; white-space: pre;\">−0.01</text></g><g class=\"ytick\"><text text-anchor=\"end\" x=\"79\" y=\"4.199999999999999\" transform=\"translate(0,281.87)\" style=\"font-family: 'Open Sans', verdana, arial, sans-serif; font-size: 12px; fill: rgb(42, 63, 95); fill-opacity: 1; white-space: pre;\">−0.01</text></g><g class=\"ytick\"><text text-anchor=\"end\" x=\"79\" y=\"4.199999999999999\" transform=\"translate(0,245.13)\" style=\"font-family: 'Open Sans', verdana, arial, sans-serif; font-size: 12px; fill: rgb(42, 63, 95); fill-opacity: 1; white-space: pre;\">0.00</text></g><g class=\"ytick\"><text text-anchor=\"end\" x=\"79\" y=\"4.199999999999999\" transform=\"translate(0,208.39)\" style=\"font-family: 'Open Sans', verdana, arial, sans-serif; font-size: 12px; fill: rgb(42, 63, 95); fill-opacity: 1; white-space: pre;\">0.01</text></g><g class=\"ytick\"><text text-anchor=\"end\" x=\"79\" y=\"4.199999999999999\" transform=\"translate(0,171.64)\" style=\"font-family: 'Open Sans', verdana, arial, sans-serif; font-size: 12px; fill: rgb(42, 63, 95); fill-opacity: 1; white-space: pre;\">0.01</text></g><g class=\"ytick\"><text text-anchor=\"end\" x=\"79\" y=\"4.199999999999999\" transform=\"translate(0,134.9)\" style=\"font-family: 'Open Sans', verdana, arial, sans-serif; font-size: 12px; fill: rgb(42, 63, 95); fill-opacity: 1; white-space: pre;\">0.01</text></g></g><g class=\"overaxes-above\"/></g></g><g class=\"polarlayer\"/><g class=\"ternarylayer\"/><g class=\"geolayer\"/><g class=\"funnelarealayer\"/><g class=\"pielayer\"/><g class=\"treemaplayer\"/><g class=\"sunburstlayer\"/><g class=\"glimages\"/><defs id=\"topdefs-980a73\"><g class=\"clips\"/><clipPath id=\"legend980a73\"><rect width=\"55\" height=\"48\" x=\"0\" y=\"0\"/></clipPath></defs><g class=\"layer-above\"><g class=\"imagelayer\"/><g class=\"shapelayer\"/></g><g class=\"infolayer\"><g class=\"legend\" pointer-events=\"all\" transform=\"translate(630.8,100)\"><rect class=\"bg\" shape-rendering=\"crispEdges\" style=\"stroke: rgb(68, 68, 68); stroke-opacity: 1; fill: rgb(255, 255, 255); fill-opacity: 1; stroke-width: 0px;\" width=\"55\" height=\"48\" x=\"0\" y=\"0\"/><g class=\"scrollbox\" transform=\"\" clip-path=\"url('#legend980a73')\"><g class=\"groups\"><g class=\"traces\" transform=\"translate(0,14.5)\" style=\"opacity: 1;\"><text class=\"legendtext\" text-anchor=\"start\" x=\"40\" y=\"4.680000000000001\" style=\"font-family: 'Open Sans', verdana, arial, sans-serif; font-size: 12px; fill: rgb(42, 63, 95); fill-opacity: 1; white-space: pre;\">I</text><g class=\"layers\" style=\"opacity: 1;\"><g class=\"legendfill\"/><g class=\"legendlines\"><path class=\"js-line\" d=\"M5,0h30\" style=\"fill: none; stroke: rgb(99, 110, 250); stroke-opacity: 1; stroke-width: 2px;\"/></g><g class=\"legendsymbols\"><g class=\"legendpoints\"/></g></g><rect class=\"legendtoggle\" x=\"0\" y=\"-9.5\" width=\"49.453125\" height=\"19\" style=\"fill: rgb(0, 0, 0); fill-opacity: 0;\"/></g><g class=\"traces\" transform=\"translate(0,33.5)\" style=\"opacity: 1;\"><text class=\"legendtext\" text-anchor=\"start\" x=\"40\" y=\"4.680000000000001\" style=\"font-family: 'Open Sans', verdana, arial, sans-serif; font-size: 12px; fill: rgb(42, 63, 95); fill-opacity: 1; white-space: pre;\">Q</text><g class=\"layers\" style=\"opacity: 1;\"><g class=\"legendfill\"/><g class=\"legendlines\"><path class=\"js-line\" d=\"M5,0h30\" style=\"fill: none; stroke: rgb(239, 85, 59); stroke-opacity: 1; stroke-width: 2px;\"/></g><g class=\"legendsymbols\"><g class=\"legendpoints\"/></g></g><rect class=\"legendtoggle\" x=\"0\" y=\"-9.5\" width=\"49.453125\" height=\"19\" style=\"fill: rgb(0, 0, 0); fill-opacity: 0;\"/></g></g></g><rect class=\"scrollbar\" rx=\"20\" ry=\"3\" width=\"0\" height=\"0\" style=\"fill: rgb(128, 139, 164); fill-opacity: 1;\" x=\"0\" y=\"0\"/></g><g class=\"g-gtitle\"><text class=\"gtitle\" x=\"35\" y=\"50\" text-anchor=\"start\" dy=\"0em\" style=\"font-family: 'Open Sans', verdana, arial, sans-serif; font-size: 17px; fill: rgb(42, 63, 95); opacity: 1; font-weight: normal; white-space: pre;\">I/Q Beat Signals for the First Chirp</text></g><g class=\"g-xtitle\"><text class=\"xtitle\" x=\"350\" y=\"460.8\" text-anchor=\"middle\" style=\"font-family: 'Open Sans', verdana, arial, sans-serif; font-size: 14px; fill: rgb(42, 63, 95); opacity: 1; font-weight: normal; white-space: pre;\">Time (µs)</text></g><g class=\"g-ytitle\"><text class=\"ytitle\" transform=\"rotate(-90,17.121875000000003,260)\" x=\"17.121875000000003\" y=\"260\" text-anchor=\"middle\" style=\"font-family: 'Open Sans', verdana, arial, sans-serif; font-size: 14px; fill: rgb(42, 63, 95); opacity: 1; font-weight: normal; white-space: pre;\">Amplitude (V)</text></g></g></svg>"
      ],
      "text/plain": [
       "<IPython.core.display.SVG object>"
      ]
     },
     "metadata": {},
     "output_type": "display_data"
    }
   ],
   "source": [
    "import plotly.graph_objs as go\n",
    "from plotly.offline import iplot\n",
    "from IPython.display import SVG, display\n",
    "\n",
    "beat_I = go.Scatter(\n",
    "    x=time_matrix_cpp[0, 0, :] * 1e6,\n",
    "    y=np.real(data_matrix_cpp[0, 0, :]),\n",
    "    name='I',\n",
    ")\n",
    "beat_Q = go.Scatter(\n",
    "    x=time_matrix_cpp[0, 0, :] * 1e6,\n",
    "    y=np.imag(data_matrix_cpp[0, 0, :]),\n",
    "    name='Q',\n",
    ")\n",
    "data = [beat_I, beat_Q]\n",
    "\n",
    "layout = go.Layout(\n",
    "    title='I/Q Beat Signals for the First Chirp',\n",
    "    yaxis=dict(tickformat='.2f', title='Amplitude (V)'),\n",
    "    xaxis=dict(title='Time (µs)'),\n",
    ")\n",
    "\n",
    "fig = go.Figure(data, layout=layout)\n",
    "# iplot(fig)\n",
    "display(SVG(fig.to_image(format='svg', scale=1)))"
   ]
  },
  {
   "cell_type": "markdown",
   "metadata": {},
   "source": [
    " ## Radar Signal Processing\n",
    " ### Range profile"
   ]
  },
  {
   "cell_type": "code",
   "execution_count": 8,
   "metadata": {},
   "outputs": [],
   "source": [
    "from scipy import signal\n",
    "import radarsimpy.processing as proc\n",
    "\n",
    "\n",
    "range_window = signal.chebwin(radar.samples_per_pulse, at=60)\n",
    "range_profile = proc.cal_range_profile(radar, data_matrix_cpp, range_window)\n",
    "\n",
    "ca_cfar = proc.cfar_ca(range_profile[0, 0, :], guard=2, trailing=10, pfa=1e-2)\n",
    "os_cfar = proc.cfar_os(range_profile[0, 0, :], n=20, k=14, pfa=1e-2)"
   ]
  },
  {
   "cell_type": "code",
   "execution_count": 9,
   "metadata": {},
   "outputs": [
    {
     "data": {
      "image/svg+xml": [
       "<svg xmlns=\"http://www.w3.org/2000/svg\" xmlns:xlink=\"http://www.w3.org/1999/xlink\" class=\"main-svg\" width=\"700\" height=\"500\" style=\"\" viewBox=\"0 0 700 500\"><rect x=\"0\" y=\"0\" width=\"700\" height=\"500\" style=\"fill: rgb(255, 255, 255); fill-opacity: 1;\"/><defs id=\"defs-d32c37\"><g class=\"clips\"><clipPath id=\"clipd32c37xyplot\" class=\"plotclip\"><rect width=\"474\" height=\"320\"/></clipPath><clipPath class=\"axesclip\" id=\"clipd32c37x\"><rect x=\"80\" y=\"0\" width=\"474\" height=\"500\"/></clipPath><clipPath class=\"axesclip\" id=\"clipd32c37y\"><rect x=\"0\" y=\"100\" width=\"700\" height=\"320\"/></clipPath><clipPath class=\"axesclip\" id=\"clipd32c37xy\"><rect x=\"80\" y=\"100\" width=\"474\" height=\"320\"/></clipPath></g><g class=\"gradients\"/></defs><g class=\"bglayer\"><rect class=\"bg\" x=\"80\" y=\"100\" width=\"474\" height=\"320\" style=\"fill: rgb(229, 236, 246); fill-opacity: 1; stroke-width: 0;\"/></g><g class=\"layer-below\"><g class=\"imagelayer\"/><g class=\"shapelayer\"/></g><g class=\"cartesianlayer\"><g class=\"subplot xy\"><g class=\"layer-subplot\"><g class=\"shapelayer\"/><g class=\"imagelayer\"/></g><g class=\"gridlayer\"><g class=\"x\"><path class=\"xgrid crisp\" transform=\"translate(179.44,0)\" d=\"M0,100v320\" style=\"stroke: rgb(255, 255, 255); stroke-opacity: 1; stroke-width: 1px;\"/><path class=\"xgrid crisp\" transform=\"translate(278.88,0)\" d=\"M0,100v320\" style=\"stroke: rgb(255, 255, 255); stroke-opacity: 1; stroke-width: 1px;\"/><path class=\"xgrid crisp\" transform=\"translate(378.32,0)\" d=\"M0,100v320\" style=\"stroke: rgb(255, 255, 255); stroke-opacity: 1; stroke-width: 1px;\"/><path class=\"xgrid crisp\" transform=\"translate(477.76,0)\" d=\"M0,100v320\" style=\"stroke: rgb(255, 255, 255); stroke-opacity: 1; stroke-width: 1px;\"/></g><g class=\"y\"><path class=\"ygrid crisp\" transform=\"translate(0,395.27)\" d=\"M80,0h474\" style=\"stroke: rgb(255, 255, 255); stroke-opacity: 1; stroke-width: 1px;\"/><path class=\"ygrid crisp\" transform=\"translate(0,348.15)\" d=\"M80,0h474\" style=\"stroke: rgb(255, 255, 255); stroke-opacity: 1; stroke-width: 1px;\"/><path class=\"ygrid crisp\" transform=\"translate(0,301.03)\" d=\"M80,0h474\" style=\"stroke: rgb(255, 255, 255); stroke-opacity: 1; stroke-width: 1px;\"/><path class=\"ygrid crisp\" transform=\"translate(0,253.9)\" d=\"M80,0h474\" style=\"stroke: rgb(255, 255, 255); stroke-opacity: 1; stroke-width: 1px;\"/><path class=\"ygrid crisp\" transform=\"translate(0,206.78)\" d=\"M80,0h474\" style=\"stroke: rgb(255, 255, 255); stroke-opacity: 1; stroke-width: 1px;\"/><path class=\"ygrid crisp\" transform=\"translate(0,159.65)\" d=\"M80,0h474\" style=\"stroke: rgb(255, 255, 255); stroke-opacity: 1; stroke-width: 1px;\"/></g></g><g class=\"zerolinelayer\"><path class=\"xzl zl crisp\" transform=\"translate(80,0)\" d=\"M0,100v320\" style=\"stroke: rgb(255, 255, 255); stroke-opacity: 1; stroke-width: 2px;\"/><path class=\"yzl zl crisp\" transform=\"translate(0,112.53)\" d=\"M80,0h474\" style=\"stroke: rgb(255, 255, 255); stroke-opacity: 1; stroke-width: 2px;\"/></g><path class=\"xlines-below\"/><path class=\"ylines-below\"/><g class=\"overlines-below\"/><g class=\"xaxislayer-below\"/><g class=\"yaxislayer-below\"/><g class=\"overaxes-below\"/><g class=\"plot\" transform=\"translate(80,100)\" clip-path=\"url('#clipd32c37xyplot')\"><g class=\"scatterlayer mlayer\"><g class=\"trace scatter tracea0d1a1\" style=\"stroke-miterlimit: 2; opacity: 1;\"><g class=\"fills\"/><g class=\"errorbars\"/><g class=\"lines\"><path class=\"js-line\" d=\"M0,141.33L2.98,149.79L5.96,168.96L8.94,179.79L11.92,203.04L14.91,160.26L17.89,171.96L20.87,222.51L23.85,166.67L26.83,169.06L29.81,149.89L35.77,153.07L38.75,156.37L44.72,221.13L47.7,166.13L50.68,166.11L53.66,133.87L56.64,42.7L59.62,16L62.6,42.59L65.58,141.02L68.57,250.17L71.55,173.28L74.53,171.28L77.51,197.53L80.49,161.98L83.47,151.42L86.45,162.6L89.43,205.74L92.42,174.91L95.4,159.75L98.38,161.47L101.36,166.15L104.34,144.64L107.32,152.49L110.3,156.77L113.28,166.59L116.26,194.28L119.25,163.82L122.23,164.47L125.21,200.38L128.19,141.84L131.17,132.64L137.13,154.67L140.11,173.24L143.09,170.61L146.08,171.62L149.06,207.83L152.04,196.22L155.02,193.98L158,161.39L160.98,193.71L163.96,187.6L166.94,175.51L169.92,170.71L172.91,184.78L175.89,145.8L178.87,132.31L181.85,149.34L184.83,161.47L187.81,99.77L190.79,67.98L193.77,90.21L196.75,172.25L199.74,169.32L202.72,170.16L205.7,178.4L208.68,150.25L211.66,134.9L214.64,184.47L217.62,180.37L220.6,154.48L223.58,143.73L226.57,145.16L229.55,219.77L232.53,160.95L235.51,195.16L238.49,184.94L241.47,188.37L247.43,152.11L250.42,167.24L253.4,159.1L256.38,186.29L259.36,173.06L262.34,241.25L265.32,205.2L268.3,192.19L271.28,179.41L274.26,148.42L277.25,137.9L280.23,149.47L283.21,176.37L286.19,161.22L289.17,152.94L292.15,212.51L295.13,167.26L298.11,199.48L301.09,142.12L304.08,146.89L307.06,192.38L310.04,149.16L313.02,134.55L316,142.55L318.98,149.04L321.96,152.89L324.94,164.98L327.92,216.58L330.91,193.77L333.89,187.72L336.87,248.12L339.85,212.1L342.83,192.31L345.81,197.96L348.79,168.58L351.77,157.15L354.75,184.65L357.74,183.47L360.72,145.2L363.7,160.56L366.68,186.88L369.66,170.47L372.64,177.09L375.62,166.88L378.6,190.98L381.58,168.85L384.57,156.97L387.55,192.17L390.53,208.86L393.51,213.32L396.49,187.22L399.47,150.35L402.45,134.37L405.43,148.3L408.42,205.69L411.4,225.94L414.38,304L417.36,176.22L420.34,157.95L423.32,176.96L426.3,185.21L429.28,183.3L432.26,233.15L435.25,156.96L438.23,150.69L441.21,167.21L444.19,161.62L447.17,149.13L450.15,139.81L453.13,163.52L456.11,173.02L459.09,157.4L462.08,141.31L465.06,147.29L468.04,143.4L471.02,129.62L474,142.67\" style=\"vector-effect: non-scaling-stroke; fill: none; stroke: rgb(99, 110, 250); stroke-opacity: 1; stroke-width: 2px; opacity: 1;\"/></g><g class=\"points\"/><g class=\"text\"/></g><g class=\"trace scatter trace93562d\" style=\"stroke-miterlimit: 2; opacity: 1;\"><g class=\"fills\"/><g class=\"errorbars\"/><g class=\"lines\"><path class=\"js-line\" d=\"M0,128.8L2.98,126.51L5.96,125.78L8.94,122.22L11.92,116.72L17.89,106.63L20.87,74.31L23.85,44.59L26.83,34.99L38.75,34.13L41.74,34.38L47.7,34.23L50.68,43.23L56.64,101.86L59.62,101.71L62.6,97.13L65.58,69.96L68.57,42.61L71.55,33.39L74.53,33.13L77.51,33.79L92.42,33.81L95.4,42.15L101.36,96.16L104.34,98.32L110.3,95.52L113.28,95.31L119.25,94.21L122.23,96.34L125.21,101.12L128.19,102.02L131.17,102.68L134.15,104.24L137.13,103.25L140.11,98.86L143.09,95.11L146.08,93.36L149.06,93.01L152.04,86.69L155.02,72.81L158,67.62L166.94,68.4L169.92,71.07L172.91,73.1L175.89,72.98L178.87,73.45L181.85,78.87L184.83,91.95L187.81,96.98L190.79,93.54L193.77,93.61L196.75,86.72L199.74,73.51L202.72,68.38L205.7,69.86L211.66,68.61L214.64,69.86L217.62,71.25L220.6,71.69L223.58,71.59L226.57,77.62L229.55,91.72L232.53,100.86L235.51,98.87L238.49,98.88L241.47,97.25L244.45,96.7L250.42,101.43L253.4,99.74L256.38,97.97L259.36,97.51L262.34,98.77L265.32,98.74L268.3,97.46L271.28,102.61L274.26,102.82L277.25,100.03L283.21,96.82L286.19,93.74L289.17,92.69L292.15,93.69L298.11,96.01L301.09,96.45L304.08,97.62L307.06,101.2L313.02,102.89L316,106.68L318.98,107.64L321.96,103.42L324.94,99.48L327.92,98.06L330.91,95.1L333.89,93.94L336.87,93.78L339.85,95.19L342.83,97.92L345.81,99.35L348.79,100.55L351.77,104.5L354.75,111.21L357.74,115.31L360.72,115.74L363.7,115.2L369.66,105.72L372.64,104.78L375.62,105.34L378.6,106.92L381.58,105.71L384.57,102.47L390.53,102.98L393.51,103.43L399.47,112.97L402.45,112.26L405.43,110.21L408.42,105.97L411.4,101.06L414.38,98.45L417.36,98.18L420.34,99.17L423.32,100.51L426.3,96.66L435.25,90.48L438.23,90.75L441.21,97.08L444.19,101.63L453.13,102.18L456.11,104.7L459.09,106.89L462.08,110.66L465.06,117.23L468.04,121.26L471.02,115.83L474,114.81\" style=\"vector-effect: non-scaling-stroke; fill: none; stroke: rgb(239, 85, 59); stroke-opacity: 1; stroke-width: 2px; opacity: 1;\"/></g><g class=\"points\"/><g class=\"text\"/></g><g class=\"trace scatter traceab8019\" style=\"stroke-miterlimit: 2; opacity: 1;\"><g class=\"fills\"/><g class=\"errorbars\"/><g class=\"lines\"><path class=\"js-line\" d=\"M0,82.86L2.98,78.98L5.96,82.86L14.91,82.86L17.89,85.37L26.83,85.46L29.81,86.87L32.79,85.46L35.77,85.46L50.68,85.46L53.66,86.87L62.6,87L65.58,88.65L68.57,87L71.55,87L74.53,80.22L77.51,80.22L83.47,80.22L86.45,87L89.43,88.07L92.42,92.35L95.4,97.05L98.38,95.33L101.36,92.35L104.34,92.35L110.3,88.07L113.28,88.07L116.26,90.25L119.25,90.25L125.21,90.25L128.19,92.35L134.15,92.35L137.13,96.97L140.11,96.97L143.09,99.4L146.08,96.97L149.06,90.25L152.04,84.92L155.02,84.92L158,81.38L160.98,81.38L163.96,81.38L166.94,84.92L172.91,84.92L175.89,96.97L178.87,85.83L181.85,81.38L184.83,81.38L187.81,84.92L190.79,84.92L193.77,81.38L196.75,79.31L199.74,79.31L208.68,79.31L211.66,84.92L214.64,80.74L217.62,80.74L226.57,94.67L229.55,90.06L238.49,90.06L241.47,94.67L247.43,94.67L250.42,87.69L253.4,87.69L256.38,94.67L268.3,94.67L271.28,88.52L280.23,88.52L283.21,84.74L289.17,84L292.15,84L307.06,84.62L310.04,85.05L313.02,88.47L316,88.47L318.98,88.47L321.96,84.74L333.89,84.74L336.87,88.47L339.85,88.47L342.83,92.73L348.79,100.56L351.77,104.16L354.75,102.45L357.74,104.16L363.7,104.43L366.68,104.16L369.66,102.45L372.64,96.13L375.62,92.73L378.6,92.73L381.58,92.73L384.57,102.45L387.55,96.13L390.53,93.53L393.51,96.13L396.49,102.45L399.47,104.43L402.45,104.43L405.43,102.45L408.42,92.54L417.36,92.54L420.34,86.26L435.25,86.26L438.23,92.54L441.21,84.71L444.19,82.86L447.17,78.98L450.15,82.86L453.13,78.98L456.11,78.98L459.09,78.98L462.08,82.86L465.06,78.98L468.04,82.86L474,82.86\" style=\"vector-effect: non-scaling-stroke; fill: none; stroke: rgb(0, 204, 150); stroke-opacity: 1; stroke-width: 2px; opacity: 1;\"/></g><g class=\"points\"/><g class=\"text\"/></g></g></g><g class=\"overplot\"/><path class=\"xlines-above crisp\" d=\"M0,0\" style=\"fill: none;\"/><path class=\"ylines-above crisp\" d=\"M0,0\" style=\"fill: none;\"/><g class=\"overlines-above\"/><g class=\"xaxislayer-above\"><g class=\"xtick\"><text text-anchor=\"middle\" x=\"0\" y=\"433\" transform=\"translate(80,0)\" style=\"font-family: 'Open Sans', verdana, arial, sans-serif; font-size: 12px; fill: rgb(42, 63, 95); fill-opacity: 1; white-space: pre;\">0</text></g><g class=\"xtick\"><text text-anchor=\"middle\" x=\"0\" y=\"433\" transform=\"translate(179.44,0)\" style=\"font-family: 'Open Sans', verdana, arial, sans-serif; font-size: 12px; fill: rgb(42, 63, 95); fill-opacity: 1; white-space: pre;\">50</text></g><g class=\"xtick\"><text text-anchor=\"middle\" x=\"0\" y=\"433\" transform=\"translate(278.88,0)\" style=\"font-family: 'Open Sans', verdana, arial, sans-serif; font-size: 12px; fill: rgb(42, 63, 95); fill-opacity: 1; white-space: pre;\">100</text></g><g class=\"xtick\"><text text-anchor=\"middle\" x=\"0\" y=\"433\" transform=\"translate(378.32,0)\" style=\"font-family: 'Open Sans', verdana, arial, sans-serif; font-size: 12px; fill: rgb(42, 63, 95); fill-opacity: 1; white-space: pre;\">150</text></g><g class=\"xtick\"><text text-anchor=\"middle\" x=\"0\" y=\"433\" transform=\"translate(477.76,0)\" style=\"font-family: 'Open Sans', verdana, arial, sans-serif; font-size: 12px; fill: rgb(42, 63, 95); fill-opacity: 1; white-space: pre;\">200</text></g></g><g class=\"yaxislayer-above\"><g class=\"ytick\"><text text-anchor=\"end\" x=\"79\" y=\"4.199999999999999\" transform=\"translate(0,395.27)\" style=\"font-family: 'Open Sans', verdana, arial, sans-serif; font-size: 12px; fill: rgb(42, 63, 95); fill-opacity: 1; white-space: pre;\">−60</text></g><g class=\"ytick\"><text text-anchor=\"end\" x=\"79\" y=\"4.199999999999999\" transform=\"translate(0,348.15)\" style=\"font-family: 'Open Sans', verdana, arial, sans-serif; font-size: 12px; fill: rgb(42, 63, 95); fill-opacity: 1; white-space: pre;\">−50</text></g><g class=\"ytick\"><text text-anchor=\"end\" x=\"79\" y=\"4.199999999999999\" transform=\"translate(0,301.03)\" style=\"font-family: 'Open Sans', verdana, arial, sans-serif; font-size: 12px; fill: rgb(42, 63, 95); fill-opacity: 1; white-space: pre;\">−40</text></g><g class=\"ytick\"><text text-anchor=\"end\" x=\"79\" y=\"4.199999999999999\" transform=\"translate(0,253.9)\" style=\"font-family: 'Open Sans', verdana, arial, sans-serif; font-size: 12px; fill: rgb(42, 63, 95); fill-opacity: 1; white-space: pre;\">−30</text></g><g class=\"ytick\"><text text-anchor=\"end\" x=\"79\" y=\"4.199999999999999\" transform=\"translate(0,206.78)\" style=\"font-family: 'Open Sans', verdana, arial, sans-serif; font-size: 12px; fill: rgb(42, 63, 95); fill-opacity: 1; white-space: pre;\">−20</text></g><g class=\"ytick\"><text text-anchor=\"end\" x=\"79\" y=\"4.199999999999999\" transform=\"translate(0,159.65)\" style=\"font-family: 'Open Sans', verdana, arial, sans-serif; font-size: 12px; fill: rgb(42, 63, 95); fill-opacity: 1; white-space: pre;\">−10</text></g><g class=\"ytick\"><text text-anchor=\"end\" x=\"79\" y=\"4.199999999999999\" transform=\"translate(0,112.53)\" style=\"font-family: 'Open Sans', verdana, arial, sans-serif; font-size: 12px; fill: rgb(42, 63, 95); fill-opacity: 1; white-space: pre;\">0</text></g></g><g class=\"overaxes-above\"/></g></g><g class=\"polarlayer\"/><g class=\"ternarylayer\"/><g class=\"geolayer\"/><g class=\"funnelarealayer\"/><g class=\"pielayer\"/><g class=\"treemaplayer\"/><g class=\"sunburstlayer\"/><g class=\"glimages\"/><defs id=\"topdefs-d32c37\"><g class=\"clips\"/><clipPath id=\"legendd32c37\"><rect width=\"125\" height=\"67\" x=\"0\" y=\"0\"/></clipPath></defs><g class=\"layer-above\"><g class=\"imagelayer\"/><g class=\"shapelayer\"/></g><g class=\"infolayer\"><g class=\"legend\" pointer-events=\"all\" transform=\"translate(563.48,100)\"><rect class=\"bg\" shape-rendering=\"crispEdges\" style=\"stroke: rgb(68, 68, 68); stroke-opacity: 1; fill: rgb(255, 255, 255); fill-opacity: 1; stroke-width: 0px;\" width=\"125\" height=\"67\" x=\"0\" y=\"0\"/><g class=\"scrollbox\" transform=\"\" clip-path=\"url('#legendd32c37')\"><g class=\"groups\"><g class=\"traces\" transform=\"translate(0,14.5)\" style=\"opacity: 1;\"><text class=\"legendtext\" text-anchor=\"start\" x=\"40\" y=\"4.680000000000001\" style=\"font-family: 'Open Sans', verdana, arial, sans-serif; font-size: 12px; fill: rgb(42, 63, 95); fill-opacity: 1; white-space: pre;\">Range profile</text><g class=\"layers\" style=\"opacity: 1;\"><g class=\"legendfill\"/><g class=\"legendlines\"><path class=\"js-line\" d=\"M5,0h30\" style=\"fill: none; stroke: rgb(99, 110, 250); stroke-opacity: 1; stroke-width: 2px;\"/></g><g class=\"legendsymbols\"><g class=\"legendpoints\"/></g></g><rect class=\"legendtoggle\" x=\"0\" y=\"-9.5\" width=\"119.59375\" height=\"19\" style=\"fill: rgb(0, 0, 0); fill-opacity: 0;\"/></g><g class=\"traces\" transform=\"translate(0,33.5)\" style=\"opacity: 1;\"><text class=\"legendtext\" text-anchor=\"start\" x=\"40\" y=\"4.680000000000001\" style=\"font-family: 'Open Sans', verdana, arial, sans-serif; font-size: 12px; fill: rgb(42, 63, 95); fill-opacity: 1; white-space: pre;\">CA-CFAR</text><g class=\"layers\" style=\"opacity: 1;\"><g class=\"legendfill\"/><g class=\"legendlines\"><path class=\"js-line\" d=\"M5,0h30\" style=\"fill: none; stroke: rgb(239, 85, 59); stroke-opacity: 1; stroke-width: 2px;\"/></g><g class=\"legendsymbols\"><g class=\"legendpoints\"/></g></g><rect class=\"legendtoggle\" x=\"0\" y=\"-9.5\" width=\"119.59375\" height=\"19\" style=\"fill: rgb(0, 0, 0); fill-opacity: 0;\"/></g><g class=\"traces\" transform=\"translate(0,52.5)\" style=\"opacity: 1;\"><text class=\"legendtext\" text-anchor=\"start\" x=\"40\" y=\"4.680000000000001\" style=\"font-family: 'Open Sans', verdana, arial, sans-serif; font-size: 12px; fill: rgb(42, 63, 95); fill-opacity: 1; white-space: pre;\">OS-CFAR</text><g class=\"layers\" style=\"opacity: 1;\"><g class=\"legendfill\"/><g class=\"legendlines\"><path class=\"js-line\" d=\"M5,0h30\" style=\"fill: none; stroke: rgb(0, 204, 150); stroke-opacity: 1; stroke-width: 2px;\"/></g><g class=\"legendsymbols\"><g class=\"legendpoints\"/></g></g><rect class=\"legendtoggle\" x=\"0\" y=\"-9.5\" width=\"119.59375\" height=\"19\" style=\"fill: rgb(0, 0, 0); fill-opacity: 0;\"/></g></g></g><rect class=\"scrollbar\" rx=\"20\" ry=\"3\" width=\"0\" height=\"0\" style=\"fill: rgb(128, 139, 164); fill-opacity: 1;\" x=\"0\" y=\"0\"/></g><g class=\"g-gtitle\"><text class=\"gtitle\" x=\"35\" y=\"50\" text-anchor=\"start\" dy=\"0em\" style=\"font-family: 'Open Sans', verdana, arial, sans-serif; font-size: 17px; fill: rgb(42, 63, 95); opacity: 1; font-weight: normal; white-space: pre;\">Range Profile</text></g><g class=\"g-xtitle\"><text class=\"xtitle\" x=\"317\" y=\"460.8\" text-anchor=\"middle\" style=\"font-family: 'Open Sans', verdana, arial, sans-serif; font-size: 14px; fill: rgb(42, 63, 95); opacity: 1; font-weight: normal; white-space: pre;\">Range (m)</text></g><g class=\"g-ytitle\"><text class=\"ytitle\" transform=\"rotate(-90,29.121875000000003,260)\" x=\"29.121875000000003\" y=\"260\" text-anchor=\"middle\" style=\"font-family: 'Open Sans', verdana, arial, sans-serif; font-size: 14px; fill: rgb(42, 63, 95); opacity: 1; font-weight: normal; white-space: pre;\">Amplitude (dB)</text></g></g></svg>"
      ],
      "text/plain": [
       "<IPython.core.display.SVG object>"
      ]
     },
     "metadata": {},
     "output_type": "display_data"
    }
   ],
   "source": [
    "range_axis = np.linspace(\n",
    "    0, radar.max_range, radar.samples_per_pulse, endpoint=False)\n",
    "\n",
    "rfft_plot = go.Scatter(\n",
    "    x=range_axis,\n",
    "    y=20*np.log10(np.abs(range_profile[0, 0, :])),\n",
    "    name='Range profile',\n",
    ")\n",
    "\n",
    "cacfar_plot = go.Scatter(\n",
    "    x=range_axis,\n",
    "    y=20*np.log10(ca_cfar),\n",
    "    name='CA-CFAR'\n",
    ")\n",
    "\n",
    "oscfar_plot = go.Scatter(\n",
    "    x=range_axis,\n",
    "    y=20*np.log10(os_cfar),\n",
    "    name='OS-CFAR'\n",
    ")\n",
    "\n",
    "plot_data = [rfft_plot, cacfar_plot, oscfar_plot]\n",
    "\n",
    "layout = go.Layout(\n",
    "    title='Range Profile',\n",
    "    yaxis=dict(title='Amplitude (dB)'),\n",
    "    xaxis=dict(title='Range (m)'),\n",
    ")\n",
    "\n",
    "fig = go.Figure(plot_data, layout=layout)\n",
    "# iplot(fig)\n",
    "display(SVG(fig.to_image(format='svg', scale=1)))"
   ]
  },
  {
   "cell_type": "code",
   "execution_count": null,
   "metadata": {},
   "outputs": [],
   "source": []
  }
 ],
 "metadata": {
  "file_extension": ".py",
  "kernelspec": {
   "display_name": "Python 3",
   "language": "python",
   "name": "python3"
  },
  "language_info": {
   "codemirror_mode": {
    "name": "ipython",
    "version": 3
   },
   "file_extension": ".py",
   "mimetype": "text/x-python",
   "name": "python",
   "nbconvert_exporter": "python",
   "pygments_lexer": "ipython3",
   "version": "3.9.1"
  },
  "mimetype": "text/x-python",
  "name": "python",
  "npconvert_exporter": "python",
  "pygments_lexer": "ipython3",
  "toc": {
   "base_numbering": 1,
   "nav_menu": {},
   "number_sections": true,
   "sideBar": true,
   "skip_h1_title": false,
   "title_cell": "Table of Contents",
   "title_sidebar": "Contents",
   "toc_cell": false,
   "toc_position": {},
   "toc_section_display": true,
   "toc_window_display": false
  },
  "varInspector": {
   "cols": {
    "lenName": 16,
    "lenType": 16,
    "lenVar": 40
   },
   "kernels_config": {
    "python": {
     "delete_cmd_postfix": "",
     "delete_cmd_prefix": "del ",
     "library": "var_list.py",
     "varRefreshCmd": "print(var_dic_list())"
    },
    "r": {
     "delete_cmd_postfix": ") ",
     "delete_cmd_prefix": "rm(",
     "library": "var_list.r",
     "varRefreshCmd": "cat(var_dic_list()) "
    }
   },
   "types_to_exclude": [
    "module",
    "function",
    "builtin_function_or_method",
    "instance",
    "_Feature"
   ],
   "window_display": false
  },
  "version": 3
 },
 "nbformat": 4,
 "nbformat_minor": 4
}
