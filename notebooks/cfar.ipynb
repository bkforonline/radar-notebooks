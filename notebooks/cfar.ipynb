{
 "cells": [
  {
   "cell_type": "markdown",
   "metadata": {},
   "source": [
    "# CFAR\n",
    "\n",
    "This is an example of Constant False Alarm Rate (CFAR) threshold for an FMCW radar.\n",
    "`RadarSimPy` has two buildin CFAR methods: `CA-CFAR` and `OS-CFAR`.\n",
    "\n",
    ">`RadarSimPy` is a radar simulation package built with python. **<a href=\"https://zpeng.me/#contact\" target=\"_blank\">Contact me</a> if you are interested in this module.**\n",
    "\n",
    "\n",
    "## Radar Model\n",
    "### Transmitter\n",
    "\n",
    "The following table lists the basic parameters of the radar transmitter.\n",
    "\n",
    " | Parameter                       | Variable in `RadarSimPy` | Value      |\n",
    " |---------------------------------|--------------------------|------------|\n",
    " | Center frequency ($f_c$)        | fc                       | 24.125 GHz |\n",
    " | Bandwidth ($B$)                 | bandwidth                | 100 MHz    |\n",
    " | Transmitted power ($P_t$)       | tx_power                 | 10 dBm     |\n",
    " | Rising or falling chirp         | slop_type                | rising     |\n",
    " | Chirp repetition period ($CRP$) | repetition_period        | 100 us     |\n",
    " | Chirp length ($T$)              | pulse_length             | 80 us      |\n",
    " | Number of chirps                | pulses                   | 1        |\n",
    " | Chirp start delay               | delay                    | 0 s        |\n",
    "\n",
    "The radiation pattern os the transmitter antenna is $\\cos{\\theta}$. The gain of the antenna is 6 dB.\n"
   ]
  },
  {
   "cell_type": "code",
   "execution_count": 1,
   "metadata": {},
   "outputs": [],
   "source": [
    "import numpy as np\n",
    "from radarsimpy import Radar, Transmitter, Receiver\n",
    "\n",
    "angle = np.arange(-90, 91, 1)\n",
    "pattern = 20 * np.log10(np.cos(angle / 180 * np.pi) + 0.01) + 6\n",
    "\n",
    "tx_channel = dict(\n",
    "    location=(0, 0, 0),\n",
    "    azimuth_angle=angle,\n",
    "    azimuth_pattern=pattern,\n",
    "    elevation_angle=angle,\n",
    "    elevation_pattern=pattern,\n",
    ")\n",
    "\n",
    "tx = Transmitter(f=[24.075e9, 24.175e9],\n",
    "                 t=80e-6,\n",
    "                 tx_power=20,\n",
    "                 prp=100e-6,\n",
    "                 pulses=1,\n",
    "                 channels=[tx_channel])"
   ]
  },
  {
   "cell_type": "markdown",
   "metadata": {},
   "source": [
    " ### Receiver\n",
    " The parameters of the receiver are listed in the table below.\n",
    "\n",
    " | Parameter                        | Variable in `RadarSimPy` | Value        |\n",
    " |----------------------------------|--------------------------|--------------|\n",
    " | Sampling rate ($f_s$)            | fs                       | 2 Msps       |\n",
    " | Noise figure ($NF$)              | noise_figure             | 12 dB        |\n",
    " | RF gain/loss ($G_{rf}$)          | rf_gain                  | 20 dB        |\n",
    " | Load resistor ($R_L$)            | load_resistor            | 500 $\\Omega$ |\n",
    " | Baseband voltage gain ($G_{BB}$) | baseband_gain            | 30 dB        |\n",
    "\n",
    " The radiation pattern os the receiver antenna is $\\cos{\\theta}$. The gain of the antenna is 6 dB."
   ]
  },
  {
   "cell_type": "code",
   "execution_count": 2,
   "metadata": {},
   "outputs": [],
   "source": [
    "rx_channel = dict(\n",
    "    location=(0, 0, 0),\n",
    "    azimuth_angle=angle,\n",
    "    azimuth_pattern=pattern,\n",
    "    elevation_angle=angle,\n",
    "    elevation_pattern=pattern,\n",
    ")\n",
    "\n",
    "rx = Receiver(fs=2e6,\n",
    "              noise_figure=12,\n",
    "              rf_gain=20,\n",
    "              load_resistor=500,\n",
    "              baseband_gain=30,\n",
    "              channels=[rx_channel])"
   ]
  },
  {
   "cell_type": "markdown",
   "metadata": {},
   "source": [
    " Create the FMCW radar model based on all the parameters defined above."
   ]
  },
  {
   "cell_type": "code",
   "execution_count": 3,
   "metadata": {},
   "outputs": [],
   "source": [
    "radar = Radar(transmitter=tx, receiver=rx)"
   ]
  },
  {
   "cell_type": "markdown",
   "metadata": {},
   "source": [
    " Calculate the characteristics of the FMCW radar:\n",
    "\n",
    " - Maximum range (*with I/Q baseband*): $$R_{max}=\\frac{c f_s T}{2B}$$\n",
    "\n",
    " - Maximum range (*without I/Q baseband*): $$R_{max}=\\frac{c f_s T}{4B}$$\n",
    "\n",
    " - Unambiguous velocity: $$v_{ua}=\\frac{c}{2 CRP \\times f_c}$$ or $$v_{ua}=\\pm \\frac{c}{4 CRP \\times f_c}$$\n",
    "\n",
    " - Range resolution: $$\\delta_r=\\frac{c}{2B}$$\n"
   ]
  },
  {
   "cell_type": "code",
   "execution_count": 4,
   "metadata": {},
   "outputs": [
    {
     "name": "stdout",
     "output_type": "stream",
     "text": [
      "Maximum range:  239.83396640000004  m\n",
      "Maximum unambiguous speed:  62.133151917098445  m/s\n",
      "Range_resolution:  1.49896229  m\n"
     ]
    }
   ],
   "source": [
    "print('Maximum range: ', radar.max_range, ' m')\n",
    "print('Maximum unambiguous speed: ', radar.unambiguous_speed, ' m/s')\n",
    "print('Range_resolution: ', radar.range_resolution, ' m')"
   ]
  },
  {
   "cell_type": "markdown",
   "metadata": {},
   "source": [
    " ### Targets\n",
    " The propertities of targets are defined here. There are 3 targets in this simulation. The locations of the targets are defined through $(x, y, z)$ coordinates in meters, and the speeds of the targets are defined trough $(v_x, v_y, v_z)$ in $m/s$. The propertites of the targets also includes radar cross-section (RCS (dBsm)) and phase (radian)."
   ]
  },
  {
   "cell_type": "code",
   "execution_count": 5,
   "metadata": {},
   "outputs": [],
   "source": [
    "target_1 = dict(location=(95, 20, 0), speed=(-50, 0, 0), rcs=20, phase=0)\n",
    "target_2 = dict(location=(30, -5, 0), speed=(-22, 0, 0), rcs=10, phase=0)\n",
    "\n",
    "targets = [target_1, target_2]"
   ]
  },
  {
   "cell_type": "markdown",
   "metadata": {},
   "source": [
    "## Simulate Baseband Signals\n",
    " \n",
    "Calculate baseband signal matrix:\n",
    "$$[channel, slow~time, fast~time]$$\n",
    " \n",
    "#### Simulate with C++ engine"
   ]
  },
  {
   "cell_type": "code",
   "execution_count": 6,
   "metadata": {},
   "outputs": [],
   "source": [
    "from radarsimpy import simulatorcpp as simcpp\n",
    "\n",
    "data_cpp = simcpp(radar, targets)\n",
    "time_matrix_cpp = data_cpp['timestamp']\n",
    "data_matrix_cpp = data_cpp['baseband']"
   ]
  },
  {
   "cell_type": "code",
   "execution_count": 7,
   "metadata": {},
   "outputs": [
    {
     "data": {
      "image/svg+xml": [
       "<svg xmlns=\"http://www.w3.org/2000/svg\" xmlns:xlink=\"http://www.w3.org/1999/xlink\" class=\"main-svg\" width=\"700\" height=\"500\" style=\"\" viewBox=\"0 0 700 500\"><rect x=\"0\" y=\"0\" width=\"700\" height=\"500\" style=\"fill: rgb(255, 255, 255); fill-opacity: 1;\"/><defs id=\"defs-641e7a\"><g class=\"clips\"><clipPath id=\"clip641e7axyplot\" class=\"plotclip\"><rect width=\"540\" height=\"320\"/></clipPath><clipPath class=\"axesclip\" id=\"clip641e7ax\"><rect x=\"80\" y=\"0\" width=\"540\" height=\"500\"/></clipPath><clipPath class=\"axesclip\" id=\"clip641e7ay\"><rect x=\"0\" y=\"100\" width=\"700\" height=\"320\"/></clipPath><clipPath class=\"axesclip\" id=\"clip641e7axy\"><rect x=\"80\" y=\"100\" width=\"540\" height=\"320\"/></clipPath></g><g class=\"gradients\"/></defs><g class=\"bglayer\"><rect class=\"bg\" x=\"80\" y=\"100\" width=\"540\" height=\"320\" style=\"fill: rgb(229, 236, 246); fill-opacity: 1; stroke-width: 0;\"/></g><g class=\"layer-below\"><g class=\"imagelayer\"/><g class=\"shapelayer\"/></g><g class=\"cartesianlayer\"><g class=\"subplot xy\"><g class=\"layer-subplot\"><g class=\"shapelayer\"/><g class=\"imagelayer\"/></g><g class=\"gridlayer\"><g class=\"x\"><path class=\"xgrid crisp\" transform=\"translate(215.85,0)\" d=\"M0,100v320\" style=\"stroke: rgb(255, 255, 255); stroke-opacity: 1; stroke-width: 1px;\"/><path class=\"xgrid crisp\" transform=\"translate(351.7,0)\" d=\"M0,100v320\" style=\"stroke: rgb(255, 255, 255); stroke-opacity: 1; stroke-width: 1px;\"/><path class=\"xgrid crisp\" transform=\"translate(487.55,0)\" d=\"M0,100v320\" style=\"stroke: rgb(255, 255, 255); stroke-opacity: 1; stroke-width: 1px;\"/></g><g class=\"y\"><path class=\"ygrid crisp\" transform=\"translate(0,417.99)\" d=\"M80,0h540\" style=\"stroke: rgb(255, 255, 255); stroke-opacity: 1; stroke-width: 1px;\"/><path class=\"ygrid crisp\" transform=\"translate(0,378.8)\" d=\"M80,0h540\" style=\"stroke: rgb(255, 255, 255); stroke-opacity: 1; stroke-width: 1px;\"/><path class=\"ygrid crisp\" transform=\"translate(0,339.61)\" d=\"M80,0h540\" style=\"stroke: rgb(255, 255, 255); stroke-opacity: 1; stroke-width: 1px;\"/><path class=\"ygrid crisp\" transform=\"translate(0,300.41999999999996)\" d=\"M80,0h540\" style=\"stroke: rgb(255, 255, 255); stroke-opacity: 1; stroke-width: 1px;\"/><path class=\"ygrid crisp\" transform=\"translate(0,222.04000000000002)\" d=\"M80,0h540\" style=\"stroke: rgb(255, 255, 255); stroke-opacity: 1; stroke-width: 1px;\"/><path class=\"ygrid crisp\" transform=\"translate(0,182.84)\" d=\"M80,0h540\" style=\"stroke: rgb(255, 255, 255); stroke-opacity: 1; stroke-width: 1px;\"/><path class=\"ygrid crisp\" transform=\"translate(0,143.65)\" d=\"M80,0h540\" style=\"stroke: rgb(255, 255, 255); stroke-opacity: 1; stroke-width: 1px;\"/><path class=\"ygrid crisp\" transform=\"translate(0,104.46)\" d=\"M80,0h540\" style=\"stroke: rgb(255, 255, 255); stroke-opacity: 1; stroke-width: 1px;\"/></g></g><g class=\"zerolinelayer\"><path class=\"xzl zl crisp\" transform=\"translate(80,0)\" d=\"M0,100v320\" style=\"stroke: rgb(255, 255, 255); stroke-opacity: 1; stroke-width: 2px;\"/><path class=\"yzl zl crisp\" transform=\"translate(0,261.23)\" d=\"M80,0h540\" style=\"stroke: rgb(255, 255, 255); stroke-opacity: 1; stroke-width: 2px;\"/></g><path class=\"xlines-below\"/><path class=\"ylines-below\"/><g class=\"overlines-below\"/><g class=\"xaxislayer-below\"/><g class=\"yaxislayer-below\"/><g class=\"overaxes-below\"/><g class=\"plot\" transform=\"translate(80,100)\" clip-path=\"url('#clip641e7axyplot')\"><g class=\"scatterlayer mlayer\"><g class=\"trace scatter trace61c88c\" style=\"stroke-miterlimit: 2; opacity: 1;\"><g class=\"fills\"/><g class=\"errorbars\"/><g class=\"lines\"><path class=\"js-line\" d=\"M0,170.29L3.4,129.41L6.79,41.99L10.19,145.98L13.58,137.66L16.98,234.51L20.38,300.21L23.77,158.92L27.17,163.93L30.57,50.81L33.96,89.31L37.36,147.4L40.75,162.33L44.15,260.83L47.55,249.49L50.94,196.37L54.34,157L57.74,28.78L61.13,71.07L64.53,96.97L67.92,198.91L71.32,212.19L74.72,251.46L78.11,224.79L81.51,130.41L84.91,70.89L88.3,46.69L91.7,67.25L95.09,205.48L98.49,208.59L101.89,270.45L105.28,233.21L108.68,135.64L112.08,108.87L115.47,40.13L122.26,180.22L125.66,206.13L129.06,264.59L132.45,240.57L135.85,146.75L139.25,95.62L142.64,16L146.04,116.79L152.83,222.39L156.23,252.1L159.62,157.62L163.02,184.32L166.42,65.42L169.81,75.6L176.6,142.99L180,283.41L183.4,226.07L186.79,222.7L190.19,144.68L193.58,45.61L196.98,99.77L200.38,79.99L203.77,159.46L207.17,261.18L210.57,199.02L213.96,216.07L217.36,124.12L220.75,103.71L224.15,67.03L227.55,74.37L230.94,222.78L234.34,206.21L237.74,262.95L241.13,238.97L244.53,118.46L247.92,126.39L251.32,66.85L254.72,129.86L258.11,206.21L261.51,226.13L264.91,295.65L268.3,173.7L271.7,177.4L275.09,93.29L278.49,58.23L281.89,107.99L285.28,131.08L288.68,242.42L292.08,236.58L295.47,229.23L298.87,173.15L302.26,89.55L305.66,42.2L309.06,92.19L312.45,174.29L315.85,205.65L319.25,236.2L322.64,189.83L329.43,87.55L332.83,129.55L336.23,78.07L339.62,197.11L343.02,254.71L346.42,238.97L349.81,251.93L353.21,123.68L356.6,88.93L360,68.44L363.4,123.7L366.79,223.21L370.19,236.59L373.58,273.24L376.98,226.35L380.38,105.29L383.77,113.31L387.17,22.18L390.57,139.6L393.96,175.02L397.36,193.42L400.75,289.54L404.15,166.18L407.55,160.47L410.94,47.05L414.34,30.56L417.74,142.98L421.13,145.61L424.53,229.12L427.92,228.91L431.32,202.73L434.72,146.66L438.11,61.69L441.51,91.9L448.3,152.49L451.7,283.04L455.09,259.9L458.49,221.74L461.89,146.66L465.28,47.19L468.68,85.56L472.08,97.31L475.47,205.85L478.87,250.41L482.26,225.52L485.66,253.16L489.06,79.44L492.45,137.88L495.85,90.26L499.25,133.39L502.64,214.4L506.04,166.85L509.43,239L512.83,218.32L516.23,128.7L519.62,91.45L523.02,33.33L526.42,104.31L529.81,143.93L533.21,232.41L536.6,271.54L540,194.56\" style=\"vector-effect: non-scaling-stroke; fill: none; stroke: rgb(99, 110, 250); stroke-opacity: 1; stroke-width: 2px; opacity: 1;\"/></g><g class=\"points\"/><g class=\"text\"/></g><g class=\"trace scatter trace62152d\" style=\"stroke-miterlimit: 2; opacity: 1;\"><g class=\"fills\"/><g class=\"errorbars\"/><g class=\"lines\"><path class=\"js-line\" d=\"M0,197.11L3.4,234.56L6.79,110.68L10.19,98.93L13.58,84.35L16.98,82.09L20.38,223.7L23.77,188.34L27.17,279.29L30.57,218.93L33.96,119.02L37.36,137.53L40.75,60.85L44.15,86.74L47.55,181.49L50.94,190.34L54.34,242.13L57.74,161.66L61.13,128.77L64.53,91.36L67.92,28.74L71.32,157.15L74.72,182.44L81.51,304L84.91,175.38L88.3,192.66L91.7,106.1L95.09,63.46L98.49,162.52L101.89,148.19L105.28,257.75L108.68,208.98L112.08,190.42L115.47,200.95L118.87,41.56L122.26,42.54L125.66,83.31L129.06,178.3L132.45,238.93L135.85,232.06L139.25,260.72L142.64,113.1L146.04,108.49L149.43,66.01L152.83,68.56L156.23,213.17L159.62,191.23L163.02,270.41L166.42,226.56L169.81,155.48L173.21,147.27L176.6,26.85L180,105.11L183.4,204.75L186.79,231.26L190.19,278.91L193.58,212.58L196.98,129.64L200.38,115.41L203.77,38.96L207.17,127.27L210.57,201.62L213.96,253.21L217.36,260.66L220.75,192.52L224.15,156.5L227.55,94.56L230.94,50.28L234.34,106.34L237.74,153.97L241.13,274.61L244.53,195.86L247.92,175.99L251.32,176.51L254.72,38.73L258.11,54.76L261.51,101.05L264.91,168.89L268.3,215.08L271.7,213.52L275.09,258.12L278.49,141.49L281.89,57.69L285.28,55.68L288.68,60.23L292.08,195.29L295.47,218.2L298.87,241.06L302.26,242.25L305.66,116.71L309.06,118.22L312.45,37.34L315.85,125.14L319.25,189.91L322.64,228.67L326.04,248.08L329.43,200.63L332.83,143.74L336.23,102.64L339.62,58.35L343.02,124.93L346.42,172.67L349.81,278.73L353.21,255.65L356.6,171.54L360,171.97L363.4,56.97L366.79,55.67L370.19,129.32L373.58,127.69L376.98,235.2L380.38,275L383.77,216.74L387.17,157.21L390.57,48.63L393.96,96.33L397.36,73.56L400.75,175.42L404.15,232.41L407.55,223.39L410.94,238.84L414.34,102.52L417.74,86.37L424.53,81.58L427.92,206.11L431.32,210.34L434.72,249.49L438.11,205.71L441.51,132.73L444.91,127.11L448.3,41.28L455.09,244.92L458.49,213.55L461.89,250.72L465.28,189.1L472.08,78.5L475.47,67.5L478.87,131.81L482.26,144.92L485.66,240.34L489.06,294.87L492.45,191.78L495.85,165.85L499.25,60.1L502.64,62.29L506.04,97.71L509.43,160.26L512.83,285.56L516.23,238.06L519.62,220.02L523.02,144.71L526.42,70.34L529.81,72.22L533.21,38.9L536.6,156.12L540,225.58\" style=\"vector-effect: non-scaling-stroke; fill: none; stroke: rgb(239, 85, 59); stroke-opacity: 1; stroke-width: 2px; opacity: 1;\"/></g><g class=\"points\"/><g class=\"text\"/></g></g></g><g class=\"overplot\"/><path class=\"xlines-above crisp\" d=\"M0,0\" style=\"fill: none;\"/><path class=\"ylines-above crisp\" d=\"M0,0\" style=\"fill: none;\"/><g class=\"overlines-above\"/><g class=\"xaxislayer-above\"><g class=\"xtick\"><text text-anchor=\"middle\" x=\"0\" y=\"433\" transform=\"translate(80,0)\" style=\"font-family: 'Open Sans', verdana, arial, sans-serif; font-size: 12px; fill: rgb(42, 63, 95); fill-opacity: 1; white-space: pre;\">0</text></g><g class=\"xtick\"><text text-anchor=\"middle\" x=\"0\" y=\"433\" transform=\"translate(215.85,0)\" style=\"font-family: 'Open Sans', verdana, arial, sans-serif; font-size: 12px; fill: rgb(42, 63, 95); fill-opacity: 1; white-space: pre;\">20</text></g><g class=\"xtick\"><text text-anchor=\"middle\" x=\"0\" y=\"433\" transform=\"translate(351.7,0)\" style=\"font-family: 'Open Sans', verdana, arial, sans-serif; font-size: 12px; fill: rgb(42, 63, 95); fill-opacity: 1; white-space: pre;\">40</text></g><g class=\"xtick\"><text text-anchor=\"middle\" x=\"0\" y=\"433\" transform=\"translate(487.55,0)\" style=\"font-family: 'Open Sans', verdana, arial, sans-serif; font-size: 12px; fill: rgb(42, 63, 95); fill-opacity: 1; white-space: pre;\">60</text></g></g><g class=\"yaxislayer-above\"><g class=\"ytick\"><text text-anchor=\"end\" x=\"79\" y=\"4.199999999999999\" transform=\"translate(0,417.99)\" style=\"font-family: 'Open Sans', verdana, arial, sans-serif; font-size: 12px; fill: rgb(42, 63, 95); fill-opacity: 1; white-space: pre;\">−0.02</text></g><g class=\"ytick\"><text text-anchor=\"end\" x=\"79\" y=\"4.199999999999999\" transform=\"translate(0,378.8)\" style=\"font-family: 'Open Sans', verdana, arial, sans-serif; font-size: 12px; fill: rgb(42, 63, 95); fill-opacity: 1; white-space: pre;\">−0.01</text></g><g class=\"ytick\"><text text-anchor=\"end\" x=\"79\" y=\"4.199999999999999\" transform=\"translate(0,339.61)\" style=\"font-family: 'Open Sans', verdana, arial, sans-serif; font-size: 12px; fill: rgb(42, 63, 95); fill-opacity: 1; white-space: pre;\">−0.01</text></g><g class=\"ytick\"><text text-anchor=\"end\" x=\"79\" y=\"4.199999999999999\" transform=\"translate(0,300.41999999999996)\" style=\"font-family: 'Open Sans', verdana, arial, sans-serif; font-size: 12px; fill: rgb(42, 63, 95); fill-opacity: 1; white-space: pre;\">−0.01</text></g><g class=\"ytick\"><text text-anchor=\"end\" x=\"79\" y=\"4.199999999999999\" transform=\"translate(0,261.23)\" style=\"font-family: 'Open Sans', verdana, arial, sans-serif; font-size: 12px; fill: rgb(42, 63, 95); fill-opacity: 1; white-space: pre;\">0.00</text></g><g class=\"ytick\"><text text-anchor=\"end\" x=\"79\" y=\"4.199999999999999\" transform=\"translate(0,222.04000000000002)\" style=\"font-family: 'Open Sans', verdana, arial, sans-serif; font-size: 12px; fill: rgb(42, 63, 95); fill-opacity: 1; white-space: pre;\">0.01</text></g><g class=\"ytick\"><text text-anchor=\"end\" x=\"79\" y=\"4.199999999999999\" transform=\"translate(0,182.84)\" style=\"font-family: 'Open Sans', verdana, arial, sans-serif; font-size: 12px; fill: rgb(42, 63, 95); fill-opacity: 1; white-space: pre;\">0.01</text></g><g class=\"ytick\"><text text-anchor=\"end\" x=\"79\" y=\"4.199999999999999\" transform=\"translate(0,143.65)\" style=\"font-family: 'Open Sans', verdana, arial, sans-serif; font-size: 12px; fill: rgb(42, 63, 95); fill-opacity: 1; white-space: pre;\">0.01</text></g><g class=\"ytick\"><text text-anchor=\"end\" x=\"79\" y=\"4.199999999999999\" transform=\"translate(0,104.46)\" style=\"font-family: 'Open Sans', verdana, arial, sans-serif; font-size: 12px; fill: rgb(42, 63, 95); fill-opacity: 1; white-space: pre;\">0.02</text></g></g><g class=\"overaxes-above\"/></g></g><g class=\"polarlayer\"/><g class=\"ternarylayer\"/><g class=\"geolayer\"/><g class=\"funnelarealayer\"/><g class=\"pielayer\"/><g class=\"treemaplayer\"/><g class=\"sunburstlayer\"/><g class=\"glimages\"/><defs id=\"topdefs-641e7a\"><g class=\"clips\"/><clipPath id=\"legend641e7a\"><rect width=\"55\" height=\"48\" x=\"0\" y=\"0\"/></clipPath></defs><g class=\"layer-above\"><g class=\"imagelayer\"/><g class=\"shapelayer\"/></g><g class=\"infolayer\"><g class=\"legend\" pointer-events=\"all\" transform=\"translate(630.8,100)\"><rect class=\"bg\" shape-rendering=\"crispEdges\" style=\"stroke: rgb(68, 68, 68); stroke-opacity: 1; fill: rgb(255, 255, 255); fill-opacity: 1; stroke-width: 0px;\" width=\"55\" height=\"48\" x=\"0\" y=\"0\"/><g class=\"scrollbox\" transform=\"\" clip-path=\"url('#legend641e7a')\"><g class=\"groups\"><g class=\"traces\" transform=\"translate(0,14.5)\" style=\"opacity: 1;\"><text class=\"legendtext\" text-anchor=\"start\" x=\"40\" y=\"4.680000000000001\" style=\"font-family: 'Open Sans', verdana, arial, sans-serif; font-size: 12px; fill: rgb(42, 63, 95); fill-opacity: 1; white-space: pre;\">I</text><g class=\"layers\" style=\"opacity: 1;\"><g class=\"legendfill\"/><g class=\"legendlines\"><path class=\"js-line\" d=\"M5,0h30\" style=\"fill: none; stroke: rgb(99, 110, 250); stroke-opacity: 1; stroke-width: 2px;\"/></g><g class=\"legendsymbols\"><g class=\"legendpoints\"/></g></g><rect class=\"legendtoggle\" x=\"0\" y=\"-9.5\" width=\"49.453125\" height=\"19\" style=\"fill: rgb(0, 0, 0); fill-opacity: 0;\"/></g><g class=\"traces\" transform=\"translate(0,33.5)\" style=\"opacity: 1;\"><text class=\"legendtext\" text-anchor=\"start\" x=\"40\" y=\"4.680000000000001\" style=\"font-family: 'Open Sans', verdana, arial, sans-serif; font-size: 12px; fill: rgb(42, 63, 95); fill-opacity: 1; white-space: pre;\">Q</text><g class=\"layers\" style=\"opacity: 1;\"><g class=\"legendfill\"/><g class=\"legendlines\"><path class=\"js-line\" d=\"M5,0h30\" style=\"fill: none; stroke: rgb(239, 85, 59); stroke-opacity: 1; stroke-width: 2px;\"/></g><g class=\"legendsymbols\"><g class=\"legendpoints\"/></g></g><rect class=\"legendtoggle\" x=\"0\" y=\"-9.5\" width=\"49.453125\" height=\"19\" style=\"fill: rgb(0, 0, 0); fill-opacity: 0;\"/></g></g></g><rect class=\"scrollbar\" rx=\"20\" ry=\"3\" width=\"0\" height=\"0\" style=\"fill: rgb(128, 139, 164); fill-opacity: 1;\" x=\"0\" y=\"0\"/></g><g class=\"g-gtitle\"><text class=\"gtitle\" x=\"35\" y=\"50\" text-anchor=\"start\" dy=\"0em\" style=\"font-family: 'Open Sans', verdana, arial, sans-serif; font-size: 17px; fill: rgb(42, 63, 95); opacity: 1; font-weight: normal; white-space: pre;\">I/Q Beat Signals for the First Chirp</text></g><g class=\"g-xtitle\"><text class=\"xtitle\" x=\"350\" y=\"460.8\" text-anchor=\"middle\" style=\"font-family: 'Open Sans', verdana, arial, sans-serif; font-size: 14px; fill: rgb(42, 63, 95); opacity: 1; font-weight: normal; white-space: pre;\">Time (µs)</text></g><g class=\"g-ytitle\"><text class=\"ytitle\" transform=\"rotate(-90,17.121875000000003,260)\" x=\"17.121875000000003\" y=\"260\" text-anchor=\"middle\" style=\"font-family: 'Open Sans', verdana, arial, sans-serif; font-size: 14px; fill: rgb(42, 63, 95); opacity: 1; font-weight: normal; white-space: pre;\">Amplitude (V)</text></g></g></svg>"
      ],
      "text/plain": [
       "<IPython.core.display.SVG object>"
      ]
     },
     "metadata": {},
     "output_type": "display_data"
    }
   ],
   "source": [
    "import plotly.graph_objs as go\n",
    "from plotly.offline import iplot\n",
    "from IPython.display import SVG, display\n",
    "\n",
    "beat_I = go.Scatter(\n",
    "    x=time_matrix_cpp[0, 0, :] * 1e6,\n",
    "    y=np.real(data_matrix_cpp[0, 0, :]),\n",
    "    name='I',\n",
    ")\n",
    "beat_Q = go.Scatter(\n",
    "    x=time_matrix_cpp[0, 0, :] * 1e6,\n",
    "    y=np.imag(data_matrix_cpp[0, 0, :]),\n",
    "    name='Q',\n",
    ")\n",
    "data = [beat_I, beat_Q]\n",
    "\n",
    "layout = go.Layout(\n",
    "    title='I/Q Beat Signals for the First Chirp',\n",
    "    yaxis=dict(tickformat='.2f', title='Amplitude (V)'),\n",
    "    xaxis=dict(title='Time (µs)'),\n",
    ")\n",
    "\n",
    "fig = go.Figure(data, layout=layout)\n",
    "# iplot(fig)\n",
    "display(SVG(fig.to_image(format='svg', scale=1)))"
   ]
  },
  {
   "cell_type": "markdown",
   "metadata": {},
   "source": [
    " ## Radar Signal Processing\n",
    " ### Range profile"
   ]
  },
  {
   "cell_type": "code",
   "execution_count": 8,
   "metadata": {},
   "outputs": [],
   "source": [
    "from scipy import signal\n",
    "import radarsimpy.processing as proc\n",
    "\n",
    "\n",
    "range_window = signal.chebwin(radar.samples_per_pulse, at=60)\n",
    "range_profile = proc.cal_range_profile(radar, data_matrix_cpp, range_window)\n",
    "\n",
    "ca_cfar = proc.cfar_ca(range_profile[0, 0, :], guard=2, trailing=10, pfa=1e-2)\n",
    "os_cfar = proc.cfar_os(range_profile[0, 0, :], n=20, k=14, pfa=1e-2)"
   ]
  },
  {
   "cell_type": "code",
   "execution_count": 9,
   "metadata": {},
   "outputs": [
    {
     "data": {
      "image/svg+xml": [
       "<svg xmlns=\"http://www.w3.org/2000/svg\" xmlns:xlink=\"http://www.w3.org/1999/xlink\" class=\"main-svg\" width=\"700\" height=\"500\" style=\"\" viewBox=\"0 0 700 500\"><rect x=\"0\" y=\"0\" width=\"700\" height=\"500\" style=\"fill: rgb(255, 255, 255); fill-opacity: 1;\"/><defs id=\"defs-255ad9\"><g class=\"clips\"><clipPath id=\"clip255ad9xyplot\" class=\"plotclip\"><rect width=\"474\" height=\"320\"/></clipPath><clipPath class=\"axesclip\" id=\"clip255ad9x\"><rect x=\"80\" y=\"0\" width=\"474\" height=\"500\"/></clipPath><clipPath class=\"axesclip\" id=\"clip255ad9y\"><rect x=\"0\" y=\"100\" width=\"700\" height=\"320\"/></clipPath><clipPath class=\"axesclip\" id=\"clip255ad9xy\"><rect x=\"80\" y=\"100\" width=\"474\" height=\"320\"/></clipPath></g><g class=\"gradients\"/></defs><g class=\"bglayer\"><rect class=\"bg\" x=\"80\" y=\"100\" width=\"474\" height=\"320\" style=\"fill: rgb(229, 236, 246); fill-opacity: 1; stroke-width: 0;\"/></g><g class=\"layer-below\"><g class=\"imagelayer\"/><g class=\"shapelayer\"/></g><g class=\"cartesianlayer\"><g class=\"subplot xy\"><g class=\"layer-subplot\"><g class=\"shapelayer\"/><g class=\"imagelayer\"/></g><g class=\"gridlayer\"><g class=\"x\"><path class=\"xgrid crisp\" transform=\"translate(179.44,0)\" d=\"M0,100v320\" style=\"stroke: rgb(255, 255, 255); stroke-opacity: 1; stroke-width: 1px;\"/><path class=\"xgrid crisp\" transform=\"translate(278.88,0)\" d=\"M0,100v320\" style=\"stroke: rgb(255, 255, 255); stroke-opacity: 1; stroke-width: 1px;\"/><path class=\"xgrid crisp\" transform=\"translate(378.32,0)\" d=\"M0,100v320\" style=\"stroke: rgb(255, 255, 255); stroke-opacity: 1; stroke-width: 1px;\"/><path class=\"xgrid crisp\" transform=\"translate(477.76,0)\" d=\"M0,100v320\" style=\"stroke: rgb(255, 255, 255); stroke-opacity: 1; stroke-width: 1px;\"/></g><g class=\"y\"><path class=\"ygrid crisp\" transform=\"translate(0,391.55)\" d=\"M80,0h474\" style=\"stroke: rgb(255, 255, 255); stroke-opacity: 1; stroke-width: 1px;\"/><path class=\"ygrid crisp\" transform=\"translate(0,335.48)\" d=\"M80,0h474\" style=\"stroke: rgb(255, 255, 255); stroke-opacity: 1; stroke-width: 1px;\"/><path class=\"ygrid crisp\" transform=\"translate(0,279.41999999999996)\" d=\"M80,0h474\" style=\"stroke: rgb(255, 255, 255); stroke-opacity: 1; stroke-width: 1px;\"/><path class=\"ygrid crisp\" transform=\"translate(0,223.35)\" d=\"M80,0h474\" style=\"stroke: rgb(255, 255, 255); stroke-opacity: 1; stroke-width: 1px;\"/><path class=\"ygrid crisp\" transform=\"translate(0,167.28)\" d=\"M80,0h474\" style=\"stroke: rgb(255, 255, 255); stroke-opacity: 1; stroke-width: 1px;\"/></g></g><g class=\"zerolinelayer\"><path class=\"xzl zl crisp\" transform=\"translate(80,0)\" d=\"M0,100v320\" style=\"stroke: rgb(255, 255, 255); stroke-opacity: 1; stroke-width: 2px;\"/><path class=\"yzl zl crisp\" transform=\"translate(0,111.21000000000001)\" d=\"M80,0h474\" style=\"stroke: rgb(255, 255, 255); stroke-opacity: 1; stroke-width: 2px;\"/></g><path class=\"xlines-below\"/><path class=\"ylines-below\"/><g class=\"overlines-below\"/><g class=\"xaxislayer-below\"/><g class=\"yaxislayer-below\"/><g class=\"overaxes-below\"/><g class=\"plot\" transform=\"translate(80,100)\" clip-path=\"url('#clip255ad9xyplot')\"><g class=\"scatterlayer mlayer\"><g class=\"trace scatter trace74d740\" style=\"stroke-miterlimit: 2; opacity: 1;\"><g class=\"fills\"/><g class=\"errorbars\"/><g class=\"lines\"><path class=\"js-line\" d=\"M0,180.03L2.98,176.11L5.96,183.65L8.94,184.62L11.92,204.37L14.91,174.96L17.89,172.98L20.87,211.6L23.85,226.64L26.83,198.37L29.81,253.42L32.79,249.9L35.77,187.42L38.75,172.98L41.74,167.53L44.72,165.78L47.7,158.78L50.68,184.42L53.66,177.46L56.64,50.41L59.62,16L62.6,47.55L65.58,200.71L68.57,179.99L71.55,181.44L74.53,195.22L77.51,197.77L80.49,208.66L83.47,246.89L86.45,180.84L89.43,157.86L92.42,184.6L95.4,246.69L98.38,205.79L101.36,226.82L107.32,173.75L110.3,194.79L113.28,200.18L116.26,165.13L119.25,166.53L122.23,159.98L125.21,168.33L128.19,187.36L131.17,198.27L134.15,187.83L137.13,184.21L140.11,192.53L143.09,217.48L146.08,255.06L149.06,255.94L152.04,173.72L155.02,185.27L158,182.42L160.98,171.71L163.96,180.05L166.94,201.6L169.92,194.77L172.91,173.07L175.89,202.3L178.87,254.44L181.85,178.74L184.83,173.54L187.81,124.1L190.79,77.75L193.77,105.39L196.75,210.9L199.74,188.13L202.72,164.13L205.7,171.69L208.68,214.93L211.66,193.34L214.64,221.81L217.62,184.99L220.6,216.43L223.58,205.71L226.57,196.32L229.55,208.49L232.53,230.55L235.51,204.01L238.49,204.35L241.47,201.5L244.45,199.55L247.43,304L250.42,232.96L253.4,189.3L256.38,167.67L259.36,173.14L262.34,189.45L265.32,170.82L268.3,171.86L271.28,192.21L274.26,164.64L277.25,147.69L280.23,164.27L283.21,195.09L286.19,253.12L289.17,221.57L292.15,214.09L295.13,236.02L298.11,189.12L301.09,210.08L304.08,204.25L307.06,223.69L310.04,185.36L313.02,185.81L316,179.52L318.98,191.17L321.96,214.62L324.94,190.35L327.92,183.96L330.91,158.41L333.89,164.13L336.87,194.5L339.85,184.34L342.83,184.3L348.79,191.98L351.77,225.69L354.75,186.12L357.74,169.62L360.72,211.62L363.7,265.8L366.68,204.24L369.66,224.05L372.64,227.48L375.62,214.61L378.6,204.1L381.58,223.42L384.57,194.96L387.55,176.13L390.53,215.27L393.51,212.72L396.49,212.8L399.47,214.58L402.45,178.95L405.43,209.86L408.42,268.08L411.4,201.09L417.36,226.52L420.34,206.61L423.32,219.5L426.3,195.42L429.28,244.42L432.26,204.54L435.25,211.39L438.23,250.93L441.21,235.29L444.19,230.51L447.17,213.33L450.15,205.73L453.13,205.09L456.11,200.46L459.09,188.22L462.08,148.61L465.06,144.26L468.04,178.5L474,208.04\" style=\"vector-effect: non-scaling-stroke; fill: none; stroke: rgb(99, 110, 250); stroke-opacity: 1; stroke-width: 2px; opacity: 1;\"/></g><g class=\"points\"/><g class=\"text\"/></g><g class=\"trace scatter trace3687d3\" style=\"stroke-miterlimit: 2; opacity: 1;\"><g class=\"fills\"/><g class=\"errorbars\"/><g class=\"lines\"><path class=\"js-line\" d=\"M0,153.24L2.98,151.49L5.96,146.9L14.91,126.26L17.89,120.06L23.85,48.61L26.83,36.57L35.77,35.97L38.75,36.88L41.74,38.03L44.72,38.32L47.7,38.7L50.68,48.36L56.64,109.08L59.62,109.1L62.6,108.35L65.58,80.4L68.57,47.59L71.55,36.23L92.42,36.7L95.4,46.23L101.36,103.72L104.34,104.69L107.32,106.35L110.3,111.42L113.28,115.21L116.26,114.97L119.25,115.61L122.23,113.96L125.21,111.2L128.19,111.54L131.17,110.55L134.15,107.66L140.11,103.08L143.09,102.56L146.08,103.42L149.06,102.69L152.04,97.78L155.02,85.79L158,81.4L160.98,82.21L163.96,82.66L166.94,82.11L169.92,80.37L172.91,79.69L178.87,81.81L181.85,84.5L184.83,99.5L187.81,110.36L193.77,110.27L196.75,106.87L199.74,91.56L202.72,84.43L205.7,84.83L208.68,84.21L211.66,85.26L214.64,84.51L220.6,83.09L223.58,83.3L226.57,86.49L229.55,101.76L232.53,111.41L235.51,110.44L238.49,109.21L241.47,106.81L244.45,105.52L247.43,105.45L250.42,108.78L253.4,110.21L259.36,117.25L262.34,117.65L265.32,116.49L268.3,117.08L271.28,120.91L274.26,120.5L280.23,114.71L283.21,111.3L289.17,101.84L292.15,101.84L301.09,101.81L304.08,104.07L310.04,106.03L313.02,108.22L316,113.19L318.98,114.52L321.96,113L324.94,113.8L327.92,116.62L330.91,117.1L333.89,117.16L336.87,118.73L342.83,114.39L345.81,113.25L354.75,114.72L357.74,113.66L360.72,114.3L363.7,113.78L366.68,110.77L369.66,113.86L372.64,119.56L375.62,119.18L378.6,121.99L381.58,126.98L387.55,129.15L390.53,128.11L393.51,129.75L396.49,132.39L399.47,132.65L402.45,130.74L405.43,132.74L408.42,132.97L411.4,129.43L414.38,129.16L417.36,130.48L420.34,129.72L423.32,128.25L426.3,125.69L429.28,119.3L432.26,116.71L435.25,114.47L438.23,114.52L444.19,119.83L447.17,121.8L453.13,129.94L456.11,138.75L459.09,151.48L462.08,158.07L465.06,165.37L468.04,165.22L474,143.99\" style=\"vector-effect: non-scaling-stroke; fill: none; stroke: rgb(239, 85, 59); stroke-opacity: 1; stroke-width: 2px; opacity: 1;\"/></g><g class=\"points\"/><g class=\"text\"/></g><g class=\"trace scatter tracecd5f60\" style=\"stroke-miterlimit: 2; opacity: 1;\"><g class=\"fills\"/><g class=\"errorbars\"/><g class=\"lines\"><path class=\"js-line\" d=\"M0,101.85L2.98,103.38L5.96,101.85L8.94,99.46L11.92,98.31L14.91,96.33L17.89,98.31L23.85,98.31L26.83,96.33L29.81,96.33L32.79,90.88L38.75,90.88L41.74,96.33L47.7,96.33L50.68,90.88L53.66,90.88L56.64,96.33L59.62,90.88L62.6,90.88L65.58,89.13L68.57,89.13L74.53,89.13L77.51,97.1L80.49,100.81L83.47,100.81L86.45,97.1L89.43,103.34L92.42,97.1L95.4,97.1L104.34,97.1L107.32,104.19L110.3,97.1L113.28,97.1L116.26,104.19L119.25,107.56L125.21,107.56L128.19,97.1L149.06,97.07L152.04,103.4L155.02,102.09L158,102.09L160.98,102.09L163.96,96.89L172.91,96.89L175.89,95.07L184.83,95.07L187.81,96.42L202.72,96.89L205.7,102.09L208.68,96.89L211.66,96.89L214.64,96.89L217.62,111.48L220.6,111.48L223.58,112.65L226.57,112.65L229.55,111.48L232.53,112.65L235.51,112.65L241.47,112.65L244.45,108.34L247.43,96.49L250.42,95.21L253.4,95.21L256.38,96.49L259.36,95.21L262.34,95.21L265.32,96.49L268.3,96.49L271.28,95.21L274.26,96.49L280.23,96.49L283.21,95.21L286.19,95.21L289.17,96.49L292.15,102.87L295.13,102.87L298.11,107.32L301.09,107.32L304.08,102.87L307.06,107.32L316,108.71L318.98,107.69L360.72,107.69L363.7,109.47L366.68,111.37L369.66,111.37L372.64,111.37L375.62,115.34L378.6,118.31L381.58,124.44L384.57,127.45L387.55,127.59L408.42,127.45L411.4,129.96L414.38,127.89L417.36,129.96L420.34,133.21L423.32,129.08L426.3,129.08L429.28,127.89L432.26,124.44L435.25,124.44L438.23,123.81L441.21,118.77L444.19,118.77L447.17,115.97L453.13,107L456.11,107L462.08,107L465.06,103.38L468.04,103.38L471.02,101.85L474,101.85\" style=\"vector-effect: non-scaling-stroke; fill: none; stroke: rgb(0, 204, 150); stroke-opacity: 1; stroke-width: 2px; opacity: 1;\"/></g><g class=\"points\"/><g class=\"text\"/></g></g></g><g class=\"overplot\"/><path class=\"xlines-above crisp\" d=\"M0,0\" style=\"fill: none;\"/><path class=\"ylines-above crisp\" d=\"M0,0\" style=\"fill: none;\"/><g class=\"overlines-above\"/><g class=\"xaxislayer-above\"><g class=\"xtick\"><text text-anchor=\"middle\" x=\"0\" y=\"433\" transform=\"translate(80,0)\" style=\"font-family: 'Open Sans', verdana, arial, sans-serif; font-size: 12px; fill: rgb(42, 63, 95); fill-opacity: 1; white-space: pre;\">0</text></g><g class=\"xtick\"><text text-anchor=\"middle\" x=\"0\" y=\"433\" transform=\"translate(179.44,0)\" style=\"font-family: 'Open Sans', verdana, arial, sans-serif; font-size: 12px; fill: rgb(42, 63, 95); fill-opacity: 1; white-space: pre;\">50</text></g><g class=\"xtick\"><text text-anchor=\"middle\" x=\"0\" y=\"433\" transform=\"translate(278.88,0)\" style=\"font-family: 'Open Sans', verdana, arial, sans-serif; font-size: 12px; fill: rgb(42, 63, 95); fill-opacity: 1; white-space: pre;\">100</text></g><g class=\"xtick\"><text text-anchor=\"middle\" x=\"0\" y=\"433\" transform=\"translate(378.32,0)\" style=\"font-family: 'Open Sans', verdana, arial, sans-serif; font-size: 12px; fill: rgb(42, 63, 95); fill-opacity: 1; white-space: pre;\">150</text></g><g class=\"xtick\"><text text-anchor=\"middle\" x=\"0\" y=\"433\" transform=\"translate(477.76,0)\" style=\"font-family: 'Open Sans', verdana, arial, sans-serif; font-size: 12px; fill: rgb(42, 63, 95); fill-opacity: 1; white-space: pre;\">200</text></g></g><g class=\"yaxislayer-above\"><g class=\"ytick\"><text text-anchor=\"end\" x=\"79\" y=\"4.199999999999999\" transform=\"translate(0,391.55)\" style=\"font-family: 'Open Sans', verdana, arial, sans-serif; font-size: 12px; fill: rgb(42, 63, 95); fill-opacity: 1; white-space: pre;\">−50</text></g><g class=\"ytick\"><text text-anchor=\"end\" x=\"79\" y=\"4.199999999999999\" transform=\"translate(0,335.48)\" style=\"font-family: 'Open Sans', verdana, arial, sans-serif; font-size: 12px; fill: rgb(42, 63, 95); fill-opacity: 1; white-space: pre;\">−40</text></g><g class=\"ytick\"><text text-anchor=\"end\" x=\"79\" y=\"4.199999999999999\" transform=\"translate(0,279.41999999999996)\" style=\"font-family: 'Open Sans', verdana, arial, sans-serif; font-size: 12px; fill: rgb(42, 63, 95); fill-opacity: 1; white-space: pre;\">−30</text></g><g class=\"ytick\"><text text-anchor=\"end\" x=\"79\" y=\"4.199999999999999\" transform=\"translate(0,223.35)\" style=\"font-family: 'Open Sans', verdana, arial, sans-serif; font-size: 12px; fill: rgb(42, 63, 95); fill-opacity: 1; white-space: pre;\">−20</text></g><g class=\"ytick\"><text text-anchor=\"end\" x=\"79\" y=\"4.199999999999999\" transform=\"translate(0,167.28)\" style=\"font-family: 'Open Sans', verdana, arial, sans-serif; font-size: 12px; fill: rgb(42, 63, 95); fill-opacity: 1; white-space: pre;\">−10</text></g><g class=\"ytick\"><text text-anchor=\"end\" x=\"79\" y=\"4.199999999999999\" transform=\"translate(0,111.21000000000001)\" style=\"font-family: 'Open Sans', verdana, arial, sans-serif; font-size: 12px; fill: rgb(42, 63, 95); fill-opacity: 1; white-space: pre;\">0</text></g></g><g class=\"overaxes-above\"/></g></g><g class=\"polarlayer\"/><g class=\"ternarylayer\"/><g class=\"geolayer\"/><g class=\"funnelarealayer\"/><g class=\"pielayer\"/><g class=\"treemaplayer\"/><g class=\"sunburstlayer\"/><g class=\"glimages\"/><defs id=\"topdefs-255ad9\"><g class=\"clips\"/><clipPath id=\"legend255ad9\"><rect width=\"125\" height=\"67\" x=\"0\" y=\"0\"/></clipPath></defs><g class=\"layer-above\"><g class=\"imagelayer\"/><g class=\"shapelayer\"/></g><g class=\"infolayer\"><g class=\"legend\" pointer-events=\"all\" transform=\"translate(563.48,100)\"><rect class=\"bg\" shape-rendering=\"crispEdges\" style=\"stroke: rgb(68, 68, 68); stroke-opacity: 1; fill: rgb(255, 255, 255); fill-opacity: 1; stroke-width: 0px;\" width=\"125\" height=\"67\" x=\"0\" y=\"0\"/><g class=\"scrollbox\" transform=\"\" clip-path=\"url('#legend255ad9')\"><g class=\"groups\"><g class=\"traces\" transform=\"translate(0,14.5)\" style=\"opacity: 1;\"><text class=\"legendtext\" text-anchor=\"start\" x=\"40\" y=\"4.680000000000001\" style=\"font-family: 'Open Sans', verdana, arial, sans-serif; font-size: 12px; fill: rgb(42, 63, 95); fill-opacity: 1; white-space: pre;\">Range profile</text><g class=\"layers\" style=\"opacity: 1;\"><g class=\"legendfill\"/><g class=\"legendlines\"><path class=\"js-line\" d=\"M5,0h30\" style=\"fill: none; stroke: rgb(99, 110, 250); stroke-opacity: 1; stroke-width: 2px;\"/></g><g class=\"legendsymbols\"><g class=\"legendpoints\"/></g></g><rect class=\"legendtoggle\" x=\"0\" y=\"-9.5\" width=\"119.59375\" height=\"19\" style=\"fill: rgb(0, 0, 0); fill-opacity: 0;\"/></g><g class=\"traces\" transform=\"translate(0,33.5)\" style=\"opacity: 1;\"><text class=\"legendtext\" text-anchor=\"start\" x=\"40\" y=\"4.680000000000001\" style=\"font-family: 'Open Sans', verdana, arial, sans-serif; font-size: 12px; fill: rgb(42, 63, 95); fill-opacity: 1; white-space: pre;\">CA-CFAR</text><g class=\"layers\" style=\"opacity: 1;\"><g class=\"legendfill\"/><g class=\"legendlines\"><path class=\"js-line\" d=\"M5,0h30\" style=\"fill: none; stroke: rgb(239, 85, 59); stroke-opacity: 1; stroke-width: 2px;\"/></g><g class=\"legendsymbols\"><g class=\"legendpoints\"/></g></g><rect class=\"legendtoggle\" x=\"0\" y=\"-9.5\" width=\"119.59375\" height=\"19\" style=\"fill: rgb(0, 0, 0); fill-opacity: 0;\"/></g><g class=\"traces\" transform=\"translate(0,52.5)\" style=\"opacity: 1;\"><text class=\"legendtext\" text-anchor=\"start\" x=\"40\" y=\"4.680000000000001\" style=\"font-family: 'Open Sans', verdana, arial, sans-serif; font-size: 12px; fill: rgb(42, 63, 95); fill-opacity: 1; white-space: pre;\">OS-CFAR</text><g class=\"layers\" style=\"opacity: 1;\"><g class=\"legendfill\"/><g class=\"legendlines\"><path class=\"js-line\" d=\"M5,0h30\" style=\"fill: none; stroke: rgb(0, 204, 150); stroke-opacity: 1; stroke-width: 2px;\"/></g><g class=\"legendsymbols\"><g class=\"legendpoints\"/></g></g><rect class=\"legendtoggle\" x=\"0\" y=\"-9.5\" width=\"119.59375\" height=\"19\" style=\"fill: rgb(0, 0, 0); fill-opacity: 0;\"/></g></g></g><rect class=\"scrollbar\" rx=\"20\" ry=\"3\" width=\"0\" height=\"0\" style=\"fill: rgb(128, 139, 164); fill-opacity: 1;\" x=\"0\" y=\"0\"/></g><g class=\"g-gtitle\"><text class=\"gtitle\" x=\"35\" y=\"50\" text-anchor=\"start\" dy=\"0em\" style=\"font-family: 'Open Sans', verdana, arial, sans-serif; font-size: 17px; fill: rgb(42, 63, 95); opacity: 1; font-weight: normal; white-space: pre;\">Range Profile</text></g><g class=\"g-xtitle\"><text class=\"xtitle\" x=\"317\" y=\"460.8\" text-anchor=\"middle\" style=\"font-family: 'Open Sans', verdana, arial, sans-serif; font-size: 14px; fill: rgb(42, 63, 95); opacity: 1; font-weight: normal; white-space: pre;\">Range (m)</text></g><g class=\"g-ytitle\"><text class=\"ytitle\" transform=\"rotate(-90,29.121875000000003,260)\" x=\"29.121875000000003\" y=\"260\" text-anchor=\"middle\" style=\"font-family: 'Open Sans', verdana, arial, sans-serif; font-size: 14px; fill: rgb(42, 63, 95); opacity: 1; font-weight: normal; white-space: pre;\">Amplitude (dB)</text></g></g></svg>"
      ],
      "text/plain": [
       "<IPython.core.display.SVG object>"
      ]
     },
     "metadata": {},
     "output_type": "display_data"
    }
   ],
   "source": [
    "range_axis = np.linspace(\n",
    "    0, radar.max_range, radar.samples_per_pulse, endpoint=False)\n",
    "\n",
    "rfft_plot = go.Scatter(\n",
    "    x=range_axis,\n",
    "    y=20*np.log10(np.abs(range_profile[0, 0, :])),\n",
    "    name='Range profile',\n",
    ")\n",
    "\n",
    "cacfar_plot = go.Scatter(\n",
    "    x=range_axis,\n",
    "    y=20*np.log10(ca_cfar),\n",
    "    name='CA-CFAR'\n",
    ")\n",
    "\n",
    "oscfar_plot = go.Scatter(\n",
    "    x=range_axis,\n",
    "    y=20*np.log10(os_cfar),\n",
    "    name='OS-CFAR'\n",
    ")\n",
    "\n",
    "plot_data = [rfft_plot, cacfar_plot, oscfar_plot]\n",
    "\n",
    "layout = go.Layout(\n",
    "    title='Range Profile',\n",
    "    yaxis=dict(title='Amplitude (dB)'),\n",
    "    xaxis=dict(title='Range (m)'),\n",
    ")\n",
    "\n",
    "fig = go.Figure(plot_data, layout=layout)\n",
    "# iplot(fig)\n",
    "display(SVG(fig.to_image(format='svg', scale=1)))"
   ]
  },
  {
   "cell_type": "code",
   "execution_count": null,
   "metadata": {},
   "outputs": [],
   "source": []
  }
 ],
 "metadata": {
  "file_extension": ".py",
  "kernelspec": {
   "display_name": "Python 3",
   "language": "python",
   "name": "python3"
  },
  "language_info": {
   "codemirror_mode": {
    "name": "ipython",
    "version": 3
   },
   "file_extension": ".py",
   "mimetype": "text/x-python",
   "name": "python",
   "nbconvert_exporter": "python",
   "pygments_lexer": "ipython3",
   "version": "3.9.2"
  },
  "mimetype": "text/x-python",
  "name": "python",
  "npconvert_exporter": "python",
  "pygments_lexer": "ipython3",
  "toc": {
   "base_numbering": 1,
   "nav_menu": {},
   "number_sections": true,
   "sideBar": true,
   "skip_h1_title": false,
   "title_cell": "Table of Contents",
   "title_sidebar": "Contents",
   "toc_cell": false,
   "toc_position": {},
   "toc_section_display": true,
   "toc_window_display": false
  },
  "varInspector": {
   "cols": {
    "lenName": 16,
    "lenType": 16,
    "lenVar": 40
   },
   "kernels_config": {
    "python": {
     "delete_cmd_postfix": "",
     "delete_cmd_prefix": "del ",
     "library": "var_list.py",
     "varRefreshCmd": "print(var_dic_list())"
    },
    "r": {
     "delete_cmd_postfix": ") ",
     "delete_cmd_prefix": "rm(",
     "library": "var_list.r",
     "varRefreshCmd": "cat(var_dic_list()) "
    }
   },
   "types_to_exclude": [
    "module",
    "function",
    "builtin_function_or_method",
    "instance",
    "_Feature"
   ],
   "window_display": false
  },
  "version": 3
 },
 "nbformat": 4,
 "nbformat_minor": 4
}
