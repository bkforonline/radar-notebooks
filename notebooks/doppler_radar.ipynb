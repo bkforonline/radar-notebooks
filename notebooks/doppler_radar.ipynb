{
 "cells": [
  {
   "cell_type": "markdown",
   "metadata": {},
   "source": [
    "# Doppler (Interferometry) Radar\n",
    "\n",
    "This is a Doppler (interferometry) radar simulation example based on `RadarSimPy`.\n",
    "\n",
    ">`RadarSimPy` is a radar simulation package built with python. **<a href=\"https://zpeng.me/#contact\" target=\"_blank\">Contact me</a> if you are interested in this module.**\n",
    "\n",
    "\n",
    "This notebook is available on my <a href=\"https://github.com/rookiepeng/radar-simulation-notebooks\" target=\"_blank\">GitHub</a>.\n",
    "\n",
    "#### Requires\n",
    "\n",
    "- numpy\n",
    "- scipy\n",
    "- plotly (*visualization*)\n",
    "\n",
    "---\n",
    "\n",
    "\n",
    "## Radar Model\n",
    "### Transmitter\n",
    "\n",
    "The following table lists the basic parameters of the radar transmitter.\n",
    "\n",
    "| Parameter                       | Variable in `RadarSimPy` | Value      |\n",
    "|---------------------------------|--------------------------|------------|\n",
    "| Center frequency ($f_c$)        | fc                       | 24.125 GHz |\n",
    "| Transmitted power ($P_t$)       | tx_power                 | 10 dBm     |\n",
    "| Signal length ($T$)             | pulse_length             | 20 s       |\n",
    "\n",
    "### Receiver\n",
    "The parameters of the receiver are listed in the table below.\n",
    "\n",
    "| Parameter                        | Variable in `RadarSimPy` | Value        |\n",
    "|----------------------------------|--------------------------|--------------|\n",
    "| Sampling rate ($f_s$)            | fs                       | 20 sps       |\n",
    "| Noise figure ($NF$)              | noise_figure             | 12 dB        |\n",
    "| RF gain/loss ($G_{rf}$)          | rf_gain                  | 20 dB        |\n",
    "| Baseband gain ($G_{BB}$)         | baseband_gain            | 50 dB        |\n",
    "| Load resistor ($R_L$)            | load_resistor            | 1000 $\\Omega$|\n"
   ]
  },
  {
   "cell_type": "code",
   "execution_count": 1,
   "metadata": {},
   "outputs": [],
   "source": [
    "import numpy as np\n",
    "from radarsimpy import Radar, Transmitter, Receiver\n",
    "\n",
    "tx = Transmitter(f=24.125e9,\n",
    "                 t=20,\n",
    "                 tx_power=10,\n",
    "                 pulses=1,\n",
    "                 channels=[dict(location=(0, 0, 0))])\n",
    "\n",
    "rx = Receiver(fs=20,\n",
    "              noise_figure=12,\n",
    "              rf_gain=20,\n",
    "              baseband_gain=50,\n",
    "              load_resistor=1000,\n",
    "              channels=[dict(location=(0, 0, 0))])\n",
    "\n",
    "radar = Radar(transmitter=tx, receiver=rx)"
   ]
  },
  {
   "cell_type": "markdown",
   "metadata": {},
   "source": [
    "### Targets\n",
    "The propertities of targets are defined here. There is only one target in this simulaiton. The motion of the target is defined by `1.5+1e-3*np.sin(2*np.pi*1*radar.timestamp)`. `radar.timestamp` is the time matrix of the baseband samples."
   ]
  },
  {
   "cell_type": "code",
   "execution_count": 2,
   "metadata": {},
   "outputs": [],
   "source": [
    "target = dict(location=(1.4+1e-3*np.sin(2*np.pi*1*radar.timestamp), 0, 0),\n",
    "              rcs=-10,\n",
    "              phase=0)\n",
    "\n",
    "targets = [target]"
   ]
  },
  {
   "cell_type": "markdown",
   "metadata": {},
   "source": [
    "## Simulate Baseband Signals\n",
    "\n",
    "Calculate baseband signal matrix:\n",
    "$$[channels, pulses, ADC~samples]$$\n",
    "\n",
    "#### Simulate with Python engine"
   ]
  },
  {
   "cell_type": "code",
   "execution_count": 3,
   "metadata": {},
   "outputs": [],
   "source": [
    "from radarsimpy import simulator as sim\n",
    "\n",
    "data = sim(radar, targets)\n",
    "timestamp = data['timestamp']\n",
    "baseband = data['baseband']"
   ]
  },
  {
   "cell_type": "markdown",
   "metadata": {},
   "source": [
    "#### Simulate with C++ engine"
   ]
  },
  {
   "cell_type": "code",
   "execution_count": 4,
   "metadata": {},
   "outputs": [],
   "source": [
    "from radarsimpy import simulatorcpp as simcpp\n",
    "\n",
    "data = simcpp(radar, targets)\n",
    "timestamp = data['timestamp']\n",
    "baseband = data['baseband']"
   ]
  },
  {
   "cell_type": "code",
   "execution_count": 5,
   "metadata": {
    "tags": [
     "remove_cell"
    ]
   },
   "outputs": [
    {
     "data": {
      "image/svg+xml": [
       "<svg xmlns=\"http://www.w3.org/2000/svg\" xmlns:xlink=\"http://www.w3.org/1999/xlink\" class=\"main-svg\" width=\"700\" height=\"500\" style=\"\" viewBox=\"0 0 700 500\"><rect x=\"0\" y=\"0\" width=\"700\" height=\"500\" style=\"fill: rgb(255, 255, 255); fill-opacity: 1;\"/><defs id=\"defs-9cdc5d\"><g class=\"clips\"><clipPath id=\"clip9cdc5dxyplot\" class=\"plotclip\"><rect width=\"540\" height=\"320\"/></clipPath><clipPath class=\"axesclip\" id=\"clip9cdc5dx\"><rect x=\"80\" y=\"0\" width=\"540\" height=\"500\"/></clipPath><clipPath class=\"axesclip\" id=\"clip9cdc5dy\"><rect x=\"0\" y=\"100\" width=\"700\" height=\"320\"/></clipPath><clipPath class=\"axesclip\" id=\"clip9cdc5dxy\"><rect x=\"80\" y=\"100\" width=\"540\" height=\"320\"/></clipPath></g><g class=\"gradients\"/></defs><g class=\"bglayer\"><rect class=\"bg\" x=\"80\" y=\"100\" width=\"540\" height=\"320\" style=\"fill: rgb(229, 236, 246); fill-opacity: 1; stroke-width: 0;\"/></g><g class=\"layer-below\"><g class=\"imagelayer\"/><g class=\"shapelayer\"/></g><g class=\"cartesianlayer\"><g class=\"subplot xy\"><g class=\"layer-subplot\"><g class=\"shapelayer\"/><g class=\"imagelayer\"/></g><g class=\"gridlayer\"><g class=\"x\"><path class=\"xgrid crisp\" transform=\"translate(215.34,0)\" d=\"M0,100v320\" style=\"stroke: rgb(255, 255, 255); stroke-opacity: 1; stroke-width: 1px;\"/><path class=\"xgrid crisp\" transform=\"translate(350.68,0)\" d=\"M0,100v320\" style=\"stroke: rgb(255, 255, 255); stroke-opacity: 1; stroke-width: 1px;\"/><path class=\"xgrid crisp\" transform=\"translate(486.02,0)\" d=\"M0,100v320\" style=\"stroke: rgb(255, 255, 255); stroke-opacity: 1; stroke-width: 1px;\"/></g><g class=\"y\"><path class=\"ygrid crisp\" transform=\"translate(0,396.62)\" d=\"M80,0h540\" style=\"stroke: rgb(255, 255, 255); stroke-opacity: 1; stroke-width: 1px;\"/><path class=\"ygrid crisp\" transform=\"translate(0,351.03)\" d=\"M80,0h540\" style=\"stroke: rgb(255, 255, 255); stroke-opacity: 1; stroke-width: 1px;\"/><path class=\"ygrid crisp\" transform=\"translate(0,305.45)\" d=\"M80,0h540\" style=\"stroke: rgb(255, 255, 255); stroke-opacity: 1; stroke-width: 1px;\"/><path class=\"ygrid crisp\" transform=\"translate(0,214.26999999999998)\" d=\"M80,0h540\" style=\"stroke: rgb(255, 255, 255); stroke-opacity: 1; stroke-width: 1px;\"/><path class=\"ygrid crisp\" transform=\"translate(0,168.69)\" d=\"M80,0h540\" style=\"stroke: rgb(255, 255, 255); stroke-opacity: 1; stroke-width: 1px;\"/><path class=\"ygrid crisp\" transform=\"translate(0,123.1)\" d=\"M80,0h540\" style=\"stroke: rgb(255, 255, 255); stroke-opacity: 1; stroke-width: 1px;\"/></g></g><g class=\"zerolinelayer\"><path class=\"xzl zl crisp\" transform=\"translate(80,0)\" d=\"M0,100v320\" style=\"stroke: rgb(255, 255, 255); stroke-opacity: 1; stroke-width: 2px;\"/><path class=\"yzl zl crisp\" transform=\"translate(0,259.86)\" d=\"M80,0h540\" style=\"stroke: rgb(255, 255, 255); stroke-opacity: 1; stroke-width: 2px;\"/></g><path class=\"xlines-below\"/><path class=\"ylines-below\"/><g class=\"overlines-below\"/><g class=\"xaxislayer-below\"/><g class=\"yaxislayer-below\"/><g class=\"overaxes-below\"/><g class=\"plot\" transform=\"translate(80,100)\" clip-path=\"url('#clip9cdc5dxyplot')\"><g class=\"scatterlayer mlayer\"><g class=\"trace scatter tracee9d151\" style=\"stroke-miterlimit: 2; opacity: 1;\"><g class=\"fills\"/><g class=\"errorbars\"/><g class=\"lines\"><path class=\"js-line\" d=\"M0,223.73L2.71,285.62L4.06,298.43L5.41,303.07L6.77,303.96L8.12,303.06L9.47,298.43L10.83,285.63L12.18,260.66L17.59,108.34L18.95,89.46L20.3,83.29L21.65,89.44L23.01,108.37L24.36,139.86L29.77,285.62L31.13,298.46L32.48,303.06L33.83,303.92L35.19,303.07L36.54,298.45L37.89,285.65L39.25,260.66L44.66,108.35L46.02,89.44L47.37,83.26L48.72,89.49L50.08,108.36L51.43,139.81L56.84,285.58L58.2,298.42L59.55,303.03L60.9,304L62.26,303.02L63.61,298.41L64.96,285.59L66.32,260.66L71.73,108.42L73.08,89.5L74.44,83.23L75.79,89.46L77.14,108.38L78.5,139.81L83.91,285.64L85.26,298.42L86.62,303.05L87.97,303.99L89.32,303.05L90.68,298.41L92.03,285.58L93.38,260.7L98.8,108.36L100.15,89.43L101.5,83.29L102.86,89.47L104.21,108.38L105.56,139.84L110.98,285.62L112.33,298.47L113.68,303.02L115.04,303.94L116.39,303.04L117.74,298.49L119.1,285.64L120.45,260.62L125.86,108.38L127.22,89.43L128.57,83.28L129.92,89.47L131.28,108.33L132.63,139.83L138.05,285.59L139.4,298.44L140.75,303.03L142.11,303.96L143.46,303.04L144.81,298.43L146.17,285.62L147.52,260.65L152.93,108.41L154.29,89.45L155.64,83.25L156.99,89.45L158.35,108.44L159.7,139.82L165.11,285.62L166.47,298.44L167.82,303.02L169.17,303.97L170.53,302.99L171.88,298.45L173.23,285.6L174.59,260.65L180,108.37L181.35,89.4L182.71,83.3L184.06,89.42L185.41,108.37L186.77,139.79L192.18,285.62L193.53,298.47L194.89,303.04L196.24,303.93L197.59,303.08L198.95,298.42L200.3,285.71L201.65,260.65L207.07,108.36L208.42,89.43L209.77,83.26L211.13,89.46L212.48,108.43L213.83,139.81L219.25,285.58L220.6,298.4L221.95,303.05L223.31,303.95L224.66,303.06L226.02,298.46L227.37,285.61L228.72,260.66L234.14,108.37L235.49,89.42L236.84,83.24L238.2,89.43L239.55,108.39L240.9,139.8L246.32,285.6L247.67,298.48L249.02,303.07L250.38,303.93L251.73,303.03L253.08,298.39L254.44,285.55L255.79,260.64L261.2,108.38L262.56,89.43L263.91,83.26L265.26,89.44L266.62,108.44L267.97,139.74L273.38,285.58L274.74,298.45L276.09,303.04L277.44,303.96L278.8,303.06L280.15,298.44L281.5,285.59L282.86,260.66L288.27,108.35L289.62,89.47L290.98,83.2L292.33,89.44L293.68,108.37L295.04,139.77L300.45,285.61L301.8,298.4L303.16,303.06L304.51,303.91L305.86,303.04L307.22,298.48L308.57,285.55L309.92,260.61L315.34,108.36L316.69,89.47L318.05,83.21L319.4,89.44L320.75,108.41L322.11,139.81L327.52,285.6L328.87,298.44L330.23,303.03L331.58,303.97L332.93,303.04L334.29,298.42L335.64,285.6L336.99,260.64L342.41,108.4L343.76,89.46L345.11,83.22L346.47,89.4L347.82,108.43L349.17,139.78L354.59,285.59L355.94,298.44L357.29,303.08L358.65,303.94L360,303.01L361.35,298.46L362.71,285.57L364.06,260.68L369.47,108.36L370.83,89.54L372.18,83.22L373.53,89.43L374.89,108.4L376.24,139.79L381.65,285.64L383.01,298.48L384.36,303.07L385.71,303.92L387.07,303.01L388.42,298.43L389.77,285.61L391.13,260.64L396.54,108.37L397.89,89.45L399.25,83.23L400.6,89.38L401.95,108.39L403.31,139.77L408.72,285.6L410.08,298.43L411.43,303.03L412.78,303.96L414.14,303.04L415.49,298.42L416.84,285.55L418.2,260.64L423.61,108.34L424.96,89.48L426.32,83.23L427.67,89.44L429.02,108.37L430.38,139.75L435.79,285.62L437.14,298.44L438.5,303.05L439.85,303.92L441.2,303L442.56,298.44L443.91,285.56L445.26,260.69L450.68,108.34L452.03,89.52L453.38,83.28L454.74,89.49L456.09,108.36L457.44,139.81L462.86,285.61L464.21,298.44L465.56,303.02L466.92,303.91L468.27,303.03L469.62,298.44L470.98,285.58L472.33,260.64L477.74,108.31L479.1,89.55L480.45,83.26L481.8,89.49L483.16,108.36L484.51,139.85L489.92,285.58L491.28,298.47L492.63,303.09L493.98,303.98L495.34,303.03L496.69,298.5L498.05,285.61L499.4,260.65L504.81,108.31L506.17,89.5L507.52,83.28L508.87,89.51L510.23,108.35L511.58,139.8L516.99,285.6L518.35,298.44L519.7,303.01L521.05,303.92L522.41,303.01L523.76,298.44L525.11,285.6L526.47,260.69L531.88,108.33L533.23,89.53L534.59,83.22L535.94,89.49L537.29,108.34L538.65,139.81L540,180.64\" style=\"vector-effect: non-scaling-stroke; fill: none; stroke: rgb(99, 110, 250); stroke-opacity: 1; stroke-width: 2px; opacity: 1;\"/></g><g class=\"points\"/><g class=\"text\"/></g><g class=\"trace scatter tracef90dd9\" style=\"stroke-miterlimit: 2; opacity: 1;\"><g class=\"fills\"/><g class=\"errorbars\"/><g class=\"lines\"><path class=\"js-line\" d=\"M0,29.64L5.41,137.76L6.77,144.86L8.12,137.71L9.47,117.48L13.53,29.57L14.89,16.19L16.24,16L17.59,24.03L18.95,32.82L20.3,36.4L21.65,32.81L23.01,24L24.36,16.08L25.71,16.2L27.07,29.62L28.42,55.56L32.48,137.71L33.83,144.87L35.19,137.71L36.54,117.51L40.6,29.62L41.95,16.18L43.31,16.04L44.66,24.06L46.02,32.81L47.37,36.41L48.72,32.77L50.08,24.04L51.43,16.06L52.78,16.21L54.14,29.56L55.49,55.57L59.55,137.76L60.9,144.89L62.26,137.71L63.61,117.46L67.67,29.6L69.02,16.18L70.38,16.09L71.73,24.04L73.08,32.77L74.44,36.41L75.79,32.81L77.14,24.06L78.5,16.11L79.85,16.19L81.2,29.55L82.56,55.59L86.62,137.74L87.97,144.88L89.32,137.75L90.68,117.47L94.74,29.51L96.09,16.21L97.44,16.04L98.8,24.06L100.15,32.78L101.5,36.43L102.86,32.77L104.21,24.05L105.56,16.06L106.92,16.19L108.27,29.59L109.62,55.6L113.68,137.73L115.04,144.9L116.39,137.82L117.74,117.46L121.8,29.54L123.16,16.26L124.51,16.09L125.86,24.04L127.22,32.76L128.57,36.36L129.92,32.81L131.28,24.03L132.63,16.08L133.98,16.15L135.34,29.62L136.69,55.59L140.75,137.77L142.11,144.89L143.46,137.8L144.81,117.48L148.87,29.58L150.23,16.26L151.58,16.04L152.93,24.08L154.29,32.82L155.64,36.43L156.99,32.74L158.35,24.03L159.7,16.05L161.05,16.19L162.41,29.58L163.76,55.6L167.82,137.79L169.17,144.86L170.53,137.75L171.88,117.48L175.94,29.61L177.29,16.18L178.65,16.07L180,24.06L181.35,32.77L182.71,36.34L184.06,32.81L185.41,24.05L186.77,16.07L188.12,16.22L189.47,29.58L190.83,55.58L194.89,137.77L196.24,144.85L197.59,137.76L198.95,117.47L203.01,29.54L204.36,16.17L205.71,16.04L207.07,24.06L208.42,32.83L209.77,36.42L211.13,32.76L212.48,24.04L213.83,16.08L215.19,16.16L216.54,29.62L217.89,55.58L221.95,137.78L223.31,144.88L224.66,137.76L226.02,117.45L230.08,29.58L231.43,16.18L232.78,16.08L234.14,24.05L235.49,32.76L236.84,36.4L238.2,32.8L239.55,24.01L240.9,16.01L242.26,16.23L243.61,29.6L244.96,55.58L249.02,137.73L250.38,144.91L251.73,137.79L253.08,117.47L257.14,29.58L258.5,16.18L259.85,16.08L261.2,24.07L262.56,32.79L263.91,36.41L265.26,32.75L266.62,24.04L267.97,16L269.32,16.21L270.68,29.6L272.03,55.58L276.09,137.72L277.44,144.91L278.8,137.76L280.15,117.44L284.21,29.56L285.56,16.26L286.92,16.06L288.27,24.03L289.62,32.84L290.98,36.4L292.33,32.76L293.68,24.09L295.04,16.05L296.39,16.21L297.74,29.63L299.1,55.6L303.16,137.75L304.51,144.86L305.86,137.81L307.22,117.52L311.28,29.58L312.63,16.16L313.98,16.06L315.34,24.04L316.69,32.75L318.05,36.44L319.4,32.75L320.75,24L322.11,16.04L323.46,16.19L324.81,29.6L326.17,55.6L330.23,137.74L331.58,144.87L332.93,137.75L334.29,117.51L338.35,29.66L339.7,16.24L341.05,16.08L342.41,24.04L343.76,32.81L345.11,36.43L346.47,32.83L347.82,24.05L349.17,16.06L350.53,16.18L351.88,29.62L353.23,55.61L357.29,137.78L358.65,144.86L360,137.73L361.35,117.45L365.41,29.65L366.77,16.22L368.12,16.07L369.47,24L370.83,32.8L372.18,36.43L373.53,32.78L374.89,24.02L376.24,16.07L377.59,16.18L378.95,29.64L380.3,55.63L384.36,137.77L385.71,144.89L387.07,137.75L388.42,117.47L392.48,29.62L393.83,16.25L395.19,16.07L396.54,24.08L397.89,32.78L399.25,36.45L400.6,32.79L401.95,24.02L403.31,16.08L404.66,16.23L406.02,29.59L407.37,55.64L411.43,137.82L412.78,144.88L414.14,137.73L415.49,117.49L419.55,29.61L420.9,16.19L422.26,16.06L423.61,24.02L424.96,32.83L426.32,36.43L427.67,32.77L429.02,24.05L430.38,16.07L431.73,16.24L433.08,29.58L434.44,55.62L438.5,137.73L439.85,144.82L441.2,137.72L442.56,117.53L446.62,29.59L447.97,16.19L449.32,16.05L450.68,24.09L452.03,32.76L453.38,36.41L454.74,32.77L456.09,24.05L457.44,16.01L458.8,16.17L460.15,29.56L461.5,55.63L465.56,137.7L466.92,144.82L468.27,137.7L469.62,117.51L473.68,29.63L475.04,16.18L476.39,16.09L477.74,24.05L479.1,32.75L480.45,36.36L481.8,32.79L483.16,24.05L484.51,16.09L485.86,16.24L487.22,29.56L488.57,55.63L492.63,137.71L493.98,144.84L495.34,137.73L496.69,117.5L500.75,29.56L502.11,16.19L503.46,16.05L504.81,24.07L506.17,32.71L507.52,36.37L508.87,32.82L510.23,24.01L511.58,16.04L512.93,16.21L514.29,29.63L515.64,55.63L519.7,137.79L521.05,144.82L522.41,137.7L523.76,117.54L527.82,29.57L529.17,16.2L530.53,16.09L531.88,24.07L533.23,32.71L534.59,36.38L535.94,32.78L537.29,24.09L538.65,16.02L540,16.21\" style=\"vector-effect: non-scaling-stroke; fill: none; stroke: rgb(239, 85, 59); stroke-opacity: 1; stroke-width: 2px; opacity: 1;\"/></g><g class=\"points\"/><g class=\"text\"/></g></g></g><g class=\"overplot\"/><path class=\"xlines-above crisp\" d=\"M0,0\" style=\"fill: none;\"/><path class=\"ylines-above crisp\" d=\"M0,0\" style=\"fill: none;\"/><g class=\"overlines-above\"/><g class=\"xaxislayer-above\"><g class=\"xtick\"><text text-anchor=\"middle\" x=\"0\" y=\"433\" transform=\"translate(80,0)\" style=\"font-family: 'Open Sans', verdana, arial, sans-serif; font-size: 12px; fill: rgb(42, 63, 95); fill-opacity: 1; white-space: pre;\">0</text></g><g class=\"xtick\"><text text-anchor=\"middle\" x=\"0\" y=\"433\" transform=\"translate(215.34,0)\" style=\"font-family: 'Open Sans', verdana, arial, sans-serif; font-size: 12px; fill: rgb(42, 63, 95); fill-opacity: 1; white-space: pre;\">5</text></g><g class=\"xtick\"><text text-anchor=\"middle\" x=\"0\" y=\"433\" transform=\"translate(350.68,0)\" style=\"font-family: 'Open Sans', verdana, arial, sans-serif; font-size: 12px; fill: rgb(42, 63, 95); fill-opacity: 1; white-space: pre;\">10</text></g><g class=\"xtick\"><text text-anchor=\"middle\" x=\"0\" y=\"433\" transform=\"translate(486.02,0)\" style=\"font-family: 'Open Sans', verdana, arial, sans-serif; font-size: 12px; fill: rgb(42, 63, 95); fill-opacity: 1; white-space: pre;\">15</text></g></g><g class=\"yaxislayer-above\"><g class=\"ytick\"><text text-anchor=\"end\" x=\"79\" y=\"4.199999999999999\" transform=\"translate(0,396.62)\" style=\"font-family: 'Open Sans', verdana, arial, sans-serif; font-size: 12px; fill: rgb(42, 63, 95); fill-opacity: 1; white-space: pre;\">−0.6</text></g><g class=\"ytick\"><text text-anchor=\"end\" x=\"79\" y=\"4.199999999999999\" transform=\"translate(0,351.03)\" style=\"font-family: 'Open Sans', verdana, arial, sans-serif; font-size: 12px; fill: rgb(42, 63, 95); fill-opacity: 1; white-space: pre;\">−0.4</text></g><g class=\"ytick\"><text text-anchor=\"end\" x=\"79\" y=\"4.199999999999999\" transform=\"translate(0,305.45)\" style=\"font-family: 'Open Sans', verdana, arial, sans-serif; font-size: 12px; fill: rgb(42, 63, 95); fill-opacity: 1; white-space: pre;\">−0.2</text></g><g class=\"ytick\"><text text-anchor=\"end\" x=\"79\" y=\"4.199999999999999\" transform=\"translate(0,259.86)\" style=\"font-family: 'Open Sans', verdana, arial, sans-serif; font-size: 12px; fill: rgb(42, 63, 95); fill-opacity: 1; white-space: pre;\">0</text></g><g class=\"ytick\"><text text-anchor=\"end\" x=\"79\" y=\"4.199999999999999\" transform=\"translate(0,214.26999999999998)\" style=\"font-family: 'Open Sans', verdana, arial, sans-serif; font-size: 12px; fill: rgb(42, 63, 95); fill-opacity: 1; white-space: pre;\">0.2</text></g><g class=\"ytick\"><text text-anchor=\"end\" x=\"79\" y=\"4.199999999999999\" transform=\"translate(0,168.69)\" style=\"font-family: 'Open Sans', verdana, arial, sans-serif; font-size: 12px; fill: rgb(42, 63, 95); fill-opacity: 1; white-space: pre;\">0.4</text></g><g class=\"ytick\"><text text-anchor=\"end\" x=\"79\" y=\"4.199999999999999\" transform=\"translate(0,123.1)\" style=\"font-family: 'Open Sans', verdana, arial, sans-serif; font-size: 12px; fill: rgb(42, 63, 95); fill-opacity: 1; white-space: pre;\">0.6</text></g></g><g class=\"overaxes-above\"/></g></g><g class=\"polarlayer\"/><g class=\"ternarylayer\"/><g class=\"geolayer\"/><g class=\"funnelarealayer\"/><g class=\"pielayer\"/><g class=\"treemaplayer\"/><g class=\"sunburstlayer\"/><g class=\"glimages\"/><defs id=\"topdefs-9cdc5d\"><g class=\"clips\"/><clipPath id=\"legend9cdc5d\"><rect width=\"55\" height=\"48\" x=\"0\" y=\"0\"/></clipPath></defs><g class=\"layer-above\"><g class=\"imagelayer\"/><g class=\"shapelayer\"/></g><g class=\"infolayer\"><g class=\"legend\" pointer-events=\"all\" transform=\"translate(630.8,100)\"><rect class=\"bg\" shape-rendering=\"crispEdges\" style=\"stroke: rgb(68, 68, 68); stroke-opacity: 1; fill: rgb(255, 255, 255); fill-opacity: 1; stroke-width: 0px;\" width=\"55\" height=\"48\" x=\"0\" y=\"0\"/><g class=\"scrollbox\" transform=\"\" clip-path=\"url('#legend9cdc5d')\"><g class=\"groups\"><g class=\"traces\" transform=\"translate(0,14.5)\" style=\"opacity: 1;\"><text class=\"legendtext\" text-anchor=\"start\" x=\"40\" y=\"4.680000000000001\" style=\"font-family: 'Open Sans', verdana, arial, sans-serif; font-size: 12px; fill: rgb(42, 63, 95); fill-opacity: 1; white-space: pre;\">I</text><g class=\"layers\" style=\"opacity: 1;\"><g class=\"legendfill\"/><g class=\"legendlines\"><path class=\"js-line\" d=\"M5,0h30\" style=\"fill: none; stroke: rgb(99, 110, 250); stroke-opacity: 1; stroke-width: 2px;\"/></g><g class=\"legendsymbols\"><g class=\"legendpoints\"/></g></g><rect class=\"legendtoggle\" x=\"0\" y=\"-9.5\" width=\"49.453125\" height=\"19\" style=\"fill: rgb(0, 0, 0); fill-opacity: 0;\"/></g><g class=\"traces\" transform=\"translate(0,33.5)\" style=\"opacity: 1;\"><text class=\"legendtext\" text-anchor=\"start\" x=\"40\" y=\"4.680000000000001\" style=\"font-family: 'Open Sans', verdana, arial, sans-serif; font-size: 12px; fill: rgb(42, 63, 95); fill-opacity: 1; white-space: pre;\">Q</text><g class=\"layers\" style=\"opacity: 1;\"><g class=\"legendfill\"/><g class=\"legendlines\"><path class=\"js-line\" d=\"M5,0h30\" style=\"fill: none; stroke: rgb(239, 85, 59); stroke-opacity: 1; stroke-width: 2px;\"/></g><g class=\"legendsymbols\"><g class=\"legendpoints\"/></g></g><rect class=\"legendtoggle\" x=\"0\" y=\"-9.5\" width=\"49.453125\" height=\"19\" style=\"fill: rgb(0, 0, 0); fill-opacity: 0;\"/></g></g></g><rect class=\"scrollbar\" rx=\"20\" ry=\"3\" width=\"0\" height=\"0\" style=\"fill: rgb(128, 139, 164); fill-opacity: 1;\" x=\"0\" y=\"0\"/></g><g class=\"g-gtitle\"><text class=\"gtitle\" x=\"35\" y=\"50\" text-anchor=\"start\" dy=\"0em\" style=\"font-family: 'Open Sans', verdana, arial, sans-serif; font-size: 17px; fill: rgb(42, 63, 95); opacity: 1; font-weight: normal; white-space: pre;\">I/Q Baseband Signals</text></g><g class=\"g-xtitle\"><text class=\"xtitle\" x=\"350\" y=\"460.8\" text-anchor=\"middle\" style=\"font-family: 'Open Sans', verdana, arial, sans-serif; font-size: 14px; fill: rgb(42, 63, 95); opacity: 1; font-weight: normal; white-space: pre;\">Time (s)</text></g><g class=\"g-ytitle\"><text class=\"ytitle\" transform=\"rotate(-90,24.746875000000003,260)\" x=\"24.746875000000003\" y=\"260\" text-anchor=\"middle\" style=\"font-family: 'Open Sans', verdana, arial, sans-serif; font-size: 14px; fill: rgb(42, 63, 95); opacity: 1; font-weight: normal; white-space: pre;\">Amplitude (V)</text></g></g></svg>"
      ],
      "text/plain": [
       "<IPython.core.display.SVG object>"
      ]
     },
     "metadata": {},
     "output_type": "display_data"
    }
   ],
   "source": [
    "import plotly.graph_objs as go\n",
    "from plotly.offline import iplot\n",
    "from IPython.display import SVG, display\n",
    "\n",
    "beat_I = go.Scatter(\n",
    "    x=timestamp[0, 0, :],\n",
    "    y=np.real(baseband[0, 0, :]),\n",
    "    name='I',\n",
    ")\n",
    "beat_Q = go.Scatter(\n",
    "    x=timestamp[0, 0, :],\n",
    "    y=np.imag(baseband[0, 0, :]),\n",
    "    name='Q',\n",
    ")\n",
    "data = [beat_I, beat_Q]\n",
    "\n",
    "layout = go.Layout(\n",
    "    title='I/Q Baseband Signals',\n",
    "    yaxis=dict(title='Amplitude (V)'),\n",
    "    xaxis=dict(title='Time (s)'),\n",
    ")\n",
    "\n",
    "fig = go.Figure(data, layout=layout)\n",
    "# iplot(fig)\n",
    "display(SVG(fig.to_image(format='svg', scale=1)))"
   ]
  },
  {
   "cell_type": "code",
   "execution_count": 6,
   "metadata": {},
   "outputs": [
    {
     "data": {
      "image/svg+xml": [
       "<svg xmlns=\"http://www.w3.org/2000/svg\" xmlns:xlink=\"http://www.w3.org/1999/xlink\" class=\"main-svg\" width=\"600\" height=\"600\" style=\"\" viewBox=\"0 0 600 600\"><rect x=\"0\" y=\"0\" width=\"600\" height=\"600\" style=\"fill: rgb(255, 255, 255); fill-opacity: 1;\"/><defs id=\"defs-4267c7\"><g class=\"clips\"><clipPath id=\"clip4267c7xyplot\" class=\"plotclip\"><rect width=\"440\" height=\"420\"/></clipPath><clipPath class=\"axesclip\" id=\"clip4267c7x\"><rect x=\"80\" y=\"0\" width=\"440\" height=\"600\"/></clipPath><clipPath class=\"axesclip\" id=\"clip4267c7y\"><rect x=\"0\" y=\"100\" width=\"600\" height=\"420\"/></clipPath><clipPath class=\"axesclip\" id=\"clip4267c7xy\"><rect x=\"80\" y=\"100\" width=\"440\" height=\"420\"/></clipPath></g><g class=\"gradients\"/></defs><g class=\"bglayer\"><rect class=\"bg\" x=\"80\" y=\"100\" width=\"440\" height=\"420\" style=\"fill: rgb(229, 236, 246); fill-opacity: 1; stroke-width: 0;\"/></g><g class=\"layer-below\"><g class=\"imagelayer\"/><g class=\"shapelayer\"/></g><g class=\"cartesianlayer\"><g class=\"subplot xy\"><g class=\"layer-subplot\"><g class=\"shapelayer\"/><g class=\"imagelayer\"/></g><g class=\"gridlayer\"><g class=\"x\"><path class=\"xgrid crisp\" transform=\"translate(90,0)\" d=\"M0,100v420\" style=\"stroke: rgb(255, 255, 255); stroke-opacity: 1; stroke-width: 1px;\"/><path class=\"xgrid crisp\" transform=\"translate(195,0)\" d=\"M0,100v420\" style=\"stroke: rgb(255, 255, 255); stroke-opacity: 1; stroke-width: 1px;\"/><path class=\"xgrid crisp\" transform=\"translate(405,0)\" d=\"M0,100v420\" style=\"stroke: rgb(255, 255, 255); stroke-opacity: 1; stroke-width: 1px;\"/><path class=\"xgrid crisp\" transform=\"translate(510,0)\" d=\"M0,100v420\" style=\"stroke: rgb(255, 255, 255); stroke-opacity: 1; stroke-width: 1px;\"/></g><g class=\"y\"><path class=\"ygrid crisp\" transform=\"translate(0,415)\" d=\"M80,0h440\" style=\"stroke: rgb(255, 255, 255); stroke-opacity: 1; stroke-width: 1px;\"/><path class=\"ygrid crisp\" transform=\"translate(0,205)\" d=\"M80,0h440\" style=\"stroke: rgb(255, 255, 255); stroke-opacity: 1; stroke-width: 1px;\"/></g></g><g class=\"zerolinelayer\"><path class=\"xzl zl crisp\" transform=\"translate(300,0)\" d=\"M0,100v420\" style=\"stroke: rgb(255, 255, 255); stroke-opacity: 1; stroke-width: 2px;\"/><path class=\"yzl zl crisp\" transform=\"translate(0,310)\" d=\"M80,0h440\" style=\"stroke: rgb(255, 255, 255); stroke-opacity: 1; stroke-width: 2px;\"/></g><path class=\"xlines-below\"/><path class=\"ylines-below\"/><g class=\"overlines-below\"/><g class=\"xaxislayer-below\"/><g class=\"yaxislayer-below\"/><g class=\"overaxes-below\"/><g class=\"plot\" transform=\"translate(80,100)\" clip-path=\"url('#clip4267c7xyplot')\"><g class=\"scatterlayer mlayer\"><g class=\"trace scatter traceb67084\" style=\"stroke-miterlimit: 2; opacity: 1;\"><g class=\"fills\"/><g class=\"errorbars\"/><g class=\"lines\"><path class=\"js-line\" d=\"M161.16,90.02L127.15,113.91L104.13,143.61L92.33,170.97L88.06,189.64L87.24,196.18L88.07,189.59L92.33,170.96L104.12,143.56L127.13,113.92L161.17,89.96L200.91,77.63L238.51,77.46L267.46,84.86L290.54,96.25L267.44,84.83L238.42,77.53L200.89,77.64L161.17,90L127.19,113.91L104.13,143.55L92.31,170.97L88.07,189.59L87.27,196.19L88.06,189.6L92.31,170.98L104.11,143.57L127.13,113.93L161.16,90L200.87,77.62L238.48,77.5L267.45,84.88L290.57,96.27L267.45,84.87L238.47,77.52L200.9,77.65L161.14,89.95L127.16,113.91L104.17,143.55L92.34,170.96L88.09,189.64L87.2,196.21L88.1,189.59L92.35,170.93L104.16,143.54L127.13,113.9L161.19,89.99L200.92,77.63L238.47,77.54L267.4,84.87L290.6,96.27L267.43,84.88L238.47,77.56L200.84,77.64L161.19,89.95L127.17,113.93L104.12,143.57L92.34,170.96L88.07,189.62L87.21,196.2L88.08,189.63L92.35,170.95L104.17,143.55L127.09,113.92L161.18,89.91L200.94,77.65L238.45,77.49L267.45,84.88L290.55,96.28L267.43,84.88L238.44,77.52L200.86,77.64L161.17,89.98L127.15,113.94L104.14,143.58L92.3,171L88.1,189.61L87.26,196.22L88.09,189.69L92.27,170.94L104.11,143.59L127.16,113.94L161.19,89.93L200.87,77.7L238.46,77.54L267.43,84.86L290.56,96.22L267.48,84.86L238.45,77.53L200.89,77.6L161.13,90.01L127.16,113.93L104.17,143.56L92.32,170.95L88.09,189.65L87.24,196.21L88.09,189.67L92.33,170.95L104.14,143.59L127.14,113.9L161.19,89.97L200.94,77.7L238.47,77.49L267.4,84.9L290.58,96.28L267.38,84.86L238.46,77.5L200.94,77.64L161.15,89.97L127.18,113.94L104.14,143.6L92.33,170.98L88.11,189.66L87.23,196.18L88.13,189.63L92.31,170.95L104.15,143.6L127.14,113.94L161.17,89.99L200.91,77.63L238.51,77.52L267.44,84.88L290.54,96.2L267.44,84.87L238.49,77.52L200.91,77.66L161.18,89.97L127.16,113.93L104.14,143.54L92.29,170.94L88.08,189.65L87.26,196.17L88.05,189.64L92.34,170.94L104.05,143.58L127.14,113.96L161.14,89.93L200.89,77.62L238.45,77.49L267.45,84.88L290.57,96.28L267.38,84.87L238.48,77.53L200.89,77.61L161.19,90L127.1,113.92L104.17,143.56L92.36,170.97L88.08,189.66L87.24,196.2L88.06,189.64L92.31,170.92L104.14,143.52L127.13,113.92L161.16,89.97L200.9,77.63L238.48,77.53L267.44,84.87L290.59,96.25L267.42,84.84L238.48,77.47L200.94,77.67L161.16,89.99L127.16,113.93L104.15,143.57L92.29,170.89L88.05,189.61L87.26,196.23L88.09,189.66L92.37,170.94L104.2,143.58L127.15,113.91L161.2,89.97L200.91,77.63L238.49,77.54L267.43,84.89L290.57,96.26L267.38,84.87L238.54,77.46L200.93,77.65L161.17,89.99L127.16,113.92L104.17,143.56L92.31,170.91L88.09,189.6L87.24,196.23L88.07,189.64L92.33,170.92L104.16,143.55L127.13,113.95L161.18,89.96L200.91,77.7L238.5,77.51L267.45,84.86L290.63,96.25L267.44,84.91L238.51,77.5L200.95,77.66L161.19,90.02L127.15,113.95L104.14,143.63L92.36,170.95L88.07,189.63L87.28,196.18L88.09,189.68L92.29,170.99L104.2,143.55L127.18,113.94L161.12,89.97L200.92,77.61L238.48,77.51L267.45,84.87L290.62,96.29L267.4,84.83L238.47,77.5L200.92,77.64L161.11,89.99L127.14,113.95L104.15,143.53L92.32,170.95L88.09,189.62L87.23,196.19L88.08,189.63L92.34,170.98L104.16,143.54L127.15,113.92L161.12,90.05L200.91,77.68L238.53,77.54L267.41,84.87L290.61,96.28L267.38,84.88L238.5,77.51L200.88,77.62L161.14,90.01L127.15,113.95L104.16,143.57L92.32,170.96L88.05,189.65L87.26,196.18L88.11,189.61L92.3,170.93L104.18,143.53L127.11,113.94L161.16,90.04L200.9,77.67L238.5,77.52L267.45,84.83L290.61,96.28L267.41,84.85L238.49,77.52L200.89,77.62L161.15,90.03L127.13,113.97L104.12,143.56L92.28,170.96L88.06,189.65L87.27,196.21L88.11,189.63L92.33,170.94L104.14,143.52L127.15,113.95L161.11,90.01L200.93,77.69L238.46,77.52L267.44,84.9L290.6,96.3L267.42,84.85L238.51,77.54L200.9,77.67L161.17,89.98L127.19,113.98L104.15,143.52L92.33,170.96L88.09,189.7L87.24,196.2L88.08,189.61L92.34,170.96L104.2,143.56L127.15,113.93L161.16,90L200.95,77.63L238.51,77.51L267.47,84.85L290.6,96.28L267.43,84.87L238.53,77.52L200.85,77.68L161.15,89.97L127.14,113.96L104.14,143.63L92.32,170.99L88.07,189.61L87.27,196.15L88.13,189.6L92.32,171L104.19,143.53L127.1,113.95L161.2,89.98L200.95,77.63L238.44,77.51L267.47,84.91L290.55,96.26L267.45,84.87L238.47,77.47L200.88,77.61L161.21,89.95L127.11,113.97L104.14,143.56L92.33,170.95L88.1,189.58L87.28,196.14L88.09,189.58L92.32,170.98L104.17,143.51L127.15,113.94L161.16,90.02L200.95,77.62L238.46,77.54L267.49,84.87L290.57,96.22L267.45,84.87L238.44,77.54L200.9,77.68L161.21,89.95L127.11,113.97L104.17,143.63L92.29,170.91L88.04,189.59L87.22,196.17L88.09,189.61L92.27,170.97L104.15,143.55L127.14,113.93L161.22,89.95L200.96,77.64L238.46,77.5L267.49,84.89L290.56,96.23L267.46,84.84L238.48,77.5L200.84,77.65L161.19,90.01L127.12,113.97L104.15,143.61L92.32,170.99L88.11,189.67L87.27,196.14L88.12,189.58L92.32,171.01L104.15,143.51L127.11,113.93L161.2,89.96L200.95,77.64L238.48,77.54L267.48,84.89L290.61,96.24L267.47,84.91L238.47,77.48L200.85,77.65\" style=\"vector-effect: non-scaling-stroke; fill: none; stroke: rgb(99, 110, 250); stroke-opacity: 1; stroke-width: 2px; opacity: 1;\"/></g><g class=\"points\"/><g class=\"text\"/></g></g></g><g class=\"overplot\"/><path class=\"xlines-above crisp\" d=\"M0,0\" style=\"fill: none;\"/><path class=\"ylines-above crisp\" d=\"M0,0\" style=\"fill: none;\"/><g class=\"overlines-above\"/><g class=\"xaxislayer-above\"><g class=\"xtick\"><text text-anchor=\"middle\" x=\"0\" y=\"533\" transform=\"translate(90,0)\" style=\"font-family: 'Open Sans', verdana, arial, sans-serif; font-size: 12px; fill: rgb(42, 63, 95); fill-opacity: 1; white-space: pre;\">−1.00</text></g><g class=\"xtick\"><text text-anchor=\"middle\" x=\"0\" y=\"533\" transform=\"translate(195,0)\" style=\"font-family: 'Open Sans', verdana, arial, sans-serif; font-size: 12px; fill: rgb(42, 63, 95); fill-opacity: 1; white-space: pre;\">−0.50</text></g><g class=\"xtick\"><text text-anchor=\"middle\" x=\"0\" y=\"533\" transform=\"translate(300,0)\" style=\"font-family: 'Open Sans', verdana, arial, sans-serif; font-size: 12px; fill: rgb(42, 63, 95); fill-opacity: 1; white-space: pre;\">0.00</text></g><g class=\"xtick\"><text text-anchor=\"middle\" x=\"0\" y=\"533\" transform=\"translate(405,0)\" style=\"font-family: 'Open Sans', verdana, arial, sans-serif; font-size: 12px; fill: rgb(42, 63, 95); fill-opacity: 1; white-space: pre;\">0.50</text></g><g class=\"xtick\"><text text-anchor=\"middle\" x=\"0\" y=\"533\" transform=\"translate(510,0)\" style=\"font-family: 'Open Sans', verdana, arial, sans-serif; font-size: 12px; fill: rgb(42, 63, 95); fill-opacity: 1; white-space: pre;\">1.00</text></g></g><g class=\"yaxislayer-above\"><g class=\"ytick\"><text text-anchor=\"end\" x=\"79\" y=\"4.199999999999999\" transform=\"translate(0,520)\" style=\"font-family: 'Open Sans', verdana, arial, sans-serif; font-size: 12px; fill: rgb(42, 63, 95); fill-opacity: 1; white-space: pre;\">−1.00</text></g><g class=\"ytick\"><text text-anchor=\"end\" x=\"79\" y=\"4.199999999999999\" transform=\"translate(0,415)\" style=\"font-family: 'Open Sans', verdana, arial, sans-serif; font-size: 12px; fill: rgb(42, 63, 95); fill-opacity: 1; white-space: pre;\">−0.50</text></g><g class=\"ytick\"><text text-anchor=\"end\" x=\"79\" y=\"4.199999999999999\" transform=\"translate(0,310)\" style=\"font-family: 'Open Sans', verdana, arial, sans-serif; font-size: 12px; fill: rgb(42, 63, 95); fill-opacity: 1; white-space: pre;\">0.00</text></g><g class=\"ytick\"><text text-anchor=\"end\" x=\"79\" y=\"4.199999999999999\" transform=\"translate(0,205)\" style=\"font-family: 'Open Sans', verdana, arial, sans-serif; font-size: 12px; fill: rgb(42, 63, 95); fill-opacity: 1; white-space: pre;\">0.50</text></g><g class=\"ytick\"><text text-anchor=\"end\" x=\"79\" y=\"4.199999999999999\" transform=\"translate(0,100)\" style=\"font-family: 'Open Sans', verdana, arial, sans-serif; font-size: 12px; fill: rgb(42, 63, 95); fill-opacity: 1; white-space: pre;\">1.00</text></g></g><g class=\"overaxes-above\"/></g></g><g class=\"polarlayer\"/><g class=\"ternarylayer\"/><g class=\"geolayer\"/><g class=\"funnelarealayer\"/><g class=\"pielayer\"/><g class=\"treemaplayer\"/><g class=\"sunburstlayer\"/><g class=\"glimages\"/><defs id=\"topdefs-4267c7\"><g class=\"clips\"/></defs><g class=\"layer-above\"><g class=\"imagelayer\"/><g class=\"shapelayer\"/></g><g class=\"infolayer\"><g class=\"g-gtitle\"><text class=\"gtitle\" x=\"30\" y=\"50\" text-anchor=\"start\" dy=\"0em\" style=\"font-family: 'Open Sans', verdana, arial, sans-serif; font-size: 17px; fill: rgb(42, 63, 95); opacity: 1; font-weight: normal; white-space: pre;\">I/Q Constellation Plot</text></g><g class=\"g-xtitle\"><text class=\"xtitle\" x=\"300\" y=\"560.8\" text-anchor=\"middle\" style=\"font-family: 'Open Sans', verdana, arial, sans-serif; font-size: 14px; fill: rgb(42, 63, 95); opacity: 1; font-weight: normal; white-space: pre;\">In-phase (V)</text></g><g class=\"g-ytitle\"><text class=\"ytitle\" transform=\"rotate(-90,17.121875000000003,310)\" x=\"17.121875000000003\" y=\"310\" text-anchor=\"middle\" style=\"font-family: 'Open Sans', verdana, arial, sans-serif; font-size: 14px; fill: rgb(42, 63, 95); opacity: 1; font-weight: normal; white-space: pre;\">Quadrature (V)</text></g></g></svg>"
      ],
      "text/plain": [
       "<IPython.core.display.SVG object>"
      ]
     },
     "metadata": {},
     "output_type": "display_data"
    }
   ],
   "source": [
    "polar = go.Scatter(\n",
    "    x=np.real(baseband[0, 0, :]),\n",
    "    y=np.imag(baseband[0, 0, :]),\n",
    ")\n",
    "\n",
    "data = [polar]\n",
    "\n",
    "layout = go.Layout(\n",
    "    title='I/Q Constellation Plot',\n",
    "    xaxis=dict(range=[-1, 1], tickformat='.2f', title='In-phase (V)'),\n",
    "    yaxis=dict(range=[-1, 1],\n",
    "               tickformat='.2f',\n",
    "               title='Quadrature (V)',\n",
    "               scaleanchor=\"x\",\n",
    "               scaleratio=1),\n",
    "    height=600,\n",
    "    width=600,\n",
    ")\n",
    "\n",
    "fig = go.Figure(data, layout=layout)\n",
    "# iplot(fig)\n",
    "display(SVG(fig.to_image(format='svg', scale=1)))"
   ]
  },
  {
   "cell_type": "markdown",
   "metadata": {},
   "source": [
    "## Phase demodulation"
   ]
  },
  {
   "cell_type": "code",
   "execution_count": 7,
   "metadata": {},
   "outputs": [],
   "source": [
    "demod = np.angle(baseband[0, 0, :])"
   ]
  },
  {
   "cell_type": "markdown",
   "metadata": {},
   "source": [
    "Plot"
   ]
  },
  {
   "cell_type": "code",
   "execution_count": 8,
   "metadata": {},
   "outputs": [
    {
     "data": {
      "image/svg+xml": [
       "<svg xmlns=\"http://www.w3.org/2000/svg\" xmlns:xlink=\"http://www.w3.org/1999/xlink\" class=\"main-svg\" width=\"700\" height=\"500\" style=\"\" viewBox=\"0 0 700 500\"><rect x=\"0\" y=\"0\" width=\"700\" height=\"500\" style=\"fill: rgb(255, 255, 255); fill-opacity: 1;\"/><defs id=\"defs-d8cea8\"><g class=\"clips\"><clipPath id=\"clipd8cea8xyplot\" class=\"plotclip\"><rect width=\"540\" height=\"320\"/></clipPath><clipPath class=\"axesclip\" id=\"clipd8cea8x\"><rect x=\"80\" y=\"0\" width=\"540\" height=\"500\"/></clipPath><clipPath class=\"axesclip\" id=\"clipd8cea8y\"><rect x=\"0\" y=\"100\" width=\"700\" height=\"320\"/></clipPath><clipPath class=\"axesclip\" id=\"clipd8cea8xy\"><rect x=\"80\" y=\"100\" width=\"540\" height=\"320\"/></clipPath></g><g class=\"gradients\"/></defs><g class=\"bglayer\"><rect class=\"bg\" x=\"80\" y=\"100\" width=\"540\" height=\"320\" style=\"fill: rgb(229, 236, 246); fill-opacity: 1; stroke-width: 0;\"/></g><g class=\"layer-below\"><g class=\"imagelayer\"/><g class=\"shapelayer\"/></g><g class=\"cartesianlayer\"><g class=\"subplot xy\"><g class=\"layer-subplot\"><g class=\"shapelayer\"/><g class=\"imagelayer\"/></g><g class=\"gridlayer\"><g class=\"x\"><path class=\"xgrid crisp\" transform=\"translate(215.34,0)\" d=\"M0,100v320\" style=\"stroke: rgb(255, 255, 255); stroke-opacity: 1; stroke-width: 1px;\"/><path class=\"xgrid crisp\" transform=\"translate(350.68,0)\" d=\"M0,100v320\" style=\"stroke: rgb(255, 255, 255); stroke-opacity: 1; stroke-width: 1px;\"/><path class=\"xgrid crisp\" transform=\"translate(486.02,0)\" d=\"M0,100v320\" style=\"stroke: rgb(255, 255, 255); stroke-opacity: 1; stroke-width: 1px;\"/></g><g class=\"y\"><path class=\"ygrid crisp\" transform=\"translate(0,406.14)\" d=\"M80,0h540\" style=\"stroke: rgb(255, 255, 255); stroke-opacity: 1; stroke-width: 1px;\"/><path class=\"ygrid crisp\" transform=\"translate(0,334.97)\" d=\"M80,0h540\" style=\"stroke: rgb(255, 255, 255); stroke-opacity: 1; stroke-width: 1px;\"/><path class=\"ygrid crisp\" transform=\"translate(0,263.78999999999996)\" d=\"M80,0h540\" style=\"stroke: rgb(255, 255, 255); stroke-opacity: 1; stroke-width: 1px;\"/><path class=\"ygrid crisp\" transform=\"translate(0,192.62)\" d=\"M80,0h540\" style=\"stroke: rgb(255, 255, 255); stroke-opacity: 1; stroke-width: 1px;\"/><path class=\"ygrid crisp\" transform=\"translate(0,121.44)\" d=\"M80,0h540\" style=\"stroke: rgb(255, 255, 255); stroke-opacity: 1; stroke-width: 1px;\"/></g></g><g class=\"zerolinelayer\"><path class=\"xzl zl crisp\" transform=\"translate(80,0)\" d=\"M0,100v320\" style=\"stroke: rgb(255, 255, 255); stroke-opacity: 1; stroke-width: 2px;\"/></g><path class=\"xlines-below\"/><path class=\"ylines-below\"/><g class=\"overlines-below\"/><g class=\"xaxislayer-below\"/><g class=\"yaxislayer-below\"/><g class=\"overaxes-below\"/><g class=\"plot\" transform=\"translate(80,100)\" clip-path=\"url('#clipd8cea8xyplot')\"><g class=\"scatterlayer mlayer\"><g class=\"trace scatter trace5033bf\" style=\"stroke-miterlimit: 2; opacity: 1;\"><g class=\"fills\"/><g class=\"errorbars\"/><g class=\"lines\"><path class=\"js-line\" d=\"M0,159.98L4.06,43.53L5.41,23.09L6.77,16.05L8.12,23.13L10.83,75.39L12.18,115.5L17.59,276.49L18.95,296.92L20.3,303.91L21.65,296.94L23.01,276.46L24.36,244.56L31.13,43.52L32.48,23.13L33.83,16.04L35.19,23.13L36.54,43.5L37.89,75.38L44.66,276.49L46.02,296.93L47.37,303.95L48.72,296.88L50.08,276.48L51.43,244.61L58.2,43.53L59.55,23.09L60.9,16.02L62.26,23.14L63.61,43.56L64.96,75.43L71.73,276.43L73.08,296.86L74.44,303.97L75.79,296.92L78.5,244.62L79.85,204.43L85.26,43.53L86.62,23.1L87.97,16.03L89.32,23.1L90.68,43.55L92.03,75.43L98.8,276.49L100.15,296.94L101.5,303.93L102.86,296.89L104.21,276.47L105.56,244.58L112.33,43.48L113.68,23.12L115.04,16.02L116.39,23.03L119.1,75.36L120.45,115.52L125.86,276.46L127.22,296.92L128.57,303.9L129.92,296.91L131.28,276.51L132.63,244.6L139.4,43.54L140.75,23.08L142.11,16.02L143.46,23.05L146.17,75.38L147.52,115.52L152.93,276.45L154.29,296.94L155.64,303.96L156.99,296.9L158.35,276.41L159.7,244.6L166.47,43.51L167.82,23.06L169.17,16.06L170.53,23.11L171.88,43.53L173.23,75.37L180,276.48L181.35,296.96L182.71,303.88L184.06,296.95L186.77,244.63L188.12,204.5L193.53,43.54L194.89,23.08L196.24,16.07L197.59,23.08L198.95,43.55L200.3,75.33L207.07,276.49L208.42,296.96L209.77,303.95L211.13,296.9L213.83,244.62L215.19,204.48L220.6,43.53L221.95,23.07L223.31,16.03L224.66,23.08L226.02,43.56L227.37,75.44L234.14,276.48L235.49,296.93L236.84,303.96L238.2,296.94L240.9,244.61L242.26,204.53L247.67,43.59L249.02,23.11L250.38,16L251.73,23.06L254.44,75.42L255.79,115.53L261.2,276.47L262.56,296.93L263.91,303.95L265.26,296.91L266.62,276.41L267.97,244.67L274.74,43.58L276.09,23.13L277.44,16L278.8,23.09L281.5,75.42L282.86,115.49L288.27,276.49L289.62,296.93L290.98,303.99L292.33,296.91L295.04,244.65L296.39,204.54L301.8,43.55L303.16,23.1L304.51,16.06L305.86,23.04L307.22,43.49L308.57,75.44L315.34,276.49L316.69,296.88L318.05,304L319.4,296.91L322.11,244.61L323.46,204.52L328.87,43.53L330.23,23.11L331.58,16.04L332.93,23.09L334.29,43.51L335.64,75.43L342.41,276.45L343.76,296.92L345.11,303.99L346.47,296.98L349.17,244.64L350.53,204.47L355.94,43.52L357.29,23.07L358.65,16.05L360,23.12L362.71,75.45L364.06,115.48L369.47,276.47L370.83,296.85L372.18,303.99L373.53,296.93L374.89,276.44L376.24,244.63L383.01,43.52L384.36,23.07L385.71,16.02L387.07,23.1L388.42,43.55L389.77,75.44L396.54,276.49L397.89,296.91L399.25,303.99L400.6,296.98L403.31,244.65L404.66,204.49L410.08,43.53L411.43,23.03L412.78,16.03L414.14,23.12L415.49,43.53L416.84,75.43L423.61,276.5L424.96,296.91L426.32,303.98L427.67,296.91L430.38,244.67L431.73,204.43L437.14,43.5L438.5,23.12L439.85,16.09L441.2,23.14L442.56,43.48L443.91,75.46L450.68,276.52L452.03,296.84L453.38,303.92L454.74,296.87L456.09,276.48L457.44,244.6L464.21,43.54L465.56,23.15L466.92,16.1L468.27,23.15L469.62,43.51L470.98,75.47L477.74,276.53L479.1,296.81L480.45,303.92L481.8,296.89L483.16,276.48L484.51,244.58L491.28,43.57L492.63,23.13L493.98,16.07L495.34,23.12L496.69,43.5L498.05,75.42L504.81,276.54L506.17,296.83L507.52,303.91L508.87,296.89L510.23,276.48L511.58,244.62L518.35,43.5L519.7,23.06L521.05,16.1L522.41,23.15L523.76,43.48L525.11,75.45L531.88,276.52L533.23,296.81L534.59,303.96L535.94,296.87L537.29,276.52L538.65,244.61L540,204.44\" style=\"vector-effect: non-scaling-stroke; fill: none; stroke: rgb(99, 110, 250); stroke-opacity: 1; stroke-width: 2px; opacity: 1;\"/></g><g class=\"points\"/><g class=\"text\"/></g></g></g><g class=\"overplot\"/><path class=\"xlines-above crisp\" d=\"M0,0\" style=\"fill: none;\"/><path class=\"ylines-above crisp\" d=\"M0,0\" style=\"fill: none;\"/><g class=\"overlines-above\"/><g class=\"xaxislayer-above\"><g class=\"xtick\"><text text-anchor=\"middle\" x=\"0\" y=\"433\" transform=\"translate(80,0)\" style=\"font-family: 'Open Sans', verdana, arial, sans-serif; font-size: 12px; fill: rgb(42, 63, 95); fill-opacity: 1; white-space: pre;\">0.00</text></g><g class=\"xtick\"><text text-anchor=\"middle\" x=\"0\" y=\"433\" transform=\"translate(215.34,0)\" style=\"font-family: 'Open Sans', verdana, arial, sans-serif; font-size: 12px; fill: rgb(42, 63, 95); fill-opacity: 1; white-space: pre;\">5.00</text></g><g class=\"xtick\"><text text-anchor=\"middle\" x=\"0\" y=\"433\" transform=\"translate(350.68,0)\" style=\"font-family: 'Open Sans', verdana, arial, sans-serif; font-size: 12px; fill: rgb(42, 63, 95); fill-opacity: 1; white-space: pre;\">10.00</text></g><g class=\"xtick\"><text text-anchor=\"middle\" x=\"0\" y=\"433\" transform=\"translate(486.02,0)\" style=\"font-family: 'Open Sans', verdana, arial, sans-serif; font-size: 12px; fill: rgb(42, 63, 95); fill-opacity: 1; white-space: pre;\">15.00</text></g></g><g class=\"yaxislayer-above\"><g class=\"ytick\"><text text-anchor=\"end\" x=\"79\" y=\"4.199999999999999\" transform=\"translate(0,406.14)\" style=\"font-family: 'Open Sans', verdana, arial, sans-serif; font-size: 12px; fill: rgb(42, 63, 95); fill-opacity: 1; white-space: pre;\">1.00</text></g><g class=\"ytick\"><text text-anchor=\"end\" x=\"79\" y=\"4.199999999999999\" transform=\"translate(0,334.97)\" style=\"font-family: 'Open Sans', verdana, arial, sans-serif; font-size: 12px; fill: rgb(42, 63, 95); fill-opacity: 1; white-space: pre;\">1.50</text></g><g class=\"ytick\"><text text-anchor=\"end\" x=\"79\" y=\"4.199999999999999\" transform=\"translate(0,263.78999999999996)\" style=\"font-family: 'Open Sans', verdana, arial, sans-serif; font-size: 12px; fill: rgb(42, 63, 95); fill-opacity: 1; white-space: pre;\">2.00</text></g><g class=\"ytick\"><text text-anchor=\"end\" x=\"79\" y=\"4.199999999999999\" transform=\"translate(0,192.62)\" style=\"font-family: 'Open Sans', verdana, arial, sans-serif; font-size: 12px; fill: rgb(42, 63, 95); fill-opacity: 1; white-space: pre;\">2.50</text></g><g class=\"ytick\"><text text-anchor=\"end\" x=\"79\" y=\"4.199999999999999\" transform=\"translate(0,121.44)\" style=\"font-family: 'Open Sans', verdana, arial, sans-serif; font-size: 12px; fill: rgb(42, 63, 95); fill-opacity: 1; white-space: pre;\">3.00</text></g></g><g class=\"overaxes-above\"/></g></g><g class=\"polarlayer\"/><g class=\"ternarylayer\"/><g class=\"geolayer\"/><g class=\"funnelarealayer\"/><g class=\"pielayer\"/><g class=\"treemaplayer\"/><g class=\"sunburstlayer\"/><g class=\"glimages\"/><defs id=\"topdefs-d8cea8\"><g class=\"clips\"/></defs><g class=\"layer-above\"><g class=\"imagelayer\"/><g class=\"shapelayer\"/></g><g class=\"infolayer\"><g class=\"g-gtitle\"><text class=\"gtitle\" x=\"35\" y=\"50\" text-anchor=\"start\" dy=\"0em\" style=\"font-family: 'Open Sans', verdana, arial, sans-serif; font-size: 17px; fill: rgb(42, 63, 95); opacity: 1; font-weight: normal; white-space: pre;\">Phase demodulated</text></g><g class=\"g-xtitle\"><text class=\"xtitle\" x=\"350\" y=\"460.8\" text-anchor=\"middle\" style=\"font-family: 'Open Sans', verdana, arial, sans-serif; font-size: 14px; fill: rgb(42, 63, 95); opacity: 1; font-weight: normal; white-space: pre;\">Time (s)</text></g><g class=\"g-ytitle\"><text class=\"ytitle\" transform=\"rotate(-90,26.934375000000003,260)\" x=\"26.934375000000003\" y=\"260\" text-anchor=\"middle\" style=\"font-family: 'Open Sans', verdana, arial, sans-serif; font-size: 14px; fill: rgb(42, 63, 95); opacity: 1; font-weight: normal; white-space: pre;\">Phase (rad)</text></g></g></svg>"
      ],
      "text/plain": [
       "<IPython.core.display.SVG object>"
      ]
     },
     "metadata": {},
     "output_type": "display_data"
    }
   ],
   "source": [
    "polar = go.Scatter(\n",
    "    x=timestamp[0, 0, :],\n",
    "    y=demod,\n",
    "    # name='I',\n",
    ")\n",
    "\n",
    "data = [polar]\n",
    "\n",
    "layout = go.Layout(\n",
    "    title='Phase demodulated',\n",
    "    xaxis=dict(tickformat='.2f', title='Time (s)'),\n",
    "    yaxis=dict(tickformat='.2f', title='Phase (rad)'),\n",
    ")\n",
    "\n",
    "fig = go.Figure(data, layout=layout)\n",
    "# iplot(fig)\n",
    "display(SVG(fig.to_image(format='svg', scale=1)))"
   ]
  },
  {
   "cell_type": "code",
   "execution_count": null,
   "metadata": {},
   "outputs": [],
   "source": []
  }
 ],
 "metadata": {
  "kernel_info": {
   "name": "python3"
  },
  "kernelspec": {
   "display_name": "Python 3",
   "language": "python",
   "name": "python3"
  },
  "language_info": {
   "codemirror_mode": {
    "name": "ipython",
    "version": 3
   },
   "file_extension": ".py",
   "mimetype": "text/x-python",
   "name": "python",
   "nbconvert_exporter": "python",
   "pygments_lexer": "ipython3",
   "version": "3.9.2"
  },
  "nteract": {
   "version": "0.12.3"
  },
  "toc": {
   "base_numbering": 1,
   "nav_menu": {},
   "number_sections": true,
   "sideBar": true,
   "skip_h1_title": false,
   "title_cell": "Table of Contents",
   "title_sidebar": "Contents",
   "toc_cell": false,
   "toc_position": {},
   "toc_section_display": true,
   "toc_window_display": false
  },
  "varInspector": {
   "cols": {
    "lenName": 16,
    "lenType": 16,
    "lenVar": 40
   },
   "kernels_config": {
    "python": {
     "delete_cmd_postfix": "",
     "delete_cmd_prefix": "del ",
     "library": "var_list.py",
     "varRefreshCmd": "print(var_dic_list())"
    },
    "r": {
     "delete_cmd_postfix": ") ",
     "delete_cmd_prefix": "rm(",
     "library": "var_list.r",
     "varRefreshCmd": "cat(var_dic_list()) "
    }
   },
   "types_to_exclude": [
    "module",
    "function",
    "builtin_function_or_method",
    "instance",
    "_Feature"
   ],
   "window_display": false
  }
 },
 "nbformat": 4,
 "nbformat_minor": 2
}
