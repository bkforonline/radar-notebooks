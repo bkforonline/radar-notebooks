{
 "cells": [
  {
   "cell_type": "markdown",
   "metadata": {},
   "source": [
    "# Doppler (Interferometry) Radar\n",
    "\n",
    "This is a Doppler (interferometry) radar simulation example based on `RadarSimPy`.\n",
    "\n",
    ">`RadarSimPy` is a radar simulation package built with python. **<a href=\"https://zpeng.me/#contact\" target=\"_blank\">Contact me</a> if you are interested in this module.**\n",
    "\n",
    "\n",
    "This notebook is available on my <a href=\"https://github.com/rookiepeng/radar-simulation-notebooks\" target=\"_blank\">GitHub</a>.\n",
    "\n",
    "#### Requires\n",
    "\n",
    "- numpy\n",
    "- scipy\n",
    "- plotly (*visualization*)\n",
    "\n",
    "---\n",
    "\n",
    "\n",
    "## Radar Model\n",
    "### Transmitter\n",
    "\n",
    "The following table lists the basic parameters of the radar transmitter.\n",
    "\n",
    "| Parameter                       | Variable in `RadarSimPy` | Value      |\n",
    "|---------------------------------|--------------------------|------------|\n",
    "| Center frequency ($f_c$)        | fc                       | 24.125 GHz |\n",
    "| Transmitted power ($P_t$)       | tx_power                 | 10 dBm     |\n",
    "| Signal length ($T$)             | pulse_length             | 20 s       |\n",
    "\n",
    "### Receiver\n",
    "The parameters of the receiver are listed in the table below.\n",
    "\n",
    "| Parameter                        | Variable in `RadarSimPy` | Value        |\n",
    "|----------------------------------|--------------------------|--------------|\n",
    "| Sampling rate ($f_s$)            | fs                       | 20 sps       |\n",
    "| Noise figure ($NF$)              | noise_figure             | 12 dB        |\n",
    "| RF gain/loss ($G_{rf}$)          | rf_gain                  | 20 dB        |\n",
    "| Baseband gain ($G_{BB}$)         | baseband_gain            | 50 dB        |\n",
    "| Load resistor ($R_L$)            | load_resistor            | 1000 $\\Omega$|\n"
   ]
  },
  {
   "cell_type": "code",
   "execution_count": 1,
   "metadata": {},
   "outputs": [],
   "source": [
    "import numpy as np\n",
    "from radarsimpy import Radar, Transmitter, Receiver\n",
    "\n",
    "tx = Transmitter(f=24.125e9,\n",
    "                 pulse_time=20,\n",
    "                 tx_power=10,\n",
    "                 pulses=1,\n",
    "                 channels=[dict(location=(0, 0, 0))])\n",
    "\n",
    "rx = Receiver(fs=20,\n",
    "              noise_figure=12,\n",
    "              rf_gain=20,\n",
    "              baseband_gain=50,\n",
    "              load_resistor=1000,\n",
    "              channels=[dict(location=(0, 0, 0))])\n",
    "\n",
    "radar = Radar(transmitter=tx, receiver=rx)"
   ]
  },
  {
   "cell_type": "markdown",
   "metadata": {},
   "source": [
    "### Targets\n",
    "The propertities of targets are defined here. There is only one target in this simulaiton. The motion of the target is defined by `1.5+1e-3*np.sin(2*np.pi*1*radar.timestamp)`. `radar.timestamp` is the time matrix of the baseband samples."
   ]
  },
  {
   "cell_type": "code",
   "execution_count": 2,
   "metadata": {},
   "outputs": [],
   "source": [
    "target = dict(location=(1.4+1e-3*np.sin(2*np.pi*1*radar.timestamp), 0, 0),\n",
    "              rcs=-10,\n",
    "              phase=0)\n",
    "\n",
    "targets = [target]"
   ]
  },
  {
   "cell_type": "markdown",
   "metadata": {},
   "source": [
    "## Simulate Baseband Signals\n",
    "\n",
    "Calculate baseband signal matrix:\n",
    "$$[channels, pulses, ADC~samples]$$\n",
    "\n",
    "#### Simulate with Python engine"
   ]
  },
  {
   "cell_type": "code",
   "execution_count": 3,
   "metadata": {},
   "outputs": [],
   "source": [
    "from radarsimpy import simulator as sim\n",
    "\n",
    "data = sim(radar, targets)\n",
    "timestamp = data['timestamp']\n",
    "baseband = data['baseband']"
   ]
  },
  {
   "cell_type": "markdown",
   "metadata": {},
   "source": [
    "#### Simulate with C++ engine"
   ]
  },
  {
   "cell_type": "code",
   "execution_count": 4,
   "metadata": {},
   "outputs": [],
   "source": [
    "from radarsimpy import simulatorcpp as simcpp\n",
    "\n",
    "data = simcpp(radar, targets)\n",
    "timestamp = data['timestamp']\n",
    "baseband = data['baseband']"
   ]
  },
  {
   "cell_type": "code",
   "execution_count": 5,
   "metadata": {
    "tags": [
     "remove_cell"
    ]
   },
   "outputs": [
    {
     "data": {
      "image/svg+xml": [
       "<svg xmlns=\"http://www.w3.org/2000/svg\" xmlns:xlink=\"http://www.w3.org/1999/xlink\" class=\"main-svg\" width=\"700\" height=\"500\" style=\"\" viewBox=\"0 0 700 500\"><rect x=\"0\" y=\"0\" width=\"700\" height=\"500\" style=\"fill: rgb(255, 255, 255); fill-opacity: 1;\"/><defs id=\"defs-5238c3\"><g class=\"clips\"><clipPath id=\"clip5238c3xyplot\" class=\"plotclip\"><rect width=\"540\" height=\"320\"/></clipPath><clipPath class=\"axesclip\" id=\"clip5238c3x\"><rect x=\"80\" y=\"0\" width=\"540\" height=\"500\"/></clipPath><clipPath class=\"axesclip\" id=\"clip5238c3y\"><rect x=\"0\" y=\"100\" width=\"700\" height=\"320\"/></clipPath><clipPath class=\"axesclip\" id=\"clip5238c3xy\"><rect x=\"80\" y=\"100\" width=\"540\" height=\"320\"/></clipPath></g><g class=\"gradients\"/></defs><g class=\"bglayer\"><rect class=\"bg\" x=\"80\" y=\"100\" width=\"540\" height=\"320\" style=\"fill: rgb(229, 236, 246); fill-opacity: 1; stroke-width: 0;\"/></g><g class=\"layer-below\"><g class=\"imagelayer\"/><g class=\"shapelayer\"/></g><g class=\"cartesianlayer\"><g class=\"subplot xy\"><g class=\"layer-subplot\"><g class=\"shapelayer\"/><g class=\"imagelayer\"/></g><g class=\"gridlayer\"><g class=\"x\"><path class=\"xgrid crisp\" transform=\"translate(215.34,0)\" d=\"M0,100v320\" style=\"stroke: rgb(255, 255, 255); stroke-opacity: 1; stroke-width: 1px;\"/><path class=\"xgrid crisp\" transform=\"translate(350.68,0)\" d=\"M0,100v320\" style=\"stroke: rgb(255, 255, 255); stroke-opacity: 1; stroke-width: 1px;\"/><path class=\"xgrid crisp\" transform=\"translate(486.02,0)\" d=\"M0,100v320\" style=\"stroke: rgb(255, 255, 255); stroke-opacity: 1; stroke-width: 1px;\"/></g><g class=\"y\"><path class=\"ygrid crisp\" transform=\"translate(0,396.61)\" d=\"M80,0h540\" style=\"stroke: rgb(255, 255, 255); stroke-opacity: 1; stroke-width: 1px;\"/><path class=\"ygrid crisp\" transform=\"translate(0,351.02)\" d=\"M80,0h540\" style=\"stroke: rgb(255, 255, 255); stroke-opacity: 1; stroke-width: 1px;\"/><path class=\"ygrid crisp\" transform=\"translate(0,305.44)\" d=\"M80,0h540\" style=\"stroke: rgb(255, 255, 255); stroke-opacity: 1; stroke-width: 1px;\"/><path class=\"ygrid crisp\" transform=\"translate(0,214.26999999999998)\" d=\"M80,0h540\" style=\"stroke: rgb(255, 255, 255); stroke-opacity: 1; stroke-width: 1px;\"/><path class=\"ygrid crisp\" transform=\"translate(0,168.68)\" d=\"M80,0h540\" style=\"stroke: rgb(255, 255, 255); stroke-opacity: 1; stroke-width: 1px;\"/><path class=\"ygrid crisp\" transform=\"translate(0,123.1)\" d=\"M80,0h540\" style=\"stroke: rgb(255, 255, 255); stroke-opacity: 1; stroke-width: 1px;\"/></g></g><g class=\"zerolinelayer\"><path class=\"xzl zl crisp\" transform=\"translate(80,0)\" d=\"M0,100v320\" style=\"stroke: rgb(255, 255, 255); stroke-opacity: 1; stroke-width: 2px;\"/><path class=\"yzl zl crisp\" transform=\"translate(0,259.85)\" d=\"M80,0h540\" style=\"stroke: rgb(255, 255, 255); stroke-opacity: 1; stroke-width: 2px;\"/></g><path class=\"xlines-below\"/><path class=\"ylines-below\"/><g class=\"overlines-below\"/><g class=\"xaxislayer-below\"/><g class=\"yaxislayer-below\"/><g class=\"overaxes-below\"/><g class=\"plot\" transform=\"translate(80,100)\" clip-path=\"url('#clip5238c3xyplot')\"><g class=\"scatterlayer mlayer\"><g class=\"trace scatter trace606a46\" style=\"stroke-miterlimit: 2; opacity: 1;\"><g class=\"fills\"/><g class=\"errorbars\"/><g class=\"lines\"><path class=\"js-line\" d=\"M0,223.74L2.71,285.57L4.06,298.43L5.41,303.04L6.77,303.91L8.12,303.03L9.47,298.36L10.83,285.6L12.18,260.61L17.59,108.35L18.95,89.51L20.3,83.25L21.65,89.41L23.01,108.34L24.36,139.83L29.77,285.61L31.13,298.4L32.48,302.98L33.83,304L35.19,303.02L36.54,298.42L37.89,285.63L39.25,260.62L44.66,108.34L46.02,89.44L47.37,83.25L48.72,89.44L50.08,108.35L51.43,139.82L56.84,285.59L58.2,298.48L59.55,303.04L60.9,303.91L62.26,303.01L63.61,298.4L64.96,285.56L66.32,260.6L71.73,108.39L73.08,89.47L74.44,83.28L75.79,89.46L77.14,108.3L78.5,139.8L83.91,285.69L85.26,298.4L86.62,303.03L87.97,303.95L89.32,303.05L90.68,298.39L92.03,285.65L93.38,260.62L98.8,108.36L100.15,89.44L101.5,83.22L102.86,89.43L104.21,108.37L105.56,139.79L110.98,285.61L112.33,298.44L113.68,303.04L115.04,303.95L116.39,303.02L117.74,298.39L119.1,285.62L120.45,260.59L125.86,108.34L127.22,89.44L128.57,83.22L129.92,89.43L131.28,108.34L132.63,139.8L138.05,285.59L139.4,298.43L140.75,303.1L142.11,303.9L143.46,302.99L144.81,298.47L146.17,285.61L147.52,260.6L152.93,108.46L154.29,89.49L155.64,83.23L156.99,89.42L158.35,108.35L159.7,139.78L165.11,285.55L166.47,298.44L167.82,303L169.17,303.87L170.53,303.03L171.88,298.44L173.23,285.6L174.59,260.63L180,108.4L181.35,89.41L182.71,83.24L184.06,89.45L185.41,108.41L186.77,139.77L192.18,285.63L193.53,298.4L194.89,302.98L196.24,303.94L197.59,303.05L198.95,298.42L200.3,285.64L201.65,260.66L207.07,108.36L208.42,89.4L209.77,83.27L211.13,89.5L212.48,108.37L213.83,139.81L219.25,285.61L220.6,298.43L221.95,303.05L223.31,303.98L224.66,303.03L226.02,298.43L227.37,285.56L228.72,260.63L234.14,108.41L235.49,89.41L236.84,83.24L238.2,89.49L239.55,108.37L240.9,139.81L246.32,285.57L247.67,298.38L249.02,303.04L250.38,303.95L251.73,303.04L253.08,298.41L254.44,285.59L255.79,260.6L261.2,108.41L262.56,89.41L263.91,83.23L265.26,89.45L266.62,108.42L267.97,139.75L273.38,285.59L274.74,298.39L276.09,303.01L277.44,303.96L278.8,303.08L280.15,298.42L281.5,285.57L282.86,260.61L288.27,108.38L289.62,89.44L290.98,83.24L292.33,89.44L293.68,108.37L295.04,139.77L300.45,285.59L301.8,298.41L303.16,303L304.51,303.95L305.86,303.04L307.22,298.39L308.57,285.6L309.92,260.62L315.34,108.31L316.69,89.51L318.05,83.2L319.4,89.45L320.75,108.37L322.11,139.79L327.52,285.58L328.87,298.39L330.23,303.05L331.58,303.92L332.93,303.1L334.29,298.45L335.64,285.6L336.99,260.64L342.41,108.37L343.76,89.45L345.11,83.26L346.47,89.39L347.82,108.4L349.17,139.75L354.59,285.61L355.94,298.41L357.29,303.01L358.65,303.94L360,303.02L361.35,298.42L362.71,285.57L364.06,260.6L369.47,108.39L370.83,89.43L372.18,83.19L373.53,89.38L374.89,108.4L376.24,139.74L381.65,285.62L383.01,298.42L384.36,303L385.71,303.94L387.07,303.07L388.42,298.37L389.77,285.58L391.13,260.69L396.54,108.37L397.89,89.42L399.25,83.16L400.6,89.42L401.95,108.44L403.31,139.76L408.72,285.59L410.08,298.43L411.43,303.05L412.78,303.95L414.14,303.09L415.49,298.49L416.84,285.56L418.2,260.62L423.61,108.33L424.96,89.46L426.32,83.22L427.67,89.42L429.02,108.4L430.38,139.77L435.79,285.63L437.14,298.46L438.5,303.02L439.85,303.97L441.2,303.04L442.56,298.47L443.91,285.61L445.26,260.6L450.68,108.3L452.03,89.5L453.38,83.26L454.74,89.43L456.09,108.35L457.44,139.83L462.86,285.63L464.21,298.39L465.56,303.02L466.92,303.94L468.27,303.05L469.62,298.44L470.98,285.59L472.33,260.64L477.74,108.29L479.1,89.49L480.45,83.23L481.8,89.47L483.16,108.36L484.51,139.77L489.92,285.58L491.28,298.42L492.63,303.03L493.98,303.92L495.34,303.02L496.69,298.44L498.05,285.6L499.4,260.63L504.81,108.3L506.17,89.54L507.52,83.28L508.87,89.48L510.23,108.36L511.58,139.85L516.99,285.58L518.35,298.4L519.7,303L521.05,303.98L522.41,302.99L523.76,298.46L525.11,285.58L526.47,260.61L531.88,108.36L533.23,89.51L534.59,83.29L535.94,89.44L537.29,108.37L538.65,139.83L540,180.64\" style=\"vector-effect: non-scaling-stroke; fill: none; stroke: rgb(99, 110, 250); stroke-opacity: 1; stroke-width: 2px; opacity: 1;\"/></g><g class=\"points\"/><g class=\"text\"/></g><g class=\"trace scatter trace79972c\" style=\"stroke-miterlimit: 2; opacity: 1;\"><g class=\"fills\"/><g class=\"errorbars\"/><g class=\"lines\"><path class=\"js-line\" d=\"M0,29.6L5.41,137.77L6.77,144.89L8.12,137.74L9.47,117.47L13.53,29.57L14.89,16.23L16.24,16.04L17.59,24.01L18.95,32.79L20.3,36.41L21.65,32.78L23.01,24.04L24.36,16.06L25.71,16.2L27.07,29.6L28.42,55.6L32.48,137.76L33.83,144.83L35.19,137.78L36.54,117.48L40.6,29.64L41.95,16.25L43.31,16.05L44.66,24.03L46.02,32.8L47.37,36.36L48.72,32.78L50.08,24.05L51.43,16.06L52.78,16.19L54.14,29.62L55.49,55.54L59.55,137.74L60.9,144.83L62.26,137.73L63.61,117.47L67.67,29.57L69.02,16.21L70.38,16.05L71.73,24.04L73.08,32.8L74.44,36.42L75.79,32.74L77.14,24.01L78.5,16.04L79.85,16.27L81.2,29.63L82.56,55.53L86.62,137.74L87.97,144.87L89.32,137.78L90.68,117.45L94.74,29.57L96.09,16.17L97.44,16.05L98.8,24.06L100.15,32.82L101.5,36.42L102.86,32.76L104.21,24.08L105.56,16.05L106.92,16.2L108.27,29.6L109.62,55.6L113.68,137.77L115.04,144.92L116.39,137.75L117.74,117.48L121.8,29.6L123.16,16.21L124.51,16.04L125.86,24.11L127.22,32.77L128.57,36.38L129.92,32.79L131.28,24.05L132.63,16.03L133.98,16.22L135.34,29.58L136.69,55.57L140.75,137.76L142.11,144.85L143.46,137.76L144.81,117.46L148.87,29.6L150.23,16.19L151.58,16.06L152.93,24.07L154.29,32.84L155.64,36.4L156.99,32.73L158.35,24.03L159.7,16.01L161.05,16.23L162.41,29.6L163.76,55.56L167.82,137.75L169.17,144.91L170.53,137.73L171.88,117.5L175.94,29.61L177.29,16.24L178.65,16.04L180,24.03L181.35,32.79L182.71,36.39L184.06,32.8L185.41,24.01L186.77,16.08L188.12,16.23L189.47,29.58L190.83,55.56L194.89,137.73L196.24,144.91L197.59,137.72L198.95,117.45L203.01,29.57L204.36,16.19L205.71,16.01L207.07,24.05L208.42,32.78L209.77,36.42L211.13,32.78L212.48,24.07L213.83,16L215.19,16.23L216.54,29.6L217.89,55.66L221.95,137.74L223.31,144.9L224.66,137.76L226.02,117.46L230.08,29.56L231.43,16.21L232.78,16.03L234.14,24.03L235.49,32.77L236.84,36.44L238.2,32.79L239.55,24.03L240.9,16.02L242.26,16.22L243.61,29.57L244.96,55.6L249.02,137.73L250.38,144.89L251.73,137.81L253.08,117.49L257.14,29.59L258.5,16.19L259.85,16.08L261.2,24.04L262.56,32.81L263.91,36.39L265.26,32.8L266.62,24.04L267.97,16.07L269.32,16.21L270.68,29.54L272.03,55.59L276.09,137.71L277.44,144.84L278.8,137.74L280.15,117.49L284.21,29.56L285.56,16.18L286.92,16.08L288.27,24.05L289.62,32.74L290.98,36.38L292.33,32.76L293.68,24.03L295.04,16.07L296.39,16.22L297.74,29.6L299.1,55.6L303.16,137.78L304.51,144.87L305.86,137.75L307.22,117.47L311.28,29.52L312.63,16.19L313.98,16.08L315.34,24.03L316.69,32.78L318.05,36.48L319.4,32.83L320.75,24.04L322.11,16.08L323.46,16.18L324.81,29.56L326.17,55.59L330.23,137.77L331.58,144.87L332.93,137.74L334.29,117.52L338.35,29.58L339.7,16.22L341.05,16.05L342.41,24.05L343.76,32.76L345.11,36.44L346.47,32.78L347.82,24L349.17,16.02L350.53,16.2L351.88,29.61L353.23,55.63L357.29,137.71L358.65,144.85L360,137.67L361.35,117.46L365.41,29.59L366.77,16.19L368.12,16.09L369.47,24.06L370.83,32.79L372.18,36.39L373.53,32.8L374.89,24.02L376.24,16.04L377.59,16.14L378.95,29.63L380.3,55.6L384.36,137.76L385.71,144.88L387.07,137.7L388.42,117.47L392.48,29.6L393.83,16.21L395.19,16.09L396.54,24.04L397.89,32.71L399.25,36.43L400.6,32.82L401.95,24.04L403.31,16.05L404.66,16.21L406.02,29.6L407.37,55.61L411.43,137.73L412.78,144.9L414.14,137.71L415.49,117.5L419.55,29.59L420.9,16.17L422.26,16.04L423.61,24.05L424.96,32.77L426.32,36.43L427.67,32.82L429.02,24.03L430.38,16.01L431.73,16.22L433.08,29.6L434.44,55.57L438.5,137.7L439.85,144.85L441.2,137.71L442.56,117.49L446.62,29.6L447.97,16.22L449.32,16.04L450.68,24.08L452.03,32.7L453.38,36.39L454.74,32.77L456.09,23.99L457.44,16.06L458.8,16.21L460.15,29.58L461.5,55.63L465.56,137.7L466.92,144.81L468.27,137.69L469.62,117.52L473.68,29.58L475.04,16.2L476.39,16.02L477.74,24.06L479.1,32.71L480.45,36.43L481.8,32.82L483.16,24.05L484.51,16.05L485.86,16.21L487.22,29.57L488.57,55.59L492.63,137.69L493.98,144.81L495.34,137.7L496.69,117.51L500.75,29.55L502.11,16.17L503.46,16.1L504.81,24.08L506.17,32.72L507.52,36.39L508.87,32.8L510.23,24.03L511.58,16.05L512.93,16.22L514.29,29.58L515.64,55.6L519.7,137.69L521.05,144.82L522.41,137.74L523.76,117.52L527.82,29.55L529.17,16.22L530.53,16.04L531.88,24.09L533.23,32.7L534.59,36.41L535.94,32.78L537.29,24.04L538.65,16.02L540,16.19\" style=\"vector-effect: non-scaling-stroke; fill: none; stroke: rgb(239, 85, 59); stroke-opacity: 1; stroke-width: 2px; opacity: 1;\"/></g><g class=\"points\"/><g class=\"text\"/></g></g></g><g class=\"overplot\"/><path class=\"xlines-above crisp\" d=\"M0,0\" style=\"fill: none;\"/><path class=\"ylines-above crisp\" d=\"M0,0\" style=\"fill: none;\"/><g class=\"overlines-above\"/><g class=\"xaxislayer-above\"><g class=\"xtick\"><text text-anchor=\"middle\" x=\"0\" y=\"433\" transform=\"translate(80,0)\" style=\"font-family: 'Open Sans', verdana, arial, sans-serif; font-size: 12px; fill: rgb(42, 63, 95); fill-opacity: 1; white-space: pre;\">0</text></g><g class=\"xtick\"><text text-anchor=\"middle\" x=\"0\" y=\"433\" transform=\"translate(215.34,0)\" style=\"font-family: 'Open Sans', verdana, arial, sans-serif; font-size: 12px; fill: rgb(42, 63, 95); fill-opacity: 1; white-space: pre;\">5</text></g><g class=\"xtick\"><text text-anchor=\"middle\" x=\"0\" y=\"433\" transform=\"translate(350.68,0)\" style=\"font-family: 'Open Sans', verdana, arial, sans-serif; font-size: 12px; fill: rgb(42, 63, 95); fill-opacity: 1; white-space: pre;\">10</text></g><g class=\"xtick\"><text text-anchor=\"middle\" x=\"0\" y=\"433\" transform=\"translate(486.02,0)\" style=\"font-family: 'Open Sans', verdana, arial, sans-serif; font-size: 12px; fill: rgb(42, 63, 95); fill-opacity: 1; white-space: pre;\">15</text></g></g><g class=\"yaxislayer-above\"><g class=\"ytick\"><text text-anchor=\"end\" x=\"79\" y=\"4.199999999999999\" transform=\"translate(0,396.61)\" style=\"font-family: 'Open Sans', verdana, arial, sans-serif; font-size: 12px; fill: rgb(42, 63, 95); fill-opacity: 1; white-space: pre;\">−0.6</text></g><g class=\"ytick\"><text text-anchor=\"end\" x=\"79\" y=\"4.199999999999999\" transform=\"translate(0,351.02)\" style=\"font-family: 'Open Sans', verdana, arial, sans-serif; font-size: 12px; fill: rgb(42, 63, 95); fill-opacity: 1; white-space: pre;\">−0.4</text></g><g class=\"ytick\"><text text-anchor=\"end\" x=\"79\" y=\"4.199999999999999\" transform=\"translate(0,305.44)\" style=\"font-family: 'Open Sans', verdana, arial, sans-serif; font-size: 12px; fill: rgb(42, 63, 95); fill-opacity: 1; white-space: pre;\">−0.2</text></g><g class=\"ytick\"><text text-anchor=\"end\" x=\"79\" y=\"4.199999999999999\" transform=\"translate(0,259.85)\" style=\"font-family: 'Open Sans', verdana, arial, sans-serif; font-size: 12px; fill: rgb(42, 63, 95); fill-opacity: 1; white-space: pre;\">0</text></g><g class=\"ytick\"><text text-anchor=\"end\" x=\"79\" y=\"4.199999999999999\" transform=\"translate(0,214.26999999999998)\" style=\"font-family: 'Open Sans', verdana, arial, sans-serif; font-size: 12px; fill: rgb(42, 63, 95); fill-opacity: 1; white-space: pre;\">0.2</text></g><g class=\"ytick\"><text text-anchor=\"end\" x=\"79\" y=\"4.199999999999999\" transform=\"translate(0,168.68)\" style=\"font-family: 'Open Sans', verdana, arial, sans-serif; font-size: 12px; fill: rgb(42, 63, 95); fill-opacity: 1; white-space: pre;\">0.4</text></g><g class=\"ytick\"><text text-anchor=\"end\" x=\"79\" y=\"4.199999999999999\" transform=\"translate(0,123.1)\" style=\"font-family: 'Open Sans', verdana, arial, sans-serif; font-size: 12px; fill: rgb(42, 63, 95); fill-opacity: 1; white-space: pre;\">0.6</text></g></g><g class=\"overaxes-above\"/></g></g><g class=\"polarlayer\"/><g class=\"ternarylayer\"/><g class=\"geolayer\"/><g class=\"funnelarealayer\"/><g class=\"pielayer\"/><g class=\"treemaplayer\"/><g class=\"sunburstlayer\"/><g class=\"glimages\"/><defs id=\"topdefs-5238c3\"><g class=\"clips\"/><clipPath id=\"legend5238c3\"><rect width=\"55\" height=\"48\" x=\"0\" y=\"0\"/></clipPath></defs><g class=\"layer-above\"><g class=\"imagelayer\"/><g class=\"shapelayer\"/></g><g class=\"infolayer\"><g class=\"legend\" pointer-events=\"all\" transform=\"translate(630.8,100)\"><rect class=\"bg\" shape-rendering=\"crispEdges\" style=\"stroke: rgb(68, 68, 68); stroke-opacity: 1; fill: rgb(255, 255, 255); fill-opacity: 1; stroke-width: 0px;\" width=\"55\" height=\"48\" x=\"0\" y=\"0\"/><g class=\"scrollbox\" transform=\"\" clip-path=\"url('#legend5238c3')\"><g class=\"groups\"><g class=\"traces\" transform=\"translate(0,14.5)\" style=\"opacity: 1;\"><text class=\"legendtext\" text-anchor=\"start\" x=\"40\" y=\"4.680000000000001\" style=\"font-family: 'Open Sans', verdana, arial, sans-serif; font-size: 12px; fill: rgb(42, 63, 95); fill-opacity: 1; white-space: pre;\">I</text><g class=\"layers\" style=\"opacity: 1;\"><g class=\"legendfill\"/><g class=\"legendlines\"><path class=\"js-line\" d=\"M5,0h30\" style=\"fill: none; stroke: rgb(99, 110, 250); stroke-opacity: 1; stroke-width: 2px;\"/></g><g class=\"legendsymbols\"><g class=\"legendpoints\"/></g></g><rect class=\"legendtoggle\" x=\"0\" y=\"-9.5\" width=\"49.453125\" height=\"19\" style=\"fill: rgb(0, 0, 0); fill-opacity: 0;\"/></g><g class=\"traces\" transform=\"translate(0,33.5)\" style=\"opacity: 1;\"><text class=\"legendtext\" text-anchor=\"start\" x=\"40\" y=\"4.680000000000001\" style=\"font-family: 'Open Sans', verdana, arial, sans-serif; font-size: 12px; fill: rgb(42, 63, 95); fill-opacity: 1; white-space: pre;\">Q</text><g class=\"layers\" style=\"opacity: 1;\"><g class=\"legendfill\"/><g class=\"legendlines\"><path class=\"js-line\" d=\"M5,0h30\" style=\"fill: none; stroke: rgb(239, 85, 59); stroke-opacity: 1; stroke-width: 2px;\"/></g><g class=\"legendsymbols\"><g class=\"legendpoints\"/></g></g><rect class=\"legendtoggle\" x=\"0\" y=\"-9.5\" width=\"49.453125\" height=\"19\" style=\"fill: rgb(0, 0, 0); fill-opacity: 0;\"/></g></g></g><rect class=\"scrollbar\" rx=\"20\" ry=\"3\" width=\"0\" height=\"0\" style=\"fill: rgb(128, 139, 164); fill-opacity: 1;\" x=\"0\" y=\"0\"/></g><g class=\"g-gtitle\"><text class=\"gtitle\" x=\"35\" y=\"50\" text-anchor=\"start\" dy=\"0em\" style=\"font-family: 'Open Sans', verdana, arial, sans-serif; font-size: 17px; fill: rgb(42, 63, 95); opacity: 1; font-weight: normal; white-space: pre;\">I/Q Baseband Signals</text></g><g class=\"g-xtitle\"><text class=\"xtitle\" x=\"350\" y=\"460.8\" text-anchor=\"middle\" style=\"font-family: 'Open Sans', verdana, arial, sans-serif; font-size: 14px; fill: rgb(42, 63, 95); opacity: 1; font-weight: normal; white-space: pre;\">Time (s)</text></g><g class=\"g-ytitle\"><text class=\"ytitle\" transform=\"rotate(-90,24.746875000000003,260)\" x=\"24.746875000000003\" y=\"260\" text-anchor=\"middle\" style=\"font-family: 'Open Sans', verdana, arial, sans-serif; font-size: 14px; fill: rgb(42, 63, 95); opacity: 1; font-weight: normal; white-space: pre;\">Amplitude (V)</text></g></g></svg>"
      ],
      "text/plain": [
       "<IPython.core.display.SVG object>"
      ]
     },
     "metadata": {},
     "output_type": "display_data"
    }
   ],
   "source": [
    "import plotly.graph_objs as go\n",
    "from plotly.offline import iplot\n",
    "from IPython.display import SVG, display\n",
    "\n",
    "beat_I = go.Scatter(\n",
    "    x=timestamp[0, 0, :],\n",
    "    y=np.real(baseband[0, 0, :]),\n",
    "    name='I',\n",
    ")\n",
    "beat_Q = go.Scatter(\n",
    "    x=timestamp[0, 0, :],\n",
    "    y=np.imag(baseband[0, 0, :]),\n",
    "    name='Q',\n",
    ")\n",
    "data = [beat_I, beat_Q]\n",
    "\n",
    "layout = go.Layout(\n",
    "    title='I/Q Baseband Signals',\n",
    "    yaxis=dict(title='Amplitude (V)'),\n",
    "    xaxis=dict(title='Time (s)'),\n",
    ")\n",
    "\n",
    "fig = go.Figure(data, layout=layout)\n",
    "# iplot(fig)\n",
    "display(SVG(fig.to_image(format='svg', scale=1)))"
   ]
  },
  {
   "cell_type": "code",
   "execution_count": 6,
   "metadata": {},
   "outputs": [
    {
     "data": {
      "image/svg+xml": [
       "<svg xmlns=\"http://www.w3.org/2000/svg\" xmlns:xlink=\"http://www.w3.org/1999/xlink\" class=\"main-svg\" width=\"600\" height=\"600\" style=\"\" viewBox=\"0 0 600 600\"><rect x=\"0\" y=\"0\" width=\"600\" height=\"600\" style=\"fill: rgb(255, 255, 255); fill-opacity: 1;\"/><defs id=\"defs-517a86\"><g class=\"clips\"><clipPath id=\"clip517a86xyplot\" class=\"plotclip\"><rect width=\"440\" height=\"420\"/></clipPath><clipPath class=\"axesclip\" id=\"clip517a86x\"><rect x=\"80\" y=\"0\" width=\"440\" height=\"600\"/></clipPath><clipPath class=\"axesclip\" id=\"clip517a86y\"><rect x=\"0\" y=\"100\" width=\"600\" height=\"420\"/></clipPath><clipPath class=\"axesclip\" id=\"clip517a86xy\"><rect x=\"80\" y=\"100\" width=\"440\" height=\"420\"/></clipPath></g><g class=\"gradients\"/></defs><g class=\"bglayer\"><rect class=\"bg\" x=\"80\" y=\"100\" width=\"440\" height=\"420\" style=\"fill: rgb(229, 236, 246); fill-opacity: 1; stroke-width: 0;\"/></g><g class=\"layer-below\"><g class=\"imagelayer\"/><g class=\"shapelayer\"/></g><g class=\"cartesianlayer\"><g class=\"subplot xy\"><g class=\"layer-subplot\"><g class=\"shapelayer\"/><g class=\"imagelayer\"/></g><g class=\"gridlayer\"><g class=\"x\"><path class=\"xgrid crisp\" transform=\"translate(90,0)\" d=\"M0,100v420\" style=\"stroke: rgb(255, 255, 255); stroke-opacity: 1; stroke-width: 1px;\"/><path class=\"xgrid crisp\" transform=\"translate(195,0)\" d=\"M0,100v420\" style=\"stroke: rgb(255, 255, 255); stroke-opacity: 1; stroke-width: 1px;\"/><path class=\"xgrid crisp\" transform=\"translate(405,0)\" d=\"M0,100v420\" style=\"stroke: rgb(255, 255, 255); stroke-opacity: 1; stroke-width: 1px;\"/><path class=\"xgrid crisp\" transform=\"translate(510,0)\" d=\"M0,100v420\" style=\"stroke: rgb(255, 255, 255); stroke-opacity: 1; stroke-width: 1px;\"/></g><g class=\"y\"><path class=\"ygrid crisp\" transform=\"translate(0,415)\" d=\"M80,0h440\" style=\"stroke: rgb(255, 255, 255); stroke-opacity: 1; stroke-width: 1px;\"/><path class=\"ygrid crisp\" transform=\"translate(0,205)\" d=\"M80,0h440\" style=\"stroke: rgb(255, 255, 255); stroke-opacity: 1; stroke-width: 1px;\"/></g></g><g class=\"zerolinelayer\"><path class=\"xzl zl crisp\" transform=\"translate(300,0)\" d=\"M0,100v420\" style=\"stroke: rgb(255, 255, 255); stroke-opacity: 1; stroke-width: 2px;\"/><path class=\"yzl zl crisp\" transform=\"translate(0,310)\" d=\"M80,0h440\" style=\"stroke: rgb(255, 255, 255); stroke-opacity: 1; stroke-width: 2px;\"/></g><path class=\"xlines-below\"/><path class=\"ylines-below\"/><g class=\"overlines-below\"/><g class=\"xaxislayer-below\"/><g class=\"yaxislayer-below\"/><g class=\"overaxes-below\"/><g class=\"plot\" transform=\"translate(80,100)\" clip-path=\"url('#clip517a86xyplot')\"><g class=\"scatterlayer mlayer\"><g class=\"trace scatter tracec22b86\" style=\"stroke-miterlimit: 2; opacity: 1;\"><g class=\"fills\"/><g class=\"errorbars\"/><g class=\"lines\"><path class=\"js-line\" d=\"M161.13,89.99L127.13,113.95L104.17,143.59L92.32,170.93L88.07,189.66L87.27,196.21L88.08,189.63L92.38,170.95L104.14,143.56L127.17,113.95L161.16,89.96L200.89,77.67L238.48,77.49L267.45,84.84L290.58,96.26L267.46,84.87L238.45,77.51L200.91,77.64L161.16,89.99L127.16,113.95L104.13,143.56L92.34,170.97L88.13,189.65L87.19,196.16L88.09,189.66L92.33,170.96L104.12,143.52L127.16,113.94L161.17,90.03L200.91,77.69L238.52,77.51L267.46,84.86L290.57,96.22L267.45,84.87L238.45,77.52L200.9,77.64L161.14,90.01L127.19,113.89L104.15,143.6L92.27,170.96L88.07,189.62L87.27,196.16L88.1,189.62L92.34,170.95L104.17,143.54L127.17,113.96L161.19,89.96L200.92,77.65L238.47,77.51L267.42,84.87L290.55,96.27L267.5,84.84L238.47,77.5L200.97,77.71L161.18,90.02L127.18,113.88L104.06,143.55L92.35,170.92L88.08,189.63L87.23,196.2L88.06,189.66L92.36,170.94L104.09,143.57L127.16,113.96L161.12,89.97L200.93,77.62L238.48,77.51L267.44,84.89L290.6,96.27L267.43,84.9L238.48,77.5L200.89,77.65L161.2,89.99L127.16,113.95L104.13,143.54L92.31,170.96L88.07,189.65L87.23,196.25L88.09,189.63L92.35,170.96L104.12,143.58L127.18,113.92L161.17,89.99L200.89,77.66L238.5,77.5L267.46,84.93L290.6,96.24L267.46,84.87L238.48,77.49L200.87,77.67L161.17,89.98L127.13,113.92L104.14,143.58L92.32,170.95L88.02,189.64L87.28,196.18L88.11,189.64L92.28,170.94L104.13,143.59L127.17,113.89L161.15,89.99L200.88,77.64L238.5,77.51L267.35,84.89L290.6,96.26L267.45,84.86L238.49,77.47L200.92,77.67L161.13,89.99L127.17,113.91L104.18,143.6L92.31,170.93L88.11,189.64L87.3,196.23L88.08,189.62L92.31,170.98L104.14,143.55L127.15,113.95L161.18,90L200.88,77.69L238.48,77.5L267.41,84.86L290.59,96.25L267.4,84.84L238.5,77.53L200.93,77.67L161.15,89.97L127.16,113.91L104.12,143.54L92.34,170.94L88.12,189.61L87.25,196.23L88.06,189.61L92.33,170.93L104.1,143.55L127.12,113.93L161.16,89.96L200.89,77.64L238.48,77.47L267.44,84.88L290.56,96.27L267.43,84.9L238.46,77.46L200.86,77.67L161.16,89.99L127.17,114L104.14,143.57L92.32,170.9L88.07,189.63L87.21,196.22L88.08,189.65L92.32,170.95L104.17,143.56L127.14,113.91L161.16,89.96L200.92,77.66L238.47,77.49L267.4,84.86L290.59,96.29L267.44,84.86L238.47,77.48L200.88,77.66L161.19,89.97L127.11,113.95L104.17,143.57L92.37,170.87L88.07,189.62L87.24,196.22L88.07,189.69L92.34,170.97L104.15,143.54L127.17,113.88L161.14,89.98L200.94,77.63L238.49,77.54L267.4,84.87L290.59,96.25L267.39,84.87L238.52,77.53L200.93,77.65L161.16,89.94L127.15,113.94L104.15,143.6L92.35,170.95L88.09,189.6L87.23,196.17L88.03,189.63L92.33,170.97L104.17,143.54L127.17,113.93L161.18,89.96L200.86,77.63L238.49,77.54L267.43,84.87L290.59,96.24L267.43,84.86L238.51,77.52L200.94,77.66L161.16,90L127.14,113.94L104.15,143.59L92.33,170.9L88.11,189.66L87.23,196.2L88.07,189.64L92.35,170.95L104.14,143.56L127.16,113.94L161.12,89.91L200.92,77.63L238.52,77.54L267.49,84.86L290.63,96.33L267.44,84.86L238.48,77.54L200.86,77.63L161.14,89.96L127.13,113.94L104.16,143.53L92.35,170.97L88.06,189.65L87.26,196.2L88.02,189.62L92.3,171L104.14,143.56L127.14,113.94L161.19,89.97L200.94,77.66L238.51,77.51L267.43,84.88L290.57,96.3L267.4,84.84L238.52,77.48L200.88,77.64L161.16,90L127.16,113.98L104.13,143.55L92.34,170.96L88.1,189.6L87.24,196.18L88.09,189.56L92.33,170.94L104.17,143.56L127.17,113.91L161.15,89.99L200.91,77.63L238.51,77.54L267.42,84.89L290.64,96.25L267.41,84.85L238.53,77.5L200.9,77.59L161.1,90.02L127.16,113.95L104.12,143.55L92.33,170.93L88.11,189.65L87.24,196.21L88.05,189.59L92.37,170.95L104.16,143.54L127.09,114L161.14,89.99L200.93,77.65L238.54,77.54L267.43,84.87L290.66,96.28L267.37,84.87L238.51,77.51L200.89,77.66L161.14,89.99L127.11,113.95L104.15,143.54L92.32,170.94L88.07,189.62L87.23,196.23L88.03,189.6L92.27,170.98L104.18,143.55L127.15,113.94L161.13,89.98L200.92,77.62L238.5,77.5L267.47,84.88L290.6,96.29L267.41,84.86L238.5,77.47L200.89,77.67L161.14,89.99L127.12,113.92L104.11,143.61L92.29,170.94L88.09,189.59L87.22,196.18L88.07,189.6L92.29,170.97L104.13,143.52L127.18,113.96L161.19,89.99L200.94,77.66L238.44,77.5L267.49,84.91L290.57,96.25L284.88,92.91L267.45,84.82L238.45,77.52L200.93,77.65L161.18,89.98L127.13,113.97L104.12,143.6L92.36,170.94L87.24,196.14L92.31,170.99L104.15,143.55L127.14,113.95L161.23,89.97L200.95,77.64L238.46,77.48L267.51,84.88L284.83,92.86L290.59,96.28L284.85,92.96L267.44,84.88L238.5,77.51L200.88,77.66L161.16,89.97L127.14,113.94L104.15,143.59L92.33,170.97L87.26,196.14L92.31,170.99L104.14,143.58L127.15,113.93L161.21,89.94L200.95,77.62L238.46,77.55L267.5,84.91L284.79,92.87L290.55,96.25L284.84,92.94L267.44,84.86L238.43,77.51L200.88,77.66L161.14,89.98L127.1,113.94L104.16,143.5L92.34,170.94L87.21,196.15L92.29,171L104.16,143.55L127.17,113.9L161.17,89.95L200.89,77.66L238.51,77.5L267.44,84.91L284.81,92.85L290.54,96.27L284.87,92.92L267.43,84.87L238.45,77.48L200.84,77.64\" style=\"vector-effect: non-scaling-stroke; fill: none; stroke: rgb(99, 110, 250); stroke-opacity: 1; stroke-width: 2px; opacity: 1;\"/></g><g class=\"points\"/><g class=\"text\"/></g></g></g><g class=\"overplot\"/><path class=\"xlines-above crisp\" d=\"M0,0\" style=\"fill: none;\"/><path class=\"ylines-above crisp\" d=\"M0,0\" style=\"fill: none;\"/><g class=\"overlines-above\"/><g class=\"xaxislayer-above\"><g class=\"xtick\"><text text-anchor=\"middle\" x=\"0\" y=\"533\" transform=\"translate(90,0)\" style=\"font-family: 'Open Sans', verdana, arial, sans-serif; font-size: 12px; fill: rgb(42, 63, 95); fill-opacity: 1; white-space: pre;\">−1.00</text></g><g class=\"xtick\"><text text-anchor=\"middle\" x=\"0\" y=\"533\" transform=\"translate(195,0)\" style=\"font-family: 'Open Sans', verdana, arial, sans-serif; font-size: 12px; fill: rgb(42, 63, 95); fill-opacity: 1; white-space: pre;\">−0.50</text></g><g class=\"xtick\"><text text-anchor=\"middle\" x=\"0\" y=\"533\" transform=\"translate(300,0)\" style=\"font-family: 'Open Sans', verdana, arial, sans-serif; font-size: 12px; fill: rgb(42, 63, 95); fill-opacity: 1; white-space: pre;\">0.00</text></g><g class=\"xtick\"><text text-anchor=\"middle\" x=\"0\" y=\"533\" transform=\"translate(405,0)\" style=\"font-family: 'Open Sans', verdana, arial, sans-serif; font-size: 12px; fill: rgb(42, 63, 95); fill-opacity: 1; white-space: pre;\">0.50</text></g><g class=\"xtick\"><text text-anchor=\"middle\" x=\"0\" y=\"533\" transform=\"translate(510,0)\" style=\"font-family: 'Open Sans', verdana, arial, sans-serif; font-size: 12px; fill: rgb(42, 63, 95); fill-opacity: 1; white-space: pre;\">1.00</text></g></g><g class=\"yaxislayer-above\"><g class=\"ytick\"><text text-anchor=\"end\" x=\"79\" y=\"4.199999999999999\" transform=\"translate(0,520)\" style=\"font-family: 'Open Sans', verdana, arial, sans-serif; font-size: 12px; fill: rgb(42, 63, 95); fill-opacity: 1; white-space: pre;\">−1.00</text></g><g class=\"ytick\"><text text-anchor=\"end\" x=\"79\" y=\"4.199999999999999\" transform=\"translate(0,415)\" style=\"font-family: 'Open Sans', verdana, arial, sans-serif; font-size: 12px; fill: rgb(42, 63, 95); fill-opacity: 1; white-space: pre;\">−0.50</text></g><g class=\"ytick\"><text text-anchor=\"end\" x=\"79\" y=\"4.199999999999999\" transform=\"translate(0,310)\" style=\"font-family: 'Open Sans', verdana, arial, sans-serif; font-size: 12px; fill: rgb(42, 63, 95); fill-opacity: 1; white-space: pre;\">0.00</text></g><g class=\"ytick\"><text text-anchor=\"end\" x=\"79\" y=\"4.199999999999999\" transform=\"translate(0,205)\" style=\"font-family: 'Open Sans', verdana, arial, sans-serif; font-size: 12px; fill: rgb(42, 63, 95); fill-opacity: 1; white-space: pre;\">0.50</text></g><g class=\"ytick\"><text text-anchor=\"end\" x=\"79\" y=\"4.199999999999999\" transform=\"translate(0,100)\" style=\"font-family: 'Open Sans', verdana, arial, sans-serif; font-size: 12px; fill: rgb(42, 63, 95); fill-opacity: 1; white-space: pre;\">1.00</text></g></g><g class=\"overaxes-above\"/></g></g><g class=\"polarlayer\"/><g class=\"ternarylayer\"/><g class=\"geolayer\"/><g class=\"funnelarealayer\"/><g class=\"pielayer\"/><g class=\"treemaplayer\"/><g class=\"sunburstlayer\"/><g class=\"glimages\"/><defs id=\"topdefs-517a86\"><g class=\"clips\"/></defs><g class=\"layer-above\"><g class=\"imagelayer\"/><g class=\"shapelayer\"/></g><g class=\"infolayer\"><g class=\"g-gtitle\"><text class=\"gtitle\" x=\"30\" y=\"50\" text-anchor=\"start\" dy=\"0em\" style=\"font-family: 'Open Sans', verdana, arial, sans-serif; font-size: 17px; fill: rgb(42, 63, 95); opacity: 1; font-weight: normal; white-space: pre;\">I/Q Constellation Plot</text></g><g class=\"g-xtitle\"><text class=\"xtitle\" x=\"300\" y=\"560.8\" text-anchor=\"middle\" style=\"font-family: 'Open Sans', verdana, arial, sans-serif; font-size: 14px; fill: rgb(42, 63, 95); opacity: 1; font-weight: normal; white-space: pre;\">In-phase (V)</text></g><g class=\"g-ytitle\"><text class=\"ytitle\" transform=\"rotate(-90,17.121875000000003,310)\" x=\"17.121875000000003\" y=\"310\" text-anchor=\"middle\" style=\"font-family: 'Open Sans', verdana, arial, sans-serif; font-size: 14px; fill: rgb(42, 63, 95); opacity: 1; font-weight: normal; white-space: pre;\">Quadrature (V)</text></g></g></svg>"
      ],
      "text/plain": [
       "<IPython.core.display.SVG object>"
      ]
     },
     "metadata": {},
     "output_type": "display_data"
    }
   ],
   "source": [
    "polar = go.Scatter(\n",
    "    x=np.real(baseband[0, 0, :]),\n",
    "    y=np.imag(baseband[0, 0, :]),\n",
    ")\n",
    "\n",
    "data = [polar]\n",
    "\n",
    "layout = go.Layout(\n",
    "    title='I/Q Constellation Plot',\n",
    "    xaxis=dict(range=[-1, 1], tickformat='.2f', title='In-phase (V)'),\n",
    "    yaxis=dict(range=[-1, 1],\n",
    "               tickformat='.2f',\n",
    "               title='Quadrature (V)',\n",
    "               scaleanchor=\"x\",\n",
    "               scaleratio=1),\n",
    "    height=600,\n",
    "    width=600,\n",
    ")\n",
    "\n",
    "fig = go.Figure(data, layout=layout)\n",
    "# iplot(fig)\n",
    "display(SVG(fig.to_image(format='svg', scale=1)))"
   ]
  },
  {
   "cell_type": "markdown",
   "metadata": {},
   "source": [
    "## Phase demodulation"
   ]
  },
  {
   "cell_type": "code",
   "execution_count": 7,
   "metadata": {},
   "outputs": [],
   "source": [
    "demod = np.angle(baseband[0, 0, :])"
   ]
  },
  {
   "cell_type": "markdown",
   "metadata": {},
   "source": [
    "Plot"
   ]
  },
  {
   "cell_type": "code",
   "execution_count": 8,
   "metadata": {},
   "outputs": [
    {
     "data": {
      "image/svg+xml": [
       "<svg xmlns=\"http://www.w3.org/2000/svg\" xmlns:xlink=\"http://www.w3.org/1999/xlink\" class=\"main-svg\" width=\"700\" height=\"500\" style=\"\" viewBox=\"0 0 700 500\"><rect x=\"0\" y=\"0\" width=\"700\" height=\"500\" style=\"fill: rgb(255, 255, 255); fill-opacity: 1;\"/><defs id=\"defs-89faba\"><g class=\"clips\"><clipPath id=\"clip89fabaxyplot\" class=\"plotclip\"><rect width=\"540\" height=\"320\"/></clipPath><clipPath class=\"axesclip\" id=\"clip89fabax\"><rect x=\"80\" y=\"0\" width=\"540\" height=\"500\"/></clipPath><clipPath class=\"axesclip\" id=\"clip89fabay\"><rect x=\"0\" y=\"100\" width=\"700\" height=\"320\"/></clipPath><clipPath class=\"axesclip\" id=\"clip89fabaxy\"><rect x=\"80\" y=\"100\" width=\"540\" height=\"320\"/></clipPath></g><g class=\"gradients\"/></defs><g class=\"bglayer\"><rect class=\"bg\" x=\"80\" y=\"100\" width=\"540\" height=\"320\" style=\"fill: rgb(229, 236, 246); fill-opacity: 1; stroke-width: 0;\"/></g><g class=\"layer-below\"><g class=\"imagelayer\"/><g class=\"shapelayer\"/></g><g class=\"cartesianlayer\"><g class=\"subplot xy\"><g class=\"layer-subplot\"><g class=\"shapelayer\"/><g class=\"imagelayer\"/></g><g class=\"gridlayer\"><g class=\"x\"><path class=\"xgrid crisp\" transform=\"translate(215.34,0)\" d=\"M0,100v320\" style=\"stroke: rgb(255, 255, 255); stroke-opacity: 1; stroke-width: 1px;\"/><path class=\"xgrid crisp\" transform=\"translate(350.68,0)\" d=\"M0,100v320\" style=\"stroke: rgb(255, 255, 255); stroke-opacity: 1; stroke-width: 1px;\"/><path class=\"xgrid crisp\" transform=\"translate(486.02,0)\" d=\"M0,100v320\" style=\"stroke: rgb(255, 255, 255); stroke-opacity: 1; stroke-width: 1px;\"/></g><g class=\"y\"><path class=\"ygrid crisp\" transform=\"translate(0,406.11)\" d=\"M80,0h540\" style=\"stroke: rgb(255, 255, 255); stroke-opacity: 1; stroke-width: 1px;\"/><path class=\"ygrid crisp\" transform=\"translate(0,334.95)\" d=\"M80,0h540\" style=\"stroke: rgb(255, 255, 255); stroke-opacity: 1; stroke-width: 1px;\"/><path class=\"ygrid crisp\" transform=\"translate(0,263.78)\" d=\"M80,0h540\" style=\"stroke: rgb(255, 255, 255); stroke-opacity: 1; stroke-width: 1px;\"/><path class=\"ygrid crisp\" transform=\"translate(0,192.62)\" d=\"M80,0h540\" style=\"stroke: rgb(255, 255, 255); stroke-opacity: 1; stroke-width: 1px;\"/><path class=\"ygrid crisp\" transform=\"translate(0,121.46000000000001)\" d=\"M80,0h540\" style=\"stroke: rgb(255, 255, 255); stroke-opacity: 1; stroke-width: 1px;\"/></g></g><g class=\"zerolinelayer\"><path class=\"xzl zl crisp\" transform=\"translate(80,0)\" d=\"M0,100v320\" style=\"stroke: rgb(255, 255, 255); stroke-opacity: 1; stroke-width: 2px;\"/></g><path class=\"xlines-below\"/><path class=\"ylines-below\"/><g class=\"overlines-below\"/><g class=\"xaxislayer-below\"/><g class=\"yaxislayer-below\"/><g class=\"overaxes-below\"/><g class=\"plot\" transform=\"translate(80,100)\" clip-path=\"url('#clip89fabaxyplot')\"><g class=\"scatterlayer mlayer\"><g class=\"trace scatter tracedf14df\" style=\"stroke-miterlimit: 2; opacity: 1;\"><g class=\"fills\"/><g class=\"errorbars\"/><g class=\"lines\"><path class=\"js-line\" d=\"M0,159.96L4.06,43.57L5.41,23.08L6.77,16.04L8.12,23.11L10.83,75.42L12.18,115.51L17.59,276.44L18.95,296.83L20.3,303.92L21.65,296.91L23.01,276.47L24.36,244.56L31.13,43.54L32.48,23.1L33.83,16.09L35.19,23.08L36.54,43.55L37.89,75.44L44.66,276.46L46.02,296.89L47.37,303.89L48.72,296.89L50.08,276.46L51.43,244.57L58.2,43.53L59.55,23.12L60.9,16.1L62.26,23.13L63.61,43.56L64.96,75.45L71.73,276.42L73.08,296.87L74.44,303.89L75.79,296.85L77.14,276.49L78.5,244.58L85.26,43.59L86.62,23.12L87.97,16.05L89.32,23.07L90.68,43.58L92.03,75.38L98.8,276.46L100.15,296.9L101.5,303.94L102.86,296.88L104.21,276.45L105.56,244.59L112.33,43.54L113.68,23.09L115.04,16L116.39,23.11L119.1,75.38L120.45,115.55L125.86,276.49L127.22,296.88L128.57,303.92L129.92,296.9L131.28,276.47L132.63,244.59L139.4,43.55L140.75,23.09L142.11,16.08L143.46,23.1L146.17,75.38L147.52,115.57L152.93,276.36L154.29,296.87L155.64,303.93L156.99,296.88L158.35,276.45L159.7,244.6L166.47,43.56L167.82,23.11L169.17,16.02L170.53,23.12L171.88,43.52L173.23,75.42L180,276.41L181.35,296.92L182.71,303.92L184.06,296.88L186.77,244.62L188.12,204.5L193.53,43.57L194.89,23.14L196.24,16.01L197.59,23.13L198.95,43.57L200.3,75.4L207.07,276.45L208.42,296.92L209.77,303.9L211.13,296.83L212.48,276.45L213.83,244.57L220.6,43.61L221.95,23.11L223.31,16.02L224.66,23.1L226.02,43.56L227.37,75.43L234.14,276.4L235.49,296.91L236.84,303.94L238.2,296.85L239.55,276.44L240.9,244.57L247.67,43.65L249.02,23.12L250.38,16.03L251.73,23.04L254.44,75.44L255.79,115.57L261.2,276.4L262.56,296.92L263.91,303.92L265.26,296.89L266.62,276.4L267.97,244.64L274.74,43.56L276.09,23.14L277.44,16.08L278.8,23.11L280.15,43.54L281.5,75.45L288.27,276.43L289.62,296.86L290.98,303.91L292.33,296.87L295.04,244.62L296.39,204.51L301.8,43.61L303.16,23.08L304.51,16.05L305.86,23.1L307.22,43.56L308.57,75.41L315.34,276.49L316.69,296.83L318.05,304L319.4,296.9L322.11,244.6L323.46,204.43L328.87,43.54L330.23,23.09L331.58,16.05L332.93,23.11L334.29,43.5L335.64,75.41L342.41,276.44L343.76,296.87L345.11,303.92L346.47,296.93L349.17,244.63L350.53,204.45L355.94,43.55L357.29,23.15L358.65,16.07L360,23.18L362.71,75.43L364.06,115.55L369.47,276.43L370.83,296.9L372.18,303.96L373.53,296.94L374.89,276.4L376.24,244.64L383.01,43.57L384.36,23.1L385.71,16.04L387.07,23.15L388.42,43.56L389.77,75.44L396.54,276.44L397.89,296.87L399.25,304L400.6,296.92L403.31,244.62L404.66,204.46L410.08,43.56L411.43,23.12L412.78,16.02L414.14,23.13L415.49,43.5L416.84,75.44L423.61,276.48L424.96,296.87L426.32,303.95L427.67,296.92L430.38,244.61L431.73,204.46L437.14,43.55L438.5,23.16L439.85,16.07L441.2,23.14L442.56,43.52L443.91,75.44L450.68,276.51L452.03,296.8L453.38,303.9L454.74,296.89L456.09,276.44L457.44,244.56L464.21,43.57L465.56,23.16L466.92,16.11L468.27,23.16L469.62,43.5L470.98,75.43L477.74,276.52L479.1,296.81L480.45,303.94L481.8,296.88L483.16,276.45L484.51,244.61L491.28,43.53L492.63,23.16L493.98,16.11L495.34,23.16L496.69,43.51L498.05,75.4L504.81,276.52L506.17,296.77L507.52,303.89L508.87,296.86L510.23,276.45L511.58,244.54L518.35,43.57L519.7,23.17L521.05,16.1L522.41,23.13L523.76,43.49L525.11,75.43L531.88,276.46L533.23,296.79L534.59,303.88L535.94,296.88L538.65,244.56L540,204.41\" style=\"vector-effect: non-scaling-stroke; fill: none; stroke: rgb(99, 110, 250); stroke-opacity: 1; stroke-width: 2px; opacity: 1;\"/></g><g class=\"points\"/><g class=\"text\"/></g></g></g><g class=\"overplot\"/><path class=\"xlines-above crisp\" d=\"M0,0\" style=\"fill: none;\"/><path class=\"ylines-above crisp\" d=\"M0,0\" style=\"fill: none;\"/><g class=\"overlines-above\"/><g class=\"xaxislayer-above\"><g class=\"xtick\"><text text-anchor=\"middle\" x=\"0\" y=\"433\" transform=\"translate(80,0)\" style=\"font-family: 'Open Sans', verdana, arial, sans-serif; font-size: 12px; fill: rgb(42, 63, 95); fill-opacity: 1; white-space: pre;\">0.00</text></g><g class=\"xtick\"><text text-anchor=\"middle\" x=\"0\" y=\"433\" transform=\"translate(215.34,0)\" style=\"font-family: 'Open Sans', verdana, arial, sans-serif; font-size: 12px; fill: rgb(42, 63, 95); fill-opacity: 1; white-space: pre;\">5.00</text></g><g class=\"xtick\"><text text-anchor=\"middle\" x=\"0\" y=\"433\" transform=\"translate(350.68,0)\" style=\"font-family: 'Open Sans', verdana, arial, sans-serif; font-size: 12px; fill: rgb(42, 63, 95); fill-opacity: 1; white-space: pre;\">10.00</text></g><g class=\"xtick\"><text text-anchor=\"middle\" x=\"0\" y=\"433\" transform=\"translate(486.02,0)\" style=\"font-family: 'Open Sans', verdana, arial, sans-serif; font-size: 12px; fill: rgb(42, 63, 95); fill-opacity: 1; white-space: pre;\">15.00</text></g></g><g class=\"yaxislayer-above\"><g class=\"ytick\"><text text-anchor=\"end\" x=\"79\" y=\"4.199999999999999\" transform=\"translate(0,406.11)\" style=\"font-family: 'Open Sans', verdana, arial, sans-serif; font-size: 12px; fill: rgb(42, 63, 95); fill-opacity: 1; white-space: pre;\">1.00</text></g><g class=\"ytick\"><text text-anchor=\"end\" x=\"79\" y=\"4.199999999999999\" transform=\"translate(0,334.95)\" style=\"font-family: 'Open Sans', verdana, arial, sans-serif; font-size: 12px; fill: rgb(42, 63, 95); fill-opacity: 1; white-space: pre;\">1.50</text></g><g class=\"ytick\"><text text-anchor=\"end\" x=\"79\" y=\"4.199999999999999\" transform=\"translate(0,263.78)\" style=\"font-family: 'Open Sans', verdana, arial, sans-serif; font-size: 12px; fill: rgb(42, 63, 95); fill-opacity: 1; white-space: pre;\">2.00</text></g><g class=\"ytick\"><text text-anchor=\"end\" x=\"79\" y=\"4.199999999999999\" transform=\"translate(0,192.62)\" style=\"font-family: 'Open Sans', verdana, arial, sans-serif; font-size: 12px; fill: rgb(42, 63, 95); fill-opacity: 1; white-space: pre;\">2.50</text></g><g class=\"ytick\"><text text-anchor=\"end\" x=\"79\" y=\"4.199999999999999\" transform=\"translate(0,121.46000000000001)\" style=\"font-family: 'Open Sans', verdana, arial, sans-serif; font-size: 12px; fill: rgb(42, 63, 95); fill-opacity: 1; white-space: pre;\">3.00</text></g></g><g class=\"overaxes-above\"/></g></g><g class=\"polarlayer\"/><g class=\"ternarylayer\"/><g class=\"geolayer\"/><g class=\"funnelarealayer\"/><g class=\"pielayer\"/><g class=\"treemaplayer\"/><g class=\"sunburstlayer\"/><g class=\"glimages\"/><defs id=\"topdefs-89faba\"><g class=\"clips\"/></defs><g class=\"layer-above\"><g class=\"imagelayer\"/><g class=\"shapelayer\"/></g><g class=\"infolayer\"><g class=\"g-gtitle\"><text class=\"gtitle\" x=\"35\" y=\"50\" text-anchor=\"start\" dy=\"0em\" style=\"font-family: 'Open Sans', verdana, arial, sans-serif; font-size: 17px; fill: rgb(42, 63, 95); opacity: 1; font-weight: normal; white-space: pre;\">Phase demodulated</text></g><g class=\"g-xtitle\"><text class=\"xtitle\" x=\"350\" y=\"460.8\" text-anchor=\"middle\" style=\"font-family: 'Open Sans', verdana, arial, sans-serif; font-size: 14px; fill: rgb(42, 63, 95); opacity: 1; font-weight: normal; white-space: pre;\">Time (s)</text></g><g class=\"g-ytitle\"><text class=\"ytitle\" transform=\"rotate(-90,26.934375000000003,260)\" x=\"26.934375000000003\" y=\"260\" text-anchor=\"middle\" style=\"font-family: 'Open Sans', verdana, arial, sans-serif; font-size: 14px; fill: rgb(42, 63, 95); opacity: 1; font-weight: normal; white-space: pre;\">Phase (rad)</text></g></g></svg>"
      ],
      "text/plain": [
       "<IPython.core.display.SVG object>"
      ]
     },
     "metadata": {},
     "output_type": "display_data"
    }
   ],
   "source": [
    "polar = go.Scatter(\n",
    "    x=timestamp[0, 0, :],\n",
    "    y=demod,\n",
    "    # name='I',\n",
    ")\n",
    "\n",
    "data = [polar]\n",
    "\n",
    "layout = go.Layout(\n",
    "    title='Phase demodulated',\n",
    "    xaxis=dict(tickformat='.2f', title='Time (s)'),\n",
    "    yaxis=dict(tickformat='.2f', title='Phase (rad)'),\n",
    ")\n",
    "\n",
    "fig = go.Figure(data, layout=layout)\n",
    "# iplot(fig)\n",
    "display(SVG(fig.to_image(format='svg', scale=1)))"
   ]
  },
  {
   "cell_type": "code",
   "execution_count": null,
   "metadata": {},
   "outputs": [],
   "source": []
  }
 ],
 "metadata": {
  "kernel_info": {
   "name": "python3"
  },
  "kernelspec": {
   "display_name": "Python 3",
   "language": "python",
   "name": "python3"
  },
  "language_info": {
   "codemirror_mode": {
    "name": "ipython",
    "version": 3
   },
   "file_extension": ".py",
   "mimetype": "text/x-python",
   "name": "python",
   "nbconvert_exporter": "python",
   "pygments_lexer": "ipython3",
   "version": "3.9.1"
  },
  "nteract": {
   "version": "0.12.3"
  },
  "toc": {
   "base_numbering": 1,
   "nav_menu": {},
   "number_sections": true,
   "sideBar": true,
   "skip_h1_title": false,
   "title_cell": "Table of Contents",
   "title_sidebar": "Contents",
   "toc_cell": false,
   "toc_position": {},
   "toc_section_display": true,
   "toc_window_display": false
  },
  "varInspector": {
   "cols": {
    "lenName": 16,
    "lenType": 16,
    "lenVar": 40
   },
   "kernels_config": {
    "python": {
     "delete_cmd_postfix": "",
     "delete_cmd_prefix": "del ",
     "library": "var_list.py",
     "varRefreshCmd": "print(var_dic_list())"
    },
    "r": {
     "delete_cmd_postfix": ") ",
     "delete_cmd_prefix": "rm(",
     "library": "var_list.r",
     "varRefreshCmd": "cat(var_dic_list()) "
    }
   },
   "types_to_exclude": [
    "module",
    "function",
    "builtin_function_or_method",
    "instance",
    "_Feature"
   ],
   "window_display": false
  }
 },
 "nbformat": 4,
 "nbformat_minor": 2
}
