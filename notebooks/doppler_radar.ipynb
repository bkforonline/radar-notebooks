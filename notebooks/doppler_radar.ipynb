{
 "cells": [
  {
   "cell_type": "markdown",
   "metadata": {},
   "source": [
    "# Doppler (Interferometry) Radar\n",
    "\n",
    "<a href=\"https://rookiepeng.github.io/radarsimpy/\" target=\"_blank\" rel=\"nofollow\"><img src=\"https://img.shields.io/badge/Documentation-latest-brightgree?style=flat&logo=read-the-docs\" height=\"20\" align=\"left\"></a>\n",
    "\n",
    "<br></br>\n",
    "This is a Doppler (interferometry) radar simulation example based on [`RadarSimPy`](https://github.com/rookiepeng/radarsimpy).\n",
    "\n",
    "---\n",
    "\n",
    "\n",
    "## Radar Model\n",
    "### Transmitter\n",
    "\n",
    "Setup the basic transmitter parameters through `Transmitter` module.\n",
    "\n",
    "The following table lists the parameters in this example.\n",
    "\n",
    "| Parameter                       | Variable in `Transmitter`| Value      |\n",
    "|---------------------------------|--------------------------|------------|\n",
    "| Frequency ($f$)                 | `f`                      | 24.125 GHz |\n",
    "| Signal length ($T$)             | `t`                      | 20 s       |\n",
    "| Transmitted power ($P_t$)       | `tx_power`               | 10 dBm     |\n",
    "\n",
    "A single transmitter channel is used in this example. The tranmitter channel is located at [0, 0, 0].\n",
    "\n",
    "### Receiver\n",
    "\n",
    "Setup the receiver parameters through `Receiver` module.\n",
    "\n",
    "The parameters of the receiver are listed in the table below.\n",
    "\n",
    "| Parameter                        | Variable in `Receiver`   | Value        |\n",
    "|----------------------------------|--------------------------|--------------|\n",
    "| Sampling rate ($f_s$)            | `fs`                     | 20 sps       |\n",
    "| Noise figure ($NF$)              | `noise_figure`           | 12 dB        |\n",
    "| RF gain/loss ($G_{rf}$)          | `rf_gain`                | 20 dB        |\n",
    "| Baseband gain ($G_{BB}$)         | `baseband_gain`          | 50 dB        |\n",
    "| Load resistor ($R_L$)            | `load_resistor`          | 1000 $\\Omega$|\n",
    "\n",
    "A single receiver channel is used in this example. The receiver channel is located at [0, 0, 0]."
   ]
  },
  {
   "cell_type": "code",
   "execution_count": 1,
   "metadata": {},
   "outputs": [],
   "source": [
    "import numpy as np\n",
    "from radarsimpy import Radar, Transmitter, Receiver\n",
    "\n",
    "# setup transmitter\n",
    "tx = Transmitter(f=24.125e9,\n",
    "                 t=20,\n",
    "                 tx_power=10,\n",
    "                 pulses=1,\n",
    "                 channels=[dict(location=(0, 0, 0))])\n",
    "\n",
    "# setup receiver\n",
    "rx = Receiver(fs=20,\n",
    "              noise_figure=12,\n",
    "              rf_gain=20,\n",
    "              baseband_gain=50,\n",
    "              load_resistor=1000,\n",
    "              channels=[dict(location=(0, 0, 0))])\n",
    "\n",
    "# create radar\n",
    "radar = Radar(transmitter=tx, receiver=rx)"
   ]
  },
  {
   "cell_type": "markdown",
   "metadata": {},
   "source": [
    "### Targets\n",
    "\n",
    "Define a list of targets. There is only one target in this simulaiton. The motion of the target is defined by:\n",
    "\n",
    "`1.4+1e-3*np.sin(2*np.pi*1*radar.timestamp)`\n",
    "\n",
    "`radar.timestamp` is the time matrix of the baseband samples."
   ]
  },
  {
   "cell_type": "code",
   "execution_count": 2,
   "metadata": {},
   "outputs": [],
   "source": [
    "target = dict(location=(1.4+1e-3*np.sin(2*np.pi*1*radar.timestamp), 0, 0),\n",
    "              rcs=-10,\n",
    "              phase=0)\n",
    "\n",
    "targets = [target]"
   ]
  },
  {
   "cell_type": "markdown",
   "metadata": {},
   "source": [
    "## Simulate Baseband Signals\n",
    "\n",
    "Use the `simulator` module to simulate the baseband samples. The user can choose between Python engine `simpy` or C++ engine `simc`.\n",
    "\n",
    "The output baseband data is a 3-D matrix:\n",
    "\n",
    "$[channels, pulses, ADC~samples]$"
   ]
  },
  {
   "cell_type": "code",
   "execution_count": 3,
   "metadata": {},
   "outputs": [],
   "source": [
    "# Python engine\n",
    "from radarsimpy.simulator import simpy\n",
    "# C++ engine\n",
    "from radarsimpy.simulator import simc\n",
    "\n",
    "bb_data = simc(radar, targets)\n",
    "timestamp = bb_data['timestamp']\n",
    "baseband = bb_data['baseband']"
   ]
  },
  {
   "cell_type": "markdown",
   "metadata": {},
   "source": [
    "Plot the baseband"
   ]
  },
  {
   "cell_type": "code",
   "execution_count": 4,
   "metadata": {
    "tags": [
     "remove_cell"
    ]
   },
   "outputs": [
    {
     "data": {
      "image/svg+xml": [
       "<svg xmlns=\"http://www.w3.org/2000/svg\" xmlns:xlink=\"http://www.w3.org/1999/xlink\" class=\"main-svg\" width=\"700\" height=\"500\" style=\"\" viewBox=\"0 0 700 500\"><rect x=\"0\" y=\"0\" width=\"700\" height=\"500\" style=\"fill: rgb(255, 255, 255); fill-opacity: 1;\"/><defs id=\"defs-1eb5f2\"><g class=\"clips\"><clipPath id=\"clip1eb5f2xyplot\" class=\"plotclip\"><rect width=\"540\" height=\"320\"/></clipPath><clipPath class=\"axesclip\" id=\"clip1eb5f2x\"><rect x=\"80\" y=\"0\" width=\"540\" height=\"500\"/></clipPath><clipPath class=\"axesclip\" id=\"clip1eb5f2y\"><rect x=\"0\" y=\"100\" width=\"700\" height=\"320\"/></clipPath><clipPath class=\"axesclip\" id=\"clip1eb5f2xy\"><rect x=\"80\" y=\"100\" width=\"540\" height=\"320\"/></clipPath></g><g class=\"gradients\"/></defs><g class=\"bglayer\"><rect class=\"bg\" x=\"80\" y=\"100\" width=\"540\" height=\"320\" style=\"fill: rgb(229, 236, 246); fill-opacity: 1; stroke-width: 0;\"/></g><g class=\"layer-below\"><g class=\"imagelayer\"/><g class=\"shapelayer\"/></g><g class=\"cartesianlayer\"><g class=\"subplot xy\"><g class=\"layer-subplot\"><g class=\"shapelayer\"/><g class=\"imagelayer\"/></g><g class=\"gridlayer\"><g class=\"x\"><path class=\"xgrid crisp\" transform=\"translate(215.34,0)\" d=\"M0,100v320\" style=\"stroke: rgb(255, 255, 255); stroke-opacity: 1; stroke-width: 1px;\"/><path class=\"xgrid crisp\" transform=\"translate(350.68,0)\" d=\"M0,100v320\" style=\"stroke: rgb(255, 255, 255); stroke-opacity: 1; stroke-width: 1px;\"/><path class=\"xgrid crisp\" transform=\"translate(486.02,0)\" d=\"M0,100v320\" style=\"stroke: rgb(255, 255, 255); stroke-opacity: 1; stroke-width: 1px;\"/></g><g class=\"y\"><path class=\"ygrid crisp\" transform=\"translate(0,396.64)\" d=\"M80,0h540\" style=\"stroke: rgb(255, 255, 255); stroke-opacity: 1; stroke-width: 1px;\"/><path class=\"ygrid crisp\" transform=\"translate(0,351.05)\" d=\"M80,0h540\" style=\"stroke: rgb(255, 255, 255); stroke-opacity: 1; stroke-width: 1px;\"/><path class=\"ygrid crisp\" transform=\"translate(0,305.46000000000004)\" d=\"M80,0h540\" style=\"stroke: rgb(255, 255, 255); stroke-opacity: 1; stroke-width: 1px;\"/><path class=\"ygrid crisp\" transform=\"translate(0,214.29000000000002)\" d=\"M80,0h540\" style=\"stroke: rgb(255, 255, 255); stroke-opacity: 1; stroke-width: 1px;\"/><path class=\"ygrid crisp\" transform=\"translate(0,168.70999999999998)\" d=\"M80,0h540\" style=\"stroke: rgb(255, 255, 255); stroke-opacity: 1; stroke-width: 1px;\"/><path class=\"ygrid crisp\" transform=\"translate(0,123.12)\" d=\"M80,0h540\" style=\"stroke: rgb(255, 255, 255); stroke-opacity: 1; stroke-width: 1px;\"/></g></g><g class=\"zerolinelayer\"><path class=\"xzl zl crisp\" transform=\"translate(80,0)\" d=\"M0,100v320\" style=\"stroke: rgb(255, 255, 255); stroke-opacity: 1; stroke-width: 2px;\"/><path class=\"yzl zl crisp\" transform=\"translate(0,259.88)\" d=\"M80,0h540\" style=\"stroke: rgb(255, 255, 255); stroke-opacity: 1; stroke-width: 2px;\"/></g><path class=\"xlines-below\"/><path class=\"ylines-below\"/><g class=\"overlines-below\"/><g class=\"xaxislayer-below\"/><g class=\"yaxislayer-below\"/><g class=\"overaxes-below\"/><g class=\"plot\" transform=\"translate(80,100)\" clip-path=\"url('#clip1eb5f2xyplot')\"><g class=\"scatterlayer mlayer\"><g class=\"trace scatter trace1d3eaf\" style=\"stroke-miterlimit: 2; opacity: 1;\"><g class=\"fills\"/><g class=\"errorbars\"/><g class=\"lines\"><path class=\"js-line\" d=\"M0,223.73L2.71,285.64L4.06,298.44L5.41,303.06L6.77,303.96L8.12,303.06L9.47,298.49L10.83,285.65L12.18,260.72L17.59,108.37L18.95,89.53L20.3,83.24L21.65,89.45L23.01,108.43L24.36,139.84L29.77,285.66L31.13,298.47L32.48,303.03L33.83,303.94L35.19,303.09L36.54,298.45L37.89,285.63L39.25,260.66L44.66,108.39L46.02,89.47L47.37,83.23L48.72,89.5L50.08,108.42L51.43,139.81L56.84,285.64L58.2,298.45L59.55,303.11L60.9,303.98L62.26,303.05L63.61,298.44L64.96,285.61L66.32,260.63L71.73,108.39L73.08,89.44L74.44,83.26L75.79,89.46L77.14,108.39L78.5,139.85L83.91,285.68L85.26,298.42L86.62,303.06L87.97,303.98L89.32,303.12L90.68,298.47L92.03,285.63L93.38,260.58L98.8,108.38L100.15,89.45L101.5,83.3L102.86,89.44L104.21,108.34L105.56,139.82L110.98,285.64L112.33,298.48L113.68,303.03L115.04,303.98L116.39,303.09L117.74,298.43L119.1,285.64L120.45,260.62L125.86,108.45L127.22,89.49L128.57,83.27L129.92,89.45L131.28,108.35L132.63,139.83L138.05,285.61L139.4,298.44L140.75,303.07L142.11,303.97L143.46,303.1L144.81,298.4L146.17,285.63L147.52,260.69L152.93,108.42L154.29,89.46L155.64,83.29L156.99,89.43L158.35,108.41L159.7,139.76L165.11,285.64L166.47,298.49L167.82,303.05L169.17,303.98L170.53,303.07L171.88,298.44L173.23,285.63L174.59,260.69L180,108.43L181.35,89.47L182.71,83.3L184.06,89.45L185.41,108.43L186.77,139.86L192.18,285.64L193.53,298.48L194.89,303.04L196.24,303.96L197.59,303.08L198.95,298.45L200.3,285.66L201.65,260.64L207.07,108.39L208.42,89.46L209.77,83.29L211.13,89.46L212.48,108.41L213.83,139.82L219.25,285.65L220.6,298.45L221.95,303.05L223.31,304L224.66,303.04L226.02,298.44L227.37,285.59L228.72,260.66L234.14,108.37L235.49,89.46L236.84,83.23L238.2,89.46L239.55,108.41L240.9,139.77L246.32,285.61L247.67,298.44L249.02,303.03L250.38,303.95L251.73,303.08L253.08,298.42L254.44,285.59L255.79,260.66L261.2,108.38L262.56,89.46L263.91,83.24L265.26,89.53L266.62,108.36L267.97,139.8L273.38,285.65L274.74,298.42L276.09,303.05L277.44,303.92L278.8,303.09L280.15,298.49L281.5,285.64L282.86,260.68L288.27,108.44L289.62,89.41L290.98,83.22L292.33,89.48L293.68,108.44L295.04,139.78L300.45,285.62L301.8,298.47L303.16,303.06L304.51,303.97L305.86,303.07L307.22,298.44L308.57,285.62L309.92,260.73L315.34,108.37L316.69,89.55L318.05,83.23L319.4,89.43L320.75,108.48L322.11,139.77L327.52,285.6L328.87,298.48L330.23,303.09L331.58,303.95L332.93,303.03L334.29,298.45L335.64,285.68L336.99,260.66L342.41,108.39L343.76,89.5L345.11,83.25L346.47,89.42L347.82,108.4L349.17,139.82L354.59,285.56L355.94,298.44L357.29,303.12L358.65,303.99L360,303.06L361.35,298.44L362.71,285.64L364.06,260.66L369.47,108.38L370.83,89.51L372.18,83.24L373.53,89.42L374.89,108.45L376.24,139.8L381.65,285.62L383.01,298.4L384.36,303.09L385.71,303.98L387.07,303.09L388.42,298.45L389.77,285.6L391.13,260.67L396.54,108.4L397.89,89.52L399.25,83.25L400.6,89.4L401.95,108.42L403.31,139.78L408.72,285.61L410.08,298.45L411.43,303.06L412.78,303.98L414.14,303.07L415.49,298.45L416.84,285.62L418.2,260.73L423.61,108.35L424.96,89.45L426.32,83.24L427.67,89.38L429.02,108.47L430.38,139.78L435.79,285.67L437.14,298.42L438.5,303.09L439.85,303.99L441.2,303.06L442.56,298.45L443.91,285.63L445.26,260.68L450.68,108.31L452.03,89.47L453.38,83.32L454.74,89.55L456.09,108.44L457.44,139.8L462.86,285.65L464.21,298.43L465.56,303.07L466.92,303.97L468.27,303L469.62,298.47L470.98,285.64L472.33,260.65L477.74,108.32L479.1,89.6L480.45,83.26L481.8,89.49L483.16,108.4L484.51,139.84L489.92,285.63L491.28,298.49L492.63,303.07L493.98,303.94L495.34,303.08L496.69,298.42L498.05,285.6L499.4,260.69L504.81,108.32L506.17,89.56L507.52,83.26L508.87,89.49L510.23,108.4L511.58,139.82L516.99,285.66L518.35,298.43L519.7,303.06L521.05,303.95L522.41,303.06L523.76,298.44L525.11,285.59L526.47,260.69L531.88,108.3L533.23,89.53L534.59,83.3L535.94,89.44L537.29,108.36L538.65,139.87L540,180.59\" style=\"vector-effect: non-scaling-stroke; fill: none; stroke: rgb(99, 110, 250); stroke-opacity: 1; stroke-width: 2px; opacity: 1;\"/></g><g class=\"points\"/><g class=\"text\"/></g><g class=\"trace scatter trace538bf5\" style=\"stroke-miterlimit: 2; opacity: 1;\"><g class=\"fills\"/><g class=\"errorbars\"/><g class=\"lines\"><path class=\"js-line\" d=\"M0,29.64L5.41,137.77L6.77,144.87L8.12,137.73L9.47,117.44L13.53,29.58L14.89,16.23L16.24,16.04L17.59,24.05L18.95,32.78L20.3,36.43L21.65,32.74L23.01,24.07L24.36,16.09L25.71,16.18L27.07,29.64L28.42,55.58L32.48,137.78L33.83,144.84L35.19,137.77L36.54,117.5L40.6,29.65L41.95,16.2L43.31,16.11L44.66,24.06L46.02,32.77L47.37,36.42L48.72,32.8L50.08,24.04L51.43,16.07L52.78,16.28L54.14,29.6L55.49,55.65L59.55,137.77L60.9,144.92L62.26,137.73L63.61,117.49L67.67,29.61L69.02,16.27L70.38,16.05L71.73,24.05L73.08,32.78L74.44,36.43L75.79,32.78L77.14,24.05L78.5,16.06L79.85,16.25L81.2,29.62L82.56,55.57L86.62,137.8L87.97,144.86L89.32,137.76L90.68,117.51L94.74,29.61L96.09,16.23L97.44,16.08L98.8,24.08L100.15,32.79L101.5,36.43L102.86,32.79L104.21,24.09L105.56,16.07L106.92,16.21L108.27,29.58L109.62,55.64L113.68,137.77L115.04,144.87L116.39,137.76L117.74,117.48L121.8,29.63L123.16,16.19L124.51,16.06L125.86,24.02L127.22,32.8L128.57,36.45L129.92,32.81L131.28,24.11L132.63,16.11L133.98,16.24L135.34,29.62L136.69,55.61L140.75,137.78L142.11,144.91L143.46,137.78L144.81,117.47L148.87,29.62L150.23,16.27L151.58,16.07L152.93,24.03L154.29,32.79L155.64,36.46L156.99,32.81L158.35,24.06L159.7,16.13L161.05,16.18L162.41,29.62L163.76,55.58L167.82,137.73L169.17,144.91L170.53,137.75L171.88,117.53L175.94,29.63L177.29,16.21L178.65,16.02L180,24.08L181.35,32.81L182.71,36.38L184.06,32.79L185.41,24.04L186.77,16.05L188.12,16.23L189.47,29.56L190.83,55.58L194.89,137.76L196.24,144.85L197.59,137.8L198.95,117.48L203.01,29.57L204.36,16.24L205.71,16.06L207.07,24.03L208.42,32.82L209.77,36.42L211.13,32.81L212.48,24.04L213.83,16.09L215.19,16.23L216.54,29.61L217.89,55.66L221.95,137.79L223.31,144.94L224.66,137.81L226.02,117.53L230.08,29.62L231.43,16.24L232.78,16.1L234.14,24.07L235.49,32.8L236.84,36.46L238.2,32.8L239.55,24.06L240.9,16.13L242.26,16.23L243.61,29.6L244.96,55.59L249.02,137.74L250.38,144.87L251.73,137.81L253.08,117.47L257.14,29.55L258.5,16.25L259.85,16.08L261.2,24.06L262.56,32.83L263.91,36.44L265.26,32.77L266.62,24.08L267.97,16.07L269.32,16.2L270.68,29.57L272.03,55.62L276.09,137.82L277.44,144.87L278.8,137.79L280.15,117.48L284.21,29.61L285.56,16.24L286.92,16.04L288.27,24.07L289.62,32.77L290.98,36.44L292.33,32.8L293.68,24.08L295.04,16.1L296.39,16.23L297.74,29.6L299.1,55.58L303.16,137.72L304.51,144.89L305.86,137.84L307.22,117.56L311.28,29.62L312.63,16.22L313.98,16.1L315.34,24.11L316.69,32.85L318.05,36.48L319.4,32.84L320.75,24.05L322.11,16.03L323.46,16.19L324.81,29.62L326.17,55.65L330.23,137.83L331.58,144.93L332.93,137.73L334.29,117.46L338.35,29.66L339.7,16.2L341.05,16.08L342.41,24.09L343.76,32.79L345.11,36.42L346.47,32.83L347.82,24.01L349.17,16.11L350.53,16.27L351.88,29.66L353.23,55.65L357.29,137.75L358.65,144.87L360,137.75L361.35,117.48L365.41,29.61L366.77,16.2L368.12,16.13L369.47,24.06L370.83,32.79L372.18,36.48L373.53,32.86L374.89,24.04L376.24,16.07L377.59,16.25L378.95,29.59L380.3,55.65L384.36,137.78L385.71,144.92L387.07,137.74L388.42,117.45L392.48,29.56L393.83,16.22L395.19,16L396.54,24.09L397.89,32.83L399.25,36.48L400.6,32.85L401.95,24.03L403.31,16.11L404.66,16.18L406.02,29.68L407.37,55.63L411.43,137.77L412.78,144.91L414.14,137.7L415.49,117.53L419.55,29.61L420.9,16.21L422.26,16.07L423.61,24.07L424.96,32.81L426.32,36.47L427.67,32.79L429.02,24.08L430.38,16.08L431.73,16.2L433.08,29.67L434.44,55.63L438.5,137.71L439.85,144.8L441.2,137.7L442.56,117.58L446.62,29.6L447.97,16.24L449.32,16.08L450.68,24.06L452.03,32.75L453.38,36.47L454.74,32.81L456.09,24.05L457.44,16.07L458.8,16.22L460.15,29.6L461.5,55.63L465.56,137.77L466.92,144.85L468.27,137.76L469.62,117.56L473.68,29.61L475.04,16.28L476.39,16.06L477.74,24.04L479.1,32.76L480.45,36.4L481.8,32.8L483.16,24.07L484.51,16.08L485.86,16.24L487.22,29.59L488.57,55.56L492.63,137.74L493.98,144.9L495.34,137.71L496.69,117.53L500.75,29.59L502.11,16.21L503.46,16.08L504.81,24.1L506.17,32.78L507.52,36.48L508.87,32.81L510.23,24.04L511.58,16.08L512.93,16.25L514.29,29.66L515.64,55.59L519.7,137.74L521.05,144.86L522.41,137.78L523.76,117.54L527.82,29.57L529.17,16.23L530.53,16.09L531.88,24.09L533.23,32.75L534.59,36.41L535.94,32.8L537.29,24.06L538.65,16.05L540,16.26\" style=\"vector-effect: non-scaling-stroke; fill: none; stroke: rgb(239, 85, 59); stroke-opacity: 1; stroke-width: 2px; opacity: 1;\"/></g><g class=\"points\"/><g class=\"text\"/></g></g></g><g class=\"overplot\"/><path class=\"xlines-above crisp\" style=\"fill: none;\" d=\"M0,0\"/><path class=\"ylines-above crisp\" style=\"fill: none;\" d=\"M0,0\"/><g class=\"overlines-above\"/><g class=\"xaxislayer-above\"><g class=\"xtick\"><text text-anchor=\"middle\" x=\"0\" y=\"433\" transform=\"translate(80,0)\" style=\"font-family: 'Open Sans', verdana, arial, sans-serif; font-size: 12px; fill: rgb(42, 63, 95); fill-opacity: 1; white-space: pre;\">0</text></g><g class=\"xtick\"><text text-anchor=\"middle\" x=\"0\" y=\"433\" transform=\"translate(215.34,0)\" style=\"font-family: 'Open Sans', verdana, arial, sans-serif; font-size: 12px; fill: rgb(42, 63, 95); fill-opacity: 1; white-space: pre;\">5</text></g><g class=\"xtick\"><text text-anchor=\"middle\" x=\"0\" y=\"433\" transform=\"translate(350.68,0)\" style=\"font-family: 'Open Sans', verdana, arial, sans-serif; font-size: 12px; fill: rgb(42, 63, 95); fill-opacity: 1; white-space: pre;\">10</text></g><g class=\"xtick\"><text text-anchor=\"middle\" x=\"0\" y=\"433\" transform=\"translate(486.02,0)\" style=\"font-family: 'Open Sans', verdana, arial, sans-serif; font-size: 12px; fill: rgb(42, 63, 95); fill-opacity: 1; white-space: pre;\">15</text></g></g><g class=\"yaxislayer-above\"><g class=\"ytick\"><text text-anchor=\"end\" x=\"79\" y=\"4.199999999999999\" transform=\"translate(0,396.64)\" style=\"font-family: 'Open Sans', verdana, arial, sans-serif; font-size: 12px; fill: rgb(42, 63, 95); fill-opacity: 1; white-space: pre;\">−0.6</text></g><g class=\"ytick\"><text text-anchor=\"end\" x=\"79\" y=\"4.199999999999999\" transform=\"translate(0,351.05)\" style=\"font-family: 'Open Sans', verdana, arial, sans-serif; font-size: 12px; fill: rgb(42, 63, 95); fill-opacity: 1; white-space: pre;\">−0.4</text></g><g class=\"ytick\"><text text-anchor=\"end\" x=\"79\" y=\"4.199999999999999\" transform=\"translate(0,305.46000000000004)\" style=\"font-family: 'Open Sans', verdana, arial, sans-serif; font-size: 12px; fill: rgb(42, 63, 95); fill-opacity: 1; white-space: pre;\">−0.2</text></g><g class=\"ytick\"><text text-anchor=\"end\" x=\"79\" y=\"4.199999999999999\" transform=\"translate(0,259.88)\" style=\"font-family: 'Open Sans', verdana, arial, sans-serif; font-size: 12px; fill: rgb(42, 63, 95); fill-opacity: 1; white-space: pre;\">0</text></g><g class=\"ytick\"><text text-anchor=\"end\" x=\"79\" y=\"4.199999999999999\" transform=\"translate(0,214.29000000000002)\" style=\"font-family: 'Open Sans', verdana, arial, sans-serif; font-size: 12px; fill: rgb(42, 63, 95); fill-opacity: 1; white-space: pre;\">0.2</text></g><g class=\"ytick\"><text text-anchor=\"end\" x=\"79\" y=\"4.199999999999999\" transform=\"translate(0,168.70999999999998)\" style=\"font-family: 'Open Sans', verdana, arial, sans-serif; font-size: 12px; fill: rgb(42, 63, 95); fill-opacity: 1; white-space: pre;\">0.4</text></g><g class=\"ytick\"><text text-anchor=\"end\" x=\"79\" y=\"4.199999999999999\" transform=\"translate(0,123.12)\" style=\"font-family: 'Open Sans', verdana, arial, sans-serif; font-size: 12px; fill: rgb(42, 63, 95); fill-opacity: 1; white-space: pre;\">0.6</text></g></g><g class=\"overaxes-above\"/></g></g><g class=\"polarlayer\"/><g class=\"ternarylayer\"/><g class=\"geolayer\"/><g class=\"funnelarealayer\"/><g class=\"pielayer\"/><g class=\"treemaplayer\"/><g class=\"sunburstlayer\"/><g class=\"glimages\"/><defs id=\"topdefs-1eb5f2\"><g class=\"clips\"/><clipPath id=\"legend1eb5f2\"><rect width=\"55\" height=\"48\" x=\"0\" y=\"0\"/></clipPath></defs><g class=\"layer-above\"><g class=\"imagelayer\"/><g class=\"shapelayer\"/></g><g class=\"infolayer\"><g class=\"legend\" pointer-events=\"all\" transform=\"translate(630.8,100)\"><rect class=\"bg\" shape-rendering=\"crispEdges\" style=\"stroke: rgb(68, 68, 68); stroke-opacity: 1; fill: rgb(255, 255, 255); fill-opacity: 1; stroke-width: 0px;\" width=\"55\" height=\"48\" x=\"0\" y=\"0\"/><g class=\"scrollbox\" transform=\"\" clip-path=\"url('#legend1eb5f2')\"><g class=\"groups\"><g class=\"traces\" style=\"opacity: 1;\" transform=\"translate(0,14.5)\"><text class=\"legendtext\" text-anchor=\"start\" x=\"40\" y=\"4.680000000000001\" style=\"font-family: 'Open Sans', verdana, arial, sans-serif; font-size: 12px; fill: rgb(42, 63, 95); fill-opacity: 1; white-space: pre;\">I</text><g class=\"layers\" style=\"opacity: 1;\"><g class=\"legendfill\"/><g class=\"legendlines\"><path class=\"js-line\" d=\"M5,0h30\" style=\"fill: none; stroke: rgb(99, 110, 250); stroke-opacity: 1; stroke-width: 2px;\"/></g><g class=\"legendsymbols\"><g class=\"legendpoints\"/></g></g><rect class=\"legendtoggle\" x=\"0\" y=\"-9.5\" width=\"49.5\" height=\"19\" style=\"fill: rgb(0, 0, 0); fill-opacity: 0;\"/></g><g class=\"traces\" style=\"opacity: 1;\" transform=\"translate(0,33.5)\"><text class=\"legendtext\" text-anchor=\"start\" x=\"40\" y=\"4.680000000000001\" style=\"font-family: 'Open Sans', verdana, arial, sans-serif; font-size: 12px; fill: rgb(42, 63, 95); fill-opacity: 1; white-space: pre;\">Q</text><g class=\"layers\" style=\"opacity: 1;\"><g class=\"legendfill\"/><g class=\"legendlines\"><path class=\"js-line\" d=\"M5,0h30\" style=\"fill: none; stroke: rgb(239, 85, 59); stroke-opacity: 1; stroke-width: 2px;\"/></g><g class=\"legendsymbols\"><g class=\"legendpoints\"/></g></g><rect class=\"legendtoggle\" x=\"0\" y=\"-9.5\" width=\"49.5\" height=\"19\" style=\"fill: rgb(0, 0, 0); fill-opacity: 0;\"/></g></g></g><rect class=\"scrollbar\" rx=\"20\" ry=\"3\" width=\"0\" height=\"0\" style=\"fill: rgb(128, 139, 164); fill-opacity: 1;\" x=\"0\" y=\"0\"/></g><g class=\"g-gtitle\"><text class=\"gtitle\" x=\"35\" y=\"50\" text-anchor=\"start\" dy=\"0em\" style=\"font-family: 'Open Sans', verdana, arial, sans-serif; font-size: 17px; fill: rgb(42, 63, 95); opacity: 1; font-weight: normal; white-space: pre;\">I/Q Baseband Signals</text></g><g class=\"g-xtitle\"><text class=\"xtitle\" x=\"350\" y=\"460.3\" text-anchor=\"middle\" style=\"font-family: 'Open Sans', verdana, arial, sans-serif; font-size: 14px; fill: rgb(42, 63, 95); opacity: 1; font-weight: normal; white-space: pre;\">Time (s)</text></g><g class=\"g-ytitle\"><text class=\"ytitle\" transform=\"rotate(-90,24.746875000000003,260)\" x=\"24.746875000000003\" y=\"260\" text-anchor=\"middle\" style=\"font-family: 'Open Sans', verdana, arial, sans-serif; font-size: 14px; fill: rgb(42, 63, 95); opacity: 1; font-weight: normal; white-space: pre;\">Amplitude (V)</text></g></g></svg>"
      ],
      "text/plain": [
       "<IPython.core.display.SVG object>"
      ]
     },
     "metadata": {},
     "output_type": "display_data"
    }
   ],
   "source": [
    "import plotly.graph_objs as go\n",
    "from IPython.display import SVG, display\n",
    "\n",
    "fig = go.Figure()\n",
    "\n",
    "fig.add_trace(go.Scatter(\n",
    "    x=timestamp[0, 0, :],\n",
    "    y=np.real(baseband[0, 0, :]),\n",
    "    name='I',\n",
    "))\n",
    "fig.add_trace(go.Scatter(\n",
    "    x=timestamp[0, 0, :],\n",
    "    y=np.imag(baseband[0, 0, :]),\n",
    "    name='Q',\n",
    "))\n",
    "\n",
    "fig.update_layout(\n",
    "    title='I/Q Baseband Signals',\n",
    "    yaxis=dict(title='Amplitude (V)'),\n",
    "    xaxis=dict(title='Time (s)'),\n",
    ")\n",
    "\n",
    "# fig.show()\n",
    "display(SVG(fig.to_image(format='svg', scale=1)))"
   ]
  },
  {
   "cell_type": "code",
   "execution_count": null,
   "metadata": {},
   "outputs": [],
   "source": [
    "fig = go.Figure()\n",
    "\n",
    "fig.add_trace(go.Scatter(\n",
    "    x=np.real(baseband[0, 0, :]),\n",
    "    y=np.imag(baseband[0, 0, :]),\n",
    "))\n",
    "\n",
    "fig.update_layout(\n",
    "    title='I/Q Constellation Plot',\n",
    "    xaxis=dict(range=[-1, 1], tickformat='.2f', title='In-phase (V)'),\n",
    "    yaxis=dict(range=[-1, 1],\n",
    "               tickformat='.2f',\n",
    "               title='Quadrature (V)',\n",
    "               scaleanchor=\"x\",\n",
    "               scaleratio=1),\n",
    "    height=600,\n",
    "    width=600,\n",
    ")\n",
    "\n",
    "# fig.show()\n",
    "display(SVG(fig.to_image(format='svg', scale=1)))"
   ]
  },
  {
   "cell_type": "markdown",
   "metadata": {},
   "source": [
    "## Phase demodulation\n",
    "\n",
    "Demodulate the phase of the baseband signal"
   ]
  },
  {
   "cell_type": "code",
   "execution_count": null,
   "metadata": {},
   "outputs": [],
   "source": [
    "demod = np.angle(baseband[0, 0, :])"
   ]
  },
  {
   "cell_type": "markdown",
   "metadata": {},
   "source": [
    "Plot"
   ]
  },
  {
   "cell_type": "code",
   "execution_count": null,
   "metadata": {},
   "outputs": [],
   "source": [
    "fig = go.Figure()\n",
    "fig.add_trace(go.Scatter(\n",
    "    x=timestamp[0, 0, :],\n",
    "    y=demod,\n",
    "))\n",
    "\n",
    "fig.update_layout(\n",
    "    title='Phase demodulated',\n",
    "    xaxis=dict(tickformat='.2f', title='Time (s)'),\n",
    "    yaxis=dict(tickformat='.2f', title='Phase (rad)'),\n",
    ")\n",
    "\n",
    "# fig.show()\n",
    "display(SVG(fig.to_image(format='svg', scale=1)))"
   ]
  },
  {
   "cell_type": "code",
   "execution_count": null,
   "metadata": {},
   "outputs": [],
   "source": []
  }
 ],
 "metadata": {
  "kernel_info": {
   "name": "python3"
  },
  "kernelspec": {
   "display_name": "Python 3",
   "language": "python",
   "name": "python3"
  },
  "language_info": {
   "codemirror_mode": {
    "name": "ipython",
    "version": 3
   },
   "file_extension": ".py",
   "mimetype": "text/x-python",
   "name": "python",
   "nbconvert_exporter": "python",
   "pygments_lexer": "ipython3",
   "version": "3.9.4"
  },
  "nteract": {
   "version": "0.12.3"
  },
  "toc": {
   "base_numbering": 1,
   "nav_menu": {},
   "number_sections": true,
   "sideBar": true,
   "skip_h1_title": false,
   "title_cell": "Table of Contents",
   "title_sidebar": "Contents",
   "toc_cell": false,
   "toc_position": {},
   "toc_section_display": true,
   "toc_window_display": false
  },
  "toc-showcode": false,
  "varInspector": {
   "cols": {
    "lenName": 16,
    "lenType": 16,
    "lenVar": 40
   },
   "kernels_config": {
    "python": {
     "delete_cmd_postfix": "",
     "delete_cmd_prefix": "del ",
     "library": "var_list.py",
     "varRefreshCmd": "print(var_dic_list())"
    },
    "r": {
     "delete_cmd_postfix": ") ",
     "delete_cmd_prefix": "rm(",
     "library": "var_list.r",
     "varRefreshCmd": "cat(var_dic_list()) "
    }
   },
   "types_to_exclude": [
    "module",
    "function",
    "builtin_function_or_method",
    "instance",
    "_Feature"
   ],
   "window_display": false
  }
 },
 "nbformat": 4,
 "nbformat_minor": 4
}
