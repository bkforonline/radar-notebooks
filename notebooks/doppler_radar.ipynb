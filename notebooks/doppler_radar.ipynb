{
 "cells": [
  {
   "cell_type": "markdown",
   "metadata": {},
   "source": [
    "# Doppler (Interferometry) Radar\n",
    "\n",
    "<a href=\"https://rookiepeng.github.io/radarsimpy/\" target=\"_blank\" rel=\"nofollow\"><img src=\"https://img.shields.io/badge/Documentation-latest-brightgree?style=flat&logo=read-the-docs\" height=\"20\" align=\"left\"></a>\n",
    "\n",
    "<br></br>\n",
    "This is a Doppler (interferometry) radar simulation example based on [`RadarSimPy`](https://github.com/rookiepeng/radarsimpy).\n",
    "\n",
    "---\n",
    "\n",
    "\n",
    "## Radar Model\n",
    "### Transmitter\n",
    "\n",
    "Setup the basic transmitter parameters through `Transmitter` module.\n",
    "\n",
    "The following table lists the parameters in this example.\n",
    "\n",
    "| Parameter                       | Variable in `Transmitter`| Value      |\n",
    "|---------------------------------|--------------------------|------------|\n",
    "| Frequency ($f$)                 | `f`                      | 24.125 GHz |\n",
    "| Signal length ($T$)             | `t`                      | 20 s       |\n",
    "| Transmitted power ($P_t$)       | `tx_power`               | 10 dBm     |\n",
    "\n",
    "A single transmitter channel is used in this example. The tranmitter channel is located at [0, 0, 0].\n",
    "\n",
    "### Receiver\n",
    "\n",
    "Setup the receiver parameters through `Receiver` module.\n",
    "\n",
    "The parameters of the receiver are listed in the table below.\n",
    "\n",
    "| Parameter                        | Variable in `Receiver`   | Value        |\n",
    "|----------------------------------|--------------------------|--------------|\n",
    "| Sampling rate ($f_s$)            | `fs`                     | 20 sps       |\n",
    "| Noise figure ($NF$)              | `noise_figure`           | 12 dB        |\n",
    "| RF gain/loss ($G_{rf}$)          | `rf_gain`                | 20 dB        |\n",
    "| Baseband gain ($G_{BB}$)         | `baseband_gain`          | 50 dB        |\n",
    "| Load resistor ($R_L$)            | `load_resistor`          | 1000 $\\Omega$|\n",
    "\n",
    "A single receiver channel is used in this example. The receiver channel is located at [0, 0, 0]."
   ]
  },
  {
   "cell_type": "code",
   "execution_count": 1,
   "metadata": {},
   "outputs": [],
   "source": [
    "import numpy as np\n",
    "from radarsimpy import Radar, Transmitter, Receiver\n",
    "\n",
    "# setup transmitter\n",
    "tx = Transmitter(f=24.125e9,\n",
    "                 t=20,\n",
    "                 tx_power=10,\n",
    "                 pulses=1,\n",
    "                 channels=[dict(location=(0, 0, 0))])\n",
    "\n",
    "# setup receiver\n",
    "rx = Receiver(fs=20,\n",
    "              noise_figure=12,\n",
    "              rf_gain=20,\n",
    "              baseband_gain=50,\n",
    "              load_resistor=1000,\n",
    "              channels=[dict(location=(0, 0, 0))])\n",
    "\n",
    "# create radar\n",
    "radar = Radar(transmitter=tx, receiver=rx)"
   ]
  },
  {
   "cell_type": "markdown",
   "metadata": {},
   "source": [
    "### Targets\n",
    "\n",
    "Define a list of targets. There is only one target in this simulaiton. The motion of the target is defined by:\n",
    "\n",
    "`1.4+1e-3*np.sin(2*np.pi*1*radar.timestamp)`\n",
    "\n",
    "`radar.timestamp` is the time matrix of the baseband samples."
   ]
  },
  {
   "cell_type": "code",
   "execution_count": 2,
   "metadata": {},
   "outputs": [],
   "source": [
    "target = dict(location=(1.4+1e-3*np.sin(2*np.pi*1*radar.timestamp), 0, 0),\n",
    "              rcs=-10,\n",
    "              phase=0)\n",
    "\n",
    "targets = [target]"
   ]
  },
  {
   "cell_type": "markdown",
   "metadata": {},
   "source": [
    "## Simulate Baseband Signals\n",
    "\n",
    "Use the `simulator` module to simulate the baseband samples. The user can choose between Python engine `simpy` or C++ engine `simc`.\n",
    "\n",
    "The output baseband data is a 3-D matrix:\n",
    "\n",
    "$[channels, pulses, ADC~samples]$"
   ]
  },
  {
   "cell_type": "code",
   "execution_count": 3,
   "metadata": {},
   "outputs": [],
   "source": [
    "# Python engine\n",
    "from radarsimpy.simulator import simpy\n",
    "# C++ engine\n",
    "from radarsimpy.simulator import simc\n",
    "\n",
    "bb_data = simc(radar, targets)\n",
    "timestamp = bb_data['timestamp']\n",
    "baseband = bb_data['baseband']"
   ]
  },
  {
   "cell_type": "markdown",
   "metadata": {},
   "source": [
    "Plot the baseband"
   ]
  },
  {
   "cell_type": "code",
   "execution_count": 4,
   "metadata": {
    "tags": [
     "remove_cell"
    ]
   },
   "outputs": [
    {
     "data": {
      "image/svg+xml": [
       "<svg xmlns=\"http://www.w3.org/2000/svg\" xmlns:xlink=\"http://www.w3.org/1999/xlink\" class=\"main-svg\" width=\"700\" height=\"500\" style=\"\" viewBox=\"0 0 700 500\"><rect x=\"0\" y=\"0\" width=\"700\" height=\"500\" style=\"fill: rgb(255, 255, 255); fill-opacity: 1;\"/><defs id=\"defs-da35ff\"><g class=\"clips\"><clipPath id=\"clipda35ffxyplot\" class=\"plotclip\"><rect width=\"540\" height=\"320\"/></clipPath><clipPath class=\"axesclip\" id=\"clipda35ffx\"><rect x=\"80\" y=\"0\" width=\"540\" height=\"500\"/></clipPath><clipPath class=\"axesclip\" id=\"clipda35ffy\"><rect x=\"0\" y=\"100\" width=\"700\" height=\"320\"/></clipPath><clipPath class=\"axesclip\" id=\"clipda35ffxy\"><rect x=\"80\" y=\"100\" width=\"540\" height=\"320\"/></clipPath></g><g class=\"gradients\"/></defs><g class=\"bglayer\"><rect class=\"bg\" x=\"80\" y=\"100\" width=\"540\" height=\"320\" style=\"fill: rgb(229, 236, 246); fill-opacity: 1; stroke-width: 0;\"/></g><g class=\"layer-below\"><g class=\"imagelayer\"/><g class=\"shapelayer\"/></g><g class=\"cartesianlayer\"><g class=\"subplot xy\"><g class=\"layer-subplot\"><g class=\"shapelayer\"/><g class=\"imagelayer\"/></g><g class=\"gridlayer\"><g class=\"x\"><path class=\"xgrid crisp\" transform=\"translate(215.34,0)\" d=\"M0,100v320\" style=\"stroke: rgb(255, 255, 255); stroke-opacity: 1; stroke-width: 1px;\"/><path class=\"xgrid crisp\" transform=\"translate(350.68,0)\" d=\"M0,100v320\" style=\"stroke: rgb(255, 255, 255); stroke-opacity: 1; stroke-width: 1px;\"/><path class=\"xgrid crisp\" transform=\"translate(486.02,0)\" d=\"M0,100v320\" style=\"stroke: rgb(255, 255, 255); stroke-opacity: 1; stroke-width: 1px;\"/></g><g class=\"y\"><path class=\"ygrid crisp\" transform=\"translate(0,396.6)\" d=\"M80,0h540\" style=\"stroke: rgb(255, 255, 255); stroke-opacity: 1; stroke-width: 1px;\"/><path class=\"ygrid crisp\" transform=\"translate(0,351.02)\" d=\"M80,0h540\" style=\"stroke: rgb(255, 255, 255); stroke-opacity: 1; stroke-width: 1px;\"/><path class=\"ygrid crisp\" transform=\"translate(0,305.44)\" d=\"M80,0h540\" style=\"stroke: rgb(255, 255, 255); stroke-opacity: 1; stroke-width: 1px;\"/><path class=\"ygrid crisp\" transform=\"translate(0,214.26999999999998)\" d=\"M80,0h540\" style=\"stroke: rgb(255, 255, 255); stroke-opacity: 1; stroke-width: 1px;\"/><path class=\"ygrid crisp\" transform=\"translate(0,168.69)\" d=\"M80,0h540\" style=\"stroke: rgb(255, 255, 255); stroke-opacity: 1; stroke-width: 1px;\"/><path class=\"ygrid crisp\" transform=\"translate(0,123.11)\" d=\"M80,0h540\" style=\"stroke: rgb(255, 255, 255); stroke-opacity: 1; stroke-width: 1px;\"/></g></g><g class=\"zerolinelayer\"><path class=\"xzl zl crisp\" transform=\"translate(80,0)\" d=\"M0,100v320\" style=\"stroke: rgb(255, 255, 255); stroke-opacity: 1; stroke-width: 2px;\"/><path class=\"yzl zl crisp\" transform=\"translate(0,259.86)\" d=\"M80,0h540\" style=\"stroke: rgb(255, 255, 255); stroke-opacity: 1; stroke-width: 2px;\"/></g><path class=\"xlines-below\"/><path class=\"ylines-below\"/><g class=\"overlines-below\"/><g class=\"xaxislayer-below\"/><g class=\"yaxislayer-below\"/><g class=\"overaxes-below\"/><g class=\"plot\" transform=\"translate(80,100)\" clip-path=\"url('#clipda35ffxyplot')\"><g class=\"scatterlayer mlayer\"><g class=\"trace scatter trace9db359\" style=\"stroke-miterlimit: 2; opacity: 1;\"><g class=\"fills\"/><g class=\"errorbars\"/><g class=\"lines\"><path class=\"js-line\" d=\"M0,223.72L2.71,285.61L4.06,298.39L5.41,303.07L6.77,303.94L8.12,303.02L9.47,298.42L10.83,285.61L12.18,260.57L17.59,108.39L18.95,89.47L20.3,83.21L21.65,89.48L23.01,108.4L24.36,139.81L29.77,285.63L31.13,298.44L32.48,303.02L33.83,303.94L35.19,303.03L36.54,298.38L37.89,285.59L39.25,260.61L44.66,108.39L46.02,89.47L47.37,83.22L48.72,89.42L50.08,108.39L51.43,139.82L56.84,285.62L58.2,298.45L59.55,303.03L60.9,303.93L62.26,303.06L63.61,298.45L64.96,285.57L66.32,260.61L71.73,108.42L73.08,89.46L74.44,83.27L75.79,89.47L77.14,108.4L78.5,139.82L83.91,285.61L85.26,298.44L86.62,303.1L87.97,303.96L89.32,303L90.68,298.43L92.03,285.59L93.38,260.59L98.8,108.35L100.15,89.46L101.5,83.24L102.86,89.43L104.21,108.39L105.56,139.83L110.98,285.59L112.33,298.36L113.68,302.99L115.04,303.94L116.39,302.96L117.74,298.4L119.1,285.63L120.45,260.61L125.86,108.38L127.22,89.44L128.57,83.3L129.92,89.49L131.28,108.37L132.63,139.81L138.05,285.58L139.4,298.41L140.75,303.02L142.11,303.94L143.46,302.97L144.81,298.46L146.17,285.63L147.52,260.62L152.93,108.32L154.29,89.43L155.64,83.25L156.99,89.44L158.35,108.38L159.7,139.78L165.11,285.62L166.47,298.39L167.82,303.06L169.17,303.95L170.53,303.07L171.88,298.42L173.23,285.59L174.59,260.58L180,108.35L181.35,89.37L182.71,83.28L184.06,89.44L185.41,108.36L186.77,139.79L192.18,285.64L193.53,298.39L194.89,303.02L196.24,303.93L197.59,303.09L198.95,298.43L200.3,285.6L201.65,260.61L207.07,108.38L208.42,89.44L209.77,83.25L211.13,89.42L212.48,108.4L213.83,139.79L219.25,285.59L220.6,298.38L221.95,303L223.31,303.93L224.66,303.05L226.02,298.42L227.37,285.6L228.72,260.62L234.14,108.36L235.49,89.44L236.84,83.27L238.2,89.5L239.55,108.37L240.9,139.77L246.32,285.57L247.67,298.36L249.02,303.03L250.38,303.94L251.73,302.99L253.08,298.46L254.44,285.6L255.79,260.57L261.2,108.41L262.56,89.47L263.91,83.24L265.26,89.47L266.62,108.37L267.97,139.78L273.38,285.61L274.74,298.42L276.09,303.05L277.44,303.96L278.8,303.06L280.15,298.41L281.5,285.56L282.86,260.68L288.27,108.38L289.62,89.44L290.98,83.25L292.33,89.47L293.68,108.38L295.04,139.78L300.45,285.56L301.8,298.41L303.16,303.01L304.51,304L305.86,303.03L307.22,298.39L308.57,285.6L309.92,260.63L315.34,108.36L316.69,89.47L318.05,83.22L319.4,89.42L320.75,108.42L322.11,139.78L327.52,285.65L328.87,298.38L330.23,303.01L331.58,303.93L332.93,303.06L334.29,298.41L335.64,285.59L336.99,260.63L342.41,108.34L343.76,89.45L345.11,83.21L346.47,89.41L347.82,108.39L349.17,139.73L354.59,285.55L355.94,298.43L357.29,303L358.65,303.93L360,303.03L361.35,298.43L362.71,285.6L364.06,260.69L369.47,108.4L370.83,89.49L372.18,83.27L373.53,89.43L374.89,108.42L376.24,139.77L381.65,285.52L383.01,298.43L384.36,303.03L385.71,303.9L387.07,303.06L388.42,298.44L389.77,285.61L391.13,260.62L396.54,108.36L397.89,89.42L399.25,83.2L400.6,89.41L401.95,108.42L403.31,139.79L408.72,285.59L410.08,298.38L411.43,303.05L412.78,303.92L414.14,302.99L415.49,298.4L416.84,285.53L418.2,260.65L423.61,108.42L424.96,89.45L426.32,83.24L427.67,89.39L429.02,108.46L430.38,139.73L435.79,285.64L437.14,298.47L438.5,303.04L439.85,303.84L441.2,303.01L442.56,298.43L443.91,285.63L445.26,260.69L450.68,108.28L452.03,89.48L453.38,83.31L454.74,89.45L456.09,108.36L457.44,139.8L462.86,285.63L464.21,298.4L465.56,302.96L466.92,303.96L468.27,303.02L469.62,298.42L470.98,285.63L472.33,260.66L477.74,108.29L479.1,89.55L480.45,83.21L481.8,89.48L483.16,108.34L484.51,139.85L489.92,285.56L491.28,298.38L492.63,303.04L493.98,303.92L495.34,303.04L496.69,298.39L498.05,285.61L499.4,260.6L504.81,108.31L506.17,89.49L507.52,83.29L508.87,89.48L510.23,108.38L511.58,139.78L516.99,285.64L518.35,298.45L519.7,303.03L521.05,303.91L522.41,303.03L523.76,298.47L525.11,285.61L526.47,260.64L531.88,108.29L533.23,89.51L534.59,83.27L535.94,89.46L537.29,108.33L538.65,139.83L540,180.56\" style=\"vector-effect: non-scaling-stroke; fill: none; stroke: rgb(99, 110, 250); stroke-opacity: 1; stroke-width: 2px; opacity: 1;\"/></g><g class=\"points\"/><g class=\"text\"/></g><g class=\"trace scatter trace2b3be6\" style=\"stroke-miterlimit: 2; opacity: 1;\"><g class=\"fills\"/><g class=\"errorbars\"/><g class=\"lines\"><path class=\"js-line\" d=\"M0,29.57L5.41,137.74L6.77,144.85L8.12,137.74L9.47,117.51L13.53,29.6L14.89,16.19L16.24,16.04L17.59,24.07L18.95,32.83L20.3,36.49L21.65,32.78L23.01,24.05L24.36,16.08L25.71,16.22L27.07,29.59L28.42,55.6L32.48,137.74L33.83,144.88L35.19,137.75L36.54,117.47L40.6,29.61L41.95,16.22L43.31,16.08L44.66,24.13L46.02,32.79L47.37,36.44L48.72,32.78L50.08,24.03L51.43,16.08L52.78,16.23L54.14,29.58L55.49,55.56L59.55,137.71L60.9,144.91L62.26,137.74L63.61,117.5L67.67,29.62L69.02,16.2L70.38,16.06L71.73,24.07L73.08,32.8L74.44,36.4L75.79,32.76L77.14,24.02L78.5,16L79.85,16.22L81.2,29.59L82.56,55.6L86.62,137.73L87.97,144.85L89.32,137.75L90.68,117.48L94.74,29.61L96.09,16.19L97.44,16.12L98.8,24.07L100.15,32.83L101.5,36.41L102.86,32.8L104.21,24.06L105.56,16.07L106.92,16.19L108.27,29.63L109.62,55.62L113.68,137.75L115.04,144.84L116.39,137.79L117.74,117.49L121.8,29.62L123.16,16.23L124.51,16.05L125.86,24.04L127.22,32.81L128.57,36.43L129.92,32.81L131.28,24.03L132.63,16.05L133.98,16.15L135.34,29.62L136.69,55.59L140.75,137.77L142.11,144.84L143.46,137.79L144.81,117.48L148.87,29.6L150.23,16.21L151.58,16.07L152.93,24.02L154.29,32.81L155.64,36.41L156.99,32.79L158.35,24.03L159.7,16.06L161.05,16.24L162.41,29.65L163.76,55.58L167.82,137.78L169.17,144.84L170.53,137.74L171.88,117.46L175.94,29.61L177.29,16.26L178.65,16.07L180,24.06L181.35,32.81L182.71,36.45L184.06,32.81L185.41,24.06L186.77,16.07L188.12,16.21L189.47,29.61L190.83,55.55L194.89,137.71L196.24,144.87L197.59,137.77L198.95,117.48L203.01,29.6L204.36,16.19L205.71,16.1L207.07,24.04L208.42,32.79L209.77,36.43L211.13,32.82L212.48,24L213.83,16.07L215.19,16.21L216.54,29.63L217.89,55.58L221.95,137.75L223.31,144.87L224.66,137.82L226.02,117.45L230.08,29.64L231.43,16.18L232.78,16.04L234.14,24.03L235.49,32.83L236.84,36.43L238.2,32.77L239.55,24.02L240.9,16.05L242.26,16.18L243.61,29.63L244.96,55.64L249.02,137.73L250.38,144.9L251.73,137.77L253.08,117.5L257.14,29.58L258.5,16.24L259.85,16.04L261.2,24.02L262.56,32.77L263.91,36.46L265.26,32.79L266.62,24L267.97,16.08L269.32,16.21L270.68,29.6L272.03,55.64L276.09,137.75L277.44,144.84L278.8,137.8L280.15,117.45L284.21,29.6L285.56,16.18L286.92,16.07L288.27,24.06L289.62,32.82L290.98,36.47L292.33,32.79L293.68,24.08L295.04,16.09L296.39,16.23L297.74,29.61L299.1,55.62L303.16,137.73L304.51,144.89L305.86,137.81L307.22,117.49L311.28,29.62L312.63,16.28L313.98,16.09L315.34,24.06L316.69,32.79L318.05,36.45L319.4,32.81L320.75,24.04L322.11,16.04L323.46,16.21L324.81,29.6L326.17,55.63L330.23,137.77L331.58,144.86L332.93,137.69L334.29,117.49L338.35,29.61L339.7,16.24L341.05,16.08L342.41,24.03L343.76,32.8L345.11,36.42L346.47,32.82L347.82,24.02L349.17,16.07L350.53,16.2L351.88,29.58L353.23,55.6L357.29,137.78L358.65,144.88L360,137.73L361.35,117.49L365.41,29.59L366.77,16.18L368.12,16.08L369.47,24.06L370.83,32.77L372.18,36.44L373.53,32.8L374.89,24.02L376.24,16.1L377.59,16.22L378.95,29.55L380.3,55.63L384.36,137.81L385.71,144.88L387.07,137.73L388.42,117.48L392.48,29.61L393.83,16.23L395.19,16.09L396.54,24.09L397.89,32.77L399.25,36.4L400.6,32.88L401.95,24.05L403.31,16.08L404.66,16.2L406.02,29.61L407.37,55.6L411.43,137.76L412.78,144.88L414.14,137.73L415.49,117.44L419.55,29.63L420.9,16.23L422.26,16.06L423.61,24.04L424.96,32.77L426.32,36.43L427.67,32.82L429.02,24.01L430.38,16.05L431.73,16.2L433.08,29.58L434.44,55.6L438.5,137.73L439.85,144.81L441.2,137.72L442.56,117.54L446.62,29.57L447.97,16.26L449.32,16.06L450.68,24.08L452.03,32.73L453.38,36.39L454.74,32.76L456.09,24.07L457.44,16.09L458.8,16.22L460.15,29.59L461.5,55.62L465.56,137.72L466.92,144.82L468.27,137.72L469.62,117.53L473.68,29.61L475.04,16.22L476.39,16.02L477.74,24.05L479.1,32.78L480.45,36.42L481.8,32.79L483.16,24.04L484.51,16.07L485.86,16.25L487.22,29.59L488.57,55.6L492.63,137.74L493.98,144.83L495.34,137.78L496.69,117.55L500.75,29.59L502.11,16.2L503.46,16.07L504.81,24.13L506.17,32.79L507.52,36.42L508.87,32.75L510.23,24.07L511.58,16.08L512.93,16.24L514.29,29.6L515.64,55.6L519.7,137.68L521.05,144.84L522.41,137.74L523.76,117.56L527.82,29.56L529.17,16.19L530.53,16.03L531.88,24.07L533.23,32.78L534.59,36.41L535.94,32.8L537.29,24.03L538.65,16.07L540,16.2\" style=\"vector-effect: non-scaling-stroke; fill: none; stroke: rgb(239, 85, 59); stroke-opacity: 1; stroke-width: 2px; opacity: 1;\"/></g><g class=\"points\"/><g class=\"text\"/></g></g></g><g class=\"overplot\"/><path class=\"xlines-above crisp\" style=\"fill: none;\" d=\"M0,0\"/><path class=\"ylines-above crisp\" style=\"fill: none;\" d=\"M0,0\"/><g class=\"overlines-above\"/><g class=\"xaxislayer-above\"><g class=\"xtick\"><text text-anchor=\"middle\" x=\"0\" y=\"433\" transform=\"translate(80,0)\" style=\"font-family: 'Open Sans', verdana, arial, sans-serif; font-size: 12px; fill: rgb(42, 63, 95); fill-opacity: 1; white-space: pre;\">0</text></g><g class=\"xtick\"><text text-anchor=\"middle\" x=\"0\" y=\"433\" transform=\"translate(215.34,0)\" style=\"font-family: 'Open Sans', verdana, arial, sans-serif; font-size: 12px; fill: rgb(42, 63, 95); fill-opacity: 1; white-space: pre;\">5</text></g><g class=\"xtick\"><text text-anchor=\"middle\" x=\"0\" y=\"433\" transform=\"translate(350.68,0)\" style=\"font-family: 'Open Sans', verdana, arial, sans-serif; font-size: 12px; fill: rgb(42, 63, 95); fill-opacity: 1; white-space: pre;\">10</text></g><g class=\"xtick\"><text text-anchor=\"middle\" x=\"0\" y=\"433\" transform=\"translate(486.02,0)\" style=\"font-family: 'Open Sans', verdana, arial, sans-serif; font-size: 12px; fill: rgb(42, 63, 95); fill-opacity: 1; white-space: pre;\">15</text></g></g><g class=\"yaxislayer-above\"><g class=\"ytick\"><text text-anchor=\"end\" x=\"79\" y=\"4.199999999999999\" transform=\"translate(0,396.6)\" style=\"font-family: 'Open Sans', verdana, arial, sans-serif; font-size: 12px; fill: rgb(42, 63, 95); fill-opacity: 1; white-space: pre;\">−0.6</text></g><g class=\"ytick\"><text text-anchor=\"end\" x=\"79\" y=\"4.199999999999999\" transform=\"translate(0,351.02)\" style=\"font-family: 'Open Sans', verdana, arial, sans-serif; font-size: 12px; fill: rgb(42, 63, 95); fill-opacity: 1; white-space: pre;\">−0.4</text></g><g class=\"ytick\"><text text-anchor=\"end\" x=\"79\" y=\"4.199999999999999\" transform=\"translate(0,305.44)\" style=\"font-family: 'Open Sans', verdana, arial, sans-serif; font-size: 12px; fill: rgb(42, 63, 95); fill-opacity: 1; white-space: pre;\">−0.2</text></g><g class=\"ytick\"><text text-anchor=\"end\" x=\"79\" y=\"4.199999999999999\" transform=\"translate(0,259.86)\" style=\"font-family: 'Open Sans', verdana, arial, sans-serif; font-size: 12px; fill: rgb(42, 63, 95); fill-opacity: 1; white-space: pre;\">0</text></g><g class=\"ytick\"><text text-anchor=\"end\" x=\"79\" y=\"4.199999999999999\" transform=\"translate(0,214.26999999999998)\" style=\"font-family: 'Open Sans', verdana, arial, sans-serif; font-size: 12px; fill: rgb(42, 63, 95); fill-opacity: 1; white-space: pre;\">0.2</text></g><g class=\"ytick\"><text text-anchor=\"end\" x=\"79\" y=\"4.199999999999999\" transform=\"translate(0,168.69)\" style=\"font-family: 'Open Sans', verdana, arial, sans-serif; font-size: 12px; fill: rgb(42, 63, 95); fill-opacity: 1; white-space: pre;\">0.4</text></g><g class=\"ytick\"><text text-anchor=\"end\" x=\"79\" y=\"4.199999999999999\" transform=\"translate(0,123.11)\" style=\"font-family: 'Open Sans', verdana, arial, sans-serif; font-size: 12px; fill: rgb(42, 63, 95); fill-opacity: 1; white-space: pre;\">0.6</text></g></g><g class=\"overaxes-above\"/></g></g><g class=\"polarlayer\"/><g class=\"ternarylayer\"/><g class=\"geolayer\"/><g class=\"funnelarealayer\"/><g class=\"pielayer\"/><g class=\"treemaplayer\"/><g class=\"sunburstlayer\"/><g class=\"glimages\"/><defs id=\"topdefs-da35ff\"><g class=\"clips\"/><clipPath id=\"legendda35ff\"><rect width=\"55\" height=\"48\" x=\"0\" y=\"0\"/></clipPath></defs><g class=\"layer-above\"><g class=\"imagelayer\"/><g class=\"shapelayer\"/></g><g class=\"infolayer\"><g class=\"legend\" pointer-events=\"all\" transform=\"translate(630.8,100)\"><rect class=\"bg\" shape-rendering=\"crispEdges\" style=\"stroke: rgb(68, 68, 68); stroke-opacity: 1; fill: rgb(255, 255, 255); fill-opacity: 1; stroke-width: 0px;\" width=\"55\" height=\"48\" x=\"0\" y=\"0\"/><g class=\"scrollbox\" transform=\"\" clip-path=\"url('#legendda35ff')\"><g class=\"groups\"><g class=\"traces\" style=\"opacity: 1;\" transform=\"translate(0,14.5)\"><text class=\"legendtext\" text-anchor=\"start\" x=\"40\" y=\"4.680000000000001\" style=\"font-family: 'Open Sans', verdana, arial, sans-serif; font-size: 12px; fill: rgb(42, 63, 95); fill-opacity: 1; white-space: pre;\">I</text><g class=\"layers\" style=\"opacity: 1;\"><g class=\"legendfill\"/><g class=\"legendlines\"><path class=\"js-line\" d=\"M5,0h30\" style=\"fill: none; stroke: rgb(99, 110, 250); stroke-opacity: 1; stroke-width: 2px;\"/></g><g class=\"legendsymbols\"><g class=\"legendpoints\"/></g></g><rect class=\"legendtoggle\" x=\"0\" y=\"-9.5\" width=\"49.5\" height=\"19\" style=\"fill: rgb(0, 0, 0); fill-opacity: 0;\"/></g><g class=\"traces\" style=\"opacity: 1;\" transform=\"translate(0,33.5)\"><text class=\"legendtext\" text-anchor=\"start\" x=\"40\" y=\"4.680000000000001\" style=\"font-family: 'Open Sans', verdana, arial, sans-serif; font-size: 12px; fill: rgb(42, 63, 95); fill-opacity: 1; white-space: pre;\">Q</text><g class=\"layers\" style=\"opacity: 1;\"><g class=\"legendfill\"/><g class=\"legendlines\"><path class=\"js-line\" d=\"M5,0h30\" style=\"fill: none; stroke: rgb(239, 85, 59); stroke-opacity: 1; stroke-width: 2px;\"/></g><g class=\"legendsymbols\"><g class=\"legendpoints\"/></g></g><rect class=\"legendtoggle\" x=\"0\" y=\"-9.5\" width=\"49.5\" height=\"19\" style=\"fill: rgb(0, 0, 0); fill-opacity: 0;\"/></g></g></g><rect class=\"scrollbar\" rx=\"20\" ry=\"3\" width=\"0\" height=\"0\" style=\"fill: rgb(128, 139, 164); fill-opacity: 1;\" x=\"0\" y=\"0\"/></g><g class=\"g-gtitle\"><text class=\"gtitle\" x=\"35\" y=\"50\" text-anchor=\"start\" dy=\"0em\" style=\"font-family: 'Open Sans', verdana, arial, sans-serif; font-size: 17px; fill: rgb(42, 63, 95); opacity: 1; font-weight: normal; white-space: pre;\">I/Q Baseband Signals</text></g><g class=\"g-xtitle\"><text class=\"xtitle\" x=\"350\" y=\"460.3\" text-anchor=\"middle\" style=\"font-family: 'Open Sans', verdana, arial, sans-serif; font-size: 14px; fill: rgb(42, 63, 95); opacity: 1; font-weight: normal; white-space: pre;\">Time (s)</text></g><g class=\"g-ytitle\"><text class=\"ytitle\" transform=\"rotate(-90,24.746875000000003,260)\" x=\"24.746875000000003\" y=\"260\" text-anchor=\"middle\" style=\"font-family: 'Open Sans', verdana, arial, sans-serif; font-size: 14px; fill: rgb(42, 63, 95); opacity: 1; font-weight: normal; white-space: pre;\">Amplitude (V)</text></g></g></svg>"
      ],
      "text/plain": [
       "<IPython.core.display.SVG object>"
      ]
     },
     "metadata": {},
     "output_type": "display_data"
    }
   ],
   "source": [
    "import plotly.graph_objs as go\n",
    "from IPython.display import SVG, display\n",
    "\n",
    "fig = go.Figure()\n",
    "\n",
    "fig.add_trace(go.Scatter(\n",
    "    x=timestamp[0, 0, :],\n",
    "    y=np.real(baseband[0, 0, :]),\n",
    "    name='I',\n",
    "))\n",
    "fig.add_trace(go.Scatter(\n",
    "    x=timestamp[0, 0, :],\n",
    "    y=np.imag(baseband[0, 0, :]),\n",
    "    name='Q',\n",
    "))\n",
    "\n",
    "fig.update_layout(\n",
    "    title='I/Q Baseband Signals',\n",
    "    yaxis=dict(title='Amplitude (V)'),\n",
    "    xaxis=dict(title='Time (s)'),\n",
    ")\n",
    "\n",
    "# fig.show()\n",
    "display(SVG(fig.to_image(format='svg', scale=1)))"
   ]
  },
  {
   "cell_type": "code",
   "execution_count": 5,
   "metadata": {},
   "outputs": [
    {
     "data": {
      "image/svg+xml": [
       "<svg xmlns=\"http://www.w3.org/2000/svg\" xmlns:xlink=\"http://www.w3.org/1999/xlink\" class=\"main-svg\" width=\"600\" height=\"600\" style=\"\" viewBox=\"0 0 600 600\"><rect x=\"0\" y=\"0\" width=\"600\" height=\"600\" style=\"fill: rgb(255, 255, 255); fill-opacity: 1;\"/><defs id=\"defs-6b31f0\"><g class=\"clips\"><clipPath id=\"clip6b31f0xyplot\" class=\"plotclip\"><rect width=\"440\" height=\"420\"/></clipPath><clipPath class=\"axesclip\" id=\"clip6b31f0x\"><rect x=\"80\" y=\"0\" width=\"440\" height=\"600\"/></clipPath><clipPath class=\"axesclip\" id=\"clip6b31f0y\"><rect x=\"0\" y=\"100\" width=\"600\" height=\"420\"/></clipPath><clipPath class=\"axesclip\" id=\"clip6b31f0xy\"><rect x=\"80\" y=\"100\" width=\"440\" height=\"420\"/></clipPath></g><g class=\"gradients\"/></defs><g class=\"bglayer\"><rect class=\"bg\" x=\"80\" y=\"100\" width=\"440\" height=\"420\" style=\"fill: rgb(229, 236, 246); fill-opacity: 1; stroke-width: 0;\"/></g><g class=\"layer-below\"><g class=\"imagelayer\"/><g class=\"shapelayer\"/></g><g class=\"cartesianlayer\"><g class=\"subplot xy\"><g class=\"layer-subplot\"><g class=\"shapelayer\"/><g class=\"imagelayer\"/></g><g class=\"gridlayer\"><g class=\"x\"><path class=\"xgrid crisp\" transform=\"translate(90,0)\" d=\"M0,100v420\" style=\"stroke: rgb(255, 255, 255); stroke-opacity: 1; stroke-width: 1px;\"/><path class=\"xgrid crisp\" transform=\"translate(195,0)\" d=\"M0,100v420\" style=\"stroke: rgb(255, 255, 255); stroke-opacity: 1; stroke-width: 1px;\"/><path class=\"xgrid crisp\" transform=\"translate(405,0)\" d=\"M0,100v420\" style=\"stroke: rgb(255, 255, 255); stroke-opacity: 1; stroke-width: 1px;\"/><path class=\"xgrid crisp\" transform=\"translate(510,0)\" d=\"M0,100v420\" style=\"stroke: rgb(255, 255, 255); stroke-opacity: 1; stroke-width: 1px;\"/></g><g class=\"y\"><path class=\"ygrid crisp\" transform=\"translate(0,415)\" d=\"M80,0h440\" style=\"stroke: rgb(255, 255, 255); stroke-opacity: 1; stroke-width: 1px;\"/><path class=\"ygrid crisp\" transform=\"translate(0,205)\" d=\"M80,0h440\" style=\"stroke: rgb(255, 255, 255); stroke-opacity: 1; stroke-width: 1px;\"/></g></g><g class=\"zerolinelayer\"><path class=\"xzl zl crisp\" transform=\"translate(300,0)\" d=\"M0,100v420\" style=\"stroke: rgb(255, 255, 255); stroke-opacity: 1; stroke-width: 2px;\"/><path class=\"yzl zl crisp\" transform=\"translate(0,310)\" d=\"M80,0h440\" style=\"stroke: rgb(255, 255, 255); stroke-opacity: 1; stroke-width: 2px;\"/></g><path class=\"xlines-below\"/><path class=\"ylines-below\"/><g class=\"overlines-below\"/><g class=\"xaxislayer-below\"/><g class=\"yaxislayer-below\"/><g class=\"overaxes-below\"/><g class=\"plot\" transform=\"translate(80,100)\" clip-path=\"url('#clip6b31f0xyplot')\"><g class=\"scatterlayer mlayer\"><g class=\"trace scatter traced4698a\" style=\"stroke-miterlimit: 2; opacity: 1;\"><g class=\"fills\"/><g class=\"errorbars\"/><g class=\"lines\"><path class=\"js-line\" d=\"M161.16,89.95L127.13,113.9L104.13,143.61L92.35,170.9L88.04,189.62L87.23,196.18L88.09,189.62L92.33,170.98L104.13,143.55L127.2,113.93L161.15,89.98L200.87,77.62L238.48,77.49L267.42,84.88L290.62,96.33L267.41,84.87L238.47,77.52L200.87,77.65L161.14,89.97L127.09,113.93L104.11,143.58L92.31,170.96L88.08,189.63L87.24,196.2L88.08,189.63L92.36,170.94L104.15,143.58L127.16,113.97L161.2,89.99L200.87,77.65L238.45,77.52L267.42,84.93L290.62,96.28L267.42,84.84L238.46,77.52L200.89,77.66L161.17,89.96L127.14,113.9L104.12,143.57L92.3,170.9L88.07,189.59L87.25,196.22L88.05,189.62L92.29,170.97L104.16,143.57L127.16,113.97L161.14,89.99L200.94,77.63L238.47,77.5L267.4,84.88L290.57,96.25L267.41,84.84L238.47,77.45L200.92,77.65L161.16,89.97L127.15,113.93L104.13,143.56L92.3,170.95L88.01,189.61L87.22,196.17L88.1,189.63L92.31,170.95L104.15,143.58L127.18,113.92L161.2,89.99L200.92,77.62L238.48,77.56L267.46,84.89L290.6,96.26L267.42,84.88L238.46,77.51L200.91,77.62L161.2,90L127.1,113.95L104.15,143.53L92.38,170.97L88.11,189.63L87.24,196.17L88.14,189.67L92.34,170.96L104.11,143.57L127.16,113.93L161.2,90L200.9,77.66L238.45,77.5L267.43,84.86L290.54,96.27L267.44,84.85L238.47,77.5L200.88,77.59L161.14,90L127.17,113.92L104.15,143.55L92.34,170.97L88.08,189.65L87.23,196.16L88.13,189.67L92.29,170.96L104.11,143.57L127.15,113.9L161.19,89.98L200.94,77.64L238.5,77.51L267.49,84.83L290.59,96.25L267.43,84.84L238.5,77.5L200.93,77.67L161.17,90.02L127.19,113.92L104.12,143.56L92.36,170.96L88.05,189.65L87.23,196.16L88.04,189.62L92.33,170.94L104.15,143.56L127.19,113.92L161.18,89.99L200.83,77.68L238.47,77.51L267.45,84.87L290.56,96.29L267.45,84.88L238.49,77.51L200.87,77.64L161.13,89.98L127.13,113.89L104.1,143.55L92.35,170.95L88.09,189.6L87.25,196.19L88.02,189.65L92.31,170.95L104.14,143.58L127.16,113.94L161.15,89.98L200.92,77.62L238.46,77.54L267.43,84.85L290.59,96.27L267.41,84.82L238.49,77.51L200.89,77.64L161.15,90.01L127.14,113.92L104.15,143.58L92.36,170.93L88.1,189.63L87.25,196.19L88.05,189.69L92.32,170.93L104.14,143.56L127.16,113.94L161.13,90.02L200.93,77.62L238.47,77.48L267.45,84.85L290.56,96.27L267.44,84.84L238.51,77.49L200.97,77.61L161.17,90.01L127.12,113.97L104.16,143.59L92.38,170.91L88.08,189.61L87.24,196.22L88.11,189.65L92.28,170.97L104.13,143.56L127.2,113.89L161.18,89.96L200.93,77.67L238.45,77.49L267.41,84.84L290.59,96.3L267.44,84.82L238.5,77.52L200.89,77.64L161.16,89.98L127.12,113.97L104.13,143.62L92.33,170.93L88.06,189.63L87.22,196.16L88.04,189.68L92.34,170.92L104.17,143.54L127.1,113.92L161.22,89.98L200.93,77.61L238.47,77.51L267.43,84.88L290.59,96.31L267.43,84.89L238.5,77.53L200.89,77.66L161.15,89.98L127.18,113.96L104.17,143.56L92.34,170.94L88.09,189.61L87.18,196.21L88.07,189.69L92.35,170.96L104.14,143.55L127.14,113.95L161.1,90L200.99,77.7L238.51,77.53L267.45,84.88L290.61,96.29L267.4,84.86L238.5,77.48L200.91,77.64L161.15,89.98L127.19,113.96L104.09,143.56L92.36,170.96L88.09,189.65L87.25,196.18L88.05,189.57L92.33,170.96L104.15,143.54L127.14,113.95L161.14,89.98L200.92,77.66L238.55,77.52L267.47,84.85L290.62,96.26L267.42,84.83L238.54,77.51L200.89,77.64L161.11,89.96L127.13,113.94L104.18,143.58L92.31,170.97L88.11,189.66L87.24,196.2L88.08,189.61L92.31,170.97L104.14,143.53L127.09,113.93L161.19,89.97L200.94,77.61L238.47,77.52L267.41,84.87L290.57,96.28L267.39,84.84L238.51,77.54L200.92,77.65L161.12,89.93L127.18,113.96L104.21,143.58L92.31,170.97L88.07,189.69L87.27,196.2L88.04,189.61L92.3,170.95L104.12,143.51L127.16,113.97L161.15,89.99L200.94,77.66L238.5,77.53L267.45,84.9L290.63,96.24L267.4,84.86L238.49,77.52L200.85,77.63L161.11,89.99L127.12,113.94L104.14,143.52L92.36,170.97L88.05,189.64L87.25,196.2L88.11,189.61L92.35,170.92L104.2,143.56L127.13,113.96L161.13,90.01L200.97,77.66L238.5,77.5L267.4,84.86L290.59,96.27L267.36,84.83L238.54,77.5L200.9,77.63L161.16,89.96L127.15,113.94L104.1,143.58L92.27,170.95L88.07,189.61L87.33,196.13L88.09,189.6L92.32,171.01L104.11,143.53L127.09,113.96L161.15,89.95L200.94,77.68L238.45,77.5L267.53,84.9L290.53,96.24L267.45,84.88L238.48,77.53L200.88,77.65L161.21,89.97L127.14,113.95L104.11,143.55L92.34,170.96L88.14,189.6L87.22,196.14L88.09,189.6L92.32,171L104.11,143.59L127.12,113.93L161.18,89.99L200.94,77.65L238.48,77.47L267.52,84.87L290.62,96.27L267.47,84.86L238.44,77.52L200.89,77.68L161.18,89.97L127.15,113.94L104.17,143.6L92.36,170.86L88.07,189.62L87.26,196.15L88.07,189.66L92.35,171.02L104.13,143.56L127.17,113.94L161.22,89.97L200.94,77.63L238.46,77.51L267.5,84.94L290.55,96.26L267.43,84.89L238.5,77.52L200.87,77.67L161.23,89.98L127.13,113.93L104.1,143.58L92.3,170.94L88.08,189.57L87.26,196.16L88.08,189.62L92.28,171.02L104.13,143.49L127.14,113.94L161.18,89.94L200.92,77.62L238.44,77.47L267.52,84.89L290.57,96.25L267.48,84.85L238.45,77.51L200.93,77.63\" style=\"vector-effect: non-scaling-stroke; fill: none; stroke: rgb(99, 110, 250); stroke-opacity: 1; stroke-width: 2px; opacity: 1;\"/></g><g class=\"points\"/><g class=\"text\"/></g></g></g><g class=\"overplot\"/><path class=\"xlines-above crisp\" d=\"M0,0\" style=\"fill: none;\"/><path class=\"ylines-above crisp\" d=\"M0,0\" style=\"fill: none;\"/><g class=\"overlines-above\"/><g class=\"xaxislayer-above\"><g class=\"xtick\"><text text-anchor=\"middle\" x=\"0\" y=\"533\" transform=\"translate(90,0)\" style=\"font-family: 'Open Sans', verdana, arial, sans-serif; font-size: 12px; fill: rgb(42, 63, 95); fill-opacity: 1; white-space: pre;\">−1.00</text></g><g class=\"xtick\"><text text-anchor=\"middle\" x=\"0\" y=\"533\" transform=\"translate(195,0)\" style=\"font-family: 'Open Sans', verdana, arial, sans-serif; font-size: 12px; fill: rgb(42, 63, 95); fill-opacity: 1; white-space: pre;\">−0.50</text></g><g class=\"xtick\"><text text-anchor=\"middle\" x=\"0\" y=\"533\" transform=\"translate(300,0)\" style=\"font-family: 'Open Sans', verdana, arial, sans-serif; font-size: 12px; fill: rgb(42, 63, 95); fill-opacity: 1; white-space: pre;\">0.00</text></g><g class=\"xtick\"><text text-anchor=\"middle\" x=\"0\" y=\"533\" transform=\"translate(405,0)\" style=\"font-family: 'Open Sans', verdana, arial, sans-serif; font-size: 12px; fill: rgb(42, 63, 95); fill-opacity: 1; white-space: pre;\">0.50</text></g><g class=\"xtick\"><text text-anchor=\"middle\" x=\"0\" y=\"533\" transform=\"translate(510,0)\" style=\"font-family: 'Open Sans', verdana, arial, sans-serif; font-size: 12px; fill: rgb(42, 63, 95); fill-opacity: 1; white-space: pre;\">1.00</text></g></g><g class=\"yaxislayer-above\"><g class=\"ytick\"><text text-anchor=\"end\" x=\"79\" y=\"4.199999999999999\" transform=\"translate(0,520)\" style=\"font-family: 'Open Sans', verdana, arial, sans-serif; font-size: 12px; fill: rgb(42, 63, 95); fill-opacity: 1; white-space: pre;\">−1.00</text></g><g class=\"ytick\"><text text-anchor=\"end\" x=\"79\" y=\"4.199999999999999\" transform=\"translate(0,415)\" style=\"font-family: 'Open Sans', verdana, arial, sans-serif; font-size: 12px; fill: rgb(42, 63, 95); fill-opacity: 1; white-space: pre;\">−0.50</text></g><g class=\"ytick\"><text text-anchor=\"end\" x=\"79\" y=\"4.199999999999999\" transform=\"translate(0,310)\" style=\"font-family: 'Open Sans', verdana, arial, sans-serif; font-size: 12px; fill: rgb(42, 63, 95); fill-opacity: 1; white-space: pre;\">0.00</text></g><g class=\"ytick\"><text text-anchor=\"end\" x=\"79\" y=\"4.199999999999999\" transform=\"translate(0,205)\" style=\"font-family: 'Open Sans', verdana, arial, sans-serif; font-size: 12px; fill: rgb(42, 63, 95); fill-opacity: 1; white-space: pre;\">0.50</text></g><g class=\"ytick\"><text text-anchor=\"end\" x=\"79\" y=\"4.199999999999999\" transform=\"translate(0,100)\" style=\"font-family: 'Open Sans', verdana, arial, sans-serif; font-size: 12px; fill: rgb(42, 63, 95); fill-opacity: 1; white-space: pre;\">1.00</text></g></g><g class=\"overaxes-above\"/></g></g><g class=\"polarlayer\"/><g class=\"ternarylayer\"/><g class=\"geolayer\"/><g class=\"funnelarealayer\"/><g class=\"pielayer\"/><g class=\"treemaplayer\"/><g class=\"sunburstlayer\"/><g class=\"glimages\"/><defs id=\"topdefs-6b31f0\"><g class=\"clips\"/></defs><g class=\"layer-above\"><g class=\"imagelayer\"/><g class=\"shapelayer\"/></g><g class=\"infolayer\"><g class=\"g-gtitle\"><text class=\"gtitle\" x=\"30\" y=\"50\" text-anchor=\"start\" dy=\"0em\" style=\"font-family: 'Open Sans', verdana, arial, sans-serif; font-size: 17px; fill: rgb(42, 63, 95); opacity: 1; font-weight: normal; white-space: pre;\">I/Q Constellation Plot</text></g><g class=\"g-xtitle\"><text class=\"xtitle\" x=\"300\" y=\"560.3\" text-anchor=\"middle\" style=\"font-family: 'Open Sans', verdana, arial, sans-serif; font-size: 14px; fill: rgb(42, 63, 95); opacity: 1; font-weight: normal; white-space: pre;\">In-phase (V)</text></g><g class=\"g-ytitle\"><text class=\"ytitle\" transform=\"rotate(-90,17.121875000000003,310)\" x=\"17.121875000000003\" y=\"310\" text-anchor=\"middle\" style=\"font-family: 'Open Sans', verdana, arial, sans-serif; font-size: 14px; fill: rgb(42, 63, 95); opacity: 1; font-weight: normal; white-space: pre;\">Quadrature (V)</text></g></g></svg>"
      ],
      "text/plain": [
       "<IPython.core.display.SVG object>"
      ]
     },
     "metadata": {},
     "output_type": "display_data"
    }
   ],
   "source": [
    "fig = go.Figure()\n",
    "\n",
    "fig.add_trace(go.Scatter(\n",
    "    x=np.real(baseband[0, 0, :]),\n",
    "    y=np.imag(baseband[0, 0, :]),\n",
    "))\n",
    "\n",
    "fig.update_layout(\n",
    "    title='I/Q Constellation Plot',\n",
    "    xaxis=dict(range=[-1, 1], tickformat='.2f', title='In-phase (V)'),\n",
    "    yaxis=dict(range=[-1, 1],\n",
    "               tickformat='.2f',\n",
    "               title='Quadrature (V)',\n",
    "               scaleanchor=\"x\",\n",
    "               scaleratio=1),\n",
    "    height=600,\n",
    "    width=600,\n",
    ")\n",
    "\n",
    "# fig.show()\n",
    "display(SVG(fig.to_image(format='svg', scale=1)))"
   ]
  },
  {
   "cell_type": "markdown",
   "metadata": {},
   "source": [
    "## Phase demodulation\n",
    "\n",
    "Demodulate the phase of the baseband signal"
   ]
  },
  {
   "cell_type": "code",
   "execution_count": 6,
   "metadata": {},
   "outputs": [],
   "source": [
    "demod = np.angle(baseband[0, 0, :])"
   ]
  },
  {
   "cell_type": "markdown",
   "metadata": {},
   "source": [
    "Plot"
   ]
  },
  {
   "cell_type": "code",
   "execution_count": 7,
   "metadata": {},
   "outputs": [
    {
     "data": {
      "image/svg+xml": [
       "<svg xmlns=\"http://www.w3.org/2000/svg\" xmlns:xlink=\"http://www.w3.org/1999/xlink\" class=\"main-svg\" width=\"700\" height=\"500\" style=\"\" viewBox=\"0 0 700 500\"><rect x=\"0\" y=\"0\" width=\"700\" height=\"500\" style=\"fill: rgb(255, 255, 255); fill-opacity: 1;\"/><defs id=\"defs-d39753\"><g class=\"clips\"><clipPath id=\"clipd39753xyplot\" class=\"plotclip\"><rect width=\"540\" height=\"320\"/></clipPath><clipPath class=\"axesclip\" id=\"clipd39753x\"><rect x=\"80\" y=\"0\" width=\"540\" height=\"500\"/></clipPath><clipPath class=\"axesclip\" id=\"clipd39753y\"><rect x=\"0\" y=\"100\" width=\"700\" height=\"320\"/></clipPath><clipPath class=\"axesclip\" id=\"clipd39753xy\"><rect x=\"80\" y=\"100\" width=\"540\" height=\"320\"/></clipPath></g><g class=\"gradients\"/></defs><g class=\"bglayer\"><rect class=\"bg\" x=\"80\" y=\"100\" width=\"540\" height=\"320\" style=\"fill: rgb(229, 236, 246); fill-opacity: 1; stroke-width: 0;\"/></g><g class=\"layer-below\"><g class=\"imagelayer\"/><g class=\"shapelayer\"/></g><g class=\"cartesianlayer\"><g class=\"subplot xy\"><g class=\"layer-subplot\"><g class=\"shapelayer\"/><g class=\"imagelayer\"/></g><g class=\"gridlayer\"><g class=\"x\"><path class=\"xgrid crisp\" transform=\"translate(215.34,0)\" d=\"M0,100v320\" style=\"stroke: rgb(255, 255, 255); stroke-opacity: 1; stroke-width: 1px;\"/><path class=\"xgrid crisp\" transform=\"translate(350.68,0)\" d=\"M0,100v320\" style=\"stroke: rgb(255, 255, 255); stroke-opacity: 1; stroke-width: 1px;\"/><path class=\"xgrid crisp\" transform=\"translate(486.02,0)\" d=\"M0,100v320\" style=\"stroke: rgb(255, 255, 255); stroke-opacity: 1; stroke-width: 1px;\"/></g><g class=\"y\"><path class=\"ygrid crisp\" transform=\"translate(0,406.12)\" d=\"M80,0h540\" style=\"stroke: rgb(255, 255, 255); stroke-opacity: 1; stroke-width: 1px;\"/><path class=\"ygrid crisp\" transform=\"translate(0,334.95)\" d=\"M80,0h540\" style=\"stroke: rgb(255, 255, 255); stroke-opacity: 1; stroke-width: 1px;\"/><path class=\"ygrid crisp\" transform=\"translate(0,263.78)\" d=\"M80,0h540\" style=\"stroke: rgb(255, 255, 255); stroke-opacity: 1; stroke-width: 1px;\"/><path class=\"ygrid crisp\" transform=\"translate(0,192.61)\" d=\"M80,0h540\" style=\"stroke: rgb(255, 255, 255); stroke-opacity: 1; stroke-width: 1px;\"/><path class=\"ygrid crisp\" transform=\"translate(0,121.44)\" d=\"M80,0h540\" style=\"stroke: rgb(255, 255, 255); stroke-opacity: 1; stroke-width: 1px;\"/></g></g><g class=\"zerolinelayer\"><path class=\"xzl zl crisp\" transform=\"translate(80,0)\" d=\"M0,100v320\" style=\"stroke: rgb(255, 255, 255); stroke-opacity: 1; stroke-width: 2px;\"/></g><path class=\"xlines-below\"/><path class=\"ylines-below\"/><g class=\"overlines-below\"/><g class=\"xaxislayer-below\"/><g class=\"yaxislayer-below\"/><g class=\"overaxes-below\"/><g class=\"plot\" transform=\"translate(80,100)\" clip-path=\"url('#clipd39753xyplot')\"><g class=\"scatterlayer mlayer\"><g class=\"trace scatter traceee63bc\" style=\"stroke-miterlimit: 2; opacity: 1;\"><g class=\"fills\"/><g class=\"errorbars\"/><g class=\"lines\"><path class=\"js-line\" d=\"M0,160L4.06,43.59L5.41,23.09L6.77,16.05L8.12,23.1L10.83,75.4L12.18,115.54L17.59,276.44L18.95,296.89L20.3,304L21.65,296.87L23.01,276.43L24.36,244.59L31.13,43.52L32.48,23.09L33.83,16.03L35.19,23.09L37.89,75.38L39.25,115.48L44.66,276.46L46.02,296.88L47.37,303.97L48.72,296.91L50.08,276.42L51.43,244.58L58.2,43.58L59.55,23.13L60.9,16L62.26,23.1L63.61,43.5L64.96,75.4L71.73,276.41L73.08,296.89L74.44,303.91L75.79,296.86L78.5,244.57L79.85,204.49L85.26,43.52L86.62,23.1L87.97,16.05L89.32,23.09L90.68,43.53L92.03,75.38L98.8,276.48L100.15,296.9L101.5,303.94L102.86,296.91L104.21,276.44L105.56,244.57L112.33,43.53L113.68,23.09L115.04,16.06L116.39,23.06L119.1,75.37L120.45,115.51L125.86,276.44L127.22,296.91L128.57,303.9L129.92,296.86L131.28,276.45L132.63,244.59L139.4,43.52L140.75,23.07L142.11,16.06L143.46,23.06L146.17,75.37L147.52,115.53L152.93,276.49L154.29,296.92L155.64,303.93L156.99,296.9L158.35,276.43L159.7,244.62L166.47,43.53L167.82,23.06L169.17,16.06L170.53,23.09L171.88,43.54L173.23,75.4L180,276.47L181.35,296.97L182.71,303.93L184.06,296.91L186.77,244.61L188.12,204.44L193.53,43.54L194.89,23.13L196.24,16.03L197.59,23.06L198.95,43.53L200.3,75.37L207.07,276.44L208.42,296.9L209.77,303.94L211.13,296.93L213.83,244.61L215.19,204.46L220.6,43.56L221.95,23.09L223.31,16.03L224.66,23.02L226.02,43.55L227.37,75.4L234.14,276.46L235.49,296.92L236.84,303.92L238.2,296.84L239.55,276.44L240.9,244.62L247.67,43.59L249.02,23.11L250.38,16.01L251.73,23.08L254.44,75.39L255.79,115.57L261.2,276.41L262.56,296.87L263.91,303.96L265.26,296.88L266.62,276.43L267.97,244.63L274.74,43.55L276.09,23.08L277.44,16.06L278.8,23.03L281.5,75.43L282.86,115.47L288.27,276.44L289.62,296.92L290.98,303.96L292.33,296.88L295.04,244.62L296.39,204.46L301.8,43.55L303.16,23.11L304.51,16.01L305.86,23.03L307.22,43.53L308.57,75.4L315.34,276.47L316.69,296.87L318.05,303.97L319.4,296.92L322.11,244.62L323.46,204.48L328.87,43.53L330.23,23.07L331.58,16.05L332.93,23.14L334.29,43.52L335.64,75.42L342.41,276.47L343.76,296.9L345.11,303.96L346.47,296.94L349.17,244.66L350.53,204.46L355.94,43.5L357.29,23.06L358.65,16.02L360,23.11L361.35,43.51L362.71,75.42L369.47,276.42L370.83,296.85L372.18,303.93L373.53,296.92L374.89,276.4L376.24,244.64L383.01,43.51L384.36,23.03L385.71,16.03L387.07,23.1L388.42,43.52L389.77,75.44L396.54,276.48L397.89,296.91L399.25,303.96L400.6,296.97L403.31,244.61L404.66,204.42L410.08,43.52L411.43,23.07L412.78,16.03L414.14,23.12L415.49,43.57L416.84,75.43L423.61,276.41L424.96,296.88L426.32,303.94L427.67,296.96L430.38,244.67L431.73,204.47L437.14,43.52L438.5,23.1L439.85,16.11L441.2,23.12L442.56,43.47L443.91,75.41L450.68,276.55L452.03,296.84L453.38,303.87L454.74,296.88L456.09,276.47L457.44,244.6L464.21,43.53L465.56,23.13L466.92,16.09L468.27,23.12L469.62,43.48L470.98,75.35L477.74,276.53L479.1,296.8L480.45,303.97L481.8,296.87L483.16,276.48L484.51,244.55L491.28,43.64L492.63,23.1L493.98,16.07L495.34,23.06L498.05,75.39L499.4,115.51L504.81,276.54L506.17,296.86L507.52,303.9L508.87,296.85L510.23,276.45L511.58,244.62L518.35,43.53L519.7,23.15L521.05,16.07L522.41,23.1L523.76,43.44L525.11,75.45L531.88,276.53L533.23,296.84L534.59,303.91L535.94,296.89L538.65,244.57L540,204.5\" style=\"vector-effect: non-scaling-stroke; fill: none; stroke: rgb(99, 110, 250); stroke-opacity: 1; stroke-width: 2px; opacity: 1;\"/></g><g class=\"points\"/><g class=\"text\"/></g></g></g><g class=\"overplot\"/><path class=\"xlines-above crisp\" d=\"M0,0\" style=\"fill: none;\"/><path class=\"ylines-above crisp\" d=\"M0,0\" style=\"fill: none;\"/><g class=\"overlines-above\"/><g class=\"xaxislayer-above\"><g class=\"xtick\"><text text-anchor=\"middle\" x=\"0\" y=\"433\" transform=\"translate(80,0)\" style=\"font-family: 'Open Sans', verdana, arial, sans-serif; font-size: 12px; fill: rgb(42, 63, 95); fill-opacity: 1; white-space: pre;\">0.00</text></g><g class=\"xtick\"><text text-anchor=\"middle\" x=\"0\" y=\"433\" transform=\"translate(215.34,0)\" style=\"font-family: 'Open Sans', verdana, arial, sans-serif; font-size: 12px; fill: rgb(42, 63, 95); fill-opacity: 1; white-space: pre;\">5.00</text></g><g class=\"xtick\"><text text-anchor=\"middle\" x=\"0\" y=\"433\" transform=\"translate(350.68,0)\" style=\"font-family: 'Open Sans', verdana, arial, sans-serif; font-size: 12px; fill: rgb(42, 63, 95); fill-opacity: 1; white-space: pre;\">10.00</text></g><g class=\"xtick\"><text text-anchor=\"middle\" x=\"0\" y=\"433\" transform=\"translate(486.02,0)\" style=\"font-family: 'Open Sans', verdana, arial, sans-serif; font-size: 12px; fill: rgb(42, 63, 95); fill-opacity: 1; white-space: pre;\">15.00</text></g></g><g class=\"yaxislayer-above\"><g class=\"ytick\"><text text-anchor=\"end\" x=\"79\" y=\"4.199999999999999\" transform=\"translate(0,406.12)\" style=\"font-family: 'Open Sans', verdana, arial, sans-serif; font-size: 12px; fill: rgb(42, 63, 95); fill-opacity: 1; white-space: pre;\">1.00</text></g><g class=\"ytick\"><text text-anchor=\"end\" x=\"79\" y=\"4.199999999999999\" transform=\"translate(0,334.95)\" style=\"font-family: 'Open Sans', verdana, arial, sans-serif; font-size: 12px; fill: rgb(42, 63, 95); fill-opacity: 1; white-space: pre;\">1.50</text></g><g class=\"ytick\"><text text-anchor=\"end\" x=\"79\" y=\"4.199999999999999\" transform=\"translate(0,263.78)\" style=\"font-family: 'Open Sans', verdana, arial, sans-serif; font-size: 12px; fill: rgb(42, 63, 95); fill-opacity: 1; white-space: pre;\">2.00</text></g><g class=\"ytick\"><text text-anchor=\"end\" x=\"79\" y=\"4.199999999999999\" transform=\"translate(0,192.61)\" style=\"font-family: 'Open Sans', verdana, arial, sans-serif; font-size: 12px; fill: rgb(42, 63, 95); fill-opacity: 1; white-space: pre;\">2.50</text></g><g class=\"ytick\"><text text-anchor=\"end\" x=\"79\" y=\"4.199999999999999\" transform=\"translate(0,121.44)\" style=\"font-family: 'Open Sans', verdana, arial, sans-serif; font-size: 12px; fill: rgb(42, 63, 95); fill-opacity: 1; white-space: pre;\">3.00</text></g></g><g class=\"overaxes-above\"/></g></g><g class=\"polarlayer\"/><g class=\"ternarylayer\"/><g class=\"geolayer\"/><g class=\"funnelarealayer\"/><g class=\"pielayer\"/><g class=\"treemaplayer\"/><g class=\"sunburstlayer\"/><g class=\"glimages\"/><defs id=\"topdefs-d39753\"><g class=\"clips\"/></defs><g class=\"layer-above\"><g class=\"imagelayer\"/><g class=\"shapelayer\"/></g><g class=\"infolayer\"><g class=\"g-gtitle\"><text class=\"gtitle\" x=\"35\" y=\"50\" text-anchor=\"start\" dy=\"0em\" style=\"font-family: 'Open Sans', verdana, arial, sans-serif; font-size: 17px; fill: rgb(42, 63, 95); opacity: 1; font-weight: normal; white-space: pre;\">Phase demodulated</text></g><g class=\"g-xtitle\"><text class=\"xtitle\" x=\"350\" y=\"460.3\" text-anchor=\"middle\" style=\"font-family: 'Open Sans', verdana, arial, sans-serif; font-size: 14px; fill: rgb(42, 63, 95); opacity: 1; font-weight: normal; white-space: pre;\">Time (s)</text></g><g class=\"g-ytitle\"><text class=\"ytitle\" transform=\"rotate(-90,26.934375000000003,260)\" x=\"26.934375000000003\" y=\"260\" text-anchor=\"middle\" style=\"font-family: 'Open Sans', verdana, arial, sans-serif; font-size: 14px; fill: rgb(42, 63, 95); opacity: 1; font-weight: normal; white-space: pre;\">Phase (rad)</text></g></g></svg>"
      ],
      "text/plain": [
       "<IPython.core.display.SVG object>"
      ]
     },
     "metadata": {},
     "output_type": "display_data"
    }
   ],
   "source": [
    "fig = go.Figure()\n",
    "fig.add_trace(go.Scatter(\n",
    "    x=timestamp[0, 0, :],\n",
    "    y=demod,\n",
    "))\n",
    "\n",
    "fig.update_layout(\n",
    "    title='Phase demodulated',\n",
    "    xaxis=dict(tickformat='.2f', title='Time (s)'),\n",
    "    yaxis=dict(tickformat='.2f', title='Phase (rad)'),\n",
    ")\n",
    "\n",
    "# fig.show()\n",
    "display(SVG(fig.to_image(format='svg', scale=1)))"
   ]
  },
  {
   "cell_type": "code",
   "execution_count": null,
   "metadata": {},
   "outputs": [],
   "source": []
  }
 ],
 "metadata": {
  "kernel_info": {
   "name": "python3"
  },
  "kernelspec": {
   "display_name": "Python 3",
   "language": "python",
   "name": "python3"
  },
  "language_info": {
   "codemirror_mode": {
    "name": "ipython",
    "version": 3
   },
   "file_extension": ".py",
   "mimetype": "text/x-python",
   "name": "python",
   "nbconvert_exporter": "python",
   "pygments_lexer": "ipython3",
   "version": "3.9.4"
  },
  "nteract": {
   "version": "0.12.3"
  },
  "toc": {
   "base_numbering": 1,
   "nav_menu": {},
   "number_sections": true,
   "sideBar": true,
   "skip_h1_title": false,
   "title_cell": "Table of Contents",
   "title_sidebar": "Contents",
   "toc_cell": false,
   "toc_position": {},
   "toc_section_display": true,
   "toc_window_display": false
  },
  "toc-showcode": false,
  "varInspector": {
   "cols": {
    "lenName": 16,
    "lenType": 16,
    "lenVar": 40
   },
   "kernels_config": {
    "python": {
     "delete_cmd_postfix": "",
     "delete_cmd_prefix": "del ",
     "library": "var_list.py",
     "varRefreshCmd": "print(var_dic_list())"
    },
    "r": {
     "delete_cmd_postfix": ") ",
     "delete_cmd_prefix": "rm(",
     "library": "var_list.r",
     "varRefreshCmd": "cat(var_dic_list()) "
    }
   },
   "types_to_exclude": [
    "module",
    "function",
    "builtin_function_or_method",
    "instance",
    "_Feature"
   ],
   "window_display": false
  }
 },
 "nbformat": 4,
 "nbformat_minor": 4
}
