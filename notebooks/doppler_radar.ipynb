{
 "cells": [
  {
   "cell_type": "markdown",
   "metadata": {},
   "source": [
    "# Doppler (Interferometry) Radar\n",
    "\n",
    "This is a Doppler (interferometry) radar simulation example based on `RadarSimPy`.\n",
    "\n",
    ">`RadarSimPy` is a radar simulation package built with python. **<a href=\"https://zpeng.me/#contact\" target=\"_blank\">Contact me</a> if you are interested in this module.**\n",
    "\n",
    "\n",
    "This notebook is available on my <a href=\"https://github.com/rookiepeng/radar-simulation-notebooks\" target=\"_blank\">GitHub</a>.\n",
    "\n",
    "#### Requires\n",
    "\n",
    "- numpy\n",
    "- scipy\n",
    "- plotly (*visualization*)\n",
    "\n",
    "---\n",
    "\n",
    "\n",
    "## Radar Model\n",
    "### Transmitter\n",
    "\n",
    "The following table lists the basic parameters of the radar transmitter.\n",
    "\n",
    "| Parameter                       | Variable in `RadarSimPy` | Value      |\n",
    "|---------------------------------|--------------------------|------------|\n",
    "| Center frequency ($f_c$)        | fc                       | 24.125 GHz |\n",
    "| Transmitted power ($P_t$)       | tx_power                 | 10 dBm     |\n",
    "| Signal length ($T$)             | pulse_length             | 20 s       |\n",
    "\n",
    "### Receiver\n",
    "The parameters of the receiver are listed in the table below.\n",
    "\n",
    "| Parameter                        | Variable in `RadarSimPy` | Value        |\n",
    "|----------------------------------|--------------------------|--------------|\n",
    "| Sampling rate ($f_s$)            | fs                       | 20 sps       |\n",
    "| Noise figure ($NF$)              | noise_figure             | 12 dB        |\n",
    "| RF gain/loss ($G_{rf}$)          | rf_gain                  | 20 dB        |\n",
    "| Baseband gain ($G_{BB}$)         | baseband_gain            | 50 dB        |\n",
    "| Load resistor ($R_L$)            | load_resistor            | 1000 $\\Omega$|\n"
   ]
  },
  {
   "cell_type": "code",
   "execution_count": 1,
   "metadata": {},
   "outputs": [],
   "source": [
    "import numpy as np\n",
    "from radarsimpy import Radar, Transmitter, Receiver\n",
    "\n",
    "tx = Transmitter(f=24.125e9,\n",
    "                 t=20,\n",
    "                 tx_power=10,\n",
    "                 pulses=1,\n",
    "                 channels=[dict(location=(0, 0, 0))])\n",
    "\n",
    "rx = Receiver(fs=20,\n",
    "              noise_figure=12,\n",
    "              rf_gain=20,\n",
    "              baseband_gain=50,\n",
    "              load_resistor=1000,\n",
    "              channels=[dict(location=(0, 0, 0))])\n",
    "\n",
    "radar = Radar(transmitter=tx, receiver=rx)"
   ]
  },
  {
   "cell_type": "markdown",
   "metadata": {},
   "source": [
    "### Targets\n",
    "The propertities of targets are defined here. There is only one target in this simulaiton. The motion of the target is defined by `1.5+1e-3*np.sin(2*np.pi*1*radar.timestamp)`. `radar.timestamp` is the time matrix of the baseband samples."
   ]
  },
  {
   "cell_type": "code",
   "execution_count": 2,
   "metadata": {},
   "outputs": [],
   "source": [
    "target = dict(location=(1.4+1e-3*np.sin(2*np.pi*1*radar.timestamp), 0, 0),\n",
    "              rcs=-10,\n",
    "              phase=0)\n",
    "\n",
    "targets = [target]"
   ]
  },
  {
   "cell_type": "markdown",
   "metadata": {},
   "source": [
    "## Simulate Baseband Signals\n",
    "\n",
    "Calculate baseband signal matrix:\n",
    "$$[channels, pulses, ADC~samples]$$\n",
    "\n",
    "#### Simulate with Python engine"
   ]
  },
  {
   "cell_type": "code",
   "execution_count": 3,
   "metadata": {},
   "outputs": [],
   "source": [
    "from radarsimpy import simulator as sim\n",
    "\n",
    "data = sim(radar, targets)\n",
    "timestamp = data['timestamp']\n",
    "baseband = data['baseband']"
   ]
  },
  {
   "cell_type": "markdown",
   "metadata": {},
   "source": [
    "#### Simulate with C++ engine"
   ]
  },
  {
   "cell_type": "code",
   "execution_count": 4,
   "metadata": {},
   "outputs": [],
   "source": [
    "from radarsimpy import simulatorcpp as simcpp\n",
    "\n",
    "data = simcpp(radar, targets)\n",
    "timestamp = data['timestamp']\n",
    "baseband = data['baseband']"
   ]
  },
  {
   "cell_type": "code",
   "execution_count": 5,
   "metadata": {
    "tags": [
     "remove_cell"
    ]
   },
   "outputs": [
    {
     "data": {
      "image/svg+xml": [
       "<svg xmlns=\"http://www.w3.org/2000/svg\" xmlns:xlink=\"http://www.w3.org/1999/xlink\" class=\"main-svg\" width=\"700\" height=\"500\" style=\"\" viewBox=\"0 0 700 500\"><rect x=\"0\" y=\"0\" width=\"700\" height=\"500\" style=\"fill: rgb(255, 255, 255); fill-opacity: 1;\"/><defs id=\"defs-9855cd\"><g class=\"clips\"><clipPath id=\"clip9855cdxyplot\" class=\"plotclip\"><rect width=\"540\" height=\"320\"/></clipPath><clipPath class=\"axesclip\" id=\"clip9855cdx\"><rect x=\"80\" y=\"0\" width=\"540\" height=\"500\"/></clipPath><clipPath class=\"axesclip\" id=\"clip9855cdy\"><rect x=\"0\" y=\"100\" width=\"700\" height=\"320\"/></clipPath><clipPath class=\"axesclip\" id=\"clip9855cdxy\"><rect x=\"80\" y=\"100\" width=\"540\" height=\"320\"/></clipPath></g><g class=\"gradients\"/></defs><g class=\"bglayer\"><rect class=\"bg\" x=\"80\" y=\"100\" width=\"540\" height=\"320\" style=\"fill: rgb(229, 236, 246); fill-opacity: 1; stroke-width: 0;\"/></g><g class=\"layer-below\"><g class=\"imagelayer\"/><g class=\"shapelayer\"/></g><g class=\"cartesianlayer\"><g class=\"subplot xy\"><g class=\"layer-subplot\"><g class=\"shapelayer\"/><g class=\"imagelayer\"/></g><g class=\"gridlayer\"><g class=\"x\"><path class=\"xgrid crisp\" transform=\"translate(215.34,0)\" d=\"M0,100v320\" style=\"stroke: rgb(255, 255, 255); stroke-opacity: 1; stroke-width: 1px;\"/><path class=\"xgrid crisp\" transform=\"translate(350.68,0)\" d=\"M0,100v320\" style=\"stroke: rgb(255, 255, 255); stroke-opacity: 1; stroke-width: 1px;\"/><path class=\"xgrid crisp\" transform=\"translate(486.02,0)\" d=\"M0,100v320\" style=\"stroke: rgb(255, 255, 255); stroke-opacity: 1; stroke-width: 1px;\"/></g><g class=\"y\"><path class=\"ygrid crisp\" transform=\"translate(0,396.62)\" d=\"M80,0h540\" style=\"stroke: rgb(255, 255, 255); stroke-opacity: 1; stroke-width: 1px;\"/><path class=\"ygrid crisp\" transform=\"translate(0,351.03999999999996)\" d=\"M80,0h540\" style=\"stroke: rgb(255, 255, 255); stroke-opacity: 1; stroke-width: 1px;\"/><path class=\"ygrid crisp\" transform=\"translate(0,305.45)\" d=\"M80,0h540\" style=\"stroke: rgb(255, 255, 255); stroke-opacity: 1; stroke-width: 1px;\"/><path class=\"ygrid crisp\" transform=\"translate(0,214.28)\" d=\"M80,0h540\" style=\"stroke: rgb(255, 255, 255); stroke-opacity: 1; stroke-width: 1px;\"/><path class=\"ygrid crisp\" transform=\"translate(0,168.69)\" d=\"M80,0h540\" style=\"stroke: rgb(255, 255, 255); stroke-opacity: 1; stroke-width: 1px;\"/><path class=\"ygrid crisp\" transform=\"translate(0,123.11)\" d=\"M80,0h540\" style=\"stroke: rgb(255, 255, 255); stroke-opacity: 1; stroke-width: 1px;\"/></g></g><g class=\"zerolinelayer\"><path class=\"xzl zl crisp\" transform=\"translate(80,0)\" d=\"M0,100v320\" style=\"stroke: rgb(255, 255, 255); stroke-opacity: 1; stroke-width: 2px;\"/><path class=\"yzl zl crisp\" transform=\"translate(0,259.87)\" d=\"M80,0h540\" style=\"stroke: rgb(255, 255, 255); stroke-opacity: 1; stroke-width: 2px;\"/></g><path class=\"xlines-below\"/><path class=\"ylines-below\"/><g class=\"overlines-below\"/><g class=\"xaxislayer-below\"/><g class=\"yaxislayer-below\"/><g class=\"overaxes-below\"/><g class=\"plot\" transform=\"translate(80,100)\" clip-path=\"url('#clip9855cdxyplot')\"><g class=\"scatterlayer mlayer\"><g class=\"trace scatter trace2fdf75\" style=\"stroke-miterlimit: 2; opacity: 1;\"><g class=\"fills\"/><g class=\"errorbars\"/><g class=\"lines\"><path class=\"js-line\" d=\"M0,223.71L2.71,285.64L4.06,298.43L5.41,303.04L6.77,303.96L8.12,303.05L9.47,298.47L10.83,285.63L12.18,260.63L17.59,108.43L18.95,89.44L20.3,83.26L21.65,89.47L23.01,108.44L24.36,139.81L29.77,285.63L31.13,298.46L32.48,303.04L33.83,303.95L35.19,303.03L36.54,298.44L37.89,285.62L39.25,260.67L44.66,108.41L46.02,89.51L47.37,83.24L48.72,89.42L50.08,108.34L51.43,139.81L56.84,285.61L58.2,298.47L59.55,303.07L60.9,303.96L62.26,303.02L63.61,298.44L64.96,285.57L66.32,260.63L71.73,108.4L73.08,89.52L74.44,83.23L75.79,89.5L77.14,108.4L78.5,139.76L83.91,285.63L85.26,298.44L86.62,303.05L87.97,303.97L89.32,303.1L90.68,298.42L92.03,285.61L93.38,260.63L98.8,108.41L100.15,89.46L101.5,83.26L102.86,89.47L104.21,108.37L105.56,139.84L110.98,285.6L112.33,298.41L113.68,303L115.04,303.94L116.39,303.04L117.74,298.46L119.1,285.64L120.45,260.58L125.86,108.4L127.22,89.42L128.57,83.26L129.92,89.48L131.28,108.44L132.63,139.78L138.05,285.58L139.4,298.43L140.75,303.06L142.11,303.96L143.46,303.04L144.81,298.46L146.17,285.62L147.52,260.62L152.93,108.38L154.29,89.42L155.64,83.3L156.99,89.49L158.35,108.38L159.7,139.82L165.11,285.56L166.47,298.47L167.82,303.07L169.17,303.97L170.53,303.1L171.88,298.45L173.23,285.62L174.59,260.65L180,108.39L181.35,89.43L182.71,83.3L184.06,89.47L185.41,108.39L186.77,139.8L192.18,285.65L193.53,298.42L194.89,303.07L196.24,303.91L197.59,303.04L198.95,298.46L200.3,285.64L201.65,260.65L207.07,108.42L208.42,89.44L209.77,83.28L211.13,89.46L212.48,108.36L213.83,139.82L219.25,285.59L220.6,298.43L221.95,303.06L223.31,303.97L224.66,303.1L226.02,298.44L227.37,285.63L228.72,260.66L234.14,108.42L235.49,89.46L236.84,83.26L238.2,89.47L239.55,108.37L240.9,139.75L246.32,285.59L247.67,298.41L249.02,302.98L250.38,303.99L251.73,303.06L253.08,298.41L254.44,285.6L255.79,260.61L261.2,108.35L262.56,89.46L263.91,83.23L265.26,89.46L266.62,108.38L267.97,139.77L273.38,285.61L274.74,298.4L276.09,302.99L277.44,303.94L278.8,303.05L280.15,298.43L281.5,285.6L282.86,260.69L288.27,108.42L289.62,89.44L290.98,83.24L292.33,89.44L293.68,108.4L295.04,139.74L300.45,285.65L301.8,298.43L303.16,303.06L304.51,303.98L305.86,303.01L307.22,298.46L308.57,285.53L309.92,260.66L315.34,108.34L316.69,89.47L318.05,83.21L319.4,89.44L320.75,108.43L322.11,139.77L327.52,285.61L328.87,298.48L330.23,303.08L331.58,303.95L332.93,303.04L334.29,298.43L335.64,285.63L336.99,260.67L342.41,108.38L343.76,89.46L345.11,83.24L346.47,89.45L347.82,108.4L349.17,139.77L354.59,285.58L355.94,298.46L357.29,303.08L358.65,304L360,303.04L361.35,298.45L362.71,285.6L364.06,260.71L369.47,108.36L370.83,89.49L372.18,83.21L373.53,89.42L374.89,108.44L376.24,139.8L381.65,285.6L383.01,298.44L384.36,303.05L385.71,303.95L387.07,303.03L388.42,298.43L389.77,285.53L391.13,260.65L396.54,108.35L397.89,89.47L399.25,83.25L400.6,89.42L401.95,108.39L403.31,139.73L408.72,285.62L410.08,298.47L411.43,303.03L412.78,303.98L414.14,303.09L415.49,298.41L416.84,285.6L418.2,260.66L423.61,108.35L424.96,89.45L426.32,83.2L427.67,89.45L429.02,108.46L430.38,139.82L435.79,285.61L437.14,298.44L438.5,303.01L439.85,303.95L441.2,303.05L442.56,298.44L443.91,285.64L445.26,260.66L450.68,108.3L452.03,89.51L453.38,83.27L454.74,89.44L456.09,108.36L457.44,139.86L462.86,285.67L464.21,298.45L465.56,303L466.92,303.91L468.27,303.06L469.62,298.44L470.98,285.59L472.33,260.65L477.74,108.32L479.1,89.53L480.45,83.25L481.8,89.49L483.16,108.37L484.51,139.85L489.92,285.67L491.28,298.48L492.63,303.02L493.98,303.91L495.34,303.02L496.69,298.5L498.05,285.59L499.4,260.61L504.81,108.3L506.17,89.54L507.52,83.24L508.87,89.46L510.23,108.39L511.58,139.83L516.99,285.61L518.35,298.43L519.7,303.04L521.05,303.97L522.41,303.05L523.76,298.48L525.11,285.62L526.47,260.67L531.88,108.35L533.23,89.54L534.59,83.28L535.94,89.44L537.29,108.39L538.65,139.81L540,180.61\" style=\"vector-effect: non-scaling-stroke; fill: none; stroke: rgb(99, 110, 250); stroke-opacity: 1; stroke-width: 2px; opacity: 1;\"/></g><g class=\"points\"/><g class=\"text\"/></g><g class=\"trace scatter tracead1768\" style=\"stroke-miterlimit: 2; opacity: 1;\"><g class=\"fills\"/><g class=\"errorbars\"/><g class=\"lines\"><path class=\"js-line\" d=\"M0,29.64L5.41,137.76L6.77,144.88L8.12,137.77L9.47,117.52L13.53,29.59L14.89,16.18L16.24,16.1L17.59,24.04L18.95,32.76L20.3,36.44L21.65,32.8L23.01,24.04L24.36,16.07L25.71,16.22L27.07,29.62L28.42,55.55L32.48,137.76L33.83,144.87L35.19,137.8L36.54,117.48L40.6,29.59L41.95,16.27L43.31,16.02L44.66,24.1L46.02,32.75L47.37,36.37L48.72,32.85L50.08,24.06L51.43,16.04L52.78,16.23L54.14,29.62L55.49,55.61L59.55,137.75L60.9,144.87L62.26,137.78L63.61,117.46L67.67,29.59L69.02,16.25L70.38,16.05L71.73,24.02L73.08,32.84L74.44,36.43L75.79,32.8L77.14,24.02L78.5,16.04L79.85,16.22L81.2,29.58L82.56,55.55L86.62,137.75L87.97,144.83L89.32,137.73L90.68,117.45L94.74,29.58L96.09,16.2L97.44,16.1L98.8,24.04L100.15,32.82L101.5,36.41L102.86,32.81L104.21,24.03L105.56,16.08L106.92,16.23L108.27,29.58L109.62,55.59L113.68,137.76L115.04,144.84L116.39,137.8L117.74,117.5L121.8,29.59L123.16,16.18L124.51,16.03L125.86,24.03L127.22,32.77L128.57,36.45L129.92,32.8L131.28,24.02L132.63,16.07L133.98,16.19L135.34,29.6L136.69,55.57L140.75,137.76L142.11,144.88L143.46,137.75L144.81,117.45L148.87,29.59L150.23,16.19L151.58,16.04L152.93,24.04L154.29,32.81L155.64,36.41L156.99,32.8L158.35,24.03L159.7,16.09L161.05,16.21L162.41,29.53L163.76,55.63L167.82,137.75L169.17,144.86L170.53,137.76L171.88,117.49L175.94,29.58L177.29,16.22L178.65,16.08L180,24.07L181.35,32.77L182.71,36.39L184.06,32.81L185.41,24.01L186.77,16.05L188.12,16.2L189.47,29.6L190.83,55.56L194.89,137.77L196.24,144.85L197.59,137.75L198.95,117.52L203.01,29.61L204.36,16.24L205.71,16.05L207.07,24.04L208.42,32.8L209.77,36.45L211.13,32.81L212.48,24.05L213.83,16.07L215.19,16.26L216.54,29.6L217.89,55.62L221.95,137.77L223.31,144.88L224.66,137.79L226.02,117.52L230.08,29.55L231.43,16.24L232.78,16.02L234.14,24.08L235.49,32.81L236.84,36.43L238.2,32.77L239.55,24.02L240.9,16.06L242.26,16.21L243.61,29.62L244.96,55.58L249.02,137.76L250.38,144.88L251.73,137.78L253.08,117.47L257.14,29.59L258.5,16.21L259.85,16.01L261.2,23.99L262.56,32.81L263.91,36.38L265.26,32.78L266.62,24.03L267.97,16.06L269.32,16.21L270.68,29.6L272.03,55.63L276.09,137.73L277.44,144.88L278.8,137.77L280.15,117.41L284.21,29.59L285.56,16.22L286.92,16.05L288.27,24.06L289.62,32.79L290.98,36.42L292.33,32.79L293.68,24.04L295.04,16.07L296.39,16.21L297.74,29.56L299.1,55.6L303.16,137.75L304.51,144.89L305.86,137.77L307.22,117.43L311.28,29.62L312.63,16.22L313.98,16.07L315.34,24.07L316.69,32.76L318.05,36.4L319.4,32.82L320.75,24.05L322.11,16.06L323.46,16.2L324.81,29.59L326.17,55.62L330.23,137.71L331.58,144.9L332.93,137.74L334.29,117.46L338.35,29.62L339.7,16.17L341.05,16.05L342.41,24.03L343.76,32.8L345.11,36.42L346.47,32.79L347.82,24.04L349.17,16.08L350.53,16.23L351.88,29.6L353.23,55.57L357.29,137.78L358.65,144.88L360,137.69L361.35,117.48L365.41,29.62L366.77,16.18L368.12,16.09L369.47,24L370.83,32.82L372.18,36.46L373.53,32.81L374.89,24.04L376.24,16.06L377.59,16.16L378.95,29.62L380.3,55.57L384.36,137.76L385.71,144.91L387.07,137.76L388.42,117.5L392.48,29.6L393.83,16.24L395.19,16.06L396.54,24.04L397.89,32.8L399.25,36.41L400.6,32.81L401.95,24.01L403.31,16.02L404.66,16.22L406.02,29.59L407.37,55.57L411.43,137.78L412.78,144.89L414.14,137.74L415.49,117.49L419.55,29.64L420.9,16.2L422.26,16.05L423.61,24.1L424.96,32.79L426.32,36.42L427.67,32.77L429.02,24.02L430.38,16L431.73,16.19L433.08,29.56L434.44,55.6L438.5,137.71L439.85,144.83L441.2,137.74L442.56,117.52L446.62,29.57L447.97,16.2L449.32,16.07L450.68,24.06L452.03,32.78L453.38,36.37L454.74,32.77L456.09,24.07L457.44,16.05L458.8,16.22L460.15,29.59L461.5,55.64L465.56,137.78L466.92,144.84L468.27,137.75L469.62,117.54L473.68,29.58L475.04,16.19L476.39,16.06L477.74,24.05L479.1,32.76L480.45,36.41L481.8,32.8L483.16,24.05L484.51,16.12L485.86,16.19L487.22,29.59L488.57,55.65L492.63,137.76L493.98,144.77L495.34,137.67L496.69,117.53L500.75,29.62L502.11,16.19L503.46,16.04L504.81,24.14L506.17,32.75L507.52,36.43L508.87,32.8L510.23,24.07L511.58,16.03L512.93,16.22L514.29,29.59L515.64,55.62L519.7,137.75L521.05,144.82L522.41,137.74L523.76,117.52L527.82,29.6L529.17,16.21L530.53,16.06L531.88,24.07L533.23,32.76L534.59,36.41L535.94,32.77L537.29,24.07L538.65,16.06L540,16.25\" style=\"vector-effect: non-scaling-stroke; fill: none; stroke: rgb(239, 85, 59); stroke-opacity: 1; stroke-width: 2px; opacity: 1;\"/></g><g class=\"points\"/><g class=\"text\"/></g></g></g><g class=\"overplot\"/><path class=\"xlines-above crisp\" d=\"M0,0\" style=\"fill: none;\"/><path class=\"ylines-above crisp\" d=\"M0,0\" style=\"fill: none;\"/><g class=\"overlines-above\"/><g class=\"xaxislayer-above\"><g class=\"xtick\"><text text-anchor=\"middle\" x=\"0\" y=\"433\" transform=\"translate(80,0)\" style=\"font-family: 'Open Sans', verdana, arial, sans-serif; font-size: 12px; fill: rgb(42, 63, 95); fill-opacity: 1; white-space: pre;\">0</text></g><g class=\"xtick\"><text text-anchor=\"middle\" x=\"0\" y=\"433\" transform=\"translate(215.34,0)\" style=\"font-family: 'Open Sans', verdana, arial, sans-serif; font-size: 12px; fill: rgb(42, 63, 95); fill-opacity: 1; white-space: pre;\">5</text></g><g class=\"xtick\"><text text-anchor=\"middle\" x=\"0\" y=\"433\" transform=\"translate(350.68,0)\" style=\"font-family: 'Open Sans', verdana, arial, sans-serif; font-size: 12px; fill: rgb(42, 63, 95); fill-opacity: 1; white-space: pre;\">10</text></g><g class=\"xtick\"><text text-anchor=\"middle\" x=\"0\" y=\"433\" transform=\"translate(486.02,0)\" style=\"font-family: 'Open Sans', verdana, arial, sans-serif; font-size: 12px; fill: rgb(42, 63, 95); fill-opacity: 1; white-space: pre;\">15</text></g></g><g class=\"yaxislayer-above\"><g class=\"ytick\"><text text-anchor=\"end\" x=\"79\" y=\"4.199999999999999\" transform=\"translate(0,396.62)\" style=\"font-family: 'Open Sans', verdana, arial, sans-serif; font-size: 12px; fill: rgb(42, 63, 95); fill-opacity: 1; white-space: pre;\">−0.6</text></g><g class=\"ytick\"><text text-anchor=\"end\" x=\"79\" y=\"4.199999999999999\" transform=\"translate(0,351.03999999999996)\" style=\"font-family: 'Open Sans', verdana, arial, sans-serif; font-size: 12px; fill: rgb(42, 63, 95); fill-opacity: 1; white-space: pre;\">−0.4</text></g><g class=\"ytick\"><text text-anchor=\"end\" x=\"79\" y=\"4.199999999999999\" transform=\"translate(0,305.45)\" style=\"font-family: 'Open Sans', verdana, arial, sans-serif; font-size: 12px; fill: rgb(42, 63, 95); fill-opacity: 1; white-space: pre;\">−0.2</text></g><g class=\"ytick\"><text text-anchor=\"end\" x=\"79\" y=\"4.199999999999999\" transform=\"translate(0,259.87)\" style=\"font-family: 'Open Sans', verdana, arial, sans-serif; font-size: 12px; fill: rgb(42, 63, 95); fill-opacity: 1; white-space: pre;\">0</text></g><g class=\"ytick\"><text text-anchor=\"end\" x=\"79\" y=\"4.199999999999999\" transform=\"translate(0,214.28)\" style=\"font-family: 'Open Sans', verdana, arial, sans-serif; font-size: 12px; fill: rgb(42, 63, 95); fill-opacity: 1; white-space: pre;\">0.2</text></g><g class=\"ytick\"><text text-anchor=\"end\" x=\"79\" y=\"4.199999999999999\" transform=\"translate(0,168.69)\" style=\"font-family: 'Open Sans', verdana, arial, sans-serif; font-size: 12px; fill: rgb(42, 63, 95); fill-opacity: 1; white-space: pre;\">0.4</text></g><g class=\"ytick\"><text text-anchor=\"end\" x=\"79\" y=\"4.199999999999999\" transform=\"translate(0,123.11)\" style=\"font-family: 'Open Sans', verdana, arial, sans-serif; font-size: 12px; fill: rgb(42, 63, 95); fill-opacity: 1; white-space: pre;\">0.6</text></g></g><g class=\"overaxes-above\"/></g></g><g class=\"polarlayer\"/><g class=\"ternarylayer\"/><g class=\"geolayer\"/><g class=\"funnelarealayer\"/><g class=\"pielayer\"/><g class=\"treemaplayer\"/><g class=\"sunburstlayer\"/><g class=\"glimages\"/><defs id=\"topdefs-9855cd\"><g class=\"clips\"/><clipPath id=\"legend9855cd\"><rect width=\"55\" height=\"48\" x=\"0\" y=\"0\"/></clipPath></defs><g class=\"layer-above\"><g class=\"imagelayer\"/><g class=\"shapelayer\"/></g><g class=\"infolayer\"><g class=\"legend\" pointer-events=\"all\" transform=\"translate(630.8,100)\"><rect class=\"bg\" shape-rendering=\"crispEdges\" style=\"stroke: rgb(68, 68, 68); stroke-opacity: 1; fill: rgb(255, 255, 255); fill-opacity: 1; stroke-width: 0px;\" width=\"55\" height=\"48\" x=\"0\" y=\"0\"/><g class=\"scrollbox\" transform=\"\" clip-path=\"url('#legend9855cd')\"><g class=\"groups\"><g class=\"traces\" transform=\"translate(0,14.5)\" style=\"opacity: 1;\"><text class=\"legendtext\" text-anchor=\"start\" x=\"40\" y=\"4.680000000000001\" style=\"font-family: 'Open Sans', verdana, arial, sans-serif; font-size: 12px; fill: rgb(42, 63, 95); fill-opacity: 1; white-space: pre;\">I</text><g class=\"layers\" style=\"opacity: 1;\"><g class=\"legendfill\"/><g class=\"legendlines\"><path class=\"js-line\" d=\"M5,0h30\" style=\"fill: none; stroke: rgb(99, 110, 250); stroke-opacity: 1; stroke-width: 2px;\"/></g><g class=\"legendsymbols\"><g class=\"legendpoints\"/></g></g><rect class=\"legendtoggle\" x=\"0\" y=\"-9.5\" width=\"49.453125\" height=\"19\" style=\"fill: rgb(0, 0, 0); fill-opacity: 0;\"/></g><g class=\"traces\" transform=\"translate(0,33.5)\" style=\"opacity: 1;\"><text class=\"legendtext\" text-anchor=\"start\" x=\"40\" y=\"4.680000000000001\" style=\"font-family: 'Open Sans', verdana, arial, sans-serif; font-size: 12px; fill: rgb(42, 63, 95); fill-opacity: 1; white-space: pre;\">Q</text><g class=\"layers\" style=\"opacity: 1;\"><g class=\"legendfill\"/><g class=\"legendlines\"><path class=\"js-line\" d=\"M5,0h30\" style=\"fill: none; stroke: rgb(239, 85, 59); stroke-opacity: 1; stroke-width: 2px;\"/></g><g class=\"legendsymbols\"><g class=\"legendpoints\"/></g></g><rect class=\"legendtoggle\" x=\"0\" y=\"-9.5\" width=\"49.453125\" height=\"19\" style=\"fill: rgb(0, 0, 0); fill-opacity: 0;\"/></g></g></g><rect class=\"scrollbar\" rx=\"20\" ry=\"3\" width=\"0\" height=\"0\" style=\"fill: rgb(128, 139, 164); fill-opacity: 1;\" x=\"0\" y=\"0\"/></g><g class=\"g-gtitle\"><text class=\"gtitle\" x=\"35\" y=\"50\" text-anchor=\"start\" dy=\"0em\" style=\"font-family: 'Open Sans', verdana, arial, sans-serif; font-size: 17px; fill: rgb(42, 63, 95); opacity: 1; font-weight: normal; white-space: pre;\">I/Q Baseband Signals</text></g><g class=\"g-xtitle\"><text class=\"xtitle\" x=\"350\" y=\"460.8\" text-anchor=\"middle\" style=\"font-family: 'Open Sans', verdana, arial, sans-serif; font-size: 14px; fill: rgb(42, 63, 95); opacity: 1; font-weight: normal; white-space: pre;\">Time (s)</text></g><g class=\"g-ytitle\"><text class=\"ytitle\" transform=\"rotate(-90,24.746875000000003,260)\" x=\"24.746875000000003\" y=\"260\" text-anchor=\"middle\" style=\"font-family: 'Open Sans', verdana, arial, sans-serif; font-size: 14px; fill: rgb(42, 63, 95); opacity: 1; font-weight: normal; white-space: pre;\">Amplitude (V)</text></g></g></svg>"
      ],
      "text/plain": [
       "<IPython.core.display.SVG object>"
      ]
     },
     "metadata": {},
     "output_type": "display_data"
    }
   ],
   "source": [
    "import plotly.graph_objs as go\n",
    "from plotly.offline import iplot\n",
    "from IPython.display import SVG, display\n",
    "\n",
    "beat_I = go.Scatter(\n",
    "    x=timestamp[0, 0, :],\n",
    "    y=np.real(baseband[0, 0, :]),\n",
    "    name='I',\n",
    ")\n",
    "beat_Q = go.Scatter(\n",
    "    x=timestamp[0, 0, :],\n",
    "    y=np.imag(baseband[0, 0, :]),\n",
    "    name='Q',\n",
    ")\n",
    "data = [beat_I, beat_Q]\n",
    "\n",
    "layout = go.Layout(\n",
    "    title='I/Q Baseband Signals',\n",
    "    yaxis=dict(title='Amplitude (V)'),\n",
    "    xaxis=dict(title='Time (s)'),\n",
    ")\n",
    "\n",
    "fig = go.Figure(data, layout=layout)\n",
    "# iplot(fig)\n",
    "display(SVG(fig.to_image(format='svg', scale=1)))"
   ]
  },
  {
   "cell_type": "code",
   "execution_count": 6,
   "metadata": {},
   "outputs": [
    {
     "data": {
      "image/svg+xml": [
       "<svg xmlns=\"http://www.w3.org/2000/svg\" xmlns:xlink=\"http://www.w3.org/1999/xlink\" class=\"main-svg\" width=\"600\" height=\"600\" style=\"\" viewBox=\"0 0 600 600\"><rect x=\"0\" y=\"0\" width=\"600\" height=\"600\" style=\"fill: rgb(255, 255, 255); fill-opacity: 1;\"/><defs id=\"defs-facc2b\"><g class=\"clips\"><clipPath id=\"clipfacc2bxyplot\" class=\"plotclip\"><rect width=\"440\" height=\"420\"/></clipPath><clipPath class=\"axesclip\" id=\"clipfacc2bx\"><rect x=\"80\" y=\"0\" width=\"440\" height=\"600\"/></clipPath><clipPath class=\"axesclip\" id=\"clipfacc2by\"><rect x=\"0\" y=\"100\" width=\"600\" height=\"420\"/></clipPath><clipPath class=\"axesclip\" id=\"clipfacc2bxy\"><rect x=\"80\" y=\"100\" width=\"440\" height=\"420\"/></clipPath></g><g class=\"gradients\"/></defs><g class=\"bglayer\"><rect class=\"bg\" x=\"80\" y=\"100\" width=\"440\" height=\"420\" style=\"fill: rgb(229, 236, 246); fill-opacity: 1; stroke-width: 0;\"/></g><g class=\"layer-below\"><g class=\"imagelayer\"/><g class=\"shapelayer\"/></g><g class=\"cartesianlayer\"><g class=\"subplot xy\"><g class=\"layer-subplot\"><g class=\"shapelayer\"/><g class=\"imagelayer\"/></g><g class=\"gridlayer\"><g class=\"x\"><path class=\"xgrid crisp\" transform=\"translate(90,0)\" d=\"M0,100v420\" style=\"stroke: rgb(255, 255, 255); stroke-opacity: 1; stroke-width: 1px;\"/><path class=\"xgrid crisp\" transform=\"translate(195,0)\" d=\"M0,100v420\" style=\"stroke: rgb(255, 255, 255); stroke-opacity: 1; stroke-width: 1px;\"/><path class=\"xgrid crisp\" transform=\"translate(405,0)\" d=\"M0,100v420\" style=\"stroke: rgb(255, 255, 255); stroke-opacity: 1; stroke-width: 1px;\"/><path class=\"xgrid crisp\" transform=\"translate(510,0)\" d=\"M0,100v420\" style=\"stroke: rgb(255, 255, 255); stroke-opacity: 1; stroke-width: 1px;\"/></g><g class=\"y\"><path class=\"ygrid crisp\" transform=\"translate(0,415)\" d=\"M80,0h440\" style=\"stroke: rgb(255, 255, 255); stroke-opacity: 1; stroke-width: 1px;\"/><path class=\"ygrid crisp\" transform=\"translate(0,205)\" d=\"M80,0h440\" style=\"stroke: rgb(255, 255, 255); stroke-opacity: 1; stroke-width: 1px;\"/></g></g><g class=\"zerolinelayer\"><path class=\"xzl zl crisp\" transform=\"translate(300,0)\" d=\"M0,100v420\" style=\"stroke: rgb(255, 255, 255); stroke-opacity: 1; stroke-width: 2px;\"/><path class=\"yzl zl crisp\" transform=\"translate(0,310)\" d=\"M80,0h440\" style=\"stroke: rgb(255, 255, 255); stroke-opacity: 1; stroke-width: 2px;\"/></g><path class=\"xlines-below\"/><path class=\"ylines-below\"/><g class=\"overlines-below\"/><g class=\"xaxislayer-below\"/><g class=\"yaxislayer-below\"/><g class=\"overaxes-below\"/><g class=\"plot\" transform=\"translate(80,100)\" clip-path=\"url('#clipfacc2bxyplot')\"><g class=\"scatterlayer mlayer\"><g class=\"trace scatter trace74f5f8\" style=\"stroke-miterlimit: 2; opacity: 1;\"><g class=\"fills\"/><g class=\"errorbars\"/><g class=\"lines\"><path class=\"js-line\" d=\"M161.18,90.02L127.16,113.91L104.12,143.58L92.34,170.94L88.09,189.64L87.24,196.19L88.08,189.65L92.3,170.99L104.13,143.56L127.17,113.9L161.17,89.97L200.85,77.62L238.45,77.55L267.39,84.86L290.58,96.28L267.38,84.86L238.48,77.52L200.89,77.66L161.16,90L127.18,113.9L104.13,143.56L92.31,171.01L88.09,189.63L87.25,196.19L88.1,189.67L92.33,170.95L104.14,143.58L127.13,113.93L161.15,89.97L200.86,77.7L238.48,77.47L267.41,84.92L290.59,96.22L267.47,84.88L238.47,77.49L200.93,77.67L161.09,90L127.17,113.94L104.15,143.56L92.3,171L88.06,189.63L87.24,196.19L88.1,189.66L92.33,170.93L104.18,143.58L127.16,113.92L161.18,89.98L200.9,77.69L238.5,77.5L267.42,84.84L290.61,96.28L267.41,84.84L238.53,77.49L200.87,77.65L161.18,89.97L127.17,113.9L104.13,143.54L92.33,170.92L88.08,189.63L87.23,196.14L88.03,189.61L92.35,170.92L104.14,143.59L127.16,113.95L161.16,89.97L200.9,77.64L238.5,77.54L267.41,84.86L290.58,96.26L267.44,84.85L238.45,77.53L200.88,77.66L161.18,89.97L127.17,113.93L104.15,143.57L92.35,171L88.13,189.64L87.26,196.15L88.09,189.67L92.3,170.97L104.12,143.58L127.2,113.89L161.19,89.97L200.92,77.62L238.49,77.48L267.42,84.85L290.58,96.29L267.38,84.84L238.5,77.52L200.9,77.63L161.14,89.98L127.15,113.91L104.18,143.58L92.34,170.96L88.07,189.64L87.24,196.2L88.08,189.63L92.31,170.92L104.14,143.59L127.17,113.9L161.14,89.97L200.91,77.63L238.42,77.49L267.44,84.86L290.54,96.26L267.43,84.85L238.47,77.54L200.92,77.65L161.18,89.92L127.18,113.97L104.2,143.59L92.3,170.95L88.06,189.63L87.23,196.18L88.04,189.63L92.32,170.95L104.14,143.55L127.14,113.94L161.17,89.96L200.92,77.65L238.48,77.52L267.43,84.89L290.54,96.24L267.43,84.84L238.49,77.5L200.93,77.64L161.13,89.98L127.19,113.9L104.11,143.57L92.34,170.96L88.07,189.64L87.29,196.17L88.09,189.63L92.31,170.99L104.12,143.62L127.14,113.92L161.15,90L200.9,77.67L238.47,77.5L267.4,84.86L290.56,96.29L267.45,84.87L238.47,77.52L200.9,77.69L161.18,89.98L127.2,113.95L104.16,143.58L92.34,170.89L88.07,189.64L87.24,196.19L88.03,189.66L92.32,170.99L104.13,143.57L127.13,113.93L161.16,89.94L200.91,77.67L238.47,77.47L267.4,84.9L290.58,96.28L267.44,84.84L238.53,77.5L200.91,77.65L161.19,90L127.12,113.92L104.17,143.54L92.35,170.95L88.14,189.63L87.21,196.2L88.07,189.65L92.35,170.94L104.16,143.57L127.19,113.96L161.15,89.97L200.91,77.65L238.46,77.46L267.47,84.81L290.61,96.23L267.44,84.85L238.52,77.51L200.95,77.65L161.14,89.98L127.16,113.97L104.14,143.6L92.37,170.92L88.14,189.61L87.26,196.19L88.08,189.64L92.34,170.89L104.16,143.55L127.11,113.9L161.17,89.98L200.87,77.66L238.51,77.5L267.4,84.88L290.6,96.27L267.42,84.86L238.55,77.52L200.97,77.65L161.13,89.95L127.15,113.94L104.11,143.62L92.33,170.85L88.07,189.63L87.22,196.2L88.11,189.64L92.3,170.9L104.23,143.54L127.14,113.97L161.11,90L200.96,77.65L238.5,77.52L267.47,84.89L290.62,96.25L267.39,84.87L238.52,77.51L200.88,77.64L161.11,89.98L127.17,113.95L104.15,143.56L92.29,170.95L88.05,189.59L87.25,196.21L88.09,189.61L92.33,170.93L104.13,143.54L127.13,113.95L161.14,90L200.94,77.61L238.52,77.5L267.44,84.85L290.6,96.27L267.42,84.86L238.52,77.53L200.88,77.66L161.17,89.98L127.12,113.91L104.17,143.57L92.31,170.96L88.06,189.65L87.2,196.19L88.09,189.57L92.32,170.95L104.15,143.56L127.09,113.96L161.09,90L200.95,77.62L238.49,77.54L267.45,84.83L290.62,96.31L267.38,84.86L238.49,77.51L200.86,77.6L161.16,90L127.14,113.91L104.16,143.52L92.33,170.99L88.08,189.63L87.25,196.22L88.1,189.64L92.34,170.97L104.22,143.53L127.14,113.93L161.14,89.99L200.93,77.68L238.51,77.51L267.47,84.86L290.59,96.25L267.42,84.83L238.56,77.47L200.92,77.65L161.15,89.97L127.15,113.91L104.13,143.54L92.3,170.93L88.09,189.66L87.22,196.2L88.05,189.61L92.36,170.96L104.16,143.55L127.13,113.93L161.14,90.02L200.94,77.64L238.53,77.5L267.46,84.91L290.63,96.27L267.36,84.84L238.47,77.45L200.87,77.63L161.13,89.95L127.16,113.94L104.15,143.64L92.33,170.91L88.12,189.59L87.26,196.15L88.08,189.62L92.33,170.99L104.12,143.56L127.14,113.94L161.18,89.96L200.95,77.64L238.45,77.52L267.51,84.88L290.57,96.22L267.46,84.89L238.43,77.5L200.9,77.65L161.21,89.97L127.13,113.97L104.09,143.58L92.32,170.94L88.13,189.65L87.29,196.16L88.07,189.63L92.33,171L104.16,143.56L127.14,113.95L161.17,89.97L200.96,77.63L238.44,77.51L267.49,84.87L290.59,96.26L267.45,84.87L238.44,77.56L200.88,77.63L161.17,89.97L127.18,113.98L104.09,143.53L92.29,170.94L88.11,189.63L87.29,196.09L88.11,189.55L92.27,171L104.17,143.5L127.18,113.96L161.19,90.01L200.97,77.62L238.47,77.49L267.51,84.95L290.6,96.28L267.42,84.88L238.46,77.48L200.84,77.65L161.21,89.97L127.08,113.96L104.15,143.62L92.34,170.91L88.08,189.63L87.23,196.13L88.08,189.61L92.29,170.99L104.14,143.55L127.12,113.95L161.21,89.98L200.96,77.64L238.45,77.5L267.46,84.89L290.56,96.25L267.43,84.89L238.48,77.51L200.89,77.68\" style=\"vector-effect: non-scaling-stroke; fill: none; stroke: rgb(99, 110, 250); stroke-opacity: 1; stroke-width: 2px; opacity: 1;\"/></g><g class=\"points\"/><g class=\"text\"/></g></g></g><g class=\"overplot\"/><path class=\"xlines-above crisp\" d=\"M0,0\" style=\"fill: none;\"/><path class=\"ylines-above crisp\" d=\"M0,0\" style=\"fill: none;\"/><g class=\"overlines-above\"/><g class=\"xaxislayer-above\"><g class=\"xtick\"><text text-anchor=\"middle\" x=\"0\" y=\"533\" transform=\"translate(90,0)\" style=\"font-family: 'Open Sans', verdana, arial, sans-serif; font-size: 12px; fill: rgb(42, 63, 95); fill-opacity: 1; white-space: pre;\">−1.00</text></g><g class=\"xtick\"><text text-anchor=\"middle\" x=\"0\" y=\"533\" transform=\"translate(195,0)\" style=\"font-family: 'Open Sans', verdana, arial, sans-serif; font-size: 12px; fill: rgb(42, 63, 95); fill-opacity: 1; white-space: pre;\">−0.50</text></g><g class=\"xtick\"><text text-anchor=\"middle\" x=\"0\" y=\"533\" transform=\"translate(300,0)\" style=\"font-family: 'Open Sans', verdana, arial, sans-serif; font-size: 12px; fill: rgb(42, 63, 95); fill-opacity: 1; white-space: pre;\">0.00</text></g><g class=\"xtick\"><text text-anchor=\"middle\" x=\"0\" y=\"533\" transform=\"translate(405,0)\" style=\"font-family: 'Open Sans', verdana, arial, sans-serif; font-size: 12px; fill: rgb(42, 63, 95); fill-opacity: 1; white-space: pre;\">0.50</text></g><g class=\"xtick\"><text text-anchor=\"middle\" x=\"0\" y=\"533\" transform=\"translate(510,0)\" style=\"font-family: 'Open Sans', verdana, arial, sans-serif; font-size: 12px; fill: rgb(42, 63, 95); fill-opacity: 1; white-space: pre;\">1.00</text></g></g><g class=\"yaxislayer-above\"><g class=\"ytick\"><text text-anchor=\"end\" x=\"79\" y=\"4.199999999999999\" transform=\"translate(0,520)\" style=\"font-family: 'Open Sans', verdana, arial, sans-serif; font-size: 12px; fill: rgb(42, 63, 95); fill-opacity: 1; white-space: pre;\">−1.00</text></g><g class=\"ytick\"><text text-anchor=\"end\" x=\"79\" y=\"4.199999999999999\" transform=\"translate(0,415)\" style=\"font-family: 'Open Sans', verdana, arial, sans-serif; font-size: 12px; fill: rgb(42, 63, 95); fill-opacity: 1; white-space: pre;\">−0.50</text></g><g class=\"ytick\"><text text-anchor=\"end\" x=\"79\" y=\"4.199999999999999\" transform=\"translate(0,310)\" style=\"font-family: 'Open Sans', verdana, arial, sans-serif; font-size: 12px; fill: rgb(42, 63, 95); fill-opacity: 1; white-space: pre;\">0.00</text></g><g class=\"ytick\"><text text-anchor=\"end\" x=\"79\" y=\"4.199999999999999\" transform=\"translate(0,205)\" style=\"font-family: 'Open Sans', verdana, arial, sans-serif; font-size: 12px; fill: rgb(42, 63, 95); fill-opacity: 1; white-space: pre;\">0.50</text></g><g class=\"ytick\"><text text-anchor=\"end\" x=\"79\" y=\"4.199999999999999\" transform=\"translate(0,100)\" style=\"font-family: 'Open Sans', verdana, arial, sans-serif; font-size: 12px; fill: rgb(42, 63, 95); fill-opacity: 1; white-space: pre;\">1.00</text></g></g><g class=\"overaxes-above\"/></g></g><g class=\"polarlayer\"/><g class=\"ternarylayer\"/><g class=\"geolayer\"/><g class=\"funnelarealayer\"/><g class=\"pielayer\"/><g class=\"treemaplayer\"/><g class=\"sunburstlayer\"/><g class=\"glimages\"/><defs id=\"topdefs-facc2b\"><g class=\"clips\"/></defs><g class=\"layer-above\"><g class=\"imagelayer\"/><g class=\"shapelayer\"/></g><g class=\"infolayer\"><g class=\"g-gtitle\"><text class=\"gtitle\" x=\"30\" y=\"50\" text-anchor=\"start\" dy=\"0em\" style=\"font-family: 'Open Sans', verdana, arial, sans-serif; font-size: 17px; fill: rgb(42, 63, 95); opacity: 1; font-weight: normal; white-space: pre;\">I/Q Constellation Plot</text></g><g class=\"g-xtitle\"><text class=\"xtitle\" x=\"300\" y=\"560.8\" text-anchor=\"middle\" style=\"font-family: 'Open Sans', verdana, arial, sans-serif; font-size: 14px; fill: rgb(42, 63, 95); opacity: 1; font-weight: normal; white-space: pre;\">In-phase (V)</text></g><g class=\"g-ytitle\"><text class=\"ytitle\" transform=\"rotate(-90,17.121875000000003,310)\" x=\"17.121875000000003\" y=\"310\" text-anchor=\"middle\" style=\"font-family: 'Open Sans', verdana, arial, sans-serif; font-size: 14px; fill: rgb(42, 63, 95); opacity: 1; font-weight: normal; white-space: pre;\">Quadrature (V)</text></g></g></svg>"
      ],
      "text/plain": [
       "<IPython.core.display.SVG object>"
      ]
     },
     "metadata": {},
     "output_type": "display_data"
    }
   ],
   "source": [
    "polar = go.Scatter(\n",
    "    x=np.real(baseband[0, 0, :]),\n",
    "    y=np.imag(baseband[0, 0, :]),\n",
    ")\n",
    "\n",
    "data = [polar]\n",
    "\n",
    "layout = go.Layout(\n",
    "    title='I/Q Constellation Plot',\n",
    "    xaxis=dict(range=[-1, 1], tickformat='.2f', title='In-phase (V)'),\n",
    "    yaxis=dict(range=[-1, 1],\n",
    "               tickformat='.2f',\n",
    "               title='Quadrature (V)',\n",
    "               scaleanchor=\"x\",\n",
    "               scaleratio=1),\n",
    "    height=600,\n",
    "    width=600,\n",
    ")\n",
    "\n",
    "fig = go.Figure(data, layout=layout)\n",
    "# iplot(fig)\n",
    "display(SVG(fig.to_image(format='svg', scale=1)))"
   ]
  },
  {
   "cell_type": "markdown",
   "metadata": {},
   "source": [
    "## Phase demodulation"
   ]
  },
  {
   "cell_type": "code",
   "execution_count": 7,
   "metadata": {},
   "outputs": [],
   "source": [
    "demod = np.angle(baseband[0, 0, :])"
   ]
  },
  {
   "cell_type": "markdown",
   "metadata": {},
   "source": [
    "Plot"
   ]
  },
  {
   "cell_type": "code",
   "execution_count": 8,
   "metadata": {},
   "outputs": [
    {
     "data": {
      "image/svg+xml": [
       "<svg xmlns=\"http://www.w3.org/2000/svg\" xmlns:xlink=\"http://www.w3.org/1999/xlink\" class=\"main-svg\" width=\"700\" height=\"500\" style=\"\" viewBox=\"0 0 700 500\"><rect x=\"0\" y=\"0\" width=\"700\" height=\"500\" style=\"fill: rgb(255, 255, 255); fill-opacity: 1;\"/><defs id=\"defs-b71b7b\"><g class=\"clips\"><clipPath id=\"clipb71b7bxyplot\" class=\"plotclip\"><rect width=\"540\" height=\"320\"/></clipPath><clipPath class=\"axesclip\" id=\"clipb71b7bx\"><rect x=\"80\" y=\"0\" width=\"540\" height=\"500\"/></clipPath><clipPath class=\"axesclip\" id=\"clipb71b7by\"><rect x=\"0\" y=\"100\" width=\"700\" height=\"320\"/></clipPath><clipPath class=\"axesclip\" id=\"clipb71b7bxy\"><rect x=\"80\" y=\"100\" width=\"540\" height=\"320\"/></clipPath></g><g class=\"gradients\"/></defs><g class=\"bglayer\"><rect class=\"bg\" x=\"80\" y=\"100\" width=\"540\" height=\"320\" style=\"fill: rgb(229, 236, 246); fill-opacity: 1; stroke-width: 0;\"/></g><g class=\"layer-below\"><g class=\"imagelayer\"/><g class=\"shapelayer\"/></g><g class=\"cartesianlayer\"><g class=\"subplot xy\"><g class=\"layer-subplot\"><g class=\"shapelayer\"/><g class=\"imagelayer\"/></g><g class=\"gridlayer\"><g class=\"x\"><path class=\"xgrid crisp\" transform=\"translate(215.34,0)\" d=\"M0,100v320\" style=\"stroke: rgb(255, 255, 255); stroke-opacity: 1; stroke-width: 1px;\"/><path class=\"xgrid crisp\" transform=\"translate(350.68,0)\" d=\"M0,100v320\" style=\"stroke: rgb(255, 255, 255); stroke-opacity: 1; stroke-width: 1px;\"/><path class=\"xgrid crisp\" transform=\"translate(486.02,0)\" d=\"M0,100v320\" style=\"stroke: rgb(255, 255, 255); stroke-opacity: 1; stroke-width: 1px;\"/></g><g class=\"y\"><path class=\"ygrid crisp\" transform=\"translate(0,406.13)\" d=\"M80,0h540\" style=\"stroke: rgb(255, 255, 255); stroke-opacity: 1; stroke-width: 1px;\"/><path class=\"ygrid crisp\" transform=\"translate(0,334.96000000000004)\" d=\"M80,0h540\" style=\"stroke: rgb(255, 255, 255); stroke-opacity: 1; stroke-width: 1px;\"/><path class=\"ygrid crisp\" transform=\"translate(0,263.78)\" d=\"M80,0h540\" style=\"stroke: rgb(255, 255, 255); stroke-opacity: 1; stroke-width: 1px;\"/><path class=\"ygrid crisp\" transform=\"translate(0,192.61)\" d=\"M80,0h540\" style=\"stroke: rgb(255, 255, 255); stroke-opacity: 1; stroke-width: 1px;\"/><path class=\"ygrid crisp\" transform=\"translate(0,121.43)\" d=\"M80,0h540\" style=\"stroke: rgb(255, 255, 255); stroke-opacity: 1; stroke-width: 1px;\"/></g></g><g class=\"zerolinelayer\"><path class=\"xzl zl crisp\" transform=\"translate(80,0)\" d=\"M0,100v320\" style=\"stroke: rgb(255, 255, 255); stroke-opacity: 1; stroke-width: 2px;\"/></g><path class=\"xlines-below\"/><path class=\"ylines-below\"/><g class=\"overlines-below\"/><g class=\"xaxislayer-below\"/><g class=\"yaxislayer-below\"/><g class=\"overaxes-below\"/><g class=\"plot\" transform=\"translate(80,100)\" clip-path=\"url('#clipb71b7bxyplot')\"><g class=\"scatterlayer mlayer\"><g class=\"trace scatter trace924bae\" style=\"stroke-miterlimit: 2; opacity: 1;\"><g class=\"fills\"/><g class=\"errorbars\"/><g class=\"lines\"><path class=\"js-line\" d=\"M0,159.99L4.06,43.54L5.41,23.08L6.77,16.03L8.12,23.07L10.83,75.38L12.18,115.54L17.59,276.41L18.95,296.9L20.3,303.95L21.65,296.89L23.01,276.4L24.36,244.61L31.13,43.46L32.48,23.08L33.83,16.03L35.19,23.04L37.89,75.38L39.25,115.48L44.66,276.45L46.02,296.84L47.37,303.93L48.72,296.96L50.08,276.5L51.43,244.6L58.2,43.47L59.55,23.09L60.9,16.04L62.26,23.06L64.96,75.4L66.32,115.51L71.73,276.43L73.08,296.87L74.44,303.97L75.79,296.87L78.5,244.65L79.85,204.45L85.26,43.56L86.62,23.09L87.97,16.08L89.32,23.1L90.68,43.57L92.03,75.37L98.8,276.43L100.15,296.91L101.5,303.94L102.86,296.9L104.21,276.46L105.56,244.57L112.33,43.48L113.68,23.08L115.04,16.07L116.39,23.04L119.1,75.37L120.45,115.58L125.86,276.43L127.22,296.92L128.57,303.95L129.92,296.89L131.28,276.4L132.63,244.63L139.4,43.53L140.75,23.07L142.11,16.03L143.46,23.09L146.17,75.37L147.52,115.54L152.93,276.45L154.29,296.94L155.64,303.9L156.99,296.88L158.35,276.45L159.7,244.6L166.47,43.53L167.82,23.08L169.17,16.04L170.53,23.07L171.88,43.52L173.23,75.4L180,276.46L181.35,296.92L182.71,303.89L184.06,296.9L186.77,244.61L188.12,204.51L193.53,43.53L194.89,23.07L196.24,16.06L197.59,23.09L198.95,43.49L200.3,75.33L207.07,276.42L208.42,296.92L209.77,303.93L211.13,296.9L212.48,276.47L213.83,244.6L220.6,43.59L221.95,23.07L223.31,16.03L224.66,23.04L226.02,43.49L227.37,75.38L234.14,276.43L235.49,296.91L236.84,303.95L238.2,296.88L239.55,276.46L240.9,244.66L247.67,43.54L249.02,23.09L250.38,16.02L251.73,23.06L254.44,75.4L255.79,115.51L261.2,276.47L262.56,296.91L263.91,303.95L265.26,296.89L266.62,276.45L267.97,244.65L274.74,43.57L276.09,23.12L277.44,16.03L278.8,23.07L281.5,75.41L282.86,115.49L288.27,276.42L289.62,296.91L290.98,303.96L292.33,296.92L295.04,244.68L296.39,204.55L301.8,43.63L303.16,23.09L304.51,16.01L305.86,23.08L307.22,43.57L308.57,75.46L315.34,276.5L316.69,296.88L318.05,303.97L319.4,296.93L322.11,244.64L323.46,204.45L328.87,43.51L330.23,23.12L331.58,16.01L332.93,23.1L334.29,43.55L335.64,75.41L342.41,276.45L343.76,296.9L345.11,303.96L346.47,296.91L349.17,244.65L350.53,204.46L355.94,43.51L357.29,23.06L358.65,16.03L360,23.15L361.35,43.53L362.71,75.41L369.47,276.46L370.83,296.89L372.18,304L373.53,296.94L374.89,276.4L376.24,244.61L383.01,43.49L384.36,23.08L385.71,16L387.07,23.08L388.42,43.52L389.77,75.47L396.54,276.49L397.89,296.89L399.25,303.94L400.6,296.94L403.31,244.68L404.66,204.5L410.08,43.54L411.43,23.06L412.78,16.01L414.14,23.1L415.49,43.53L416.84,75.41L423.61,276.5L424.96,296.91L426.32,303.98L427.67,296.9L430.38,244.58L431.73,204.44L437.14,43.57L438.5,23.13L439.85,16.08L441.2,23.1L442.56,43.49L443.91,75.39L450.68,276.53L452.03,296.85L453.38,303.9L454.74,296.91L456.09,276.49L457.44,244.55L464.21,43.54L465.56,23.07L466.92,16.07L468.27,23.09L469.62,43.48L470.98,75.41L477.74,276.52L479.1,296.83L480.45,303.95L481.8,296.87L483.16,276.47L484.51,244.57L491.28,43.53L492.63,23.08L493.98,16.14L495.34,23.17L496.69,43.46L498.05,75.47L504.81,276.56L506.17,296.81L507.52,303.96L508.87,296.9L510.23,276.45L511.58,244.58L518.35,43.57L519.7,23.09L521.05,16.09L522.41,23.1L523.76,43.48L525.11,75.4L531.88,276.49L533.23,296.82L534.59,303.92L535.94,296.9L538.65,244.61L540,204.46\" style=\"vector-effect: non-scaling-stroke; fill: none; stroke: rgb(99, 110, 250); stroke-opacity: 1; stroke-width: 2px; opacity: 1;\"/></g><g class=\"points\"/><g class=\"text\"/></g></g></g><g class=\"overplot\"/><path class=\"xlines-above crisp\" d=\"M0,0\" style=\"fill: none;\"/><path class=\"ylines-above crisp\" d=\"M0,0\" style=\"fill: none;\"/><g class=\"overlines-above\"/><g class=\"xaxislayer-above\"><g class=\"xtick\"><text text-anchor=\"middle\" x=\"0\" y=\"433\" transform=\"translate(80,0)\" style=\"font-family: 'Open Sans', verdana, arial, sans-serif; font-size: 12px; fill: rgb(42, 63, 95); fill-opacity: 1; white-space: pre;\">0.00</text></g><g class=\"xtick\"><text text-anchor=\"middle\" x=\"0\" y=\"433\" transform=\"translate(215.34,0)\" style=\"font-family: 'Open Sans', verdana, arial, sans-serif; font-size: 12px; fill: rgb(42, 63, 95); fill-opacity: 1; white-space: pre;\">5.00</text></g><g class=\"xtick\"><text text-anchor=\"middle\" x=\"0\" y=\"433\" transform=\"translate(350.68,0)\" style=\"font-family: 'Open Sans', verdana, arial, sans-serif; font-size: 12px; fill: rgb(42, 63, 95); fill-opacity: 1; white-space: pre;\">10.00</text></g><g class=\"xtick\"><text text-anchor=\"middle\" x=\"0\" y=\"433\" transform=\"translate(486.02,0)\" style=\"font-family: 'Open Sans', verdana, arial, sans-serif; font-size: 12px; fill: rgb(42, 63, 95); fill-opacity: 1; white-space: pre;\">15.00</text></g></g><g class=\"yaxislayer-above\"><g class=\"ytick\"><text text-anchor=\"end\" x=\"79\" y=\"4.199999999999999\" transform=\"translate(0,406.13)\" style=\"font-family: 'Open Sans', verdana, arial, sans-serif; font-size: 12px; fill: rgb(42, 63, 95); fill-opacity: 1; white-space: pre;\">1.00</text></g><g class=\"ytick\"><text text-anchor=\"end\" x=\"79\" y=\"4.199999999999999\" transform=\"translate(0,334.96000000000004)\" style=\"font-family: 'Open Sans', verdana, arial, sans-serif; font-size: 12px; fill: rgb(42, 63, 95); fill-opacity: 1; white-space: pre;\">1.50</text></g><g class=\"ytick\"><text text-anchor=\"end\" x=\"79\" y=\"4.199999999999999\" transform=\"translate(0,263.78)\" style=\"font-family: 'Open Sans', verdana, arial, sans-serif; font-size: 12px; fill: rgb(42, 63, 95); fill-opacity: 1; white-space: pre;\">2.00</text></g><g class=\"ytick\"><text text-anchor=\"end\" x=\"79\" y=\"4.199999999999999\" transform=\"translate(0,192.61)\" style=\"font-family: 'Open Sans', verdana, arial, sans-serif; font-size: 12px; fill: rgb(42, 63, 95); fill-opacity: 1; white-space: pre;\">2.50</text></g><g class=\"ytick\"><text text-anchor=\"end\" x=\"79\" y=\"4.199999999999999\" transform=\"translate(0,121.43)\" style=\"font-family: 'Open Sans', verdana, arial, sans-serif; font-size: 12px; fill: rgb(42, 63, 95); fill-opacity: 1; white-space: pre;\">3.00</text></g></g><g class=\"overaxes-above\"/></g></g><g class=\"polarlayer\"/><g class=\"ternarylayer\"/><g class=\"geolayer\"/><g class=\"funnelarealayer\"/><g class=\"pielayer\"/><g class=\"treemaplayer\"/><g class=\"sunburstlayer\"/><g class=\"glimages\"/><defs id=\"topdefs-b71b7b\"><g class=\"clips\"/></defs><g class=\"layer-above\"><g class=\"imagelayer\"/><g class=\"shapelayer\"/></g><g class=\"infolayer\"><g class=\"g-gtitle\"><text class=\"gtitle\" x=\"35\" y=\"50\" text-anchor=\"start\" dy=\"0em\" style=\"font-family: 'Open Sans', verdana, arial, sans-serif; font-size: 17px; fill: rgb(42, 63, 95); opacity: 1; font-weight: normal; white-space: pre;\">Phase demodulated</text></g><g class=\"g-xtitle\"><text class=\"xtitle\" x=\"350\" y=\"460.8\" text-anchor=\"middle\" style=\"font-family: 'Open Sans', verdana, arial, sans-serif; font-size: 14px; fill: rgb(42, 63, 95); opacity: 1; font-weight: normal; white-space: pre;\">Time (s)</text></g><g class=\"g-ytitle\"><text class=\"ytitle\" transform=\"rotate(-90,26.934375000000003,260)\" x=\"26.934375000000003\" y=\"260\" text-anchor=\"middle\" style=\"font-family: 'Open Sans', verdana, arial, sans-serif; font-size: 14px; fill: rgb(42, 63, 95); opacity: 1; font-weight: normal; white-space: pre;\">Phase (rad)</text></g></g></svg>"
      ],
      "text/plain": [
       "<IPython.core.display.SVG object>"
      ]
     },
     "metadata": {},
     "output_type": "display_data"
    }
   ],
   "source": [
    "polar = go.Scatter(\n",
    "    x=timestamp[0, 0, :],\n",
    "    y=demod,\n",
    "    # name='I',\n",
    ")\n",
    "\n",
    "data = [polar]\n",
    "\n",
    "layout = go.Layout(\n",
    "    title='Phase demodulated',\n",
    "    xaxis=dict(tickformat='.2f', title='Time (s)'),\n",
    "    yaxis=dict(tickformat='.2f', title='Phase (rad)'),\n",
    ")\n",
    "\n",
    "fig = go.Figure(data, layout=layout)\n",
    "# iplot(fig)\n",
    "display(SVG(fig.to_image(format='svg', scale=1)))"
   ]
  },
  {
   "cell_type": "code",
   "execution_count": null,
   "metadata": {},
   "outputs": [],
   "source": []
  }
 ],
 "metadata": {
  "kernel_info": {
   "name": "python3"
  },
  "kernelspec": {
   "display_name": "Python 3",
   "language": "python",
   "name": "python3"
  },
  "language_info": {
   "codemirror_mode": {
    "name": "ipython",
    "version": 3
   },
   "file_extension": ".py",
   "mimetype": "text/x-python",
   "name": "python",
   "nbconvert_exporter": "python",
   "pygments_lexer": "ipython3",
   "version": "3.9.1"
  },
  "nteract": {
   "version": "0.12.3"
  },
  "toc": {
   "base_numbering": 1,
   "nav_menu": {},
   "number_sections": true,
   "sideBar": true,
   "skip_h1_title": false,
   "title_cell": "Table of Contents",
   "title_sidebar": "Contents",
   "toc_cell": false,
   "toc_position": {},
   "toc_section_display": true,
   "toc_window_display": false
  },
  "varInspector": {
   "cols": {
    "lenName": 16,
    "lenType": 16,
    "lenVar": 40
   },
   "kernels_config": {
    "python": {
     "delete_cmd_postfix": "",
     "delete_cmd_prefix": "del ",
     "library": "var_list.py",
     "varRefreshCmd": "print(var_dic_list())"
    },
    "r": {
     "delete_cmd_postfix": ") ",
     "delete_cmd_prefix": "rm(",
     "library": "var_list.r",
     "varRefreshCmd": "cat(var_dic_list()) "
    }
   },
   "types_to_exclude": [
    "module",
    "function",
    "builtin_function_or_method",
    "instance",
    "_Feature"
   ],
   "window_display": false
  }
 },
 "nbformat": 4,
 "nbformat_minor": 2
}
