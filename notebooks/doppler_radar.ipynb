{
 "cells": [
  {
   "cell_type": "markdown",
   "metadata": {},
   "source": [
    "# Doppler (Interferometry) Radar\n",
    "\n",
    "<a href=\"https://rookiepeng.github.io/radarsimpy/\" target=\"_blank\" rel=\"nofollow\"><img src=\"https://img.shields.io/badge/Documentation-latest-brightgree?style=flat&logo=read-the-docs\" height=\"20\" align=\"left\"></a>\n",
    "\n",
    "<br></br>\n",
    "This is a Doppler (interferometry) radar simulation example based on [`RadarSimPy`](https://github.com/rookiepeng/radarsimpy).\n",
    "\n",
    "---\n",
    "\n",
    "\n",
    "## Radar Model\n",
    "### Transmitter\n",
    "\n",
    "Setup the basic transmitter parameters through `Transmitter` module.\n",
    "\n",
    "The following table lists the parameters in this example.\n",
    "\n",
    "| Parameter                       | Variable in `Transmitter`| Value      |\n",
    "|---------------------------------|--------------------------|------------|\n",
    "| Center frequency ($f_c$)        | `f`                      | 24.125 GHz |\n",
    "| Signal length ($T$)             | `t`                      | 20 s       |\n",
    "| Transmitted power ($P_t$)       | `tx_power`               | 10 dBm     |\n",
    "\n",
    "A single transmitter channel is used in this example. The tranmitter channel is located at [0, 0, 0].\n",
    "\n",
    "### Receiver\n",
    "\n",
    "Setup the receiver parameters through `Receiver` module.\n",
    "\n",
    "The parameters of the receiver are listed in the table below.\n",
    "\n",
    "| Parameter                        | Variable in `Receiver`   | Value        |\n",
    "|----------------------------------|--------------------------|--------------|\n",
    "| Sampling rate ($f_s$)            | `fs`                     | 20 sps       |\n",
    "| Noise figure ($NF$)              | `noise_figure`           | 12 dB        |\n",
    "| RF gain/loss ($G_{rf}$)          | `rf_gain`                | 20 dB        |\n",
    "| Baseband gain ($G_{BB}$)         | `baseband_gain`          | 50 dB        |\n",
    "| Load resistor ($R_L$)            | `load_resistor`          | 1000 $\\Omega$|\n",
    "\n",
    "A single receiver channel is used in this example. The receiver channel is located at [0, 0, 0]."
   ]
  },
  {
   "cell_type": "code",
   "execution_count": 1,
   "metadata": {},
   "outputs": [],
   "source": [
    "import numpy as np\n",
    "from radarsimpy import Radar, Transmitter, Receiver\n",
    "\n",
    "# setup transmitter\n",
    "tx = Transmitter(f=24.125e9,\n",
    "                 t=20,\n",
    "                 tx_power=10,\n",
    "                 pulses=1,\n",
    "                 channels=[dict(location=(0, 0, 0))])\n",
    "\n",
    "# setup receiver\n",
    "rx = Receiver(fs=20,\n",
    "              noise_figure=12,\n",
    "              rf_gain=20,\n",
    "              baseband_gain=50,\n",
    "              load_resistor=1000,\n",
    "              channels=[dict(location=(0, 0, 0))])\n",
    "\n",
    "# create radar\n",
    "radar = Radar(transmitter=tx, receiver=rx)"
   ]
  },
  {
   "cell_type": "markdown",
   "metadata": {},
   "source": [
    "### Targets\n",
    "\n",
    "Define a list of targets. There is only one target in this simulaiton. The motion of the target is defined by:\n",
    "\n",
    "`1.4+1e-3*np.sin(2*np.pi*1*radar.timestamp)`\n",
    "\n",
    "`radar.timestamp` is the time matrix of the baseband samples."
   ]
  },
  {
   "cell_type": "code",
   "execution_count": 2,
   "metadata": {},
   "outputs": [],
   "source": [
    "target = dict(location=(1.4+1e-3*np.sin(2*np.pi*1*radar.timestamp), 0, 0),\n",
    "              rcs=-10,\n",
    "              phase=0)\n",
    "\n",
    "targets = [target]"
   ]
  },
  {
   "cell_type": "markdown",
   "metadata": {},
   "source": [
    "## Simulate Baseband Signals\n",
    "\n",
    "Use the `simulator` module to simulate the baseband samples. The user can choose between Python engine `simpy` or C++ engine `simc`.\n",
    "\n",
    "The output baseband data is a 3-D matrix:\n",
    "\n",
    "$[channels, pulses, ADC~samples]$"
   ]
  },
  {
   "cell_type": "code",
   "execution_count": 3,
   "metadata": {},
   "outputs": [],
   "source": [
    "# Python engine\n",
    "from radarsimpy.simulator import simpy\n",
    "# C++ engine\n",
    "from radarsimpy.simulator import simc\n",
    "\n",
    "bb_data = simc(radar, targets)\n",
    "timestamp = bb_data['timestamp']\n",
    "baseband = bb_data['baseband']"
   ]
  },
  {
   "cell_type": "markdown",
   "metadata": {},
   "source": [
    "Plot the baseband"
   ]
  },
  {
   "cell_type": "code",
   "execution_count": 4,
   "metadata": {
    "tags": [
     "remove_cell"
    ]
   },
   "outputs": [
    {
     "data": {
      "image/svg+xml": [
       "<svg xmlns=\"http://www.w3.org/2000/svg\" xmlns:xlink=\"http://www.w3.org/1999/xlink\" class=\"main-svg\" width=\"700\" height=\"500\" style=\"\" viewBox=\"0 0 700 500\"><rect x=\"0\" y=\"0\" width=\"700\" height=\"500\" style=\"fill: rgb(255, 255, 255); fill-opacity: 1;\"/><defs id=\"defs-07dff8\"><g class=\"clips\"><clipPath id=\"clip07dff8xyplot\" class=\"plotclip\"><rect width=\"540\" height=\"320\"/></clipPath><clipPath class=\"axesclip\" id=\"clip07dff8x\"><rect x=\"80\" y=\"0\" width=\"540\" height=\"500\"/></clipPath><clipPath class=\"axesclip\" id=\"clip07dff8y\"><rect x=\"0\" y=\"100\" width=\"700\" height=\"320\"/></clipPath><clipPath class=\"axesclip\" id=\"clip07dff8xy\"><rect x=\"80\" y=\"100\" width=\"540\" height=\"320\"/></clipPath></g><g class=\"gradients\"/></defs><g class=\"bglayer\"><rect class=\"bg\" x=\"80\" y=\"100\" width=\"540\" height=\"320\" style=\"fill: rgb(229, 236, 246); fill-opacity: 1; stroke-width: 0;\"/></g><g class=\"layer-below\"><g class=\"imagelayer\"/><g class=\"shapelayer\"/></g><g class=\"cartesianlayer\"><g class=\"subplot xy\"><g class=\"layer-subplot\"><g class=\"shapelayer\"/><g class=\"imagelayer\"/></g><g class=\"gridlayer\"><g class=\"x\"><path class=\"xgrid crisp\" transform=\"translate(215.34,0)\" d=\"M0,100v320\" style=\"stroke: rgb(255, 255, 255); stroke-opacity: 1; stroke-width: 1px;\"/><path class=\"xgrid crisp\" transform=\"translate(350.68,0)\" d=\"M0,100v320\" style=\"stroke: rgb(255, 255, 255); stroke-opacity: 1; stroke-width: 1px;\"/><path class=\"xgrid crisp\" transform=\"translate(486.02,0)\" d=\"M0,100v320\" style=\"stroke: rgb(255, 255, 255); stroke-opacity: 1; stroke-width: 1px;\"/></g><g class=\"y\"><path class=\"ygrid crisp\" transform=\"translate(0,396.62)\" d=\"M80,0h540\" style=\"stroke: rgb(255, 255, 255); stroke-opacity: 1; stroke-width: 1px;\"/><path class=\"ygrid crisp\" transform=\"translate(0,351.03)\" d=\"M80,0h540\" style=\"stroke: rgb(255, 255, 255); stroke-opacity: 1; stroke-width: 1px;\"/><path class=\"ygrid crisp\" transform=\"translate(0,305.44)\" d=\"M80,0h540\" style=\"stroke: rgb(255, 255, 255); stroke-opacity: 1; stroke-width: 1px;\"/><path class=\"ygrid crisp\" transform=\"translate(0,214.26)\" d=\"M80,0h540\" style=\"stroke: rgb(255, 255, 255); stroke-opacity: 1; stroke-width: 1px;\"/><path class=\"ygrid crisp\" transform=\"translate(0,168.67000000000002)\" d=\"M80,0h540\" style=\"stroke: rgb(255, 255, 255); stroke-opacity: 1; stroke-width: 1px;\"/><path class=\"ygrid crisp\" transform=\"translate(0,123.08)\" d=\"M80,0h540\" style=\"stroke: rgb(255, 255, 255); stroke-opacity: 1; stroke-width: 1px;\"/></g></g><g class=\"zerolinelayer\"><path class=\"xzl zl crisp\" transform=\"translate(80,0)\" d=\"M0,100v320\" style=\"stroke: rgb(255, 255, 255); stroke-opacity: 1; stroke-width: 2px;\"/><path class=\"yzl zl crisp\" transform=\"translate(0,259.85)\" d=\"M80,0h540\" style=\"stroke: rgb(255, 255, 255); stroke-opacity: 1; stroke-width: 2px;\"/></g><path class=\"xlines-below\"/><path class=\"ylines-below\"/><g class=\"overlines-below\"/><g class=\"xaxislayer-below\"/><g class=\"yaxislayer-below\"/><g class=\"overaxes-below\"/><g class=\"plot\" transform=\"translate(80,100)\" clip-path=\"url('#clip07dff8xyplot')\"><g class=\"scatterlayer mlayer\"><g class=\"trace scatter trace06107e\" style=\"stroke-miterlimit: 2; opacity: 1;\"><g class=\"fills\"/><g class=\"errorbars\"/><g class=\"lines\"><path class=\"js-line\" d=\"M0,223.76L2.71,285.62L4.06,298.43L5.41,303.05L6.77,303.95L8.12,303.02L9.47,298.46L10.83,285.64L12.18,260.61L17.59,108.35L18.95,89.42L20.3,83.23L21.65,89.41L23.01,108.39L24.36,139.78L29.77,285.58L31.13,298.45L32.48,303.04L33.83,303.98L35.19,303L36.54,298.45L37.89,285.59L39.25,260.71L44.66,108.39L46.02,89.42L47.37,83.23L48.72,89.42L50.08,108.39L51.43,139.83L56.84,285.58L58.2,298.46L59.55,303.03L60.9,303.95L62.26,303L63.61,298.46L64.96,285.64L66.32,260.65L71.73,108.4L73.08,89.39L74.44,83.23L75.79,89.46L77.14,108.38L78.5,139.82L83.91,285.61L85.26,298.43L86.62,303.02L87.97,303.91L89.32,303.01L90.68,298.5L92.03,285.62L93.38,260.64L98.8,108.39L100.15,89.45L101.5,83.26L102.86,89.39L104.21,108.36L105.56,139.81L110.98,285.63L112.33,298.43L113.68,303.06L115.04,303.94L116.39,303.05L117.74,298.46L119.1,285.62L120.45,260.6L125.86,108.34L127.22,89.45L128.57,83.24L129.92,89.42L131.28,108.37L132.63,139.78L138.05,285.62L139.4,298.39L140.75,303.05L142.11,303.94L143.46,303.06L144.81,298.44L146.17,285.67L147.52,260.57L152.93,108.42L154.29,89.41L155.64,83.24L156.99,89.43L158.35,108.35L159.7,139.75L165.11,285.61L166.47,298.45L167.82,303.02L169.17,303.98L170.53,303.02L171.88,298.5L173.23,285.62L174.59,260.58L180,108.35L181.35,89.42L182.71,83.24L184.06,89.44L185.41,108.37L186.77,139.76L192.18,285.6L193.53,298.4L194.89,303.07L196.24,303.91L197.59,303.07L198.95,298.46L200.3,285.6L201.65,260.63L207.07,108.39L208.42,89.43L209.77,83.24L211.13,89.5L212.48,108.38L213.83,139.76L219.25,285.65L220.6,298.43L221.95,303.01L223.31,303.96L224.66,303.06L226.02,298.45L227.37,285.59L228.72,260.62L234.14,108.35L235.49,89.44L236.84,83.29L238.2,89.46L239.55,108.38L240.9,139.72L246.32,285.64L247.67,298.38L249.02,303.06L250.38,303.97L251.73,303.06L253.08,298.43L254.44,285.61L255.79,260.64L261.2,108.36L262.56,89.44L263.91,83.21L265.26,89.49L266.62,108.36L267.97,139.76L273.38,285.63L274.74,298.42L276.09,303.03L277.44,303.99L278.8,303.07L280.15,298.43L281.5,285.62L282.86,260.6L288.27,108.34L289.62,89.41L290.98,83.26L292.33,89.46L293.68,108.39L295.04,139.69L300.45,285.6L301.8,298.43L303.16,303.04L304.51,303.96L305.86,303.09L307.22,298.45L308.57,285.58L309.92,260.68L315.34,108.3L316.69,89.41L318.05,83.24L319.4,89.4L320.75,108.4L322.11,139.76L327.52,285.62L328.87,298.39L330.23,303L331.58,303.98L332.93,303.05L334.29,298.44L335.64,285.59L336.99,260.72L342.41,108.33L343.76,89.41L345.11,83.2L346.47,89.35L347.82,108.41L349.17,139.8L354.59,285.59L355.94,298.43L357.29,303.06L358.65,303.99L360,303.05L361.35,298.44L362.71,285.61L364.06,260.65L369.47,108.39L370.83,89.49L372.18,83.24L373.53,89.38L374.89,108.4L376.24,139.77L381.65,285.61L383.01,298.5L384.36,303.02L385.71,303.97L387.07,303.01L388.42,298.43L389.77,285.6L391.13,260.64L396.54,108.38L397.89,89.48L399.25,83.21L400.6,89.39L401.95,108.36L403.31,139.77L408.72,285.55L410.08,298.46L411.43,303.06L412.78,304L414.14,303.02L415.49,298.43L416.84,285.58L418.2,260.66L423.61,108.33L424.96,89.47L426.32,83.14L427.67,89.37L429.02,108.41L430.38,139.76L435.79,285.63L437.14,298.44L438.5,303.02L439.85,303.97L441.2,303.03L442.56,298.47L443.91,285.63L445.26,260.61L450.68,108.28L452.03,89.53L453.38,83.29L454.74,89.4L456.09,108.34L457.44,139.82L462.86,285.65L464.21,298.47L465.56,303.05L466.92,303.96L468.27,303L469.62,298.46L470.98,285.66L472.33,260.64L477.74,108.32L479.1,89.49L480.45,83.3L481.8,89.42L483.16,108.33L484.51,139.76L489.92,285.63L491.28,298.47L492.63,303.04L493.98,303.93L495.34,302.98L496.69,298.43L498.05,285.6L499.4,260.7L504.81,108.3L506.17,89.48L507.52,83.19L508.87,89.49L510.23,108.34L511.58,139.81L516.99,285.61L518.35,298.45L519.7,303.08L521.05,303.97L522.41,303L523.76,298.5L525.11,285.6L526.47,260.66L531.88,108.31L533.23,89.51L534.59,83.29L535.94,89.46L537.29,108.32L538.65,139.85L540,180.62\" style=\"vector-effect: non-scaling-stroke; fill: none; stroke: rgb(99, 110, 250); stroke-opacity: 1; stroke-width: 2px; opacity: 1;\"/></g><g class=\"points\"/><g class=\"text\"/></g><g class=\"trace scatter tracecc2a61\" style=\"stroke-miterlimit: 2; opacity: 1;\"><g class=\"fills\"/><g class=\"errorbars\"/><g class=\"lines\"><path class=\"js-line\" d=\"M0,29.56L5.41,137.73L6.77,144.88L8.12,137.75L9.47,117.45L13.53,29.59L14.89,16.23L16.24,16.03L17.59,24.01L18.95,32.74L20.3,36.42L21.65,32.77L23.01,24.03L24.36,16.06L25.71,16.21L27.07,29.59L28.42,55.62L32.48,137.75L33.83,144.86L35.19,137.75L36.54,117.44L40.6,29.61L41.95,16.16L43.31,16.03L44.66,23.96L46.02,32.79L47.37,36.36L48.72,32.78L50.08,24.04L51.43,16L52.78,16.18L54.14,29.53L55.49,55.56L59.55,137.73L60.9,144.89L62.26,137.76L63.61,117.45L67.67,29.62L69.02,16.15L70.38,16.07L71.73,23.98L73.08,32.77L74.44,36.39L75.79,32.77L77.14,24.04L78.5,16.05L79.85,16.17L81.2,29.57L82.56,55.55L86.62,137.77L87.97,144.86L89.32,137.78L90.68,117.45L94.74,29.58L96.09,16.18L97.44,16.04L98.8,23.99L100.15,32.76L101.5,36.39L102.86,32.76L104.21,24.01L105.56,16.03L106.92,16.24L108.27,29.61L109.62,55.6L113.68,137.73L115.04,144.83L116.39,137.73L117.74,117.48L121.8,29.59L123.16,16.23L124.51,16.04L125.86,24.02L127.22,32.77L128.57,36.35L129.92,32.74L131.28,24.06L132.63,16.04L133.98,16.18L135.34,29.59L136.69,55.54L140.75,137.7L142.11,144.87L143.46,137.79L144.81,117.45L148.87,29.56L150.23,16.18L151.58,16.08L152.93,24.04L154.29,32.81L155.64,36.36L156.99,32.8L158.35,24.02L159.7,16.01L161.05,16.2L162.41,29.52L163.76,55.57L167.82,137.72L169.17,144.87L170.53,137.72L171.88,117.45L175.94,29.54L177.29,16.17L178.65,16.05L180,24.06L181.35,32.77L182.71,36.39L184.06,32.74L185.41,24.02L186.77,16.03L188.12,16.25L189.47,29.56L190.83,55.55L194.89,137.73L196.24,144.85L197.59,137.75L198.95,117.46L203.01,29.58L204.36,16.2L205.71,16.04L207.07,24.08L208.42,32.8L209.77,36.4L211.13,32.78L212.48,23.97L213.83,16.03L215.19,16.18L216.54,29.58L217.89,55.59L221.95,137.72L223.31,144.92L224.66,137.78L226.02,117.49L230.08,29.59L231.43,16.15L232.78,16.04L234.14,24.03L235.49,32.74L236.84,36.41L238.2,32.78L239.55,24.05L240.9,16.06L242.26,16.19L243.61,29.55L244.96,55.57L249.02,137.72L250.38,144.88L251.73,137.74L253.08,117.45L257.14,29.54L258.5,16.17L259.85,16.03L261.2,24.02L262.56,32.75L263.91,36.39L265.26,32.79L266.62,24.01L267.97,16.04L269.32,16.2L270.68,29.58L272.03,55.59L276.09,137.71L277.44,144.85L278.8,137.73L280.15,117.52L284.21,29.55L285.56,16.2L286.92,16.07L288.27,24.02L289.62,32.72L290.98,36.46L292.33,32.74L293.68,24.01L295.04,16.01L296.39,16.21L297.74,29.55L299.1,55.56L303.16,137.74L304.51,144.88L305.86,137.75L307.22,117.43L311.28,29.59L312.63,16.2L313.98,16.04L315.34,23.99L316.69,32.78L318.05,36.43L319.4,32.81L320.75,24.03L322.11,16L323.46,16.2L324.81,29.57L326.17,55.63L330.23,137.77L331.58,144.89L332.93,137.75L334.29,117.47L338.35,29.56L339.7,16.15L341.05,16.06L342.41,24.04L343.76,32.78L345.11,36.38L346.47,32.81L347.82,24.02L349.17,16.04L350.53,16.13L351.88,29.55L353.23,55.57L357.29,137.76L358.65,144.87L360,137.75L361.35,117.47L365.41,29.56L366.77,16.16L368.12,16.05L369.47,24L370.83,32.75L372.18,36.35L373.53,32.8L374.89,24.02L376.24,16.03L377.59,16.17L378.95,29.56L380.3,55.55L384.36,137.76L385.71,144.9L387.07,137.7L388.42,117.49L392.48,29.62L393.83,16.23L395.19,16.04L396.54,24.03L397.89,32.74L399.25,36.42L400.6,32.75L401.95,24.01L403.31,16.05L404.66,16.22L406.02,29.54L407.37,55.57L411.43,137.79L412.78,144.83L414.14,137.75L415.49,117.47L419.55,29.52L420.9,16.19L422.26,16.01L423.61,24.02L424.96,32.77L426.32,36.44L427.67,32.8L429.02,23.98L430.38,16.07L431.73,16.14L433.08,29.62L434.44,55.56L438.5,137.68L439.85,144.82L441.2,137.7L442.56,117.5L446.62,29.52L447.97,16.19L449.32,16.07L450.68,24.02L452.03,32.7L453.38,36.31L454.74,32.77L456.09,24.04L457.44,16.06L458.8,16.2L460.15,29.53L461.5,55.61L465.56,137.73L466.92,144.79L468.27,137.71L469.62,117.51L473.68,29.6L475.04,16.18L476.39,16.03L477.74,24.04L479.1,32.71L480.45,36.43L481.8,32.73L483.16,24L484.51,16.03L485.86,16.21L487.22,29.56L488.57,55.6L492.63,137.71L493.98,144.81L495.34,137.72L496.69,117.48L500.75,29.57L502.11,16.14L503.46,16.01L504.81,24.08L506.17,32.75L507.52,36.39L508.87,32.76L510.23,24.07L511.58,16.02L512.93,16.22L514.29,29.57L515.64,55.56L519.7,137.73L521.05,144.79L522.41,137.75L523.76,117.53L527.82,29.56L529.17,16.22L530.53,16.05L531.88,24.04L533.23,32.71L534.59,36.38L535.94,32.75L537.29,24.03L538.65,16.01L540,16.21\" style=\"vector-effect: non-scaling-stroke; fill: none; stroke: rgb(239, 85, 59); stroke-opacity: 1; stroke-width: 2px; opacity: 1;\"/></g><g class=\"points\"/><g class=\"text\"/></g></g></g><g class=\"overplot\"/><path class=\"xlines-above crisp\" d=\"M0,0\" style=\"fill: none;\"/><path class=\"ylines-above crisp\" d=\"M0,0\" style=\"fill: none;\"/><g class=\"overlines-above\"/><g class=\"xaxislayer-above\"><g class=\"xtick\"><text text-anchor=\"middle\" x=\"0\" y=\"433\" transform=\"translate(80,0)\" style=\"font-family: 'Open Sans', verdana, arial, sans-serif; font-size: 12px; fill: rgb(42, 63, 95); fill-opacity: 1; white-space: pre;\">0</text></g><g class=\"xtick\"><text text-anchor=\"middle\" x=\"0\" y=\"433\" transform=\"translate(215.34,0)\" style=\"font-family: 'Open Sans', verdana, arial, sans-serif; font-size: 12px; fill: rgb(42, 63, 95); fill-opacity: 1; white-space: pre;\">5</text></g><g class=\"xtick\"><text text-anchor=\"middle\" x=\"0\" y=\"433\" transform=\"translate(350.68,0)\" style=\"font-family: 'Open Sans', verdana, arial, sans-serif; font-size: 12px; fill: rgb(42, 63, 95); fill-opacity: 1; white-space: pre;\">10</text></g><g class=\"xtick\"><text text-anchor=\"middle\" x=\"0\" y=\"433\" transform=\"translate(486.02,0)\" style=\"font-family: 'Open Sans', verdana, arial, sans-serif; font-size: 12px; fill: rgb(42, 63, 95); fill-opacity: 1; white-space: pre;\">15</text></g></g><g class=\"yaxislayer-above\"><g class=\"ytick\"><text text-anchor=\"end\" x=\"79\" y=\"4.199999999999999\" transform=\"translate(0,396.62)\" style=\"font-family: 'Open Sans', verdana, arial, sans-serif; font-size: 12px; fill: rgb(42, 63, 95); fill-opacity: 1; white-space: pre;\">−0.6</text></g><g class=\"ytick\"><text text-anchor=\"end\" x=\"79\" y=\"4.199999999999999\" transform=\"translate(0,351.03)\" style=\"font-family: 'Open Sans', verdana, arial, sans-serif; font-size: 12px; fill: rgb(42, 63, 95); fill-opacity: 1; white-space: pre;\">−0.4</text></g><g class=\"ytick\"><text text-anchor=\"end\" x=\"79\" y=\"4.199999999999999\" transform=\"translate(0,305.44)\" style=\"font-family: 'Open Sans', verdana, arial, sans-serif; font-size: 12px; fill: rgb(42, 63, 95); fill-opacity: 1; white-space: pre;\">−0.2</text></g><g class=\"ytick\"><text text-anchor=\"end\" x=\"79\" y=\"4.199999999999999\" transform=\"translate(0,259.85)\" style=\"font-family: 'Open Sans', verdana, arial, sans-serif; font-size: 12px; fill: rgb(42, 63, 95); fill-opacity: 1; white-space: pre;\">0</text></g><g class=\"ytick\"><text text-anchor=\"end\" x=\"79\" y=\"4.199999999999999\" transform=\"translate(0,214.26)\" style=\"font-family: 'Open Sans', verdana, arial, sans-serif; font-size: 12px; fill: rgb(42, 63, 95); fill-opacity: 1; white-space: pre;\">0.2</text></g><g class=\"ytick\"><text text-anchor=\"end\" x=\"79\" y=\"4.199999999999999\" transform=\"translate(0,168.67000000000002)\" style=\"font-family: 'Open Sans', verdana, arial, sans-serif; font-size: 12px; fill: rgb(42, 63, 95); fill-opacity: 1; white-space: pre;\">0.4</text></g><g class=\"ytick\"><text text-anchor=\"end\" x=\"79\" y=\"4.199999999999999\" transform=\"translate(0,123.08)\" style=\"font-family: 'Open Sans', verdana, arial, sans-serif; font-size: 12px; fill: rgb(42, 63, 95); fill-opacity: 1; white-space: pre;\">0.6</text></g></g><g class=\"overaxes-above\"/></g></g><g class=\"polarlayer\"/><g class=\"ternarylayer\"/><g class=\"geolayer\"/><g class=\"funnelarealayer\"/><g class=\"pielayer\"/><g class=\"treemaplayer\"/><g class=\"sunburstlayer\"/><g class=\"glimages\"/><defs id=\"topdefs-07dff8\"><g class=\"clips\"/><clipPath id=\"legend07dff8\"><rect width=\"55\" height=\"48\" x=\"0\" y=\"0\"/></clipPath></defs><g class=\"layer-above\"><g class=\"imagelayer\"/><g class=\"shapelayer\"/></g><g class=\"infolayer\"><g class=\"legend\" pointer-events=\"all\" transform=\"translate(630.8,100)\"><rect class=\"bg\" shape-rendering=\"crispEdges\" style=\"stroke: rgb(68, 68, 68); stroke-opacity: 1; fill: rgb(255, 255, 255); fill-opacity: 1; stroke-width: 0px;\" width=\"55\" height=\"48\" x=\"0\" y=\"0\"/><g class=\"scrollbox\" transform=\"\" clip-path=\"url('#legend07dff8')\"><g class=\"groups\"><g class=\"traces\" transform=\"translate(0,14.5)\" style=\"opacity: 1;\"><text class=\"legendtext\" text-anchor=\"start\" x=\"40\" y=\"4.680000000000001\" style=\"font-family: 'Open Sans', verdana, arial, sans-serif; font-size: 12px; fill: rgb(42, 63, 95); fill-opacity: 1; white-space: pre;\">I</text><g class=\"layers\" style=\"opacity: 1;\"><g class=\"legendfill\"/><g class=\"legendlines\"><path class=\"js-line\" d=\"M5,0h30\" style=\"fill: none; stroke: rgb(99, 110, 250); stroke-opacity: 1; stroke-width: 2px;\"/></g><g class=\"legendsymbols\"><g class=\"legendpoints\"/></g></g><rect class=\"legendtoggle\" x=\"0\" y=\"-9.5\" width=\"49.453125\" height=\"19\" style=\"fill: rgb(0, 0, 0); fill-opacity: 0;\"/></g><g class=\"traces\" transform=\"translate(0,33.5)\" style=\"opacity: 1;\"><text class=\"legendtext\" text-anchor=\"start\" x=\"40\" y=\"4.680000000000001\" style=\"font-family: 'Open Sans', verdana, arial, sans-serif; font-size: 12px; fill: rgb(42, 63, 95); fill-opacity: 1; white-space: pre;\">Q</text><g class=\"layers\" style=\"opacity: 1;\"><g class=\"legendfill\"/><g class=\"legendlines\"><path class=\"js-line\" d=\"M5,0h30\" style=\"fill: none; stroke: rgb(239, 85, 59); stroke-opacity: 1; stroke-width: 2px;\"/></g><g class=\"legendsymbols\"><g class=\"legendpoints\"/></g></g><rect class=\"legendtoggle\" x=\"0\" y=\"-9.5\" width=\"49.453125\" height=\"19\" style=\"fill: rgb(0, 0, 0); fill-opacity: 0;\"/></g></g></g><rect class=\"scrollbar\" rx=\"20\" ry=\"3\" width=\"0\" height=\"0\" style=\"fill: rgb(128, 139, 164); fill-opacity: 1;\" x=\"0\" y=\"0\"/></g><g class=\"g-gtitle\"><text class=\"gtitle\" x=\"35\" y=\"50\" text-anchor=\"start\" dy=\"0em\" style=\"font-family: 'Open Sans', verdana, arial, sans-serif; font-size: 17px; fill: rgb(42, 63, 95); opacity: 1; font-weight: normal; white-space: pre;\">I/Q Baseband Signals</text></g><g class=\"g-xtitle\"><text class=\"xtitle\" x=\"350\" y=\"460.8\" text-anchor=\"middle\" style=\"font-family: 'Open Sans', verdana, arial, sans-serif; font-size: 14px; fill: rgb(42, 63, 95); opacity: 1; font-weight: normal; white-space: pre;\">Time (s)</text></g><g class=\"g-ytitle\"><text class=\"ytitle\" transform=\"rotate(-90,24.746875000000003,260)\" x=\"24.746875000000003\" y=\"260\" text-anchor=\"middle\" style=\"font-family: 'Open Sans', verdana, arial, sans-serif; font-size: 14px; fill: rgb(42, 63, 95); opacity: 1; font-weight: normal; white-space: pre;\">Amplitude (V)</text></g></g></svg>"
      ],
      "text/plain": [
       "<IPython.core.display.SVG object>"
      ]
     },
     "metadata": {},
     "output_type": "display_data"
    }
   ],
   "source": [
    "import plotly.graph_objs as go\n",
    "from IPython.display import SVG, display\n",
    "\n",
    "fig = go.Figure()\n",
    "\n",
    "fig.add_trace(go.Scatter(\n",
    "    x=timestamp[0, 0, :],\n",
    "    y=np.real(baseband[0, 0, :]),\n",
    "    name='I',\n",
    "))\n",
    "fig.add_trace(go.Scatter(\n",
    "    x=timestamp[0, 0, :],\n",
    "    y=np.imag(baseband[0, 0, :]),\n",
    "    name='Q',\n",
    "))\n",
    "\n",
    "fig.update_layout(\n",
    "    title='I/Q Baseband Signals',\n",
    "    yaxis=dict(title='Amplitude (V)'),\n",
    "    xaxis=dict(title='Time (s)'),\n",
    ")\n",
    "\n",
    "# fig.show()\n",
    "display(SVG(fig.to_image(format='svg', scale=1)))"
   ]
  },
  {
   "cell_type": "code",
   "execution_count": 5,
   "metadata": {},
   "outputs": [
    {
     "data": {
      "image/svg+xml": [
       "<svg xmlns=\"http://www.w3.org/2000/svg\" xmlns:xlink=\"http://www.w3.org/1999/xlink\" class=\"main-svg\" width=\"600\" height=\"600\" style=\"\" viewBox=\"0 0 600 600\"><rect x=\"0\" y=\"0\" width=\"600\" height=\"600\" style=\"fill: rgb(255, 255, 255); fill-opacity: 1;\"/><defs id=\"defs-21a518\"><g class=\"clips\"><clipPath id=\"clip21a518xyplot\" class=\"plotclip\"><rect width=\"440\" height=\"420\"/></clipPath><clipPath class=\"axesclip\" id=\"clip21a518x\"><rect x=\"80\" y=\"0\" width=\"440\" height=\"600\"/></clipPath><clipPath class=\"axesclip\" id=\"clip21a518y\"><rect x=\"0\" y=\"100\" width=\"600\" height=\"420\"/></clipPath><clipPath class=\"axesclip\" id=\"clip21a518xy\"><rect x=\"80\" y=\"100\" width=\"440\" height=\"420\"/></clipPath></g><g class=\"gradients\"/></defs><g class=\"bglayer\"><rect class=\"bg\" x=\"80\" y=\"100\" width=\"440\" height=\"420\" style=\"fill: rgb(229, 236, 246); fill-opacity: 1; stroke-width: 0;\"/></g><g class=\"layer-below\"><g class=\"imagelayer\"/><g class=\"shapelayer\"/></g><g class=\"cartesianlayer\"><g class=\"subplot xy\"><g class=\"layer-subplot\"><g class=\"shapelayer\"/><g class=\"imagelayer\"/></g><g class=\"gridlayer\"><g class=\"x\"><path class=\"xgrid crisp\" transform=\"translate(90,0)\" d=\"M0,100v420\" style=\"stroke: rgb(255, 255, 255); stroke-opacity: 1; stroke-width: 1px;\"/><path class=\"xgrid crisp\" transform=\"translate(195,0)\" d=\"M0,100v420\" style=\"stroke: rgb(255, 255, 255); stroke-opacity: 1; stroke-width: 1px;\"/><path class=\"xgrid crisp\" transform=\"translate(405,0)\" d=\"M0,100v420\" style=\"stroke: rgb(255, 255, 255); stroke-opacity: 1; stroke-width: 1px;\"/><path class=\"xgrid crisp\" transform=\"translate(510,0)\" d=\"M0,100v420\" style=\"stroke: rgb(255, 255, 255); stroke-opacity: 1; stroke-width: 1px;\"/></g><g class=\"y\"><path class=\"ygrid crisp\" transform=\"translate(0,415)\" d=\"M80,0h440\" style=\"stroke: rgb(255, 255, 255); stroke-opacity: 1; stroke-width: 1px;\"/><path class=\"ygrid crisp\" transform=\"translate(0,205)\" d=\"M80,0h440\" style=\"stroke: rgb(255, 255, 255); stroke-opacity: 1; stroke-width: 1px;\"/></g></g><g class=\"zerolinelayer\"><path class=\"xzl zl crisp\" transform=\"translate(300,0)\" d=\"M0,100v420\" style=\"stroke: rgb(255, 255, 255); stroke-opacity: 1; stroke-width: 2px;\"/><path class=\"yzl zl crisp\" transform=\"translate(0,310)\" d=\"M80,0h440\" style=\"stroke: rgb(255, 255, 255); stroke-opacity: 1; stroke-width: 2px;\"/></g><path class=\"xlines-below\"/><path class=\"ylines-below\"/><g class=\"overlines-below\"/><g class=\"xaxislayer-below\"/><g class=\"yaxislayer-below\"/><g class=\"overaxes-below\"/><g class=\"plot\" transform=\"translate(80,100)\" clip-path=\"url('#clip21a518xyplot')\"><g class=\"scatterlayer mlayer\"><g class=\"trace scatter trace7dee1f\" style=\"stroke-miterlimit: 2; opacity: 1;\"><g class=\"fills\"/><g class=\"errorbars\"/><g class=\"lines\"><path class=\"js-line\" d=\"M161.12,89.97L127.15,113.91L104.14,143.59L92.34,170.92L88.08,189.62L87.25,196.21L88.11,189.64L92.31,170.94L104.12,143.59L127.18,113.92L161.18,89.99L200.87,77.69L238.45,77.5L267.45,84.85L290.58,96.29L267.41,84.88L238.49,77.53L200.87,77.67L161.15,89.99L127.17,113.97L104.17,143.57L92.32,170.97L88.09,189.64L87.23,196.19L88.13,189.64L92.32,170.93L104.17,143.56L127.08,113.89L161.15,90.02L200.89,77.63L238.42,77.5L267.41,84.81L290.59,96.23L267.41,84.88L238.44,77.48L200.89,77.64L161.21,89.94L127.12,113.92L104.17,143.61L92.31,170.95L88.1,189.62L87.25,196.22L88.12,189.65L92.31,170.94L104.11,143.6L127.14,113.87L161.16,90.03L200.91,77.62L238.49,77.54L267.4,84.83L290.59,96.26L267.42,84.88L238.45,77.53L200.89,77.63L161.14,89.98L127.16,113.91L104.14,143.59L92.34,170.96L88.11,189.66L87.28,196.19L88.12,189.66L92.27,170.93L104.13,143.56L127.15,113.89L161.17,89.99L200.89,77.64L238.47,77.52L267.41,84.83L290.56,96.26L267.44,84.85L238.47,77.5L200.9,77.69L161.21,90.02L127.16,113.96L104.13,143.55L92.34,170.96L88.07,189.62L87.26,196.16L88.08,189.62L92.3,170.96L104.13,143.56L127.18,113.93L161.18,90L200.89,77.69L238.46,77.52L267.45,84.87L290.58,96.22L267.42,84.9L238.49,77.51L200.9,77.64L161.16,90L127.16,113.9L104.14,143.57L92.37,170.99L88.08,189.59L87.26,196.2L88.07,189.68L92.33,170.94L104.09,143.61L127.21,113.95L161.19,89.97L200.92,77.64L238.44,77.55L267.38,84.89L290.58,96.23L267.45,84.87L238.52,77.49L200.9,77.66L161.12,89.94L127.2,113.93L104.15,143.59L92.32,170.98L88.11,189.61L87.22,196.2L88.11,189.61L92.27,170.94L104.14,143.52L127.2,113.91L161.17,89.95L200.86,77.64L238.45,77.53L267.45,84.9L290.58,96.26L267.43,84.86L238.51,77.5L200.94,77.71L161.17,89.97L127.13,113.91L104.16,143.59L92.36,170.97L88.06,189.62L87.28,196.18L88.06,189.64L92.31,170.95L104.15,143.58L127.16,113.91L161.2,89.99L200.92,77.66L238.42,77.51L267.41,84.92L290.58,96.27L267.41,84.82L238.51,77.51L200.91,77.64L161.15,89.99L127.15,113.95L104.11,143.54L92.34,170.92L88.11,189.61L87.24,196.24L88.07,189.67L92.32,170.98L104.16,143.56L127.17,113.94L161.17,89.99L200.9,77.62L238.48,77.51L267.45,84.87L290.53,96.28L267.42,84.89L238.55,77.53L200.95,77.65L161.18,89.96L127.12,113.93L104.12,143.55L92.38,170.94L88.07,189.61L87.24,196.2L88.07,189.63L92.34,170.94L104.15,143.57L127.15,113.94L161.14,89.95L200.93,77.63L238.52,77.51L267.44,84.86L290.61,96.26L267.44,84.86L238.51,77.51L200.95,77.66L161.18,89.99L127.13,113.95L104.13,143.58L92.34,170.94L88.1,189.6L87.21,196.18L88.06,189.62L92.34,171L104.14,143.53L127.19,113.93L161.15,89.95L200.9,77.66L238.43,77.54L267.45,84.86L284.89,92.88L290.56,96.33L284.85,92.9L267.41,84.86L238.57,77.49L200.92,77.67L161.14,89.96L127.14,113.92L104.15,143.57L92.34,170.95L87.25,196.21L92.32,170.92L104.18,143.54L127.11,113.96L161.17,89.99L200.93,77.66L238.53,77.52L267.49,84.84L284.9,92.93L290.58,96.3L284.91,92.97L267.4,84.88L238.51,77.48L200.88,77.66L161.16,89.98L127.12,113.98L104.14,143.56L92.37,170.93L87.22,196.21L92.32,170.96L104.16,143.55L127.08,113.94L161.13,89.97L200.9,77.61L238.51,77.54L267.46,84.88L284.89,92.93L290.62,96.25L284.95,92.96L267.39,84.87L238.48,77.51L200.9,77.6L161.11,89.96L127.15,113.93L104.16,143.62L92.34,170.98L87.21,196.2L92.33,170.96L104.15,143.52L127.14,113.93L161.13,89.97L200.92,77.63L238.49,77.52L267.41,84.85L284.82,92.9L290.58,96.23L284.92,92.96L267.4,84.86L238.5,77.5L200.83,77.63L161.12,89.97L127.15,113.91L104.15,143.56L92.27,170.96L87.24,196.23L92.34,170.97L104.15,143.54L127.15,113.94L161.11,90.03L200.93,77.69L238.51,77.52L267.42,84.88L284.83,92.9L290.61,96.29L284.92,92.91L267.43,84.86L238.5,77.52L200.88,77.68L161.13,89.95L127.14,113.93L104.2,143.53L92.31,170.97L87.2,196.16L92.33,170.95L104.17,143.58L127.13,113.95L161.15,89.94L200.95,77.65L238.51,77.49L267.46,84.86L284.84,92.93L290.67,96.3L284.93,92.95L267.39,84.82L238.51,77.54L200.9,77.6L161.18,90.02L127.15,113.92L104.13,143.58L92.33,170.94L87.23,196.15L92.3,170.99L104.13,143.57L127.17,113.97L161.2,89.93L200.91,77.65L238.43,77.54L267.52,84.86L284.79,92.86L290.54,96.19L284.91,92.93L267.45,84.88L238.45,77.53L200.86,77.66L161.21,89.94L127.13,113.96L104.11,143.61L92.29,170.92L87.24,196.12L92.31,170.99L104.1,143.57L127.15,113.94L161.25,90.01L200.93,77.65L238.5,77.51L267.47,84.88L284.82,92.87L290.52,96.3L284.89,92.89L267.47,84.85L238.51,77.5L200.86,77.67L161.13,89.97L127.14,113.96L104.12,143.57L92.3,170.93L87.27,196.14L92.34,170.97L104.16,143.57L127.1,113.95L161.19,89.98L200.95,77.6L238.46,77.48L267.49,84.92L284.83,92.91L290.63,96.26L284.82,92.92L267.46,84.91L238.47,77.49L200.92,77.68L161.2,89.98L127.13,113.92L104.14,143.63L92.32,170.95L87.23,196.12L92.27,171.01L104.15,143.52L127.13,113.95L161.21,89.97L200.92,77.68L238.53,77.52L267.49,84.88L284.81,92.87L290.53,96.25L284.85,92.91L267.47,84.88L238.43,77.48L200.86,77.67\" style=\"vector-effect: non-scaling-stroke; fill: none; stroke: rgb(99, 110, 250); stroke-opacity: 1; stroke-width: 2px; opacity: 1;\"/></g><g class=\"points\"/><g class=\"text\"/></g></g></g><g class=\"overplot\"/><path class=\"xlines-above crisp\" d=\"M0,0\" style=\"fill: none;\"/><path class=\"ylines-above crisp\" d=\"M0,0\" style=\"fill: none;\"/><g class=\"overlines-above\"/><g class=\"xaxislayer-above\"><g class=\"xtick\"><text text-anchor=\"middle\" x=\"0\" y=\"533\" transform=\"translate(90,0)\" style=\"font-family: 'Open Sans', verdana, arial, sans-serif; font-size: 12px; fill: rgb(42, 63, 95); fill-opacity: 1; white-space: pre;\">−1.00</text></g><g class=\"xtick\"><text text-anchor=\"middle\" x=\"0\" y=\"533\" transform=\"translate(195,0)\" style=\"font-family: 'Open Sans', verdana, arial, sans-serif; font-size: 12px; fill: rgb(42, 63, 95); fill-opacity: 1; white-space: pre;\">−0.50</text></g><g class=\"xtick\"><text text-anchor=\"middle\" x=\"0\" y=\"533\" transform=\"translate(300,0)\" style=\"font-family: 'Open Sans', verdana, arial, sans-serif; font-size: 12px; fill: rgb(42, 63, 95); fill-opacity: 1; white-space: pre;\">0.00</text></g><g class=\"xtick\"><text text-anchor=\"middle\" x=\"0\" y=\"533\" transform=\"translate(405,0)\" style=\"font-family: 'Open Sans', verdana, arial, sans-serif; font-size: 12px; fill: rgb(42, 63, 95); fill-opacity: 1; white-space: pre;\">0.50</text></g><g class=\"xtick\"><text text-anchor=\"middle\" x=\"0\" y=\"533\" transform=\"translate(510,0)\" style=\"font-family: 'Open Sans', verdana, arial, sans-serif; font-size: 12px; fill: rgb(42, 63, 95); fill-opacity: 1; white-space: pre;\">1.00</text></g></g><g class=\"yaxislayer-above\"><g class=\"ytick\"><text text-anchor=\"end\" x=\"79\" y=\"4.199999999999999\" transform=\"translate(0,520)\" style=\"font-family: 'Open Sans', verdana, arial, sans-serif; font-size: 12px; fill: rgb(42, 63, 95); fill-opacity: 1; white-space: pre;\">−1.00</text></g><g class=\"ytick\"><text text-anchor=\"end\" x=\"79\" y=\"4.199999999999999\" transform=\"translate(0,415)\" style=\"font-family: 'Open Sans', verdana, arial, sans-serif; font-size: 12px; fill: rgb(42, 63, 95); fill-opacity: 1; white-space: pre;\">−0.50</text></g><g class=\"ytick\"><text text-anchor=\"end\" x=\"79\" y=\"4.199999999999999\" transform=\"translate(0,310)\" style=\"font-family: 'Open Sans', verdana, arial, sans-serif; font-size: 12px; fill: rgb(42, 63, 95); fill-opacity: 1; white-space: pre;\">0.00</text></g><g class=\"ytick\"><text text-anchor=\"end\" x=\"79\" y=\"4.199999999999999\" transform=\"translate(0,205)\" style=\"font-family: 'Open Sans', verdana, arial, sans-serif; font-size: 12px; fill: rgb(42, 63, 95); fill-opacity: 1; white-space: pre;\">0.50</text></g><g class=\"ytick\"><text text-anchor=\"end\" x=\"79\" y=\"4.199999999999999\" transform=\"translate(0,100)\" style=\"font-family: 'Open Sans', verdana, arial, sans-serif; font-size: 12px; fill: rgb(42, 63, 95); fill-opacity: 1; white-space: pre;\">1.00</text></g></g><g class=\"overaxes-above\"/></g></g><g class=\"polarlayer\"/><g class=\"ternarylayer\"/><g class=\"geolayer\"/><g class=\"funnelarealayer\"/><g class=\"pielayer\"/><g class=\"treemaplayer\"/><g class=\"sunburstlayer\"/><g class=\"glimages\"/><defs id=\"topdefs-21a518\"><g class=\"clips\"/></defs><g class=\"layer-above\"><g class=\"imagelayer\"/><g class=\"shapelayer\"/></g><g class=\"infolayer\"><g class=\"g-gtitle\"><text class=\"gtitle\" x=\"30\" y=\"50\" text-anchor=\"start\" dy=\"0em\" style=\"font-family: 'Open Sans', verdana, arial, sans-serif; font-size: 17px; fill: rgb(42, 63, 95); opacity: 1; font-weight: normal; white-space: pre;\">I/Q Constellation Plot</text></g><g class=\"g-xtitle\"><text class=\"xtitle\" x=\"300\" y=\"560.8\" text-anchor=\"middle\" style=\"font-family: 'Open Sans', verdana, arial, sans-serif; font-size: 14px; fill: rgb(42, 63, 95); opacity: 1; font-weight: normal; white-space: pre;\">In-phase (V)</text></g><g class=\"g-ytitle\"><text class=\"ytitle\" transform=\"rotate(-90,17.121875000000003,310)\" x=\"17.121875000000003\" y=\"310\" text-anchor=\"middle\" style=\"font-family: 'Open Sans', verdana, arial, sans-serif; font-size: 14px; fill: rgb(42, 63, 95); opacity: 1; font-weight: normal; white-space: pre;\">Quadrature (V)</text></g></g></svg>"
      ],
      "text/plain": [
       "<IPython.core.display.SVG object>"
      ]
     },
     "metadata": {},
     "output_type": "display_data"
    }
   ],
   "source": [
    "fig = go.Figure()\n",
    "\n",
    "fig.add_trace(go.Scatter(\n",
    "    x=np.real(baseband[0, 0, :]),\n",
    "    y=np.imag(baseband[0, 0, :]),\n",
    "))\n",
    "\n",
    "fig.update_layout(\n",
    "    title='I/Q Constellation Plot',\n",
    "    xaxis=dict(range=[-1, 1], tickformat='.2f', title='In-phase (V)'),\n",
    "    yaxis=dict(range=[-1, 1],\n",
    "               tickformat='.2f',\n",
    "               title='Quadrature (V)',\n",
    "               scaleanchor=\"x\",\n",
    "               scaleratio=1),\n",
    "    height=600,\n",
    "    width=600,\n",
    ")\n",
    "\n",
    "# fig.show()\n",
    "display(SVG(fig.to_image(format='svg', scale=1)))"
   ]
  },
  {
   "cell_type": "markdown",
   "metadata": {},
   "source": [
    "## Phase demodulation\n",
    "\n",
    "Demodulate the phase of the baseband signal"
   ]
  },
  {
   "cell_type": "code",
   "execution_count": 6,
   "metadata": {},
   "outputs": [],
   "source": [
    "demod = np.angle(baseband[0, 0, :])"
   ]
  },
  {
   "cell_type": "markdown",
   "metadata": {},
   "source": [
    "Plot"
   ]
  },
  {
   "cell_type": "code",
   "execution_count": 7,
   "metadata": {},
   "outputs": [
    {
     "data": {
      "image/svg+xml": [
       "<svg xmlns=\"http://www.w3.org/2000/svg\" xmlns:xlink=\"http://www.w3.org/1999/xlink\" class=\"main-svg\" width=\"700\" height=\"500\" style=\"\" viewBox=\"0 0 700 500\"><rect x=\"0\" y=\"0\" width=\"700\" height=\"500\" style=\"fill: rgb(255, 255, 255); fill-opacity: 1;\"/><defs id=\"defs-704355\"><g class=\"clips\"><clipPath id=\"clip704355xyplot\" class=\"plotclip\"><rect width=\"540\" height=\"320\"/></clipPath><clipPath class=\"axesclip\" id=\"clip704355x\"><rect x=\"80\" y=\"0\" width=\"540\" height=\"500\"/></clipPath><clipPath class=\"axesclip\" id=\"clip704355y\"><rect x=\"0\" y=\"100\" width=\"700\" height=\"320\"/></clipPath><clipPath class=\"axesclip\" id=\"clip704355xy\"><rect x=\"80\" y=\"100\" width=\"540\" height=\"320\"/></clipPath></g><g class=\"gradients\"/></defs><g class=\"bglayer\"><rect class=\"bg\" x=\"80\" y=\"100\" width=\"540\" height=\"320\" style=\"fill: rgb(229, 236, 246); fill-opacity: 1; stroke-width: 0;\"/></g><g class=\"layer-below\"><g class=\"imagelayer\"/><g class=\"shapelayer\"/></g><g class=\"cartesianlayer\"><g class=\"subplot xy\"><g class=\"layer-subplot\"><g class=\"shapelayer\"/><g class=\"imagelayer\"/></g><g class=\"gridlayer\"><g class=\"x\"><path class=\"xgrid crisp\" transform=\"translate(215.34,0)\" d=\"M0,100v320\" style=\"stroke: rgb(255, 255, 255); stroke-opacity: 1; stroke-width: 1px;\"/><path class=\"xgrid crisp\" transform=\"translate(350.68,0)\" d=\"M0,100v320\" style=\"stroke: rgb(255, 255, 255); stroke-opacity: 1; stroke-width: 1px;\"/><path class=\"xgrid crisp\" transform=\"translate(486.02,0)\" d=\"M0,100v320\" style=\"stroke: rgb(255, 255, 255); stroke-opacity: 1; stroke-width: 1px;\"/></g><g class=\"y\"><path class=\"ygrid crisp\" transform=\"translate(0,406.08)\" d=\"M80,0h540\" style=\"stroke: rgb(255, 255, 255); stroke-opacity: 1; stroke-width: 1px;\"/><path class=\"ygrid crisp\" transform=\"translate(0,334.93)\" d=\"M80,0h540\" style=\"stroke: rgb(255, 255, 255); stroke-opacity: 1; stroke-width: 1px;\"/><path class=\"ygrid crisp\" transform=\"translate(0,263.77)\" d=\"M80,0h540\" style=\"stroke: rgb(255, 255, 255); stroke-opacity: 1; stroke-width: 1px;\"/><path class=\"ygrid crisp\" transform=\"translate(0,192.61)\" d=\"M80,0h540\" style=\"stroke: rgb(255, 255, 255); stroke-opacity: 1; stroke-width: 1px;\"/><path class=\"ygrid crisp\" transform=\"translate(0,121.46000000000001)\" d=\"M80,0h540\" style=\"stroke: rgb(255, 255, 255); stroke-opacity: 1; stroke-width: 1px;\"/></g></g><g class=\"zerolinelayer\"><path class=\"xzl zl crisp\" transform=\"translate(80,0)\" d=\"M0,100v320\" style=\"stroke: rgb(255, 255, 255); stroke-opacity: 1; stroke-width: 2px;\"/></g><path class=\"xlines-below\"/><path class=\"ylines-below\"/><g class=\"overlines-below\"/><g class=\"xaxislayer-below\"/><g class=\"yaxislayer-below\"/><g class=\"overaxes-below\"/><g class=\"plot\" transform=\"translate(80,100)\" clip-path=\"url('#clip704355xyplot')\"><g class=\"scatterlayer mlayer\"><g class=\"trace scatter trace721ce9\" style=\"stroke-miterlimit: 2; opacity: 1;\"><g class=\"fills\"/><g class=\"errorbars\"/><g class=\"lines\"><path class=\"js-line\" d=\"M0,159.95L4.06,43.58L5.41,23.12L6.77,16.04L8.12,23.11L10.83,75.36L12.18,115.53L17.59,276.42L18.95,296.86L20.3,303.91L21.65,296.88L23.01,276.39L24.36,244.59L31.13,43.53L32.48,23.1L33.83,16.06L35.19,23.11L37.89,75.42L39.25,115.48L44.66,276.37L46.02,296.88L47.37,303.88L48.72,296.88L50.08,276.4L51.43,244.53L58.2,43.54L59.55,23.13L60.9,16.03L62.26,23.09L64.96,75.35L66.32,115.54L71.73,276.37L73.08,296.9L74.44,303.89L75.79,296.83L78.5,244.55L79.85,204.45L85.26,43.55L86.62,23.08L87.97,16.06L89.32,23.08L90.68,43.55L92.03,75.4L98.8,276.38L100.15,296.84L101.5,303.87L102.86,296.89L105.56,244.56L106.92,204.44L112.33,43.54L113.68,23.12L115.04,16.09L116.39,23.12L119.1,75.4L120.45,115.53L125.86,276.43L127.22,296.85L128.57,303.87L129.92,296.85L131.28,276.42L132.63,244.59L139.4,43.53L140.75,23.15L142.11,16.05L143.46,23.06L146.17,75.33L147.52,115.54L152.93,276.37L154.29,296.9L155.64,303.87L156.99,296.88L158.35,276.43L159.7,244.61L166.47,43.51L167.82,23.14L169.17,16.04L170.53,23.13L171.88,43.54L173.23,75.44L180,276.45L181.35,296.87L182.71,303.88L184.06,296.85L186.77,244.6L188.12,204.49L193.53,43.54L194.89,23.11L196.24,16.08L197.59,23.1L198.95,43.55L200.3,75.39L207.07,276.41L208.42,296.88L209.77,303.9L211.13,296.81L213.83,244.6L215.19,204.46L220.6,43.58L221.95,23.13L223.31,16L224.66,23.07L226.02,43.52L227.37,75.42L234.14,276.43L235.49,296.84L236.84,303.86L238.2,296.85L240.9,244.65L242.26,204.5L247.67,43.58L249.02,23.13L250.38,16.04L251.73,23.11L254.44,75.4L255.79,115.5L261.2,276.42L262.56,296.85L263.91,303.91L265.26,296.82L266.62,276.42L267.97,244.6L274.74,43.56L276.09,23.14L277.44,16.06L278.8,23.12L280.15,43.5L281.5,75.43L288.27,276.43L289.62,296.86L290.98,303.91L292.33,296.83L295.04,244.67L296.39,204.47L301.8,43.56L303.16,23.11L304.51,16.04L305.86,23.1L307.22,43.58L308.57,75.44L315.34,276.47L316.69,296.89L318.05,303.91L319.4,296.91L322.11,244.6L323.46,204.43L328.87,43.58L330.23,23.09L331.58,16.03L332.93,23.1L334.29,43.54L335.64,75.42L342.41,276.45L343.76,296.88L345.11,303.92L346.47,296.96L349.17,244.57L350.53,204.47L355.94,43.52L357.29,23.09L358.65,16.04L360,23.1L362.71,75.44L364.06,115.49L369.47,276.39L370.83,296.8L372.18,303.87L373.53,296.92L374.89,276.38L376.24,244.59L383.01,43.52L384.36,23.1L385.71,16.02L387.07,23.16L388.42,43.53L389.77,75.43L396.54,276.4L397.89,296.8L399.25,303.93L400.6,296.89L403.31,244.6L404.66,204.43L410.08,43.52L411.43,23.06L412.78,16.09L414.14,23.1L415.49,43.55L416.84,75.4L423.61,276.44L424.96,296.83L426.32,304L427.67,296.93L430.38,244.61L431.73,204.46L437.14,43.56L438.5,23.17L439.85,16.09L441.2,23.16L442.56,43.5L443.91,75.39L450.68,276.5L452.03,296.75L453.38,303.81L454.74,296.89L456.09,276.44L457.44,244.55L464.21,43.57L465.56,23.12L466.92,16.13L468.27,23.15L469.62,43.5L470.98,75.38L477.74,276.46L479.1,296.78L480.45,303.86L481.8,296.86L483.16,276.44L484.51,244.6L491.28,43.56L492.63,23.14L493.98,16.11L495.34,23.14L498.05,75.41L499.4,115.45L504.81,276.49L506.17,296.81L507.52,303.93L508.87,296.81L510.23,276.45L511.58,244.56L518.35,43.55L519.7,23.12L521.05,16.13L522.41,23.11L523.76,43.47L525.11,75.45L531.88,276.47L533.23,296.77L534.59,303.84L535.94,296.83L537.29,276.46L538.65,244.51L540,204.41\" style=\"vector-effect: non-scaling-stroke; fill: none; stroke: rgb(99, 110, 250); stroke-opacity: 1; stroke-width: 2px; opacity: 1;\"/></g><g class=\"points\"/><g class=\"text\"/></g></g></g><g class=\"overplot\"/><path class=\"xlines-above crisp\" d=\"M0,0\" style=\"fill: none;\"/><path class=\"ylines-above crisp\" d=\"M0,0\" style=\"fill: none;\"/><g class=\"overlines-above\"/><g class=\"xaxislayer-above\"><g class=\"xtick\"><text text-anchor=\"middle\" x=\"0\" y=\"433\" transform=\"translate(80,0)\" style=\"font-family: 'Open Sans', verdana, arial, sans-serif; font-size: 12px; fill: rgb(42, 63, 95); fill-opacity: 1; white-space: pre;\">0.00</text></g><g class=\"xtick\"><text text-anchor=\"middle\" x=\"0\" y=\"433\" transform=\"translate(215.34,0)\" style=\"font-family: 'Open Sans', verdana, arial, sans-serif; font-size: 12px; fill: rgb(42, 63, 95); fill-opacity: 1; white-space: pre;\">5.00</text></g><g class=\"xtick\"><text text-anchor=\"middle\" x=\"0\" y=\"433\" transform=\"translate(350.68,0)\" style=\"font-family: 'Open Sans', verdana, arial, sans-serif; font-size: 12px; fill: rgb(42, 63, 95); fill-opacity: 1; white-space: pre;\">10.00</text></g><g class=\"xtick\"><text text-anchor=\"middle\" x=\"0\" y=\"433\" transform=\"translate(486.02,0)\" style=\"font-family: 'Open Sans', verdana, arial, sans-serif; font-size: 12px; fill: rgb(42, 63, 95); fill-opacity: 1; white-space: pre;\">15.00</text></g></g><g class=\"yaxislayer-above\"><g class=\"ytick\"><text text-anchor=\"end\" x=\"79\" y=\"4.199999999999999\" transform=\"translate(0,406.08)\" style=\"font-family: 'Open Sans', verdana, arial, sans-serif; font-size: 12px; fill: rgb(42, 63, 95); fill-opacity: 1; white-space: pre;\">1.00</text></g><g class=\"ytick\"><text text-anchor=\"end\" x=\"79\" y=\"4.199999999999999\" transform=\"translate(0,334.93)\" style=\"font-family: 'Open Sans', verdana, arial, sans-serif; font-size: 12px; fill: rgb(42, 63, 95); fill-opacity: 1; white-space: pre;\">1.50</text></g><g class=\"ytick\"><text text-anchor=\"end\" x=\"79\" y=\"4.199999999999999\" transform=\"translate(0,263.77)\" style=\"font-family: 'Open Sans', verdana, arial, sans-serif; font-size: 12px; fill: rgb(42, 63, 95); fill-opacity: 1; white-space: pre;\">2.00</text></g><g class=\"ytick\"><text text-anchor=\"end\" x=\"79\" y=\"4.199999999999999\" transform=\"translate(0,192.61)\" style=\"font-family: 'Open Sans', verdana, arial, sans-serif; font-size: 12px; fill: rgb(42, 63, 95); fill-opacity: 1; white-space: pre;\">2.50</text></g><g class=\"ytick\"><text text-anchor=\"end\" x=\"79\" y=\"4.199999999999999\" transform=\"translate(0,121.46000000000001)\" style=\"font-family: 'Open Sans', verdana, arial, sans-serif; font-size: 12px; fill: rgb(42, 63, 95); fill-opacity: 1; white-space: pre;\">3.00</text></g></g><g class=\"overaxes-above\"/></g></g><g class=\"polarlayer\"/><g class=\"ternarylayer\"/><g class=\"geolayer\"/><g class=\"funnelarealayer\"/><g class=\"pielayer\"/><g class=\"treemaplayer\"/><g class=\"sunburstlayer\"/><g class=\"glimages\"/><defs id=\"topdefs-704355\"><g class=\"clips\"/></defs><g class=\"layer-above\"><g class=\"imagelayer\"/><g class=\"shapelayer\"/></g><g class=\"infolayer\"><g class=\"g-gtitle\"><text class=\"gtitle\" x=\"35\" y=\"50\" text-anchor=\"start\" dy=\"0em\" style=\"font-family: 'Open Sans', verdana, arial, sans-serif; font-size: 17px; fill: rgb(42, 63, 95); opacity: 1; font-weight: normal; white-space: pre;\">Phase demodulated</text></g><g class=\"g-xtitle\"><text class=\"xtitle\" x=\"350\" y=\"460.8\" text-anchor=\"middle\" style=\"font-family: 'Open Sans', verdana, arial, sans-serif; font-size: 14px; fill: rgb(42, 63, 95); opacity: 1; font-weight: normal; white-space: pre;\">Time (s)</text></g><g class=\"g-ytitle\"><text class=\"ytitle\" transform=\"rotate(-90,26.934375000000003,260)\" x=\"26.934375000000003\" y=\"260\" text-anchor=\"middle\" style=\"font-family: 'Open Sans', verdana, arial, sans-serif; font-size: 14px; fill: rgb(42, 63, 95); opacity: 1; font-weight: normal; white-space: pre;\">Phase (rad)</text></g></g></svg>"
      ],
      "text/plain": [
       "<IPython.core.display.SVG object>"
      ]
     },
     "metadata": {},
     "output_type": "display_data"
    }
   ],
   "source": [
    "fig = go.Figure()\n",
    "fig.add_trace(go.Scatter(\n",
    "    x=timestamp[0, 0, :],\n",
    "    y=demod,\n",
    "))\n",
    "\n",
    "fig.update_layout(\n",
    "    title='Phase demodulated',\n",
    "    xaxis=dict(tickformat='.2f', title='Time (s)'),\n",
    "    yaxis=dict(tickformat='.2f', title='Phase (rad)'),\n",
    ")\n",
    "\n",
    "# fig.show()\n",
    "display(SVG(fig.to_image(format='svg', scale=1)))"
   ]
  },
  {
   "cell_type": "code",
   "execution_count": null,
   "metadata": {},
   "outputs": [],
   "source": []
  }
 ],
 "metadata": {
  "kernel_info": {
   "name": "python3"
  },
  "kernelspec": {
   "display_name": "Python 3",
   "language": "python",
   "name": "python3"
  },
  "language_info": {
   "codemirror_mode": {
    "name": "ipython",
    "version": 3
   },
   "file_extension": ".py",
   "mimetype": "text/x-python",
   "name": "python",
   "nbconvert_exporter": "python",
   "pygments_lexer": "ipython3",
   "version": "3.9.4"
  },
  "nteract": {
   "version": "0.12.3"
  },
  "toc": {
   "base_numbering": 1,
   "nav_menu": {},
   "number_sections": true,
   "sideBar": true,
   "skip_h1_title": false,
   "title_cell": "Table of Contents",
   "title_sidebar": "Contents",
   "toc_cell": false,
   "toc_position": {},
   "toc_section_display": true,
   "toc_window_display": false
  },
  "toc-showcode": false,
  "varInspector": {
   "cols": {
    "lenName": 16,
    "lenType": 16,
    "lenVar": 40
   },
   "kernels_config": {
    "python": {
     "delete_cmd_postfix": "",
     "delete_cmd_prefix": "del ",
     "library": "var_list.py",
     "varRefreshCmd": "print(var_dic_list())"
    },
    "r": {
     "delete_cmd_postfix": ") ",
     "delete_cmd_prefix": "rm(",
     "library": "var_list.r",
     "varRefreshCmd": "cat(var_dic_list()) "
    }
   },
   "types_to_exclude": [
    "module",
    "function",
    "builtin_function_or_method",
    "instance",
    "_Feature"
   ],
   "window_display": false
  }
 },
 "nbformat": 4,
 "nbformat_minor": 4
}
