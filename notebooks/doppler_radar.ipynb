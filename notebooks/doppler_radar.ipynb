{
 "cells": [
  {
   "cell_type": "markdown",
   "metadata": {},
   "source": [
    "# Doppler (Interferometry) Radar\n",
    "\n",
    "<a href=\"https://rookiepeng.github.io/radarsimpy/\" target=\"_blank\" rel=\"nofollow\"><img src=\"https://img.shields.io/badge/Documentation-latest-brightgree?style=flat&logo=read-the-docs\" height=\"20\" align=\"left\"></a>\n",
    "\n",
    "<br></br>\n",
    "This is a Doppler (interferometry) radar simulation example based on [`RadarSimPy`](https://github.com/rookiepeng/radarsimpy).\n",
    "\n",
    "---\n",
    "\n",
    "\n",
    "## Radar Model\n",
    "### Transmitter\n",
    "\n",
    "Setup the basic transmitter parameters through `Transmitter` module.\n",
    "\n",
    "The following table lists the parameters in this example.\n",
    "\n",
    "| Parameter                       | Variable in `Transmitter`| Value      |\n",
    "|---------------------------------|--------------------------|------------|\n",
    "| Center frequency ($f_c$)        | `f`                      | 24.125 GHz |\n",
    "| Signal length ($T$)             | `t`                      | 20 s       |\n",
    "| Transmitted power ($P_t$)       | `tx_power`               | 10 dBm     |\n",
    "\n",
    "A single transmitter channel is used in this example. The tranmitter channel is located at [0, 0, 0].\n",
    "\n",
    "### Receiver\n",
    "\n",
    "Setup the receiver parameters through `Receiver` module.\n",
    "\n",
    "The parameters of the receiver are listed in the table below.\n",
    "\n",
    "| Parameter                        | Variable in `Receiver`   | Value        |\n",
    "|----------------------------------|--------------------------|--------------|\n",
    "| Sampling rate ($f_s$)            | `fs`                     | 20 sps       |\n",
    "| Noise figure ($NF$)              | `noise_figure`           | 12 dB        |\n",
    "| RF gain/loss ($G_{rf}$)          | `rf_gain`                | 20 dB        |\n",
    "| Baseband gain ($G_{BB}$)         | `baseband_gain`          | 50 dB        |\n",
    "| Load resistor ($R_L$)            | `load_resistor`          | 1000 $\\Omega$|\n",
    "\n",
    "A single receiver channel is used in this example. The receiver channel is located at [0, 0, 0]."
   ]
  },
  {
   "cell_type": "code",
   "execution_count": 1,
   "metadata": {},
   "outputs": [],
   "source": [
    "import numpy as np\n",
    "from radarsimpy import Radar, Transmitter, Receiver\n",
    "\n",
    "# setup transmitter\n",
    "tx = Transmitter(f=24.125e9,\n",
    "                 t=20,\n",
    "                 tx_power=10,\n",
    "                 pulses=1,\n",
    "                 channels=[dict(location=(0, 0, 0))])\n",
    "\n",
    "# setup receiver\n",
    "rx = Receiver(fs=20,\n",
    "              noise_figure=12,\n",
    "              rf_gain=20,\n",
    "              baseband_gain=50,\n",
    "              load_resistor=1000,\n",
    "              channels=[dict(location=(0, 0, 0))])\n",
    "\n",
    "# create radar\n",
    "radar = Radar(transmitter=tx, receiver=rx)"
   ]
  },
  {
   "cell_type": "markdown",
   "metadata": {},
   "source": [
    "### Targets\n",
    "\n",
    "Define a list of targets. There is only one target in this simulaiton. The motion of the target is defined by:\n",
    "\n",
    "`1.4+1e-3*np.sin(2*np.pi*1*radar.timestamp)`\n",
    "\n",
    "`radar.timestamp` is the time matrix of the baseband samples."
   ]
  },
  {
   "cell_type": "code",
   "execution_count": 2,
   "metadata": {},
   "outputs": [],
   "source": [
    "target = dict(location=(1.4+1e-3*np.sin(2*np.pi*1*radar.timestamp), 0, 0),\n",
    "              rcs=-10,\n",
    "              phase=0)\n",
    "\n",
    "targets = [target]"
   ]
  },
  {
   "cell_type": "markdown",
   "metadata": {},
   "source": [
    "## Simulate Baseband Signals\n",
    "\n",
    "Use the `simulator` module to simulate the baseband samples. The user can choose between Python engine `simpy` or C++ engine `simc`.\n",
    "\n",
    "The output baseband data is a 3-D matrix:\n",
    "\n",
    "$[channels, pulses, ADC~samples]$"
   ]
  },
  {
   "cell_type": "code",
   "execution_count": 3,
   "metadata": {},
   "outputs": [],
   "source": [
    "# Python engine\n",
    "from radarsimpy.simulator import simpy\n",
    "# C++ engine\n",
    "from radarsimpy.simulator import simc\n",
    "\n",
    "bb_data = simc(radar, targets)\n",
    "timestamp = bb_data['timestamp']\n",
    "baseband = bb_data['baseband']"
   ]
  },
  {
   "cell_type": "markdown",
   "metadata": {},
   "source": [
    "Plot the baseband"
   ]
  },
  {
   "cell_type": "code",
   "execution_count": 4,
   "metadata": {
    "tags": [
     "remove_cell"
    ]
   },
   "outputs": [
    {
     "data": {
      "image/svg+xml": [
       "<svg xmlns=\"http://www.w3.org/2000/svg\" xmlns:xlink=\"http://www.w3.org/1999/xlink\" class=\"main-svg\" width=\"700\" height=\"500\" style=\"\" viewBox=\"0 0 700 500\"><rect x=\"0\" y=\"0\" width=\"700\" height=\"500\" style=\"fill: rgb(255, 255, 255); fill-opacity: 1;\"/><defs id=\"defs-f7f0b7\"><g class=\"clips\"><clipPath id=\"clipf7f0b7xyplot\" class=\"plotclip\"><rect width=\"540\" height=\"320\"/></clipPath><clipPath class=\"axesclip\" id=\"clipf7f0b7x\"><rect x=\"80\" y=\"0\" width=\"540\" height=\"500\"/></clipPath><clipPath class=\"axesclip\" id=\"clipf7f0b7y\"><rect x=\"0\" y=\"100\" width=\"700\" height=\"320\"/></clipPath><clipPath class=\"axesclip\" id=\"clipf7f0b7xy\"><rect x=\"80\" y=\"100\" width=\"540\" height=\"320\"/></clipPath></g><g class=\"gradients\"/></defs><g class=\"bglayer\"><rect class=\"bg\" x=\"80\" y=\"100\" width=\"540\" height=\"320\" style=\"fill: rgb(229, 236, 246); fill-opacity: 1; stroke-width: 0;\"/></g><g class=\"layer-below\"><g class=\"imagelayer\"/><g class=\"shapelayer\"/></g><g class=\"cartesianlayer\"><g class=\"subplot xy\"><g class=\"layer-subplot\"><g class=\"shapelayer\"/><g class=\"imagelayer\"/></g><g class=\"gridlayer\"><g class=\"x\"><path class=\"xgrid crisp\" transform=\"translate(215.34,0)\" d=\"M0,100v320\" style=\"stroke: rgb(255, 255, 255); stroke-opacity: 1; stroke-width: 1px;\"/><path class=\"xgrid crisp\" transform=\"translate(350.68,0)\" d=\"M0,100v320\" style=\"stroke: rgb(255, 255, 255); stroke-opacity: 1; stroke-width: 1px;\"/><path class=\"xgrid crisp\" transform=\"translate(486.02,0)\" d=\"M0,100v320\" style=\"stroke: rgb(255, 255, 255); stroke-opacity: 1; stroke-width: 1px;\"/></g><g class=\"y\"><path class=\"ygrid crisp\" transform=\"translate(0,396.64)\" d=\"M80,0h540\" style=\"stroke: rgb(255, 255, 255); stroke-opacity: 1; stroke-width: 1px;\"/><path class=\"ygrid crisp\" transform=\"translate(0,351.05)\" d=\"M80,0h540\" style=\"stroke: rgb(255, 255, 255); stroke-opacity: 1; stroke-width: 1px;\"/><path class=\"ygrid crisp\" transform=\"translate(0,305.46000000000004)\" d=\"M80,0h540\" style=\"stroke: rgb(255, 255, 255); stroke-opacity: 1; stroke-width: 1px;\"/><path class=\"ygrid crisp\" transform=\"translate(0,214.28)\" d=\"M80,0h540\" style=\"stroke: rgb(255, 255, 255); stroke-opacity: 1; stroke-width: 1px;\"/><path class=\"ygrid crisp\" transform=\"translate(0,168.69)\" d=\"M80,0h540\" style=\"stroke: rgb(255, 255, 255); stroke-opacity: 1; stroke-width: 1px;\"/><path class=\"ygrid crisp\" transform=\"translate(0,123.1)\" d=\"M80,0h540\" style=\"stroke: rgb(255, 255, 255); stroke-opacity: 1; stroke-width: 1px;\"/></g></g><g class=\"zerolinelayer\"><path class=\"xzl zl crisp\" transform=\"translate(80,0)\" d=\"M0,100v320\" style=\"stroke: rgb(255, 255, 255); stroke-opacity: 1; stroke-width: 2px;\"/><path class=\"yzl zl crisp\" transform=\"translate(0,259.87)\" d=\"M80,0h540\" style=\"stroke: rgb(255, 255, 255); stroke-opacity: 1; stroke-width: 2px;\"/></g><path class=\"xlines-below\"/><path class=\"ylines-below\"/><g class=\"overlines-below\"/><g class=\"xaxislayer-below\"/><g class=\"yaxislayer-below\"/><g class=\"overaxes-below\"/><g class=\"plot\" transform=\"translate(80,100)\" clip-path=\"url('#clipf7f0b7xyplot')\"><g class=\"scatterlayer mlayer\"><g class=\"trace scatter tracea36a45\" style=\"stroke-miterlimit: 2; opacity: 1;\"><g class=\"fills\"/><g class=\"errorbars\"/><g class=\"lines\"><path class=\"js-line\" d=\"M0,223.77L2.71,285.68L4.06,298.44L5.41,303.08L6.77,304L8.12,303.04L9.47,298.43L10.83,285.68L12.18,260.68L17.59,108.42L18.95,89.49L20.3,83.29L21.65,89.48L23.01,108.39L24.36,139.83L29.77,285.6L31.13,298.45L32.48,303.06L33.83,303.95L35.19,303.1L36.54,298.45L37.89,285.6L39.25,260.66L44.66,108.42L46.02,89.44L47.37,83.27L48.72,89.46L50.08,108.45L51.43,139.8L56.84,285.63L58.2,298.41L59.55,303.05L60.9,303.95L62.26,303.06L63.61,298.43L64.96,285.65L66.32,260.64L71.73,108.4L73.08,89.46L74.44,83.28L75.79,89.45L77.14,108.42L78.5,139.78L83.91,285.59L85.26,298.43L86.62,303.06L87.97,303.97L89.32,303.09L90.68,298.51L92.03,285.61L93.38,260.66L98.8,108.43L100.15,89.5L101.5,83.24L102.86,89.46L104.21,108.38L105.56,139.79L110.98,285.66L112.33,298.49L113.68,303.09L115.04,303.98L116.39,303.08L117.74,298.48L119.1,285.67L120.45,260.66L125.86,108.4L127.22,89.45L128.57,83.26L129.92,89.46L131.28,108.37L132.63,139.81L138.05,285.59L139.4,298.48L140.75,303.07L142.11,303.96L143.46,303.04L144.81,298.45L146.17,285.64L147.52,260.63L152.93,108.39L154.29,89.47L155.64,83.22L156.99,89.42L158.35,108.42L159.7,139.83L165.11,285.62L166.47,298.44L167.82,303.09L169.17,303.97L170.53,303.07L171.88,298.44L173.23,285.6L174.59,260.63L180,108.41L181.35,89.45L182.71,83.26L184.06,89.46L185.41,108.42L186.77,139.78L192.18,285.65L193.53,298.46L194.89,303.06L196.24,303.99L197.59,303.08L198.95,298.49L200.3,285.61L201.65,260.67L207.07,108.34L208.42,89.47L209.77,83.31L211.13,89.45L212.48,108.41L213.83,139.85L219.25,285.64L220.6,298.43L221.95,303.08L223.31,303.95L224.66,303.06L226.02,298.49L227.37,285.58L228.72,260.65L234.14,108.37L235.49,89.46L236.84,83.23L238.2,89.48L239.55,108.41L240.9,139.79L246.32,285.62L247.67,298.46L249.02,303.09L250.38,303.97L251.73,303.1L253.08,298.44L254.44,285.65L255.79,260.63L261.2,108.4L262.56,89.43L263.91,83.17L265.26,89.46L266.62,108.43L267.97,139.76L273.38,285.63L274.74,298.47L276.09,303.07L277.44,303.94L278.8,303.08L280.15,298.47L281.5,285.66L282.86,260.62L288.27,108.41L289.62,89.47L290.98,83.25L292.33,89.48L293.68,108.41L295.04,139.76L300.45,285.63L301.8,298.42L303.16,303.09L304.51,303.93L305.86,303.03L307.22,298.44L308.57,285.63L309.92,260.69L315.34,108.36L316.69,89.49L318.05,83.19L319.4,89.35L320.75,108.41L322.11,139.76L327.52,285.61L328.87,298.45L330.23,303.04L331.58,303.97L332.93,303.05L334.29,298.46L335.64,285.62L336.99,260.68L342.41,108.38L343.76,89.47L345.11,83.2L346.47,89.38L347.82,108.4L349.17,139.75L354.59,285.58L355.94,298.49L357.29,303.01L358.65,303.95L360,303.05L361.35,298.46L362.71,285.63L364.06,260.71L369.47,108.35L370.83,89.5L372.18,83.24L373.53,89.47L374.89,108.37L376.24,139.72L381.65,285.58L383.01,298.47L384.36,303.06L385.71,303.95L387.07,303.03L388.42,298.4L389.77,285.58L391.13,260.67L396.54,108.4L397.89,89.46L399.25,83.23L400.6,89.43L401.95,108.46L403.31,139.81L408.72,285.64L410.08,298.46L411.43,303.08L412.78,303.96L414.14,303.06L415.49,298.4L416.84,285.66L418.2,260.67L423.61,108.38L424.96,89.52L426.32,83.27L427.67,89.41L429.02,108.43L430.38,139.79L435.79,285.68L437.14,298.46L438.5,303.05L439.85,303.98L441.2,303.1L442.56,298.48L443.91,285.63L445.26,260.67L450.68,108.31L452.03,89.53L453.38,83.27L454.74,89.51L456.09,108.44L457.44,139.83L462.86,285.62L464.21,298.5L465.56,303.03L466.92,304L468.27,303.05L469.62,298.49L470.98,285.56L472.33,260.68L477.74,108.34L479.1,89.5L480.45,83.26L481.8,89.49L483.16,108.36L484.51,139.86L489.92,285.63L491.28,298.48L492.63,303.08L493.98,303.97L495.34,303.05L496.69,298.47L498.05,285.61L499.4,260.67L504.81,108.31L506.17,89.56L507.52,83.26L508.87,89.45L510.23,108.4L511.58,139.87L516.99,285.71L518.35,298.46L519.7,303.02L521.05,303.95L522.41,303.09L523.76,298.48L525.11,285.63L526.47,260.63L531.88,108.3L533.23,89.49L534.59,83.29L535.94,89.48L537.29,108.37L538.65,139.83L540,180.64\" style=\"vector-effect: non-scaling-stroke; fill: none; stroke: rgb(99, 110, 250); stroke-opacity: 1; stroke-width: 2px; opacity: 1;\"/></g><g class=\"points\"/><g class=\"text\"/></g><g class=\"trace scatter tracef11d71\" style=\"stroke-miterlimit: 2; opacity: 1;\"><g class=\"fills\"/><g class=\"errorbars\"/><g class=\"lines\"><path class=\"js-line\" d=\"M0,29.6L5.41,137.77L6.77,144.92L8.12,137.75L9.47,117.47L13.53,29.63L14.89,16.17L16.24,16.05L17.59,24.03L18.95,32.79L20.3,36.45L21.65,32.76L23.01,24.07L24.36,16.08L25.71,16.2L27.07,29.63L28.42,55.59L32.48,137.78L33.83,144.9L35.19,137.79L36.54,117.46L40.6,29.57L41.95,16.2L43.31,16.04L44.66,24.02L46.02,32.82L47.37,36.4L48.72,32.79L50.08,24.05L51.43,16.04L52.78,16.22L54.14,29.59L55.49,55.58L59.55,137.71L60.9,144.86L62.26,137.73L63.61,117.46L67.67,29.56L69.02,16.22L70.38,16.05L71.73,24.08L73.08,32.75L74.44,36.42L75.79,32.79L77.14,24.1L78.5,16.01L79.85,16.19L81.2,29.57L82.56,55.58L86.62,137.75L87.97,144.89L89.32,137.75L90.68,117.47L94.74,29.65L96.09,16.18L97.44,16.03L98.8,24.04L100.15,32.76L101.5,36.42L102.86,32.78L104.21,24.06L105.56,16.04L106.92,16.21L108.27,29.6L109.62,55.61L113.68,137.78L115.04,144.87L116.39,137.76L117.74,117.45L121.8,29.6L123.16,16.2L124.51,16.03L125.86,24.04L127.22,32.79L128.57,36.39L129.92,32.82L131.28,24.03L132.63,16.02L133.98,16.23L135.34,29.61L136.69,55.62L140.75,137.77L142.11,144.87L143.46,137.81L144.81,117.47L148.87,29.61L150.23,16.24L151.58,16.07L152.93,24.01L154.29,32.77L155.64,36.41L156.99,32.78L158.35,24.03L159.7,16.07L161.05,16.17L162.41,29.56L163.76,55.58L167.82,137.75L169.17,144.84L170.53,137.79L171.88,117.49L175.94,29.57L177.29,16.21L178.65,16.06L180,24.04L181.35,32.79L182.71,36.41L184.06,32.84L185.41,24.01L186.77,16.1L188.12,16.2L189.47,29.62L190.83,55.61L194.89,137.76L196.24,144.89L197.59,137.78L198.95,117.51L203.01,29.56L204.36,16.26L205.71,16.04L207.07,24.02L208.42,32.78L209.77,36.42L211.13,32.81L212.48,24.01L213.83,16.06L215.19,16.2L216.54,29.59L217.89,55.59L221.95,137.79L223.31,144.88L224.66,137.8L226.02,117.54L230.08,29.59L231.43,16.21L232.78,16.03L234.14,24.05L235.49,32.79L236.84,36.45L238.2,32.73L239.55,24.03L240.9,16.07L242.26,16.2L243.61,29.62L244.96,55.63L249.02,137.75L250.38,144.93L251.73,137.8L253.08,117.52L257.14,29.58L258.5,16.22L259.85,16.07L261.2,24.04L262.56,32.75L263.91,36.41L265.26,32.76L266.62,24.04L267.97,16.05L269.32,16.15L270.68,29.6L272.03,55.65L276.09,137.76L277.44,144.87L278.8,137.75L280.15,117.51L284.21,29.57L285.56,16.22L286.92,16.1L288.27,24.02L289.62,32.79L290.98,36.4L292.33,32.8L293.68,24.04L295.04,16.05L296.39,16.17L297.74,29.63L299.1,55.59L303.16,137.77L304.51,144.88L305.86,137.75L307.22,117.52L311.28,29.58L312.63,16.2L313.98,16.1L315.34,24.06L316.69,32.8L318.05,36.46L319.4,32.83L320.75,24.03L322.11,16.06L323.46,16.24L324.81,29.63L326.17,55.62L330.23,137.78L331.58,144.94L332.93,137.7L334.29,117.51L338.35,29.62L339.7,16.23L341.05,16.1L342.41,24.06L343.76,32.76L345.11,36.5L346.47,32.83L347.82,24.07L349.17,16L350.53,16.26L351.88,29.61L353.23,55.65L357.29,137.78L358.65,144.86L360,137.72L361.35,117.49L365.41,29.59L366.77,16.22L368.12,16.05L369.47,24.06L370.83,32.75L372.18,36.44L373.53,32.79L374.89,24.09L376.24,16.04L377.59,16.21L378.95,29.62L380.3,55.59L384.36,137.82L385.71,144.91L387.07,137.74L388.42,117.46L392.48,29.6L393.83,16.21L395.19,16.06L396.54,24.07L397.89,32.79L399.25,36.43L400.6,32.86L401.95,24.05L403.31,16.04L404.66,16.23L406.02,29.61L407.37,55.57L411.43,137.77L412.78,144.89L414.14,137.79L415.49,117.45L419.55,29.59L420.9,16.23L422.26,16.08L423.61,24L424.96,32.77L426.32,36.43L427.67,32.84L429.02,24L430.38,16.07L431.73,16.22L433.08,29.57L434.44,55.64L438.5,137.74L439.85,144.8L441.2,137.76L442.56,117.57L446.62,29.57L447.97,16.17L449.32,16.09L450.68,24.07L452.03,32.74L453.38,36.42L454.74,32.77L456.09,24.06L457.44,16.03L458.8,16.23L460.15,29.55L461.5,55.59L465.56,137.75L466.92,144.88L468.27,137.74L469.62,117.5L473.68,29.55L475.04,16.2L476.39,16.07L477.74,24.02L479.1,32.74L480.45,36.46L481.8,32.81L483.16,24.07L484.51,16.03L485.86,16.26L487.22,29.57L488.57,55.57L492.63,137.74L493.98,144.84L495.34,137.72L496.69,117.57L500.75,29.58L502.11,16.18L503.46,16.09L504.81,24.09L506.17,32.73L507.52,36.4L508.87,32.81L510.23,24.06L511.58,16.08L512.93,16.2L514.29,29.61L515.64,55.58L519.7,137.73L521.05,144.83L522.41,137.78L523.76,117.52L527.82,29.6L529.17,16.2L530.53,16.07L531.88,24.04L533.23,32.77L534.59,36.38L535.94,32.78L537.29,24.01L538.65,16.03L540,16.18\" style=\"vector-effect: non-scaling-stroke; fill: none; stroke: rgb(239, 85, 59); stroke-opacity: 1; stroke-width: 2px; opacity: 1;\"/></g><g class=\"points\"/><g class=\"text\"/></g></g></g><g class=\"overplot\"/><path class=\"xlines-above crisp\" style=\"fill: none;\" d=\"M0,0\"/><path class=\"ylines-above crisp\" style=\"fill: none;\" d=\"M0,0\"/><g class=\"overlines-above\"/><g class=\"xaxislayer-above\"><g class=\"xtick\"><text text-anchor=\"middle\" x=\"0\" y=\"433\" transform=\"translate(80,0)\" style=\"font-family: 'Open Sans', verdana, arial, sans-serif; font-size: 12px; fill: rgb(42, 63, 95); fill-opacity: 1; white-space: pre;\">0</text></g><g class=\"xtick\"><text text-anchor=\"middle\" x=\"0\" y=\"433\" transform=\"translate(215.34,0)\" style=\"font-family: 'Open Sans', verdana, arial, sans-serif; font-size: 12px; fill: rgb(42, 63, 95); fill-opacity: 1; white-space: pre;\">5</text></g><g class=\"xtick\"><text text-anchor=\"middle\" x=\"0\" y=\"433\" transform=\"translate(350.68,0)\" style=\"font-family: 'Open Sans', verdana, arial, sans-serif; font-size: 12px; fill: rgb(42, 63, 95); fill-opacity: 1; white-space: pre;\">10</text></g><g class=\"xtick\"><text text-anchor=\"middle\" x=\"0\" y=\"433\" transform=\"translate(486.02,0)\" style=\"font-family: 'Open Sans', verdana, arial, sans-serif; font-size: 12px; fill: rgb(42, 63, 95); fill-opacity: 1; white-space: pre;\">15</text></g></g><g class=\"yaxislayer-above\"><g class=\"ytick\"><text text-anchor=\"end\" x=\"79\" y=\"4.199999999999999\" transform=\"translate(0,396.64)\" style=\"font-family: 'Open Sans', verdana, arial, sans-serif; font-size: 12px; fill: rgb(42, 63, 95); fill-opacity: 1; white-space: pre;\">−0.6</text></g><g class=\"ytick\"><text text-anchor=\"end\" x=\"79\" y=\"4.199999999999999\" transform=\"translate(0,351.05)\" style=\"font-family: 'Open Sans', verdana, arial, sans-serif; font-size: 12px; fill: rgb(42, 63, 95); fill-opacity: 1; white-space: pre;\">−0.4</text></g><g class=\"ytick\"><text text-anchor=\"end\" x=\"79\" y=\"4.199999999999999\" transform=\"translate(0,305.46000000000004)\" style=\"font-family: 'Open Sans', verdana, arial, sans-serif; font-size: 12px; fill: rgb(42, 63, 95); fill-opacity: 1; white-space: pre;\">−0.2</text></g><g class=\"ytick\"><text text-anchor=\"end\" x=\"79\" y=\"4.199999999999999\" transform=\"translate(0,259.87)\" style=\"font-family: 'Open Sans', verdana, arial, sans-serif; font-size: 12px; fill: rgb(42, 63, 95); fill-opacity: 1; white-space: pre;\">0</text></g><g class=\"ytick\"><text text-anchor=\"end\" x=\"79\" y=\"4.199999999999999\" transform=\"translate(0,214.28)\" style=\"font-family: 'Open Sans', verdana, arial, sans-serif; font-size: 12px; fill: rgb(42, 63, 95); fill-opacity: 1; white-space: pre;\">0.2</text></g><g class=\"ytick\"><text text-anchor=\"end\" x=\"79\" y=\"4.199999999999999\" transform=\"translate(0,168.69)\" style=\"font-family: 'Open Sans', verdana, arial, sans-serif; font-size: 12px; fill: rgb(42, 63, 95); fill-opacity: 1; white-space: pre;\">0.4</text></g><g class=\"ytick\"><text text-anchor=\"end\" x=\"79\" y=\"4.199999999999999\" transform=\"translate(0,123.1)\" style=\"font-family: 'Open Sans', verdana, arial, sans-serif; font-size: 12px; fill: rgb(42, 63, 95); fill-opacity: 1; white-space: pre;\">0.6</text></g></g><g class=\"overaxes-above\"/></g></g><g class=\"polarlayer\"/><g class=\"ternarylayer\"/><g class=\"geolayer\"/><g class=\"funnelarealayer\"/><g class=\"pielayer\"/><g class=\"treemaplayer\"/><g class=\"sunburstlayer\"/><g class=\"glimages\"/><defs id=\"topdefs-f7f0b7\"><g class=\"clips\"/><clipPath id=\"legendf7f0b7\"><rect width=\"55\" height=\"48\" x=\"0\" y=\"0\"/></clipPath></defs><g class=\"layer-above\"><g class=\"imagelayer\"/><g class=\"shapelayer\"/></g><g class=\"infolayer\"><g class=\"legend\" pointer-events=\"all\" transform=\"translate(630.8,100)\"><rect class=\"bg\" shape-rendering=\"crispEdges\" style=\"stroke: rgb(68, 68, 68); stroke-opacity: 1; fill: rgb(255, 255, 255); fill-opacity: 1; stroke-width: 0px;\" width=\"55\" height=\"48\" x=\"0\" y=\"0\"/><g class=\"scrollbox\" transform=\"\" clip-path=\"url('#legendf7f0b7')\"><g class=\"groups\"><g class=\"traces\" style=\"opacity: 1;\" transform=\"translate(0,14.5)\"><text class=\"legendtext\" text-anchor=\"start\" x=\"40\" y=\"4.680000000000001\" style=\"font-family: 'Open Sans', verdana, arial, sans-serif; font-size: 12px; fill: rgb(42, 63, 95); fill-opacity: 1; white-space: pre;\">I</text><g class=\"layers\" style=\"opacity: 1;\"><g class=\"legendfill\"/><g class=\"legendlines\"><path class=\"js-line\" d=\"M5,0h30\" style=\"fill: none; stroke: rgb(99, 110, 250); stroke-opacity: 1; stroke-width: 2px;\"/></g><g class=\"legendsymbols\"><g class=\"legendpoints\"/></g></g><rect class=\"legendtoggle\" x=\"0\" y=\"-9.5\" width=\"49.5\" height=\"19\" style=\"fill: rgb(0, 0, 0); fill-opacity: 0;\"/></g><g class=\"traces\" style=\"opacity: 1;\" transform=\"translate(0,33.5)\"><text class=\"legendtext\" text-anchor=\"start\" x=\"40\" y=\"4.680000000000001\" style=\"font-family: 'Open Sans', verdana, arial, sans-serif; font-size: 12px; fill: rgb(42, 63, 95); fill-opacity: 1; white-space: pre;\">Q</text><g class=\"layers\" style=\"opacity: 1;\"><g class=\"legendfill\"/><g class=\"legendlines\"><path class=\"js-line\" d=\"M5,0h30\" style=\"fill: none; stroke: rgb(239, 85, 59); stroke-opacity: 1; stroke-width: 2px;\"/></g><g class=\"legendsymbols\"><g class=\"legendpoints\"/></g></g><rect class=\"legendtoggle\" x=\"0\" y=\"-9.5\" width=\"49.5\" height=\"19\" style=\"fill: rgb(0, 0, 0); fill-opacity: 0;\"/></g></g></g><rect class=\"scrollbar\" rx=\"20\" ry=\"3\" width=\"0\" height=\"0\" style=\"fill: rgb(128, 139, 164); fill-opacity: 1;\" x=\"0\" y=\"0\"/></g><g class=\"g-gtitle\"><text class=\"gtitle\" x=\"35\" y=\"50\" text-anchor=\"start\" dy=\"0em\" style=\"font-family: 'Open Sans', verdana, arial, sans-serif; font-size: 17px; fill: rgb(42, 63, 95); opacity: 1; font-weight: normal; white-space: pre;\">I/Q Baseband Signals</text></g><g class=\"g-xtitle\"><text class=\"xtitle\" x=\"350\" y=\"460.3\" text-anchor=\"middle\" style=\"font-family: 'Open Sans', verdana, arial, sans-serif; font-size: 14px; fill: rgb(42, 63, 95); opacity: 1; font-weight: normal; white-space: pre;\">Time (s)</text></g><g class=\"g-ytitle\"><text class=\"ytitle\" transform=\"rotate(-90,24.746875000000003,260)\" x=\"24.746875000000003\" y=\"260\" text-anchor=\"middle\" style=\"font-family: 'Open Sans', verdana, arial, sans-serif; font-size: 14px; fill: rgb(42, 63, 95); opacity: 1; font-weight: normal; white-space: pre;\">Amplitude (V)</text></g></g></svg>"
      ],
      "text/plain": [
       "<IPython.core.display.SVG object>"
      ]
     },
     "metadata": {},
     "output_type": "display_data"
    }
   ],
   "source": [
    "import plotly.graph_objs as go\n",
    "from IPython.display import SVG, display\n",
    "\n",
    "fig = go.Figure()\n",
    "\n",
    "fig.add_trace(go.Scatter(\n",
    "    x=timestamp[0, 0, :],\n",
    "    y=np.real(baseband[0, 0, :]),\n",
    "    name='I',\n",
    "))\n",
    "fig.add_trace(go.Scatter(\n",
    "    x=timestamp[0, 0, :],\n",
    "    y=np.imag(baseband[0, 0, :]),\n",
    "    name='Q',\n",
    "))\n",
    "\n",
    "fig.update_layout(\n",
    "    title='I/Q Baseband Signals',\n",
    "    yaxis=dict(title='Amplitude (V)'),\n",
    "    xaxis=dict(title='Time (s)'),\n",
    ")\n",
    "\n",
    "# fig.show()\n",
    "display(SVG(fig.to_image(format='svg', scale=1)))"
   ]
  },
  {
   "cell_type": "code",
   "execution_count": 5,
   "metadata": {},
   "outputs": [
    {
     "data": {
      "image/svg+xml": [
       "<svg xmlns=\"http://www.w3.org/2000/svg\" xmlns:xlink=\"http://www.w3.org/1999/xlink\" class=\"main-svg\" width=\"600\" height=\"600\" style=\"\" viewBox=\"0 0 600 600\"><rect x=\"0\" y=\"0\" width=\"600\" height=\"600\" style=\"fill: rgb(255, 255, 255); fill-opacity: 1;\"/><defs id=\"defs-57662e\"><g class=\"clips\"><clipPath id=\"clip57662exyplot\" class=\"plotclip\"><rect width=\"440\" height=\"420\"/></clipPath><clipPath class=\"axesclip\" id=\"clip57662ex\"><rect x=\"80\" y=\"0\" width=\"440\" height=\"600\"/></clipPath><clipPath class=\"axesclip\" id=\"clip57662ey\"><rect x=\"0\" y=\"100\" width=\"600\" height=\"420\"/></clipPath><clipPath class=\"axesclip\" id=\"clip57662exy\"><rect x=\"80\" y=\"100\" width=\"440\" height=\"420\"/></clipPath></g><g class=\"gradients\"/></defs><g class=\"bglayer\"><rect class=\"bg\" x=\"80\" y=\"100\" width=\"440\" height=\"420\" style=\"fill: rgb(229, 236, 246); fill-opacity: 1; stroke-width: 0;\"/></g><g class=\"layer-below\"><g class=\"imagelayer\"/><g class=\"shapelayer\"/></g><g class=\"cartesianlayer\"><g class=\"subplot xy\"><g class=\"layer-subplot\"><g class=\"shapelayer\"/><g class=\"imagelayer\"/></g><g class=\"gridlayer\"><g class=\"x\"><path class=\"xgrid crisp\" transform=\"translate(90,0)\" d=\"M0,100v420\" style=\"stroke: rgb(255, 255, 255); stroke-opacity: 1; stroke-width: 1px;\"/><path class=\"xgrid crisp\" transform=\"translate(195,0)\" d=\"M0,100v420\" style=\"stroke: rgb(255, 255, 255); stroke-opacity: 1; stroke-width: 1px;\"/><path class=\"xgrid crisp\" transform=\"translate(405,0)\" d=\"M0,100v420\" style=\"stroke: rgb(255, 255, 255); stroke-opacity: 1; stroke-width: 1px;\"/><path class=\"xgrid crisp\" transform=\"translate(510,0)\" d=\"M0,100v420\" style=\"stroke: rgb(255, 255, 255); stroke-opacity: 1; stroke-width: 1px;\"/></g><g class=\"y\"><path class=\"ygrid crisp\" transform=\"translate(0,415)\" d=\"M80,0h440\" style=\"stroke: rgb(255, 255, 255); stroke-opacity: 1; stroke-width: 1px;\"/><path class=\"ygrid crisp\" transform=\"translate(0,205)\" d=\"M80,0h440\" style=\"stroke: rgb(255, 255, 255); stroke-opacity: 1; stroke-width: 1px;\"/></g></g><g class=\"zerolinelayer\"><path class=\"xzl zl crisp\" transform=\"translate(300,0)\" d=\"M0,100v420\" style=\"stroke: rgb(255, 255, 255); stroke-opacity: 1; stroke-width: 2px;\"/><path class=\"yzl zl crisp\" transform=\"translate(0,310)\" d=\"M80,0h440\" style=\"stroke: rgb(255, 255, 255); stroke-opacity: 1; stroke-width: 2px;\"/></g><path class=\"xlines-below\"/><path class=\"ylines-below\"/><g class=\"overlines-below\"/><g class=\"xaxislayer-below\"/><g class=\"yaxislayer-below\"/><g class=\"overaxes-below\"/><g class=\"plot\" transform=\"translate(80,100)\" clip-path=\"url('#clip57662exyplot')\"><g class=\"scatterlayer mlayer\"><g class=\"trace scatter tracea3681a\" style=\"stroke-miterlimit: 2; opacity: 1;\"><g class=\"fills\"/><g class=\"errorbars\"/><g class=\"lines\"><path class=\"js-line\" d=\"M161.14,89.99L127.19,113.91L104.1,143.6L92.34,170.92L88.06,189.64L87.22,196.22L88.1,189.62L92.35,170.94L104.09,143.57L127.13,113.88L161.11,90.02L200.88,77.61L238.43,77.5L267.4,84.86L290.55,96.3L267.43,84.89L238.47,77.53L200.87,77.64L161.14,90.01L127.14,113.93L104.17,143.58L92.33,170.95L88.09,189.65L87.26,196.21L88.05,189.66L92.33,170.93L104.17,143.57L127.15,113.95L161.17,89.96L200.92,77.64L238.43,77.49L267.4,84.84L290.57,96.25L267.37,84.87L238.49,77.5L200.89,77.66L161.19,89.98L127.15,113.92L104.14,143.6L92.37,170.88L88.1,189.59L87.26,196.17L88.08,189.61L92.35,170.93L104.12,143.51L127.16,113.92L161.18,89.95L200.93,77.66L238.49,77.5L267.42,84.9L290.56,96.27L267.4,84.92L238.51,77.47L200.9,77.63L161.16,89.96L127.17,113.92L104.18,143.55L92.35,170.94L88.08,189.62L87.25,196.2L88.05,189.62L92.28,170.94L104.16,143.62L127.15,113.92L161.17,90.03L200.89,77.62L238.51,77.49L267.39,84.86L290.6,96.27L267.43,84.89L238.5,77.49L200.87,77.65L161.18,89.98L127.18,113.95L104.12,143.59L92.29,170.97L88.06,189.65L87.23,196.18L88.07,189.63L92.3,170.92L104.11,143.62L127.15,113.92L161.18,89.99L200.87,77.64L238.48,77.49L267.42,84.87L290.58,96.24L267.45,84.86L238.48,77.47L200.92,77.67L161.14,89.99L127.16,113.95L104.17,143.58L92.3,170.95L88.08,189.64L87.25,196.18L88.11,189.68L92.33,170.93L104.13,143.56L127.17,113.89L161.18,89.99L200.91,77.68L238.49,77.52L267.42,84.83L290.62,96.26L267.4,84.86L238.46,77.52L200.94,77.61L161.17,89.95L127.14,113.92L104.15,143.54L92.34,170.94L88.05,189.62L87.25,196.15L88.08,189.66L92.34,170.95L104.17,143.59L127.17,113.91L161.2,89.96L200.89,77.65L238.46,77.51L267.41,84.86L290.58,96.26L267.4,84.83L238.51,77.55L200.91,77.64L161.19,90L127.17,113.95L104.13,143.54L92.32,170.94L88.08,189.63L87.22,196.2L88.06,189.65L92.29,170.97L104.16,143.61L127.13,113.9L161.15,89.95L200.88,77.69L238.44,77.49L267.47,84.84L290.54,96.27L267.41,84.83L238.44,77.51L200.93,77.64L161.14,89.98L127.16,113.93L104.14,143.58L92.35,170.94L88.06,189.66L87.26,196.19L88.09,189.66L92.29,171L104.19,143.52L127.16,113.94L161.2,89.98L200.92,77.65L238.46,77.48L267.45,84.87L290.61,96.29L267.41,84.85L238.5,77.52L200.93,77.64L161.17,90L127.13,113.96L104.15,143.58L92.32,170.9L88.05,189.62L87.24,196.24L88.05,189.67L92.34,170.98L104.12,143.53L127.17,113.99L161.14,89.96L200.92,77.66L238.46,77.52L267.42,84.86L290.67,96.26L267.39,84.86L238.53,77.51L200.96,77.6L161.15,89.99L127.11,113.98L104.14,143.58L92.31,170.93L88.07,189.63L87.28,196.18L88.07,189.62L92.31,170.97L104.11,143.55L127.18,113.97L161.16,89.96L200.91,77.65L238.51,77.55L267.41,84.85L290.59,96.25L267.41,84.87L238.53,77.51L200.96,77.62L161.18,90.02L127.15,113.93L104.14,143.53L92.36,170.9L88.06,189.64L87.28,196.19L88.11,189.62L92.34,170.98L104.15,143.55L127.12,113.97L161.15,89.97L200.89,77.64L238.47,77.54L267.45,84.88L290.65,96.31L267.41,84.85L238.53,77.51L200.89,77.68L161.14,90.01L127.16,113.95L104.16,143.55L92.33,170.96L88.1,189.65L87.24,196.25L88.09,189.57L92.32,170.98L104.15,143.57L127.13,113.93L161.14,90.01L200.91,77.67L238.48,77.55L267.44,84.88L290.63,96.34L267.42,84.89L238.54,77.46L200.87,77.69L161.17,90L127.13,113.98L104.19,143.57L92.3,170.94L88.13,189.65L87.27,196.17L88.09,189.6L92.32,170.95L104.14,143.56L127.1,113.97L161.11,89.98L200.92,77.65L238.45,77.5L267.46,84.88L290.59,96.29L267.45,84.91L238.56,77.49L200.94,77.64L161.13,90L127.15,113.93L104.19,143.56L92.31,170.98L88.08,189.69L87.26,196.21L88.11,189.61L92.38,170.93L104.18,143.57L127.13,113.95L161.14,89.98L200.94,77.65L238.54,77.51L267.42,84.89L290.61,96.27L267.36,84.87L238.49,77.49L200.88,77.67L161.16,89.99L127.17,113.91L104.13,143.58L92.32,170.94L88.07,189.64L87.25,196.19L88.08,189.65L92.38,170.91L104.12,143.57L127.13,113.96L161.19,89.98L200.98,77.67L238.51,77.53L267.44,84.82L290.57,96.28L267.39,84.83L238.5,77.52L200.93,77.66L161.14,89.95L127.13,113.98L104.1,143.6L92.32,170.94L88.09,189.61L87.23,196.11L88.05,189.63L92.3,171.03L104.15,143.54L127.14,113.98L161.18,89.96L200.93,77.61L238.47,77.54L267.5,84.89L290.57,96.26L267.38,84.88L238.46,77.49L200.92,77.67L161.18,89.94L127.14,113.93L104.15,143.62L92.28,170.93L88.11,189.62L87.22,196.19L88.09,189.61L92.29,170.96L104.21,143.55L127.12,113.95L161.19,89.94L200.95,77.64L238.45,77.52L267.47,84.85L290.58,96.31L267.46,84.89L238.43,77.48L200.89,77.69L161.15,89.96L127.15,113.91L104.14,143.57L92.3,171L88.07,189.61L87.25,196.16L88.09,189.6L92.31,171.03L104.16,143.6L127.13,113.92L161.21,89.97L200.96,77.63L238.41,77.54L267.51,84.91L290.58,96.25L267.42,84.88L238.43,77.53L200.89,77.64L161.21,89.99L127.15,113.92L104.07,143.58L92.33,170.9L88.12,189.6L87.26,196.14L88.06,189.65L92.3,170.99L104.15,143.58L127.17,114L161.15,89.99L200.89,77.64L238.48,77.52L267.51,84.87L290.55,96.23L267.45,84.84L238.46,77.49L200.87,77.62\" style=\"vector-effect: non-scaling-stroke; fill: none; stroke: rgb(99, 110, 250); stroke-opacity: 1; stroke-width: 2px; opacity: 1;\"/></g><g class=\"points\"/><g class=\"text\"/></g></g></g><g class=\"overplot\"/><path class=\"xlines-above crisp\" d=\"M0,0\" style=\"fill: none;\"/><path class=\"ylines-above crisp\" d=\"M0,0\" style=\"fill: none;\"/><g class=\"overlines-above\"/><g class=\"xaxislayer-above\"><g class=\"xtick\"><text text-anchor=\"middle\" x=\"0\" y=\"533\" transform=\"translate(90,0)\" style=\"font-family: 'Open Sans', verdana, arial, sans-serif; font-size: 12px; fill: rgb(42, 63, 95); fill-opacity: 1; white-space: pre;\">−1.00</text></g><g class=\"xtick\"><text text-anchor=\"middle\" x=\"0\" y=\"533\" transform=\"translate(195,0)\" style=\"font-family: 'Open Sans', verdana, arial, sans-serif; font-size: 12px; fill: rgb(42, 63, 95); fill-opacity: 1; white-space: pre;\">−0.50</text></g><g class=\"xtick\"><text text-anchor=\"middle\" x=\"0\" y=\"533\" transform=\"translate(300,0)\" style=\"font-family: 'Open Sans', verdana, arial, sans-serif; font-size: 12px; fill: rgb(42, 63, 95); fill-opacity: 1; white-space: pre;\">0.00</text></g><g class=\"xtick\"><text text-anchor=\"middle\" x=\"0\" y=\"533\" transform=\"translate(405,0)\" style=\"font-family: 'Open Sans', verdana, arial, sans-serif; font-size: 12px; fill: rgb(42, 63, 95); fill-opacity: 1; white-space: pre;\">0.50</text></g><g class=\"xtick\"><text text-anchor=\"middle\" x=\"0\" y=\"533\" transform=\"translate(510,0)\" style=\"font-family: 'Open Sans', verdana, arial, sans-serif; font-size: 12px; fill: rgb(42, 63, 95); fill-opacity: 1; white-space: pre;\">1.00</text></g></g><g class=\"yaxislayer-above\"><g class=\"ytick\"><text text-anchor=\"end\" x=\"79\" y=\"4.199999999999999\" transform=\"translate(0,520)\" style=\"font-family: 'Open Sans', verdana, arial, sans-serif; font-size: 12px; fill: rgb(42, 63, 95); fill-opacity: 1; white-space: pre;\">−1.00</text></g><g class=\"ytick\"><text text-anchor=\"end\" x=\"79\" y=\"4.199999999999999\" transform=\"translate(0,415)\" style=\"font-family: 'Open Sans', verdana, arial, sans-serif; font-size: 12px; fill: rgb(42, 63, 95); fill-opacity: 1; white-space: pre;\">−0.50</text></g><g class=\"ytick\"><text text-anchor=\"end\" x=\"79\" y=\"4.199999999999999\" transform=\"translate(0,310)\" style=\"font-family: 'Open Sans', verdana, arial, sans-serif; font-size: 12px; fill: rgb(42, 63, 95); fill-opacity: 1; white-space: pre;\">0.00</text></g><g class=\"ytick\"><text text-anchor=\"end\" x=\"79\" y=\"4.199999999999999\" transform=\"translate(0,205)\" style=\"font-family: 'Open Sans', verdana, arial, sans-serif; font-size: 12px; fill: rgb(42, 63, 95); fill-opacity: 1; white-space: pre;\">0.50</text></g><g class=\"ytick\"><text text-anchor=\"end\" x=\"79\" y=\"4.199999999999999\" transform=\"translate(0,100)\" style=\"font-family: 'Open Sans', verdana, arial, sans-serif; font-size: 12px; fill: rgb(42, 63, 95); fill-opacity: 1; white-space: pre;\">1.00</text></g></g><g class=\"overaxes-above\"/></g></g><g class=\"polarlayer\"/><g class=\"ternarylayer\"/><g class=\"geolayer\"/><g class=\"funnelarealayer\"/><g class=\"pielayer\"/><g class=\"treemaplayer\"/><g class=\"sunburstlayer\"/><g class=\"glimages\"/><defs id=\"topdefs-57662e\"><g class=\"clips\"/></defs><g class=\"layer-above\"><g class=\"imagelayer\"/><g class=\"shapelayer\"/></g><g class=\"infolayer\"><g class=\"g-gtitle\"><text class=\"gtitle\" x=\"30\" y=\"50\" text-anchor=\"start\" dy=\"0em\" style=\"font-family: 'Open Sans', verdana, arial, sans-serif; font-size: 17px; fill: rgb(42, 63, 95); opacity: 1; font-weight: normal; white-space: pre;\">I/Q Constellation Plot</text></g><g class=\"g-xtitle\"><text class=\"xtitle\" x=\"300\" y=\"560.3\" text-anchor=\"middle\" style=\"font-family: 'Open Sans', verdana, arial, sans-serif; font-size: 14px; fill: rgb(42, 63, 95); opacity: 1; font-weight: normal; white-space: pre;\">In-phase (V)</text></g><g class=\"g-ytitle\"><text class=\"ytitle\" transform=\"rotate(-90,17.121875000000003,310)\" x=\"17.121875000000003\" y=\"310\" text-anchor=\"middle\" style=\"font-family: 'Open Sans', verdana, arial, sans-serif; font-size: 14px; fill: rgb(42, 63, 95); opacity: 1; font-weight: normal; white-space: pre;\">Quadrature (V)</text></g></g></svg>"
      ],
      "text/plain": [
       "<IPython.core.display.SVG object>"
      ]
     },
     "metadata": {},
     "output_type": "display_data"
    }
   ],
   "source": [
    "fig = go.Figure()\n",
    "\n",
    "fig.add_trace(go.Scatter(\n",
    "    x=np.real(baseband[0, 0, :]),\n",
    "    y=np.imag(baseband[0, 0, :]),\n",
    "))\n",
    "\n",
    "fig.update_layout(\n",
    "    title='I/Q Constellation Plot',\n",
    "    xaxis=dict(range=[-1, 1], tickformat='.2f', title='In-phase (V)'),\n",
    "    yaxis=dict(range=[-1, 1],\n",
    "               tickformat='.2f',\n",
    "               title='Quadrature (V)',\n",
    "               scaleanchor=\"x\",\n",
    "               scaleratio=1),\n",
    "    height=600,\n",
    "    width=600,\n",
    ")\n",
    "\n",
    "# fig.show()\n",
    "display(SVG(fig.to_image(format='svg', scale=1)))"
   ]
  },
  {
   "cell_type": "markdown",
   "metadata": {},
   "source": [
    "## Phase demodulation\n",
    "\n",
    "Demodulate the phase of the baseband signal"
   ]
  },
  {
   "cell_type": "code",
   "execution_count": 6,
   "metadata": {},
   "outputs": [],
   "source": [
    "demod = np.angle(baseband[0, 0, :])"
   ]
  },
  {
   "cell_type": "markdown",
   "metadata": {},
   "source": [
    "Plot"
   ]
  },
  {
   "cell_type": "code",
   "execution_count": 7,
   "metadata": {},
   "outputs": [
    {
     "data": {
      "image/svg+xml": [
       "<svg xmlns=\"http://www.w3.org/2000/svg\" xmlns:xlink=\"http://www.w3.org/1999/xlink\" class=\"main-svg\" width=\"700\" height=\"500\" style=\"\" viewBox=\"0 0 700 500\"><rect x=\"0\" y=\"0\" width=\"700\" height=\"500\" style=\"fill: rgb(255, 255, 255); fill-opacity: 1;\"/><defs id=\"defs-2fa77e\"><g class=\"clips\"><clipPath id=\"clip2fa77exyplot\" class=\"plotclip\"><rect width=\"540\" height=\"320\"/></clipPath><clipPath class=\"axesclip\" id=\"clip2fa77ex\"><rect x=\"80\" y=\"0\" width=\"540\" height=\"500\"/></clipPath><clipPath class=\"axesclip\" id=\"clip2fa77ey\"><rect x=\"0\" y=\"100\" width=\"700\" height=\"320\"/></clipPath><clipPath class=\"axesclip\" id=\"clip2fa77exy\"><rect x=\"80\" y=\"100\" width=\"540\" height=\"320\"/></clipPath></g><g class=\"gradients\"/></defs><g class=\"bglayer\"><rect class=\"bg\" x=\"80\" y=\"100\" width=\"540\" height=\"320\" style=\"fill: rgb(229, 236, 246); fill-opacity: 1; stroke-width: 0;\"/></g><g class=\"layer-below\"><g class=\"imagelayer\"/><g class=\"shapelayer\"/></g><g class=\"cartesianlayer\"><g class=\"subplot xy\"><g class=\"layer-subplot\"><g class=\"shapelayer\"/><g class=\"imagelayer\"/></g><g class=\"gridlayer\"><g class=\"x\"><path class=\"xgrid crisp\" transform=\"translate(215.34,0)\" d=\"M0,100v320\" style=\"stroke: rgb(255, 255, 255); stroke-opacity: 1; stroke-width: 1px;\"/><path class=\"xgrid crisp\" transform=\"translate(350.68,0)\" d=\"M0,100v320\" style=\"stroke: rgb(255, 255, 255); stroke-opacity: 1; stroke-width: 1px;\"/><path class=\"xgrid crisp\" transform=\"translate(486.02,0)\" d=\"M0,100v320\" style=\"stroke: rgb(255, 255, 255); stroke-opacity: 1; stroke-width: 1px;\"/></g><g class=\"y\"><path class=\"ygrid crisp\" transform=\"translate(0,406.1)\" d=\"M80,0h540\" style=\"stroke: rgb(255, 255, 255); stroke-opacity: 1; stroke-width: 1px;\"/><path class=\"ygrid crisp\" transform=\"translate(0,334.94)\" d=\"M80,0h540\" style=\"stroke: rgb(255, 255, 255); stroke-opacity: 1; stroke-width: 1px;\"/><path class=\"ygrid crisp\" transform=\"translate(0,263.78)\" d=\"M80,0h540\" style=\"stroke: rgb(255, 255, 255); stroke-opacity: 1; stroke-width: 1px;\"/><path class=\"ygrid crisp\" transform=\"translate(0,192.62)\" d=\"M80,0h540\" style=\"stroke: rgb(255, 255, 255); stroke-opacity: 1; stroke-width: 1px;\"/><path class=\"ygrid crisp\" transform=\"translate(0,121.46000000000001)\" d=\"M80,0h540\" style=\"stroke: rgb(255, 255, 255); stroke-opacity: 1; stroke-width: 1px;\"/></g></g><g class=\"zerolinelayer\"><path class=\"xzl zl crisp\" transform=\"translate(80,0)\" d=\"M0,100v320\" style=\"stroke: rgb(255, 255, 255); stroke-opacity: 1; stroke-width: 2px;\"/></g><path class=\"xlines-below\"/><path class=\"ylines-below\"/><g class=\"overlines-below\"/><g class=\"xaxislayer-below\"/><g class=\"yaxislayer-below\"/><g class=\"overaxes-below\"/><g class=\"plot\" transform=\"translate(80,100)\" clip-path=\"url('#clip2fa77exyplot')\"><g class=\"scatterlayer mlayer\"><g class=\"trace scatter trace985ae9\" style=\"stroke-miterlimit: 2; opacity: 1;\"><g class=\"fills\"/><g class=\"errorbars\"/><g class=\"lines\"><path class=\"js-line\" d=\"M0,159.96L4.06,43.58L5.41,23.1L6.77,16.02L8.12,23.13L10.83,75.37L12.18,115.53L17.59,276.39L18.95,296.85L20.3,303.9L21.65,296.84L23.01,276.44L24.36,244.57L31.13,43.55L32.48,23.1L33.83,16.04L35.19,23.08L37.89,75.42L39.25,115.49L44.66,276.39L46.02,296.9L47.37,303.89L48.72,296.87L50.08,276.37L51.43,244.6L58.2,43.63L59.55,23.16L60.9,16.08L62.26,23.14L63.61,43.58L64.96,75.44L71.73,276.43L73.08,296.85L74.44,303.89L75.79,296.87L78.5,244.62L79.85,204.46L85.26,43.57L86.62,23.12L87.97,16.05L89.32,23.12L90.68,43.55L92.03,75.36L98.8,276.39L100.15,296.82L101.5,303.92L102.86,296.86L104.21,276.44L105.56,244.6L112.33,43.52L113.68,23.09L115.04,16.07L116.39,23.11L119.1,75.34L120.45,115.52L125.86,276.41L127.22,296.88L128.57,303.9L129.92,296.88L131.28,276.44L132.63,244.58L139.4,43.54L140.75,23.1L142.11,16.07L143.46,23.07L146.17,75.41L147.52,115.56L152.93,276.41L154.29,296.85L155.64,303.94L156.99,296.91L158.35,276.39L159.7,244.57L166.47,43.57L167.82,23.12L169.17,16.1L170.53,23.08L173.23,75.4L174.59,115.54L180,276.41L181.35,296.88L182.71,303.9L184.06,296.89L186.77,244.62L188.12,204.48L193.53,43.57L194.89,23.12L196.24,16.05L197.59,23.09L198.95,43.52L200.3,75.37L207.07,276.46L208.42,296.85L209.77,303.87L211.13,296.89L213.83,244.55L215.19,204.5L220.6,43.57L221.95,23.08L223.31,16.06L224.66,23.08L226.02,43.49L227.37,75.47L234.14,276.45L235.49,296.87L236.84,303.95L238.2,296.82L239.55,276.4L240.9,244.61L247.67,43.6L249.02,23.12L250.38,16.01L251.73,23.07L254.44,75.43L255.79,115.49L261.2,276.41L262.56,296.88L263.91,303.98L265.26,296.86L266.62,276.38L267.97,244.64L274.74,43.57L276.09,23.11L277.44,16.08L278.8,23.12L280.15,43.52L281.5,75.41L288.27,276.4L289.62,296.86L290.98,303.91L292.33,296.86L295.04,244.63L296.39,204.53L301.8,43.61L303.16,23.1L304.51,16.07L305.86,23.13L307.22,43.53L308.57,75.42L315.34,276.45L316.69,296.85L318.05,303.99L319.4,296.98L322.11,244.64L323.46,204.45L328.87,43.55L330.23,23.09L331.58,16L332.93,23.18L334.29,43.53L335.64,75.41L342.41,276.44L343.76,296.85L345.11,304L346.47,296.95L349.17,244.64L350.53,204.43L355.94,43.56L357.29,23.1L358.65,16.08L360,23.15L362.71,75.41L364.06,115.44L369.47,276.46L370.83,296.82L372.18,303.93L373.53,296.87L374.89,276.46L376.24,244.67L383.01,43.52L384.36,23.05L385.71,16.04L387.07,23.14L388.42,43.59L389.77,75.43L396.54,276.42L397.89,296.87L399.25,303.94L400.6,296.93L403.31,244.59L404.66,204.44L410.08,43.56L411.43,23.1L412.78,16.06L414.14,23.09L416.84,75.39L418.2,115.48L423.61,276.42L424.96,296.81L426.32,303.9L427.67,296.94L430.38,244.61L431.73,204.49L437.14,43.56L438.5,23.13L439.85,16.14L441.2,23.11L442.56,43.47L443.91,75.43L450.68,276.5L452.03,296.78L453.38,303.9L454.74,296.82L457.44,244.56L458.8,204.48L464.21,43.56L465.56,23.13L466.92,16.06L468.27,23.13L469.62,43.53L470.98,75.45L477.74,276.46L479.1,296.81L480.45,303.93L481.8,296.85L483.16,276.46L484.51,244.53L491.28,43.5L492.63,23.13L493.98,16.1L495.34,23.15L496.69,43.47L498.05,75.39L504.81,276.52L506.17,296.76L507.52,303.89L508.87,296.89L510.23,276.42L511.58,244.53L518.35,43.6L519.7,23.15L521.05,16.11L522.41,23.09L523.76,43.51L525.11,75.4L531.88,276.5L533.23,296.84L534.59,303.86L535.94,296.84L538.65,244.56L540,204.44\" style=\"vector-effect: non-scaling-stroke; fill: none; stroke: rgb(99, 110, 250); stroke-opacity: 1; stroke-width: 2px; opacity: 1;\"/></g><g class=\"points\"/><g class=\"text\"/></g></g></g><g class=\"overplot\"/><path class=\"xlines-above crisp\" d=\"M0,0\" style=\"fill: none;\"/><path class=\"ylines-above crisp\" d=\"M0,0\" style=\"fill: none;\"/><g class=\"overlines-above\"/><g class=\"xaxislayer-above\"><g class=\"xtick\"><text text-anchor=\"middle\" x=\"0\" y=\"433\" transform=\"translate(80,0)\" style=\"font-family: 'Open Sans', verdana, arial, sans-serif; font-size: 12px; fill: rgb(42, 63, 95); fill-opacity: 1; white-space: pre;\">0.00</text></g><g class=\"xtick\"><text text-anchor=\"middle\" x=\"0\" y=\"433\" transform=\"translate(215.34,0)\" style=\"font-family: 'Open Sans', verdana, arial, sans-serif; font-size: 12px; fill: rgb(42, 63, 95); fill-opacity: 1; white-space: pre;\">5.00</text></g><g class=\"xtick\"><text text-anchor=\"middle\" x=\"0\" y=\"433\" transform=\"translate(350.68,0)\" style=\"font-family: 'Open Sans', verdana, arial, sans-serif; font-size: 12px; fill: rgb(42, 63, 95); fill-opacity: 1; white-space: pre;\">10.00</text></g><g class=\"xtick\"><text text-anchor=\"middle\" x=\"0\" y=\"433\" transform=\"translate(486.02,0)\" style=\"font-family: 'Open Sans', verdana, arial, sans-serif; font-size: 12px; fill: rgb(42, 63, 95); fill-opacity: 1; white-space: pre;\">15.00</text></g></g><g class=\"yaxislayer-above\"><g class=\"ytick\"><text text-anchor=\"end\" x=\"79\" y=\"4.199999999999999\" transform=\"translate(0,406.1)\" style=\"font-family: 'Open Sans', verdana, arial, sans-serif; font-size: 12px; fill: rgb(42, 63, 95); fill-opacity: 1; white-space: pre;\">1.00</text></g><g class=\"ytick\"><text text-anchor=\"end\" x=\"79\" y=\"4.199999999999999\" transform=\"translate(0,334.94)\" style=\"font-family: 'Open Sans', verdana, arial, sans-serif; font-size: 12px; fill: rgb(42, 63, 95); fill-opacity: 1; white-space: pre;\">1.50</text></g><g class=\"ytick\"><text text-anchor=\"end\" x=\"79\" y=\"4.199999999999999\" transform=\"translate(0,263.78)\" style=\"font-family: 'Open Sans', verdana, arial, sans-serif; font-size: 12px; fill: rgb(42, 63, 95); fill-opacity: 1; white-space: pre;\">2.00</text></g><g class=\"ytick\"><text text-anchor=\"end\" x=\"79\" y=\"4.199999999999999\" transform=\"translate(0,192.62)\" style=\"font-family: 'Open Sans', verdana, arial, sans-serif; font-size: 12px; fill: rgb(42, 63, 95); fill-opacity: 1; white-space: pre;\">2.50</text></g><g class=\"ytick\"><text text-anchor=\"end\" x=\"79\" y=\"4.199999999999999\" transform=\"translate(0,121.46000000000001)\" style=\"font-family: 'Open Sans', verdana, arial, sans-serif; font-size: 12px; fill: rgb(42, 63, 95); fill-opacity: 1; white-space: pre;\">3.00</text></g></g><g class=\"overaxes-above\"/></g></g><g class=\"polarlayer\"/><g class=\"ternarylayer\"/><g class=\"geolayer\"/><g class=\"funnelarealayer\"/><g class=\"pielayer\"/><g class=\"treemaplayer\"/><g class=\"sunburstlayer\"/><g class=\"glimages\"/><defs id=\"topdefs-2fa77e\"><g class=\"clips\"/></defs><g class=\"layer-above\"><g class=\"imagelayer\"/><g class=\"shapelayer\"/></g><g class=\"infolayer\"><g class=\"g-gtitle\"><text class=\"gtitle\" x=\"35\" y=\"50\" text-anchor=\"start\" dy=\"0em\" style=\"font-family: 'Open Sans', verdana, arial, sans-serif; font-size: 17px; fill: rgb(42, 63, 95); opacity: 1; font-weight: normal; white-space: pre;\">Phase demodulated</text></g><g class=\"g-xtitle\"><text class=\"xtitle\" x=\"350\" y=\"460.3\" text-anchor=\"middle\" style=\"font-family: 'Open Sans', verdana, arial, sans-serif; font-size: 14px; fill: rgb(42, 63, 95); opacity: 1; font-weight: normal; white-space: pre;\">Time (s)</text></g><g class=\"g-ytitle\"><text class=\"ytitle\" transform=\"rotate(-90,26.934375000000003,260)\" x=\"26.934375000000003\" y=\"260\" text-anchor=\"middle\" style=\"font-family: 'Open Sans', verdana, arial, sans-serif; font-size: 14px; fill: rgb(42, 63, 95); opacity: 1; font-weight: normal; white-space: pre;\">Phase (rad)</text></g></g></svg>"
      ],
      "text/plain": [
       "<IPython.core.display.SVG object>"
      ]
     },
     "metadata": {},
     "output_type": "display_data"
    }
   ],
   "source": [
    "fig = go.Figure()\n",
    "fig.add_trace(go.Scatter(\n",
    "    x=timestamp[0, 0, :],\n",
    "    y=demod,\n",
    "))\n",
    "\n",
    "fig.update_layout(\n",
    "    title='Phase demodulated',\n",
    "    xaxis=dict(tickformat='.2f', title='Time (s)'),\n",
    "    yaxis=dict(tickformat='.2f', title='Phase (rad)'),\n",
    ")\n",
    "\n",
    "# fig.show()\n",
    "display(SVG(fig.to_image(format='svg', scale=1)))"
   ]
  },
  {
   "cell_type": "code",
   "execution_count": null,
   "metadata": {},
   "outputs": [],
   "source": []
  }
 ],
 "metadata": {
  "kernel_info": {
   "name": "python3"
  },
  "kernelspec": {
   "display_name": "Python 3",
   "language": "python",
   "name": "python3"
  },
  "language_info": {
   "codemirror_mode": {
    "name": "ipython",
    "version": 3
   },
   "file_extension": ".py",
   "mimetype": "text/x-python",
   "name": "python",
   "nbconvert_exporter": "python",
   "pygments_lexer": "ipython3",
   "version": "3.9.4"
  },
  "nteract": {
   "version": "0.12.3"
  },
  "toc": {
   "base_numbering": 1,
   "nav_menu": {},
   "number_sections": true,
   "sideBar": true,
   "skip_h1_title": false,
   "title_cell": "Table of Contents",
   "title_sidebar": "Contents",
   "toc_cell": false,
   "toc_position": {},
   "toc_section_display": true,
   "toc_window_display": false
  },
  "toc-showcode": false,
  "varInspector": {
   "cols": {
    "lenName": 16,
    "lenType": 16,
    "lenVar": 40
   },
   "kernels_config": {
    "python": {
     "delete_cmd_postfix": "",
     "delete_cmd_prefix": "del ",
     "library": "var_list.py",
     "varRefreshCmd": "print(var_dic_list())"
    },
    "r": {
     "delete_cmd_postfix": ") ",
     "delete_cmd_prefix": "rm(",
     "library": "var_list.r",
     "varRefreshCmd": "cat(var_dic_list()) "
    }
   },
   "types_to_exclude": [
    "module",
    "function",
    "builtin_function_or_method",
    "instance",
    "_Feature"
   ],
   "window_display": false
  }
 },
 "nbformat": 4,
 "nbformat_minor": 4
}
