{
 "cells": [
  {
   "cell_type": "markdown",
   "metadata": {},
   "source": [
    "# Doppler (Interferometry) Radar\n",
    "\n",
    "<a href=\"https://rookiepeng.github.io/radarsimpy/\" target=\"_blank\" rel=\"nofollow\"><img src=\"https://img.shields.io/badge/Documentation-latest-brightgree?style=flat&logo=read-the-docs\" height=\"20\" align=\"left\"></a>\n",
    "\n",
    "<br></br>\n",
    "This is a Doppler (interferometry) radar simulation example based on [`RadarSimPy`](https://github.com/rookiepeng/radarsimpy).\n",
    "\n",
    "---\n",
    "\n",
    "\n",
    "## Radar Model\n",
    "### Transmitter\n",
    "\n",
    "Setup the basic transmitter parameters through `Transmitter` module.\n",
    "\n",
    "The following table lists the parameters in this example.\n",
    "\n",
    "| Parameter                       | Variable in `Transmitter`| Value      |\n",
    "|---------------------------------|--------------------------|------------|\n",
    "| Frequency ($f$)                 | `f`                      | 24.125 GHz |\n",
    "| Signal length ($T$)             | `t`                      | 20 s       |\n",
    "| Transmitted power ($P_t$)       | `tx_power`               | 10 dBm     |\n",
    "\n",
    "A single transmitter channel is used in this example. The tranmitter channel is located at [0, 0, 0].\n",
    "\n",
    "### Receiver\n",
    "\n",
    "Setup the receiver parameters through `Receiver` module.\n",
    "\n",
    "The parameters of the receiver are listed in the table below.\n",
    "\n",
    "| Parameter                        | Variable in `Receiver`   | Value        |\n",
    "|----------------------------------|--------------------------|--------------|\n",
    "| Sampling rate ($f_s$)            | `fs`                     | 20 sps       |\n",
    "| Noise figure ($NF$)              | `noise_figure`           | 12 dB        |\n",
    "| RF gain/loss ($G_{rf}$)          | `rf_gain`                | 20 dB        |\n",
    "| Baseband gain ($G_{BB}$)         | `baseband_gain`          | 50 dB        |\n",
    "| Load resistor ($R_L$)            | `load_resistor`          | 1000 $\\Omega$|\n",
    "\n",
    "A single receiver channel is used in this example. The receiver channel is located at [0, 0, 0]."
   ]
  },
  {
   "cell_type": "code",
   "execution_count": 1,
   "metadata": {},
   "outputs": [],
   "source": [
    "import numpy as np\n",
    "from radarsimpy import Radar, Transmitter, Receiver\n",
    "\n",
    "# setup transmitter\n",
    "tx = Transmitter(f=24.125e9,\n",
    "                 t=20,\n",
    "                 tx_power=10,\n",
    "                 pulses=1,\n",
    "                 channels=[dict(location=(0, 0, 0))])\n",
    "\n",
    "# setup receiver\n",
    "rx = Receiver(fs=20,\n",
    "              noise_figure=12,\n",
    "              rf_gain=20,\n",
    "              baseband_gain=50,\n",
    "              load_resistor=1000,\n",
    "              channels=[dict(location=(0, 0, 0))])\n",
    "\n",
    "# create radar\n",
    "radar = Radar(transmitter=tx, receiver=rx)"
   ]
  },
  {
   "cell_type": "markdown",
   "metadata": {},
   "source": [
    "### Targets\n",
    "\n",
    "Define a list of targets. There is only one target in this simulaiton. The motion of the target is defined by:\n",
    "\n",
    "`1.4+1e-3*np.sin(2*np.pi*1*radar.timestamp)`\n",
    "\n",
    "`radar.timestamp` is the time matrix of the baseband samples."
   ]
  },
  {
   "cell_type": "code",
   "execution_count": 2,
   "metadata": {},
   "outputs": [],
   "source": [
    "target = dict(location=(1.4+1e-3*np.sin(2*np.pi*1*radar.timestamp), 0, 0),\n",
    "              rcs=-10,\n",
    "              phase=0)\n",
    "\n",
    "targets = [target]"
   ]
  },
  {
   "cell_type": "markdown",
   "metadata": {},
   "source": [
    "## Simulate Baseband Signals\n",
    "\n",
    "Use the `simulator` module to simulate the baseband samples. The user can choose between Python engine `simpy` or C++ engine `simc`.\n",
    "\n",
    "The output baseband data is a 3-D matrix:\n",
    "\n",
    "$[channels, pulses, ADC~samples]$"
   ]
  },
  {
   "cell_type": "code",
   "execution_count": 3,
   "metadata": {},
   "outputs": [],
   "source": [
    "# Python engine\n",
    "from radarsimpy.simulator import simpy\n",
    "# C++ engine\n",
    "from radarsimpy.simulator import simc\n",
    "\n",
    "bb_data = simc(radar, targets)\n",
    "timestamp = bb_data['timestamp']\n",
    "baseband = bb_data['baseband']"
   ]
  },
  {
   "cell_type": "markdown",
   "metadata": {},
   "source": [
    "Plot the baseband"
   ]
  },
  {
   "cell_type": "code",
   "execution_count": 4,
   "metadata": {
    "tags": [
     "remove_cell"
    ]
   },
   "outputs": [
    {
     "data": {
      "image/svg+xml": [
       "<svg xmlns=\"http://www.w3.org/2000/svg\" xmlns:xlink=\"http://www.w3.org/1999/xlink\" class=\"main-svg\" width=\"700\" height=\"500\" style=\"\" viewBox=\"0 0 700 500\"><rect x=\"0\" y=\"0\" width=\"700\" height=\"500\" style=\"fill: rgb(255, 255, 255); fill-opacity: 1;\"/><defs id=\"defs-fd3038\"><g class=\"clips\"><clipPath id=\"clipfd3038xyplot\" class=\"plotclip\"><rect width=\"540\" height=\"320\"/></clipPath><clipPath class=\"axesclip\" id=\"clipfd3038x\"><rect x=\"80\" y=\"0\" width=\"540\" height=\"500\"/></clipPath><clipPath class=\"axesclip\" id=\"clipfd3038y\"><rect x=\"0\" y=\"100\" width=\"700\" height=\"320\"/></clipPath><clipPath class=\"axesclip\" id=\"clipfd3038xy\"><rect x=\"80\" y=\"100\" width=\"540\" height=\"320\"/></clipPath></g><g class=\"gradients\"/><g class=\"patterns\"/></defs><g class=\"bglayer\"><rect class=\"bg\" x=\"80\" y=\"100\" width=\"540\" height=\"320\" style=\"fill: rgb(229, 236, 246); fill-opacity: 1; stroke-width: 0;\"/></g><g class=\"layer-below\"><g class=\"imagelayer\"/><g class=\"shapelayer\"/></g><g class=\"cartesianlayer\"><g class=\"subplot xy\"><g class=\"layer-subplot\"><g class=\"shapelayer\"/><g class=\"imagelayer\"/></g><g class=\"gridlayer\"><g class=\"x\"><path class=\"xgrid crisp\" transform=\"translate(215.34,0)\" d=\"M0,100v320\" style=\"stroke: rgb(255, 255, 255); stroke-opacity: 1; stroke-width: 1px;\"/><path class=\"xgrid crisp\" transform=\"translate(350.68,0)\" d=\"M0,100v320\" style=\"stroke: rgb(255, 255, 255); stroke-opacity: 1; stroke-width: 1px;\"/><path class=\"xgrid crisp\" transform=\"translate(486.02,0)\" d=\"M0,100v320\" style=\"stroke: rgb(255, 255, 255); stroke-opacity: 1; stroke-width: 1px;\"/></g><g class=\"y\"><path class=\"ygrid crisp\" transform=\"translate(0,396.61)\" d=\"M80,0h540\" style=\"stroke: rgb(255, 255, 255); stroke-opacity: 1; stroke-width: 1px;\"/><path class=\"ygrid crisp\" transform=\"translate(0,351.03)\" d=\"M80,0h540\" style=\"stroke: rgb(255, 255, 255); stroke-opacity: 1; stroke-width: 1px;\"/><path class=\"ygrid crisp\" transform=\"translate(0,305.45)\" d=\"M80,0h540\" style=\"stroke: rgb(255, 255, 255); stroke-opacity: 1; stroke-width: 1px;\"/><path class=\"ygrid crisp\" transform=\"translate(0,214.29000000000002)\" d=\"M80,0h540\" style=\"stroke: rgb(255, 255, 255); stroke-opacity: 1; stroke-width: 1px;\"/><path class=\"ygrid crisp\" transform=\"translate(0,168.70999999999998)\" d=\"M80,0h540\" style=\"stroke: rgb(255, 255, 255); stroke-opacity: 1; stroke-width: 1px;\"/><path class=\"ygrid crisp\" transform=\"translate(0,123.13)\" d=\"M80,0h540\" style=\"stroke: rgb(255, 255, 255); stroke-opacity: 1; stroke-width: 1px;\"/></g></g><g class=\"zerolinelayer\"><path class=\"xzl zl crisp\" transform=\"translate(80,0)\" d=\"M0,100v320\" style=\"stroke: rgb(255, 255, 255); stroke-opacity: 1; stroke-width: 2px;\"/><path class=\"yzl zl crisp\" transform=\"translate(0,259.87)\" d=\"M80,0h540\" style=\"stroke: rgb(255, 255, 255); stroke-opacity: 1; stroke-width: 2px;\"/></g><path class=\"xlines-below\"/><path class=\"ylines-below\"/><g class=\"overlines-below\"/><g class=\"xaxislayer-below\"/><g class=\"yaxislayer-below\"/><g class=\"overaxes-below\"/><g class=\"plot\" transform=\"translate(80,100)\" clip-path=\"url(#clipfd3038xyplot)\"><g class=\"scatterlayer mlayer\"><g class=\"trace scatter trace855c51\" style=\"stroke-miterlimit: 2; opacity: 1;\"><g class=\"fills\"/><g class=\"errorbars\"/><g class=\"lines\"><path class=\"js-line\" d=\"M0,223.72L2.71,285.64L4.06,298.39L5.41,303.03L6.77,303.91L8.12,303.01L9.47,298.42L10.83,285.57L12.18,260.66L17.59,108.39L18.95,89.43L20.3,83.25L21.65,89.43L23.01,108.41L24.36,139.8L29.77,285.6L31.13,298.43L32.48,303.04L33.83,303.95L35.19,303.05L36.54,298.44L37.89,285.6L39.25,260.64L44.66,108.37L46.02,89.47L47.37,83.28L48.72,89.46L50.08,108.36L51.43,139.8L56.84,285.59L58.2,298.43L59.55,303.04L60.9,303.94L62.26,303.02L63.61,298.47L64.96,285.58L66.32,260.63L71.73,108.36L73.08,89.49L74.44,83.27L75.79,89.44L77.14,108.37L78.5,139.8L83.91,285.58L85.26,298.42L86.62,302.99L87.97,303.93L89.32,303.03L90.68,298.44L92.03,285.6L93.38,260.65L98.8,108.44L100.15,89.49L101.5,83.23L102.86,89.43L104.21,108.35L105.56,139.82L110.98,285.58L112.33,298.4L113.68,303.03L115.04,303.91L116.39,303.01L117.74,298.37L119.1,285.61L120.45,260.6L125.86,108.37L127.22,89.44L128.57,83.28L129.92,89.46L131.28,108.36L132.63,139.84L138.05,285.59L139.4,298.51L140.75,303L142.11,304L143.46,303.03L144.81,298.38L146.17,285.67L147.52,260.64L152.93,108.38L154.29,89.41L155.64,83.31L156.99,89.48L158.35,108.41L159.7,139.79L165.11,285.58L166.47,298.43L167.82,303.01L169.17,303.93L170.53,303.06L171.88,298.46L173.23,285.58L174.59,260.68L180,108.39L181.35,89.48L182.71,83.29L184.06,89.45L185.41,108.42L186.77,139.81L192.18,285.64L193.53,298.39L194.89,303.03L196.24,303.9L197.59,303.05L198.95,298.39L200.3,285.6L201.65,260.62L207.07,108.39L208.42,89.48L209.77,83.27L211.13,89.46L212.48,108.37L213.83,139.83L219.25,285.64L220.6,298.38L221.95,303.1L223.31,303.91L224.66,303.01L226.02,298.41L227.37,285.59L228.72,260.61L234.14,108.39L235.49,89.46L236.84,83.26L238.2,89.47L239.55,108.39L240.9,139.81L246.32,285.6L247.67,298.43L249.02,303.02L250.38,303.93L251.73,303.06L253.08,298.42L254.44,285.61L255.79,260.67L261.2,108.44L262.56,89.48L263.91,83.28L265.26,89.47L266.62,108.38L267.97,139.75L273.38,285.58L274.74,298.45L276.09,303.06L277.44,303.93L278.8,303.07L280.15,298.39L281.5,285.59L282.86,260.62L288.27,108.39L289.62,89.46L290.98,83.22L292.33,89.45L293.68,108.41L295.04,139.76L300.45,285.6L301.8,298.45L303.16,303.11L304.51,303.95L305.86,303.07L307.22,298.46L308.57,285.6L309.92,260.66L315.34,108.38L316.69,89.47L318.05,83.22L319.4,89.39L320.75,108.45L322.11,139.82L327.52,285.59L328.87,298.4L330.23,303.09L331.58,303.94L332.93,303.04L334.29,298.44L335.64,285.58L336.99,260.61L342.41,108.38L343.76,89.5L345.11,83.21L346.47,89.46L347.82,108.42L349.17,139.73L354.59,285.57L355.94,298.41L357.29,303.06L358.65,303.92L360,303.06L361.35,298.4L362.71,285.58L364.06,260.69L369.47,108.4L370.83,89.5L372.18,83.25L373.53,89.46L374.89,108.42L376.24,139.74L381.65,285.55L383.01,298.44L384.36,303.07L385.71,303.95L387.07,303.03L388.42,298.41L389.77,285.57L391.13,260.67L396.54,108.41L397.89,89.5L399.25,83.25L400.6,89.47L401.95,108.41L403.31,139.78L408.72,285.6L410.08,298.4L411.43,303.02L412.78,303.91L414.14,303.05L415.49,298.44L416.84,285.59L418.2,260.64L423.61,108.41L424.96,89.44L426.32,83.26L427.67,89.39L429.02,108.41L430.38,139.74L435.79,285.62L437.14,298.37L438.5,303.03L439.85,303.96L441.2,302.99L442.56,298.44L443.91,285.57L445.26,260.66L450.68,108.3L452.03,89.53L453.38,83.26L454.74,89.5L456.09,108.36L457.44,139.83L462.86,285.61L464.21,298.44L465.56,303.09L466.92,303.93L468.27,303.06L469.62,298.42L470.98,285.55L472.33,260.65L477.74,108.31L479.1,89.52L480.45,83.29L481.8,89.51L483.16,108.38L484.51,139.82L489.92,285.62L491.28,298.4L492.63,303.05L493.98,303.96L495.34,303.01L496.69,298.45L498.05,285.54L499.4,260.69L504.81,108.33L506.17,89.54L507.52,83.27L508.87,89.5L510.23,108.36L511.58,139.89L516.99,285.61L518.35,298.4L519.7,303.03L521.05,303.94L522.41,303.04L523.76,298.46L525.11,285.56L526.47,260.65L531.88,108.34L533.23,89.51L534.59,83.32L535.94,89.47L537.29,108.35L538.65,139.86L540,180.55\" style=\"vector-effect: non-scaling-stroke; fill: none; stroke: rgb(99, 110, 250); stroke-opacity: 1; stroke-width: 2px; opacity: 1;\"/></g><g class=\"points\"/><g class=\"text\"/></g><g class=\"trace scatter trace445ffc\" style=\"stroke-miterlimit: 2; opacity: 1;\"><g class=\"fills\"/><g class=\"errorbars\"/><g class=\"lines\"><path class=\"js-line\" d=\"M0,29.61L5.41,137.73L6.77,144.9L8.12,137.71L9.47,117.45L13.53,29.59L14.89,16.23L16.24,16.06L17.59,24.05L18.95,32.81L20.3,36.46L21.65,32.83L23.01,24.09L24.36,16.06L25.71,16.21L27.07,29.62L28.42,55.6L32.48,137.71L33.83,144.88L35.19,137.74L36.54,117.48L40.6,29.58L41.95,16.24L43.31,16.09L44.66,24.05L46.02,32.76L47.37,36.43L48.72,32.8L50.08,24.08L51.43,16.03L52.78,16.27L54.14,29.63L55.49,55.6L59.55,137.73L60.9,144.9L62.26,137.79L63.61,117.47L67.67,29.61L69.02,16.19L70.38,16.04L71.73,24.04L73.08,32.81L74.44,36.43L75.79,32.78L77.14,24.11L78.5,16.09L79.85,16.23L81.2,29.63L82.56,55.64L86.62,137.72L87.97,144.84L89.32,137.77L90.68,117.45L94.74,29.6L96.09,16.24L97.44,16.1L98.8,24.06L100.15,32.8L101.5,36.43L102.86,32.81L104.21,24.06L105.56,16.1L106.92,16.25L108.27,29.63L109.62,55.64L113.68,137.79L115.04,144.9L116.39,137.71L117.74,117.49L121.8,29.57L123.16,16.22L124.51,16.1L125.86,24.09L127.22,32.84L128.57,36.43L129.92,32.8L131.28,24.05L132.63,16.08L133.98,16.24L135.34,29.59L136.69,55.61L140.75,137.79L142.11,144.89L143.46,137.77L144.81,117.46L148.87,29.63L150.23,16.26L151.58,16.11L152.93,24.1L154.29,32.86L155.64,36.43L156.99,32.82L158.35,24.04L159.7,16.04L161.05,16.25L162.41,29.57L163.76,55.61L167.82,137.76L169.17,144.9L170.53,137.75L171.88,117.47L175.94,29.64L177.29,16.23L178.65,16.01L180,24.08L181.35,32.84L182.71,36.42L184.06,32.82L185.41,24.05L186.77,16.06L188.12,16.24L189.47,29.61L190.83,55.59L194.89,137.77L196.24,144.83L197.59,137.77L198.95,117.49L203.01,29.6L204.36,16.22L205.71,16.05L207.07,24.11L208.42,32.83L209.77,36.36L211.13,32.83L212.48,24.1L213.83,16.11L215.19,16.24L216.54,29.6L217.89,55.65L221.95,137.75L223.31,144.85L224.66,137.78L226.02,117.51L230.08,29.65L231.43,16.22L232.78,16.05L234.14,24.11L235.49,32.83L236.84,36.42L238.2,32.83L239.55,24.08L240.9,16.06L242.26,16.24L243.61,29.61L244.96,55.64L249.02,137.72L250.38,144.89L251.73,137.79L253.08,117.5L257.14,29.62L258.5,16.16L259.85,16.09L261.2,24.03L262.56,32.81L263.91,36.41L265.26,32.79L266.62,24.06L267.97,16.11L269.32,16.23L270.68,29.64L272.03,55.57L276.09,137.72L277.44,144.9L278.8,137.83L280.15,117.46L284.21,29.57L285.56,16.21L286.92,16.08L288.27,24.03L289.62,32.82L290.98,36.45L292.33,32.8L293.68,24.07L295.04,16.12L296.39,16.2L297.74,29.56L299.1,55.61L303.16,137.76L304.51,144.87L305.86,137.77L307.22,117.47L311.28,29.63L312.63,16.24L313.98,16.08L315.34,24.09L316.69,32.79L318.05,36.43L319.4,32.84L320.75,24.06L322.11,16.1L323.46,16.25L324.81,29.59L326.17,55.63L330.23,137.81L331.58,144.85L332.93,137.73L334.29,117.55L338.35,29.65L339.7,16.29L341.05,16.04L342.41,24.03L343.76,32.78L345.11,36.49L346.47,32.86L347.82,24.03L349.17,16.09L350.53,16.25L351.88,29.65L353.23,55.6L357.29,137.74L358.65,144.85L360,137.76L361.35,117.5L365.41,29.63L366.77,16.2L368.12,16.05L369.47,24.02L370.83,32.75L372.18,36.44L373.53,32.84L374.89,24.06L376.24,16L377.59,16.25L378.95,29.67L380.3,55.63L384.36,137.79L385.71,144.85L387.07,137.73L388.42,117.53L392.48,29.63L393.83,16.23L395.19,16.07L396.54,24.07L397.89,32.8L399.25,36.42L400.6,32.85L401.95,24.06L403.31,16.05L404.66,16.22L406.02,29.61L407.37,55.65L411.43,137.76L412.78,144.85L414.14,137.78L415.49,117.47L419.55,29.68L420.9,16.24L422.26,16.09L423.61,24.07L424.96,32.79L426.32,36.46L427.67,32.82L429.02,24.04L430.38,16.1L431.73,16.24L433.08,29.63L434.44,55.64L438.5,137.71L439.85,144.84L441.2,137.68L442.56,117.54L446.62,29.62L447.97,16.24L449.32,16.07L450.68,24.09L452.03,32.8L453.38,36.4L454.74,32.78L456.09,24.04L457.44,16.08L458.8,16.26L460.15,29.62L461.5,55.6L465.56,137.71L466.92,144.82L468.27,137.71L469.62,117.56L473.68,29.6L475.04,16.26L476.39,16.08L477.74,24.12L479.1,32.75L480.45,36.46L481.8,32.84L483.16,24.08L484.51,16.08L485.86,16.21L487.22,29.65L488.57,55.66L492.63,137.76L493.98,144.84L495.34,137.75L496.69,117.51L500.75,29.58L502.11,16.23L503.46,16.08L504.81,24.1L506.17,32.79L507.52,36.42L508.87,32.86L510.23,24.08L511.58,16.1L512.93,16.25L514.29,29.64L515.64,55.67L519.7,137.73L521.05,144.88L522.41,137.76L523.76,117.57L527.82,29.59L529.17,16.24L530.53,16.06L531.88,24.03L533.23,32.76L534.59,36.43L535.94,32.83L537.29,24.09L538.65,16.05L540,16.25\" style=\"vector-effect: non-scaling-stroke; fill: none; stroke: rgb(239, 85, 59); stroke-opacity: 1; stroke-width: 2px; opacity: 1;\"/></g><g class=\"points\"/><g class=\"text\"/></g></g></g><g class=\"overplot\"/><path class=\"xlines-above crisp\" d=\"M0,0\" style=\"fill: none;\"/><path class=\"ylines-above crisp\" d=\"M0,0\" style=\"fill: none;\"/><g class=\"overlines-above\"/><g class=\"xaxislayer-above\"><g class=\"xtick\"><text text-anchor=\"middle\" x=\"0\" y=\"433\" transform=\"translate(80,0)\" style=\"font-family: 'Open Sans', verdana, arial, sans-serif; font-size: 12px; fill: rgb(42, 63, 95); fill-opacity: 1; white-space: pre; opacity: 1;\">0</text></g><g class=\"xtick\"><text text-anchor=\"middle\" x=\"0\" y=\"433\" style=\"font-family: 'Open Sans', verdana, arial, sans-serif; font-size: 12px; fill: rgb(42, 63, 95); fill-opacity: 1; white-space: pre; opacity: 1;\" transform=\"translate(215.34,0)\">5</text></g><g class=\"xtick\"><text text-anchor=\"middle\" x=\"0\" y=\"433\" style=\"font-family: 'Open Sans', verdana, arial, sans-serif; font-size: 12px; fill: rgb(42, 63, 95); fill-opacity: 1; white-space: pre; opacity: 1;\" transform=\"translate(350.68,0)\">10</text></g><g class=\"xtick\"><text text-anchor=\"middle\" x=\"0\" y=\"433\" style=\"font-family: 'Open Sans', verdana, arial, sans-serif; font-size: 12px; fill: rgb(42, 63, 95); fill-opacity: 1; white-space: pre; opacity: 1;\" transform=\"translate(486.02,0)\">15</text></g></g><g class=\"yaxislayer-above\"><g class=\"ytick\"><text text-anchor=\"end\" x=\"79\" y=\"4.199999999999999\" transform=\"translate(0,396.61)\" style=\"font-family: 'Open Sans', verdana, arial, sans-serif; font-size: 12px; fill: rgb(42, 63, 95); fill-opacity: 1; white-space: pre; opacity: 1;\">−0.6</text></g><g class=\"ytick\"><text text-anchor=\"end\" x=\"79\" y=\"4.199999999999999\" style=\"font-family: 'Open Sans', verdana, arial, sans-serif; font-size: 12px; fill: rgb(42, 63, 95); fill-opacity: 1; white-space: pre; opacity: 1;\" transform=\"translate(0,351.03)\">−0.4</text></g><g class=\"ytick\"><text text-anchor=\"end\" x=\"79\" y=\"4.199999999999999\" style=\"font-family: 'Open Sans', verdana, arial, sans-serif; font-size: 12px; fill: rgb(42, 63, 95); fill-opacity: 1; white-space: pre; opacity: 1;\" transform=\"translate(0,305.45)\">−0.2</text></g><g class=\"ytick\"><text text-anchor=\"end\" x=\"79\" y=\"4.199999999999999\" style=\"font-family: 'Open Sans', verdana, arial, sans-serif; font-size: 12px; fill: rgb(42, 63, 95); fill-opacity: 1; white-space: pre; opacity: 1;\" transform=\"translate(0,259.87)\">0</text></g><g class=\"ytick\"><text text-anchor=\"end\" x=\"79\" y=\"4.199999999999999\" style=\"font-family: 'Open Sans', verdana, arial, sans-serif; font-size: 12px; fill: rgb(42, 63, 95); fill-opacity: 1; white-space: pre; opacity: 1;\" transform=\"translate(0,214.29000000000002)\">0.2</text></g><g class=\"ytick\"><text text-anchor=\"end\" x=\"79\" y=\"4.199999999999999\" style=\"font-family: 'Open Sans', verdana, arial, sans-serif; font-size: 12px; fill: rgb(42, 63, 95); fill-opacity: 1; white-space: pre; opacity: 1;\" transform=\"translate(0,168.70999999999998)\">0.4</text></g><g class=\"ytick\"><text text-anchor=\"end\" x=\"79\" y=\"4.199999999999999\" style=\"font-family: 'Open Sans', verdana, arial, sans-serif; font-size: 12px; fill: rgb(42, 63, 95); fill-opacity: 1; white-space: pre; opacity: 1;\" transform=\"translate(0,123.13)\">0.6</text></g></g><g class=\"overaxes-above\"/></g></g><g class=\"polarlayer\"/><g class=\"ternarylayer\"/><g class=\"geolayer\"/><g class=\"funnelarealayer\"/><g class=\"pielayer\"/><g class=\"iciclelayer\"/><g class=\"treemaplayer\"/><g class=\"sunburstlayer\"/><g class=\"glimages\"/><defs id=\"topdefs-fd3038\"><g class=\"clips\"/><clipPath id=\"legendfd3038\"><rect width=\"55\" height=\"48\" x=\"0\" y=\"0\"/></clipPath></defs><g class=\"layer-above\"><g class=\"imagelayer\"/><g class=\"shapelayer\"/></g><g class=\"infolayer\"><g class=\"legend\" pointer-events=\"all\" transform=\"translate(630.8,100)\"><rect class=\"bg\" shape-rendering=\"crispEdges\" style=\"stroke: rgb(68, 68, 68); stroke-opacity: 1; fill: rgb(255, 255, 255); fill-opacity: 1; stroke-width: 0px;\" width=\"55\" height=\"48\" x=\"0\" y=\"0\"/><g class=\"scrollbox\" transform=\"\" clip-path=\"url(#legendfd3038)\"><g class=\"groups\"><g class=\"traces\" transform=\"translate(0,14.5)\" style=\"opacity: 1;\"><text class=\"legendtext\" text-anchor=\"start\" x=\"40\" y=\"4.680000000000001\" style=\"font-family: 'Open Sans', verdana, arial, sans-serif; font-size: 12px; fill: rgb(42, 63, 95); fill-opacity: 1; white-space: pre;\">I</text><g class=\"layers\" style=\"opacity: 1;\"><g class=\"legendfill\"/><g class=\"legendlines\"><path class=\"js-line\" d=\"M5,0h30\" style=\"fill: none; stroke: rgb(99, 110, 250); stroke-opacity: 1; stroke-width: 2px;\"/></g><g class=\"legendsymbols\"><g class=\"legendpoints\"/></g></g><rect class=\"legendtoggle\" x=\"0\" y=\"-9.5\" width=\"50\" height=\"19\" style=\"fill: rgb(0, 0, 0); fill-opacity: 0;\"/></g><g class=\"traces\" transform=\"translate(0,33.5)\" style=\"opacity: 1;\"><text class=\"legendtext\" text-anchor=\"start\" x=\"40\" y=\"4.680000000000001\" style=\"font-family: 'Open Sans', verdana, arial, sans-serif; font-size: 12px; fill: rgb(42, 63, 95); fill-opacity: 1; white-space: pre;\">Q</text><g class=\"layers\" style=\"opacity: 1;\"><g class=\"legendfill\"/><g class=\"legendlines\"><path class=\"js-line\" d=\"M5,0h30\" style=\"fill: none; stroke: rgb(239, 85, 59); stroke-opacity: 1; stroke-width: 2px;\"/></g><g class=\"legendsymbols\"><g class=\"legendpoints\"/></g></g><rect class=\"legendtoggle\" x=\"0\" y=\"-9.5\" width=\"50\" height=\"19\" style=\"fill: rgb(0, 0, 0); fill-opacity: 0;\"/></g></g></g><rect class=\"scrollbar\" rx=\"20\" ry=\"3\" width=\"0\" height=\"0\" style=\"fill: rgb(128, 139, 164); fill-opacity: 1;\" x=\"0\" y=\"0\"/></g><g class=\"g-gtitle\"><text class=\"gtitle\" x=\"35\" y=\"50\" text-anchor=\"start\" dy=\"0em\" style=\"font-family: 'Open Sans', verdana, arial, sans-serif; font-size: 17px; fill: rgb(42, 63, 95); opacity: 1; font-weight: normal; white-space: pre;\">I/Q Baseband Signals</text></g><g class=\"g-xtitle\"><text class=\"xtitle\" x=\"350\" y=\"460.8\" text-anchor=\"middle\" style=\"font-family: 'Open Sans', verdana, arial, sans-serif; font-size: 14px; fill: rgb(42, 63, 95); opacity: 1; font-weight: normal; white-space: pre;\">Time (s)</text></g><g class=\"g-ytitle\"><text class=\"ytitle\" transform=\"rotate(-90,24.746875000000003,260)\" x=\"24.746875000000003\" y=\"260\" text-anchor=\"middle\" style=\"font-family: 'Open Sans', verdana, arial, sans-serif; font-size: 14px; fill: rgb(42, 63, 95); opacity: 1; font-weight: normal; white-space: pre;\">Amplitude (V)</text></g></g></svg>"
      ],
      "text/plain": [
       "<IPython.core.display.SVG object>"
      ]
     },
     "metadata": {},
     "output_type": "display_data"
    }
   ],
   "source": [
    "import plotly.graph_objs as go\n",
    "from IPython.display import SVG, display\n",
    "\n",
    "fig = go.Figure()\n",
    "\n",
    "fig.add_trace(go.Scatter(\n",
    "    x=timestamp[0, 0, :],\n",
    "    y=np.real(baseband[0, 0, :]),\n",
    "    name='I',\n",
    "))\n",
    "fig.add_trace(go.Scatter(\n",
    "    x=timestamp[0, 0, :],\n",
    "    y=np.imag(baseband[0, 0, :]),\n",
    "    name='Q',\n",
    "))\n",
    "\n",
    "fig.update_layout(\n",
    "    title='I/Q Baseband Signals',\n",
    "    yaxis=dict(title='Amplitude (V)'),\n",
    "    xaxis=dict(title='Time (s)'),\n",
    ")\n",
    "\n",
    "# fig.show()\n",
    "display(SVG(fig.to_image(format='svg', scale=1)))"
   ]
  },
  {
   "cell_type": "code",
   "execution_count": 5,
   "metadata": {},
   "outputs": [
    {
     "data": {
      "image/svg+xml": [
       "<svg xmlns=\"http://www.w3.org/2000/svg\" xmlns:xlink=\"http://www.w3.org/1999/xlink\" class=\"main-svg\" width=\"600\" height=\"600\" style=\"\" viewBox=\"0 0 600 600\"><rect x=\"0\" y=\"0\" width=\"600\" height=\"600\" style=\"fill: rgb(255, 255, 255); fill-opacity: 1;\"/><defs id=\"defs-81f95c\"><g class=\"clips\"><clipPath id=\"clip81f95cxyplot\" class=\"plotclip\"><rect width=\"440\" height=\"420\"/></clipPath><clipPath class=\"axesclip\" id=\"clip81f95cx\"><rect x=\"80\" y=\"0\" width=\"440\" height=\"600\"/></clipPath><clipPath class=\"axesclip\" id=\"clip81f95cy\"><rect x=\"0\" y=\"100\" width=\"600\" height=\"420\"/></clipPath><clipPath class=\"axesclip\" id=\"clip81f95cxy\"><rect x=\"80\" y=\"100\" width=\"440\" height=\"420\"/></clipPath></g><g class=\"gradients\"/><g class=\"patterns\"/></defs><g class=\"bglayer\"><rect class=\"bg\" x=\"80\" y=\"100\" width=\"440\" height=\"420\" style=\"fill: rgb(229, 236, 246); fill-opacity: 1; stroke-width: 0;\"/></g><g class=\"layer-below\"><g class=\"imagelayer\"/><g class=\"shapelayer\"/></g><g class=\"cartesianlayer\"><g class=\"subplot xy\"><g class=\"layer-subplot\"><g class=\"shapelayer\"/><g class=\"imagelayer\"/></g><g class=\"gridlayer\"><g class=\"x\"><path class=\"xgrid crisp\" transform=\"translate(90,0)\" d=\"M0,100v420\" style=\"stroke: rgb(255, 255, 255); stroke-opacity: 1; stroke-width: 1px;\"/><path class=\"xgrid crisp\" transform=\"translate(195,0)\" d=\"M0,100v420\" style=\"stroke: rgb(255, 255, 255); stroke-opacity: 1; stroke-width: 1px;\"/><path class=\"xgrid crisp\" transform=\"translate(405,0)\" d=\"M0,100v420\" style=\"stroke: rgb(255, 255, 255); stroke-opacity: 1; stroke-width: 1px;\"/><path class=\"xgrid crisp\" transform=\"translate(510,0)\" d=\"M0,100v420\" style=\"stroke: rgb(255, 255, 255); stroke-opacity: 1; stroke-width: 1px;\"/></g><g class=\"y\"><path class=\"ygrid crisp\" transform=\"translate(0,415)\" d=\"M80,0h440\" style=\"stroke: rgb(255, 255, 255); stroke-opacity: 1; stroke-width: 1px;\"/><path class=\"ygrid crisp\" transform=\"translate(0,205)\" d=\"M80,0h440\" style=\"stroke: rgb(255, 255, 255); stroke-opacity: 1; stroke-width: 1px;\"/></g></g><g class=\"zerolinelayer\"><path class=\"xzl zl crisp\" transform=\"translate(300,0)\" d=\"M0,100v420\" style=\"stroke: rgb(255, 255, 255); stroke-opacity: 1; stroke-width: 2px;\"/><path class=\"yzl zl crisp\" transform=\"translate(0,310)\" d=\"M80,0h440\" style=\"stroke: rgb(255, 255, 255); stroke-opacity: 1; stroke-width: 2px;\"/></g><path class=\"xlines-below\"/><path class=\"ylines-below\"/><g class=\"overlines-below\"/><g class=\"xaxislayer-below\"/><g class=\"yaxislayer-below\"/><g class=\"overaxes-below\"/><g class=\"plot\" transform=\"translate(80,100)\" clip-path=\"url(#clip81f95cxyplot)\"><g class=\"scatterlayer mlayer\"><g class=\"trace scatter trace88570d\" style=\"stroke-miterlimit: 2; opacity: 1;\"><g class=\"fills\"/><g class=\"errorbars\"/><g class=\"lines\"><path class=\"js-line\" d=\"M161.16,89.98L127.15,113.93L104.1,143.62L92.35,170.97L88.08,189.6L87.27,196.21L88.09,189.59L92.33,170.91L104.17,143.58L127.13,113.93L161.16,89.96L200.87,77.64L238.48,77.49L267.44,84.85L290.6,96.28L267.41,84.88L238.49,77.49L200.85,77.63L161.11,89.98L127.13,113.93L104.14,143.56L92.32,170.92L88.07,189.59L87.23,196.19L88.06,189.61L92.31,170.95L104.14,143.6L127.14,113.95L161.17,89.94L200.91,77.66L238.53,77.52L267.45,84.85L290.57,96.26L267.46,84.88L238.49,77.46L200.93,77.68L161.17,89.99L127.19,113.93L104.15,143.58L92.32,170.96L88.07,189.61L87.24,196.21L88.09,189.66L92.28,170.93L104.16,143.58L127.15,113.9L161.15,89.98L200.91,77.61L238.46,77.47L267.46,84.84L290.58,96.26L267.45,84.91L238.49,77.52L200.87,77.65L161.13,89.99L127.15,113.96L104.16,143.59L92.33,170.96L88.12,189.59L87.25,196.16L88.08,189.64L92.31,170.92L104.14,143.54L127.13,113.93L161.17,89.96L200.89,77.65L238.52,77.52L267.39,84.86L290.62,96.26L267.47,84.86L238.47,77.52L200.92,77.66L161.17,89.99L127.16,113.96L104.16,143.58L92.34,170.97L88.08,189.65L87.27,196.21L88.1,189.58L92.38,170.95L104.14,143.59L127.17,113.93L161.19,89.94L200.88,77.64L238.48,77.53L267.45,84.89L290.57,96.26L267.46,84.85L238.46,77.51L200.91,77.66L161.16,89.96L127.16,113.94L104.15,143.58L92.25,170.98L88.11,189.66L87.19,196.2L88.08,189.64L92.37,170.92L104.08,143.58L127.14,113.92L161.21,89.99L200.9,77.67L238.46,77.54L267.44,84.89L290.54,96.26L267.41,84.84L238.5,77.47L200.87,77.66L161.19,89.93L127.18,113.94L104.16,143.54L92.32,170.96L88.09,189.63L87.25,196.21L88.05,189.62L92.29,170.94L104.16,143.6L127.11,113.91L161.18,90.01L200.87,77.65L238.52,77.44L267.44,84.88L290.56,96.25L267.41,84.85L238.48,77.49L200.9,77.66L161.16,89.97L127.16,113.91L104.11,143.53L92.36,170.94L88.08,189.64L87.28,196.15L88.06,189.64L92.35,170.96L104.14,143.52L127.16,113.96L161.14,89.97L200.89,77.64L238.5,77.48L267.43,84.9L290.58,96.2L267.45,84.9L238.46,77.54L200.91,77.66L161.14,89.96L127.15,113.97L104.11,143.55L92.36,170.94L88.02,189.62L87.27,196.16L88.1,189.65L92.34,170.97L104.15,143.57L127.17,113.92L161.18,90.01L200.92,77.64L238.47,77.48L267.43,84.9L290.59,96.25L267.43,84.88L238.48,77.49L200.93,77.65L161.2,89.97L127.12,113.96L104.14,143.55L92.32,170.97L88.09,189.59L87.25,196.2L88.05,189.66L92.32,170.96L104.13,143.53L127.11,113.92L161.16,89.98L200.89,77.59L238.52,77.52L267.39,84.84L290.57,96.24L267.44,84.86L238.54,77.53L200.96,77.64L161.2,90L127.15,113.89L104.16,143.57L92.3,170.93L88.05,189.59L87.25,196.21L88.04,189.7L92.35,170.92L104.15,143.56L127.16,113.91L161.18,89.94L200.88,77.62L238.53,77.51L267.43,84.84L290.63,96.28L267.42,84.87L238.52,77.54L200.95,77.61L161.16,89.93L127.15,113.93L104.14,143.56L92.3,170.87L88.01,189.63L87.23,196.18L88.04,189.64L92.29,170.93L104.14,143.57L127.12,113.93L161.11,89.99L200.89,77.66L238.51,77.51L267.45,84.89L290.63,96.26L267.38,84.86L238.47,77.53L200.9,77.66L161.15,89.96L127.13,113.95L104.15,143.5L92.34,170.94L88.03,189.67L87.24,196.16L88.07,189.6L92.31,171.01L104.16,143.54L127.17,113.95L161.1,90.01L200.89,77.7L238.49,77.47L267.44,84.83L290.63,96.31L267.4,84.84L238.56,77.51L200.95,77.66L161.14,90.01L127.12,113.92L104.17,143.59L92.34,170.96L88.05,189.61L87.26,196.17L88.05,189.63L92.34,170.96L104.16,143.53L127.1,113.97L161.18,89.99L200.93,77.62L238.54,77.48L267.43,84.83L290.6,96.27L267.41,84.86L238.54,77.43L200.85,77.67L161.14,90.03L127.12,113.95L104.18,143.56L92.31,170.96L88.04,189.66L87.23,196.16L88.08,189.61L92.33,170.99L104.17,143.54L127.12,113.96L161.17,89.99L200.91,77.64L238.47,77.5L267.41,84.87L290.6,96.25L267.42,84.86L238.51,77.48L200.9,77.64L161.15,89.98L127.13,113.97L104.14,143.55L92.35,170.94L88.09,189.63L87.27,196.16L88.06,189.65L92.31,170.93L104.15,143.51L127.14,113.94L161.13,90.03L200.94,77.65L238.49,77.51L267.42,84.87L290.59,96.29L267.41,84.84L238.54,77.52L200.89,77.66L161.12,89.99L127.09,113.96L104.12,143.6L92.38,170.92L88.08,189.58L87.23,196.16L88.12,189.56L92.31,171L104.17,143.58L127.12,113.98L161.2,89.99L200.9,77.65L238.46,77.5L267.51,84.89L290.58,96.23L267.46,84.85L238.46,77.51L200.92,77.67L161.19,89.99L127.13,113.92L104.13,143.6L92.31,170.93L88.03,189.58L87.25,196.14L88.05,189.59L92.33,171.01L104.18,143.55L127.14,113.96L161.18,89.96L200.92,77.67L238.48,77.51L267.51,84.91L290.56,96.28L267.44,84.88L238.47,77.51L200.89,77.63L161.17,90.01L127.14,113.97L104.12,143.6L92.35,170.94L88.06,189.63L87.22,196.15L88.1,189.62L92.3,170.97L104.2,143.53L127.09,113.92L161.17,89.95L200.95,77.64L238.46,77.51L267.48,84.9L290.58,96.25L267.46,84.88L238.41,77.52L200.92,77.66L161.21,90L127.18,113.98L104.13,143.56L92.34,170.98L88.08,189.6L87.24,196.19L88.07,189.63L92.29,171.03L104.18,143.58L127.13,113.95L161.21,89.96L200.93,77.66L238.48,77.49L267.48,84.83L290.53,96.26L267.47,84.89L238.43,77.48L200.94,77.67\" style=\"vector-effect: non-scaling-stroke; fill: none; stroke: rgb(99, 110, 250); stroke-opacity: 1; stroke-width: 2px; opacity: 1;\"/></g><g class=\"points\"/><g class=\"text\"/></g></g></g><g class=\"overplot\"/><path class=\"xlines-above crisp\" d=\"M0,0\" style=\"fill: none;\"/><path class=\"ylines-above crisp\" d=\"M0,0\" style=\"fill: none;\"/><g class=\"overlines-above\"/><g class=\"xaxislayer-above\"><g class=\"xtick\"><text text-anchor=\"middle\" x=\"0\" y=\"533\" transform=\"translate(90,0)\" style=\"font-family: 'Open Sans', verdana, arial, sans-serif; font-size: 12px; fill: rgb(42, 63, 95); fill-opacity: 1; white-space: pre; opacity: 1;\">−1.00</text></g><g class=\"xtick\"><text text-anchor=\"middle\" x=\"0\" y=\"533\" style=\"font-family: 'Open Sans', verdana, arial, sans-serif; font-size: 12px; fill: rgb(42, 63, 95); fill-opacity: 1; white-space: pre; opacity: 1;\" transform=\"translate(195,0)\">−0.50</text></g><g class=\"xtick\"><text text-anchor=\"middle\" x=\"0\" y=\"533\" style=\"font-family: 'Open Sans', verdana, arial, sans-serif; font-size: 12px; fill: rgb(42, 63, 95); fill-opacity: 1; white-space: pre; opacity: 1;\" transform=\"translate(300,0)\">0.00</text></g><g class=\"xtick\"><text text-anchor=\"middle\" x=\"0\" y=\"533\" style=\"font-family: 'Open Sans', verdana, arial, sans-serif; font-size: 12px; fill: rgb(42, 63, 95); fill-opacity: 1; white-space: pre; opacity: 1;\" transform=\"translate(405,0)\">0.50</text></g><g class=\"xtick\"><text text-anchor=\"middle\" x=\"0\" y=\"533\" style=\"font-family: 'Open Sans', verdana, arial, sans-serif; font-size: 12px; fill: rgb(42, 63, 95); fill-opacity: 1; white-space: pre; opacity: 1;\" transform=\"translate(510,0)\">1.00</text></g></g><g class=\"yaxislayer-above\"><g class=\"ytick\"><text text-anchor=\"end\" x=\"79\" y=\"4.199999999999999\" transform=\"translate(0,520)\" style=\"font-family: 'Open Sans', verdana, arial, sans-serif; font-size: 12px; fill: rgb(42, 63, 95); fill-opacity: 1; white-space: pre; opacity: 1;\">−1.00</text></g><g class=\"ytick\"><text text-anchor=\"end\" x=\"79\" y=\"4.199999999999999\" style=\"font-family: 'Open Sans', verdana, arial, sans-serif; font-size: 12px; fill: rgb(42, 63, 95); fill-opacity: 1; white-space: pre; opacity: 1;\" transform=\"translate(0,415)\">−0.50</text></g><g class=\"ytick\"><text text-anchor=\"end\" x=\"79\" y=\"4.199999999999999\" style=\"font-family: 'Open Sans', verdana, arial, sans-serif; font-size: 12px; fill: rgb(42, 63, 95); fill-opacity: 1; white-space: pre; opacity: 1;\" transform=\"translate(0,310)\">0.00</text></g><g class=\"ytick\"><text text-anchor=\"end\" x=\"79\" y=\"4.199999999999999\" style=\"font-family: 'Open Sans', verdana, arial, sans-serif; font-size: 12px; fill: rgb(42, 63, 95); fill-opacity: 1; white-space: pre; opacity: 1;\" transform=\"translate(0,205)\">0.50</text></g><g class=\"ytick\"><text text-anchor=\"end\" x=\"79\" y=\"4.199999999999999\" style=\"font-family: 'Open Sans', verdana, arial, sans-serif; font-size: 12px; fill: rgb(42, 63, 95); fill-opacity: 1; white-space: pre; opacity: 1;\" transform=\"translate(0,100)\">1.00</text></g></g><g class=\"overaxes-above\"/></g></g><g class=\"polarlayer\"/><g class=\"ternarylayer\"/><g class=\"geolayer\"/><g class=\"funnelarealayer\"/><g class=\"pielayer\"/><g class=\"iciclelayer\"/><g class=\"treemaplayer\"/><g class=\"sunburstlayer\"/><g class=\"glimages\"/><defs id=\"topdefs-81f95c\"><g class=\"clips\"/></defs><g class=\"layer-above\"><g class=\"imagelayer\"/><g class=\"shapelayer\"/></g><g class=\"infolayer\"><g class=\"g-gtitle\"><text class=\"gtitle\" x=\"30\" y=\"50\" text-anchor=\"start\" dy=\"0em\" style=\"font-family: 'Open Sans', verdana, arial, sans-serif; font-size: 17px; fill: rgb(42, 63, 95); opacity: 1; font-weight: normal; white-space: pre;\">I/Q Constellation Plot</text></g><g class=\"g-xtitle\"><text class=\"xtitle\" x=\"300\" y=\"560.8\" text-anchor=\"middle\" style=\"font-family: 'Open Sans', verdana, arial, sans-serif; font-size: 14px; fill: rgb(42, 63, 95); opacity: 1; font-weight: normal; white-space: pre;\">In-phase (V)</text></g><g class=\"g-ytitle\"><text class=\"ytitle\" transform=\"rotate(-90,17.121875000000003,310)\" x=\"17.121875000000003\" y=\"310\" text-anchor=\"middle\" style=\"font-family: 'Open Sans', verdana, arial, sans-serif; font-size: 14px; fill: rgb(42, 63, 95); opacity: 1; font-weight: normal; white-space: pre;\">Quadrature (V)</text></g></g></svg>"
      ],
      "text/plain": [
       "<IPython.core.display.SVG object>"
      ]
     },
     "metadata": {},
     "output_type": "display_data"
    }
   ],
   "source": [
    "fig = go.Figure()\n",
    "\n",
    "fig.add_trace(go.Scatter(\n",
    "    x=np.real(baseband[0, 0, :]),\n",
    "    y=np.imag(baseband[0, 0, :]),\n",
    "))\n",
    "\n",
    "fig.update_layout(\n",
    "    title='I/Q Constellation Plot',\n",
    "    xaxis=dict(range=[-1, 1], tickformat='.2f', title='In-phase (V)'),\n",
    "    yaxis=dict(range=[-1, 1],\n",
    "               tickformat='.2f',\n",
    "               title='Quadrature (V)',\n",
    "               scaleanchor=\"x\",\n",
    "               scaleratio=1),\n",
    "    height=600,\n",
    "    width=600,\n",
    ")\n",
    "\n",
    "# fig.show()\n",
    "display(SVG(fig.to_image(format='svg', scale=1)))"
   ]
  },
  {
   "cell_type": "markdown",
   "metadata": {},
   "source": [
    "## Phase demodulation\n",
    "\n",
    "Demodulate the phase of the baseband signal"
   ]
  },
  {
   "cell_type": "code",
   "execution_count": 6,
   "metadata": {},
   "outputs": [],
   "source": [
    "demod = np.angle(baseband[0, 0, :])"
   ]
  },
  {
   "cell_type": "markdown",
   "metadata": {},
   "source": [
    "Plot"
   ]
  },
  {
   "cell_type": "code",
   "execution_count": 7,
   "metadata": {},
   "outputs": [
    {
     "data": {
      "image/svg+xml": [
       "<svg xmlns=\"http://www.w3.org/2000/svg\" xmlns:xlink=\"http://www.w3.org/1999/xlink\" class=\"main-svg\" width=\"700\" height=\"500\" style=\"\" viewBox=\"0 0 700 500\"><rect x=\"0\" y=\"0\" width=\"700\" height=\"500\" style=\"fill: rgb(255, 255, 255); fill-opacity: 1;\"/><defs id=\"defs-c8978e\"><g class=\"clips\"><clipPath id=\"clipc8978exyplot\" class=\"plotclip\"><rect width=\"540\" height=\"320\"/></clipPath><clipPath class=\"axesclip\" id=\"clipc8978ex\"><rect x=\"80\" y=\"0\" width=\"540\" height=\"500\"/></clipPath><clipPath class=\"axesclip\" id=\"clipc8978ey\"><rect x=\"0\" y=\"100\" width=\"700\" height=\"320\"/></clipPath><clipPath class=\"axesclip\" id=\"clipc8978exy\"><rect x=\"80\" y=\"100\" width=\"540\" height=\"320\"/></clipPath></g><g class=\"gradients\"/><g class=\"patterns\"/></defs><g class=\"bglayer\"><rect class=\"bg\" x=\"80\" y=\"100\" width=\"540\" height=\"320\" style=\"fill: rgb(229, 236, 246); fill-opacity: 1; stroke-width: 0;\"/></g><g class=\"layer-below\"><g class=\"imagelayer\"/><g class=\"shapelayer\"/></g><g class=\"cartesianlayer\"><g class=\"subplot xy\"><g class=\"layer-subplot\"><g class=\"shapelayer\"/><g class=\"imagelayer\"/></g><g class=\"gridlayer\"><g class=\"x\"><path class=\"xgrid crisp\" transform=\"translate(215.34,0)\" d=\"M0,100v320\" style=\"stroke: rgb(255, 255, 255); stroke-opacity: 1; stroke-width: 1px;\"/><path class=\"xgrid crisp\" transform=\"translate(350.68,0)\" d=\"M0,100v320\" style=\"stroke: rgb(255, 255, 255); stroke-opacity: 1; stroke-width: 1px;\"/><path class=\"xgrid crisp\" transform=\"translate(486.02,0)\" d=\"M0,100v320\" style=\"stroke: rgb(255, 255, 255); stroke-opacity: 1; stroke-width: 1px;\"/></g><g class=\"y\"><path class=\"ygrid crisp\" transform=\"translate(0,406.12)\" d=\"M80,0h540\" style=\"stroke: rgb(255, 255, 255); stroke-opacity: 1; stroke-width: 1px;\"/><path class=\"ygrid crisp\" transform=\"translate(0,334.94)\" d=\"M80,0h540\" style=\"stroke: rgb(255, 255, 255); stroke-opacity: 1; stroke-width: 1px;\"/><path class=\"ygrid crisp\" transform=\"translate(0,263.77)\" d=\"M80,0h540\" style=\"stroke: rgb(255, 255, 255); stroke-opacity: 1; stroke-width: 1px;\"/><path class=\"ygrid crisp\" transform=\"translate(0,192.6)\" d=\"M80,0h540\" style=\"stroke: rgb(255, 255, 255); stroke-opacity: 1; stroke-width: 1px;\"/><path class=\"ygrid crisp\" transform=\"translate(0,121.42)\" d=\"M80,0h540\" style=\"stroke: rgb(255, 255, 255); stroke-opacity: 1; stroke-width: 1px;\"/></g></g><g class=\"zerolinelayer\"><path class=\"xzl zl crisp\" transform=\"translate(80,0)\" d=\"M0,100v320\" style=\"stroke: rgb(255, 255, 255); stroke-opacity: 1; stroke-width: 2px;\"/></g><path class=\"xlines-below\"/><path class=\"ylines-below\"/><g class=\"overlines-below\"/><g class=\"xaxislayer-below\"/><g class=\"yaxislayer-below\"/><g class=\"overaxes-below\"/><g class=\"plot\" transform=\"translate(80,100)\" clip-path=\"url(#clipc8978exyplot)\"><g class=\"scatterlayer mlayer\"><g class=\"trace scatter tracec59283\" style=\"stroke-miterlimit: 2; opacity: 1;\"><g class=\"fills\"/><g class=\"errorbars\"/><g class=\"lines\"><path class=\"js-line\" d=\"M0,159.98L4.06,43.51L5.41,23.11L6.77,16L8.12,23.12L10.83,75.39L12.18,115.48L17.59,276.44L18.95,296.93L20.3,303.95L21.65,296.93L23.01,276.43L24.36,244.6L31.13,43.55L32.48,23.12L33.83,16.02L35.19,23.09L36.54,43.52L37.89,75.35L44.66,276.45L46.02,296.87L47.37,303.92L48.72,296.89L50.08,276.47L51.43,244.59L58.2,43.51L59.55,23.1L60.9,16L62.26,23.05L64.96,75.37L66.32,115.52L71.73,276.46L73.08,296.87L74.44,303.93L75.79,296.9L78.5,244.6L79.85,204.44L85.26,43.51L86.62,23.12L87.97,16.06L89.32,23.06L90.68,43.55L92.03,75.4L98.8,276.39L100.15,296.87L101.5,303.96L102.86,296.92L104.21,276.47L105.56,244.58L112.33,43.5L113.68,23.05L115.04,16L116.39,23.12L119.1,75.36L120.45,115.51L125.86,276.47L127.22,296.93L128.57,303.91L129.92,296.89L131.28,276.46L132.63,244.57L139.4,43.46L140.75,23.05L142.11,16.01L143.46,23.06L146.17,75.33L147.52,115.49L152.93,276.46L154.29,296.97L155.64,303.89L156.99,296.89L158.35,276.41L159.7,244.61L166.47,43.5L167.82,23.08L169.17,16L170.53,23.08L171.88,43.52L173.23,75.36L180,276.45L181.35,296.9L182.71,303.9L184.06,296.91L186.77,244.6L188.12,204.46L193.53,43.54L194.89,23.06L196.24,16.07L197.59,23.06L198.95,43.52L200.3,75.42L207.07,276.46L208.42,296.89L209.77,303.89L211.13,296.91L212.48,276.47L213.83,244.58L220.6,43.54L221.95,23.07L223.31,16.05L224.66,23.06L226.02,43.5L227.37,75.38L234.14,276.45L235.49,296.91L236.84,303.93L238.2,296.9L240.9,244.59L242.26,204.5L247.67,43.5L249.02,23.11L250.38,16.01L251.73,23.04L254.44,75.41L255.79,115.47L261.2,276.39L262.56,296.88L263.91,303.91L265.26,296.88L266.62,276.45L267.97,244.66L274.74,43.53L276.09,23.11L277.44,16L278.8,23L281.5,75.39L282.86,115.51L288.27,276.43L289.62,296.9L290.98,303.98L292.33,296.9L295.04,244.64L296.39,204.52L301.8,43.59L303.16,23.06L304.51,16.03L305.86,23.06L307.22,43.52L308.57,75.37L315.34,276.47L316.69,296.88L318.05,303.96L319.4,296.98L322.11,244.59L323.46,204.47L328.87,43.53L330.23,23.02L331.58,16.05L332.93,23.1L334.29,43.46L335.64,75.41L342.41,276.44L343.76,296.85L345.11,304L346.47,296.93L349.17,244.68L350.53,204.52L355.94,43.51L357.29,23.09L358.65,16.05L360,23.07L362.71,75.42L364.06,115.42L369.47,276.42L370.83,296.83L372.18,303.95L373.53,296.91L374.89,276.42L376.24,244.65L383.01,43.5L384.36,23.04L385.71,16.05L387.07,23.1L388.42,43.48L389.77,75.42L396.54,276.42L397.89,296.85L399.25,303.94L400.6,296.91L403.31,244.62L404.66,204.47L410.08,43.54L411.43,23.08L412.78,16.06L414.14,23.05L415.49,43.53L416.84,75.43L423.61,276.43L424.96,296.91L426.32,303.95L427.67,296.96L430.38,244.66L431.73,204.45L437.14,43.56L438.5,23.12L439.85,16.05L441.2,23.15L442.56,43.46L443.91,75.38L450.68,276.53L452.03,296.83L453.38,303.91L454.74,296.85L456.09,276.46L457.44,244.58L464.21,43.53L465.56,23.12L466.92,16.08L468.27,23.12L469.62,43.46L470.98,75.42L477.74,276.53L479.1,296.81L480.45,303.92L481.8,296.87L483.16,276.45L484.51,244.58L491.28,43.53L492.63,23.07L493.98,16.06L495.34,23.09L496.69,43.49L498.05,75.44L504.81,276.51L506.17,296.82L507.52,303.92L508.87,296.89L510.23,276.47L511.58,244.52L518.35,43.5L519.7,23.11L521.05,16.02L522.41,23.07L523.76,43.43L525.11,75.39L531.88,276.48L533.23,296.83L534.59,303.88L535.94,296.9L537.29,276.49L538.65,244.54L540,204.5\" style=\"vector-effect: non-scaling-stroke; fill: none; stroke: rgb(99, 110, 250); stroke-opacity: 1; stroke-width: 2px; opacity: 1;\"/></g><g class=\"points\"/><g class=\"text\"/></g></g></g><g class=\"overplot\"/><path class=\"xlines-above crisp\" d=\"M0,0\" style=\"fill: none;\"/><path class=\"ylines-above crisp\" d=\"M0,0\" style=\"fill: none;\"/><g class=\"overlines-above\"/><g class=\"xaxislayer-above\"><g class=\"xtick\"><text text-anchor=\"middle\" x=\"0\" y=\"433\" transform=\"translate(80,0)\" style=\"font-family: 'Open Sans', verdana, arial, sans-serif; font-size: 12px; fill: rgb(42, 63, 95); fill-opacity: 1; white-space: pre; opacity: 1;\">0.00</text></g><g class=\"xtick\"><text text-anchor=\"middle\" x=\"0\" y=\"433\" style=\"font-family: 'Open Sans', verdana, arial, sans-serif; font-size: 12px; fill: rgb(42, 63, 95); fill-opacity: 1; white-space: pre; opacity: 1;\" transform=\"translate(215.34,0)\">5.00</text></g><g class=\"xtick\"><text text-anchor=\"middle\" x=\"0\" y=\"433\" style=\"font-family: 'Open Sans', verdana, arial, sans-serif; font-size: 12px; fill: rgb(42, 63, 95); fill-opacity: 1; white-space: pre; opacity: 1;\" transform=\"translate(350.68,0)\">10.00</text></g><g class=\"xtick\"><text text-anchor=\"middle\" x=\"0\" y=\"433\" style=\"font-family: 'Open Sans', verdana, arial, sans-serif; font-size: 12px; fill: rgb(42, 63, 95); fill-opacity: 1; white-space: pre; opacity: 1;\" transform=\"translate(486.02,0)\">15.00</text></g></g><g class=\"yaxislayer-above\"><g class=\"ytick\"><text text-anchor=\"end\" x=\"79\" y=\"4.199999999999999\" transform=\"translate(0,406.12)\" style=\"font-family: 'Open Sans', verdana, arial, sans-serif; font-size: 12px; fill: rgb(42, 63, 95); fill-opacity: 1; white-space: pre; opacity: 1;\">1.00</text></g><g class=\"ytick\"><text text-anchor=\"end\" x=\"79\" y=\"4.199999999999999\" style=\"font-family: 'Open Sans', verdana, arial, sans-serif; font-size: 12px; fill: rgb(42, 63, 95); fill-opacity: 1; white-space: pre; opacity: 1;\" transform=\"translate(0,334.94)\">1.50</text></g><g class=\"ytick\"><text text-anchor=\"end\" x=\"79\" y=\"4.199999999999999\" style=\"font-family: 'Open Sans', verdana, arial, sans-serif; font-size: 12px; fill: rgb(42, 63, 95); fill-opacity: 1; white-space: pre; opacity: 1;\" transform=\"translate(0,263.77)\">2.00</text></g><g class=\"ytick\"><text text-anchor=\"end\" x=\"79\" y=\"4.199999999999999\" style=\"font-family: 'Open Sans', verdana, arial, sans-serif; font-size: 12px; fill: rgb(42, 63, 95); fill-opacity: 1; white-space: pre; opacity: 1;\" transform=\"translate(0,192.6)\">2.50</text></g><g class=\"ytick\"><text text-anchor=\"end\" x=\"79\" y=\"4.199999999999999\" style=\"font-family: 'Open Sans', verdana, arial, sans-serif; font-size: 12px; fill: rgb(42, 63, 95); fill-opacity: 1; white-space: pre; opacity: 1;\" transform=\"translate(0,121.42)\">3.00</text></g></g><g class=\"overaxes-above\"/></g></g><g class=\"polarlayer\"/><g class=\"ternarylayer\"/><g class=\"geolayer\"/><g class=\"funnelarealayer\"/><g class=\"pielayer\"/><g class=\"iciclelayer\"/><g class=\"treemaplayer\"/><g class=\"sunburstlayer\"/><g class=\"glimages\"/><defs id=\"topdefs-c8978e\"><g class=\"clips\"/></defs><g class=\"layer-above\"><g class=\"imagelayer\"/><g class=\"shapelayer\"/></g><g class=\"infolayer\"><g class=\"g-gtitle\"><text class=\"gtitle\" x=\"35\" y=\"50\" text-anchor=\"start\" dy=\"0em\" style=\"font-family: 'Open Sans', verdana, arial, sans-serif; font-size: 17px; fill: rgb(42, 63, 95); opacity: 1; font-weight: normal; white-space: pre;\">Phase demodulated</text></g><g class=\"g-xtitle\"><text class=\"xtitle\" x=\"350\" y=\"460.8\" text-anchor=\"middle\" style=\"font-family: 'Open Sans', verdana, arial, sans-serif; font-size: 14px; fill: rgb(42, 63, 95); opacity: 1; font-weight: normal; white-space: pre;\">Time (s)</text></g><g class=\"g-ytitle\"><text class=\"ytitle\" transform=\"rotate(-90,26.934375000000003,260)\" x=\"26.934375000000003\" y=\"260\" text-anchor=\"middle\" style=\"font-family: 'Open Sans', verdana, arial, sans-serif; font-size: 14px; fill: rgb(42, 63, 95); opacity: 1; font-weight: normal; white-space: pre;\">Phase (rad)</text></g></g></svg>"
      ],
      "text/plain": [
       "<IPython.core.display.SVG object>"
      ]
     },
     "metadata": {},
     "output_type": "display_data"
    }
   ],
   "source": [
    "fig = go.Figure()\n",
    "fig.add_trace(go.Scatter(\n",
    "    x=timestamp[0, 0, :],\n",
    "    y=demod,\n",
    "))\n",
    "\n",
    "fig.update_layout(\n",
    "    title='Phase demodulated',\n",
    "    xaxis=dict(tickformat='.2f', title='Time (s)'),\n",
    "    yaxis=dict(tickformat='.2f', title='Phase (rad)'),\n",
    ")\n",
    "\n",
    "# fig.show()\n",
    "display(SVG(fig.to_image(format='svg', scale=1)))"
   ]
  },
  {
   "cell_type": "code",
   "execution_count": null,
   "metadata": {},
   "outputs": [],
   "source": []
  }
 ],
 "metadata": {
  "kernel_info": {
   "name": "python3"
  },
  "kernelspec": {
   "display_name": "Python 3",
   "language": "python",
   "name": "python3"
  },
  "language_info": {
   "codemirror_mode": {
    "name": "ipython",
    "version": 3
   },
   "file_extension": ".py",
   "mimetype": "text/x-python",
   "name": "python",
   "nbconvert_exporter": "python",
   "pygments_lexer": "ipython3",
   "version": "3.9.6"
  },
  "nteract": {
   "version": "0.12.3"
  },
  "toc": {
   "base_numbering": 1,
   "nav_menu": {},
   "number_sections": true,
   "sideBar": true,
   "skip_h1_title": false,
   "title_cell": "Table of Contents",
   "title_sidebar": "Contents",
   "toc_cell": false,
   "toc_position": {},
   "toc_section_display": true,
   "toc_window_display": false
  },
  "toc-showcode": false,
  "varInspector": {
   "cols": {
    "lenName": 16,
    "lenType": 16,
    "lenVar": 40
   },
   "kernels_config": {
    "python": {
     "delete_cmd_postfix": "",
     "delete_cmd_prefix": "del ",
     "library": "var_list.py",
     "varRefreshCmd": "print(var_dic_list())"
    },
    "r": {
     "delete_cmd_postfix": ") ",
     "delete_cmd_prefix": "rm(",
     "library": "var_list.r",
     "varRefreshCmd": "cat(var_dic_list()) "
    }
   },
   "types_to_exclude": [
    "module",
    "function",
    "builtin_function_or_method",
    "instance",
    "_Feature"
   ],
   "window_display": false
  }
 },
 "nbformat": 4,
 "nbformat_minor": 4
}
