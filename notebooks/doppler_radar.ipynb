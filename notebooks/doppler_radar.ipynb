{
 "cells": [
  {
   "cell_type": "markdown",
   "metadata": {},
   "source": [
    "# Doppler (Interferometry) Radar\n",
    "\n",
    "This is a Doppler (interferometry) radar simulation example based on `RadarSimPy`.\n",
    "\n",
    ">`RadarSimPy` is a radar simulation package built with python. **<a href=\"https://zpeng.me/#contact\" target=\"_blank\">Contact me</a> if you are interested in this module.**\n",
    "\n",
    "\n",
    "This notebook is available on my <a href=\"https://github.com/rookiepeng/radar-simulation-notebooks\" target=\"_blank\">GitHub</a>.\n",
    "\n",
    "#### Requires\n",
    "\n",
    "- numpy\n",
    "- scipy\n",
    "- plotly (*visualization*)\n",
    "\n",
    "---\n",
    "\n",
    "\n",
    "## Radar Model\n",
    "### Transmitter\n",
    "\n",
    "The following table lists the basic parameters of the radar transmitter.\n",
    "\n",
    "| Parameter                       | Variable in `RadarSimPy` | Value      |\n",
    "|---------------------------------|--------------------------|------------|\n",
    "| Center frequency ($f_c$)        | fc                       | 24.125 GHz |\n",
    "| Transmitted power ($P_t$)       | tx_power                 | 10 dBm     |\n",
    "| Signal length ($T$)             | pulse_length             | 20 s       |\n",
    "\n",
    "### Receiver\n",
    "The parameters of the receiver are listed in the table below.\n",
    "\n",
    "| Parameter                        | Variable in `RadarSimPy` | Value        |\n",
    "|----------------------------------|--------------------------|--------------|\n",
    "| Sampling rate ($f_s$)            | fs                       | 20 sps       |\n",
    "| Noise figure ($NF$)              | noise_figure             | 12 dB        |\n",
    "| RF gain/loss ($G_{rf}$)          | rf_gain                  | 20 dB        |\n",
    "| Baseband gain ($G_{BB}$)         | baseband_gain            | 50 dB        |\n",
    "| Load resistor ($R_L$)            | load_resistor            | 1000 $\\Omega$|\n"
   ]
  },
  {
   "cell_type": "code",
   "execution_count": 1,
   "metadata": {},
   "outputs": [],
   "source": [
    "import numpy as np\n",
    "from radarsimpy import Radar, Transmitter, Receiver\n",
    "\n",
    "tx = Transmitter(f=24.125e9,\n",
    "                 t=20,\n",
    "                 tx_power=10,\n",
    "                 pulses=1,\n",
    "                 channels=[dict(location=(0, 0, 0))])\n",
    "\n",
    "rx = Receiver(fs=20,\n",
    "              noise_figure=12,\n",
    "              rf_gain=20,\n",
    "              baseband_gain=50,\n",
    "              load_resistor=1000,\n",
    "              channels=[dict(location=(0, 0, 0))])\n",
    "\n",
    "radar = Radar(transmitter=tx, receiver=rx)"
   ]
  },
  {
   "cell_type": "markdown",
   "metadata": {},
   "source": [
    "### Targets\n",
    "The propertities of targets are defined here. There is only one target in this simulaiton. The motion of the target is defined by `1.5+1e-3*np.sin(2*np.pi*1*radar.timestamp)`. `radar.timestamp` is the time matrix of the baseband samples."
   ]
  },
  {
   "cell_type": "code",
   "execution_count": 2,
   "metadata": {},
   "outputs": [],
   "source": [
    "target = dict(location=(1.4+1e-3*np.sin(2*np.pi*1*radar.timestamp), 0, 0),\n",
    "              rcs=-10,\n",
    "              phase=0)\n",
    "\n",
    "targets = [target]"
   ]
  },
  {
   "cell_type": "markdown",
   "metadata": {},
   "source": [
    "## Simulate Baseband Signals\n",
    "\n",
    "Calculate baseband signal matrix:\n",
    "$$[channels, pulses, ADC~samples]$$\n",
    "\n",
    "#### Simulate with Python engine"
   ]
  },
  {
   "cell_type": "code",
   "execution_count": 3,
   "metadata": {},
   "outputs": [],
   "source": [
    "from radarsimpy.simulator import simpy\n",
    "\n",
    "data = simpy(radar, targets)\n",
    "timestamp = data['timestamp']\n",
    "baseband = data['baseband']"
   ]
  },
  {
   "cell_type": "markdown",
   "metadata": {},
   "source": [
    "#### Simulate with C++ engine"
   ]
  },
  {
   "cell_type": "code",
   "execution_count": 4,
   "metadata": {},
   "outputs": [],
   "source": [
    "from radarsimpy.simulator import simc\n",
    "\n",
    "data = simc(radar, targets)\n",
    "timestamp = data['timestamp']\n",
    "baseband = data['baseband']"
   ]
  },
  {
   "cell_type": "code",
   "execution_count": 5,
   "metadata": {
    "tags": [
     "remove_cell"
    ]
   },
   "outputs": [
    {
     "data": {
      "image/svg+xml": [
       "<svg xmlns=\"http://www.w3.org/2000/svg\" xmlns:xlink=\"http://www.w3.org/1999/xlink\" class=\"main-svg\" width=\"700\" height=\"500\" style=\"\" viewBox=\"0 0 700 500\"><rect x=\"0\" y=\"0\" width=\"700\" height=\"500\" style=\"fill: rgb(255, 255, 255); fill-opacity: 1;\"/><defs id=\"defs-92adb1\"><g class=\"clips\"><clipPath id=\"clip92adb1xyplot\" class=\"plotclip\"><rect width=\"540\" height=\"320\"/></clipPath><clipPath class=\"axesclip\" id=\"clip92adb1x\"><rect x=\"80\" y=\"0\" width=\"540\" height=\"500\"/></clipPath><clipPath class=\"axesclip\" id=\"clip92adb1y\"><rect x=\"0\" y=\"100\" width=\"700\" height=\"320\"/></clipPath><clipPath class=\"axesclip\" id=\"clip92adb1xy\"><rect x=\"80\" y=\"100\" width=\"540\" height=\"320\"/></clipPath></g><g class=\"gradients\"/></defs><g class=\"bglayer\"><rect class=\"bg\" x=\"80\" y=\"100\" width=\"540\" height=\"320\" style=\"fill: rgb(229, 236, 246); fill-opacity: 1; stroke-width: 0;\"/></g><g class=\"layer-below\"><g class=\"imagelayer\"/><g class=\"shapelayer\"/></g><g class=\"cartesianlayer\"><g class=\"subplot xy\"><g class=\"layer-subplot\"><g class=\"shapelayer\"/><g class=\"imagelayer\"/></g><g class=\"gridlayer\"><g class=\"x\"><path class=\"xgrid crisp\" transform=\"translate(215.34,0)\" d=\"M0,100v320\" style=\"stroke: rgb(255, 255, 255); stroke-opacity: 1; stroke-width: 1px;\"/><path class=\"xgrid crisp\" transform=\"translate(350.68,0)\" d=\"M0,100v320\" style=\"stroke: rgb(255, 255, 255); stroke-opacity: 1; stroke-width: 1px;\"/><path class=\"xgrid crisp\" transform=\"translate(486.02,0)\" d=\"M0,100v320\" style=\"stroke: rgb(255, 255, 255); stroke-opacity: 1; stroke-width: 1px;\"/></g><g class=\"y\"><path class=\"ygrid crisp\" transform=\"translate(0,396.63)\" d=\"M80,0h540\" style=\"stroke: rgb(255, 255, 255); stroke-opacity: 1; stroke-width: 1px;\"/><path class=\"ygrid crisp\" transform=\"translate(0,351.03999999999996)\" d=\"M80,0h540\" style=\"stroke: rgb(255, 255, 255); stroke-opacity: 1; stroke-width: 1px;\"/><path class=\"ygrid crisp\" transform=\"translate(0,305.45)\" d=\"M80,0h540\" style=\"stroke: rgb(255, 255, 255); stroke-opacity: 1; stroke-width: 1px;\"/><path class=\"ygrid crisp\" transform=\"translate(0,214.28)\" d=\"M80,0h540\" style=\"stroke: rgb(255, 255, 255); stroke-opacity: 1; stroke-width: 1px;\"/><path class=\"ygrid crisp\" transform=\"translate(0,168.69)\" d=\"M80,0h540\" style=\"stroke: rgb(255, 255, 255); stroke-opacity: 1; stroke-width: 1px;\"/><path class=\"ygrid crisp\" transform=\"translate(0,123.1)\" d=\"M80,0h540\" style=\"stroke: rgb(255, 255, 255); stroke-opacity: 1; stroke-width: 1px;\"/></g></g><g class=\"zerolinelayer\"><path class=\"xzl zl crisp\" transform=\"translate(80,0)\" d=\"M0,100v320\" style=\"stroke: rgb(255, 255, 255); stroke-opacity: 1; stroke-width: 2px;\"/><path class=\"yzl zl crisp\" transform=\"translate(0,259.86)\" d=\"M80,0h540\" style=\"stroke: rgb(255, 255, 255); stroke-opacity: 1; stroke-width: 2px;\"/></g><path class=\"xlines-below\"/><path class=\"ylines-below\"/><g class=\"overlines-below\"/><g class=\"xaxislayer-below\"/><g class=\"yaxislayer-below\"/><g class=\"overaxes-below\"/><g class=\"plot\" transform=\"translate(80,100)\" clip-path=\"url('#clip92adb1xyplot')\"><g class=\"scatterlayer mlayer\"><g class=\"trace scatter tracef7b3cb\" style=\"stroke-miterlimit: 2; opacity: 1;\"><g class=\"fills\"/><g class=\"errorbars\"/><g class=\"lines\"><path class=\"js-line\" d=\"M0,223.72L2.71,285.67L4.06,298.43L5.41,303.06L6.77,303.98L8.12,303.08L9.47,298.44L10.83,285.61L12.18,260.62L17.59,108.37L18.95,89.49L20.3,83.26L21.65,89.48L23.01,108.39L24.36,139.79L29.77,285.62L31.13,298.45L32.48,303.1L33.83,303.96L35.19,303.09L36.54,298.44L37.89,285.63L39.25,260.62L44.66,108.38L46.02,89.48L47.37,83.27L48.72,89.46L50.08,108.38L51.43,139.8L56.84,285.61L58.2,298.5L59.55,303.08L60.9,303.9L62.26,303.05L63.61,298.45L64.96,285.63L66.32,260.66L71.73,108.4L73.08,89.42L74.44,83.24L75.79,89.46L77.14,108.37L78.5,139.79L83.91,285.62L85.26,298.47L86.62,303.05L87.97,304L89.32,303.08L90.68,298.43L92.03,285.64L93.38,260.59L98.8,108.36L100.15,89.48L101.5,83.22L102.86,89.48L104.21,108.4L105.56,139.79L110.98,285.66L112.33,298.48L113.68,303.02L115.04,303.96L116.39,303.07L117.74,298.47L119.1,285.62L120.45,260.63L125.86,108.39L127.22,89.48L128.57,83.21L129.92,89.42L131.28,108.35L132.63,139.83L138.05,285.62L139.4,298.49L140.75,303.06L142.11,303.94L143.46,303.05L144.81,298.46L146.17,285.65L147.52,260.64L152.93,108.36L154.29,89.42L155.64,83.28L156.99,89.49L158.35,108.38L159.7,139.75L165.11,285.62L166.47,298.44L167.82,303.05L169.17,303.94L170.53,303.03L171.88,298.44L173.23,285.66L174.59,260.65L180,108.39L181.35,89.47L182.71,83.26L184.06,89.43L185.41,108.38L186.77,139.78L192.18,285.6L193.53,298.47L194.89,303.04L196.24,303.92L197.59,303.05L198.95,298.47L200.3,285.6L201.65,260.66L207.07,108.38L208.42,89.43L209.77,83.27L211.13,89.38L212.48,108.42L213.83,139.77L219.25,285.63L220.6,298.43L221.95,303.05L223.31,303.91L224.66,303.07L226.02,298.43L227.37,285.63L228.72,260.63L234.14,108.37L235.49,89.46L236.84,83.23L238.2,89.49L239.55,108.43L240.9,139.78L246.32,285.6L247.67,298.47L249.02,303.06L250.38,303.94L251.73,303.03L253.08,298.46L254.44,285.66L255.79,260.64L261.2,108.37L262.56,89.44L263.91,83.24L265.26,89.47L266.62,108.37L267.97,139.75L273.38,285.62L274.74,298.36L276.09,303.05L277.44,303.94L278.8,303.07L280.15,298.44L281.5,285.6L282.86,260.66L288.27,108.41L289.62,89.44L290.98,83.3L292.33,89.46L293.68,108.35L295.04,139.78L300.45,285.64L301.8,298.44L303.16,303.01L304.51,303.97L305.86,303.04L307.22,298.46L308.57,285.6L309.92,260.67L315.34,108.4L316.69,89.47L318.05,83.21L319.4,89.43L320.75,108.41L322.11,139.78L327.52,285.61L328.87,298.47L330.23,303.04L331.58,303.99L332.93,303.08L334.29,298.43L335.64,285.58L336.99,260.68L342.41,108.38L343.76,89.49L345.11,83.24L346.47,89.43L347.82,108.39L349.17,139.76L354.59,285.61L355.94,298.43L357.29,303.02L358.65,303.99L360,303.04L361.35,298.5L362.71,285.57L364.06,260.7L369.47,108.37L370.83,89.45L372.18,83.21L373.53,89.41L374.89,108.42L376.24,139.76L381.65,285.6L383.01,298.48L384.36,303.04L385.71,304L387.07,303.05L388.42,298.46L389.77,285.63L391.13,260.67L396.54,108.35L397.89,89.47L399.25,83.2L400.6,89.42L401.95,108.45L403.31,139.75L408.72,285.62L410.08,298.44L411.43,303.02L412.78,303.96L414.14,303.05L415.49,298.45L416.84,285.61L418.2,260.67L423.61,108.37L424.96,89.47L426.32,83.25L427.67,89.42L429.02,108.4L430.38,139.81L435.79,285.6L437.14,298.47L438.5,303.08L439.85,303.98L441.2,303.02L442.56,298.48L443.91,285.62L445.26,260.65L450.68,108.31L452.03,89.51L453.38,83.26L454.74,89.48L456.09,108.37L457.44,139.82L462.86,285.66L464.21,298.46L465.56,303.08L466.92,303.97L468.27,303.05L469.62,298.47L470.98,285.59L472.33,260.64L477.74,108.31L479.1,89.49L480.45,83.24L481.8,89.43L483.16,108.36L484.51,139.86L489.92,285.59L491.28,298.44L492.63,303.1L493.98,303.96L495.34,303.05L496.69,298.41L498.05,285.63L499.4,260.69L504.81,108.31L506.17,89.54L507.52,83.29L508.87,89.46L510.23,108.31L511.58,139.84L516.99,285.62L518.35,298.47L519.7,303.05L521.05,303.93L522.41,303.04L523.76,298.44L525.11,285.64L526.47,260.63L531.88,108.32L533.23,89.55L534.59,83.29L535.94,89.51L537.29,108.39L538.65,139.79L540,180.58\" style=\"vector-effect: non-scaling-stroke; fill: none; stroke: rgb(99, 110, 250); stroke-opacity: 1; stroke-width: 2px; opacity: 1;\"/></g><g class=\"points\"/><g class=\"text\"/></g><g class=\"trace scatter tracece270b\" style=\"stroke-miterlimit: 2; opacity: 1;\"><g class=\"fills\"/><g class=\"errorbars\"/><g class=\"lines\"><path class=\"js-line\" d=\"M0,29.58L5.41,137.79L6.77,144.85L8.12,137.75L9.47,117.49L13.53,29.59L14.89,16.25L16.24,16.04L17.59,24.03L18.95,32.8L20.3,36.44L21.65,32.8L23.01,24.04L24.36,16.05L25.71,16.21L27.07,29.61L28.42,55.56L32.48,137.76L33.83,144.88L35.19,137.85L36.54,117.49L40.6,29.59L41.95,16.2L43.31,16.05L44.66,24L46.02,32.8L47.37,36.43L48.72,32.82L50.08,24.02L51.43,16.08L52.78,16.21L54.14,29.63L55.49,55.57L59.55,137.76L60.9,144.89L62.26,137.78L63.61,117.42L67.67,29.53L69.02,16.21L70.38,16.05L71.73,24.03L73.08,32.74L74.44,36.41L75.79,32.76L77.14,24.07L78.5,16.02L79.85,16.2L81.2,29.61L82.56,55.57L86.62,137.74L87.97,144.83L89.32,137.73L90.68,117.44L94.74,29.58L96.09,16.2L97.44,16.04L98.8,24.05L100.15,32.8L101.5,36.41L102.86,32.83L104.21,24.04L105.56,16.08L106.92,16.19L108.27,29.6L109.62,55.55L113.68,137.77L115.04,144.86L116.39,137.78L117.74,117.43L121.8,29.61L123.16,16.2L124.51,16.1L125.86,24.04L127.22,32.8L128.57,36.43L129.92,32.76L131.28,24.11L132.63,16.06L133.98,16.21L135.34,29.57L136.69,55.59L140.75,137.76L142.11,144.86L143.46,137.77L144.81,117.46L148.87,29.61L150.23,16.22L151.58,16.06L152.93,24.02L154.29,32.81L155.64,36.39L156.99,32.79L158.35,24.01L159.7,16.04L161.05,16.26L162.41,29.59L163.76,55.57L167.82,137.75L169.17,144.87L170.53,137.73L171.88,117.47L175.94,29.58L177.29,16.22L178.65,16.03L180,24.04L181.35,32.81L182.71,36.41L184.06,32.8L185.41,24.06L186.77,16.07L188.12,16.2L189.47,29.55L190.83,55.62L194.89,137.76L196.24,144.86L197.59,137.8L198.95,117.45L203.01,29.55L204.36,16.22L205.71,16.07L207.07,24.07L208.42,32.84L209.77,36.43L211.13,32.78L212.48,24.01L213.83,16.07L215.19,16.2L216.54,29.63L217.89,55.61L221.95,137.79L223.31,144.89L224.66,137.77L226.02,117.54L230.08,29.57L231.43,16.25L232.78,16.02L234.14,24.05L235.49,32.76L236.84,36.4L238.2,32.8L239.55,24.08L240.9,16.12L242.26,16.18L243.61,29.59L244.96,55.56L249.02,137.75L250.38,144.89L251.73,137.79L253.08,117.46L257.14,29.57L258.5,16.21L259.85,16.03L261.2,24.07L262.56,32.78L263.91,36.45L265.26,32.81L266.62,24.09L267.97,16.05L269.32,16.23L270.68,29.62L272.03,55.63L276.09,137.77L277.44,144.91L278.8,137.78L280.15,117.5L284.21,29.64L285.56,16.22L286.92,16L288.27,24L289.62,32.77L290.98,36.41L292.33,32.77L293.68,24.01L295.04,16.07L296.39,16.21L297.74,29.59L299.1,55.62L303.16,137.74L304.51,144.88L305.86,137.78L307.22,117.45L311.28,29.6L312.63,16.21L313.98,16.08L315.34,24.06L316.69,32.75L318.05,36.46L319.4,32.8L320.75,23.99L322.11,16.07L323.46,16.15L324.81,29.56L326.17,55.59L330.23,137.79L331.58,144.9L332.93,137.7L334.29,117.47L338.35,29.59L339.7,16.18L341.05,16.05L342.41,24.06L343.76,32.74L345.11,36.43L346.47,32.76L347.82,24.07L349.17,16.05L350.53,16.23L351.88,29.61L353.23,55.57L357.29,137.75L358.65,144.91L360,137.73L361.35,117.48L365.41,29.58L366.77,16.21L368.12,16.08L369.47,24.03L370.83,32.78L372.18,36.39L373.53,32.8L374.89,24.05L376.24,16.07L377.59,16.19L378.95,29.61L380.3,55.62L384.36,137.8L385.71,144.86L387.07,137.72L388.42,117.44L392.48,29.6L393.83,16.2L395.19,16.08L396.54,24.05L397.89,32.75L399.25,36.42L400.6,32.78L401.95,24L403.31,16.01L404.66,16.22L406.02,29.64L407.37,55.55L411.43,137.75L412.78,144.88L414.14,137.74L415.49,117.5L419.55,29.6L420.9,16.22L422.26,16.04L423.61,24.03L424.96,32.79L426.32,36.41L427.67,32.8L429.02,24.01L430.38,16.08L431.73,16.22L433.08,29.58L434.44,55.5L438.5,137.67L439.85,144.86L441.2,137.69L442.56,117.51L446.62,29.59L447.97,16.2L449.32,16.05L450.68,24.06L452.03,32.75L453.38,36.42L454.74,32.78L456.09,24.08L457.44,16.05L458.8,16.2L460.15,29.53L461.5,55.6L465.56,137.69L466.92,144.83L468.27,137.75L469.62,117.55L473.68,29.59L475.04,16.24L476.39,16.08L477.74,24.06L479.1,32.74L480.45,36.42L481.8,32.8L483.16,24.05L484.51,16.06L485.86,16.23L487.22,29.59L488.57,55.6L492.63,137.75L493.98,144.84L495.34,137.75L496.69,117.57L500.75,29.61L502.11,16.18L503.46,16.04L504.81,24.09L506.17,32.73L507.52,36.4L508.87,32.82L510.23,24.07L511.58,16.01L512.93,16.17L514.29,29.59L515.64,55.57L519.7,137.74L521.05,144.77L522.41,137.73L523.76,117.52L527.82,29.57L529.17,16.2L530.53,16.05L531.88,24.07L533.23,32.76L534.59,36.37L535.94,32.77L537.29,24.01L538.65,16.09L540,16.19\" style=\"vector-effect: non-scaling-stroke; fill: none; stroke: rgb(239, 85, 59); stroke-opacity: 1; stroke-width: 2px; opacity: 1;\"/></g><g class=\"points\"/><g class=\"text\"/></g></g></g><g class=\"overplot\"/><path class=\"xlines-above crisp\" d=\"M0,0\" style=\"fill: none;\"/><path class=\"ylines-above crisp\" d=\"M0,0\" style=\"fill: none;\"/><g class=\"overlines-above\"/><g class=\"xaxislayer-above\"><g class=\"xtick\"><text text-anchor=\"middle\" x=\"0\" y=\"433\" transform=\"translate(80,0)\" style=\"font-family: 'Open Sans', verdana, arial, sans-serif; font-size: 12px; fill: rgb(42, 63, 95); fill-opacity: 1; white-space: pre;\">0</text></g><g class=\"xtick\"><text text-anchor=\"middle\" x=\"0\" y=\"433\" transform=\"translate(215.34,0)\" style=\"font-family: 'Open Sans', verdana, arial, sans-serif; font-size: 12px; fill: rgb(42, 63, 95); fill-opacity: 1; white-space: pre;\">5</text></g><g class=\"xtick\"><text text-anchor=\"middle\" x=\"0\" y=\"433\" transform=\"translate(350.68,0)\" style=\"font-family: 'Open Sans', verdana, arial, sans-serif; font-size: 12px; fill: rgb(42, 63, 95); fill-opacity: 1; white-space: pre;\">10</text></g><g class=\"xtick\"><text text-anchor=\"middle\" x=\"0\" y=\"433\" transform=\"translate(486.02,0)\" style=\"font-family: 'Open Sans', verdana, arial, sans-serif; font-size: 12px; fill: rgb(42, 63, 95); fill-opacity: 1; white-space: pre;\">15</text></g></g><g class=\"yaxislayer-above\"><g class=\"ytick\"><text text-anchor=\"end\" x=\"79\" y=\"4.199999999999999\" transform=\"translate(0,396.63)\" style=\"font-family: 'Open Sans', verdana, arial, sans-serif; font-size: 12px; fill: rgb(42, 63, 95); fill-opacity: 1; white-space: pre;\">−0.6</text></g><g class=\"ytick\"><text text-anchor=\"end\" x=\"79\" y=\"4.199999999999999\" transform=\"translate(0,351.03999999999996)\" style=\"font-family: 'Open Sans', verdana, arial, sans-serif; font-size: 12px; fill: rgb(42, 63, 95); fill-opacity: 1; white-space: pre;\">−0.4</text></g><g class=\"ytick\"><text text-anchor=\"end\" x=\"79\" y=\"4.199999999999999\" transform=\"translate(0,305.45)\" style=\"font-family: 'Open Sans', verdana, arial, sans-serif; font-size: 12px; fill: rgb(42, 63, 95); fill-opacity: 1; white-space: pre;\">−0.2</text></g><g class=\"ytick\"><text text-anchor=\"end\" x=\"79\" y=\"4.199999999999999\" transform=\"translate(0,259.86)\" style=\"font-family: 'Open Sans', verdana, arial, sans-serif; font-size: 12px; fill: rgb(42, 63, 95); fill-opacity: 1; white-space: pre;\">0</text></g><g class=\"ytick\"><text text-anchor=\"end\" x=\"79\" y=\"4.199999999999999\" transform=\"translate(0,214.28)\" style=\"font-family: 'Open Sans', verdana, arial, sans-serif; font-size: 12px; fill: rgb(42, 63, 95); fill-opacity: 1; white-space: pre;\">0.2</text></g><g class=\"ytick\"><text text-anchor=\"end\" x=\"79\" y=\"4.199999999999999\" transform=\"translate(0,168.69)\" style=\"font-family: 'Open Sans', verdana, arial, sans-serif; font-size: 12px; fill: rgb(42, 63, 95); fill-opacity: 1; white-space: pre;\">0.4</text></g><g class=\"ytick\"><text text-anchor=\"end\" x=\"79\" y=\"4.199999999999999\" transform=\"translate(0,123.1)\" style=\"font-family: 'Open Sans', verdana, arial, sans-serif; font-size: 12px; fill: rgb(42, 63, 95); fill-opacity: 1; white-space: pre;\">0.6</text></g></g><g class=\"overaxes-above\"/></g></g><g class=\"polarlayer\"/><g class=\"ternarylayer\"/><g class=\"geolayer\"/><g class=\"funnelarealayer\"/><g class=\"pielayer\"/><g class=\"treemaplayer\"/><g class=\"sunburstlayer\"/><g class=\"glimages\"/><defs id=\"topdefs-92adb1\"><g class=\"clips\"/><clipPath id=\"legend92adb1\"><rect width=\"55\" height=\"48\" x=\"0\" y=\"0\"/></clipPath></defs><g class=\"layer-above\"><g class=\"imagelayer\"/><g class=\"shapelayer\"/></g><g class=\"infolayer\"><g class=\"legend\" pointer-events=\"all\" transform=\"translate(630.8,100)\"><rect class=\"bg\" shape-rendering=\"crispEdges\" style=\"stroke: rgb(68, 68, 68); stroke-opacity: 1; fill: rgb(255, 255, 255); fill-opacity: 1; stroke-width: 0px;\" width=\"55\" height=\"48\" x=\"0\" y=\"0\"/><g class=\"scrollbox\" transform=\"\" clip-path=\"url('#legend92adb1')\"><g class=\"groups\"><g class=\"traces\" transform=\"translate(0,14.5)\" style=\"opacity: 1;\"><text class=\"legendtext\" text-anchor=\"start\" x=\"40\" y=\"4.680000000000001\" style=\"font-family: 'Open Sans', verdana, arial, sans-serif; font-size: 12px; fill: rgb(42, 63, 95); fill-opacity: 1; white-space: pre;\">I</text><g class=\"layers\" style=\"opacity: 1;\"><g class=\"legendfill\"/><g class=\"legendlines\"><path class=\"js-line\" d=\"M5,0h30\" style=\"fill: none; stroke: rgb(99, 110, 250); stroke-opacity: 1; stroke-width: 2px;\"/></g><g class=\"legendsymbols\"><g class=\"legendpoints\"/></g></g><rect class=\"legendtoggle\" x=\"0\" y=\"-9.5\" width=\"49.453125\" height=\"19\" style=\"fill: rgb(0, 0, 0); fill-opacity: 0;\"/></g><g class=\"traces\" transform=\"translate(0,33.5)\" style=\"opacity: 1;\"><text class=\"legendtext\" text-anchor=\"start\" x=\"40\" y=\"4.680000000000001\" style=\"font-family: 'Open Sans', verdana, arial, sans-serif; font-size: 12px; fill: rgb(42, 63, 95); fill-opacity: 1; white-space: pre;\">Q</text><g class=\"layers\" style=\"opacity: 1;\"><g class=\"legendfill\"/><g class=\"legendlines\"><path class=\"js-line\" d=\"M5,0h30\" style=\"fill: none; stroke: rgb(239, 85, 59); stroke-opacity: 1; stroke-width: 2px;\"/></g><g class=\"legendsymbols\"><g class=\"legendpoints\"/></g></g><rect class=\"legendtoggle\" x=\"0\" y=\"-9.5\" width=\"49.453125\" height=\"19\" style=\"fill: rgb(0, 0, 0); fill-opacity: 0;\"/></g></g></g><rect class=\"scrollbar\" rx=\"20\" ry=\"3\" width=\"0\" height=\"0\" style=\"fill: rgb(128, 139, 164); fill-opacity: 1;\" x=\"0\" y=\"0\"/></g><g class=\"g-gtitle\"><text class=\"gtitle\" x=\"35\" y=\"50\" text-anchor=\"start\" dy=\"0em\" style=\"font-family: 'Open Sans', verdana, arial, sans-serif; font-size: 17px; fill: rgb(42, 63, 95); opacity: 1; font-weight: normal; white-space: pre;\">I/Q Baseband Signals</text></g><g class=\"g-xtitle\"><text class=\"xtitle\" x=\"350\" y=\"460.8\" text-anchor=\"middle\" style=\"font-family: 'Open Sans', verdana, arial, sans-serif; font-size: 14px; fill: rgb(42, 63, 95); opacity: 1; font-weight: normal; white-space: pre;\">Time (s)</text></g><g class=\"g-ytitle\"><text class=\"ytitle\" transform=\"rotate(-90,24.746875000000003,260)\" x=\"24.746875000000003\" y=\"260\" text-anchor=\"middle\" style=\"font-family: 'Open Sans', verdana, arial, sans-serif; font-size: 14px; fill: rgb(42, 63, 95); opacity: 1; font-weight: normal; white-space: pre;\">Amplitude (V)</text></g></g></svg>"
      ],
      "text/plain": [
       "<IPython.core.display.SVG object>"
      ]
     },
     "metadata": {},
     "output_type": "display_data"
    }
   ],
   "source": [
    "import plotly.graph_objs as go\n",
    "from plotly.offline import iplot\n",
    "from IPython.display import SVG, display\n",
    "\n",
    "beat_I = go.Scatter(\n",
    "    x=timestamp[0, 0, :],\n",
    "    y=np.real(baseband[0, 0, :]),\n",
    "    name='I',\n",
    ")\n",
    "beat_Q = go.Scatter(\n",
    "    x=timestamp[0, 0, :],\n",
    "    y=np.imag(baseband[0, 0, :]),\n",
    "    name='Q',\n",
    ")\n",
    "data = [beat_I, beat_Q]\n",
    "\n",
    "layout = go.Layout(\n",
    "    title='I/Q Baseband Signals',\n",
    "    yaxis=dict(title='Amplitude (V)'),\n",
    "    xaxis=dict(title='Time (s)'),\n",
    ")\n",
    "\n",
    "fig = go.Figure(data, layout=layout)\n",
    "# iplot(fig)\n",
    "display(SVG(fig.to_image(format='svg', scale=1)))"
   ]
  },
  {
   "cell_type": "code",
   "execution_count": 6,
   "metadata": {},
   "outputs": [
    {
     "data": {
      "image/svg+xml": [
       "<svg xmlns=\"http://www.w3.org/2000/svg\" xmlns:xlink=\"http://www.w3.org/1999/xlink\" class=\"main-svg\" width=\"600\" height=\"600\" style=\"\" viewBox=\"0 0 600 600\"><rect x=\"0\" y=\"0\" width=\"600\" height=\"600\" style=\"fill: rgb(255, 255, 255); fill-opacity: 1;\"/><defs id=\"defs-e8f510\"><g class=\"clips\"><clipPath id=\"clipe8f510xyplot\" class=\"plotclip\"><rect width=\"440\" height=\"420\"/></clipPath><clipPath class=\"axesclip\" id=\"clipe8f510x\"><rect x=\"80\" y=\"0\" width=\"440\" height=\"600\"/></clipPath><clipPath class=\"axesclip\" id=\"clipe8f510y\"><rect x=\"0\" y=\"100\" width=\"600\" height=\"420\"/></clipPath><clipPath class=\"axesclip\" id=\"clipe8f510xy\"><rect x=\"80\" y=\"100\" width=\"440\" height=\"420\"/></clipPath></g><g class=\"gradients\"/></defs><g class=\"bglayer\"><rect class=\"bg\" x=\"80\" y=\"100\" width=\"440\" height=\"420\" style=\"fill: rgb(229, 236, 246); fill-opacity: 1; stroke-width: 0;\"/></g><g class=\"layer-below\"><g class=\"imagelayer\"/><g class=\"shapelayer\"/></g><g class=\"cartesianlayer\"><g class=\"subplot xy\"><g class=\"layer-subplot\"><g class=\"shapelayer\"/><g class=\"imagelayer\"/></g><g class=\"gridlayer\"><g class=\"x\"><path class=\"xgrid crisp\" transform=\"translate(90,0)\" d=\"M0,100v420\" style=\"stroke: rgb(255, 255, 255); stroke-opacity: 1; stroke-width: 1px;\"/><path class=\"xgrid crisp\" transform=\"translate(195,0)\" d=\"M0,100v420\" style=\"stroke: rgb(255, 255, 255); stroke-opacity: 1; stroke-width: 1px;\"/><path class=\"xgrid crisp\" transform=\"translate(405,0)\" d=\"M0,100v420\" style=\"stroke: rgb(255, 255, 255); stroke-opacity: 1; stroke-width: 1px;\"/><path class=\"xgrid crisp\" transform=\"translate(510,0)\" d=\"M0,100v420\" style=\"stroke: rgb(255, 255, 255); stroke-opacity: 1; stroke-width: 1px;\"/></g><g class=\"y\"><path class=\"ygrid crisp\" transform=\"translate(0,415)\" d=\"M80,0h440\" style=\"stroke: rgb(255, 255, 255); stroke-opacity: 1; stroke-width: 1px;\"/><path class=\"ygrid crisp\" transform=\"translate(0,205)\" d=\"M80,0h440\" style=\"stroke: rgb(255, 255, 255); stroke-opacity: 1; stroke-width: 1px;\"/></g></g><g class=\"zerolinelayer\"><path class=\"xzl zl crisp\" transform=\"translate(300,0)\" d=\"M0,100v420\" style=\"stroke: rgb(255, 255, 255); stroke-opacity: 1; stroke-width: 2px;\"/><path class=\"yzl zl crisp\" transform=\"translate(0,310)\" d=\"M80,0h440\" style=\"stroke: rgb(255, 255, 255); stroke-opacity: 1; stroke-width: 2px;\"/></g><path class=\"xlines-below\"/><path class=\"ylines-below\"/><g class=\"overlines-below\"/><g class=\"xaxislayer-below\"/><g class=\"yaxislayer-below\"/><g class=\"overaxes-below\"/><g class=\"plot\" transform=\"translate(80,100)\" clip-path=\"url('#clipe8f510xyplot')\"><g class=\"scatterlayer mlayer\"><g class=\"trace scatter traced1d981\" style=\"stroke-miterlimit: 2; opacity: 1;\"><g class=\"fills\"/><g class=\"errorbars\"/><g class=\"lines\"><path class=\"js-line\" d=\"M161.17,89.97L127.12,113.9L104.1,143.58L92.35,170.97L88.08,189.66L87.23,196.17L88.06,189.62L92.34,170.96L104.16,143.55L127.17,113.88L161.11,89.98L200.86,77.69L238.42,77.5L267.44,84.86L290.58,96.29L267.43,84.87L238.49,77.5L200.87,77.65L161.15,90L127.16,113.91L104.14,143.6L92.32,170.93L88.04,189.64L87.25,196.19L88.05,189.71L92.34,170.96L104.14,143.6L127.17,113.91L161.15,89.98L200.94,77.65L238.51,77.5L267.43,84.83L290.57,96.28L267.43,84.85L238.49,77.54L200.9,77.65L161.19,90.01L127.18,113.92L104.15,143.56L92.27,170.95L88.06,189.63L87.3,196.21L88.08,189.65L92.33,170.9L104.13,143.57L127.14,113.94L161.17,89.93L200.88,77.65L238.46,77.5L267.42,84.86L290.59,96.26L267.44,84.9L238.49,77.48L200.89,77.65L161.17,90L127.16,113.91L104.14,143.6L92.3,170.94L88.09,189.61L87.21,196.15L88.06,189.61L92.34,170.92L104.12,143.57L127.2,113.9L161.18,89.97L200.86,77.64L238.5,77.5L267.45,84.88L290.61,96.26L267.41,84.87L238.49,77.53L200.91,77.64L161.17,89.99L127.12,113.9L104.11,143.58L92.3,170.96L88.11,189.64L87.25,196.18L88.07,189.65L92.3,170.91L104.14,143.57L127.16,113.94L161.14,90L200.88,77.64L238.47,77.55L267.42,84.87L290.62,96.29L267.46,84.93L238.46,77.51L200.91,77.65L161.18,89.97L127.12,113.94L104.15,143.57L92.28,170.97L88.08,189.63L87.26,196.18L88.08,189.65L92.31,170.93L104.12,143.59L127.16,113.93L161.17,90L200.92,77.67L238.49,77.52L267.45,84.84L290.56,96.24L267.44,84.84L238.53,77.5L200.97,77.7L161.15,89.98L127.16,113.92L104.15,143.54L92.33,170.95L88.09,189.63L87.26,196.18L88.1,189.61L92.34,170.94L104.11,143.58L127.15,113.93L161.17,89.97L200.88,77.66L238.46,77.49L267.42,84.87L290.57,96.26L267.44,84.88L238.5,77.53L200.9,77.64L161.21,89.94L127.16,113.96L104.16,143.56L92.31,170.95L88.09,189.63L87.28,196.18L88.09,189.67L92.31,170.93L104.16,143.57L127.14,113.93L161.19,89.94L200.86,77.66L238.46,77.52L267.43,84.89L290.56,96.28L267.4,84.84L238.51,77.52L200.9,77.65L161.13,90.02L127.13,113.95L104.14,143.58L92.34,170.97L88.09,189.66L87.3,196.21L88.07,189.65L92.34,171.01L104.13,143.55L127.17,113.88L161.15,89.96L200.88,77.69L238.48,77.48L267.44,84.88L290.61,96.25L267.39,84.91L238.5,77.57L200.92,77.63L161.14,89.98L127.16,113.91L104.16,143.54L92.31,170.93L88.08,189.62L87.27,196.2L88.11,189.66L92.32,170.93L104.11,143.53L127.15,113.91L161.18,89.96L200.93,77.66L238.5,77.49L267.44,84.89L290.59,96.3L267.44,84.92L238.53,77.51L200.93,77.67L161.16,90.01L127.11,113.97L104.14,143.55L92.4,170.91L88.09,189.64L87.27,196.23L88.06,189.65L92.33,170.97L104.16,143.54L127.14,113.92L161.18,90.03L200.91,77.66L238.47,77.46L267.41,84.83L290.54,96.26L267.46,84.84L238.5,77.53L200.9,77.65L161.15,89.98L127.18,113.96L104.12,143.57L92.33,170.92L88.13,189.62L87.24,196.2L88.09,189.65L92.32,170.93L104.16,143.58L127.13,113.93L161.18,89.99L200.98,77.65L238.5,77.53L267.42,84.89L290.62,96.31L267.4,84.82L238.51,77.52L200.87,77.6L161.17,89.96L127.11,113.94L104.16,143.54L92.31,171.01L88.1,189.66L87.22,196.21L88.06,189.58L92.34,170.94L104.18,143.56L127.13,113.9L161.14,89.98L200.94,77.63L238.51,77.51L267.43,84.88L290.59,96.28L267.42,84.9L238.52,77.51L200.87,77.67L161.14,90L127.15,113.92L104.16,143.58L92.34,170.92L88.11,189.63L87.22,196.22L88.09,189.61L92.28,170.95L104.19,143.55L127.1,113.98L161.13,89.97L200.94,77.65L238.49,77.53L267.44,84.86L290.62,96.25L267.39,84.88L238.52,77.53L200.9,77.64L161.14,90L127.13,113.96L104.17,143.56L92.3,170.97L88.09,189.67L87.21,196.18L88.09,189.59L92.31,170.92L104.13,143.56L127.13,113.93L161.11,89.99L200.92,77.64L238.53,77.53L267.46,84.88L290.63,96.27L267.37,84.83L238.53,77.47L200.92,77.67L161.17,90.03L127.15,113.9L104.15,143.54L92.33,170.93L88.12,189.62L87.25,196.19L88.09,189.62L92.32,170.97L104.15,143.57L127.13,113.97L161.15,89.99L200.98,77.66L238.5,77.49L267.44,84.85L290.58,96.26L267.41,84.84L238.48,77.54L200.9,77.67L161.13,89.97L127.16,113.86L104.17,143.6L92.3,170.97L88.06,189.55L87.23,196.17L88.11,189.57L92.3,170.98L104.15,143.57L127.15,113.97L161.17,89.98L200.93,77.64L238.47,77.5L267.5,84.89L290.58,96.27L267.44,84.9L238.47,77.51L200.89,77.64L161.17,89.93L127.16,113.94L104.1,143.59L92.31,170.97L88.06,189.57L87.24,196.15L88.09,189.62L92.31,171.02L104.17,143.55L127.15,113.96L161.19,89.98L200.93,77.68L238.42,77.54L267.5,84.89L290.59,96.27L267.45,84.88L238.43,77.51L200.87,77.68L161.16,89.98L127.16,113.94L104.17,143.63L92.34,170.94L88.04,189.63L87.25,196.16L88.09,189.62L92.36,171.04L104.13,143.56L127.11,113.95L161.21,90L200.98,77.63L238.44,77.49L267.5,84.91L290.54,96.25L267.49,84.9L238.45,77.47L200.87,77.62L161.19,89.98L127.11,113.91L104.15,143.56L92.3,170.9L88.09,189.62L87.28,196.09L88.1,189.61L92.33,170.98L104.13,143.52L127.17,113.96L161.15,89.96L200.86,77.64L238.51,77.5L267.49,84.89L290.55,96.23L267.43,84.84L238.49,77.54L200.92,77.63\" style=\"vector-effect: non-scaling-stroke; fill: none; stroke: rgb(99, 110, 250); stroke-opacity: 1; stroke-width: 2px; opacity: 1;\"/></g><g class=\"points\"/><g class=\"text\"/></g></g></g><g class=\"overplot\"/><path class=\"xlines-above crisp\" d=\"M0,0\" style=\"fill: none;\"/><path class=\"ylines-above crisp\" d=\"M0,0\" style=\"fill: none;\"/><g class=\"overlines-above\"/><g class=\"xaxislayer-above\"><g class=\"xtick\"><text text-anchor=\"middle\" x=\"0\" y=\"533\" transform=\"translate(90,0)\" style=\"font-family: 'Open Sans', verdana, arial, sans-serif; font-size: 12px; fill: rgb(42, 63, 95); fill-opacity: 1; white-space: pre;\">−1.00</text></g><g class=\"xtick\"><text text-anchor=\"middle\" x=\"0\" y=\"533\" transform=\"translate(195,0)\" style=\"font-family: 'Open Sans', verdana, arial, sans-serif; font-size: 12px; fill: rgb(42, 63, 95); fill-opacity: 1; white-space: pre;\">−0.50</text></g><g class=\"xtick\"><text text-anchor=\"middle\" x=\"0\" y=\"533\" transform=\"translate(300,0)\" style=\"font-family: 'Open Sans', verdana, arial, sans-serif; font-size: 12px; fill: rgb(42, 63, 95); fill-opacity: 1; white-space: pre;\">0.00</text></g><g class=\"xtick\"><text text-anchor=\"middle\" x=\"0\" y=\"533\" transform=\"translate(405,0)\" style=\"font-family: 'Open Sans', verdana, arial, sans-serif; font-size: 12px; fill: rgb(42, 63, 95); fill-opacity: 1; white-space: pre;\">0.50</text></g><g class=\"xtick\"><text text-anchor=\"middle\" x=\"0\" y=\"533\" transform=\"translate(510,0)\" style=\"font-family: 'Open Sans', verdana, arial, sans-serif; font-size: 12px; fill: rgb(42, 63, 95); fill-opacity: 1; white-space: pre;\">1.00</text></g></g><g class=\"yaxislayer-above\"><g class=\"ytick\"><text text-anchor=\"end\" x=\"79\" y=\"4.199999999999999\" transform=\"translate(0,520)\" style=\"font-family: 'Open Sans', verdana, arial, sans-serif; font-size: 12px; fill: rgb(42, 63, 95); fill-opacity: 1; white-space: pre;\">−1.00</text></g><g class=\"ytick\"><text text-anchor=\"end\" x=\"79\" y=\"4.199999999999999\" transform=\"translate(0,415)\" style=\"font-family: 'Open Sans', verdana, arial, sans-serif; font-size: 12px; fill: rgb(42, 63, 95); fill-opacity: 1; white-space: pre;\">−0.50</text></g><g class=\"ytick\"><text text-anchor=\"end\" x=\"79\" y=\"4.199999999999999\" transform=\"translate(0,310)\" style=\"font-family: 'Open Sans', verdana, arial, sans-serif; font-size: 12px; fill: rgb(42, 63, 95); fill-opacity: 1; white-space: pre;\">0.00</text></g><g class=\"ytick\"><text text-anchor=\"end\" x=\"79\" y=\"4.199999999999999\" transform=\"translate(0,205)\" style=\"font-family: 'Open Sans', verdana, arial, sans-serif; font-size: 12px; fill: rgb(42, 63, 95); fill-opacity: 1; white-space: pre;\">0.50</text></g><g class=\"ytick\"><text text-anchor=\"end\" x=\"79\" y=\"4.199999999999999\" transform=\"translate(0,100)\" style=\"font-family: 'Open Sans', verdana, arial, sans-serif; font-size: 12px; fill: rgb(42, 63, 95); fill-opacity: 1; white-space: pre;\">1.00</text></g></g><g class=\"overaxes-above\"/></g></g><g class=\"polarlayer\"/><g class=\"ternarylayer\"/><g class=\"geolayer\"/><g class=\"funnelarealayer\"/><g class=\"pielayer\"/><g class=\"treemaplayer\"/><g class=\"sunburstlayer\"/><g class=\"glimages\"/><defs id=\"topdefs-e8f510\"><g class=\"clips\"/></defs><g class=\"layer-above\"><g class=\"imagelayer\"/><g class=\"shapelayer\"/></g><g class=\"infolayer\"><g class=\"g-gtitle\"><text class=\"gtitle\" x=\"30\" y=\"50\" text-anchor=\"start\" dy=\"0em\" style=\"font-family: 'Open Sans', verdana, arial, sans-serif; font-size: 17px; fill: rgb(42, 63, 95); opacity: 1; font-weight: normal; white-space: pre;\">I/Q Constellation Plot</text></g><g class=\"g-xtitle\"><text class=\"xtitle\" x=\"300\" y=\"560.8\" text-anchor=\"middle\" style=\"font-family: 'Open Sans', verdana, arial, sans-serif; font-size: 14px; fill: rgb(42, 63, 95); opacity: 1; font-weight: normal; white-space: pre;\">In-phase (V)</text></g><g class=\"g-ytitle\"><text class=\"ytitle\" transform=\"rotate(-90,17.121875000000003,310)\" x=\"17.121875000000003\" y=\"310\" text-anchor=\"middle\" style=\"font-family: 'Open Sans', verdana, arial, sans-serif; font-size: 14px; fill: rgb(42, 63, 95); opacity: 1; font-weight: normal; white-space: pre;\">Quadrature (V)</text></g></g></svg>"
      ],
      "text/plain": [
       "<IPython.core.display.SVG object>"
      ]
     },
     "metadata": {},
     "output_type": "display_data"
    }
   ],
   "source": [
    "polar = go.Scatter(\n",
    "    x=np.real(baseband[0, 0, :]),\n",
    "    y=np.imag(baseband[0, 0, :]),\n",
    ")\n",
    "\n",
    "data = [polar]\n",
    "\n",
    "layout = go.Layout(\n",
    "    title='I/Q Constellation Plot',\n",
    "    xaxis=dict(range=[-1, 1], tickformat='.2f', title='In-phase (V)'),\n",
    "    yaxis=dict(range=[-1, 1],\n",
    "               tickformat='.2f',\n",
    "               title='Quadrature (V)',\n",
    "               scaleanchor=\"x\",\n",
    "               scaleratio=1),\n",
    "    height=600,\n",
    "    width=600,\n",
    ")\n",
    "\n",
    "fig = go.Figure(data, layout=layout)\n",
    "# iplot(fig)\n",
    "display(SVG(fig.to_image(format='svg', scale=1)))"
   ]
  },
  {
   "cell_type": "markdown",
   "metadata": {},
   "source": [
    "## Phase demodulation"
   ]
  },
  {
   "cell_type": "code",
   "execution_count": 7,
   "metadata": {},
   "outputs": [],
   "source": [
    "demod = np.angle(baseband[0, 0, :])"
   ]
  },
  {
   "cell_type": "markdown",
   "metadata": {},
   "source": [
    "Plot"
   ]
  },
  {
   "cell_type": "code",
   "execution_count": 8,
   "metadata": {},
   "outputs": [
    {
     "data": {
      "image/svg+xml": [
       "<svg xmlns=\"http://www.w3.org/2000/svg\" xmlns:xlink=\"http://www.w3.org/1999/xlink\" class=\"main-svg\" width=\"700\" height=\"500\" style=\"\" viewBox=\"0 0 700 500\"><rect x=\"0\" y=\"0\" width=\"700\" height=\"500\" style=\"fill: rgb(255, 255, 255); fill-opacity: 1;\"/><defs id=\"defs-56c809\"><g class=\"clips\"><clipPath id=\"clip56c809xyplot\" class=\"plotclip\"><rect width=\"540\" height=\"320\"/></clipPath><clipPath class=\"axesclip\" id=\"clip56c809x\"><rect x=\"80\" y=\"0\" width=\"540\" height=\"500\"/></clipPath><clipPath class=\"axesclip\" id=\"clip56c809y\"><rect x=\"0\" y=\"100\" width=\"700\" height=\"320\"/></clipPath><clipPath class=\"axesclip\" id=\"clip56c809xy\"><rect x=\"80\" y=\"100\" width=\"540\" height=\"320\"/></clipPath></g><g class=\"gradients\"/></defs><g class=\"bglayer\"><rect class=\"bg\" x=\"80\" y=\"100\" width=\"540\" height=\"320\" style=\"fill: rgb(229, 236, 246); fill-opacity: 1; stroke-width: 0;\"/></g><g class=\"layer-below\"><g class=\"imagelayer\"/><g class=\"shapelayer\"/></g><g class=\"cartesianlayer\"><g class=\"subplot xy\"><g class=\"layer-subplot\"><g class=\"shapelayer\"/><g class=\"imagelayer\"/></g><g class=\"gridlayer\"><g class=\"x\"><path class=\"xgrid crisp\" transform=\"translate(215.34,0)\" d=\"M0,100v320\" style=\"stroke: rgb(255, 255, 255); stroke-opacity: 1; stroke-width: 1px;\"/><path class=\"xgrid crisp\" transform=\"translate(350.68,0)\" d=\"M0,100v320\" style=\"stroke: rgb(255, 255, 255); stroke-opacity: 1; stroke-width: 1px;\"/><path class=\"xgrid crisp\" transform=\"translate(486.02,0)\" d=\"M0,100v320\" style=\"stroke: rgb(255, 255, 255); stroke-opacity: 1; stroke-width: 1px;\"/></g><g class=\"y\"><path class=\"ygrid crisp\" transform=\"translate(0,406.13)\" d=\"M80,0h540\" style=\"stroke: rgb(255, 255, 255); stroke-opacity: 1; stroke-width: 1px;\"/><path class=\"ygrid crisp\" transform=\"translate(0,334.96000000000004)\" d=\"M80,0h540\" style=\"stroke: rgb(255, 255, 255); stroke-opacity: 1; stroke-width: 1px;\"/><path class=\"ygrid crisp\" transform=\"translate(0,263.78)\" d=\"M80,0h540\" style=\"stroke: rgb(255, 255, 255); stroke-opacity: 1; stroke-width: 1px;\"/><path class=\"ygrid crisp\" transform=\"translate(0,192.61)\" d=\"M80,0h540\" style=\"stroke: rgb(255, 255, 255); stroke-opacity: 1; stroke-width: 1px;\"/><path class=\"ygrid crisp\" transform=\"translate(0,121.44)\" d=\"M80,0h540\" style=\"stroke: rgb(255, 255, 255); stroke-opacity: 1; stroke-width: 1px;\"/></g></g><g class=\"zerolinelayer\"><path class=\"xzl zl crisp\" transform=\"translate(80,0)\" d=\"M0,100v320\" style=\"stroke: rgb(255, 255, 255); stroke-opacity: 1; stroke-width: 2px;\"/></g><path class=\"xlines-below\"/><path class=\"ylines-below\"/><g class=\"overlines-below\"/><g class=\"xaxislayer-below\"/><g class=\"yaxislayer-below\"/><g class=\"overaxes-below\"/><g class=\"plot\" transform=\"translate(80,100)\" clip-path=\"url('#clip56c809xyplot')\"><g class=\"scatterlayer mlayer\"><g class=\"trace scatter traced500ef\" style=\"stroke-miterlimit: 2; opacity: 1;\"><g class=\"fills\"/><g class=\"errorbars\"/><g class=\"lines\"><path class=\"js-line\" d=\"M0,160.01L4.06,43.51L5.41,23.05L6.77,16.05L8.12,23.09L10.83,75.42L12.18,115.56L17.59,276.45L18.95,296.87L20.3,303.95L21.65,296.88L23.01,276.45L24.36,244.62L31.13,43.55L32.48,23.08L33.83,16.03L35.19,23L37.89,75.36L39.25,115.54L44.66,276.44L46.02,296.88L47.37,303.94L48.72,296.91L50.08,276.45L51.43,244.61L58.2,43.52L59.55,23.08L60.9,16.03L62.26,23.07L64.96,75.38L66.32,115.49L71.73,276.43L73.08,296.91L74.44,303.94L75.79,296.88L78.5,244.61L79.85,204.47L85.26,43.54L86.62,23.11L87.97,16.07L89.32,23.11L90.68,43.57L92.03,75.38L98.8,276.47L100.15,296.89L101.5,303.96L102.86,296.9L105.56,244.62L106.92,204.49L112.33,43.52L113.68,23.08L115.04,16.05L116.39,23.06L119.1,75.39L120.45,115.51L125.86,276.45L127.22,296.89L128.57,303.99L129.92,296.92L131.28,276.51L132.63,244.59L139.4,43.49L140.75,23.09L142.11,16.05L143.46,23.07L146.17,75.36L147.52,115.51L152.93,276.46L154.29,296.94L155.64,303.91L156.99,296.87L158.35,276.45L159.7,244.65L166.47,43.54L167.82,23.09L169.17,16.05L170.53,23.12L171.88,43.54L173.23,75.36L180,276.44L181.35,296.9L182.71,303.93L184.06,296.92L186.77,244.63L188.12,204.48L193.53,43.52L194.89,23.09L196.24,16.06L197.59,23.05L198.95,43.55L200.3,75.4L207.07,276.46L208.42,296.94L209.77,303.93L211.13,296.96L213.83,244.64L215.19,204.48L220.6,43.52L221.95,23.06L223.31,16.02L224.66,23.07L226.02,43.48L227.37,75.4L234.14,276.46L235.49,296.88L236.84,303.95L238.2,296.88L240.9,244.64L242.26,204.5L247.67,43.55L249.02,23.1L250.38,16.03L251.73,23.06L254.44,75.41L255.79,115.52L261.2,276.48L262.56,296.91L263.91,303.97L265.26,296.9L266.62,276.48L267.97,244.66L274.74,43.6L276.09,23.08L277.44,16L278.8,23.06L280.15,43.51L281.5,75.43L288.27,276.41L289.62,296.91L290.98,303.9L292.33,296.89L295.04,244.63L296.39,204.48L301.8,43.56L303.16,23.11L304.51,16.03L305.86,23.07L307.22,43.55L308.57,75.39L315.34,276.45L316.69,296.87L318.05,304L319.4,296.93L322.11,244.64L323.46,204.45L328.87,43.46L330.23,23.06L331.58,16.01L332.93,23.13L334.29,43.54L335.64,75.42L342.41,276.46L343.76,296.84L345.11,303.96L346.47,296.91L349.17,244.65L350.53,204.44L355.94,43.57L357.29,23.1L358.65,16L360,23.11L362.71,75.44L364.06,115.43L369.47,276.46L370.83,296.9L372.18,303.97L373.53,296.94L374.89,276.42L376.24,244.65L383.01,43.5L384.36,23.05L385.71,16.04L387.07,23.13L388.42,43.56L389.77,75.39L396.54,276.49L397.89,296.87L399.25,303.99L400.6,296.93L403.31,244.65L404.66,204.49L410.08,43.55L411.43,23.1L412.78,16.03L414.14,23.1L415.49,43.51L416.84,75.4L423.61,276.45L424.96,296.88L426.32,303.94L427.67,296.94L430.38,244.61L431.73,204.48L437.14,43.51L438.5,23.17L439.85,16.05L441.2,23.16L442.56,43.5L443.91,75.4L450.68,276.53L452.03,296.84L453.38,303.94L454.74,296.87L456.09,276.47L457.44,244.59L464.21,43.51L465.56,23.14L466.92,16.08L468.27,23.1L469.62,43.46L470.98,75.42L477.74,276.53L479.1,296.84L480.45,303.95L481.8,296.92L483.16,276.48L484.51,244.55L491.28,43.54L492.63,23.08L493.98,16.07L495.34,23.1L496.69,43.45L498.05,75.4L504.81,276.54L506.17,296.8L507.52,303.9L508.87,296.91L510.23,276.52L511.58,244.57L518.35,43.58L519.7,23.1L521.05,16.14L522.41,23.12L523.76,43.5L525.11,75.42L531.88,276.52L533.23,296.8L534.59,303.89L535.94,296.84L538.65,244.62L540,204.5\" style=\"vector-effect: non-scaling-stroke; fill: none; stroke: rgb(99, 110, 250); stroke-opacity: 1; stroke-width: 2px; opacity: 1;\"/></g><g class=\"points\"/><g class=\"text\"/></g></g></g><g class=\"overplot\"/><path class=\"xlines-above crisp\" d=\"M0,0\" style=\"fill: none;\"/><path class=\"ylines-above crisp\" d=\"M0,0\" style=\"fill: none;\"/><g class=\"overlines-above\"/><g class=\"xaxislayer-above\"><g class=\"xtick\"><text text-anchor=\"middle\" x=\"0\" y=\"433\" transform=\"translate(80,0)\" style=\"font-family: 'Open Sans', verdana, arial, sans-serif; font-size: 12px; fill: rgb(42, 63, 95); fill-opacity: 1; white-space: pre;\">0.00</text></g><g class=\"xtick\"><text text-anchor=\"middle\" x=\"0\" y=\"433\" transform=\"translate(215.34,0)\" style=\"font-family: 'Open Sans', verdana, arial, sans-serif; font-size: 12px; fill: rgb(42, 63, 95); fill-opacity: 1; white-space: pre;\">5.00</text></g><g class=\"xtick\"><text text-anchor=\"middle\" x=\"0\" y=\"433\" transform=\"translate(350.68,0)\" style=\"font-family: 'Open Sans', verdana, arial, sans-serif; font-size: 12px; fill: rgb(42, 63, 95); fill-opacity: 1; white-space: pre;\">10.00</text></g><g class=\"xtick\"><text text-anchor=\"middle\" x=\"0\" y=\"433\" transform=\"translate(486.02,0)\" style=\"font-family: 'Open Sans', verdana, arial, sans-serif; font-size: 12px; fill: rgb(42, 63, 95); fill-opacity: 1; white-space: pre;\">15.00</text></g></g><g class=\"yaxislayer-above\"><g class=\"ytick\"><text text-anchor=\"end\" x=\"79\" y=\"4.199999999999999\" transform=\"translate(0,406.13)\" style=\"font-family: 'Open Sans', verdana, arial, sans-serif; font-size: 12px; fill: rgb(42, 63, 95); fill-opacity: 1; white-space: pre;\">1.00</text></g><g class=\"ytick\"><text text-anchor=\"end\" x=\"79\" y=\"4.199999999999999\" transform=\"translate(0,334.96000000000004)\" style=\"font-family: 'Open Sans', verdana, arial, sans-serif; font-size: 12px; fill: rgb(42, 63, 95); fill-opacity: 1; white-space: pre;\">1.50</text></g><g class=\"ytick\"><text text-anchor=\"end\" x=\"79\" y=\"4.199999999999999\" transform=\"translate(0,263.78)\" style=\"font-family: 'Open Sans', verdana, arial, sans-serif; font-size: 12px; fill: rgb(42, 63, 95); fill-opacity: 1; white-space: pre;\">2.00</text></g><g class=\"ytick\"><text text-anchor=\"end\" x=\"79\" y=\"4.199999999999999\" transform=\"translate(0,192.61)\" style=\"font-family: 'Open Sans', verdana, arial, sans-serif; font-size: 12px; fill: rgb(42, 63, 95); fill-opacity: 1; white-space: pre;\">2.50</text></g><g class=\"ytick\"><text text-anchor=\"end\" x=\"79\" y=\"4.199999999999999\" transform=\"translate(0,121.44)\" style=\"font-family: 'Open Sans', verdana, arial, sans-serif; font-size: 12px; fill: rgb(42, 63, 95); fill-opacity: 1; white-space: pre;\">3.00</text></g></g><g class=\"overaxes-above\"/></g></g><g class=\"polarlayer\"/><g class=\"ternarylayer\"/><g class=\"geolayer\"/><g class=\"funnelarealayer\"/><g class=\"pielayer\"/><g class=\"treemaplayer\"/><g class=\"sunburstlayer\"/><g class=\"glimages\"/><defs id=\"topdefs-56c809\"><g class=\"clips\"/></defs><g class=\"layer-above\"><g class=\"imagelayer\"/><g class=\"shapelayer\"/></g><g class=\"infolayer\"><g class=\"g-gtitle\"><text class=\"gtitle\" x=\"35\" y=\"50\" text-anchor=\"start\" dy=\"0em\" style=\"font-family: 'Open Sans', verdana, arial, sans-serif; font-size: 17px; fill: rgb(42, 63, 95); opacity: 1; font-weight: normal; white-space: pre;\">Phase demodulated</text></g><g class=\"g-xtitle\"><text class=\"xtitle\" x=\"350\" y=\"460.8\" text-anchor=\"middle\" style=\"font-family: 'Open Sans', verdana, arial, sans-serif; font-size: 14px; fill: rgb(42, 63, 95); opacity: 1; font-weight: normal; white-space: pre;\">Time (s)</text></g><g class=\"g-ytitle\"><text class=\"ytitle\" transform=\"rotate(-90,26.934375000000003,260)\" x=\"26.934375000000003\" y=\"260\" text-anchor=\"middle\" style=\"font-family: 'Open Sans', verdana, arial, sans-serif; font-size: 14px; fill: rgb(42, 63, 95); opacity: 1; font-weight: normal; white-space: pre;\">Phase (rad)</text></g></g></svg>"
      ],
      "text/plain": [
       "<IPython.core.display.SVG object>"
      ]
     },
     "metadata": {},
     "output_type": "display_data"
    }
   ],
   "source": [
    "polar = go.Scatter(\n",
    "    x=timestamp[0, 0, :],\n",
    "    y=demod,\n",
    "    # name='I',\n",
    ")\n",
    "\n",
    "data = [polar]\n",
    "\n",
    "layout = go.Layout(\n",
    "    title='Phase demodulated',\n",
    "    xaxis=dict(tickformat='.2f', title='Time (s)'),\n",
    "    yaxis=dict(tickformat='.2f', title='Phase (rad)'),\n",
    ")\n",
    "\n",
    "fig = go.Figure(data, layout=layout)\n",
    "# iplot(fig)\n",
    "display(SVG(fig.to_image(format='svg', scale=1)))"
   ]
  },
  {
   "cell_type": "code",
   "execution_count": null,
   "metadata": {},
   "outputs": [],
   "source": []
  }
 ],
 "metadata": {
  "kernel_info": {
   "name": "python3"
  },
  "kernelspec": {
   "display_name": "Python 3",
   "language": "python",
   "name": "python3"
  },
  "language_info": {
   "codemirror_mode": {
    "name": "ipython",
    "version": 3
   },
   "file_extension": ".py",
   "mimetype": "text/x-python",
   "name": "python",
   "nbconvert_exporter": "python",
   "pygments_lexer": "ipython3",
   "version": "3.9.4"
  },
  "nteract": {
   "version": "0.12.3"
  },
  "toc": {
   "base_numbering": 1,
   "nav_menu": {},
   "number_sections": true,
   "sideBar": true,
   "skip_h1_title": false,
   "title_cell": "Table of Contents",
   "title_sidebar": "Contents",
   "toc_cell": false,
   "toc_position": {},
   "toc_section_display": true,
   "toc_window_display": false
  },
  "varInspector": {
   "cols": {
    "lenName": 16,
    "lenType": 16,
    "lenVar": 40
   },
   "kernels_config": {
    "python": {
     "delete_cmd_postfix": "",
     "delete_cmd_prefix": "del ",
     "library": "var_list.py",
     "varRefreshCmd": "print(var_dic_list())"
    },
    "r": {
     "delete_cmd_postfix": ") ",
     "delete_cmd_prefix": "rm(",
     "library": "var_list.r",
     "varRefreshCmd": "cat(var_dic_list()) "
    }
   },
   "types_to_exclude": [
    "module",
    "function",
    "builtin_function_or_method",
    "instance",
    "_Feature"
   ],
   "window_display": false
  }
 },
 "nbformat": 4,
 "nbformat_minor": 2
}
