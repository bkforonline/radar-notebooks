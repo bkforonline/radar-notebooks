{
 "cells": [
  {
   "cell_type": "markdown",
   "metadata": {},
   "source": [
    "# FMCW Radar with Non-Linear Chirp\n",
    "\n",
    "This is a basic FMCW radar simulation example based on `RadarSimPy`.\n",
    "\n",
    ">`RadarSimPy` is a radar simulation package built with python. **<a href=\"https://zpeng.me/#contact\" target=\"_blank\">Contact me</a> if you are interested in this module.**\n",
    "\n",
    "This notebook is available on my <a href=\"https://github.com/rookiepeng/radar-simulation-notebooks\" target=\"_blank\">GitHub</a>.\n",
    "\n",
    "\n",
    "## Radar Model\n",
    "### Transmitter\n",
    "\n",
    "The following table lists the basic parameters of the radar transmitter.\n",
    "\n",
    " | Parameter                       | Variable in `RadarSimPy` | Value      |\n",
    " |---------------------------------|--------------------------|------------|\n",
    " | Center frequency ($f_c$)        | fc                       | 24.125 GHz |\n",
    " | Bandwidth ($B$)                 | bandwidth                | 100 MHz    |\n",
    " | Transmitted power ($P_t$)       | tx_power                 | 10 dBm     |\n",
    " | Rising or falling chirp         | slop_type                | rising     |\n",
    " | Chirp repetition period ($CRP$) | repetition_period        | 100 us     |\n",
    " | Chirp length ($T$)              | pulse_length             | 80 us      |\n",
    " | Number of chirps                | pulses                   | 256        |\n",
    " | Chirp start delay               | delay                    | 0 s        |\n",
    "\n",
    "The radiation pattern os the transmitter antenna is $\\cos{\\theta}$. The gain of the antenna is 6 dB.\n"
   ]
  },
  {
   "cell_type": "code",
   "execution_count": 1,
   "metadata": {},
   "outputs": [],
   "source": [
    "import numpy as np\n",
    "from radarsimpy import Radar, Transmitter, Receiver\n",
    "\n",
    "angle = np.arange(-90, 91, 1)\n",
    "pattern = 20 * np.log10(np.cos(angle / 180 * np.pi) + 0.01) + 6\n",
    "\n",
    "tx_channel = dict(\n",
    "    location=(0, 0, 0),\n",
    "    azimuth_angle=angle,\n",
    "    azimuth_pattern=pattern,\n",
    "    elevation_angle=angle,\n",
    "    elevation_pattern=pattern,\n",
    ")\n",
    "\n",
    "freq_nonlinear = np.array([\n",
    "    2.40750000e+10, 2.40760901e+10, 2.40771786e+10, 2.40782654e+10,\n",
    "    2.40793506e+10, 2.40804341e+10, 2.40815161e+10, 2.40825964e+10,\n",
    "    2.40836750e+10, 2.40847521e+10, 2.40858275e+10, 2.40869012e+10,\n",
    "    2.40879734e+10, 2.40890439e+10, 2.40901127e+10, 2.40911800e+10,\n",
    "    2.40922456e+10, 2.40933096e+10, 2.40943719e+10, 2.40954326e+10,\n",
    "    2.40964917e+10, 2.40975491e+10, 2.40986049e+10, 2.40996591e+10,\n",
    "    2.41007117e+10, 2.41017626e+10, 2.41028119e+10, 2.41038595e+10,\n",
    "    2.41049055e+10, 2.41059499e+10, 2.41069927e+10, 2.41080338e+10,\n",
    "    2.41090733e+10, 2.41101111e+10, 2.41111473e+10, 2.41121819e+10,\n",
    "    2.41132149e+10, 2.41142462e+10, 2.41152759e+10, 2.41163039e+10,\n",
    "    2.41173304e+10, 2.41183552e+10, 2.41193783e+10, 2.41203999e+10,\n",
    "    2.41214198e+10, 2.41224380e+10, 2.41234546e+10, 2.41244696e+10,\n",
    "    2.41254830e+10, 2.41264947e+10, 2.41275048e+10, 2.41285133e+10,\n",
    "    2.41295202e+10, 2.41305254e+10, 2.41315289e+10, 2.41325309e+10,\n",
    "    2.41335312e+10, 2.41345298e+10, 2.41355269e+10, 2.41365223e+10,\n",
    "    2.41375161e+10, 2.41385082e+10, 2.41394987e+10, 2.41404876e+10,\n",
    "    2.41414748e+10, 2.41424605e+10, 2.41434444e+10, 2.41444268e+10,\n",
    "    2.41454075e+10, 2.41463866e+10, 2.41473640e+10, 2.41483399e+10,\n",
    "    2.41493140e+10, 2.41502866e+10, 2.41512575e+10, 2.41522268e+10,\n",
    "    2.41531945e+10, 2.41541605e+10, 2.41551249e+10, 2.41560876e+10,\n",
    "    2.41570488e+10, 2.41580083e+10, 2.41589661e+10, 2.41599224e+10,\n",
    "    2.41608770e+10, 2.41618299e+10, 2.41627812e+10, 2.41637309e+10,\n",
    "    2.41646790e+10, 2.41656254e+10, 2.41665702e+10, 2.41675134e+10,\n",
    "    2.41684550e+10, 2.41693949e+10, 2.41703331e+10, 2.41712698e+10,\n",
    "    2.41722048e+10, 2.41731381e+10, 2.41740699e+10, 2.41750000e+10])\n",
    "\n",
    "tx_nonlinear = Transmitter(f=freq_nonlinear,\n",
    "                           pulse_time=np.linspace(0, 80e-6, 100),\n",
    "                           tx_power=40,\n",
    "                           repetition_period=100e-6,\n",
    "                           pulses=1,\n",
    "                           channels=[tx_channel])\n",
    "\n",
    "\n",
    "tx_linear = Transmitter(f=[24.125e9-50e6, 24.125e9+50e6],\n",
    "                        pulse_time=[0, 80e-6],\n",
    "                        tx_power=40,\n",
    "                        repetition_period=100e-6,\n",
    "                        pulses=1,\n",
    "                        channels=[tx_channel])"
   ]
  },
  {
   "cell_type": "code",
   "execution_count": 2,
   "metadata": {},
   "outputs": [
    {
     "data": {
      "image/svg+xml": [
       "<svg xmlns=\"http://www.w3.org/2000/svg\" xmlns:xlink=\"http://www.w3.org/1999/xlink\" class=\"main-svg\" width=\"700\" height=\"500\" style=\"\" viewBox=\"0 0 700 500\"><rect x=\"0\" y=\"0\" width=\"700\" height=\"500\" style=\"fill: rgb(255, 255, 255); fill-opacity: 1;\"/><defs id=\"defs-1fb3dc\"><g class=\"clips\"><clipPath id=\"clip1fb3dcxyplot\" class=\"plotclip\"><rect width=\"457\" height=\"320\"/></clipPath><clipPath class=\"axesclip\" id=\"clip1fb3dcx\"><rect x=\"80\" y=\"0\" width=\"457\" height=\"500\"/></clipPath><clipPath class=\"axesclip\" id=\"clip1fb3dcy\"><rect x=\"0\" y=\"100\" width=\"700\" height=\"320\"/></clipPath><clipPath class=\"axesclip\" id=\"clip1fb3dcxy\"><rect x=\"80\" y=\"100\" width=\"457\" height=\"320\"/></clipPath></g><g class=\"gradients\"/></defs><g class=\"bglayer\"><rect class=\"bg\" x=\"80\" y=\"100\" width=\"457\" height=\"320\" style=\"fill: rgb(229, 236, 246); fill-opacity: 1; stroke-width: 0;\"/></g><g class=\"layer-below\"><g class=\"imagelayer\"/><g class=\"shapelayer\"/></g><g class=\"cartesianlayer\"><g class=\"subplot xy\"><g class=\"layer-subplot\"><g class=\"shapelayer\"/><g class=\"imagelayer\"/></g><g class=\"gridlayer\"><g class=\"x\"><path class=\"xgrid crisp\" transform=\"translate(207.55,0)\" d=\"M0,100v320\" style=\"stroke: rgb(255, 255, 255); stroke-opacity: 1; stroke-width: 1px;\"/><path class=\"xgrid crisp\" transform=\"translate(308.5,0)\" d=\"M0,100v320\" style=\"stroke: rgb(255, 255, 255); stroke-opacity: 1; stroke-width: 1px;\"/><path class=\"xgrid crisp\" transform=\"translate(409.45,0)\" d=\"M0,100v320\" style=\"stroke: rgb(255, 255, 255); stroke-opacity: 1; stroke-width: 1px;\"/><path class=\"xgrid crisp\" transform=\"translate(510.4,0)\" d=\"M0,100v320\" style=\"stroke: rgb(255, 255, 255); stroke-opacity: 1; stroke-width: 1px;\"/></g><g class=\"y\"><path class=\"ygrid crisp\" transform=\"translate(0,386.22)\" d=\"M80,0h457\" style=\"stroke: rgb(255, 255, 255); stroke-opacity: 1; stroke-width: 1px;\"/><path class=\"ygrid crisp\" transform=\"translate(0,330.13)\" d=\"M80,0h457\" style=\"stroke: rgb(255, 255, 255); stroke-opacity: 1; stroke-width: 1px;\"/><path class=\"ygrid crisp\" transform=\"translate(0,274.03)\" d=\"M80,0h457\" style=\"stroke: rgb(255, 255, 255); stroke-opacity: 1; stroke-width: 1px;\"/><path class=\"ygrid crisp\" transform=\"translate(0,217.93)\" d=\"M80,0h457\" style=\"stroke: rgb(255, 255, 255); stroke-opacity: 1; stroke-width: 1px;\"/><path class=\"ygrid crisp\" transform=\"translate(0,161.82999999999998)\" d=\"M80,0h457\" style=\"stroke: rgb(255, 255, 255); stroke-opacity: 1; stroke-width: 1px;\"/><path class=\"ygrid crisp\" transform=\"translate(0,105.73)\" d=\"M80,0h457\" style=\"stroke: rgb(255, 255, 255); stroke-opacity: 1; stroke-width: 1px;\"/></g></g><g class=\"zerolinelayer\"><path class=\"xzl zl crisp\" transform=\"translate(106.6,0)\" d=\"M0,100v320\" style=\"stroke: rgb(255, 255, 255); stroke-opacity: 1; stroke-width: 2px;\"/></g><path class=\"xlines-below\"/><path class=\"ylines-below\"/><g class=\"overlines-below\"/><g class=\"xaxislayer-below\"/><g class=\"yaxislayer-below\"/><g class=\"overaxes-below\"/><g class=\"plot\" transform=\"translate(80,100)\" clip-path=\"url('#clip1fb3dcxyplot')\"><g class=\"scatterlayer mlayer\"><g class=\"trace scatter trace998105\" style=\"stroke-miterlimit: 2; opacity: 1;\"><g class=\"fills\"/><g class=\"errorbars\"/><g class=\"lines\"><path class=\"js-line\" d=\"M26.6,300.25L108.18,239.97L112.25,237L197.91,175.77L201.99,172.9L283.56,116.56L287.64,113.79L365.14,62.04L369.22,59.37L430.4,19.75\" style=\"vector-effect: non-scaling-stroke; fill: none; stroke: rgb(99, 110, 250); stroke-opacity: 1; stroke-width: 2px; opacity: 1;\"/></g><g class=\"points\"/><g class=\"text\"/></g><g class=\"trace scatter tracec5149c\" style=\"stroke-miterlimit: 2; opacity: 1;\"><g class=\"fills\"/><g class=\"errorbars\"/><g class=\"lines\"><path class=\"js-line\" d=\"M26.6,300.25L430.4,19.75\" style=\"vector-effect: non-scaling-stroke; fill: none; stroke: rgb(239, 85, 59); stroke-opacity: 1; stroke-width: 2px; opacity: 1;\"/></g><g class=\"points\"><path class=\"point\" transform=\"translate(26.6,300.25)\" d=\"M3,0A3,3 0 1,1 0,-3A3,3 0 0,1 3,0Z\" style=\"opacity: 1; stroke-width: 0px; fill: rgb(239, 85, 59); fill-opacity: 1;\"/><path class=\"point\" transform=\"translate(430.4,19.75)\" d=\"M3,0A3,3 0 1,1 0,-3A3,3 0 0,1 3,0Z\" style=\"opacity: 1; stroke-width: 0px; fill: rgb(239, 85, 59); fill-opacity: 1;\"/></g><g class=\"text\"/></g></g></g><g class=\"overplot\"/><path class=\"xlines-above crisp\" d=\"M0,0\" style=\"fill: none;\"/><path class=\"ylines-above crisp\" d=\"M0,0\" style=\"fill: none;\"/><g class=\"overlines-above\"/><g class=\"xaxislayer-above\"><g class=\"xtick\"><text text-anchor=\"middle\" x=\"0\" y=\"433\" transform=\"translate(106.6,0)\" style=\"font-family: 'Open Sans', verdana, arial, sans-serif; font-size: 12px; fill: rgb(42, 63, 95); fill-opacity: 1; white-space: pre;\">0.00</text></g><g class=\"xtick\"><text text-anchor=\"middle\" x=\"0\" y=\"433\" transform=\"translate(207.55,0)\" style=\"font-family: 'Open Sans', verdana, arial, sans-serif; font-size: 12px; fill: rgb(42, 63, 95); fill-opacity: 1; white-space: pre;\">20.00</text></g><g class=\"xtick\"><text text-anchor=\"middle\" x=\"0\" y=\"433\" transform=\"translate(308.5,0)\" style=\"font-family: 'Open Sans', verdana, arial, sans-serif; font-size: 12px; fill: rgb(42, 63, 95); fill-opacity: 1; white-space: pre;\">40.00</text></g><g class=\"xtick\"><text text-anchor=\"middle\" x=\"0\" y=\"433\" transform=\"translate(409.45,0)\" style=\"font-family: 'Open Sans', verdana, arial, sans-serif; font-size: 12px; fill: rgb(42, 63, 95); fill-opacity: 1; white-space: pre;\">60.00</text></g><g class=\"xtick\"><text text-anchor=\"middle\" x=\"0\" y=\"433\" transform=\"translate(510.4,0)\" style=\"font-family: 'Open Sans', verdana, arial, sans-serif; font-size: 12px; fill: rgb(42, 63, 95); fill-opacity: 1; white-space: pre;\">80.00</text></g></g><g class=\"yaxislayer-above\"><g class=\"ytick\"><text text-anchor=\"end\" x=\"79\" y=\"4.199999999999999\" transform=\"translate(0,386.22)\" style=\"font-family: 'Open Sans', verdana, arial, sans-serif; font-size: 12px; fill: rgb(42, 63, 95); fill-opacity: 1; white-space: pre;\">24.08</text></g><g class=\"ytick\"><text text-anchor=\"end\" x=\"79\" y=\"4.199999999999999\" transform=\"translate(0,330.13)\" style=\"font-family: 'Open Sans', verdana, arial, sans-serif; font-size: 12px; fill: rgb(42, 63, 95); fill-opacity: 1; white-space: pre;\">24.10</text></g><g class=\"ytick\"><text text-anchor=\"end\" x=\"79\" y=\"4.199999999999999\" transform=\"translate(0,274.03)\" style=\"font-family: 'Open Sans', verdana, arial, sans-serif; font-size: 12px; fill: rgb(42, 63, 95); fill-opacity: 1; white-space: pre;\">24.12</text></g><g class=\"ytick\"><text text-anchor=\"end\" x=\"79\" y=\"4.199999999999999\" transform=\"translate(0,217.93)\" style=\"font-family: 'Open Sans', verdana, arial, sans-serif; font-size: 12px; fill: rgb(42, 63, 95); fill-opacity: 1; white-space: pre;\">24.14</text></g><g class=\"ytick\"><text text-anchor=\"end\" x=\"79\" y=\"4.199999999999999\" transform=\"translate(0,161.82999999999998)\" style=\"font-family: 'Open Sans', verdana, arial, sans-serif; font-size: 12px; fill: rgb(42, 63, 95); fill-opacity: 1; white-space: pre;\">24.16</text></g><g class=\"ytick\"><text text-anchor=\"end\" x=\"79\" y=\"4.199999999999999\" transform=\"translate(0,105.73)\" style=\"font-family: 'Open Sans', verdana, arial, sans-serif; font-size: 12px; fill: rgb(42, 63, 95); fill-opacity: 1; white-space: pre;\">24.18</text></g></g><g class=\"overaxes-above\"/></g></g><g class=\"polarlayer\"/><g class=\"ternarylayer\"/><g class=\"geolayer\"/><g class=\"funnelarealayer\"/><g class=\"pielayer\"/><g class=\"treemaplayer\"/><g class=\"sunburstlayer\"/><g class=\"glimages\"/><defs id=\"topdefs-1fb3dc\"><g class=\"clips\"/><clipPath id=\"legend1fb3dc\"><rect width=\"142\" height=\"48\" x=\"0\" y=\"0\"/></clipPath></defs><g class=\"layer-above\"><g class=\"imagelayer\"/><g class=\"shapelayer\"/></g><g class=\"infolayer\"><g class=\"legend\" pointer-events=\"all\" transform=\"translate(546.14,100)\"><rect class=\"bg\" shape-rendering=\"crispEdges\" style=\"stroke: rgb(68, 68, 68); stroke-opacity: 1; fill: rgb(255, 255, 255); fill-opacity: 1; stroke-width: 0px;\" width=\"142\" height=\"48\" x=\"0\" y=\"0\"/><g class=\"scrollbox\" transform=\"\" clip-path=\"url('#legend1fb3dc')\"><g class=\"groups\"><g class=\"traces\" transform=\"translate(0,14.5)\" style=\"opacity: 1;\"><text class=\"legendtext\" text-anchor=\"start\" x=\"40\" y=\"4.680000000000001\" style=\"font-family: 'Open Sans', verdana, arial, sans-serif; font-size: 12px; fill: rgb(42, 63, 95); fill-opacity: 1; white-space: pre;\">Non-linear chirp</text><g class=\"layers\" style=\"opacity: 1;\"><g class=\"legendfill\"/><g class=\"legendlines\"><path class=\"js-line\" d=\"M5,0h30\" style=\"fill: none; stroke: rgb(99, 110, 250); stroke-opacity: 1; stroke-width: 2px;\"/></g><g class=\"legendsymbols\"><g class=\"legendpoints\"/></g></g><rect class=\"legendtoggle\" x=\"0\" y=\"-9.5\" width=\"136.921875\" height=\"19\" style=\"fill: rgb(0, 0, 0); fill-opacity: 0;\"/></g><g class=\"traces\" transform=\"translate(0,33.5)\" style=\"opacity: 1;\"><text class=\"legendtext\" text-anchor=\"start\" x=\"40\" y=\"4.680000000000001\" style=\"font-family: 'Open Sans', verdana, arial, sans-serif; font-size: 12px; fill: rgb(42, 63, 95); fill-opacity: 1; white-space: pre;\">Linear chirp</text><g class=\"layers\" style=\"opacity: 1;\"><g class=\"legendfill\"/><g class=\"legendlines\"><path class=\"js-line\" d=\"M5,0h30\" style=\"fill: none; stroke: rgb(239, 85, 59); stroke-opacity: 1; stroke-width: 2px;\"/></g><g class=\"legendsymbols\"><g class=\"legendpoints\"><path class=\"scatterpts\" transform=\"translate(20,0)\" d=\"M3,0A3,3 0 1,1 0,-3A3,3 0 0,1 3,0Z\" style=\"opacity: 1; stroke-width: 0px; fill: rgb(239, 85, 59); fill-opacity: 1;\"/></g></g></g><rect class=\"legendtoggle\" x=\"0\" y=\"-9.5\" width=\"136.921875\" height=\"19\" style=\"fill: rgb(0, 0, 0); fill-opacity: 0;\"/></g></g></g><rect class=\"scrollbar\" rx=\"20\" ry=\"3\" width=\"0\" height=\"0\" style=\"fill: rgb(128, 139, 164); fill-opacity: 1;\" x=\"0\" y=\"0\"/></g><g class=\"g-gtitle\"/><g class=\"g-xtitle\"><text class=\"xtitle\" x=\"308.5\" y=\"460.8\" text-anchor=\"middle\" style=\"font-family: 'Open Sans', verdana, arial, sans-serif; font-size: 14px; fill: rgb(42, 63, 95); opacity: 1; font-weight: normal; white-space: pre;\">Time (us)</text></g><g class=\"g-ytitle\"><text class=\"ytitle\" transform=\"rotate(-90,19.309375000000003,260)\" x=\"19.309375000000003\" y=\"260\" text-anchor=\"middle\" style=\"font-family: 'Open Sans', verdana, arial, sans-serif; font-size: 14px; fill: rgb(42, 63, 95); opacity: 1; font-weight: normal; white-space: pre;\">Frequency (GHz)</text></g></g></svg>"
      ],
      "text/plain": [
       "<IPython.core.display.SVG object>"
      ]
     },
     "metadata": {},
     "output_type": "display_data"
    }
   ],
   "source": [
    "import plotly.graph_objs as go\n",
    "from plotly.offline import iplot\n",
    "from IPython.display import SVG, display\n",
    "\n",
    "plot_nonlinear = go.Scatter(\n",
    "    x=np.linspace(0, 80e-6, 100)*1e6,\n",
    "    y=freq_nonlinear/1e9,\n",
    "    name='Non-linear chirp',\n",
    ")\n",
    "\n",
    "plot_linear = go.Scatter(\n",
    "    x=np.array([0, 80e-6])*1e6,\n",
    "    y=np.array([24.125e9-50e6, 24.125e9+50e6])/1e9,\n",
    "    name='Linear chirp',\n",
    ")\n",
    "\n",
    "data = [plot_nonlinear, plot_linear]\n",
    "\n",
    "layout = go.Layout(\n",
    "    yaxis=dict(tickformat='.2f', title='Frequency (GHz)'),\n",
    "    xaxis=dict(tickformat='.2f', title='Time (us)'),\n",
    ")\n",
    "\n",
    "fig = go.Figure(data, layout=layout)\n",
    "# iplot(fig)\n",
    "display(SVG(fig.to_image(format='svg', scale=1)))"
   ]
  },
  {
   "cell_type": "markdown",
   "metadata": {},
   "source": [
    " ### Receiver\n",
    " The parameters of the receiver are listed in the table below.\n",
    "\n",
    " | Parameter                        | Variable in `RadarSimPy` | Value        |\n",
    " |----------------------------------|--------------------------|--------------|\n",
    " | Sampling rate ($f_s$)            | fs                       | 2 Msps       |\n",
    " | Noise figure ($NF$)              | noise_figure             | 12 dB        |\n",
    " | RF gain/loss ($G_{rf}$)          | rf_gain                  | 20 dB        |\n",
    " | Load resistor ($R_L$)            | load_resistor            | 500 $\\Omega$ |\n",
    " | Baseband voltage gain ($G_{BB}$) | baseband_gain            | 30 dB        |\n",
    "\n",
    " The radiation pattern os the receiver antenna is $\\cos{\\theta}$. The gain of the antenna is 6 dB."
   ]
  },
  {
   "cell_type": "code",
   "execution_count": 3,
   "metadata": {},
   "outputs": [],
   "source": [
    "rx_channel = dict(\n",
    "    location=(0, 0, 0),\n",
    "    azimuth_angle=angle,\n",
    "    azimuth_pattern=pattern,\n",
    "    elevation_angle=angle,\n",
    "    elevation_pattern=pattern,\n",
    ")\n",
    "\n",
    "rx = Receiver(fs=2e6,\n",
    "              noise_figure=12,\n",
    "              rf_gain=20,\n",
    "              load_resistor=500,\n",
    "              baseband_gain=30,\n",
    "              channels=[rx_channel])"
   ]
  },
  {
   "cell_type": "markdown",
   "metadata": {},
   "source": [
    " Create the FMCW radar model based on all the parameters defined above."
   ]
  },
  {
   "cell_type": "code",
   "execution_count": 4,
   "metadata": {},
   "outputs": [],
   "source": [
    "radar_nonlinear = Radar(transmitter=tx_nonlinear, receiver=rx)\n",
    "radar_linear = Radar(transmitter=tx_linear, receiver=rx)"
   ]
  },
  {
   "cell_type": "markdown",
   "metadata": {},
   "source": [
    " ### Targets\n",
    " The propertities of targets are defined here. There are 3 targets in this simulation. The locations of the targets are defined through $(x, y, z)$ coordinates in meters, and the speeds of the targets are defined trough $(v_x, v_y, v_z)$ in $m/s$. The propertites of the targets also includes radar cross-section (RCS (dBsm)) and phase (radian)."
   ]
  },
  {
   "cell_type": "code",
   "execution_count": 5,
   "metadata": {},
   "outputs": [],
   "source": [
    "target_1 = dict(location=(200, 0, 0), speed=(-5, 0, 0), rcs=20, phase=0)\n",
    "target_2 = dict(location=(95, 20, 0), speed=(-50, 0, 0), rcs=15, phase=0)\n",
    "target_3 = dict(location=(30, -5, 0), speed=(-22, 0, 0), rcs=5, phase=0)\n",
    "\n",
    "targets = [target_1, target_2, target_3]"
   ]
  },
  {
   "cell_type": "markdown",
   "metadata": {},
   "source": [
    "## Simulate Baseband Signals\n",
    " \n",
    "Calculate baseband signal matrix:\n",
    "$$[channel, slow~time, fast~time]$$\n",
    " \n",
    "#### Simulate with C++ engine"
   ]
  },
  {
   "cell_type": "code",
   "execution_count": 6,
   "metadata": {},
   "outputs": [],
   "source": [
    "from radarsimpy import simulatorcpp as simcpp\n",
    "\n",
    "data_nonlinear = simcpp(radar_nonlinear, targets, noise=False)\n",
    "time_matrix_nonlinear = data_nonlinear['timestamp']\n",
    "data_matrix_nonlinear = data_nonlinear['baseband']\n",
    "\n",
    "data_linear = simcpp(radar_linear, targets, noise=False)\n",
    "time_matrix_linear = data_linear['timestamp']\n",
    "data_matrix_linear = data_linear['baseband']"
   ]
  },
  {
   "cell_type": "code",
   "execution_count": 7,
   "metadata": {},
   "outputs": [
    {
     "data": {
      "image/svg+xml": [
       "<svg xmlns=\"http://www.w3.org/2000/svg\" xmlns:xlink=\"http://www.w3.org/1999/xlink\" class=\"main-svg\" width=\"700\" height=\"500\" style=\"\" viewBox=\"0 0 700 500\"><rect x=\"0\" y=\"0\" width=\"700\" height=\"500\" style=\"fill: rgb(255, 255, 255); fill-opacity: 1;\"/><defs id=\"defs-6d9d96\"><g class=\"clips\"><clipPath id=\"clip6d9d96xyplot\" class=\"plotclip\"><rect width=\"482\" height=\"320\"/></clipPath><clipPath class=\"axesclip\" id=\"clip6d9d96x\"><rect x=\"80\" y=\"0\" width=\"482\" height=\"500\"/></clipPath><clipPath class=\"axesclip\" id=\"clip6d9d96y\"><rect x=\"0\" y=\"100\" width=\"700\" height=\"320\"/></clipPath><clipPath class=\"axesclip\" id=\"clip6d9d96xy\"><rect x=\"80\" y=\"100\" width=\"482\" height=\"320\"/></clipPath></g><g class=\"gradients\"/></defs><g class=\"bglayer\"><rect class=\"bg\" x=\"80\" y=\"100\" width=\"482\" height=\"320\" style=\"fill: rgb(229, 236, 246); fill-opacity: 1; stroke-width: 0;\"/></g><g class=\"layer-below\"><g class=\"imagelayer\"/><g class=\"shapelayer\"/></g><g class=\"cartesianlayer\"><g class=\"subplot xy\"><g class=\"layer-subplot\"><g class=\"shapelayer\"/><g class=\"imagelayer\"/></g><g class=\"gridlayer\"><g class=\"x\"><path class=\"xgrid crisp\" transform=\"translate(201.26,0)\" d=\"M0,100v320\" style=\"stroke: rgb(255, 255, 255); stroke-opacity: 1; stroke-width: 1px;\"/><path class=\"xgrid crisp\" transform=\"translate(322.52,0)\" d=\"M0,100v320\" style=\"stroke: rgb(255, 255, 255); stroke-opacity: 1; stroke-width: 1px;\"/><path class=\"xgrid crisp\" transform=\"translate(443.77,0)\" d=\"M0,100v320\" style=\"stroke: rgb(255, 255, 255); stroke-opacity: 1; stroke-width: 1px;\"/></g><g class=\"y\"><path class=\"ygrid crisp\" transform=\"translate(0,412.06)\" d=\"M80,0h482\" style=\"stroke: rgb(255, 255, 255); stroke-opacity: 1; stroke-width: 1px;\"/><path class=\"ygrid crisp\" transform=\"translate(0,334.96000000000004)\" d=\"M80,0h482\" style=\"stroke: rgb(255, 255, 255); stroke-opacity: 1; stroke-width: 1px;\"/><path class=\"ygrid crisp\" transform=\"translate(0,180.75)\" d=\"M80,0h482\" style=\"stroke: rgb(255, 255, 255); stroke-opacity: 1; stroke-width: 1px;\"/><path class=\"ygrid crisp\" transform=\"translate(0,103.65)\" d=\"M80,0h482\" style=\"stroke: rgb(255, 255, 255); stroke-opacity: 1; stroke-width: 1px;\"/></g></g><g class=\"zerolinelayer\"><path class=\"xzl zl crisp\" transform=\"translate(80,0)\" d=\"M0,100v320\" style=\"stroke: rgb(255, 255, 255); stroke-opacity: 1; stroke-width: 2px;\"/><path class=\"yzl zl crisp\" transform=\"translate(0,257.85)\" d=\"M80,0h482\" style=\"stroke: rgb(255, 255, 255); stroke-opacity: 1; stroke-width: 2px;\"/></g><path class=\"xlines-below\"/><path class=\"ylines-below\"/><g class=\"overlines-below\"/><g class=\"xaxislayer-below\"/><g class=\"yaxislayer-below\"/><g class=\"overaxes-below\"/><g class=\"plot\" transform=\"translate(80,100)\" clip-path=\"url('#clip6d9d96xyplot')\"><g class=\"scatterlayer mlayer\"><g class=\"trace scatter trace807368\" style=\"stroke-miterlimit: 2; opacity: 1;\"><g class=\"fills\"/><g class=\"errorbars\"/><g class=\"lines\"><path class=\"js-line\" d=\"M0,129.3L6.06,26.19L9.09,143.26L12.13,174.47L15.16,294.63L21.22,189.98L24.25,105.73L27.28,21.71L30.31,96.41L33.35,115.52L36.38,258.88L39.41,250.09L42.44,234.8L45.47,159.47L48.5,53.01L51.53,87.69L54.57,74.38L57.6,211.91L60.63,230.75L63.66,246.89L66.69,202.28L69.72,86.91L72.75,98.33L75.79,52.78L78.82,169.72L84.88,242.46L87.91,239.13L90.94,120.64L93.97,117.46L97.01,43.32L100.04,124.29L103.07,182.64L106.1,221.38L109.13,269.74L112.16,161.59L115.19,149.16L118.23,56.43L121.26,79.34L124.29,148.26L127.32,177.32L130.35,277.14L133.38,204.81L136.42,189.7L139.45,103.94L142.48,52.44L145.51,114.45L148.54,117.62L151.57,243.66L154.6,236.05L157.64,223.6L160.67,180.6L163.7,63.26L166.73,93.13L169.76,66.16L172.79,167.22L175.82,239.94L178.86,235.28L181.89,257.82L184.92,121.18L187.95,91.65L190.98,50.26L194.01,73.52L197.04,205.92L200.08,221.75L203.11,292.79L209.17,112.87L212.2,79.53L215.23,16L218.26,137.26L224.33,256.69L227.36,281.91L230.39,159.71L233.42,135.71L236.45,46L239.48,64.89L242.52,151.37L245.55,167.81L248.58,271.27L251.61,226.94L257.67,153.68L260.7,45.91L263.74,91.47L266.77,89.75L272.83,272.84L275.86,236.08L278.89,243.63L281.92,116.08L284.96,44.15L287.99,73.71L291.02,78.46L294.05,221.27L297.08,249.54L300.11,237.44L303.14,229.03L306.18,101.94L309.21,100.76L312.24,70.1L315.27,75.55L318.3,189.77L321.33,201.08L324.36,276.5L327.4,250.48L330.43,132.02L333.46,104.69L336.49,20.81L339.52,83.21L342.55,185.57L345.58,202.88L348.62,281.1L354.68,160.27L357.71,140.28L360.74,36.42L363.77,80.5L366.81,119.25L369.84,177.74L372.87,298.71L375.9,240.42L378.93,196.77L381.96,129.78L384.99,33.57L388.03,96.87L391.06,102.87L394.09,153.77L397.12,257.38L400.15,233.15L403.18,252.61L406.21,173.15L409.25,47.48L412.28,73.51L415.31,67.18L418.34,146.31L421.37,242.36L424.4,214.22L427.43,259.76L430.47,211.23L433.5,102.88L436.53,88.89L439.56,28.27L442.59,97.89L445.62,217.06L448.65,212.76L451.69,264.88L454.72,230.03L457.75,144.14L460.78,132.93L463.81,34.43L466.84,47.61L469.87,162.1L472.91,188.27L475.94,265.84L478.97,255.94L482,174.26\" style=\"vector-effect: non-scaling-stroke; fill: none; stroke: rgb(99, 110, 250); stroke-opacity: 1; stroke-width: 2px; opacity: 1;\"/></g><g class=\"points\"/><g class=\"text\"/></g><g class=\"trace scatter tracecdd746\" style=\"stroke-miterlimit: 2; opacity: 1;\"><g class=\"fills\"/><g class=\"errorbars\"/><g class=\"lines\"><path class=\"js-line\" d=\"M0,227.5L3.03,250.26L6.06,124.82L9.09,86.72L12.13,77.19L15.16,106.31L18.19,227.96L21.22,214.74L24.25,258.81L27.28,138.85L30.31,99.45L33.35,66.1L36.38,85.59L39.41,207.89L42.44,216.14L45.47,285.02L48.5,175.62L54.57,58.4L57.6,44.77L60.63,162.03L63.66,190.96L66.69,298.79L69.72,227.22L72.75,170.17L75.79,87.79L78.82,19.29L81.85,109.66L84.88,136.47L87.91,274.06L90.94,261.58L93.97,220.65L97.01,149.97L100.04,28.42L103.07,76.9L106.1,78.56L109.13,214.82L112.16,265.99L115.19,249.59L118.23,222.13L121.26,70.58L124.29,72.19L127.32,41.71L130.35,136.85L133.38,241.82L136.42,247.26L139.45,279.31L142.48,137.1L148.54,42.37L151.57,62.06L154.6,194.81L157.64,216L160.67,296.33L163.7,212.45L166.73,129.81L169.76,84.82L172.79,20.51L175.82,135.05L178.86,169.49L181.89,256.52L184.92,269.12L187.95,173.28L190.98,153.37L194.01,42.12L200.08,126.76L203.11,168.98L206.14,271.68L209.17,213.72L212.2,215.34L215.23,131.75L218.26,60.16L221.3,98.12L224.33,78.37L227.36,200.51L230.39,239.35L233.42,243.05L236.45,242.31L239.48,100.17L242.52,82.52L245.55,43L248.58,90.76L251.61,225.51L254.64,234.25L257.67,287.19L263.74,94.2L266.77,83.6L269.8,33.9L272.83,146.66L275.86,196.17L278.89,226.29L281.92,272.73L284.96,171.09L287.99,155.44L291.02,83.19L294.05,39.54L297.08,124.53L300.11,141.42L303.14,258.3L306.18,280.63L309.21,200.91L312.24,167.4L315.27,37.37L318.3,54.01L321.33,118.05L324.36,150.31L327.4,266.26L330.43,232.73L333.46,214.56L336.49,187.28L339.52,68.87L342.55,83.22L345.58,63.05L348.62,118.76L351.65,253.09L354.68,244.62L357.71,264.35L360.74,179.41L363.77,66.39L366.81,91.02L369.84,58.32L375.9,210.5L378.93,208.6L381.96,283.03L384.99,214.91L388.03,120.31L391.06,90.33L394.09,16.59L397.12,110.39L400.15,194.66L403.18,208.68L406.21,278.49L409.25,210.65L412.28,163.89L415.31,133.93L418.34,22.65L421.37,73.15L427.43,191.44L430.47,294.69L433.5,228.35L436.53,183.74L439.56,159.31L442.59,52.58L445.62,73.72L448.65,88.53L451.69,132.6L454.72,274.39L457.75,255.55L460.78,220.19L463.81,189.39L466.84,76.31L469.87,84.38L472.91,75.86L475.94,75.41L478.97,217.93L482,252.24\" style=\"vector-effect: non-scaling-stroke; fill: none; stroke: rgb(239, 85, 59); stroke-opacity: 1; stroke-width: 2px; opacity: 1;\"/></g><g class=\"points\"/><g class=\"text\"/></g><g class=\"trace scatter tracea0660e\" style=\"stroke-miterlimit: 2; opacity: 1;\"><g class=\"fills\"/><g class=\"errorbars\"/><g class=\"lines\"><path class=\"js-line\" d=\"M0,135.12L6.06,23.31L9.09,135.85L12.13,164.25L15.16,244.55L18.19,266.65L21.22,178.71L24.25,172.48L27.28,65.35L30.31,71.09L33.35,113.37L36.38,132.36L39.41,258.2L42.44,236.69L45.47,234.88L48.5,172.02L51.53,49.36L54.57,75.76L57.6,60.27L63.66,265.41L66.69,245.45L69.72,254.1L72.75,110.46L75.79,67.5L78.82,66.24L81.85,78.26L84.88,216.81L87.91,220.28L90.94,256.4L93.97,219.82L97.01,113.08L100.04,116.61L103.07,44.66L109.13,174.59L112.16,200.97L115.19,289.03L118.23,205.72L121.26,163.88L124.29,88.9L127.32,18.7L130.35,114.49L133.38,145.35L136.42,260.13L139.45,284.07L142.48,196.52L145.51,163.81L148.54,35.96L151.57,61.95L154.6,116.29L157.64,161.2L160.67,275.96L163.7,224.36L166.73,216.37L169.76,147.95L172.79,59.43L175.82,100.18L178.86,73.52L181.89,174.89L184.92,236.45L187.95,232.65L190.98,260.43L194.01,128.28L197.04,89.27L200.08,52.81L203.11,59.81L206.14,202.22L209.17,224.51L212.2,286.2L215.23,228.49L218.26,108.23L221.3,91.93L224.33,24.56L227.36,120.58L230.39,193.39L233.42,222.63L236.45,281.51L239.48,177.08L242.52,151.92L245.55,88.38L248.58,46.77L251.61,132.06L254.64,136.56L257.67,243.78L260.7,260.57L263.74,206.37L266.77,185.1L269.8,48.36L272.83,61.62L275.86,87.55L278.89,150.5L281.92,282.78L284.96,244.34L287.99,237.99L294.05,39.66L297.08,82.54L300.11,78.23L303.14,205.89L306.18,247.79L309.21,230.75L312.24,234.57L315.27,106.71L318.3,100.55L321.33,69.85L324.36,83.11L327.4,196.24L330.43,199.3L333.46,274.56L336.49,226.74L339.52,135.02L342.55,106.76L345.58,16.12L351.65,171.02L354.68,234.67L357.71,302.92L360.74,190.71L363.77,150.01L366.81,57.53L369.84,34.85L372.87,137.39L375.9,159.11L378.93,267.61L381.96,247.87L384.99,187.16L388.03,164.1L391.06,51.1L394.09,90.49L397.12,99.73L400.15,151.78L403.18,258.32L406.21,224.55L409.25,247.57L415.31,61.94L418.34,75.01L421.37,54.56L424.4,194.83L427.43,247.46L430.47,259.21L433.5,248.64L436.53,98.3L439.56,81.6L442.59,45.7L445.62,95.27L448.65,218.19L451.69,216.62L454.72,274.02L460.78,121.37L463.81,108.24L466.84,38.19L469.87,128.22L472.91,160.92L475.94,218.32L478.97,281.69L482,193.37\" style=\"vector-effect: non-scaling-stroke; fill: none; stroke: rgb(0, 204, 150); stroke-opacity: 1; stroke-width: 2px; opacity: 1;\"/></g><g class=\"points\"/><g class=\"text\"/></g><g class=\"trace scatter trace332960\" style=\"stroke-miterlimit: 2; opacity: 1;\"><g class=\"fills\"/><g class=\"errorbars\"/><g class=\"lines\"><path class=\"js-line\" d=\"M0,220.31L3.03,252.22L6.06,146.79L9.09,76.44L12.13,74.67L15.16,49.7L18.19,189.4L24.25,266.95L27.28,253.45L30.31,107.97L33.35,89.1L36.38,33.4L39.41,93.33L42.44,208.61L45.47,218L48.5,283.58L51.53,193.31L54.57,129.17L57.6,102.44L60.63,37.56L63.66,132.44L66.69,153.27L69.72,222.29L72.75,273.46L75.79,193.62L78.82,185.36L81.85,69.01L84.88,46.93L87.91,103.51L90.94,132.46L93.97,273.97L97.01,258.12L100.04,226.06L103.07,159.48L106.1,30.57L109.13,75.22L112.16,83.64L118.23,270.37L121.26,225.59L124.29,235.6L127.32,116.13L130.35,77.48L133.38,88.33L136.42,75.18L139.45,198.74L142.48,209.72L145.51,250.49L148.54,242.34L151.57,125.78L154.6,113.79L157.64,32.63L160.67,83.32L163.7,182.25L166.73,215.65L169.76,304L172.79,209.2L175.82,139.2L181.89,16.47L184.92,131.17L187.95,167.27L190.98,253.11L194.01,273.05L197.04,176.23L200.08,162.86L203.11,57.24L206.14,71.77L209.17,122.57L212.2,141.47L215.23,259.26L218.26,229.31L221.3,226.06L224.33,170.05L227.36,54.94L230.39,82.84L233.42,61.98L239.48,260.22L242.52,245.35L245.55,259.19L248.58,114.91L251.61,65.63L254.64,59.67L257.67,73.37L260.7,219.45L263.74,228.86L266.77,262.68L269.8,217.77L272.83,103.59L275.86,108.37L278.89,45.35L284.96,183.92L287.99,202.11L291.02,281.64L294.05,197.07L297.08,161.52L300.11,94.66L303.14,25.82L306.18,116.26L309.21,140.82L312.24,254.48L315.27,283.98L318.3,201.47L321.33,168.36L324.36,34.62L327.4,55.18L330.43,111.49L333.46,163.45L336.49,284.27L339.52,231.01L342.55,214.25L348.62,51.03L351.65,100.57L354.68,82.44L357.71,183.89L360.74,238.03L363.77,225.23L366.81,251.63L369.84,126.08L375.9,60.37L378.93,61.6L381.96,197.62L384.99,219L388.03,285.5L391.06,233.74L394.09,112.8L397.12,90.77L400.15,18.21L403.18,115.21L406.21,195.71L409.25,230.59L412.28,288.16L415.31,175.55L418.34,142.65L421.37,80.34L424.4,46.76L427.43,140.74L430.47,145.9L433.5,245.04L436.53,253.67L439.56,197.31L442.59,182.72L445.62,53.99L448.65,68.8L451.69,89.93L454.72,145.68L457.75,277.04L460.78,243.77L463.81,242.69L469.87,38.51L472.91,76.26L475.94,73.05L478.97,207.41L482,256.07\" style=\"vector-effect: non-scaling-stroke; fill: none; stroke: rgb(171, 99, 250); stroke-opacity: 1; stroke-width: 2px; opacity: 1;\"/></g><g class=\"points\"/><g class=\"text\"/></g></g></g><g class=\"overplot\"/><path class=\"xlines-above crisp\" d=\"M0,0\" style=\"fill: none;\"/><path class=\"ylines-above crisp\" d=\"M0,0\" style=\"fill: none;\"/><g class=\"overlines-above\"/><g class=\"xaxislayer-above\"><g class=\"xtick\"><text text-anchor=\"middle\" x=\"0\" y=\"433\" transform=\"translate(80,0)\" style=\"font-family: 'Open Sans', verdana, arial, sans-serif; font-size: 12px; fill: rgb(42, 63, 95); fill-opacity: 1; white-space: pre;\">0</text></g><g class=\"xtick\"><text text-anchor=\"middle\" x=\"0\" y=\"433\" transform=\"translate(201.26,0)\" style=\"font-family: 'Open Sans', verdana, arial, sans-serif; font-size: 12px; fill: rgb(42, 63, 95); fill-opacity: 1; white-space: pre;\">20</text></g><g class=\"xtick\"><text text-anchor=\"middle\" x=\"0\" y=\"433\" transform=\"translate(322.52,0)\" style=\"font-family: 'Open Sans', verdana, arial, sans-serif; font-size: 12px; fill: rgb(42, 63, 95); fill-opacity: 1; white-space: pre;\">40</text></g><g class=\"xtick\"><text text-anchor=\"middle\" x=\"0\" y=\"433\" transform=\"translate(443.77,0)\" style=\"font-family: 'Open Sans', verdana, arial, sans-serif; font-size: 12px; fill: rgb(42, 63, 95); fill-opacity: 1; white-space: pre;\">60</text></g></g><g class=\"yaxislayer-above\"><g class=\"ytick\"><text text-anchor=\"end\" x=\"79\" y=\"4.199999999999999\" transform=\"translate(0,412.06)\" style=\"font-family: 'Open Sans', verdana, arial, sans-serif; font-size: 12px; fill: rgb(42, 63, 95); fill-opacity: 1; white-space: pre;\">−0.1</text></g><g class=\"ytick\"><text text-anchor=\"end\" x=\"79\" y=\"4.199999999999999\" transform=\"translate(0,334.96000000000004)\" style=\"font-family: 'Open Sans', verdana, arial, sans-serif; font-size: 12px; fill: rgb(42, 63, 95); fill-opacity: 1; white-space: pre;\">−0.05</text></g><g class=\"ytick\"><text text-anchor=\"end\" x=\"79\" y=\"4.199999999999999\" transform=\"translate(0,257.85)\" style=\"font-family: 'Open Sans', verdana, arial, sans-serif; font-size: 12px; fill: rgb(42, 63, 95); fill-opacity: 1; white-space: pre;\">0</text></g><g class=\"ytick\"><text text-anchor=\"end\" x=\"79\" y=\"4.199999999999999\" transform=\"translate(0,180.75)\" style=\"font-family: 'Open Sans', verdana, arial, sans-serif; font-size: 12px; fill: rgb(42, 63, 95); fill-opacity: 1; white-space: pre;\">0.05</text></g><g class=\"ytick\"><text text-anchor=\"end\" x=\"79\" y=\"4.199999999999999\" transform=\"translate(0,103.65)\" style=\"font-family: 'Open Sans', verdana, arial, sans-serif; font-size: 12px; fill: rgb(42, 63, 95); fill-opacity: 1; white-space: pre;\">0.1</text></g></g><g class=\"overaxes-above\"/></g></g><g class=\"polarlayer\"/><g class=\"ternarylayer\"/><g class=\"geolayer\"/><g class=\"funnelarealayer\"/><g class=\"pielayer\"/><g class=\"treemaplayer\"/><g class=\"sunburstlayer\"/><g class=\"glimages\"/><defs id=\"topdefs-6d9d96\"><g class=\"clips\"/><clipPath id=\"legend6d9d96\"><rect width=\"116\" height=\"86\" x=\"0\" y=\"0\"/></clipPath></defs><g class=\"layer-above\"><g class=\"imagelayer\"/><g class=\"shapelayer\"/></g><g class=\"infolayer\"><g class=\"legend\" pointer-events=\"all\" transform=\"translate(571.64,100)\"><rect class=\"bg\" shape-rendering=\"crispEdges\" style=\"stroke: rgb(68, 68, 68); stroke-opacity: 1; fill: rgb(255, 255, 255); fill-opacity: 1; stroke-width: 0px;\" width=\"116\" height=\"86\" x=\"0\" y=\"0\"/><g class=\"scrollbox\" transform=\"\" clip-path=\"url('#legend6d9d96')\"><g class=\"groups\"><g class=\"traces\" transform=\"translate(0,14.5)\" style=\"opacity: 1;\"><text class=\"legendtext\" text-anchor=\"start\" x=\"40\" y=\"4.680000000000001\" style=\"font-family: 'Open Sans', verdana, arial, sans-serif; font-size: 12px; fill: rgb(42, 63, 95); fill-opacity: 1; white-space: pre;\">I nonlinear</text><g class=\"layers\" style=\"opacity: 1;\"><g class=\"legendfill\"/><g class=\"legendlines\"><path class=\"js-line\" d=\"M5,0h30\" style=\"fill: none; stroke: rgb(99, 110, 250); stroke-opacity: 1; stroke-width: 2px;\"/></g><g class=\"legendsymbols\"><g class=\"legendpoints\"/></g></g><rect class=\"legendtoggle\" x=\"0\" y=\"-9.5\" width=\"110.671875\" height=\"19\" style=\"fill: rgb(0, 0, 0); fill-opacity: 0;\"/></g><g class=\"traces\" transform=\"translate(0,33.5)\" style=\"opacity: 1;\"><text class=\"legendtext\" text-anchor=\"start\" x=\"40\" y=\"4.680000000000001\" style=\"font-family: 'Open Sans', verdana, arial, sans-serif; font-size: 12px; fill: rgb(42, 63, 95); fill-opacity: 1; white-space: pre;\">Q nonlinear</text><g class=\"layers\" style=\"opacity: 1;\"><g class=\"legendfill\"/><g class=\"legendlines\"><path class=\"js-line\" d=\"M5,0h30\" style=\"fill: none; stroke: rgb(239, 85, 59); stroke-opacity: 1; stroke-width: 2px;\"/></g><g class=\"legendsymbols\"><g class=\"legendpoints\"/></g></g><rect class=\"legendtoggle\" x=\"0\" y=\"-9.5\" width=\"110.671875\" height=\"19\" style=\"fill: rgb(0, 0, 0); fill-opacity: 0;\"/></g><g class=\"traces\" transform=\"translate(0,52.5)\" style=\"opacity: 1;\"><text class=\"legendtext\" text-anchor=\"start\" x=\"40\" y=\"4.680000000000001\" style=\"font-family: 'Open Sans', verdana, arial, sans-serif; font-size: 12px; fill: rgb(42, 63, 95); fill-opacity: 1; white-space: pre;\">I linear</text><g class=\"layers\" style=\"opacity: 1;\"><g class=\"legendfill\"/><g class=\"legendlines\"><path class=\"js-line\" d=\"M5,0h30\" style=\"fill: none; stroke: rgb(0, 204, 150); stroke-opacity: 1; stroke-width: 2px;\"/></g><g class=\"legendsymbols\"><g class=\"legendpoints\"/></g></g><rect class=\"legendtoggle\" x=\"0\" y=\"-9.5\" width=\"110.671875\" height=\"19\" style=\"fill: rgb(0, 0, 0); fill-opacity: 0;\"/></g><g class=\"traces\" transform=\"translate(0,71.5)\" style=\"opacity: 1;\"><text class=\"legendtext\" text-anchor=\"start\" x=\"40\" y=\"4.680000000000001\" style=\"font-family: 'Open Sans', verdana, arial, sans-serif; font-size: 12px; fill: rgb(42, 63, 95); fill-opacity: 1; white-space: pre;\">Q linear</text><g class=\"layers\" style=\"opacity: 1;\"><g class=\"legendfill\"/><g class=\"legendlines\"><path class=\"js-line\" d=\"M5,0h30\" style=\"fill: none; stroke: rgb(171, 99, 250); stroke-opacity: 1; stroke-width: 2px;\"/></g><g class=\"legendsymbols\"><g class=\"legendpoints\"/></g></g><rect class=\"legendtoggle\" x=\"0\" y=\"-9.5\" width=\"110.671875\" height=\"19\" style=\"fill: rgb(0, 0, 0); fill-opacity: 0;\"/></g></g></g><rect class=\"scrollbar\" rx=\"20\" ry=\"3\" width=\"0\" height=\"0\" style=\"fill: rgb(128, 139, 164); fill-opacity: 1;\" x=\"0\" y=\"0\"/></g><g class=\"g-gtitle\"><text class=\"gtitle\" x=\"35\" y=\"50\" text-anchor=\"start\" dy=\"0em\" style=\"font-family: 'Open Sans', verdana, arial, sans-serif; font-size: 17px; fill: rgb(42, 63, 95); opacity: 1; font-weight: normal; white-space: pre;\">I/Q Beat Signals for the First Chirp</text></g><g class=\"g-xtitle\"><text class=\"xtitle\" x=\"321\" y=\"460.8\" text-anchor=\"middle\" style=\"font-family: 'Open Sans', verdana, arial, sans-serif; font-size: 14px; fill: rgb(42, 63, 95); opacity: 1; font-weight: normal; white-space: pre;\">Time (µs)</text></g><g class=\"g-ytitle\"><text class=\"ytitle\" transform=\"rotate(-90,17.121875000000003,260)\" x=\"17.121875000000003\" y=\"260\" text-anchor=\"middle\" style=\"font-family: 'Open Sans', verdana, arial, sans-serif; font-size: 14px; fill: rgb(42, 63, 95); opacity: 1; font-weight: normal; white-space: pre;\">Amplitude (V)</text></g></g></svg>"
      ],
      "text/plain": [
       "<IPython.core.display.SVG object>"
      ]
     },
     "metadata": {},
     "output_type": "display_data"
    }
   ],
   "source": [
    "beat_I_nonlinear = go.Scatter(\n",
    "    x=time_matrix_nonlinear[0, 0, :] * 1e6,\n",
    "    y=np.real(data_matrix_nonlinear[0, 0, :]),\n",
    "    name='I nonlinear',\n",
    ")\n",
    "beat_Q_nonlinear = go.Scatter(\n",
    "    x=time_matrix_nonlinear[0, 0, :] * 1e6,\n",
    "    y=np.imag(data_matrix_nonlinear[0, 0, :]),\n",
    "    name='Q nonlinear',\n",
    ")\n",
    "beat_I_linear = go.Scatter(\n",
    "    x=time_matrix_linear[0, 0, :] * 1e6,\n",
    "    y=np.real(data_matrix_linear[0, 0, :]),\n",
    "    name='I linear',\n",
    ")\n",
    "beat_Q_linear = go.Scatter(\n",
    "    x=time_matrix_linear[0, 0, :] * 1e6,\n",
    "    y=np.imag(data_matrix_linear[0, 0, :]),\n",
    "    name='Q linear',\n",
    ")\n",
    "data = [beat_I_nonlinear, beat_Q_nonlinear, beat_I_linear, beat_Q_linear]\n",
    "\n",
    "layout = go.Layout(\n",
    "    title='I/Q Beat Signals for the First Chirp',\n",
    "    yaxis=dict(title='Amplitude (V)'),\n",
    "    xaxis=dict(title='Time (µs)'),\n",
    ")\n",
    "\n",
    "\n",
    "fig = go.Figure(data, layout=layout)\n",
    "# iplot(fig)\n",
    "display(SVG(fig.to_image(format='svg', scale=1)))"
   ]
  },
  {
   "cell_type": "markdown",
   "metadata": {},
   "source": [
    " ## Radar Signal Processing\n",
    " ### Range profile"
   ]
  },
  {
   "cell_type": "code",
   "execution_count": 8,
   "metadata": {},
   "outputs": [],
   "source": [
    "from scipy import signal\n",
    "import radarsimpy.processing as proc\n",
    "\n",
    "range_window = signal.chebwin(radar_linear.samples_per_pulse, at=60)\n",
    "\n",
    "range_profile_nonlinear = proc.cal_range_profile(\n",
    "    radar_nonlinear, data_matrix_nonlinear[:, :, :], range_window)\n",
    "range_profile_linear = proc.cal_range_profile(\n",
    "    radar_linear, data_matrix_linear[:, :, :], range_window)"
   ]
  },
  {
   "cell_type": "code",
   "execution_count": 9,
   "metadata": {},
   "outputs": [
    {
     "data": {
      "image/svg+xml": [
       "<svg xmlns=\"http://www.w3.org/2000/svg\" xmlns:xlink=\"http://www.w3.org/1999/xlink\" class=\"main-svg\" width=\"700\" height=\"500\" style=\"\" viewBox=\"0 0 700 500\"><rect x=\"0\" y=\"0\" width=\"700\" height=\"500\" style=\"fill: rgb(255, 255, 255); fill-opacity: 1;\"/><defs id=\"defs-04c4b6\"><g class=\"clips\"><clipPath id=\"clip04c4b6xyplot\" class=\"plotclip\"><rect width=\"462\" height=\"320\"/></clipPath><clipPath class=\"axesclip\" id=\"clip04c4b6x\"><rect x=\"80\" y=\"0\" width=\"462\" height=\"500\"/></clipPath><clipPath class=\"axesclip\" id=\"clip04c4b6y\"><rect x=\"0\" y=\"100\" width=\"700\" height=\"320\"/></clipPath><clipPath class=\"axesclip\" id=\"clip04c4b6xy\"><rect x=\"80\" y=\"100\" width=\"462\" height=\"320\"/></clipPath></g><g class=\"gradients\"/></defs><g class=\"bglayer\"><rect class=\"bg\" x=\"80\" y=\"100\" width=\"462\" height=\"320\" style=\"fill: rgb(229, 236, 246); fill-opacity: 1; stroke-width: 0;\"/></g><g class=\"layer-below\"><g class=\"imagelayer\"/><g class=\"shapelayer\"/></g><g class=\"cartesianlayer\"><g class=\"subplot xy\"><g class=\"layer-subplot\"><g class=\"shapelayer\"/><g class=\"imagelayer\"/></g><g class=\"gridlayer\"><g class=\"x\"><path class=\"xgrid crisp\" transform=\"translate(176.92000000000002,0)\" d=\"M0,100v320\" style=\"stroke: rgb(255, 255, 255); stroke-opacity: 1; stroke-width: 1px;\"/><path class=\"xgrid crisp\" transform=\"translate(273.84000000000003,0)\" d=\"M0,100v320\" style=\"stroke: rgb(255, 255, 255); stroke-opacity: 1; stroke-width: 1px;\"/><path class=\"xgrid crisp\" transform=\"translate(370.77,0)\" d=\"M0,100v320\" style=\"stroke: rgb(255, 255, 255); stroke-opacity: 1; stroke-width: 1px;\"/><path class=\"xgrid crisp\" transform=\"translate(467.69,0)\" d=\"M0,100v320\" style=\"stroke: rgb(255, 255, 255); stroke-opacity: 1; stroke-width: 1px;\"/></g><g class=\"y\"><path class=\"ygrid crisp\" transform=\"translate(0,365.33)\" d=\"M80,0h462\" style=\"stroke: rgb(255, 255, 255); stroke-opacity: 1; stroke-width: 1px;\"/><path class=\"ygrid crisp\" transform=\"translate(0,298.12)\" d=\"M80,0h462\" style=\"stroke: rgb(255, 255, 255); stroke-opacity: 1; stroke-width: 1px;\"/><path class=\"ygrid crisp\" transform=\"translate(0,230.91)\" d=\"M80,0h462\" style=\"stroke: rgb(255, 255, 255); stroke-opacity: 1; stroke-width: 1px;\"/></g></g><g class=\"zerolinelayer\"><path class=\"xzl zl crisp\" transform=\"translate(80,0)\" d=\"M0,100v320\" style=\"stroke: rgb(255, 255, 255); stroke-opacity: 1; stroke-width: 2px;\"/><path class=\"yzl zl crisp\" transform=\"translate(0,163.69)\" d=\"M80,0h462\" style=\"stroke: rgb(255, 255, 255); stroke-opacity: 1; stroke-width: 2px;\"/></g><path class=\"xlines-below\"/><path class=\"ylines-below\"/><g class=\"overlines-below\"/><g class=\"xaxislayer-below\"/><g class=\"yaxislayer-below\"/><g class=\"overaxes-below\"/><g class=\"plot\" transform=\"translate(80,100)\" clip-path=\"url('#clip04c4b6xyplot')\"><g class=\"scatterlayer mlayer\"><g class=\"trace scatter tracebebba5\" style=\"stroke-miterlimit: 2; opacity: 1;\"><g class=\"fills\"/><g class=\"errorbars\"/><g class=\"lines\"><path class=\"js-line\" d=\"M0,231.86L8.72,233.33L11.62,234.35L17.43,236.51L20.34,238.86L23.25,240.28L26.15,244.99L29.06,248.66L31.96,258.95L34.87,266.63L37.77,259.97L43.58,209.39L46.49,174.42L55.21,33.54L58.11,18.4L61.02,32.2L63.92,69.94L69.74,171.89L72.64,205.09L78.45,242.45L81.36,257.86L84.26,264.7L87.17,257.14L90.08,254.74L92.98,249.08L101.7,242.21L104.6,242.15L107.51,239.69L110.42,240.14L113.32,239.02L116.23,238.72L122.04,237.94L124.94,238.04L127.85,237.22L130.75,237.62L139.47,236.75L142.38,236.5L151.09,234.47L154,232.76L156.91,230.21L159.81,225.76L162.72,216.67L165.62,199L177.25,97.17L180.15,79.48L183.06,68.61L185.96,64.23L188.87,65.99L191.77,74.15L194.68,89.06L197.58,109.83L209.21,216.83L212.11,231.32L215.02,237.67L217.92,240.92L220.83,243.99L223.74,245.9L226.64,248.77L229.55,250.53L232.45,250.08L235.36,260.16L238.26,253.23L241.17,259.96L244.08,261.13L246.98,263.45L249.89,265.69L252.79,268.87L255.7,269.94L258.6,274.37L261.51,275.14L264.42,280.45L267.32,281.35L270.23,286.49L273.13,287.92L276.04,290.65L278.94,295.1L281.85,295.56L284.75,295.65L287.66,294.38L290.57,295.02L293.47,291.16L296.38,287.93L299.28,287.27L302.19,282.83L305.09,281.8L308,277.95L310.91,276.95L313.81,273.43L316.72,273.48L319.62,269.84L322.53,269.46L328.34,266.86L331.25,265.69L334.15,266.21L337.06,265.44L339.96,266.26L342.87,270.53L345.77,276.94L348.68,304L351.58,258.15L354.49,227.04L360.3,181.24L363.21,162.61L369.02,134.34L371.92,124.18L377.74,108.19L380.64,103.55L383.55,100.12L386.45,98.27L389.36,98.27L392.26,99.56L395.17,102.5L398.08,107.56L400.98,113.39L403.89,121.59L409.7,145.96L412.6,159.96L424.23,214.3L427.13,221.69L430.04,225.89L432.94,227.6L438.75,229.3L441.66,229.62L447.47,230.37L450.38,230.41L462,231.66\" style=\"vector-effect: non-scaling-stroke; fill: none; stroke: rgb(99, 110, 250); stroke-opacity: 1; stroke-width: 2px; opacity: 1;\"/></g><g class=\"points\"/><g class=\"text\"/></g><g class=\"trace scatter trace6a0343\" style=\"stroke-miterlimit: 2; opacity: 1;\"><g class=\"fills\"/><g class=\"errorbars\"/><g class=\"lines\"><path class=\"js-line\" d=\"M0,233.51L11.62,235.48L14.53,236.38L20.34,239.1L23.25,241.19L26.15,244.09L29.06,248.28L31.96,254.52L34.87,263.4L37.77,266.36L40.68,249.54L46.49,216.27L49.4,220.08L52.3,112.89L55.21,35.99L58.11,16L61.02,35.17L63.92,110.27L66.83,222.2L69.74,214.94L72.64,227.39L78.45,257.62L81.36,261.84L90.08,247.19L92.98,244.21L98.79,240.42L101.7,239.2L110.42,237.05L113.32,236.65L124.94,235.97L127.85,235.96L162.72,236.36L165.62,235.55L168.53,233.97L171.43,231.06L177.25,222.19L180.15,168.32L183.06,76.22L185.96,51.09L188.87,65.12L191.77,130.6L194.68,235.46L197.58,225.01L200.49,227.22L203.4,230.6L209.21,236.46L212.11,238.81L220.83,244.44L223.74,246.03L246.98,257.38L249.89,258.78L273.13,269.56L276.04,270.65L284.75,272.97L287.66,273.34L296.38,273.1L299.28,272.59L308,270.09L310.91,269.04L351.58,253.86L354.49,253L369.02,248.62L371.92,247.19L374.83,244.59L377.74,239.17L380.64,245.06L383.55,112.55L386.45,77.35L389.36,82.53L392.26,133.12L395.17,243.69L398.08,235.92L400.98,233.45L406.79,233.1L409.7,233.23L427.13,233.24L430.04,233.17L459.09,233.09L462,233.27\" style=\"vector-effect: non-scaling-stroke; fill: none; stroke: rgb(239, 85, 59); stroke-opacity: 1; stroke-width: 2px; opacity: 1;\"/></g><g class=\"points\"/><g class=\"text\"/></g></g></g><g class=\"overplot\"/><path class=\"xlines-above crisp\" d=\"M0,0\" style=\"fill: none;\"/><path class=\"ylines-above crisp\" d=\"M0,0\" style=\"fill: none;\"/><g class=\"overlines-above\"/><g class=\"xaxislayer-above\"><g class=\"xtick\"><text text-anchor=\"middle\" x=\"0\" y=\"433\" transform=\"translate(80,0)\" style=\"font-family: 'Open Sans', verdana, arial, sans-serif; font-size: 12px; fill: rgb(42, 63, 95); fill-opacity: 1; white-space: pre;\">0</text></g><g class=\"xtick\"><text text-anchor=\"middle\" x=\"0\" y=\"433\" transform=\"translate(176.92000000000002,0)\" style=\"font-family: 'Open Sans', verdana, arial, sans-serif; font-size: 12px; fill: rgb(42, 63, 95); fill-opacity: 1; white-space: pre;\">50</text></g><g class=\"xtick\"><text text-anchor=\"middle\" x=\"0\" y=\"433\" transform=\"translate(273.84000000000003,0)\" style=\"font-family: 'Open Sans', verdana, arial, sans-serif; font-size: 12px; fill: rgb(42, 63, 95); fill-opacity: 1; white-space: pre;\">100</text></g><g class=\"xtick\"><text text-anchor=\"middle\" x=\"0\" y=\"433\" transform=\"translate(370.77,0)\" style=\"font-family: 'Open Sans', verdana, arial, sans-serif; font-size: 12px; fill: rgb(42, 63, 95); fill-opacity: 1; white-space: pre;\">150</text></g><g class=\"xtick\"><text text-anchor=\"middle\" x=\"0\" y=\"433\" transform=\"translate(467.69,0)\" style=\"font-family: 'Open Sans', verdana, arial, sans-serif; font-size: 12px; fill: rgb(42, 63, 95); fill-opacity: 1; white-space: pre;\">200</text></g></g><g class=\"yaxislayer-above\"><g class=\"ytick\"><text text-anchor=\"end\" x=\"79\" y=\"4.199999999999999\" transform=\"translate(0,365.33)\" style=\"font-family: 'Open Sans', verdana, arial, sans-serif; font-size: 12px; fill: rgb(42, 63, 95); fill-opacity: 1; white-space: pre;\">−60</text></g><g class=\"ytick\"><text text-anchor=\"end\" x=\"79\" y=\"4.199999999999999\" transform=\"translate(0,298.12)\" style=\"font-family: 'Open Sans', verdana, arial, sans-serif; font-size: 12px; fill: rgb(42, 63, 95); fill-opacity: 1; white-space: pre;\">−40</text></g><g class=\"ytick\"><text text-anchor=\"end\" x=\"79\" y=\"4.199999999999999\" transform=\"translate(0,230.91)\" style=\"font-family: 'Open Sans', verdana, arial, sans-serif; font-size: 12px; fill: rgb(42, 63, 95); fill-opacity: 1; white-space: pre;\">−20</text></g><g class=\"ytick\"><text text-anchor=\"end\" x=\"79\" y=\"4.199999999999999\" transform=\"translate(0,163.69)\" style=\"font-family: 'Open Sans', verdana, arial, sans-serif; font-size: 12px; fill: rgb(42, 63, 95); fill-opacity: 1; white-space: pre;\">0</text></g></g><g class=\"overaxes-above\"/></g></g><g class=\"polarlayer\"/><g class=\"ternarylayer\"/><g class=\"geolayer\"/><g class=\"funnelarealayer\"/><g class=\"pielayer\"/><g class=\"treemaplayer\"/><g class=\"sunburstlayer\"/><g class=\"glimages\"/><defs id=\"topdefs-04c4b6\"><g class=\"clips\"/><clipPath id=\"legend04c4b6\"><rect width=\"137\" height=\"48\" x=\"0\" y=\"0\"/></clipPath></defs><g class=\"layer-above\"><g class=\"imagelayer\"/><g class=\"shapelayer\"/></g><g class=\"infolayer\"><g class=\"legend\" pointer-events=\"all\" transform=\"translate(551.24,100)\"><rect class=\"bg\" shape-rendering=\"crispEdges\" style=\"stroke: rgb(68, 68, 68); stroke-opacity: 1; fill: rgb(255, 255, 255); fill-opacity: 1; stroke-width: 0px;\" width=\"137\" height=\"48\" x=\"0\" y=\"0\"/><g class=\"scrollbox\" transform=\"\" clip-path=\"url('#legend04c4b6')\"><g class=\"groups\"><g class=\"traces\" transform=\"translate(0,14.5)\" style=\"opacity: 1;\"><text class=\"legendtext\" text-anchor=\"start\" x=\"40\" y=\"4.680000000000001\" style=\"font-family: 'Open Sans', verdana, arial, sans-serif; font-size: 12px; fill: rgb(42, 63, 95); fill-opacity: 1; white-space: pre;\">Nonlinear chirp</text><g class=\"layers\" style=\"opacity: 1;\"><g class=\"legendfill\"/><g class=\"legendlines\"><path class=\"js-line\" d=\"M5,0h30\" style=\"fill: none; stroke: rgb(99, 110, 250); stroke-opacity: 1; stroke-width: 2px;\"/></g><g class=\"legendsymbols\"><g class=\"legendpoints\"/></g></g><rect class=\"legendtoggle\" x=\"0\" y=\"-9.5\" width=\"131.46875\" height=\"19\" style=\"fill: rgb(0, 0, 0); fill-opacity: 0;\"/></g><g class=\"traces\" transform=\"translate(0,33.5)\" style=\"opacity: 1;\"><text class=\"legendtext\" text-anchor=\"start\" x=\"40\" y=\"4.680000000000001\" style=\"font-family: 'Open Sans', verdana, arial, sans-serif; font-size: 12px; fill: rgb(42, 63, 95); fill-opacity: 1; white-space: pre;\">Lineaer chirp</text><g class=\"layers\" style=\"opacity: 1;\"><g class=\"legendfill\"/><g class=\"legendlines\"><path class=\"js-line\" d=\"M5,0h30\" style=\"fill: none; stroke: rgb(239, 85, 59); stroke-opacity: 1; stroke-width: 2px;\"/></g><g class=\"legendsymbols\"><g class=\"legendpoints\"/></g></g><rect class=\"legendtoggle\" x=\"0\" y=\"-9.5\" width=\"131.46875\" height=\"19\" style=\"fill: rgb(0, 0, 0); fill-opacity: 0;\"/></g></g></g><rect class=\"scrollbar\" rx=\"20\" ry=\"3\" width=\"0\" height=\"0\" style=\"fill: rgb(128, 139, 164); fill-opacity: 1;\" x=\"0\" y=\"0\"/></g><g class=\"g-gtitle\"/><g class=\"g-xtitle\"><text class=\"xtitle\" x=\"311\" y=\"460.8\" text-anchor=\"middle\" style=\"font-family: 'Open Sans', verdana, arial, sans-serif; font-size: 14px; fill: rgb(42, 63, 95); opacity: 1; font-weight: normal; white-space: pre;\">Range (m)</text></g><g class=\"g-ytitle\"><text class=\"ytitle\" transform=\"rotate(-90,29.121875000000003,260)\" x=\"29.121875000000003\" y=\"260\" text-anchor=\"middle\" style=\"font-family: 'Open Sans', verdana, arial, sans-serif; font-size: 14px; fill: rgb(42, 63, 95); opacity: 1; font-weight: normal; white-space: pre;\">Amplitude (dB)</text></g></g></svg>"
      ],
      "text/plain": [
       "<IPython.core.display.SVG object>"
      ]
     },
     "metadata": {},
     "output_type": "display_data"
    }
   ],
   "source": [
    "range_axis = np.linspace(\n",
    "    0, radar_linear.max_range, radar_linear.samples_per_pulse, endpoint=False)\n",
    "\n",
    "s1 = go.Scatter(\n",
    "    x=range_axis,\n",
    "    y=20 * np.log10(np.abs(range_profile_nonlinear[0, 0, :])),\n",
    "    name='Nonlinear chirp',\n",
    ")\n",
    "\n",
    "s2 = go.Scatter(\n",
    "    x=range_axis,\n",
    "    y=20 * np.log10(np.abs(range_profile_linear[0, 0, :])),\n",
    "    name='Lineaer chirp',\n",
    ")\n",
    "\n",
    "\n",
    "data = [s1, s2]\n",
    "\n",
    "layout = go.Layout(\n",
    "    yaxis=dict(title='Amplitude (dB)'),\n",
    "    xaxis=dict(title='Range (m)'),\n",
    ")\n",
    "\n",
    "fig = go.Figure(data, layout=layout)\n",
    "# iplot(fig)\n",
    "display(SVG(fig.to_image(format='svg', scale=1)))"
   ]
  },
  {
   "cell_type": "code",
   "execution_count": null,
   "metadata": {},
   "outputs": [],
   "source": []
  }
 ],
 "metadata": {
  "file_extension": ".py",
  "kernelspec": {
   "display_name": "Python 3",
   "language": "python",
   "name": "python3"
  },
  "language_info": {
   "codemirror_mode": {
    "name": "ipython",
    "version": 3
   },
   "file_extension": ".py",
   "mimetype": "text/x-python",
   "name": "python",
   "nbconvert_exporter": "python",
   "pygments_lexer": "ipython3",
   "version": "3.9.1"
  },
  "mimetype": "text/x-python",
  "name": "python",
  "npconvert_exporter": "python",
  "pygments_lexer": "ipython3",
  "toc": {
   "base_numbering": 1,
   "nav_menu": {},
   "number_sections": true,
   "sideBar": true,
   "skip_h1_title": false,
   "title_cell": "Table of Contents",
   "title_sidebar": "Contents",
   "toc_cell": false,
   "toc_position": {},
   "toc_section_display": true,
   "toc_window_display": false
  },
  "varInspector": {
   "cols": {
    "lenName": 16,
    "lenType": 16,
    "lenVar": 40
   },
   "kernels_config": {
    "python": {
     "delete_cmd_postfix": "",
     "delete_cmd_prefix": "del ",
     "library": "var_list.py",
     "varRefreshCmd": "print(var_dic_list())"
    },
    "r": {
     "delete_cmd_postfix": ") ",
     "delete_cmd_prefix": "rm(",
     "library": "var_list.r",
     "varRefreshCmd": "cat(var_dic_list()) "
    }
   },
   "types_to_exclude": [
    "module",
    "function",
    "builtin_function_or_method",
    "instance",
    "_Feature"
   ],
   "window_display": false
  },
  "version": 3
 },
 "nbformat": 4,
 "nbformat_minor": 4
}
