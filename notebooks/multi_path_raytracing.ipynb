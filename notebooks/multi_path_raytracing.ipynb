{
 "cells": [
  {
   "cell_type": "markdown",
   "metadata": {},
   "source": [
    "# Multi-Path Effect with Raytracing\n",
    "\n",
    "This is an example of using `RadarSimPy` to simulate an FMCW radar with a corner reflector model above the ground surface. Ray-Tracing/Shoot-and-Bounce-Rays method is used in `RadarSimPy`. The ray-tracing engine `RadarSimC`, which is built with C++, is integrated in RadarSimPy.\n",
    "\n",
    ">`RadarSimPy` is a radar simulation package built with python. **<a href=\"https://zpeng.me/#contact\" target=\"_blank\">Contact me</a> if you are interested in this module.**\n",
    "\n",
    "This notebook is available on my <a href=\"https://github.com/rookiepeng/radar-simulation-notebooks\" target=\"_blank\">GitHub</a>.\n",
    "\n",
    "---\n",
    "\n",
    "## Setup FMCW radar\n",
    "\n",
    "### Transmitter\n",
    "\n",
    "The following table lists the basic parameters of the radar transmitter.\n",
    "\n",
    " | Parameter                       | Variable in `RadarSimPy` | Value      |\n",
    " |---------------------------------|--------------------------|------------|\n",
    " | Center frequency ($f_c$)        | fc                       | 77 GHz     |\n",
    " | Bandwidth ($B$)                 | bandwidth                | 100 MHz    |\n",
    " | Transmitted power ($P_t$)       | tx_power                 | 10 dBm     |\n",
    " | Rising or falling chirp         | slop_type                | rising     |\n",
    " | Chirp repetition period ($CRP$) | repetition_period        | 100 us     |\n",
    " | Chirp length ($T$)              | pulse_length             | 80 us      |\n",
    " | Number of chirps                | pulses                   | 256        |\n",
    " | Chirp start delay               | delay                    | 0 s        |\n",
    " \n",
    "### Receiver\n",
    " The parameters of the receiver are listed in the table below.\n",
    "\n",
    " | Parameter                        | Variable in `RadarSimPy` | Value        |\n",
    " |----------------------------------|--------------------------|--------------|\n",
    " | Sampling rate ($f_s$)            | fs                       | 2 Msps       |\n",
    " | Noise figure ($NF$)              | noise_figure             | 12 dB        |\n",
    " | RF gain/loss ($G_{rf}$)          | rf_gain                  | 20 dB        |\n",
    " | Load resistor ($R_L$)            | load_resistor            | 500 $\\Omega$ |\n",
    " | Baseband voltage gain ($G_{BB}$) | baseband_gain            | 30 dB        |\n"
   ]
  },
  {
   "cell_type": "code",
   "execution_count": 1,
   "metadata": {},
   "outputs": [],
   "source": [
    "import numpy as np\n",
    "from radarsimpy import Radar, Transmitter, Receiver\n",
    "\n",
    "angle = np.arange(-90, 91, 1)\n",
    "pattern = 20 * np.log10(np.cos(angle / 180 * np.pi) + 0.01)\n",
    "\n",
    "tx_channel = dict(\n",
    "    location=(0, 0, 0),\n",
    "    azimuth_angle=angle,\n",
    "    azimuth_pattern=pattern,\n",
    "    elevation_angle=angle,\n",
    "    elevation_pattern=pattern,\n",
    ")\n",
    "\n",
    "tx = Transmitter(fc=77e9,\n",
    "                 pulse_length=80e-6,\n",
    "                 bandwidth=100e6,\n",
    "                 tx_power=15,\n",
    "                 slop_type='rising',\n",
    "                 repetition_period=100e-6,\n",
    "                 pulses=256,\n",
    "                 channels=[tx_channel])\n",
    "\n",
    "rx_channel = dict(\n",
    "    location=(0, 0, 0),\n",
    "    azimuth_angle=angle,\n",
    "    azimuth_pattern=pattern,\n",
    "    elevation_angle=angle,\n",
    "    elevation_pattern=pattern,\n",
    ")\n",
    "\n",
    "rx = Receiver(fs=2e6,\n",
    "              noise_figure=8,\n",
    "              rf_gain=20,\n",
    "              load_resistor=500,\n",
    "              baseband_gain=30,\n",
    "              channels=[rx_channel])\n",
    "\n",
    "aperture = np.zeros((2, 3, 3))\n",
    "\n",
    "aperture[0, 0, 0] = -0.25\n",
    "aperture[0, 0, 1] = 0.0\n",
    "aperture[0, 0, 2] = -0.25\n",
    "aperture[0, 1, 0] = -0.25\n",
    "aperture[0, 1, 1] = 0.0\n",
    "aperture[0, 1, 2] = 0.25\n",
    "aperture[0, 2, 0] = 0.25\n",
    "aperture[0, 2, 1] = 0.0\n",
    "aperture[0, 2, 2] = -0.25\n",
    "aperture[1, 0, 0] = 0.25\n",
    "aperture[1, 0, 1] = 0.0\n",
    "aperture[1, 0, 2] = -0.25\n",
    "aperture[1, 1, 0] = 0.25\n",
    "aperture[1, 1, 1] = 0.0\n",
    "aperture[1, 1, 2] = 0.25\n",
    "aperture[1, 2, 0] = -0.25\n",
    "aperture[1, 2, 1] = 0.0\n",
    "aperture[1, 2, 2] = 0.25\n",
    "\n",
    "radar = Radar(transmitter=tx, receiver=rx, type='FMCW', aperture=aperture)"
   ]
  },
  {
   "cell_type": "markdown",
   "metadata": {},
   "source": [
    "## Case 1: A corner reflector with ground surface"
   ]
  },
  {
   "cell_type": "code",
   "execution_count": 2,
   "metadata": {
    "scrolled": true
   },
   "outputs": [],
   "source": [
    "from radarsimpy import scene\n",
    "import radarsimpy.simulator as sim\n",
    "from scipy import signal\n",
    "import radarsimpy.processing as proc\n",
    "\n",
    "t_range = np.arange(30, 60, 0.25)\n",
    "\n",
    "amp_multi = np.zeros_like(t_range)\n",
    "\n",
    "for r_idx in range(0, len(t_range)):\n",
    "    target_1 = {\n",
    "        'model': '../models/cr.stl',\n",
    "        'location': (0, t_range[r_idx], 0),\n",
    "        'speed': (0, 0, 0)\n",
    "    }\n",
    "\n",
    "    target_2 = {\n",
    "        'model': '../models/surface_400x400.stl',\n",
    "        'location': (0, 0, -1),\n",
    "        'speed': (0, 0, 0),\n",
    "        'is_ground': True\n",
    "    }\n",
    "\n",
    "    targets = [target_1, target_2]\n",
    "\n",
    "    rays = scene(radar, targets, density=0.5)\n",
    "    data = sim.run_simulator(radar, rays, is_raytracing=True, correction=-42)\n",
    "    baseband = data['baseband']\n",
    "    range_window = signal.chebwin(radar.samples_per_pulse, at=60)\n",
    "    range_profile = proc.cal_range_profile(radar, baseband, range_window)\n",
    "\n",
    "    doppler_window = signal.chebwin(radar.transmitter.pulses, at=60)\n",
    "    range_doppler = proc.cal_range_doppler(\n",
    "        radar, range_profile, doppler_window, fft_shift=False)\n",
    "\n",
    "    amp_multi[r_idx] = np.max(np.abs(range_doppler[0, :, :]))"
   ]
  },
  {
   "cell_type": "markdown",
   "metadata": {},
   "source": [
    "## Case 2: A corner reflector without ground surface"
   ]
  },
  {
   "cell_type": "code",
   "execution_count": 3,
   "metadata": {
    "scrolled": true
   },
   "outputs": [],
   "source": [
    "amp_single = np.zeros_like(t_range)\n",
    "\n",
    "for r_idx in range(0, len(t_range)):\n",
    "    target_1 = {\n",
    "        'model': '../models/cr.stl',\n",
    "        'location': (0, t_range[r_idx], 0),\n",
    "        'speed': (0, 0, 0)\n",
    "    }\n",
    "\n",
    "    targets = [target_1]\n",
    "\n",
    "    rays = scene(radar, targets, density=0.5)\n",
    "    data = sim.run_simulator(radar, rays, is_raytracing=True, correction=-42)\n",
    "    baseband = data['baseband']\n",
    "    range_window = signal.chebwin(radar.samples_per_pulse, at=60)\n",
    "    range_profile = proc.cal_range_profile(radar, baseband, range_window)\n",
    "\n",
    "    doppler_window = signal.chebwin(radar.transmitter.pulses, at=60)\n",
    "    range_doppler = proc.cal_range_doppler(\n",
    "        radar, range_profile, doppler_window, fft_shift=False)\n",
    "\n",
    "    amp_single[r_idx] = np.max(np.abs(range_doppler[0, :, :]))"
   ]
  },
  {
   "cell_type": "markdown",
   "metadata": {},
   "source": [
    "## Results\n",
    "\n",
    "Duo to the multi-path:\n",
    "- Path 1: Tx -> Corner reflecor -> Rx\n",
    "- Path 2: Tx -> Ground -> Corner reflecor -> Ground -> Rx\n",
    "\n",
    "A fluctuation can be observed from the received target amplitude versus the target range. "
   ]
  },
  {
   "cell_type": "code",
   "execution_count": 6,
   "metadata": {},
   "outputs": [
    {
     "data": {
      "application/vnd.plotly.v1+json": {
       "config": {
        "linkText": "Export to plot.ly",
        "plotlyServerURL": "https://plot.ly",
        "showLink": false
       },
       "data": [
        {
         "name": "CR with Ground",
         "type": "scatter",
         "x": [
          30,
          30.25,
          30.5,
          30.75,
          31,
          31.25,
          31.5,
          31.75,
          32,
          32.25,
          32.5,
          32.75,
          33,
          33.25,
          33.5,
          33.75,
          34,
          34.25,
          34.5,
          34.75,
          35,
          35.25,
          35.5,
          35.75,
          36,
          36.25,
          36.5,
          36.75,
          37,
          37.25,
          37.5,
          37.75,
          38,
          38.25,
          38.5,
          38.75,
          39,
          39.25,
          39.5,
          39.75,
          40,
          40.25,
          40.5,
          40.75,
          41,
          41.25,
          41.5,
          41.75,
          42,
          42.25,
          42.5,
          42.75,
          43,
          43.25,
          43.5,
          43.75,
          44,
          44.25,
          44.5,
          44.75,
          45,
          45.25,
          45.5,
          45.75,
          46,
          46.25,
          46.5,
          46.75,
          47,
          47.25,
          47.5,
          47.75,
          48,
          48.25,
          48.5,
          48.75,
          49,
          49.25,
          49.5,
          49.75,
          50,
          50.25,
          50.5,
          50.75,
          51,
          51.25,
          51.5,
          51.75,
          52,
          52.25,
          52.5,
          52.75,
          53,
          53.25,
          53.5,
          53.75,
          54,
          54.25,
          54.5,
          54.75,
          55,
          55.25,
          55.5,
          55.75,
          56,
          56.25,
          56.5,
          56.75,
          57,
          57.25,
          57.5,
          57.75,
          58,
          58.25,
          58.5,
          58.75,
          59,
          59.25,
          59.5,
          59.75
         ],
         "y": [
          24.688243185354658,
          25.573016282096077,
          17.103850506758864,
          17.645509213587964,
          25.006607569867036,
          23.877690728294013,
          11.008738031255604,
          20.367927317405673,
          24.458306205585814,
          22.109578566067263,
          10.135865729870353,
          19.59386566163173,
          24.339309042491436,
          23.340585130770304,
          15.207023777681643,
          13.619653285530864,
          22.16131049475574,
          23.75708363454519,
          20.443983898355064,
          0.2275783032488414,
          18.187954956319583,
          21.689023811133747,
          22.367502062193303,
          18.46496612323471,
          -5.8093051032158405,
          18.497311970573282,
          21.894684615256367,
          21.00112523479741,
          18.62335513693594,
          5.804480762807418,
          15.314758421450183,
          20.896255017569803,
          21.32116043788018,
          19.775099094304082,
          14.905167142225931,
          0.2649842051514074,
          16.841987688948354,
          20.795932310051892,
          20.917910424955135,
          18.839167655411657,
          13.792229080961624,
          -3.8035024758506184,
          14.89167011790363,
          19.782177726467534,
          19.906116087296976,
          19.06331625498318,
          16.10924533257375,
          8.988118937379767,
          7.430829970074409,
          16.051816513869714,
          18.87649830394481,
          19.320852143008874,
          19.112218956279968,
          16.266178984227533,
          8.967725518753646,
          1.799403074607616,
          13.74307314845029,
          16.43675297336332,
          19.00298211179248,
          18.80811430952735,
          17.577359668454843,
          13.760542370939739,
          3.63596877037201,
          4.848567185925683,
          13.490017082799675,
          17.240578482417128,
          18.298495257136832,
          18.39432171041607,
          16.766970551725947,
          13.229064707446707,
          7.4094818358978545,
          -5.6575385405261525,
          9.953544967779651,
          14.821981614858643,
          16.3544481507143,
          16.639722250140533,
          17.667240758310243,
          16.299517491089578,
          13.882910552948944,
          8.852568868835771,
          -4.291449818758572,
          4.020338339094504,
          11.00771984249774,
          14.756184633559688,
          16.483412184018242,
          17.13525792266269,
          15.871526180148415,
          14.750297870600434,
          13.050710127287772,
          9.349621782427784,
          1.3340136638960653,
          -2.8142038366163162,
          8.527691130096114,
          11.677940167887115,
          14.744109799047436,
          16.090063003172897,
          16.409372410981927,
          15.813157211820432,
          14.45915643300291,
          11.65570323705376,
          9.089676016469527,
          3.459871360555958,
          -5.099998141843566,
          5.410887046524157,
          9.598656872967263,
          11.625160052939199,
          13.372767068797165,
          15.191097116987859,
          15.154909538215017,
          15.28714103278296,
          13.612494054856363,
          11.271760708240441,
          9.544482636925336,
          6.3071538671098875,
          -3.0881133210774756,
          -6.309039709526906,
          4.889789203873161,
          7.680895880448533,
          10.992508733309162,
          12.967108376520864
         ]
        },
        {
         "name": "CR without Ground",
         "type": "scatter",
         "x": [
          30,
          30.25,
          30.5,
          30.75,
          31,
          31.25,
          31.5,
          31.75,
          32,
          32.25,
          32.5,
          32.75,
          33,
          33.25,
          33.5,
          33.75,
          34,
          34.25,
          34.5,
          34.75,
          35,
          35.25,
          35.5,
          35.75,
          36,
          36.25,
          36.5,
          36.75,
          37,
          37.25,
          37.5,
          37.75,
          38,
          38.25,
          38.5,
          38.75,
          39,
          39.25,
          39.5,
          39.75,
          40,
          40.25,
          40.5,
          40.75,
          41,
          41.25,
          41.5,
          41.75,
          42,
          42.25,
          42.5,
          42.75,
          43,
          43.25,
          43.5,
          43.75,
          44,
          44.25,
          44.5,
          44.75,
          45,
          45.25,
          45.5,
          45.75,
          46,
          46.25,
          46.5,
          46.75,
          47,
          47.25,
          47.5,
          47.75,
          48,
          48.25,
          48.5,
          48.75,
          49,
          49.25,
          49.5,
          49.75,
          50,
          50.25,
          50.5,
          50.75,
          51,
          51.25,
          51.5,
          51.75,
          52,
          52.25,
          52.5,
          52.75,
          53,
          53.25,
          53.5,
          53.75,
          54,
          54.25,
          54.5,
          54.75,
          55,
          55.25,
          55.5,
          55.75,
          56,
          56.25,
          56.5,
          56.75,
          57,
          57.25,
          57.5,
          57.75,
          58,
          58.25,
          58.5,
          58.75,
          59,
          59.25,
          59.5,
          59.75
         ],
         "y": [
          20.327693750011477,
          19.889012591279045,
          19.40210317681931,
          18.953524983169732,
          19.424532738513808,
          19.42661227994326,
          19.581014109760208,
          19.40430572679248,
          18.44700167767694,
          17.826870771842643,
          18.51031938273449,
          19.21579427497305,
          18.710621678151497,
          18.40969129642126,
          17.990724153984146,
          16.735712664066675,
          17.85570982005971,
          18.16767379587696,
          18.670432536143615,
          17.58612982127238,
          17.021124280512307,
          16.395479300617318,
          16.935687128209544,
          17.127393536859216,
          17.455719503245145,
          17.161680377611088,
          16.775296356453325,
          15.199040683200312,
          16.27714204753142,
          16.61180604393181,
          16.471564150783855,
          16.378599828760994,
          15.56623000026741,
          15.149083864444608,
          15.35703599000726,
          15.473758880858298,
          15.974978776246267,
          15.823474376659535,
          15.386758816427783,
          14.452659407680153,
          14.994016975629256,
          14.851531554612256,
          15.327584453588381,
          15.267468452819921,
          14.275778401222412,
          13.082755368850982,
          14.418753962169061,
          14.72471598958256,
          14.317923573740432,
          13.880972312673496,
          14.034636499847712,
          12.713851333966774,
          13.57443641973974,
          14.19080644416036,
          14.229815635008139,
          13.434883529795773,
          13.010890408361032,
          11.968476748901013,
          12.515688886280245,
          13.686563693231001,
          13.306942079695235,
          13.282281737108455,
          12.49722837244483,
          12.006215223105148,
          12.247741307240474,
          12.822418559617246,
          12.664044391537264,
          12.731280967237899,
          12.011479622718353,
          11.030159223910832,
          11.584628845657319,
          12.322228624132993,
          12.295885227275853,
          12.43728252752659,
          11.97681911450256,
          10.944067938470033,
          11.37169169698986,
          11.282037214562468,
          11.545796090711304,
          11.845181466062954,
          11.075712698119524,
          10.707929400833304,
          10.849304481263617,
          11.686684317414562,
          11.39558153776002,
          10.714578334564472,
          10.846688100061765,
          9.437984170395081,
          10.569782383634683,
          10.81639918908774,
          9.731234539200015,
          10.24784064284547,
          9.286878591232282,
          8.871099890439675,
          10.020185501205077,
          10.295113765110004,
          10.484059650829956,
          10.422294080405802,
          9.121321079380563,
          8.220027026655373,
          9.496458946308719,
          9.604761808069664,
          10.200109017131599,
          9.618772784797006,
          8.798151722990575,
          7.8160548438505355,
          8.251720597976362,
          8.579018215086348,
          9.722340395996355,
          9.782263108271392,
          8.942893771377808,
          7.560702497533477,
          8.325148358019522,
          8.934067025054715,
          8.299876104390119,
          8.689346435691762,
          8.83658485885532,
          7.899687915718518,
          8.842271598947871,
          7.685832519406908
         ]
        }
       ],
       "layout": {
        "template": {
         "data": {
          "bar": [
           {
            "error_x": {
             "color": "#2a3f5f"
            },
            "error_y": {
             "color": "#2a3f5f"
            },
            "marker": {
             "line": {
              "color": "#E5ECF6",
              "width": 0.5
             }
            },
            "type": "bar"
           }
          ],
          "barpolar": [
           {
            "marker": {
             "line": {
              "color": "#E5ECF6",
              "width": 0.5
             }
            },
            "type": "barpolar"
           }
          ],
          "carpet": [
           {
            "aaxis": {
             "endlinecolor": "#2a3f5f",
             "gridcolor": "white",
             "linecolor": "white",
             "minorgridcolor": "white",
             "startlinecolor": "#2a3f5f"
            },
            "baxis": {
             "endlinecolor": "#2a3f5f",
             "gridcolor": "white",
             "linecolor": "white",
             "minorgridcolor": "white",
             "startlinecolor": "#2a3f5f"
            },
            "type": "carpet"
           }
          ],
          "choropleth": [
           {
            "colorbar": {
             "outlinewidth": 0,
             "ticks": ""
            },
            "type": "choropleth"
           }
          ],
          "contour": [
           {
            "colorbar": {
             "outlinewidth": 0,
             "ticks": ""
            },
            "colorscale": [
             [
              0,
              "#0d0887"
             ],
             [
              0.1111111111111111,
              "#46039f"
             ],
             [
              0.2222222222222222,
              "#7201a8"
             ],
             [
              0.3333333333333333,
              "#9c179e"
             ],
             [
              0.4444444444444444,
              "#bd3786"
             ],
             [
              0.5555555555555556,
              "#d8576b"
             ],
             [
              0.6666666666666666,
              "#ed7953"
             ],
             [
              0.7777777777777778,
              "#fb9f3a"
             ],
             [
              0.8888888888888888,
              "#fdca26"
             ],
             [
              1,
              "#f0f921"
             ]
            ],
            "type": "contour"
           }
          ],
          "contourcarpet": [
           {
            "colorbar": {
             "outlinewidth": 0,
             "ticks": ""
            },
            "type": "contourcarpet"
           }
          ],
          "heatmap": [
           {
            "colorbar": {
             "outlinewidth": 0,
             "ticks": ""
            },
            "colorscale": [
             [
              0,
              "#0d0887"
             ],
             [
              0.1111111111111111,
              "#46039f"
             ],
             [
              0.2222222222222222,
              "#7201a8"
             ],
             [
              0.3333333333333333,
              "#9c179e"
             ],
             [
              0.4444444444444444,
              "#bd3786"
             ],
             [
              0.5555555555555556,
              "#d8576b"
             ],
             [
              0.6666666666666666,
              "#ed7953"
             ],
             [
              0.7777777777777778,
              "#fb9f3a"
             ],
             [
              0.8888888888888888,
              "#fdca26"
             ],
             [
              1,
              "#f0f921"
             ]
            ],
            "type": "heatmap"
           }
          ],
          "heatmapgl": [
           {
            "colorbar": {
             "outlinewidth": 0,
             "ticks": ""
            },
            "colorscale": [
             [
              0,
              "#0d0887"
             ],
             [
              0.1111111111111111,
              "#46039f"
             ],
             [
              0.2222222222222222,
              "#7201a8"
             ],
             [
              0.3333333333333333,
              "#9c179e"
             ],
             [
              0.4444444444444444,
              "#bd3786"
             ],
             [
              0.5555555555555556,
              "#d8576b"
             ],
             [
              0.6666666666666666,
              "#ed7953"
             ],
             [
              0.7777777777777778,
              "#fb9f3a"
             ],
             [
              0.8888888888888888,
              "#fdca26"
             ],
             [
              1,
              "#f0f921"
             ]
            ],
            "type": "heatmapgl"
           }
          ],
          "histogram": [
           {
            "marker": {
             "colorbar": {
              "outlinewidth": 0,
              "ticks": ""
             }
            },
            "type": "histogram"
           }
          ],
          "histogram2d": [
           {
            "colorbar": {
             "outlinewidth": 0,
             "ticks": ""
            },
            "colorscale": [
             [
              0,
              "#0d0887"
             ],
             [
              0.1111111111111111,
              "#46039f"
             ],
             [
              0.2222222222222222,
              "#7201a8"
             ],
             [
              0.3333333333333333,
              "#9c179e"
             ],
             [
              0.4444444444444444,
              "#bd3786"
             ],
             [
              0.5555555555555556,
              "#d8576b"
             ],
             [
              0.6666666666666666,
              "#ed7953"
             ],
             [
              0.7777777777777778,
              "#fb9f3a"
             ],
             [
              0.8888888888888888,
              "#fdca26"
             ],
             [
              1,
              "#f0f921"
             ]
            ],
            "type": "histogram2d"
           }
          ],
          "histogram2dcontour": [
           {
            "colorbar": {
             "outlinewidth": 0,
             "ticks": ""
            },
            "colorscale": [
             [
              0,
              "#0d0887"
             ],
             [
              0.1111111111111111,
              "#46039f"
             ],
             [
              0.2222222222222222,
              "#7201a8"
             ],
             [
              0.3333333333333333,
              "#9c179e"
             ],
             [
              0.4444444444444444,
              "#bd3786"
             ],
             [
              0.5555555555555556,
              "#d8576b"
             ],
             [
              0.6666666666666666,
              "#ed7953"
             ],
             [
              0.7777777777777778,
              "#fb9f3a"
             ],
             [
              0.8888888888888888,
              "#fdca26"
             ],
             [
              1,
              "#f0f921"
             ]
            ],
            "type": "histogram2dcontour"
           }
          ],
          "mesh3d": [
           {
            "colorbar": {
             "outlinewidth": 0,
             "ticks": ""
            },
            "type": "mesh3d"
           }
          ],
          "parcoords": [
           {
            "line": {
             "colorbar": {
              "outlinewidth": 0,
              "ticks": ""
             }
            },
            "type": "parcoords"
           }
          ],
          "pie": [
           {
            "automargin": true,
            "type": "pie"
           }
          ],
          "scatter": [
           {
            "marker": {
             "colorbar": {
              "outlinewidth": 0,
              "ticks": ""
             }
            },
            "type": "scatter"
           }
          ],
          "scatter3d": [
           {
            "line": {
             "colorbar": {
              "outlinewidth": 0,
              "ticks": ""
             }
            },
            "marker": {
             "colorbar": {
              "outlinewidth": 0,
              "ticks": ""
             }
            },
            "type": "scatter3d"
           }
          ],
          "scattercarpet": [
           {
            "marker": {
             "colorbar": {
              "outlinewidth": 0,
              "ticks": ""
             }
            },
            "type": "scattercarpet"
           }
          ],
          "scattergeo": [
           {
            "marker": {
             "colorbar": {
              "outlinewidth": 0,
              "ticks": ""
             }
            },
            "type": "scattergeo"
           }
          ],
          "scattergl": [
           {
            "marker": {
             "colorbar": {
              "outlinewidth": 0,
              "ticks": ""
             }
            },
            "type": "scattergl"
           }
          ],
          "scattermapbox": [
           {
            "marker": {
             "colorbar": {
              "outlinewidth": 0,
              "ticks": ""
             }
            },
            "type": "scattermapbox"
           }
          ],
          "scatterpolar": [
           {
            "marker": {
             "colorbar": {
              "outlinewidth": 0,
              "ticks": ""
             }
            },
            "type": "scatterpolar"
           }
          ],
          "scatterpolargl": [
           {
            "marker": {
             "colorbar": {
              "outlinewidth": 0,
              "ticks": ""
             }
            },
            "type": "scatterpolargl"
           }
          ],
          "scatterternary": [
           {
            "marker": {
             "colorbar": {
              "outlinewidth": 0,
              "ticks": ""
             }
            },
            "type": "scatterternary"
           }
          ],
          "surface": [
           {
            "colorbar": {
             "outlinewidth": 0,
             "ticks": ""
            },
            "colorscale": [
             [
              0,
              "#0d0887"
             ],
             [
              0.1111111111111111,
              "#46039f"
             ],
             [
              0.2222222222222222,
              "#7201a8"
             ],
             [
              0.3333333333333333,
              "#9c179e"
             ],
             [
              0.4444444444444444,
              "#bd3786"
             ],
             [
              0.5555555555555556,
              "#d8576b"
             ],
             [
              0.6666666666666666,
              "#ed7953"
             ],
             [
              0.7777777777777778,
              "#fb9f3a"
             ],
             [
              0.8888888888888888,
              "#fdca26"
             ],
             [
              1,
              "#f0f921"
             ]
            ],
            "type": "surface"
           }
          ],
          "table": [
           {
            "cells": {
             "fill": {
              "color": "#EBF0F8"
             },
             "line": {
              "color": "white"
             }
            },
            "header": {
             "fill": {
              "color": "#C8D4E3"
             },
             "line": {
              "color": "white"
             }
            },
            "type": "table"
           }
          ]
         },
         "layout": {
          "annotationdefaults": {
           "arrowcolor": "#2a3f5f",
           "arrowhead": 0,
           "arrowwidth": 1
          },
          "coloraxis": {
           "colorbar": {
            "outlinewidth": 0,
            "ticks": ""
           }
          },
          "colorscale": {
           "diverging": [
            [
             0,
             "#8e0152"
            ],
            [
             0.1,
             "#c51b7d"
            ],
            [
             0.2,
             "#de77ae"
            ],
            [
             0.3,
             "#f1b6da"
            ],
            [
             0.4,
             "#fde0ef"
            ],
            [
             0.5,
             "#f7f7f7"
            ],
            [
             0.6,
             "#e6f5d0"
            ],
            [
             0.7,
             "#b8e186"
            ],
            [
             0.8,
             "#7fbc41"
            ],
            [
             0.9,
             "#4d9221"
            ],
            [
             1,
             "#276419"
            ]
           ],
           "sequential": [
            [
             0,
             "#0d0887"
            ],
            [
             0.1111111111111111,
             "#46039f"
            ],
            [
             0.2222222222222222,
             "#7201a8"
            ],
            [
             0.3333333333333333,
             "#9c179e"
            ],
            [
             0.4444444444444444,
             "#bd3786"
            ],
            [
             0.5555555555555556,
             "#d8576b"
            ],
            [
             0.6666666666666666,
             "#ed7953"
            ],
            [
             0.7777777777777778,
             "#fb9f3a"
            ],
            [
             0.8888888888888888,
             "#fdca26"
            ],
            [
             1,
             "#f0f921"
            ]
           ],
           "sequentialminus": [
            [
             0,
             "#0d0887"
            ],
            [
             0.1111111111111111,
             "#46039f"
            ],
            [
             0.2222222222222222,
             "#7201a8"
            ],
            [
             0.3333333333333333,
             "#9c179e"
            ],
            [
             0.4444444444444444,
             "#bd3786"
            ],
            [
             0.5555555555555556,
             "#d8576b"
            ],
            [
             0.6666666666666666,
             "#ed7953"
            ],
            [
             0.7777777777777778,
             "#fb9f3a"
            ],
            [
             0.8888888888888888,
             "#fdca26"
            ],
            [
             1,
             "#f0f921"
            ]
           ]
          },
          "colorway": [
           "#636efa",
           "#EF553B",
           "#00cc96",
           "#ab63fa",
           "#FFA15A",
           "#19d3f3",
           "#FF6692",
           "#B6E880",
           "#FF97FF",
           "#FECB52"
          ],
          "font": {
           "color": "#2a3f5f"
          },
          "geo": {
           "bgcolor": "white",
           "lakecolor": "white",
           "landcolor": "#E5ECF6",
           "showlakes": true,
           "showland": true,
           "subunitcolor": "white"
          },
          "hoverlabel": {
           "align": "left"
          },
          "hovermode": "closest",
          "mapbox": {
           "style": "light"
          },
          "paper_bgcolor": "white",
          "plot_bgcolor": "#E5ECF6",
          "polar": {
           "angularaxis": {
            "gridcolor": "white",
            "linecolor": "white",
            "ticks": ""
           },
           "bgcolor": "#E5ECF6",
           "radialaxis": {
            "gridcolor": "white",
            "linecolor": "white",
            "ticks": ""
           }
          },
          "scene": {
           "xaxis": {
            "backgroundcolor": "#E5ECF6",
            "gridcolor": "white",
            "gridwidth": 2,
            "linecolor": "white",
            "showbackground": true,
            "ticks": "",
            "zerolinecolor": "white"
           },
           "yaxis": {
            "backgroundcolor": "#E5ECF6",
            "gridcolor": "white",
            "gridwidth": 2,
            "linecolor": "white",
            "showbackground": true,
            "ticks": "",
            "zerolinecolor": "white"
           },
           "zaxis": {
            "backgroundcolor": "#E5ECF6",
            "gridcolor": "white",
            "gridwidth": 2,
            "linecolor": "white",
            "showbackground": true,
            "ticks": "",
            "zerolinecolor": "white"
           }
          },
          "shapedefaults": {
           "line": {
            "color": "#2a3f5f"
           }
          },
          "ternary": {
           "aaxis": {
            "gridcolor": "white",
            "linecolor": "white",
            "ticks": ""
           },
           "baxis": {
            "gridcolor": "white",
            "linecolor": "white",
            "ticks": ""
           },
           "bgcolor": "#E5ECF6",
           "caxis": {
            "gridcolor": "white",
            "linecolor": "white",
            "ticks": ""
           }
          },
          "title": {
           "x": 0.05
          },
          "xaxis": {
           "automargin": true,
           "gridcolor": "white",
           "linecolor": "white",
           "ticks": "",
           "title": {
            "standoff": 15
           },
           "zerolinecolor": "white",
           "zerolinewidth": 2
          },
          "yaxis": {
           "automargin": true,
           "gridcolor": "white",
           "linecolor": "white",
           "ticks": "",
           "title": {
            "standoff": 15
           },
           "zerolinecolor": "white",
           "zerolinewidth": 2
          }
         }
        },
        "title": {
         "text": "Multi-Path Effect"
        },
        "xaxis": {
         "title": {
          "text": "Range (m)"
         }
        },
        "yaxis": {
         "title": {
          "text": "Amplitude (dB)"
         }
        }
       }
      },
      "text/html": [
       "<div>\n",
       "        \n",
       "        \n",
       "            <div id=\"3eb0b99a-f0e7-4b60-b2a7-cade0516dfca\" class=\"plotly-graph-div\" style=\"height:525px; width:100%;\"></div>\n",
       "            <script type=\"text/javascript\">\n",
       "                require([\"plotly\"], function(Plotly) {\n",
       "                    window.PLOTLYENV=window.PLOTLYENV || {};\n",
       "                    \n",
       "                if (document.getElementById(\"3eb0b99a-f0e7-4b60-b2a7-cade0516dfca\")) {\n",
       "                    Plotly.newPlot(\n",
       "                        '3eb0b99a-f0e7-4b60-b2a7-cade0516dfca',\n",
       "                        [{\"name\": \"CR with Ground\", \"type\": \"scatter\", \"x\": [30.0, 30.25, 30.5, 30.75, 31.0, 31.25, 31.5, 31.75, 32.0, 32.25, 32.5, 32.75, 33.0, 33.25, 33.5, 33.75, 34.0, 34.25, 34.5, 34.75, 35.0, 35.25, 35.5, 35.75, 36.0, 36.25, 36.5, 36.75, 37.0, 37.25, 37.5, 37.75, 38.0, 38.25, 38.5, 38.75, 39.0, 39.25, 39.5, 39.75, 40.0, 40.25, 40.5, 40.75, 41.0, 41.25, 41.5, 41.75, 42.0, 42.25, 42.5, 42.75, 43.0, 43.25, 43.5, 43.75, 44.0, 44.25, 44.5, 44.75, 45.0, 45.25, 45.5, 45.75, 46.0, 46.25, 46.5, 46.75, 47.0, 47.25, 47.5, 47.75, 48.0, 48.25, 48.5, 48.75, 49.0, 49.25, 49.5, 49.75, 50.0, 50.25, 50.5, 50.75, 51.0, 51.25, 51.5, 51.75, 52.0, 52.25, 52.5, 52.75, 53.0, 53.25, 53.5, 53.75, 54.0, 54.25, 54.5, 54.75, 55.0, 55.25, 55.5, 55.75, 56.0, 56.25, 56.5, 56.75, 57.0, 57.25, 57.5, 57.75, 58.0, 58.25, 58.5, 58.75, 59.0, 59.25, 59.5, 59.75], \"y\": [24.688243185354658, 25.573016282096077, 17.103850506758864, 17.645509213587964, 25.006607569867036, 23.877690728294013, 11.008738031255604, 20.367927317405673, 24.458306205585814, 22.109578566067263, 10.135865729870353, 19.59386566163173, 24.339309042491436, 23.340585130770304, 15.207023777681643, 13.619653285530864, 22.16131049475574, 23.75708363454519, 20.443983898355064, 0.2275783032488414, 18.187954956319583, 21.689023811133747, 22.367502062193303, 18.46496612323471, -5.8093051032158405, 18.497311970573282, 21.894684615256367, 21.00112523479741, 18.62335513693594, 5.804480762807418, 15.314758421450183, 20.896255017569803, 21.32116043788018, 19.775099094304082, 14.905167142225931, 0.2649842051514074, 16.841987688948354, 20.795932310051892, 20.917910424955135, 18.839167655411657, 13.792229080961624, -3.8035024758506184, 14.89167011790363, 19.782177726467534, 19.906116087296976, 19.06331625498318, 16.10924533257375, 8.988118937379767, 7.430829970074409, 16.051816513869714, 18.87649830394481, 19.320852143008874, 19.112218956279968, 16.266178984227533, 8.967725518753646, 1.799403074607616, 13.74307314845029, 16.43675297336332, 19.00298211179248, 18.80811430952735, 17.577359668454843, 13.760542370939739, 3.63596877037201, 4.848567185925683, 13.490017082799675, 17.240578482417128, 18.298495257136832, 18.39432171041607, 16.766970551725947, 13.229064707446707, 7.4094818358978545, -5.6575385405261525, 9.953544967779651, 14.821981614858643, 16.3544481507143, 16.639722250140533, 17.667240758310243, 16.299517491089578, 13.882910552948944, 8.852568868835771, -4.291449818758572, 4.020338339094504, 11.00771984249774, 14.756184633559688, 16.483412184018242, 17.13525792266269, 15.871526180148415, 14.750297870600434, 13.050710127287772, 9.349621782427784, 1.3340136638960653, -2.8142038366163162, 8.527691130096114, 11.677940167887115, 14.744109799047436, 16.090063003172897, 16.409372410981927, 15.813157211820432, 14.45915643300291, 11.65570323705376, 9.089676016469527, 3.459871360555958, -5.099998141843566, 5.410887046524157, 9.598656872967263, 11.625160052939199, 13.372767068797165, 15.191097116987859, 15.154909538215017, 15.28714103278296, 13.612494054856363, 11.271760708240441, 9.544482636925336, 6.3071538671098875, -3.0881133210774756, -6.309039709526906, 4.889789203873161, 7.680895880448533, 10.992508733309162, 12.967108376520864]}, {\"name\": \"CR without Ground\", \"type\": \"scatter\", \"x\": [30.0, 30.25, 30.5, 30.75, 31.0, 31.25, 31.5, 31.75, 32.0, 32.25, 32.5, 32.75, 33.0, 33.25, 33.5, 33.75, 34.0, 34.25, 34.5, 34.75, 35.0, 35.25, 35.5, 35.75, 36.0, 36.25, 36.5, 36.75, 37.0, 37.25, 37.5, 37.75, 38.0, 38.25, 38.5, 38.75, 39.0, 39.25, 39.5, 39.75, 40.0, 40.25, 40.5, 40.75, 41.0, 41.25, 41.5, 41.75, 42.0, 42.25, 42.5, 42.75, 43.0, 43.25, 43.5, 43.75, 44.0, 44.25, 44.5, 44.75, 45.0, 45.25, 45.5, 45.75, 46.0, 46.25, 46.5, 46.75, 47.0, 47.25, 47.5, 47.75, 48.0, 48.25, 48.5, 48.75, 49.0, 49.25, 49.5, 49.75, 50.0, 50.25, 50.5, 50.75, 51.0, 51.25, 51.5, 51.75, 52.0, 52.25, 52.5, 52.75, 53.0, 53.25, 53.5, 53.75, 54.0, 54.25, 54.5, 54.75, 55.0, 55.25, 55.5, 55.75, 56.0, 56.25, 56.5, 56.75, 57.0, 57.25, 57.5, 57.75, 58.0, 58.25, 58.5, 58.75, 59.0, 59.25, 59.5, 59.75], \"y\": [20.327693750011477, 19.889012591279045, 19.40210317681931, 18.953524983169732, 19.424532738513808, 19.42661227994326, 19.581014109760208, 19.40430572679248, 18.44700167767694, 17.826870771842643, 18.51031938273449, 19.21579427497305, 18.710621678151497, 18.40969129642126, 17.990724153984146, 16.735712664066675, 17.85570982005971, 18.16767379587696, 18.670432536143615, 17.58612982127238, 17.021124280512307, 16.395479300617318, 16.935687128209544, 17.127393536859216, 17.455719503245145, 17.161680377611088, 16.775296356453325, 15.199040683200312, 16.27714204753142, 16.61180604393181, 16.471564150783855, 16.378599828760994, 15.56623000026741, 15.149083864444608, 15.35703599000726, 15.473758880858298, 15.974978776246267, 15.823474376659535, 15.386758816427783, 14.452659407680153, 14.994016975629256, 14.851531554612256, 15.327584453588381, 15.267468452819921, 14.275778401222412, 13.082755368850982, 14.418753962169061, 14.72471598958256, 14.317923573740432, 13.880972312673496, 14.034636499847712, 12.713851333966774, 13.57443641973974, 14.19080644416036, 14.229815635008139, 13.434883529795773, 13.010890408361032, 11.968476748901013, 12.515688886280245, 13.686563693231001, 13.306942079695235, 13.282281737108455, 12.49722837244483, 12.006215223105148, 12.247741307240474, 12.822418559617246, 12.664044391537264, 12.731280967237899, 12.011479622718353, 11.030159223910832, 11.584628845657319, 12.322228624132993, 12.295885227275853, 12.43728252752659, 11.97681911450256, 10.944067938470033, 11.37169169698986, 11.282037214562468, 11.545796090711304, 11.845181466062954, 11.075712698119524, 10.707929400833304, 10.849304481263617, 11.686684317414562, 11.39558153776002, 10.714578334564472, 10.846688100061765, 9.437984170395081, 10.569782383634683, 10.81639918908774, 9.731234539200015, 10.24784064284547, 9.286878591232282, 8.871099890439675, 10.020185501205077, 10.295113765110004, 10.484059650829956, 10.422294080405802, 9.121321079380563, 8.220027026655373, 9.496458946308719, 9.604761808069664, 10.200109017131599, 9.618772784797006, 8.798151722990575, 7.8160548438505355, 8.251720597976362, 8.579018215086348, 9.722340395996355, 9.782263108271392, 8.942893771377808, 7.560702497533477, 8.325148358019522, 8.934067025054715, 8.299876104390119, 8.689346435691762, 8.83658485885532, 7.899687915718518, 8.842271598947871, 7.685832519406908]}],\n",
       "                        {\"template\": {\"data\": {\"bar\": [{\"error_x\": {\"color\": \"#2a3f5f\"}, \"error_y\": {\"color\": \"#2a3f5f\"}, \"marker\": {\"line\": {\"color\": \"#E5ECF6\", \"width\": 0.5}}, \"type\": \"bar\"}], \"barpolar\": [{\"marker\": {\"line\": {\"color\": \"#E5ECF6\", \"width\": 0.5}}, \"type\": \"barpolar\"}], \"carpet\": [{\"aaxis\": {\"endlinecolor\": \"#2a3f5f\", \"gridcolor\": \"white\", \"linecolor\": \"white\", \"minorgridcolor\": \"white\", \"startlinecolor\": \"#2a3f5f\"}, \"baxis\": {\"endlinecolor\": \"#2a3f5f\", \"gridcolor\": \"white\", \"linecolor\": \"white\", \"minorgridcolor\": \"white\", \"startlinecolor\": \"#2a3f5f\"}, \"type\": \"carpet\"}], \"choropleth\": [{\"colorbar\": {\"outlinewidth\": 0, \"ticks\": \"\"}, \"type\": \"choropleth\"}], \"contour\": [{\"colorbar\": {\"outlinewidth\": 0, \"ticks\": \"\"}, \"colorscale\": [[0.0, \"#0d0887\"], [0.1111111111111111, \"#46039f\"], [0.2222222222222222, \"#7201a8\"], [0.3333333333333333, \"#9c179e\"], [0.4444444444444444, \"#bd3786\"], [0.5555555555555556, \"#d8576b\"], [0.6666666666666666, \"#ed7953\"], [0.7777777777777778, \"#fb9f3a\"], [0.8888888888888888, \"#fdca26\"], [1.0, \"#f0f921\"]], \"type\": \"contour\"}], \"contourcarpet\": [{\"colorbar\": {\"outlinewidth\": 0, \"ticks\": \"\"}, \"type\": \"contourcarpet\"}], \"heatmap\": [{\"colorbar\": {\"outlinewidth\": 0, \"ticks\": \"\"}, \"colorscale\": [[0.0, \"#0d0887\"], [0.1111111111111111, \"#46039f\"], [0.2222222222222222, \"#7201a8\"], [0.3333333333333333, \"#9c179e\"], [0.4444444444444444, \"#bd3786\"], [0.5555555555555556, \"#d8576b\"], [0.6666666666666666, \"#ed7953\"], [0.7777777777777778, \"#fb9f3a\"], [0.8888888888888888, \"#fdca26\"], [1.0, \"#f0f921\"]], \"type\": \"heatmap\"}], \"heatmapgl\": [{\"colorbar\": {\"outlinewidth\": 0, \"ticks\": \"\"}, \"colorscale\": [[0.0, \"#0d0887\"], [0.1111111111111111, \"#46039f\"], [0.2222222222222222, \"#7201a8\"], [0.3333333333333333, \"#9c179e\"], [0.4444444444444444, \"#bd3786\"], [0.5555555555555556, \"#d8576b\"], [0.6666666666666666, \"#ed7953\"], [0.7777777777777778, \"#fb9f3a\"], [0.8888888888888888, \"#fdca26\"], [1.0, \"#f0f921\"]], \"type\": \"heatmapgl\"}], \"histogram\": [{\"marker\": {\"colorbar\": {\"outlinewidth\": 0, \"ticks\": \"\"}}, \"type\": \"histogram\"}], \"histogram2d\": [{\"colorbar\": {\"outlinewidth\": 0, \"ticks\": \"\"}, \"colorscale\": [[0.0, \"#0d0887\"], [0.1111111111111111, \"#46039f\"], [0.2222222222222222, \"#7201a8\"], [0.3333333333333333, \"#9c179e\"], [0.4444444444444444, \"#bd3786\"], [0.5555555555555556, \"#d8576b\"], [0.6666666666666666, \"#ed7953\"], [0.7777777777777778, \"#fb9f3a\"], [0.8888888888888888, \"#fdca26\"], [1.0, \"#f0f921\"]], \"type\": \"histogram2d\"}], \"histogram2dcontour\": [{\"colorbar\": {\"outlinewidth\": 0, \"ticks\": \"\"}, \"colorscale\": [[0.0, \"#0d0887\"], [0.1111111111111111, \"#46039f\"], [0.2222222222222222, \"#7201a8\"], [0.3333333333333333, \"#9c179e\"], [0.4444444444444444, \"#bd3786\"], [0.5555555555555556, \"#d8576b\"], [0.6666666666666666, \"#ed7953\"], [0.7777777777777778, \"#fb9f3a\"], [0.8888888888888888, \"#fdca26\"], [1.0, \"#f0f921\"]], \"type\": \"histogram2dcontour\"}], \"mesh3d\": [{\"colorbar\": {\"outlinewidth\": 0, \"ticks\": \"\"}, \"type\": \"mesh3d\"}], \"parcoords\": [{\"line\": {\"colorbar\": {\"outlinewidth\": 0, \"ticks\": \"\"}}, \"type\": \"parcoords\"}], \"pie\": [{\"automargin\": true, \"type\": \"pie\"}], \"scatter\": [{\"marker\": {\"colorbar\": {\"outlinewidth\": 0, \"ticks\": \"\"}}, \"type\": \"scatter\"}], \"scatter3d\": [{\"line\": {\"colorbar\": {\"outlinewidth\": 0, \"ticks\": \"\"}}, \"marker\": {\"colorbar\": {\"outlinewidth\": 0, \"ticks\": \"\"}}, \"type\": \"scatter3d\"}], \"scattercarpet\": [{\"marker\": {\"colorbar\": {\"outlinewidth\": 0, \"ticks\": \"\"}}, \"type\": \"scattercarpet\"}], \"scattergeo\": [{\"marker\": {\"colorbar\": {\"outlinewidth\": 0, \"ticks\": \"\"}}, \"type\": \"scattergeo\"}], \"scattergl\": [{\"marker\": {\"colorbar\": {\"outlinewidth\": 0, \"ticks\": \"\"}}, \"type\": \"scattergl\"}], \"scattermapbox\": [{\"marker\": {\"colorbar\": {\"outlinewidth\": 0, \"ticks\": \"\"}}, \"type\": \"scattermapbox\"}], \"scatterpolar\": [{\"marker\": {\"colorbar\": {\"outlinewidth\": 0, \"ticks\": \"\"}}, \"type\": \"scatterpolar\"}], \"scatterpolargl\": [{\"marker\": {\"colorbar\": {\"outlinewidth\": 0, \"ticks\": \"\"}}, \"type\": \"scatterpolargl\"}], \"scatterternary\": [{\"marker\": {\"colorbar\": {\"outlinewidth\": 0, \"ticks\": \"\"}}, \"type\": \"scatterternary\"}], \"surface\": [{\"colorbar\": {\"outlinewidth\": 0, \"ticks\": \"\"}, \"colorscale\": [[0.0, \"#0d0887\"], [0.1111111111111111, \"#46039f\"], [0.2222222222222222, \"#7201a8\"], [0.3333333333333333, \"#9c179e\"], [0.4444444444444444, \"#bd3786\"], [0.5555555555555556, \"#d8576b\"], [0.6666666666666666, \"#ed7953\"], [0.7777777777777778, \"#fb9f3a\"], [0.8888888888888888, \"#fdca26\"], [1.0, \"#f0f921\"]], \"type\": \"surface\"}], \"table\": [{\"cells\": {\"fill\": {\"color\": \"#EBF0F8\"}, \"line\": {\"color\": \"white\"}}, \"header\": {\"fill\": {\"color\": \"#C8D4E3\"}, \"line\": {\"color\": \"white\"}}, \"type\": \"table\"}]}, \"layout\": {\"annotationdefaults\": {\"arrowcolor\": \"#2a3f5f\", \"arrowhead\": 0, \"arrowwidth\": 1}, \"coloraxis\": {\"colorbar\": {\"outlinewidth\": 0, \"ticks\": \"\"}}, \"colorscale\": {\"diverging\": [[0, \"#8e0152\"], [0.1, \"#c51b7d\"], [0.2, \"#de77ae\"], [0.3, \"#f1b6da\"], [0.4, \"#fde0ef\"], [0.5, \"#f7f7f7\"], [0.6, \"#e6f5d0\"], [0.7, \"#b8e186\"], [0.8, \"#7fbc41\"], [0.9, \"#4d9221\"], [1, \"#276419\"]], \"sequential\": [[0.0, \"#0d0887\"], [0.1111111111111111, \"#46039f\"], [0.2222222222222222, \"#7201a8\"], [0.3333333333333333, \"#9c179e\"], [0.4444444444444444, \"#bd3786\"], [0.5555555555555556, \"#d8576b\"], [0.6666666666666666, \"#ed7953\"], [0.7777777777777778, \"#fb9f3a\"], [0.8888888888888888, \"#fdca26\"], [1.0, \"#f0f921\"]], \"sequentialminus\": [[0.0, \"#0d0887\"], [0.1111111111111111, \"#46039f\"], [0.2222222222222222, \"#7201a8\"], [0.3333333333333333, \"#9c179e\"], [0.4444444444444444, \"#bd3786\"], [0.5555555555555556, \"#d8576b\"], [0.6666666666666666, \"#ed7953\"], [0.7777777777777778, \"#fb9f3a\"], [0.8888888888888888, \"#fdca26\"], [1.0, \"#f0f921\"]]}, \"colorway\": [\"#636efa\", \"#EF553B\", \"#00cc96\", \"#ab63fa\", \"#FFA15A\", \"#19d3f3\", \"#FF6692\", \"#B6E880\", \"#FF97FF\", \"#FECB52\"], \"font\": {\"color\": \"#2a3f5f\"}, \"geo\": {\"bgcolor\": \"white\", \"lakecolor\": \"white\", \"landcolor\": \"#E5ECF6\", \"showlakes\": true, \"showland\": true, \"subunitcolor\": \"white\"}, \"hoverlabel\": {\"align\": \"left\"}, \"hovermode\": \"closest\", \"mapbox\": {\"style\": \"light\"}, \"paper_bgcolor\": \"white\", \"plot_bgcolor\": \"#E5ECF6\", \"polar\": {\"angularaxis\": {\"gridcolor\": \"white\", \"linecolor\": \"white\", \"ticks\": \"\"}, \"bgcolor\": \"#E5ECF6\", \"radialaxis\": {\"gridcolor\": \"white\", \"linecolor\": \"white\", \"ticks\": \"\"}}, \"scene\": {\"xaxis\": {\"backgroundcolor\": \"#E5ECF6\", \"gridcolor\": \"white\", \"gridwidth\": 2, \"linecolor\": \"white\", \"showbackground\": true, \"ticks\": \"\", \"zerolinecolor\": \"white\"}, \"yaxis\": {\"backgroundcolor\": \"#E5ECF6\", \"gridcolor\": \"white\", \"gridwidth\": 2, \"linecolor\": \"white\", \"showbackground\": true, \"ticks\": \"\", \"zerolinecolor\": \"white\"}, \"zaxis\": {\"backgroundcolor\": \"#E5ECF6\", \"gridcolor\": \"white\", \"gridwidth\": 2, \"linecolor\": \"white\", \"showbackground\": true, \"ticks\": \"\", \"zerolinecolor\": \"white\"}}, \"shapedefaults\": {\"line\": {\"color\": \"#2a3f5f\"}}, \"ternary\": {\"aaxis\": {\"gridcolor\": \"white\", \"linecolor\": \"white\", \"ticks\": \"\"}, \"baxis\": {\"gridcolor\": \"white\", \"linecolor\": \"white\", \"ticks\": \"\"}, \"bgcolor\": \"#E5ECF6\", \"caxis\": {\"gridcolor\": \"white\", \"linecolor\": \"white\", \"ticks\": \"\"}}, \"title\": {\"x\": 0.05}, \"xaxis\": {\"automargin\": true, \"gridcolor\": \"white\", \"linecolor\": \"white\", \"ticks\": \"\", \"title\": {\"standoff\": 15}, \"zerolinecolor\": \"white\", \"zerolinewidth\": 2}, \"yaxis\": {\"automargin\": true, \"gridcolor\": \"white\", \"linecolor\": \"white\", \"ticks\": \"\", \"title\": {\"standoff\": 15}, \"zerolinecolor\": \"white\", \"zerolinewidth\": 2}}}, \"title\": {\"text\": \"Multi-Path Effect\"}, \"xaxis\": {\"title\": {\"text\": \"Range (m)\"}}, \"yaxis\": {\"title\": {\"text\": \"Amplitude (dB)\"}}},\n",
       "                        {\"responsive\": true}\n",
       "                    ).then(function(){\n",
       "                            \n",
       "var gd = document.getElementById('3eb0b99a-f0e7-4b60-b2a7-cade0516dfca');\n",
       "var x = new MutationObserver(function (mutations, observer) {{\n",
       "        var display = window.getComputedStyle(gd).display;\n",
       "        if (!display || display === 'none') {{\n",
       "            console.log([gd, 'removed!']);\n",
       "            Plotly.purge(gd);\n",
       "            observer.disconnect();\n",
       "        }}\n",
       "}});\n",
       "\n",
       "// Listen for the removal of the full notebook cells\n",
       "var notebookContainer = gd.closest('#notebook-container');\n",
       "if (notebookContainer) {{\n",
       "    x.observe(notebookContainer, {childList: true});\n",
       "}}\n",
       "\n",
       "// Listen for the clearing of the current output cell\n",
       "var outputEl = gd.closest('.output');\n",
       "if (outputEl) {{\n",
       "    x.observe(outputEl, {childList: true});\n",
       "}}\n",
       "\n",
       "                        })\n",
       "                };\n",
       "                });\n",
       "            </script>\n",
       "        </div>"
      ]
     },
     "metadata": {},
     "output_type": "display_data"
    }
   ],
   "source": [
    "import plotly.graph_objs as go\n",
    "from plotly.offline import iplot\n",
    "\n",
    "p_multi = go.Scatter(x=t_range, y=20*np.log10(amp_multi),\n",
    "                     name='CR with Ground')\n",
    "p_single = go.Scatter(x=t_range, y=20*np.log10(amp_single),\n",
    "                      name='CR without Ground')\n",
    "\n",
    "layout = go.Layout(\n",
    "    title='Multi-Path Effect',\n",
    "    yaxis=dict(title='Amplitude (dB)'),\n",
    "    xaxis=dict(title='Range (m)'),\n",
    ")\n",
    "fig = go.Figure(data=[p_multi, p_single], layout=layout)\n",
    "iplot(fig)"
   ]
  }
 ],
 "metadata": {
  "kernelspec": {
   "display_name": "Python 3",
   "language": "python",
   "name": "python3"
  },
  "language_info": {
   "codemirror_mode": {
    "name": "ipython",
    "version": 3
   },
   "file_extension": ".py",
   "mimetype": "text/x-python",
   "name": "python",
   "nbconvert_exporter": "python",
   "pygments_lexer": "ipython3",
   "version": "3.8.1"
  },
  "varInspector": {
   "cols": {
    "lenName": 16,
    "lenType": 16,
    "lenVar": 40
   },
   "kernels_config": {
    "python": {
     "delete_cmd_postfix": "",
     "delete_cmd_prefix": "del ",
     "library": "var_list.py",
     "varRefreshCmd": "print(var_dic_list())"
    },
    "r": {
     "delete_cmd_postfix": ") ",
     "delete_cmd_prefix": "rm(",
     "library": "var_list.r",
     "varRefreshCmd": "cat(var_dic_list()) "
    }
   },
   "types_to_exclude": [
    "module",
    "function",
    "builtin_function_or_method",
    "instance",
    "_Feature"
   ],
   "window_display": false
  }
 },
 "nbformat": 4,
 "nbformat_minor": 2
}
