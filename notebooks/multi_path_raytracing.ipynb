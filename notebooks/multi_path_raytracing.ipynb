{
 "cells": [
  {
   "cell_type": "markdown",
   "metadata": {},
   "source": [
    "# Multi-Path Effect with Raytracing\n",
    "\n",
    "This is an example of using `RadarSimPy` to simulate an FMCW radar with a corner reflector model above the ground surface. Ray-Tracing/Shoot-and-Bounce-Rays method is used in `RadarSimPy`. The ray-tracing engine `RadarSimC`, which is built with C++, is integrated in RadarSimPy.\n",
    "\n",
    ">`RadarSimPy` is a radar simulation package built with python. **<a href=\"https://zpeng.me/#contact\" target=\"_blank\">Contact me</a> if you are interested in this module.**\n",
    "\n",
    "This notebook is available on my <a href=\"https://github.com/rookiepeng/radar-simulation-notebooks\" target=\"_blank\">GitHub</a>.\n",
    "\n",
    "---\n",
    "\n",
    "## Setup FMCW radar\n",
    "\n",
    "### Transmitter\n",
    "\n",
    "The following table lists the basic parameters of the radar transmitter.\n",
    "\n",
    " | Parameter                       | Variable in `RadarSimPy` | Value      |\n",
    " |---------------------------------|--------------------------|------------|\n",
    " | Center frequency ($f_c$)        | fc                       | 77 GHz     |\n",
    " | Bandwidth ($B$)                 | bandwidth                | 100 MHz    |\n",
    " | Transmitted power ($P_t$)       | tx_power                 | 10 dBm     |\n",
    " | Rising or falling chirp         | slop_type                | rising     |\n",
    " | Chirp repetition period ($CRP$) | repetition_period        | 100 us     |\n",
    " | Chirp length ($T$)              | pulse_length             | 80 us      |\n",
    " | Number of chirps                | pulses                   | 256        |\n",
    " | Chirp start delay               | delay                    | 0 s        |\n",
    " \n",
    "### Receiver\n",
    " The parameters of the receiver are listed in the table below.\n",
    "\n",
    " | Parameter                        | Variable in `RadarSimPy` | Value        |\n",
    " |----------------------------------|--------------------------|--------------|\n",
    " | Sampling rate ($f_s$)            | fs                       | 2 Msps       |\n",
    " | Noise figure ($NF$)              | noise_figure             | 12 dB        |\n",
    " | RF gain/loss ($G_{rf}$)          | rf_gain                  | 20 dB        |\n",
    " | Load resistor ($R_L$)            | load_resistor            | 500 $\\Omega$ |\n",
    " | Baseband voltage gain ($G_{BB}$) | baseband_gain            | 30 dB        |\n"
   ]
  },
  {
   "cell_type": "code",
   "execution_count": 1,
   "metadata": {},
   "outputs": [],
   "source": [
    "import numpy as np\n",
    "from radarsimpy import Radar, Transmitter, Receiver\n",
    "\n",
    "angle = np.arange(-90, 91, 1)\n",
    "pattern = 20 * np.log10(np.cos(angle / 180 * np.pi) + 0.01)\n",
    "\n",
    "tx_channel = dict(\n",
    "    location=(0, 0, 0),\n",
    "    azimuth_angle=angle,\n",
    "    azimuth_pattern=pattern,\n",
    "    elevation_angle=angle,\n",
    "    elevation_pattern=pattern,\n",
    ")\n",
    "\n",
    "tx = Transmitter(f=[77e9-50e6, 77e9+50e6],\n",
    "                 t=80e-6,\n",
    "                 tx_power=15,\n",
    "                 prp=100e-6,\n",
    "                 pulses=256,\n",
    "                 channels=[tx_channel])\n",
    "\n",
    "rx_channel = dict(\n",
    "    location=(0, 0, 0),\n",
    "    azimuth_angle=angle,\n",
    "    azimuth_pattern=pattern,\n",
    "    elevation_angle=angle,\n",
    "    elevation_pattern=pattern,\n",
    ")\n",
    "\n",
    "rx = Receiver(fs=2e6,\n",
    "              noise_figure=8,\n",
    "              rf_gain=20,\n",
    "              load_resistor=500,\n",
    "              baseband_gain=30,\n",
    "              channels=[rx_channel])\n",
    "\n",
    "aperture = dict(\n",
    "    phi=0,\n",
    "    theta=90,\n",
    "    location=[0, 0, 0],\n",
    "    extension=[0.25, 0.25, 0.25, 0.25]\n",
    ")\n",
    "\n",
    "radar = Radar(transmitter=tx, receiver=rx,\n",
    "              aperture=aperture, time=np.arange(0, 6, 0.05))"
   ]
  },
  {
   "cell_type": "markdown",
   "metadata": {},
   "source": [
    "## Case 1: A corner reflector with ground surface"
   ]
  },
  {
   "cell_type": "code",
   "execution_count": 2,
   "metadata": {},
   "outputs": [],
   "source": [
    "from radarsimpy.rt import scene\n",
    "from scipy import signal\n",
    "import radarsimpy.processing as proc\n",
    "\n",
    "target_1 = {\n",
    "    'model': '../models/cr.stl',\n",
    "    'location': (30, 0, 0),\n",
    "    'speed': (5, 0, 0)\n",
    "}\n",
    "\n",
    "target_2 = {\n",
    "    'model': '../models/surface_400x400.stl',\n",
    "    'location': (0, 0, -1),\n",
    "    'speed': (0, 0, 0),\n",
    "    'is_ground': True\n",
    "}\n",
    "targets = [target_1, target_2]\n",
    "\n",
    "data = scene(radar, targets, correction=-42, density=0.5)\n",
    "baseband = data['baseband']\n",
    "\n",
    "range_window = signal.chebwin(radar.samples_per_pulse, at=60)\n",
    "range_profile = proc.cal_range_profile(radar, baseband, range_window)\n",
    "\n",
    "doppler_window = signal.chebwin(radar.transmitter.pulses, at=60)\n",
    "range_doppler = proc.cal_range_doppler(\n",
    "    radar, range_profile, doppler_window, fft_shift=False)\n",
    "\n",
    "amp_multi = np.max(np.max(np.abs(range_doppler), axis=1), axis=1)"
   ]
  },
  {
   "cell_type": "markdown",
   "metadata": {},
   "source": [
    "## Case 2: A corner reflector without ground surface"
   ]
  },
  {
   "cell_type": "code",
   "execution_count": 3,
   "metadata": {
    "scrolled": true
   },
   "outputs": [],
   "source": [
    "target_1 = {\n",
    "    'model': '../models/cr.stl',\n",
    "    'location': (30, 0, 0),\n",
    "    'speed': (5, 0, 0)\n",
    "}\n",
    "\n",
    "targets = [target_1]\n",
    "\n",
    "data = scene(radar, targets, correction=-42, density=0.5)\n",
    "baseband = data['baseband']\n",
    "range_window = signal.chebwin(radar.samples_per_pulse, at=60)\n",
    "range_profile = proc.cal_range_profile(radar, baseband, range_window)\n",
    "\n",
    "doppler_window = signal.chebwin(radar.transmitter.pulses, at=60)\n",
    "range_doppler = proc.cal_range_doppler(\n",
    "    radar, range_profile, doppler_window, fft_shift=False)\n",
    "\n",
    "amp_single = np.max(np.max(np.abs(range_doppler), axis=1), axis=1)"
   ]
  },
  {
   "cell_type": "markdown",
   "metadata": {},
   "source": [
    "## Results\n",
    "\n",
    "Duo to the multi-path:\n",
    "- Path 1: Tx -> Corner reflecor -> Rx\n",
    "- Path 2: Tx -> Ground -> Corner reflecor -> Ground -> Rx\n",
    "\n",
    "A fluctuation can be observed from the received target amplitude versus the target range. "
   ]
  },
  {
   "cell_type": "code",
   "execution_count": 4,
   "metadata": {},
   "outputs": [
    {
     "data": {
      "image/svg+xml": [
       "<svg xmlns=\"http://www.w3.org/2000/svg\" xmlns:xlink=\"http://www.w3.org/1999/xlink\" class=\"main-svg\" width=\"700\" height=\"500\" style=\"\" viewBox=\"0 0 700 500\"><rect x=\"0\" y=\"0\" width=\"700\" height=\"500\" style=\"fill: rgb(255, 255, 255); fill-opacity: 1;\"/><defs id=\"defs-d58d5f\"><g class=\"clips\"><clipPath id=\"clipd58d5fxyplot\" class=\"plotclip\"><rect width=\"439\" height=\"320\"/></clipPath><clipPath class=\"axesclip\" id=\"clipd58d5fx\"><rect x=\"80\" y=\"0\" width=\"439\" height=\"500\"/></clipPath><clipPath class=\"axesclip\" id=\"clipd58d5fy\"><rect x=\"0\" y=\"100\" width=\"700\" height=\"320\"/></clipPath><clipPath class=\"axesclip\" id=\"clipd58d5fxy\"><rect x=\"80\" y=\"100\" width=\"439\" height=\"320\"/></clipPath></g><g class=\"gradients\"/></defs><g class=\"bglayer\"><rect class=\"bg\" x=\"80\" y=\"100\" width=\"439\" height=\"320\" style=\"fill: rgb(229, 236, 246); fill-opacity: 1; stroke-width: 0;\"/></g><g class=\"layer-below\"><g class=\"imagelayer\"/><g class=\"shapelayer\"/></g><g class=\"cartesianlayer\"><g class=\"subplot xy\"><g class=\"layer-subplot\"><g class=\"shapelayer\"/><g class=\"imagelayer\"/></g><g class=\"gridlayer\"><g class=\"x\"><path class=\"xgrid crisp\" transform=\"translate(153.78,0)\" d=\"M0,100v320\" style=\"stroke: rgb(255, 255, 255); stroke-opacity: 1; stroke-width: 1px;\"/><path class=\"xgrid crisp\" transform=\"translate(227.56,0)\" d=\"M0,100v320\" style=\"stroke: rgb(255, 255, 255); stroke-opacity: 1; stroke-width: 1px;\"/><path class=\"xgrid crisp\" transform=\"translate(301.34000000000003,0)\" d=\"M0,100v320\" style=\"stroke: rgb(255, 255, 255); stroke-opacity: 1; stroke-width: 1px;\"/><path class=\"xgrid crisp\" transform=\"translate(375.13,0)\" d=\"M0,100v320\" style=\"stroke: rgb(255, 255, 255); stroke-opacity: 1; stroke-width: 1px;\"/><path class=\"xgrid crisp\" transform=\"translate(448.91,0)\" d=\"M0,100v320\" style=\"stroke: rgb(255, 255, 255); stroke-opacity: 1; stroke-width: 1px;\"/></g><g class=\"y\"><path class=\"ygrid crisp\" transform=\"translate(0,398.19)\" d=\"M80,0h439\" style=\"stroke: rgb(255, 255, 255); stroke-opacity: 1; stroke-width: 1px;\"/><path class=\"ygrid crisp\" transform=\"translate(0,304.24)\" d=\"M80,0h439\" style=\"stroke: rgb(255, 255, 255); stroke-opacity: 1; stroke-width: 1px;\"/><path class=\"ygrid crisp\" transform=\"translate(0,257.27)\" d=\"M80,0h439\" style=\"stroke: rgb(255, 255, 255); stroke-opacity: 1; stroke-width: 1px;\"/><path class=\"ygrid crisp\" transform=\"translate(0,210.3)\" d=\"M80,0h439\" style=\"stroke: rgb(255, 255, 255); stroke-opacity: 1; stroke-width: 1px;\"/><path class=\"ygrid crisp\" transform=\"translate(0,163.32)\" d=\"M80,0h439\" style=\"stroke: rgb(255, 255, 255); stroke-opacity: 1; stroke-width: 1px;\"/><path class=\"ygrid crisp\" transform=\"translate(0,116.35)\" d=\"M80,0h439\" style=\"stroke: rgb(255, 255, 255); stroke-opacity: 1; stroke-width: 1px;\"/></g></g><g class=\"zerolinelayer\"><path class=\"yzl zl crisp\" transform=\"translate(0,351.22)\" d=\"M80,0h439\" style=\"stroke: rgb(255, 255, 255); stroke-opacity: 1; stroke-width: 2px;\"/></g><path class=\"xlines-below\"/><path class=\"ylines-below\"/><g class=\"overlines-below\"/><g class=\"xaxislayer-below\"/><g class=\"yaxislayer-below\"/><g class=\"overaxes-below\"/><g class=\"plot\" transform=\"translate(80,100)\" clip-path=\"url('#clipd58d5fxyplot')\"><g class=\"scatterlayer mlayer\"><g class=\"trace scatter tracec44d03\" style=\"stroke-miterlimit: 2; opacity: 1;\"><g class=\"fills\"/><g class=\"errorbars\"/><g class=\"lines\"><path class=\"js-line\" d=\"M0,16L3.69,30.82L7.38,130.2L11.07,61.94L14.76,16.16L18.45,37.11L22.13,238.17L25.82,54.79L29.51,21.75L33.2,42.51L36.89,239.63L40.58,61.22L44.27,30.35L47.96,48.68L51.65,142.61L59.03,35.58L62.71,31.69L66.4,78.4L70.09,254.06L73.78,75.71L77.47,39.06L81.16,45.95L84.85,93.17L88.54,216.2L92.23,80.89L95.92,47.85L99.61,49.44L103.29,81.94L106.98,235.58L110.67,100.7L114.36,64.24L118.05,51.78L121.74,67.36L129.12,192.78L132.81,88.03L136.5,63.34L140.18,56.28L143.87,71.9L147.56,129.81L151.25,250.28L154.94,110.05L158.63,75.23L162.32,65.31L166.01,68.56L169.7,105.6L173.39,196.64L177.08,174.63L180.76,104.43L184.45,76.8L188.14,63.71L191.83,71.63L195.52,106.11L199.21,188.76L202.9,215.22L206.59,121.24L210.28,80.71L213.97,67.15L217.66,76.63L221.34,95.85L225.03,142.7L228.72,250.9L236.1,112.66L239.79,87.64L243.48,79.09L247.17,91.98L250.86,102.63L254.55,124.68L258.24,187.73L261.92,293.44L265.61,166.71L269.3,120.26L272.99,96.79L276.68,88.8L280.37,89.29L284.06,97.9L287.75,126.26L291.44,176.79L295.13,304L298.82,187.65L302.5,145.7L306.19,115.86L309.88,103.14L313.57,102.98L317.26,105.01L320.95,108.14L324.64,125.84L328.33,171.96L332.02,278.79L335.71,259.11L339.39,173.09L343.08,129.92L346.77,110.58L350.46,101.51L354.15,107.01L357.84,122.08L361.53,125.21L365.22,145.52L368.91,163.44L372.6,219.64L376.29,291.49L379.97,224.92L383.66,164.76L387.35,133.42L391.04,120.02L394.73,110.86L398.42,110.43L402.11,121.69L405.8,128.99L409.49,140.37L413.18,162.63L416.87,198.06L420.55,291.93L424.24,278.55L431.62,162.14L435.31,140.49L439,129.73\" style=\"vector-effect: non-scaling-stroke; fill: none; stroke: rgb(99, 110, 250); stroke-opacity: 1; stroke-width: 2px; opacity: 1;\"/></g><g class=\"points\"/><g class=\"text\"/></g><g class=\"trace scatter trace2bc708\" style=\"stroke-miterlimit: 2; opacity: 1;\"><g class=\"fills\"/><g class=\"errorbars\"/><g class=\"lines\"><path class=\"js-line\" d=\"M0,58.83L3.69,67.6L7.38,69.61L11.07,68.6L14.76,68.7L18.45,68.66L22.13,75.02L25.82,77.7L29.51,76.06L33.2,73.43L36.89,76.88L40.58,76.65L44.27,82.59L47.96,89.19L51.65,83.32L55.34,77.33L59.03,77.33L62.71,79.74L66.4,90.91L70.09,98.62L73.78,96.63L77.47,88.01L81.16,85.46L84.85,88.45L88.54,89.38L92.23,105.8L95.92,105.07L103.29,92.88L106.98,95.16L110.67,99.27L114.36,106.21L118.05,108.62L121.74,103.83L125.43,102.46L129.12,100L132.81,102.5L136.5,111.19L140.18,107.57L143.87,112.13L147.56,108.01L151.25,109.05L154.94,116.7L158.63,116.45L162.32,116.99L166.01,112.88L169.7,117.93L173.39,117.74L177.08,117.31L180.76,125.01L184.45,119.72L188.14,117.78L191.83,116.63L195.52,125.23L199.21,127.55L202.9,134L206.59,134.49L210.28,126.25L213.97,121.2L217.66,121.39L225.03,139.77L228.72,139.37L236.1,123.74L239.79,131.62L243.48,133.11L247.17,137L250.86,142.03L254.55,143.91L258.24,138.7L261.92,132.17L265.61,135.47L269.3,147.15L272.99,141.81L276.68,141.56L280.37,142.98L284.06,142.44L287.75,142.27L291.44,150.38L295.13,152.47L298.82,141.95L306.19,153.24L309.88,155.03L313.57,149.04L317.26,148.16L320.95,147.9L324.64,150.77L328.33,155.68L332.02,156.81L335.71,163.16L339.39,161.59L343.08,154.78L346.77,149.61L354.15,164.74L357.84,169.71L361.53,167.47L365.22,163.17L368.91,151.34L372.6,165.66L376.29,157.55L379.97,169.51L383.66,172.21L387.35,165.11L391.04,165.31L394.73,162.11L398.42,158.99L402.11,176.49L405.8,175.79L409.49,167.28L413.18,173.35L416.87,172.09L420.55,169.85L424.24,176.44L427.93,176.09L431.62,168.21L435.31,168.54L439,174.1\" style=\"vector-effect: non-scaling-stroke; fill: none; stroke: rgb(239, 85, 59); stroke-opacity: 1; stroke-width: 2px; opacity: 1;\"/></g><g class=\"points\"/><g class=\"text\"/></g></g></g><g class=\"overplot\"/><path class=\"xlines-above crisp\" d=\"M0,0\" style=\"fill: none;\"/><path class=\"ylines-above crisp\" d=\"M0,0\" style=\"fill: none;\"/><g class=\"overlines-above\"/><g class=\"xaxislayer-above\"><g class=\"xtick\"><text text-anchor=\"middle\" x=\"0\" y=\"433\" transform=\"translate(80,0)\" style=\"font-family: 'Open Sans', verdana, arial, sans-serif; font-size: 12px; fill: rgb(42, 63, 95); fill-opacity: 1; white-space: pre;\">30</text></g><g class=\"xtick\"><text text-anchor=\"middle\" x=\"0\" y=\"433\" transform=\"translate(153.78,0)\" style=\"font-family: 'Open Sans', verdana, arial, sans-serif; font-size: 12px; fill: rgb(42, 63, 95); fill-opacity: 1; white-space: pre;\">35</text></g><g class=\"xtick\"><text text-anchor=\"middle\" x=\"0\" y=\"433\" transform=\"translate(227.56,0)\" style=\"font-family: 'Open Sans', verdana, arial, sans-serif; font-size: 12px; fill: rgb(42, 63, 95); fill-opacity: 1; white-space: pre;\">40</text></g><g class=\"xtick\"><text text-anchor=\"middle\" x=\"0\" y=\"433\" transform=\"translate(301.34000000000003,0)\" style=\"font-family: 'Open Sans', verdana, arial, sans-serif; font-size: 12px; fill: rgb(42, 63, 95); fill-opacity: 1; white-space: pre;\">45</text></g><g class=\"xtick\"><text text-anchor=\"middle\" x=\"0\" y=\"433\" transform=\"translate(375.13,0)\" style=\"font-family: 'Open Sans', verdana, arial, sans-serif; font-size: 12px; fill: rgb(42, 63, 95); fill-opacity: 1; white-space: pre;\">50</text></g><g class=\"xtick\"><text text-anchor=\"middle\" x=\"0\" y=\"433\" transform=\"translate(448.91,0)\" style=\"font-family: 'Open Sans', verdana, arial, sans-serif; font-size: 12px; fill: rgb(42, 63, 95); fill-opacity: 1; white-space: pre;\">55</text></g></g><g class=\"yaxislayer-above\"><g class=\"ytick\"><text text-anchor=\"end\" x=\"79\" y=\"4.199999999999999\" transform=\"translate(0,398.19)\" style=\"font-family: 'Open Sans', verdana, arial, sans-serif; font-size: 12px; fill: rgb(42, 63, 95); fill-opacity: 1; white-space: pre;\">−5</text></g><g class=\"ytick\"><text text-anchor=\"end\" x=\"79\" y=\"4.199999999999999\" transform=\"translate(0,351.22)\" style=\"font-family: 'Open Sans', verdana, arial, sans-serif; font-size: 12px; fill: rgb(42, 63, 95); fill-opacity: 1; white-space: pre;\">0</text></g><g class=\"ytick\"><text text-anchor=\"end\" x=\"79\" y=\"4.199999999999999\" transform=\"translate(0,304.24)\" style=\"font-family: 'Open Sans', verdana, arial, sans-serif; font-size: 12px; fill: rgb(42, 63, 95); fill-opacity: 1; white-space: pre;\">5</text></g><g class=\"ytick\"><text text-anchor=\"end\" x=\"79\" y=\"4.199999999999999\" transform=\"translate(0,257.27)\" style=\"font-family: 'Open Sans', verdana, arial, sans-serif; font-size: 12px; fill: rgb(42, 63, 95); fill-opacity: 1; white-space: pre;\">10</text></g><g class=\"ytick\"><text text-anchor=\"end\" x=\"79\" y=\"4.199999999999999\" transform=\"translate(0,210.3)\" style=\"font-family: 'Open Sans', verdana, arial, sans-serif; font-size: 12px; fill: rgb(42, 63, 95); fill-opacity: 1; white-space: pre;\">15</text></g><g class=\"ytick\"><text text-anchor=\"end\" x=\"79\" y=\"4.199999999999999\" transform=\"translate(0,163.32)\" style=\"font-family: 'Open Sans', verdana, arial, sans-serif; font-size: 12px; fill: rgb(42, 63, 95); fill-opacity: 1; white-space: pre;\">20</text></g><g class=\"ytick\"><text text-anchor=\"end\" x=\"79\" y=\"4.199999999999999\" transform=\"translate(0,116.35)\" style=\"font-family: 'Open Sans', verdana, arial, sans-serif; font-size: 12px; fill: rgb(42, 63, 95); fill-opacity: 1; white-space: pre;\">25</text></g></g><g class=\"overaxes-above\"/></g></g><g class=\"polarlayer\"/><g class=\"ternarylayer\"/><g class=\"geolayer\"/><g class=\"funnelarealayer\"/><g class=\"pielayer\"/><g class=\"treemaplayer\"/><g class=\"sunburstlayer\"/><g class=\"glimages\"/><defs id=\"topdefs-d58d5f\"><g class=\"clips\"/><clipPath id=\"legendd58d5f\"><rect width=\"160\" height=\"48\" x=\"0\" y=\"0\"/></clipPath></defs><g class=\"layer-above\"><g class=\"imagelayer\"/><g class=\"shapelayer\"/></g><g class=\"infolayer\"><g class=\"legend\" pointer-events=\"all\" transform=\"translate(527.78,100)\"><rect class=\"bg\" shape-rendering=\"crispEdges\" style=\"stroke: rgb(68, 68, 68); stroke-opacity: 1; fill: rgb(255, 255, 255); fill-opacity: 1; stroke-width: 0px;\" width=\"160\" height=\"48\" x=\"0\" y=\"0\"/><g class=\"scrollbox\" transform=\"\" clip-path=\"url('#legendd58d5f')\"><g class=\"groups\"><g class=\"traces\" transform=\"translate(0,14.5)\" style=\"opacity: 1;\"><text class=\"legendtext\" text-anchor=\"start\" x=\"40\" y=\"4.680000000000001\" style=\"font-family: 'Open Sans', verdana, arial, sans-serif; font-size: 12px; fill: rgb(42, 63, 95); fill-opacity: 1; white-space: pre;\">CR with Ground</text><g class=\"layers\" style=\"opacity: 1;\"><g class=\"legendfill\"/><g class=\"legendlines\"><path class=\"js-line\" d=\"M5,0h30\" style=\"fill: none; stroke: rgb(99, 110, 250); stroke-opacity: 1; stroke-width: 2px;\"/></g><g class=\"legendsymbols\"><g class=\"legendpoints\"/></g></g><rect class=\"legendtoggle\" x=\"0\" y=\"-9.5\" width=\"154.578125\" height=\"19\" style=\"fill: rgb(0, 0, 0); fill-opacity: 0;\"/></g><g class=\"traces\" transform=\"translate(0,33.5)\" style=\"opacity: 1;\"><text class=\"legendtext\" text-anchor=\"start\" x=\"40\" y=\"4.680000000000001\" style=\"font-family: 'Open Sans', verdana, arial, sans-serif; font-size: 12px; fill: rgb(42, 63, 95); fill-opacity: 1; white-space: pre;\">CR without Ground</text><g class=\"layers\" style=\"opacity: 1;\"><g class=\"legendfill\"/><g class=\"legendlines\"><path class=\"js-line\" d=\"M5,0h30\" style=\"fill: none; stroke: rgb(239, 85, 59); stroke-opacity: 1; stroke-width: 2px;\"/></g><g class=\"legendsymbols\"><g class=\"legendpoints\"/></g></g><rect class=\"legendtoggle\" x=\"0\" y=\"-9.5\" width=\"154.578125\" height=\"19\" style=\"fill: rgb(0, 0, 0); fill-opacity: 0;\"/></g></g></g><rect class=\"scrollbar\" rx=\"20\" ry=\"3\" width=\"0\" height=\"0\" style=\"fill: rgb(128, 139, 164); fill-opacity: 1;\" x=\"0\" y=\"0\"/></g><g class=\"g-gtitle\"><text class=\"gtitle\" x=\"35\" y=\"50\" text-anchor=\"start\" dy=\"0em\" style=\"font-family: 'Open Sans', verdana, arial, sans-serif; font-size: 17px; fill: rgb(42, 63, 95); opacity: 1; font-weight: normal; white-space: pre;\">Multi-Path Effect</text></g><g class=\"g-xtitle\"><text class=\"xtitle\" x=\"299.5\" y=\"460.8\" text-anchor=\"middle\" style=\"font-family: 'Open Sans', verdana, arial, sans-serif; font-size: 14px; fill: rgb(42, 63, 95); opacity: 1; font-weight: normal; white-space: pre;\">Range (m)</text></g><g class=\"g-ytitle\"><text class=\"ytitle\" transform=\"rotate(-90,36.746875,260)\" x=\"36.746875\" y=\"260\" text-anchor=\"middle\" style=\"font-family: 'Open Sans', verdana, arial, sans-serif; font-size: 14px; fill: rgb(42, 63, 95); opacity: 1; font-weight: normal; white-space: pre;\">Amplitude (dB)</text></g></g></svg>"
      ],
      "text/plain": [
       "<IPython.core.display.SVG object>"
      ]
     },
     "metadata": {},
     "output_type": "display_data"
    }
   ],
   "source": [
    "import plotly.graph_objs as go\n",
    "from plotly.offline import iplot\n",
    "from IPython.display import SVG, display\n",
    "\n",
    "t_range = 30+np.arange(0, 6, 0.05)*5\n",
    "\n",
    "p_multi = go.Scatter(x=t_range, y=20*np.log10(amp_multi),\n",
    "                     name='CR with Ground')\n",
    "p_single = go.Scatter(x=t_range, y=20*np.log10(amp_single),\n",
    "                      name='CR without Ground')\n",
    "\n",
    "layout = go.Layout(\n",
    "    title='Multi-Path Effect',\n",
    "    yaxis=dict(title='Amplitude (dB)'),\n",
    "    xaxis=dict(title='Range (m)'),\n",
    ")\n",
    "fig = go.Figure(data=[p_multi, p_single], layout=layout)\n",
    "# iplot(fig)\n",
    "display(SVG(fig.to_image(format='svg', scale=1)))"
   ]
  },
  {
   "cell_type": "code",
   "execution_count": null,
   "metadata": {},
   "outputs": [],
   "source": []
  }
 ],
 "metadata": {
  "kernelspec": {
   "display_name": "Python 3",
   "language": "python",
   "name": "python3"
  },
  "language_info": {
   "codemirror_mode": {
    "name": "ipython",
    "version": 3
   },
   "file_extension": ".py",
   "mimetype": "text/x-python",
   "name": "python",
   "nbconvert_exporter": "python",
   "pygments_lexer": "ipython3",
   "version": "3.9.1"
  },
  "varInspector": {
   "cols": {
    "lenName": 16,
    "lenType": 16,
    "lenVar": 40
   },
   "kernels_config": {
    "python": {
     "delete_cmd_postfix": "",
     "delete_cmd_prefix": "del ",
     "library": "var_list.py",
     "varRefreshCmd": "print(var_dic_list())"
    },
    "r": {
     "delete_cmd_postfix": ") ",
     "delete_cmd_prefix": "rm(",
     "library": "var_list.r",
     "varRefreshCmd": "cat(var_dic_list()) "
    }
   },
   "types_to_exclude": [
    "module",
    "function",
    "builtin_function_or_method",
    "instance",
    "_Feature"
   ],
   "window_display": false
  },
  "widgets": {
   "application/vnd.jupyter.widget-state+json": {
    "state": {},
    "version_major": 2,
    "version_minor": 0
   }
  }
 },
 "nbformat": 4,
 "nbformat_minor": 2
}
