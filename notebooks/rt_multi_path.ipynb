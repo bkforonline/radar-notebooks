{
 "cells": [
  {
   "cell_type": "markdown",
   "metadata": {},
   "source": [
    "# Multi-Path Effect\n",
    "\n",
    "<a href=\"https://rookiepeng.github.io/radarsimpy/\" target=\"_blank\" rel=\"nofollow\"><img src=\"https://img.shields.io/badge/Documentation-latest-brightgree?style=flat&logo=read-the-docs\" height=\"20\" align=\"left\"></a>\n",
    "\n",
    "<br></br>\n",
    "This is an example of using [`RadarSimPy`](https://github.com/rookiepeng/radarsimpy) to simulate an FMCW radar with a corner reflector model above the ground surface.\n",
    "\n",
    "---\n",
    "\n",
    "## Setup FMCW radar\n",
    "\n",
    "### Transmitter\n",
    "\n",
    "Setup the basic transmitter parameters through `Transmitter` module.\n",
    "\n",
    "The following table lists the parameters in this example.\n",
    "\n",
    " | Parameter                       | Variable in `Transmitter`| Value                      |\n",
    " |---------------------------------|--------------------------|----------------------------|\n",
    " | Frequency ($f$)                 | `f`                      | [77e9-50e6, 77e9+50e6] GHz |\n",
    " | Time ($T$)                      | `t`                      | 40e-6 s                    |\n",
    " | Transmitted power ($P_t$)       | `tx_power`               | 15 dBm                     |\n",
    " | Pulse repetition period ($PRP$) | `prp`                    | 100 us                     |\n",
    " | Number of pulses                | `pulses`                 | 1                          |\n",
    "\n",
    "### Receiver\n",
    "\n",
    "Setup the receiver parameters through `Receiver` module.\n",
    "\n",
    "The parameters of the receiver are listed in the table below.\n",
    "\n",
    " | Parameter                        | Variable in `Receiver`   | Value        |\n",
    " |----------------------------------|--------------------------|--------------|\n",
    " | Sampling rate ($f_s$)            | `fs`                     | 4 Msps       |\n",
    " | Noise figure ($NF$)              | `noise_figure`           | 8 dB         |\n",
    " | RF gain/loss ($G_{rf}$)          | `rf_gain`                | 20 dB        |\n",
    " | Load resistor ($R_L$)            | `load_resistor`          | 1000 $\\Omega$|\n",
    " | Baseband voltage gain ($G_{BB}$) | `baseband_gain`          | 80 dB        |"
   ]
  },
  {
   "cell_type": "code",
   "execution_count": 1,
   "metadata": {},
   "outputs": [],
   "source": [
    "import numpy as np\n",
    "from radarsimpy import Radar, Transmitter, Receiver\n",
    "\n",
    "tx_channel = dict(\n",
    "    location=(0, 0, 0),\n",
    ")\n",
    "\n",
    "tx = Transmitter(f=[77e9-50e6, 77e9+50e6],\n",
    "                 t=40e-6,\n",
    "                 tx_power=15,\n",
    "                 prp=100e-6,\n",
    "                 pulses=1,\n",
    "                 channels=[tx_channel])\n",
    "\n",
    "\n",
    "rx_channel = dict(\n",
    "    location=(0, 0, 0),\n",
    ")\n",
    "\n",
    "rx = Receiver(fs=4e6,\n",
    "              noise_figure=8,\n",
    "              rf_gain=20,\n",
    "              load_resistor=1000,\n",
    "              baseband_gain=80,\n",
    "              channels=[rx_channel])\n",
    "\n",
    "radar = Radar(transmitter=tx, receiver=rx, time=np.arange(0, 150, 1))"
   ]
  },
  {
   "cell_type": "markdown",
   "metadata": {},
   "source": [
    "## Case 1: A corner reflector with ground surface"
   ]
  },
  {
   "cell_type": "code",
   "execution_count": 2,
   "metadata": {},
   "outputs": [],
   "source": [
    "from radarsimpy.rt import scene\n",
    "from scipy import signal\n",
    "import radarsimpy.processing as proc\n",
    "\n",
    "target_1 = {\n",
    "    'model': '../models/cr.stl',\n",
    "    'location': (50, 0, 0),\n",
    "    'speed': (1, 0, 0)\n",
    "}\n",
    "\n",
    "target_2 = {\n",
    "    'model': '../models/surface_400x400.stl',\n",
    "    'location': (0, 0, -0.5),\n",
    "    'speed': (0, 0, 0),\n",
    "    'is_ground': True\n",
    "}\n",
    "targets = [target_1, target_2]\n",
    "\n",
    "data = scene(radar, targets, density=0.5, noise=False)\n",
    "baseband = data['baseband']\n",
    "\n",
    "range_window = signal.chebwin(radar.samples_per_pulse, at=60)\n",
    "range_profile = proc.cal_range_profile(radar, baseband, range_window)\n",
    "\n",
    "doppler_window = signal.chebwin(radar.transmitter.pulses, at=60)\n",
    "range_doppler = proc.cal_range_doppler(\n",
    "    radar, range_profile, doppler_window, fft_shift=False)\n",
    "\n",
    "amp_multi = np.max(20*np.log10(np.abs(range_profile)), axis=2)"
   ]
  },
  {
   "cell_type": "markdown",
   "metadata": {},
   "source": [
    "## Case 2: A corner reflector without ground surface"
   ]
  },
  {
   "cell_type": "code",
   "execution_count": 3,
   "metadata": {
    "scrolled": true
   },
   "outputs": [],
   "source": [
    "target_1 = {\n",
    "    'model': '../models/cr.stl',\n",
    "    'location': (50, 0, 0),\n",
    "    'speed': (1, 0, 0)\n",
    "}\n",
    "\n",
    "targets = [target_1]\n",
    "\n",
    "data = scene(radar, targets, density=0.5, noise=False)\n",
    "baseband = data['baseband']\n",
    "range_window = signal.chebwin(radar.samples_per_pulse, at=60)\n",
    "range_profile = proc.cal_range_profile(radar, baseband, range_window)\n",
    "\n",
    "amp_single = np.max(20*np.log10(np.abs(range_profile)), axis=2)"
   ]
  },
  {
   "cell_type": "markdown",
   "metadata": {},
   "source": [
    "## Results\n",
    "\n",
    "Duo to the multi-path:\n",
    "- Path 1: Tx -> Corner reflecor -> Rx\n",
    "- Path 2: Tx -> Ground -> Corner reflecor -> Ground -> Rx\n",
    "\n",
    "A fluctuation can be observed from the received target amplitude versus the target range. "
   ]
  },
  {
   "cell_type": "code",
   "execution_count": 4,
   "metadata": {},
   "outputs": [
    {
     "data": {
      "image/svg+xml": [
       "<svg xmlns=\"http://www.w3.org/2000/svg\" xmlns:xlink=\"http://www.w3.org/1999/xlink\" class=\"main-svg\" width=\"700\" height=\"500\" style=\"\" viewBox=\"0 0 700 500\"><rect x=\"0\" y=\"0\" width=\"700\" height=\"500\" style=\"fill: rgb(255, 255, 255); fill-opacity: 1;\"/><defs id=\"defs-94335d\"><g class=\"clips\"><clipPath id=\"clip94335dxyplot\" class=\"plotclip\"><rect width=\"439\" height=\"320\"/></clipPath><clipPath class=\"axesclip\" id=\"clip94335dx\"><rect x=\"80\" y=\"0\" width=\"439\" height=\"500\"/></clipPath><clipPath class=\"axesclip\" id=\"clip94335dy\"><rect x=\"0\" y=\"100\" width=\"700\" height=\"320\"/></clipPath><clipPath class=\"axesclip\" id=\"clip94335dxy\"><rect x=\"80\" y=\"100\" width=\"439\" height=\"320\"/></clipPath></g><g class=\"gradients\"/></defs><g class=\"bglayer\"><rect class=\"bg\" x=\"80\" y=\"100\" width=\"439\" height=\"320\" style=\"fill: rgb(229, 236, 246); fill-opacity: 1; stroke-width: 0;\"/></g><g class=\"layer-below\"><g class=\"imagelayer\"/><g class=\"shapelayer\"/></g><g class=\"cartesianlayer\"><g class=\"subplot xy\"><g class=\"layer-subplot\"><g class=\"shapelayer\"/><g class=\"imagelayer\"/></g><g class=\"gridlayer\"><g class=\"x\"><path class=\"xgrid crisp\" transform=\"translate(227.32,0)\" d=\"M0,100v320\" style=\"stroke: rgb(255, 255, 255); stroke-opacity: 1; stroke-width: 1px;\"/><path class=\"xgrid crisp\" transform=\"translate(374.63,0)\" d=\"M0,100v320\" style=\"stroke: rgb(255, 255, 255); stroke-opacity: 1; stroke-width: 1px;\"/></g><g class=\"y\"><path class=\"ygrid crisp\" transform=\"translate(0,398.26)\" d=\"M80,0h439\" style=\"stroke: rgb(255, 255, 255); stroke-opacity: 1; stroke-width: 1px;\"/><path class=\"ygrid crisp\" transform=\"translate(0,318.33000000000004)\" d=\"M80,0h439\" style=\"stroke: rgb(255, 255, 255); stroke-opacity: 1; stroke-width: 1px;\"/><path class=\"ygrid crisp\" transform=\"translate(0,278.36)\" d=\"M80,0h439\" style=\"stroke: rgb(255, 255, 255); stroke-opacity: 1; stroke-width: 1px;\"/><path class=\"ygrid crisp\" transform=\"translate(0,238.4)\" d=\"M80,0h439\" style=\"stroke: rgb(255, 255, 255); stroke-opacity: 1; stroke-width: 1px;\"/><path class=\"ygrid crisp\" transform=\"translate(0,198.44)\" d=\"M80,0h439\" style=\"stroke: rgb(255, 255, 255); stroke-opacity: 1; stroke-width: 1px;\"/><path class=\"ygrid crisp\" transform=\"translate(0,158.47)\" d=\"M80,0h439\" style=\"stroke: rgb(255, 255, 255); stroke-opacity: 1; stroke-width: 1px;\"/><path class=\"ygrid crisp\" transform=\"translate(0,118.51)\" d=\"M80,0h439\" style=\"stroke: rgb(255, 255, 255); stroke-opacity: 1; stroke-width: 1px;\"/></g></g><g class=\"zerolinelayer\"><path class=\"yzl zl crisp\" transform=\"translate(0,358.29)\" d=\"M80,0h439\" style=\"stroke: rgb(255, 255, 255); stroke-opacity: 1; stroke-width: 2px;\"/></g><path class=\"xlines-below\"/><path class=\"ylines-below\"/><g class=\"overlines-below\"/><g class=\"xaxislayer-below\"/><g class=\"yaxislayer-below\"/><g class=\"overaxes-below\"/><g class=\"plot\" transform=\"translate(80,100)\" clip-path=\"url('#clip94335dxyplot')\"><g class=\"scatterlayer mlayer\"><g class=\"trace scatter traced7179d\" style=\"stroke-miterlimit: 2; opacity: 1;\"><g class=\"fills\"/><g class=\"errorbars\"/><g class=\"lines\"><path class=\"js-line\" d=\"M0,22.05L2.95,16L5.89,21.3L11.79,47.3L14.73,68.34L20.62,97.49L23.57,84.74L26.52,80.73L29.46,61.1L32.41,57.45L35.36,63.2L38.3,50.36L41.25,53.98L44.19,63.96L47.14,50.84L53.03,75.28L55.98,78.83L58.93,102.12L61.87,111.72L64.82,116.33L67.77,137.34L70.71,132.39L73.66,121.12L79.55,113.95L82.5,95.92L85.44,101.96L88.39,101.69L91.34,96.55L94.28,96.55L97.23,92.74L100.17,85.69L103.12,89.65L106.07,92.17L109.01,93.69L111.96,99.37L114.91,110.81L117.85,106.5L120.8,107.38L123.74,115.99L126.69,114.63L129.64,120.15L132.58,136.71L135.53,136.14L138.48,152.38L141.42,161.74L144.37,154.23L147.32,162.98L150.26,172.94L153.21,163.87L156.15,175.82L159.1,180.7L164.99,182.11L167.94,180.86L170.89,162.32L173.83,161.96L176.78,159.45L179.72,148.35L185.62,164.09L188.56,154.89L191.51,154.33L194.46,150.46L197.4,142.09L200.35,140.93L203.3,145.07L206.24,143.75L209.19,150.42L212.13,155.21L215.08,146.75L218.03,142.92L220.97,148.25L223.92,138.78L226.87,142.18L229.81,154.33L232.76,149.15L235.7,155.87L238.65,160.91L241.6,148.18L247.49,156.11L250.44,150.35L253.38,153.62L256.33,169.2L259.28,166.83L262.22,170.07L265.17,177.53L268.11,165.47L271.06,171.27L274.01,174.84L276.95,169.76L279.9,182.24L282.85,193.84L285.79,189.08L288.74,192.61L291.68,193.97L294.63,190.47L297.58,190.69L300.52,199.22L303.47,202.43L309.36,221.05L312.31,214.47L315.26,212.32L318.2,221.24L321.15,211.72L324.09,216.73L327.04,232L329.99,234.85L335.88,245.95L338.83,240.66L341.77,236.82L344.72,239.02L347.66,232.88L350.61,234.11L353.56,260.39L356.5,253.58L359.45,253.3L362.4,260.3L365.34,244.25L368.29,240.43L371.23,246.96L374.18,238.83L377.13,256.29L380.07,262.16L383.02,250.67L385.97,251.91L388.91,249.73L391.86,235.95L394.81,237.22L397.75,243.11L400.7,248.17L403.64,249.04L406.59,254.75L409.54,243.57L412.48,237.05L415.43,238.98L418.38,230.19L421.32,231.3L424.27,237.36L427.21,241.05L430.16,242.03L433.11,246.47L439,228.08\" style=\"vector-effect: non-scaling-stroke; fill: none; stroke: rgb(99, 110, 250); stroke-opacity: 1; stroke-width: 2px; opacity: 1;\"/></g><g class=\"points\"/><g class=\"text\"/></g><g class=\"trace scatter trace9675f0\" style=\"stroke-miterlimit: 2; opacity: 1;\"><g class=\"fills\"/><g class=\"errorbars\"/><g class=\"lines\"><path class=\"js-line\" d=\"M0,104.73L2.95,102.54L5.89,108.61L8.84,113.69L11.79,116L17.68,127.11L20.62,123.05L23.57,122.56L26.52,129.17L29.46,124.87L32.41,130.46L35.36,141.61L38.3,137.24L44.19,147.82L47.14,136.92L50.09,143.85L53.03,148.81L55.98,144.1L58.93,155.39L61.87,160.43L64.82,155.68L67.77,160.83L70.71,159.4L73.66,156.08L76.6,161.05L79.55,166.04L82.5,161L85.44,171.95L88.39,177.03L91.34,171.95L94.28,176.78L97.23,176.91L100.17,171.66L106.07,181.4L109.01,182.09L114.91,191.89L117.85,186.52L120.8,186.05L123.74,191.19L126.69,185.68L129.64,190.08L132.58,201.23L135.53,195.69L141.42,205.34L144.37,194.66L150.26,204.16L153.21,198.41L156.15,208.5L159.1,213.86L162.05,208.08L164.99,212.21L167.94,217.62L170.89,206.64L173.83,210.65L176.78,216.06L179.72,210.07L182.67,219.95L185.62,225.46L188.56,219.45L191.51,223.37L194.46,223.79L197.4,217.66L200.35,221.46L203.3,227.03L206.24,226.74L209.19,230.52L212.13,236.19L215.08,229.98L218.03,228.52L220.97,234.21L223.92,227.88L226.87,231.48L229.81,243.1L232.76,236.75L235.7,240.33L238.65,246.18L241.6,234.58L244.54,238.05L247.49,243.92L250.44,237.4L253.38,240.81L256.33,252.63L259.28,246.09L262.22,249.48L265.17,255.51L268.11,243.68L271.06,246.96L274.01,253.02L276.95,246.32L279.9,255.41L282.85,261.57L285.79,254.85L288.74,258.05L291.68,259.04L294.63,252.21L297.58,255.33L300.52,261.59L303.47,260.54L306.42,263.63L309.36,269.99L312.31,263.09L315.26,260.86L318.2,267.26L321.15,260.26L324.09,263.2L327.04,275.48L329.99,268.46L332.93,271.38L335.88,277.95L338.83,270.87L341.77,268.44L344.72,275.04L347.66,267.88L350.61,270.65L353.56,283.15L356.5,275.96L359.45,278.72L362.4,285.49L365.34,272.95L368.29,275.61L371.23,282.43L374.18,275.1L377.13,283.52L380.07,290.44L383.02,283.08L388.91,287.36L391.86,279.92L394.81,282.43L397.75,289.46L400.7,287.76L403.64,290.24L406.59,297.37L409.54,289.86L412.48,286.99L415.43,294.16L418.38,286.57L421.32,288.92L424.27,296.17L427.21,294.32L430.16,296.65L433.11,304L436.05,296.33L439,293.27\" style=\"vector-effect: non-scaling-stroke; fill: none; stroke: rgb(239, 85, 59); stroke-opacity: 1; stroke-width: 2px; opacity: 1;\"/></g><g class=\"points\"/><g class=\"text\"/></g></g></g><g class=\"overplot\"/><path class=\"xlines-above crisp\" d=\"M0,0\" style=\"fill: none;\"/><path class=\"ylines-above crisp\" d=\"M0,0\" style=\"fill: none;\"/><g class=\"overlines-above\"/><g class=\"xaxislayer-above\"><g class=\"xtick\"><text text-anchor=\"middle\" x=\"0\" y=\"433\" transform=\"translate(80,0)\" style=\"font-family: 'Open Sans', verdana, arial, sans-serif; font-size: 12px; fill: rgb(42, 63, 95); fill-opacity: 1; white-space: pre;\">50</text></g><g class=\"xtick\"><text text-anchor=\"middle\" x=\"0\" y=\"433\" transform=\"translate(227.32,0)\" style=\"font-family: 'Open Sans', verdana, arial, sans-serif; font-size: 12px; fill: rgb(42, 63, 95); fill-opacity: 1; white-space: pre;\">100</text></g><g class=\"xtick\"><text text-anchor=\"middle\" x=\"0\" y=\"433\" transform=\"translate(374.63,0)\" style=\"font-family: 'Open Sans', verdana, arial, sans-serif; font-size: 12px; fill: rgb(42, 63, 95); fill-opacity: 1; white-space: pre;\">150</text></g></g><g class=\"yaxislayer-above\"><g class=\"ytick\"><text text-anchor=\"end\" x=\"79\" y=\"4.199999999999999\" transform=\"translate(0,398.26)\" style=\"font-family: 'Open Sans', verdana, arial, sans-serif; font-size: 12px; fill: rgb(42, 63, 95); fill-opacity: 1; white-space: pre;\">−5</text></g><g class=\"ytick\"><text text-anchor=\"end\" x=\"79\" y=\"4.199999999999999\" transform=\"translate(0,358.29)\" style=\"font-family: 'Open Sans', verdana, arial, sans-serif; font-size: 12px; fill: rgb(42, 63, 95); fill-opacity: 1; white-space: pre;\">0</text></g><g class=\"ytick\"><text text-anchor=\"end\" x=\"79\" y=\"4.199999999999999\" transform=\"translate(0,318.33000000000004)\" style=\"font-family: 'Open Sans', verdana, arial, sans-serif; font-size: 12px; fill: rgb(42, 63, 95); fill-opacity: 1; white-space: pre;\">5</text></g><g class=\"ytick\"><text text-anchor=\"end\" x=\"79\" y=\"4.199999999999999\" transform=\"translate(0,278.36)\" style=\"font-family: 'Open Sans', verdana, arial, sans-serif; font-size: 12px; fill: rgb(42, 63, 95); fill-opacity: 1; white-space: pre;\">10</text></g><g class=\"ytick\"><text text-anchor=\"end\" x=\"79\" y=\"4.199999999999999\" transform=\"translate(0,238.4)\" style=\"font-family: 'Open Sans', verdana, arial, sans-serif; font-size: 12px; fill: rgb(42, 63, 95); fill-opacity: 1; white-space: pre;\">15</text></g><g class=\"ytick\"><text text-anchor=\"end\" x=\"79\" y=\"4.199999999999999\" transform=\"translate(0,198.44)\" style=\"font-family: 'Open Sans', verdana, arial, sans-serif; font-size: 12px; fill: rgb(42, 63, 95); fill-opacity: 1; white-space: pre;\">20</text></g><g class=\"ytick\"><text text-anchor=\"end\" x=\"79\" y=\"4.199999999999999\" transform=\"translate(0,158.47)\" style=\"font-family: 'Open Sans', verdana, arial, sans-serif; font-size: 12px; fill: rgb(42, 63, 95); fill-opacity: 1; white-space: pre;\">25</text></g><g class=\"ytick\"><text text-anchor=\"end\" x=\"79\" y=\"4.199999999999999\" transform=\"translate(0,118.51)\" style=\"font-family: 'Open Sans', verdana, arial, sans-serif; font-size: 12px; fill: rgb(42, 63, 95); fill-opacity: 1; white-space: pre;\">30</text></g></g><g class=\"overaxes-above\"/></g></g><g class=\"polarlayer\"/><g class=\"ternarylayer\"/><g class=\"geolayer\"/><g class=\"funnelarealayer\"/><g class=\"pielayer\"/><g class=\"treemaplayer\"/><g class=\"sunburstlayer\"/><g class=\"glimages\"/><defs id=\"topdefs-94335d\"><g class=\"clips\"/><clipPath id=\"legend94335d\"><rect width=\"160\" height=\"48\" x=\"0\" y=\"0\"/></clipPath></defs><g class=\"layer-above\"><g class=\"imagelayer\"/><g class=\"shapelayer\"/></g><g class=\"infolayer\"><g class=\"legend\" pointer-events=\"all\" transform=\"translate(527.78,100)\"><rect class=\"bg\" shape-rendering=\"crispEdges\" style=\"stroke: rgb(68, 68, 68); stroke-opacity: 1; fill: rgb(255, 255, 255); fill-opacity: 1; stroke-width: 0px;\" width=\"160\" height=\"48\" x=\"0\" y=\"0\"/><g class=\"scrollbox\" transform=\"\" clip-path=\"url('#legend94335d')\"><g class=\"groups\"><g class=\"traces\" transform=\"translate(0,14.5)\" style=\"opacity: 1;\"><text class=\"legendtext\" text-anchor=\"start\" x=\"40\" y=\"4.680000000000001\" style=\"font-family: 'Open Sans', verdana, arial, sans-serif; font-size: 12px; fill: rgb(42, 63, 95); fill-opacity: 1; white-space: pre;\">CR with Ground</text><g class=\"layers\" style=\"opacity: 1;\"><g class=\"legendfill\"/><g class=\"legendlines\"><path class=\"js-line\" d=\"M5,0h30\" style=\"fill: none; stroke: rgb(99, 110, 250); stroke-opacity: 1; stroke-width: 2px;\"/></g><g class=\"legendsymbols\"><g class=\"legendpoints\"/></g></g><rect class=\"legendtoggle\" x=\"0\" y=\"-9.5\" width=\"154.578125\" height=\"19\" style=\"fill: rgb(0, 0, 0); fill-opacity: 0;\"/></g><g class=\"traces\" transform=\"translate(0,33.5)\" style=\"opacity: 1;\"><text class=\"legendtext\" text-anchor=\"start\" x=\"40\" y=\"4.680000000000001\" style=\"font-family: 'Open Sans', verdana, arial, sans-serif; font-size: 12px; fill: rgb(42, 63, 95); fill-opacity: 1; white-space: pre;\">CR without Ground</text><g class=\"layers\" style=\"opacity: 1;\"><g class=\"legendfill\"/><g class=\"legendlines\"><path class=\"js-line\" d=\"M5,0h30\" style=\"fill: none; stroke: rgb(239, 85, 59); stroke-opacity: 1; stroke-width: 2px;\"/></g><g class=\"legendsymbols\"><g class=\"legendpoints\"/></g></g><rect class=\"legendtoggle\" x=\"0\" y=\"-9.5\" width=\"154.578125\" height=\"19\" style=\"fill: rgb(0, 0, 0); fill-opacity: 0;\"/></g></g></g><rect class=\"scrollbar\" rx=\"20\" ry=\"3\" width=\"0\" height=\"0\" style=\"fill: rgb(128, 139, 164); fill-opacity: 1;\" x=\"0\" y=\"0\"/></g><g class=\"g-gtitle\"><text class=\"gtitle\" x=\"35\" y=\"50\" text-anchor=\"start\" dy=\"0em\" style=\"font-family: 'Open Sans', verdana, arial, sans-serif; font-size: 17px; fill: rgb(42, 63, 95); opacity: 1; font-weight: normal; white-space: pre;\">Multi-Path Effect</text></g><g class=\"g-xtitle\"><text class=\"xtitle\" x=\"299.5\" y=\"460.8\" text-anchor=\"middle\" style=\"font-family: 'Open Sans', verdana, arial, sans-serif; font-size: 14px; fill: rgb(42, 63, 95); opacity: 1; font-weight: normal; white-space: pre;\">Range (m)</text></g><g class=\"g-ytitle\"><text class=\"ytitle\" transform=\"rotate(-90,36.746875,260)\" x=\"36.746875\" y=\"260\" text-anchor=\"middle\" style=\"font-family: 'Open Sans', verdana, arial, sans-serif; font-size: 14px; fill: rgb(42, 63, 95); opacity: 1; font-weight: normal; white-space: pre;\">Amplitude (dB)</text></g></g></svg>"
      ],
      "text/plain": [
       "<IPython.core.display.SVG object>"
      ]
     },
     "metadata": {},
     "output_type": "display_data"
    }
   ],
   "source": [
    "import plotly.graph_objs as go\n",
    "\n",
    "from IPython.display import SVG, display\n",
    "\n",
    "t_range = 50+np.arange(0, 150, 1)*1\n",
    "\n",
    "fig = go.Figure()\n",
    "\n",
    "fig.add_trace(go.Scatter(x=t_range, y=amp_multi[:, 0],\n",
    "                         name='CR with Ground'))\n",
    "fig.add_trace(go.Scatter(x=t_range, y=amp_single[:, 0],\n",
    "                         name='CR without Ground'))\n",
    "\n",
    "fig.update_layout(\n",
    "    title='Multi-Path Effect',\n",
    "    yaxis=dict(title='Amplitude (dB)'),\n",
    "    xaxis=dict(title='Range (m)'),\n",
    ")\n",
    "\n",
    "# fig.show()\n",
    "display(SVG(fig.to_image(format='svg', scale=1)))"
   ]
  },
  {
   "cell_type": "code",
   "execution_count": null,
   "metadata": {},
   "outputs": [],
   "source": []
  }
 ],
 "metadata": {
  "kernelspec": {
   "display_name": "Python 3",
   "language": "python",
   "name": "python3"
  },
  "language_info": {
   "codemirror_mode": {
    "name": "ipython",
    "version": 3
   },
   "file_extension": ".py",
   "mimetype": "text/x-python",
   "name": "python",
   "nbconvert_exporter": "python",
   "pygments_lexer": "ipython3",
   "version": "3.9.4"
  },
  "varInspector": {
   "cols": {
    "lenName": 16,
    "lenType": 16,
    "lenVar": 40
   },
   "kernels_config": {
    "python": {
     "delete_cmd_postfix": "",
     "delete_cmd_prefix": "del ",
     "library": "var_list.py",
     "varRefreshCmd": "print(var_dic_list())"
    },
    "r": {
     "delete_cmd_postfix": ") ",
     "delete_cmd_prefix": "rm(",
     "library": "var_list.r",
     "varRefreshCmd": "cat(var_dic_list()) "
    }
   },
   "types_to_exclude": [
    "module",
    "function",
    "builtin_function_or_method",
    "instance",
    "_Feature"
   ],
   "window_display": false
  },
  "widgets": {
   "application/vnd.jupyter.widget-state+json": {
    "state": {},
    "version_major": 2,
    "version_minor": 0
   }
  }
 },
 "nbformat": 4,
 "nbformat_minor": 4
}
