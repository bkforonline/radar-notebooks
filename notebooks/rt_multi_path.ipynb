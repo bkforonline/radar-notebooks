{
 "cells": [
  {
   "cell_type": "markdown",
   "metadata": {},
   "source": [
    "# Multi-Path Effect with Raytracing\n",
    "\n",
    "This is an example of using `RadarSimPy` to simulate an FMCW radar with a corner reflector model above the ground surface. Ray-Tracing/Shoot-and-Bounce-Rays method is used in `RadarSimPy`. The ray-tracing engine `RadarSimC`, which is built with C++, is integrated in RadarSimPy.\n",
    "\n",
    ">`RadarSimPy` is a radar simulation package built with python. **<a href=\"https://zpeng.me/#contact\" target=\"_blank\">Contact me</a> if you are interested in this module.**\n",
    "\n",
    "This notebook is available on my <a href=\"https://github.com/rookiepeng/radar-simulation-notebooks\" target=\"_blank\">GitHub</a>.\n",
    "\n",
    "---\n",
    "\n",
    "## Setup FMCW radar\n",
    "\n",
    "### Transmitter\n",
    "\n",
    "The following table lists the basic parameters of the radar transmitter.\n",
    "\n",
    " | Parameter                       | Variable in `RadarSimPy` | Value      |\n",
    " |---------------------------------|--------------------------|------------|\n",
    " | Center frequency ($f_c$)        | fc                       | 77 GHz     |\n",
    " | Bandwidth ($B$)                 | bandwidth                | 100 MHz    |\n",
    " | Transmitted power ($P_t$)       | tx_power                 | 15 dBm     |\n",
    " | Chirp repetition period ($CRP$) | repetition_period        | 100 us     |\n",
    " | Chirp length ($T$)              | pulse_length             | 40 us      |\n",
    " | Number of chirps                | pulses                   | 1          |\n",
    " | Chirp start delay               | delay                    | 0 s        |\n",
    " \n",
    "### Receiver\n",
    " The parameters of the receiver are listed in the table below.\n",
    "\n",
    " | Parameter                        | Variable in `RadarSimPy` | Value        |\n",
    " |----------------------------------|--------------------------|--------------|\n",
    " | Sampling rate ($f_s$)            | fs                       | 4 Msps       |\n",
    " | Noise figure ($NF$)              | noise_figure             | 8 dB         |\n",
    " | RF gain/loss ($G_{rf}$)          | rf_gain                  | 20 dB        |\n",
    " | Load resistor ($R_L$)            | load_resistor            | 1000 $\\Omega$|\n",
    " | Baseband voltage gain ($G_{BB}$) | baseband_gain            | 80 dB        |\n"
   ]
  },
  {
   "cell_type": "code",
   "execution_count": 1,
   "metadata": {},
   "outputs": [],
   "source": [
    "import numpy as np\n",
    "from radarsimpy import Radar, Transmitter, Receiver\n",
    "\n",
    "angle = np.arange(-90, 91, 1)\n",
    "pattern = 20 * np.log10(np.cos(angle / 180 * np.pi) + 0.01)\n",
    "\n",
    "tx_channel = dict(\n",
    "    location=(0, 0, 0),\n",
    "    azimuth_angle=angle,\n",
    "    azimuth_pattern=pattern,\n",
    "    elevation_angle=angle,\n",
    "    elevation_pattern=pattern,\n",
    ")\n",
    "\n",
    "tx = Transmitter(f=[77e9-50e6, 77e9+50e6],\n",
    "                 t=40e-6,\n",
    "                 tx_power=15,\n",
    "                 prp=100e-6,\n",
    "                 pulses=1,\n",
    "                 channels=[tx_channel])\n",
    "\n",
    "\n",
    "\n",
    "rx_channel = dict(\n",
    "    location=(0, 0, 0),\n",
    "    azimuth_angle=angle,\n",
    "    azimuth_pattern=pattern,\n",
    "    elevation_angle=angle,\n",
    "    elevation_pattern=pattern,\n",
    ")\n",
    "\n",
    "rx = Receiver(fs=4e6,\n",
    "              noise_figure=8,\n",
    "              rf_gain=20,\n",
    "              load_resistor=1000,\n",
    "              baseband_gain=80,\n",
    "              channels=[rx_channel])\n",
    "\n",
    "\n",
    "radar = Radar(transmitter=tx, receiver=rx, time=np.arange(0, 150, 1))"
   ]
  },
  {
   "cell_type": "markdown",
   "metadata": {},
   "source": [
    "## Case 1: A corner reflector with ground surface"
   ]
  },
  {
   "cell_type": "code",
   "execution_count": 2,
   "metadata": {},
   "outputs": [],
   "source": [
    "from radarsimpy.rt import scene\n",
    "from scipy import signal\n",
    "import radarsimpy.processing as proc\n",
    "\n",
    "target_1 = {\n",
    "    'model': '../models/cr.stl',\n",
    "    'location': (50, 0, 0),\n",
    "    'speed': (1, 0, 0)\n",
    "}\n",
    "\n",
    "target_2 = {\n",
    "    'model': '../models/surface_400x400.stl',\n",
    "    'location': (0, 0, -0.5),\n",
    "    'speed': (0, 0, 0),\n",
    "    'is_ground': True\n",
    "}\n",
    "targets = [target_1, target_2]\n",
    "\n",
    "data = scene(radar, targets, density=0.5, noise=False)\n",
    "baseband = data['baseband']\n",
    "\n",
    "range_window = signal.chebwin(radar.samples_per_pulse, at=60)\n",
    "range_profile = proc.cal_range_profile(radar, baseband, range_window)\n",
    "\n",
    "doppler_window = signal.chebwin(radar.transmitter.pulses, at=60)\n",
    "range_doppler = proc.cal_range_doppler(\n",
    "    radar, range_profile, doppler_window, fft_shift=False)\n",
    "\n",
    "amp_multi = np.max(20*np.log10(np.abs(range_profile)), axis=2)"
   ]
  },
  {
   "cell_type": "markdown",
   "metadata": {},
   "source": [
    "## Case 2: A corner reflector without ground surface"
   ]
  },
  {
   "cell_type": "code",
   "execution_count": 3,
   "metadata": {
    "scrolled": true
   },
   "outputs": [],
   "source": [
    "target_1 = {\n",
    "    'model': '../models/cr.stl',\n",
    "    'location': (50, 0, 0),\n",
    "    'speed': (1, 0, 0)\n",
    "}\n",
    "\n",
    "targets = [target_1]\n",
    "\n",
    "data = scene(radar, targets, density=0.5, noise=False)\n",
    "baseband = data['baseband']\n",
    "range_window = signal.chebwin(radar.samples_per_pulse, at=60)\n",
    "range_profile = proc.cal_range_profile(radar, baseband, range_window)\n",
    "\n",
    "amp_single = np.max(20*np.log10(np.abs(range_profile)), axis=2)"
   ]
  },
  {
   "cell_type": "markdown",
   "metadata": {},
   "source": [
    "## Results\n",
    "\n",
    "Duo to the multi-path:\n",
    "- Path 1: Tx -> Corner reflecor -> Rx\n",
    "- Path 2: Tx -> Ground -> Corner reflecor -> Ground -> Rx\n",
    "\n",
    "A fluctuation can be observed from the received target amplitude versus the target range. "
   ]
  },
  {
   "cell_type": "code",
   "execution_count": 4,
   "metadata": {},
   "outputs": [
    {
     "data": {
      "image/svg+xml": [
       "<svg xmlns=\"http://www.w3.org/2000/svg\" xmlns:xlink=\"http://www.w3.org/1999/xlink\" class=\"main-svg\" width=\"700\" height=\"500\" style=\"\" viewBox=\"0 0 700 500\"><rect x=\"0\" y=\"0\" width=\"700\" height=\"500\" style=\"fill: rgb(255, 255, 255); fill-opacity: 1;\"/><defs id=\"defs-160c9a\"><g class=\"clips\"><clipPath id=\"clip160c9axyplot\" class=\"plotclip\"><rect width=\"439\" height=\"320\"/></clipPath><clipPath class=\"axesclip\" id=\"clip160c9ax\"><rect x=\"80\" y=\"0\" width=\"439\" height=\"500\"/></clipPath><clipPath class=\"axesclip\" id=\"clip160c9ay\"><rect x=\"0\" y=\"100\" width=\"700\" height=\"320\"/></clipPath><clipPath class=\"axesclip\" id=\"clip160c9axy\"><rect x=\"80\" y=\"100\" width=\"439\" height=\"320\"/></clipPath></g><g class=\"gradients\"/></defs><g class=\"bglayer\"><rect class=\"bg\" x=\"80\" y=\"100\" width=\"439\" height=\"320\" style=\"fill: rgb(229, 236, 246); fill-opacity: 1; stroke-width: 0;\"/></g><g class=\"layer-below\"><g class=\"imagelayer\"/><g class=\"shapelayer\"/></g><g class=\"cartesianlayer\"><g class=\"subplot xy\"><g class=\"layer-subplot\"><g class=\"shapelayer\"/><g class=\"imagelayer\"/></g><g class=\"gridlayer\"><g class=\"x\"><path class=\"xgrid crisp\" transform=\"translate(227.32,0)\" d=\"M0,100v320\" style=\"stroke: rgb(255, 255, 255); stroke-opacity: 1; stroke-width: 1px;\"/><path class=\"xgrid crisp\" transform=\"translate(374.63,0)\" d=\"M0,100v320\" style=\"stroke: rgb(255, 255, 255); stroke-opacity: 1; stroke-width: 1px;\"/></g><g class=\"y\"><path class=\"ygrid crisp\" transform=\"translate(0,399.62)\" d=\"M80,0h439\" style=\"stroke: rgb(255, 255, 255); stroke-opacity: 1; stroke-width: 1px;\"/><path class=\"ygrid crisp\" transform=\"translate(0,319.66999999999996)\" d=\"M80,0h439\" style=\"stroke: rgb(255, 255, 255); stroke-opacity: 1; stroke-width: 1px;\"/><path class=\"ygrid crisp\" transform=\"translate(0,279.7)\" d=\"M80,0h439\" style=\"stroke: rgb(255, 255, 255); stroke-opacity: 1; stroke-width: 1px;\"/><path class=\"ygrid crisp\" transform=\"translate(0,239.73)\" d=\"M80,0h439\" style=\"stroke: rgb(255, 255, 255); stroke-opacity: 1; stroke-width: 1px;\"/><path class=\"ygrid crisp\" transform=\"translate(0,199.76)\" d=\"M80,0h439\" style=\"stroke: rgb(255, 255, 255); stroke-opacity: 1; stroke-width: 1px;\"/><path class=\"ygrid crisp\" transform=\"translate(0,159.79)\" d=\"M80,0h439\" style=\"stroke: rgb(255, 255, 255); stroke-opacity: 1; stroke-width: 1px;\"/><path class=\"ygrid crisp\" transform=\"translate(0,119.81)\" d=\"M80,0h439\" style=\"stroke: rgb(255, 255, 255); stroke-opacity: 1; stroke-width: 1px;\"/></g></g><g class=\"zerolinelayer\"><path class=\"yzl zl crisp\" transform=\"translate(0,359.65)\" d=\"M80,0h439\" style=\"stroke: rgb(255, 255, 255); stroke-opacity: 1; stroke-width: 2px;\"/></g><path class=\"xlines-below\"/><path class=\"ylines-below\"/><g class=\"overlines-below\"/><g class=\"xaxislayer-below\"/><g class=\"yaxislayer-below\"/><g class=\"overaxes-below\"/><g class=\"plot\" transform=\"translate(80,100)\" clip-path=\"url('#clip160c9axyplot')\"><g class=\"scatterlayer mlayer\"><g class=\"trace scatter trace0bc96c\" style=\"stroke-miterlimit: 2; opacity: 1;\"><g class=\"fills\"/><g class=\"errorbars\"/><g class=\"lines\"><path class=\"js-line\" d=\"M0,22.05L2.95,16L5.89,21.3L11.79,47.31L14.73,68.36L20.62,97.52L23.57,84.75L26.52,80.72L29.46,61.08L32.41,57.41L35.36,63.17L38.3,50.32L41.25,53.95L44.19,63.93L47.14,50.8L53.03,75.25L55.98,78.8L58.93,102.1L61.87,111.69L64.82,116.31L67.77,137.33L70.71,132.37L73.66,121.11L79.55,113.93L82.5,95.89L85.44,101.93L88.39,101.66L91.34,96.52L94.28,96.52L97.23,92.71L100.17,85.66L103.12,89.62L106.07,92.14L109.01,93.66L111.96,99.34L114.91,110.78L117.85,106.47L120.8,107.36L123.74,115.97L126.69,114.6L129.64,120.13L132.58,136.69L135.53,136.12L138.48,152.36L141.42,161.73L144.37,154.22L147.32,162.97L150.26,172.94L153.21,163.86L156.15,175.81L159.1,180.69L164.99,182.1L167.94,180.85L170.89,162.31L173.83,161.95L176.78,159.43L179.72,148.33L185.62,164.08L188.56,154.87L191.51,154.31L194.46,150.44L197.4,142.07L200.35,140.91L203.3,145.04L206.24,143.72L209.19,150.4L212.13,155.19L215.08,146.73L218.03,142.9L220.97,148.23L223.92,138.76L226.87,142.15L229.81,154.31L232.76,149.13L235.7,155.85L238.65,160.9L241.6,148.16L247.49,156.09L250.44,150.33L253.38,153.6L256.33,169.18L259.28,166.82L262.22,170.05L265.17,177.52L268.11,165.45L271.06,171.26L274.01,174.82L276.95,169.74L279.9,182.23L282.85,193.83L285.79,189.06L288.74,192.6L291.68,193.96L294.63,190.46L297.58,190.68L300.52,199.21L303.47,202.42L309.36,221.05L312.31,214.46L315.26,212.31L318.2,221.23L321.15,211.71L324.09,216.73L327.04,232L329.99,234.85L335.88,245.96L338.83,240.67L341.77,236.82L344.72,239.02L347.66,232.89L350.61,234.12L353.56,260.4L356.5,253.59L359.45,253.31L362.4,260.31L365.34,244.26L368.29,240.43L371.23,246.97L374.18,238.83L377.13,256.29L380.07,262.17L383.02,250.68L385.97,251.92L388.91,249.73L391.86,235.95L394.81,237.22L397.75,243.11L400.7,248.18L403.64,249.05L406.59,254.75L409.54,243.57L412.48,237.05L415.43,238.98L418.38,230.19L421.32,231.3L424.27,237.36L427.21,241.05L430.16,242.03L433.11,246.47L439,228.08\" style=\"vector-effect: non-scaling-stroke; fill: none; stroke: rgb(99, 110, 250); stroke-opacity: 1; stroke-width: 2px; opacity: 1;\"/></g><g class=\"points\"/><g class=\"text\"/></g><g class=\"trace scatter trace33cdcd\" style=\"stroke-miterlimit: 2; opacity: 1;\"><g class=\"fills\"/><g class=\"errorbars\"/><g class=\"lines\"><path class=\"js-line\" d=\"M0,104.69L2.95,102.51L5.89,108.58L8.84,113.65L11.79,115.96L17.68,127.08L20.62,123.02L23.57,122.53L26.52,129.14L29.46,124.84L32.41,130.43L35.36,141.58L38.3,137.21L44.19,147.79L47.14,136.89L50.09,143.82L53.03,148.78L55.98,144.07L58.93,155.36L61.87,160.4L64.82,155.65L67.77,160.8L70.71,159.37L73.66,156.06L76.6,161.02L79.55,166.02L82.5,160.97L85.44,171.93L88.39,177L91.34,171.93L94.28,176.76L97.23,176.88L100.17,171.64L106.07,181.38L109.01,182.07L114.91,191.86L117.85,186.5L120.8,186.03L123.74,191.17L126.69,185.65L129.64,190.06L132.58,201.21L135.53,195.67L141.42,205.32L144.37,194.64L150.26,204.15L153.21,198.39L156.15,208.48L159.1,213.84L162.05,208.06L164.99,212.19L167.94,217.61L170.89,206.62L173.83,210.63L176.78,216.04L179.72,210.06L182.67,219.94L185.62,225.45L188.56,219.44L191.51,223.36L194.46,223.77L197.4,217.65L200.35,221.44L203.3,227.02L206.24,226.73L209.19,230.5L212.13,236.18L215.08,229.96L218.03,228.51L220.97,234.2L223.92,227.87L226.87,231.47L229.81,243.09L232.76,236.74L235.7,240.32L238.65,246.17L241.6,234.57L244.54,238.04L247.49,243.91L250.44,237.39L253.38,240.8L256.33,252.62L259.28,246.08L262.22,249.47L265.17,255.51L268.11,243.66L271.06,246.95L274.01,253.02L276.95,246.31L279.9,255.4L282.85,261.56L285.79,254.84L288.74,258.04L291.68,259.03L294.63,252.2L297.58,255.32L300.52,261.58L303.47,260.53L306.42,263.62L309.36,269.98L312.31,263.08L315.26,260.86L318.2,267.25L321.15,260.26L324.09,263.2L327.04,275.48L329.99,268.46L332.93,271.37L335.88,277.94L338.83,270.87L341.77,268.43L344.72,275.04L347.66,267.87L350.61,270.65L353.56,283.15L356.5,275.96L359.45,278.71L362.4,285.49L365.34,272.94L368.29,275.61L371.23,282.42L374.18,275.09L377.13,283.52L380.07,290.43L383.02,283.08L388.91,287.35L391.86,279.92L394.81,282.42L397.75,289.45L400.7,287.76L403.64,290.24L406.59,297.37L409.54,289.86L412.48,286.98L415.43,294.16L418.38,286.56L421.32,288.91L424.27,296.16L427.21,294.32L430.16,296.65L433.11,304L436.05,296.33L439,293.26\" style=\"vector-effect: non-scaling-stroke; fill: none; stroke: rgb(239, 85, 59); stroke-opacity: 1; stroke-width: 2px; opacity: 1;\"/></g><g class=\"points\"/><g class=\"text\"/></g></g></g><g class=\"overplot\"/><path class=\"xlines-above crisp\" d=\"M0,0\" style=\"fill: none;\"/><path class=\"ylines-above crisp\" d=\"M0,0\" style=\"fill: none;\"/><g class=\"overlines-above\"/><g class=\"xaxislayer-above\"><g class=\"xtick\"><text text-anchor=\"middle\" x=\"0\" y=\"433\" transform=\"translate(80,0)\" style=\"font-family: 'Open Sans', verdana, arial, sans-serif; font-size: 12px; fill: rgb(42, 63, 95); fill-opacity: 1; white-space: pre;\">50</text></g><g class=\"xtick\"><text text-anchor=\"middle\" x=\"0\" y=\"433\" transform=\"translate(227.32,0)\" style=\"font-family: 'Open Sans', verdana, arial, sans-serif; font-size: 12px; fill: rgb(42, 63, 95); fill-opacity: 1; white-space: pre;\">100</text></g><g class=\"xtick\"><text text-anchor=\"middle\" x=\"0\" y=\"433\" transform=\"translate(374.63,0)\" style=\"font-family: 'Open Sans', verdana, arial, sans-serif; font-size: 12px; fill: rgb(42, 63, 95); fill-opacity: 1; white-space: pre;\">150</text></g></g><g class=\"yaxislayer-above\"><g class=\"ytick\"><text text-anchor=\"end\" x=\"79\" y=\"4.199999999999999\" transform=\"translate(0,399.62)\" style=\"font-family: 'Open Sans', verdana, arial, sans-serif; font-size: 12px; fill: rgb(42, 63, 95); fill-opacity: 1; white-space: pre;\">−5</text></g><g class=\"ytick\"><text text-anchor=\"end\" x=\"79\" y=\"4.199999999999999\" transform=\"translate(0,359.65)\" style=\"font-family: 'Open Sans', verdana, arial, sans-serif; font-size: 12px; fill: rgb(42, 63, 95); fill-opacity: 1; white-space: pre;\">0</text></g><g class=\"ytick\"><text text-anchor=\"end\" x=\"79\" y=\"4.199999999999999\" transform=\"translate(0,319.66999999999996)\" style=\"font-family: 'Open Sans', verdana, arial, sans-serif; font-size: 12px; fill: rgb(42, 63, 95); fill-opacity: 1; white-space: pre;\">5</text></g><g class=\"ytick\"><text text-anchor=\"end\" x=\"79\" y=\"4.199999999999999\" transform=\"translate(0,279.7)\" style=\"font-family: 'Open Sans', verdana, arial, sans-serif; font-size: 12px; fill: rgb(42, 63, 95); fill-opacity: 1; white-space: pre;\">10</text></g><g class=\"ytick\"><text text-anchor=\"end\" x=\"79\" y=\"4.199999999999999\" transform=\"translate(0,239.73)\" style=\"font-family: 'Open Sans', verdana, arial, sans-serif; font-size: 12px; fill: rgb(42, 63, 95); fill-opacity: 1; white-space: pre;\">15</text></g><g class=\"ytick\"><text text-anchor=\"end\" x=\"79\" y=\"4.199999999999999\" transform=\"translate(0,199.76)\" style=\"font-family: 'Open Sans', verdana, arial, sans-serif; font-size: 12px; fill: rgb(42, 63, 95); fill-opacity: 1; white-space: pre;\">20</text></g><g class=\"ytick\"><text text-anchor=\"end\" x=\"79\" y=\"4.199999999999999\" transform=\"translate(0,159.79)\" style=\"font-family: 'Open Sans', verdana, arial, sans-serif; font-size: 12px; fill: rgb(42, 63, 95); fill-opacity: 1; white-space: pre;\">25</text></g><g class=\"ytick\"><text text-anchor=\"end\" x=\"79\" y=\"4.199999999999999\" transform=\"translate(0,119.81)\" style=\"font-family: 'Open Sans', verdana, arial, sans-serif; font-size: 12px; fill: rgb(42, 63, 95); fill-opacity: 1; white-space: pre;\">30</text></g></g><g class=\"overaxes-above\"/></g></g><g class=\"polarlayer\"/><g class=\"ternarylayer\"/><g class=\"geolayer\"/><g class=\"funnelarealayer\"/><g class=\"pielayer\"/><g class=\"treemaplayer\"/><g class=\"sunburstlayer\"/><g class=\"glimages\"/><defs id=\"topdefs-160c9a\"><g class=\"clips\"/><clipPath id=\"legend160c9a\"><rect width=\"160\" height=\"48\" x=\"0\" y=\"0\"/></clipPath></defs><g class=\"layer-above\"><g class=\"imagelayer\"/><g class=\"shapelayer\"/></g><g class=\"infolayer\"><g class=\"legend\" pointer-events=\"all\" transform=\"translate(527.78,100)\"><rect class=\"bg\" shape-rendering=\"crispEdges\" style=\"stroke: rgb(68, 68, 68); stroke-opacity: 1; fill: rgb(255, 255, 255); fill-opacity: 1; stroke-width: 0px;\" width=\"160\" height=\"48\" x=\"0\" y=\"0\"/><g class=\"scrollbox\" transform=\"\" clip-path=\"url('#legend160c9a')\"><g class=\"groups\"><g class=\"traces\" transform=\"translate(0,14.5)\" style=\"opacity: 1;\"><text class=\"legendtext\" text-anchor=\"start\" x=\"40\" y=\"4.680000000000001\" style=\"font-family: 'Open Sans', verdana, arial, sans-serif; font-size: 12px; fill: rgb(42, 63, 95); fill-opacity: 1; white-space: pre;\">CR with Ground</text><g class=\"layers\" style=\"opacity: 1;\"><g class=\"legendfill\"/><g class=\"legendlines\"><path class=\"js-line\" d=\"M5,0h30\" style=\"fill: none; stroke: rgb(99, 110, 250); stroke-opacity: 1; stroke-width: 2px;\"/></g><g class=\"legendsymbols\"><g class=\"legendpoints\"/></g></g><rect class=\"legendtoggle\" x=\"0\" y=\"-9.5\" width=\"154.578125\" height=\"19\" style=\"fill: rgb(0, 0, 0); fill-opacity: 0;\"/></g><g class=\"traces\" transform=\"translate(0,33.5)\" style=\"opacity: 1;\"><text class=\"legendtext\" text-anchor=\"start\" x=\"40\" y=\"4.680000000000001\" style=\"font-family: 'Open Sans', verdana, arial, sans-serif; font-size: 12px; fill: rgb(42, 63, 95); fill-opacity: 1; white-space: pre;\">CR without Ground</text><g class=\"layers\" style=\"opacity: 1;\"><g class=\"legendfill\"/><g class=\"legendlines\"><path class=\"js-line\" d=\"M5,0h30\" style=\"fill: none; stroke: rgb(239, 85, 59); stroke-opacity: 1; stroke-width: 2px;\"/></g><g class=\"legendsymbols\"><g class=\"legendpoints\"/></g></g><rect class=\"legendtoggle\" x=\"0\" y=\"-9.5\" width=\"154.578125\" height=\"19\" style=\"fill: rgb(0, 0, 0); fill-opacity: 0;\"/></g></g></g><rect class=\"scrollbar\" rx=\"20\" ry=\"3\" width=\"0\" height=\"0\" style=\"fill: rgb(128, 139, 164); fill-opacity: 1;\" x=\"0\" y=\"0\"/></g><g class=\"g-gtitle\"><text class=\"gtitle\" x=\"35\" y=\"50\" text-anchor=\"start\" dy=\"0em\" style=\"font-family: 'Open Sans', verdana, arial, sans-serif; font-size: 17px; fill: rgb(42, 63, 95); opacity: 1; font-weight: normal; white-space: pre;\">Multi-Path Effect</text></g><g class=\"g-xtitle\"><text class=\"xtitle\" x=\"299.5\" y=\"460.8\" text-anchor=\"middle\" style=\"font-family: 'Open Sans', verdana, arial, sans-serif; font-size: 14px; fill: rgb(42, 63, 95); opacity: 1; font-weight: normal; white-space: pre;\">Range (m)</text></g><g class=\"g-ytitle\"><text class=\"ytitle\" transform=\"rotate(-90,36.746875,260)\" x=\"36.746875\" y=\"260\" text-anchor=\"middle\" style=\"font-family: 'Open Sans', verdana, arial, sans-serif; font-size: 14px; fill: rgb(42, 63, 95); opacity: 1; font-weight: normal; white-space: pre;\">Amplitude (dB)</text></g></g></svg>"
      ],
      "text/plain": [
       "<IPython.core.display.SVG object>"
      ]
     },
     "metadata": {},
     "output_type": "display_data"
    }
   ],
   "source": [
    "import plotly.graph_objs as go\n",
    "from plotly.offline import iplot\n",
    "from IPython.display import SVG, display\n",
    "\n",
    "t_range = 50+np.arange(0, 150, 1)*1\n",
    "\n",
    "p_multi = go.Scatter(x=t_range, y=amp_multi[:,0],\n",
    "                     name='CR with Ground')\n",
    "p_single = go.Scatter(x=t_range, y=amp_single[:,0],\n",
    "                      name='CR without Ground')\n",
    "\n",
    "layout = go.Layout(\n",
    "    title='Multi-Path Effect',\n",
    "    yaxis=dict(title='Amplitude (dB)'),\n",
    "    xaxis=dict(title='Range (m)'),\n",
    ")\n",
    "fig = go.Figure(data=[p_multi, p_single], layout=layout)\n",
    "# iplot(fig)\n",
    "display(SVG(fig.to_image(format='svg', scale=1)))"
   ]
  },
  {
   "cell_type": "code",
   "execution_count": null,
   "metadata": {},
   "outputs": [],
   "source": []
  }
 ],
 "metadata": {
  "kernelspec": {
   "display_name": "Python 3",
   "language": "python",
   "name": "python3"
  },
  "language_info": {
   "codemirror_mode": {
    "name": "ipython",
    "version": 3
   },
   "file_extension": ".py",
   "mimetype": "text/x-python",
   "name": "python",
   "nbconvert_exporter": "python",
   "pygments_lexer": "ipython3",
   "version": "3.9.4"
  },
  "varInspector": {
   "cols": {
    "lenName": 16,
    "lenType": 16,
    "lenVar": 40
   },
   "kernels_config": {
    "python": {
     "delete_cmd_postfix": "",
     "delete_cmd_prefix": "del ",
     "library": "var_list.py",
     "varRefreshCmd": "print(var_dic_list())"
    },
    "r": {
     "delete_cmd_postfix": ") ",
     "delete_cmd_prefix": "rm(",
     "library": "var_list.r",
     "varRefreshCmd": "cat(var_dic_list()) "
    }
   },
   "types_to_exclude": [
    "module",
    "function",
    "builtin_function_or_method",
    "instance",
    "_Feature"
   ],
   "window_display": false
  },
  "widgets": {
   "application/vnd.jupyter.widget-state+json": {
    "state": {},
    "version_major": 2,
    "version_minor": 0
   }
  }
 },
 "nbformat": 4,
 "nbformat_minor": 2
}
