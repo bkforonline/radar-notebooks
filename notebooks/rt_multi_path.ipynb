{
 "cells": [
  {
   "cell_type": "markdown",
   "metadata": {},
   "source": [
    "# Multi-Path Effect\n",
    "\n",
    "<a href=\"https://rookiepeng.github.io/radarsimpy/\" target=\"_blank\" rel=\"nofollow\"><img src=\"https://img.shields.io/badge/Documentation-latest-brightgree?style=flat&logo=read-the-docs\" height=\"20\" align=\"left\"></a>\n",
    "\n",
    "<br></br>\n",
    "This is an example of using [`RadarSimPy`](https://github.com/rookiepeng/radarsimpy) to simulate an FMCW radar with a corner reflector model above the ground surface.\n",
    "\n",
    "---\n",
    "\n",
    "## Setup FMCW radar\n",
    "\n",
    "### Transmitter\n",
    "\n",
    "Setup the basic transmitter parameters through `Transmitter` module.\n",
    "\n",
    "The following table lists the parameters in this example.\n",
    "\n",
    " | Parameter                       | Variable in `Transmitter`| Value                      |\n",
    " |---------------------------------|--------------------------|----------------------------|\n",
    " | Frequency ($f$)                 | `f`                      | [77e9-50e6, 77e9+50e6] GHz |\n",
    " | Time ($T$)                      | `t`                      | 40e-6 s                    |\n",
    " | Transmitted power ($P_t$)       | `tx_power`               | 15 dBm                     |\n",
    " | Pulse repetition period ($PRP$) | `prp`                    | 100 us                     |\n",
    " | Number of pulses                | `pulses`                 | 1                          |\n",
    "\n",
    "### Receiver\n",
    "\n",
    "Setup the receiver parameters through `Receiver` module.\n",
    "\n",
    "The parameters of the receiver are listed in the table below.\n",
    "\n",
    " | Parameter                        | Variable in `Receiver`   | Value        |\n",
    " |----------------------------------|--------------------------|--------------|\n",
    " | Sampling rate ($f_s$)            | `fs`                     | 4 Msps       |\n",
    " | Noise figure ($NF$)              | `noise_figure`           | 8 dB         |\n",
    " | RF gain/loss ($G_{rf}$)          | `rf_gain`                | 20 dB        |\n",
    " | Load resistor ($R_L$)            | `load_resistor`          | 1000 $\\Omega$|\n",
    " | Baseband voltage gain ($G_{BB}$) | `baseband_gain`          | 80 dB        |"
   ]
  },
  {
   "cell_type": "code",
   "execution_count": 1,
   "metadata": {},
   "outputs": [],
   "source": [
    "import numpy as np\n",
    "from radarsimpy import Radar, Transmitter, Receiver\n",
    "\n",
    "tx_channel = dict(\n",
    "    location=(0, 0, 0),\n",
    ")\n",
    "\n",
    "tx = Transmitter(f=[76.5e9-80e6, 76.5e9+80e6],\n",
    "                 t=20e-6,\n",
    "                 tx_power=15,\n",
    "                 prp=100e-6,\n",
    "                 pulses=1,\n",
    "                 channels=[tx_channel])\n",
    "\n",
    "\n",
    "rx_channel = dict(\n",
    "    location=(0, 0, 0),\n",
    ")\n",
    "\n",
    "rx = Receiver(fs=20e6,\n",
    "              noise_figure=8,\n",
    "              rf_gain=20,\n",
    "              load_resistor=1000,\n",
    "              baseband_gain=80,\n",
    "              channels=[rx_channel])\n",
    "\n",
    "radar = Radar(transmitter=tx, receiver=rx, time=np.arange(0, 290, 1))"
   ]
  },
  {
   "cell_type": "markdown",
   "metadata": {},
   "source": [
    "## Case 1: A corner reflector with ground surface"
   ]
  },
  {
   "cell_type": "code",
   "execution_count": 2,
   "metadata": {},
   "outputs": [],
   "source": [
    "from radarsimpy.rt import scene\n",
    "from scipy import signal\n",
    "import radarsimpy.processing as proc\n",
    "\n",
    "target_1 = {\n",
    "    'model': '../models/cr.stl',\n",
    "    'location': (10, 0, 0.0),\n",
    "    'speed': (1, 0, 0)\n",
    "}\n",
    "\n",
    "target_2 = {\n",
    "    'model': '../models/surface_400x400.stl',\n",
    "    'location': (0, 0, -0.5),\n",
    "    'speed': (0, 0, 0),\n",
    "    'permittivity': 3.2+0.1j,\n",
    "    'is_ground': True\n",
    "}\n",
    "targets = [target_1, target_2]\n",
    "\n",
    "data = scene(radar, targets, density=0.5, noise=False)\n",
    "baseband = data['baseband']\n",
    "\n",
    "range_window = signal.chebwin(radar.samples_per_pulse, at=60)\n",
    "range_profile = proc.cal_range_profile(radar, baseband, range_window)\n",
    "\n",
    "amp_multi = np.max(20*np.log10(np.abs(range_profile)), axis=2)"
   ]
  },
  {
   "cell_type": "markdown",
   "metadata": {},
   "source": [
    "## Case 2: A corner reflector without ground surface"
   ]
  },
  {
   "cell_type": "code",
   "execution_count": 3,
   "metadata": {
    "scrolled": true
   },
   "outputs": [],
   "source": [
    "target_1 = {\n",
    "    'model': '../models/cr.stl',\n",
    "    'location': (10, 0, 0),\n",
    "    'speed': (1, 0, 0)\n",
    "}\n",
    "\n",
    "targets = [target_1]\n",
    "\n",
    "data = scene(radar, targets, density=0.5, noise=False)\n",
    "baseband = data['baseband']\n",
    "\n",
    "range_window = signal.chebwin(radar.samples_per_pulse, at=60)\n",
    "range_profile = proc.cal_range_profile(radar, baseband, range_window)\n",
    "\n",
    "amp_single = np.max(20*np.log10(np.abs(range_profile)), axis=2)"
   ]
  },
  {
   "cell_type": "markdown",
   "metadata": {},
   "source": [
    "## Results\n",
    "\n",
    "Duo to the multi-path:\n",
    "- Path 1: Tx -> Corner reflecor -> Rx\n",
    "- Path 2: Tx -> Ground -> Corner reflecor -> Ground -> Rx\n",
    "\n",
    "A fluctuation can be observed from the received target amplitude versus the target range. "
   ]
  },
  {
   "cell_type": "code",
   "execution_count": 4,
   "metadata": {},
   "outputs": [
    {
     "data": {
      "image/svg+xml": [
       "<svg xmlns=\"http://www.w3.org/2000/svg\" xmlns:xlink=\"http://www.w3.org/1999/xlink\" class=\"main-svg\" width=\"700\" height=\"500\" style=\"\" viewBox=\"0 0 700 500\"><rect x=\"0\" y=\"0\" width=\"700\" height=\"500\" style=\"fill: rgb(255, 255, 255); fill-opacity: 1;\"/><defs id=\"defs-d406a7\"><g class=\"clips\"><clipPath id=\"clipd406a7xyplot\" class=\"plotclip\"><rect width=\"439\" height=\"320\"/></clipPath><clipPath class=\"axesclip\" id=\"clipd406a7x\"><rect x=\"80\" y=\"0\" width=\"439\" height=\"500\"/></clipPath><clipPath class=\"axesclip\" id=\"clipd406a7y\"><rect x=\"0\" y=\"100\" width=\"700\" height=\"320\"/></clipPath><clipPath class=\"axesclip\" id=\"clipd406a7xy\"><rect x=\"80\" y=\"100\" width=\"439\" height=\"320\"/></clipPath></g><g class=\"gradients\"/></defs><g class=\"bglayer\"><rect class=\"bg\" x=\"80\" y=\"100\" width=\"439\" height=\"320\" style=\"fill: rgb(229, 236, 246); fill-opacity: 1; stroke-width: 0;\"/></g><g class=\"layer-below\"><g class=\"imagelayer\"/><g class=\"shapelayer\"/></g><g class=\"cartesianlayer\"><g class=\"subplot xy\"><g class=\"layer-subplot\"><g class=\"shapelayer\"/><g class=\"imagelayer\"/></g><g class=\"gridlayer\"><g class=\"x\"><path class=\"xgrid crisp\" transform=\"translate(140.76,0)\" d=\"M0,100v320\" style=\"stroke: rgb(255, 255, 255); stroke-opacity: 1; stroke-width: 1px;\"/><path class=\"xgrid crisp\" transform=\"translate(216.71,0)\" d=\"M0,100v320\" style=\"stroke: rgb(255, 255, 255); stroke-opacity: 1; stroke-width: 1px;\"/><path class=\"xgrid crisp\" transform=\"translate(292.65999999999997,0)\" d=\"M0,100v320\" style=\"stroke: rgb(255, 255, 255); stroke-opacity: 1; stroke-width: 1px;\"/><path class=\"xgrid crisp\" transform=\"translate(368.62,0)\" d=\"M0,100v320\" style=\"stroke: rgb(255, 255, 255); stroke-opacity: 1; stroke-width: 1px;\"/><path class=\"xgrid crisp\" transform=\"translate(444.57,0)\" d=\"M0,100v320\" style=\"stroke: rgb(255, 255, 255); stroke-opacity: 1; stroke-width: 1px;\"/></g><g class=\"y\"><path class=\"ygrid crisp\" transform=\"translate(0,336.78999999999996)\" d=\"M80,0h439\" style=\"stroke: rgb(255, 255, 255); stroke-opacity: 1; stroke-width: 1px;\"/><path class=\"ygrid crisp\" transform=\"translate(0,290.72)\" d=\"M80,0h439\" style=\"stroke: rgb(255, 255, 255); stroke-opacity: 1; stroke-width: 1px;\"/><path class=\"ygrid crisp\" transform=\"translate(0,244.64)\" d=\"M80,0h439\" style=\"stroke: rgb(255, 255, 255); stroke-opacity: 1; stroke-width: 1px;\"/><path class=\"ygrid crisp\" transform=\"translate(0,198.56)\" d=\"M80,0h439\" style=\"stroke: rgb(255, 255, 255); stroke-opacity: 1; stroke-width: 1px;\"/><path class=\"ygrid crisp\" transform=\"translate(0,152.49)\" d=\"M80,0h439\" style=\"stroke: rgb(255, 255, 255); stroke-opacity: 1; stroke-width: 1px;\"/><path class=\"ygrid crisp\" transform=\"translate(0,106.41)\" d=\"M80,0h439\" style=\"stroke: rgb(255, 255, 255); stroke-opacity: 1; stroke-width: 1px;\"/></g></g><g class=\"zerolinelayer\"><path class=\"yzl zl crisp\" transform=\"translate(0,382.87)\" d=\"M80,0h439\" style=\"stroke: rgb(255, 255, 255); stroke-opacity: 1; stroke-width: 2px;\"/></g><path class=\"xlines-below\"/><path class=\"ylines-below\"/><g class=\"overlines-below\"/><g class=\"xaxislayer-below\"/><g class=\"yaxislayer-below\"/><g class=\"overaxes-below\"/><g class=\"plot\" transform=\"translate(80,100)\" clip-path=\"url('#clipd406a7xyplot')\"><g class=\"scatterlayer mlayer\"><g class=\"trace scatter traceec350f\" style=\"stroke-miterlimit: 2; opacity: 1;\"><g class=\"fills\"/><g class=\"errorbars\"/><g class=\"lines\"><path class=\"js-line\" d=\"M0,81.31L1.52,16L3.04,29.69L4.56,56.71L6.08,37.2L7.6,30.51L9.11,35.1L10.63,35.83L12.15,48.06L13.67,112.79L15.19,61.3L16.71,61.56L18.23,104.14L19.75,69.6L21.27,97.64L22.79,81.15L24.3,74.98L25.82,139.04L27.34,76.96L28.86,82.66L30.38,148.6L31.9,98.83L33.42,88.89L34.94,105.99L36.46,172.16L37.98,115.2L39.49,100.23L41.01,101.68L42.53,118.08L44.05,165.48L45.57,147.98L47.09,120.38L48.61,111.37L50.13,111.38L51.65,116.13L53.17,132.04L54.69,168.68L56.2,168.48L57.72,146.43L59.24,133.9L60.76,129.44L62.28,128.09L63.8,133.48L65.32,135.11L66.84,143.73L68.36,158.06L69.88,181.78L71.39,205.1L72.91,180.09L75.95,150.77L77.47,146.67L78.99,138.43L80.51,139.43L82.03,141.09L83.55,144.34L86.58,159.35L88.1,162.05L89.62,170.14L91.14,173.83L95.7,217.06L97.22,210.78L101.78,180.26L103.29,177.07L104.81,168.7L106.33,167.96L107.85,167.61L109.37,165.96L110.89,164.44L112.41,167.66L113.93,165.26L115.45,165.57L116.97,167.94L118.48,165.82L121.52,170.34L123.04,173.97L124.56,183.22L126.08,185.27L129.12,200.83L130.64,207.7L132.16,208.66L133.67,214.8L136.71,231.77L138.23,247.82L139.75,243.27L141.27,242.96L142.79,243.81L144.31,236.28L145.83,223.67L147.35,219.6L148.87,214.74L150.38,212.58L153.42,211.65L154.94,207.88L156.46,206.1L157.98,198.71L162.54,193.11L164.06,192.69L165.57,194.66L167.09,194.58L170.13,196.97L171.65,193.64L176.21,198.88L177.73,197.76L179.25,199.45L180.76,199.01L182.28,200.29L183.8,200.5L185.32,197.12L186.84,197.95L188.36,198.47L189.88,200.37L192.92,206.56L194.44,209.49L197.47,216.05L198.99,214.57L200.51,213.97L202.03,214.33L203.55,215.52L205.07,218.76L208.11,222.33L209.63,225.29L211.15,227.57L212.66,226.19L214.18,228.31L215.7,232.15L217.22,235.75L218.74,241.5L221.78,251.08L223.3,252.59L224.82,254.48L226.34,251.25L229.37,257.73L230.89,261.08L233.93,270.31L235.45,277.44L236.97,281.98L238.49,280.72L240.01,281.94L241.53,285.53L243.04,291.18L244.56,282L246.08,287.16L247.6,287.76L249.12,289.17L250.64,286.24L253.68,273.55L255.2,272.88L256.72,270.93L258.24,264.82L259.75,270.24L261.27,271.15L264.31,270.12L265.83,264.77L270.39,258.21L271.91,258.05L277.98,254.71L279.5,249.25L284.06,249.86L285.58,253.35L287.1,254.2L288.62,256.37L291.65,252.75L293.17,246.54L296.21,244.75L297.73,241.97L299.25,246.46L300.77,247.82L302.29,247.19L303.81,247.48L305.33,243.48L306.84,244.3L309.88,247.2L311.4,246.67L312.92,249.89L314.44,249.35L317.48,247.27L319,242.12L323.55,242.11L325.07,240.59L326.59,246.04L328.11,247.75L331.15,250.19L332.67,247.32L334.19,248.87L335.71,247.41L337.22,244.38L338.74,248.27L340.26,249.05L341.78,247.99L344.82,247.85L346.34,243.68L349.38,245.44L350.9,244.64L352.42,250.72L353.93,253.08L356.97,255.51L358.49,254.23L360.01,249.21L361.53,248.42L363.05,247.86L364.57,245.74L366.09,250.5L367.61,251.53L372.16,253.53L373.68,250.7L376.72,253.7L378.24,253.76L379.76,258.77L381.28,258.45L384.31,256.86L385.83,251.99L388.87,252.29L390.39,250.75L391.91,251.26L393.43,257.7L397.99,261.43L399.51,259.19L401.02,261.17L402.54,260.86L404.06,257.94L405.58,257.09L407.1,262.19L408.62,261.84L411.66,261.88L413.18,258.27L416.21,259.69L417.73,258.91L419.25,265.07L420.77,267.5L423.81,271.37L425.33,270.58L426.85,265.6L428.37,264.83L429.89,264.3L431.4,262.14L432.92,268.46L434.44,268.04L439,270.08\" style=\"vector-effect: non-scaling-stroke; fill: none; stroke: rgb(99, 110, 250); stroke-opacity: 1; stroke-width: 2px; opacity: 1;\"/></g><g class=\"points\"/><g class=\"text\"/></g><g class=\"trace scatter trace370580\" style=\"stroke-miterlimit: 2; opacity: 1;\"><g class=\"fills\"/><g class=\"errorbars\"/><g class=\"lines\"><path class=\"js-line\" d=\"M0,28.27L3.04,40.12L4.56,49.81L9.11,66.69L10.63,68.63L16.71,89.36L18.23,98.75L22.79,104.42L24.3,102.79L30.38,113.07L31.9,119.83L36.46,128.9L37.98,128.8L41.01,136.59L42.53,136.87L44.05,141.31L45.57,142.06L50.13,145.5L51.65,144.29L56.2,149.85L57.72,155.99L63.8,166.6L65.32,163.55L69.88,164.19L71.39,168.66L75.95,172.04L77.47,173.6L78.99,172.4L80.51,174.33L83.55,178.88L85.07,185.27L86.58,186.76L88.1,186.32L89.62,186.11L91.14,183.13L95.7,184.37L97.22,185.24L98.74,190.07L100.26,191.42L103.29,194.78L104.81,193.74L107.85,198.4L109.37,199.1L110.89,198.46L112.41,201.79L116.97,202.05L118.48,199.48L123.04,202.36L124.56,207.46L129.12,213.18L130.64,215.56L132.16,212.46L133.67,211.73L136.71,210.97L138.23,214.6L142.79,215.96L144.31,216.87L145.83,214.83L147.35,216.17L150.38,219.55L151.9,225.25L153.42,227.56L154.94,226.97L156.46,226.2L157.98,222.49L162.54,222.23L164.06,222.6L165.57,226.85L167.09,227.71L170.13,230.12L171.65,228.47L176.21,234.31L177.73,233.24L179.25,236.05L180.76,235.48L183.8,235.05L185.32,231.96L189.88,233.68L191.4,238.33L195.96,242.91L197.47,244.91L200.51,242.06L202.03,241.22L203.55,240.61L205.07,243.84L209.63,244.18L211.15,244.76L212.66,242.3L214.18,243.33L217.22,246.08L218.74,251.4L221.78,254.29L223.3,253.21L224.82,252.37L226.34,248.49L230.89,248.05L232.41,251.97L236.97,254.38L238.49,252.37L243.04,257.56L244.56,257.85L246.08,260.34L247.6,259.5L250.64,258.54L252.16,255.12L256.72,256.09L258.24,256.87L259.75,261.48L261.27,262.75L264.31,266.01L265.83,264.71L267.35,264.42L268.87,263.32L270.39,262.47L271.91,265.43L276.46,265.06L277.98,265.4L279.5,262.67L281.02,263.46L284.06,265.76L285.58,270.83L288.62,274.59L290.13,273.74L291.65,272.67L293.17,268.53L297.73,267.44L299.25,271.11L303.81,272.87L305.33,270.61L309.88,275.16L311.4,277.04L312.92,279.3L314.44,278.25L317.48,276.86L319,273.2L323.55,273.57L325.07,274.15L326.59,278.54L328.11,279.61L331.15,282.46L332.67,280.92L334.19,282.24L335.71,280.94L337.22,279.9L338.74,282.64L343.3,281.68L344.82,281.84L346.34,278.88L347.86,279.49L350.9,281.4L352.42,286.27L356.97,290.41L358.49,289.15L360.01,284.79L361.53,284L364.57,283.14L366.09,286.62L370.64,287.83L372.16,288.7L373.68,286.46L375.2,287.8L378.24,291.19L379.76,294.93L384.31,291.95L385.83,288.09L390.39,287.93L391.91,288.35L393.43,292.54L394.95,293.44L397.99,295.94L399.51,294.2L401.02,296.04L402.54,295.67L405.58,293.48L407.1,296.28L411.66,295.52L413.18,292.38L417.73,294.4L419.25,299.08L423.81,304L425.33,303.08L426.85,298.53L428.37,297.58L431.4,296.39L432.92,299.69L437.48,300.41L439,301.12\" style=\"vector-effect: non-scaling-stroke; fill: none; stroke: rgb(239, 85, 59); stroke-opacity: 1; stroke-width: 2px; opacity: 1;\"/></g><g class=\"points\"/><g class=\"text\"/></g></g></g><g class=\"overplot\"/><path class=\"xlines-above crisp\" d=\"M0,0\" style=\"fill: none;\"/><path class=\"ylines-above crisp\" d=\"M0,0\" style=\"fill: none;\"/><g class=\"overlines-above\"/><g class=\"xaxislayer-above\"><g class=\"xtick\"><text text-anchor=\"middle\" x=\"0\" y=\"433\" transform=\"translate(140.76,0)\" style=\"font-family: 'Open Sans', verdana, arial, sans-serif; font-size: 12px; fill: rgb(42, 63, 95); fill-opacity: 1; white-space: pre;\">50</text></g><g class=\"xtick\"><text text-anchor=\"middle\" x=\"0\" y=\"433\" transform=\"translate(216.71,0)\" style=\"font-family: 'Open Sans', verdana, arial, sans-serif; font-size: 12px; fill: rgb(42, 63, 95); fill-opacity: 1; white-space: pre;\">100</text></g><g class=\"xtick\"><text text-anchor=\"middle\" x=\"0\" y=\"433\" transform=\"translate(292.65999999999997,0)\" style=\"font-family: 'Open Sans', verdana, arial, sans-serif; font-size: 12px; fill: rgb(42, 63, 95); fill-opacity: 1; white-space: pre;\">150</text></g><g class=\"xtick\"><text text-anchor=\"middle\" x=\"0\" y=\"433\" transform=\"translate(368.62,0)\" style=\"font-family: 'Open Sans', verdana, arial, sans-serif; font-size: 12px; fill: rgb(42, 63, 95); fill-opacity: 1; white-space: pre;\">200</text></g><g class=\"xtick\"><text text-anchor=\"middle\" x=\"0\" y=\"433\" transform=\"translate(444.57,0)\" style=\"font-family: 'Open Sans', verdana, arial, sans-serif; font-size: 12px; fill: rgb(42, 63, 95); fill-opacity: 1; white-space: pre;\">250</text></g></g><g class=\"yaxislayer-above\"><g class=\"ytick\"><text text-anchor=\"end\" x=\"79\" y=\"4.199999999999999\" transform=\"translate(0,382.87)\" style=\"font-family: 'Open Sans', verdana, arial, sans-serif; font-size: 12px; fill: rgb(42, 63, 95); fill-opacity: 1; white-space: pre;\">0</text></g><g class=\"ytick\"><text text-anchor=\"end\" x=\"79\" y=\"4.199999999999999\" transform=\"translate(0,336.78999999999996)\" style=\"font-family: 'Open Sans', verdana, arial, sans-serif; font-size: 12px; fill: rgb(42, 63, 95); fill-opacity: 1; white-space: pre;\">10</text></g><g class=\"ytick\"><text text-anchor=\"end\" x=\"79\" y=\"4.199999999999999\" transform=\"translate(0,290.72)\" style=\"font-family: 'Open Sans', verdana, arial, sans-serif; font-size: 12px; fill: rgb(42, 63, 95); fill-opacity: 1; white-space: pre;\">20</text></g><g class=\"ytick\"><text text-anchor=\"end\" x=\"79\" y=\"4.199999999999999\" transform=\"translate(0,244.64)\" style=\"font-family: 'Open Sans', verdana, arial, sans-serif; font-size: 12px; fill: rgb(42, 63, 95); fill-opacity: 1; white-space: pre;\">30</text></g><g class=\"ytick\"><text text-anchor=\"end\" x=\"79\" y=\"4.199999999999999\" transform=\"translate(0,198.56)\" style=\"font-family: 'Open Sans', verdana, arial, sans-serif; font-size: 12px; fill: rgb(42, 63, 95); fill-opacity: 1; white-space: pre;\">40</text></g><g class=\"ytick\"><text text-anchor=\"end\" x=\"79\" y=\"4.199999999999999\" transform=\"translate(0,152.49)\" style=\"font-family: 'Open Sans', verdana, arial, sans-serif; font-size: 12px; fill: rgb(42, 63, 95); fill-opacity: 1; white-space: pre;\">50</text></g><g class=\"ytick\"><text text-anchor=\"end\" x=\"79\" y=\"4.199999999999999\" transform=\"translate(0,106.41)\" style=\"font-family: 'Open Sans', verdana, arial, sans-serif; font-size: 12px; fill: rgb(42, 63, 95); fill-opacity: 1; white-space: pre;\">60</text></g></g><g class=\"overaxes-above\"/></g></g><g class=\"polarlayer\"/><g class=\"ternarylayer\"/><g class=\"geolayer\"/><g class=\"funnelarealayer\"/><g class=\"pielayer\"/><g class=\"treemaplayer\"/><g class=\"sunburstlayer\"/><g class=\"glimages\"/><defs id=\"topdefs-d406a7\"><g class=\"clips\"/><clipPath id=\"legendd406a7\"><rect width=\"160\" height=\"48\" x=\"0\" y=\"0\"/></clipPath></defs><g class=\"layer-above\"><g class=\"imagelayer\"/><g class=\"shapelayer\"/></g><g class=\"infolayer\"><g class=\"legend\" pointer-events=\"all\" transform=\"translate(527.78,100)\"><rect class=\"bg\" shape-rendering=\"crispEdges\" style=\"stroke: rgb(68, 68, 68); stroke-opacity: 1; fill: rgb(255, 255, 255); fill-opacity: 1; stroke-width: 0px;\" width=\"160\" height=\"48\" x=\"0\" y=\"0\"/><g class=\"scrollbox\" transform=\"\" clip-path=\"url('#legendd406a7')\"><g class=\"groups\"><g class=\"traces\" transform=\"translate(0,14.5)\" style=\"opacity: 1;\"><text class=\"legendtext\" text-anchor=\"start\" x=\"40\" y=\"4.680000000000001\" style=\"font-family: 'Open Sans', verdana, arial, sans-serif; font-size: 12px; fill: rgb(42, 63, 95); fill-opacity: 1; white-space: pre;\">CR with Ground</text><g class=\"layers\" style=\"opacity: 1;\"><g class=\"legendfill\"/><g class=\"legendlines\"><path class=\"js-line\" d=\"M5,0h30\" style=\"fill: none; stroke: rgb(99, 110, 250); stroke-opacity: 1; stroke-width: 2px;\"/></g><g class=\"legendsymbols\"><g class=\"legendpoints\"/></g></g><rect class=\"legendtoggle\" x=\"0\" y=\"-9.5\" width=\"154.578125\" height=\"19\" style=\"fill: rgb(0, 0, 0); fill-opacity: 0;\"/></g><g class=\"traces\" transform=\"translate(0,33.5)\" style=\"opacity: 1;\"><text class=\"legendtext\" text-anchor=\"start\" x=\"40\" y=\"4.680000000000001\" style=\"font-family: 'Open Sans', verdana, arial, sans-serif; font-size: 12px; fill: rgb(42, 63, 95); fill-opacity: 1; white-space: pre;\">CR without Ground</text><g class=\"layers\" style=\"opacity: 1;\"><g class=\"legendfill\"/><g class=\"legendlines\"><path class=\"js-line\" d=\"M5,0h30\" style=\"fill: none; stroke: rgb(239, 85, 59); stroke-opacity: 1; stroke-width: 2px;\"/></g><g class=\"legendsymbols\"><g class=\"legendpoints\"/></g></g><rect class=\"legendtoggle\" x=\"0\" y=\"-9.5\" width=\"154.578125\" height=\"19\" style=\"fill: rgb(0, 0, 0); fill-opacity: 0;\"/></g></g></g><rect class=\"scrollbar\" rx=\"20\" ry=\"3\" width=\"0\" height=\"0\" style=\"fill: rgb(128, 139, 164); fill-opacity: 1;\" x=\"0\" y=\"0\"/></g><g class=\"g-gtitle\"><text class=\"gtitle\" x=\"35\" y=\"50\" text-anchor=\"start\" dy=\"0em\" style=\"font-family: 'Open Sans', verdana, arial, sans-serif; font-size: 17px; fill: rgb(42, 63, 95); opacity: 1; font-weight: normal; white-space: pre;\">Multi-Path Effect</text></g><g class=\"g-xtitle\"><text class=\"xtitle\" x=\"299.5\" y=\"460.8\" text-anchor=\"middle\" style=\"font-family: 'Open Sans', verdana, arial, sans-serif; font-size: 14px; fill: rgb(42, 63, 95); opacity: 1; font-weight: normal; white-space: pre;\">Range (m)</text></g><g class=\"g-ytitle\"><text class=\"ytitle\" transform=\"rotate(-90,38.934375,260)\" x=\"38.934375\" y=\"260\" text-anchor=\"middle\" style=\"font-family: 'Open Sans', verdana, arial, sans-serif; font-size: 14px; fill: rgb(42, 63, 95); opacity: 1; font-weight: normal; white-space: pre;\">Amplitude (dB)</text></g></g></svg>"
      ],
      "text/plain": [
       "<IPython.core.display.SVG object>"
      ]
     },
     "metadata": {},
     "output_type": "display_data"
    }
   ],
   "source": [
    "import plotly.graph_objs as go\n",
    "\n",
    "from IPython.display import SVG, display\n",
    "\n",
    "t_range = 10+np.arange(0, 290, 1)*1\n",
    "\n",
    "fig = go.Figure()\n",
    "\n",
    "fig.add_trace(go.Scatter(x=t_range, y=amp_multi[:, 0],\n",
    "                         name='CR with Ground'))\n",
    "fig.add_trace(go.Scatter(x=t_range, y=amp_single[:, 0],\n",
    "                         name='CR without Ground'))\n",
    "\n",
    "fig.update_layout(\n",
    "    title='Multi-Path Effect',\n",
    "    yaxis=dict(title='Amplitude (dB)'),\n",
    "    xaxis=dict(title='Range (m)'),\n",
    ")\n",
    "\n",
    "# fig.show()\n",
    "display(SVG(fig.to_image(format='svg', scale=1)))"
   ]
  },
  {
   "cell_type": "code",
   "execution_count": null,
   "metadata": {},
   "outputs": [],
   "source": []
  }
 ],
 "metadata": {
  "kernelspec": {
   "display_name": "Python 3",
   "language": "python",
   "name": "python3"
  },
  "language_info": {
   "codemirror_mode": {
    "name": "ipython",
    "version": 3
   },
   "file_extension": ".py",
   "mimetype": "text/x-python",
   "name": "python",
   "nbconvert_exporter": "python",
   "pygments_lexer": "ipython3",
   "version": "3.9.5"
  },
  "varInspector": {
   "cols": {
    "lenName": 16,
    "lenType": 16,
    "lenVar": 40
   },
   "kernels_config": {
    "python": {
     "delete_cmd_postfix": "",
     "delete_cmd_prefix": "del ",
     "library": "var_list.py",
     "varRefreshCmd": "print(var_dic_list())"
    },
    "r": {
     "delete_cmd_postfix": ") ",
     "delete_cmd_prefix": "rm(",
     "library": "var_list.r",
     "varRefreshCmd": "cat(var_dic_list()) "
    }
   },
   "types_to_exclude": [
    "module",
    "function",
    "builtin_function_or_method",
    "instance",
    "_Feature"
   ],
   "window_display": false
  },
  "widgets": {
   "application/vnd.jupyter.widget-state+json": {
    "state": {},
    "version_major": 2,
    "version_minor": 0
   }
  }
 },
 "nbformat": 4,
 "nbformat_minor": 4
}
